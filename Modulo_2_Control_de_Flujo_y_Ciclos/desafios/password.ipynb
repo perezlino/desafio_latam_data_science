{
 "cells": [
  {
   "cell_type": "markdown",
   "metadata": {},
   "source": [
    "### **Desafio \"Password\"**"
   ]
  },
  {
   "cell_type": "code",
   "execution_count": 2,
   "metadata": {},
   "outputs": [],
   "source": [
    "import getpass\n",
    "password = getpass.getpass(\"Ingrese la clave secreta: \")\n",
    "\n",
    "# En este caso definimos nuestro password como \"hola mundo\"\n",
    "# En este caso, mientras la contraseña no sea hola mundo,\n",
    "# seguirá solicitando la contraseña, pero esta vez con otro mensaje.\n",
    "\n",
    "while password != \"hola mundo\":\n",
    "\tpassword = getpass.getpass(\"La clave secreta es incorrecta. Intenta otra vez.\")"
   ]
  }
 ],
 "metadata": {
  "kernelspec": {
   "display_name": "base",
   "language": "python",
   "name": "python3"
  },
  "language_info": {
   "codemirror_mode": {
    "name": "ipython",
    "version": 3
   },
   "file_extension": ".py",
   "mimetype": "text/x-python",
   "name": "python",
   "nbconvert_exporter": "python",
   "pygments_lexer": "ipython3",
   "version": "3.9.5"
  }
 },
 "nbformat": 4,
 "nbformat_minor": 2
}
