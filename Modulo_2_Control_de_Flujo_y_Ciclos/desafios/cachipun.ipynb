{
 "cells": [
  {
   "cell_type": "markdown",
   "metadata": {},
   "source": [
    "### **Desafio \"Cachipun\"**"
   ]
  },
  {
   "cell_type": "code",
   "execution_count": 7,
   "metadata": {},
   "outputs": [
    {
     "name": "stdout",
     "output_type": "stream",
     "text": [
      "Has escogido piedra \n",
      "El computador jugó piedra \n",
      "Empataste!\n"
     ]
    }
   ],
   "source": [
    "import sys\n",
    "import random\n",
    "\n",
    "# Pasos\n",
    "\n",
    "# - Leer jugada\n",
    "#jugada = sys.argv[1].lower() <----------- Para ingresar los valores por consola por medio de un archivo .py\n",
    "jugada = input('Ingresa tu jugada: ').lower()\n",
    "\n",
    "# - Elegir la jugada random de la computadora\n",
    "sistema = ['piedra', 'papel', 'tijera']\n",
    " \n",
    "# Recogemos un valor aleatorio de la lista\n",
    "computador = random.choice(sistema)\n",
    "\n",
    "# - Verificar si la jugada es correcta\n",
    "# - Verificar si gane\n",
    "# - Verificar si empate\n",
    "# - Verificar si perdi (else)\n",
    "\n",
    "if jugada == 'papel' or 'piedra' or 'tijera':\n",
    "    print(f'Has escogido {jugada} \\nEl computador jugó {computador} ')\n",
    "    if (jugada == 'papel' and computador == 'piedra') or (jugada == 'tijera' and computador == 'papel'):\n",
    "        print('Ganaste!')\n",
    "    if (jugada == 'piedra' and computador == 'tijera'):\n",
    "        print('Ganaste!')    \n",
    "    elif jugada == computador:\n",
    "        print('Empataste!')    \n",
    "    else:\n",
    "        print('Perdiste')\n",
    "else:\n",
    "    print('Argumento invalido: Debe ser piedra, papel o tijera')        "
   ]
  }
 ],
 "metadata": {
  "kernelspec": {
   "display_name": "base",
   "language": "python",
   "name": "python3"
  },
  "language_info": {
   "codemirror_mode": {
    "name": "ipython",
    "version": 3
   },
   "file_extension": ".py",
   "mimetype": "text/x-python",
   "name": "python",
   "nbconvert_exporter": "python",
   "pygments_lexer": "ipython3",
   "version": "3.9.5"
  }
 },
 "nbformat": 4,
 "nbformat_minor": 2
}
