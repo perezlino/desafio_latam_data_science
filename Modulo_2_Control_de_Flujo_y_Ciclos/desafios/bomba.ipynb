{
 "cells": [
  {
   "cell_type": "markdown",
   "metadata": {},
   "source": [
    "### **Desafio \"La bomba de tiempo\"**"
   ]
  },
  {
   "cell_type": "code",
   "execution_count": 3,
   "metadata": {},
   "outputs": [
    {
     "name": "stdout",
     "output_type": "stream",
     "text": [
      "5\n",
      "4\n",
      "3\n",
      "2\n",
      "1\n",
      "Boom!\n"
     ]
    }
   ],
   "source": [
    "import sys\n",
    "# i = int(sys.argv[1]) # fijar valor inicial <----- Hacerlo por medio de un archivo .py y utilizar consola\n",
    "i = int(input('Ingrese cantidad de segundos: '))\n",
    "\n",
    "while i > 0:\n",
    "\tprint(i)\n",
    "\ti -= 1 # i irá decreciendo en 1 unidad.\n",
    "\n",
    "print('Boom!')"
   ]
  },
  {
   "cell_type": "code",
   "execution_count": 4,
   "metadata": {},
   "outputs": [
    {
     "name": "stdout",
     "output_type": "stream",
     "text": [
      "5\n",
      "4\n",
      "3\n",
      "2\n",
      "1\n",
      "BOOM!\n"
     ]
    }
   ],
   "source": [
    "import sys\n",
    "import time\n",
    "\n",
    "# i = int(sys.argv[1]) # fijar valor inicial <----- Hacerlo por medio de un archivo .py y utilizar consola\n",
    "i = int(input('Ingrese cantidad de segundos: '))\n",
    "\n",
    "while i > 0:\n",
    "\tprint(i)\n",
    "\ttime.sleep(1) # espera un segundo\n",
    "\ti -= 1 # i irá decreciendo en 1 unidad.\n",
    "\n",
    "print(\"BOOM!\") # al salir del ciclo la bomba explota."
   ]
  }
 ],
 "metadata": {
  "kernelspec": {
   "display_name": "base",
   "language": "python",
   "name": "python3"
  },
  "language_info": {
   "codemirror_mode": {
    "name": "ipython",
    "version": 3
   },
   "file_extension": ".py",
   "mimetype": "text/x-python",
   "name": "python",
   "nbconvert_exporter": "python",
   "pygments_lexer": "ipython3",
   "version": "3.9.5"
  }
 },
 "nbformat": 4,
 "nbformat_minor": 2
}
