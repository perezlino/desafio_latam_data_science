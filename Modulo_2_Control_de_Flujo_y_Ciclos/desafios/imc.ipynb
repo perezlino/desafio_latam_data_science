{
 "cells": [
  {
   "cell_type": "markdown",
   "metadata": {},
   "source": [
    "### **Desafio \"IMC\"**"
   ]
  },
  {
   "cell_type": "code",
   "execution_count": 2,
   "metadata": {},
   "outputs": [
    {
     "name": "stdout",
     "output_type": "stream",
     "text": [
      "Su IMC es 27.64\n",
      "La clasificación es Sobrepaso\n"
     ]
    }
   ],
   "source": [
    "import sys\n",
    "import random\n",
    "\n",
    "# Pasos\n",
    "\n",
    "# - Leer argumentos\n",
    "# peso = float(sys.argv[1]) <----------- Para ingresar los valores por consola por medio de un archivo .py\n",
    "# altura = float(sys.argv[2]) <----------- Para ingresar los valores por consola por medio de un archivo .py \n",
    "\n",
    "peso = float(input('Ingresa tu peso: '))\n",
    "altura = float(input('Ingresa tu altura: '))\n",
    "\n",
    "# Convertir cm a m\n",
    "altura = altura/100\n",
    " \n",
    "# Calcular el IMC\n",
    "imc = peso/(altura**2)\n",
    "\n",
    "# Verificar la clasificacion\n",
    "if imc >= 40:\n",
    "    clase = 'Obesidad grado 3'\n",
    "elif imc >= 35:\n",
    "    clase = 'Obesidad grado 2'    \n",
    "elif imc >= 30:\n",
    "    clase = 'Obesidad grado 1'    \n",
    "elif imc >= 25:\n",
    "    clase = 'Sobrepeso'    \n",
    "elif imc >= 18.5:\n",
    "    clase = 'Adecuado'  \n",
    "else:\n",
    "    clase = 'Bajo peso'               \n",
    "\n",
    "# Mostrar resultados\n",
    "print(f'Su IMC es {imc:.2f}')    \n",
    "print(f'La clasificación es {clase}')"
   ]
  }
 ],
 "metadata": {
  "kernelspec": {
   "display_name": "base",
   "language": "python",
   "name": "python3"
  },
  "language_info": {
   "codemirror_mode": {
    "name": "ipython",
    "version": 3
   },
   "file_extension": ".py",
   "mimetype": "text/x-python",
   "name": "python",
   "nbconvert_exporter": "python",
   "pygments_lexer": "ipython3",
   "version": "3.9.5"
  }
 },
 "nbformat": 4,
 "nbformat_minor": 2
}
