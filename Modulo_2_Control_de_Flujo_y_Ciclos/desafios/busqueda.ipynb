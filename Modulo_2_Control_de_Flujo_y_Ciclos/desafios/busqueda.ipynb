{
 "cells": [
  {
   "cell_type": "markdown",
   "metadata": {},
   "source": [
    "### **Desafio \"Búsqueda\"**"
   ]
  },
  {
   "cell_type": "code",
   "execution_count": 3,
   "metadata": {},
   "outputs": [
    {
     "name": "stdout",
     "output_type": "stream",
     "text": [
      "Elemento no encontrado\n",
      "Elemento no encontrado\n",
      "Elemento no encontrado\n",
      "Elemento no encontrado\n",
      "Elemento no encontrado\n",
      "Elemento no encontrado\n",
      "¡Elemento encontrado! Se terminará el ciclo\n",
      "Ha terminado el ciclo\n",
      "El elemento 2 se encontró en la posición 6\n"
     ]
    }
   ],
   "source": [
    "import random\n",
    "import sys\n",
    "\n",
    "# buscar = sys.argv[1] # número a buscar <----- Hacerlo por medio de un archivo .py y utilizar consola\n",
    "buscar = int(input('Ingrese un número: '))\n",
    "\n",
    "lista = [1,2,3,4,5,6,7,8,9,0]\n",
    "\n",
    "random.shuffle(lista)\n",
    "\n",
    "for position, elemento in enumerate(lista):\n",
    "\n",
    "\tif elemento == buscar:\n",
    "\t\tprint(\"¡Elemento encontrado! Se terminará el ciclo\")\n",
    "\t\tbreak\n",
    "\telse:\n",
    "\t\tprint('Elemento no encontrado')\n",
    "\n",
    "print('Ha terminado el ciclo')\n",
    "print(f'El elemento {buscar} se encontró en la posición {position}')\n"
   ]
  }
 ],
 "metadata": {
  "kernelspec": {
   "display_name": "base",
   "language": "python",
   "name": "python3"
  },
  "language_info": {
   "codemirror_mode": {
    "name": "ipython",
    "version": 3
   },
   "file_extension": ".py",
   "mimetype": "text/x-python",
   "name": "python",
   "nbconvert_exporter": "python",
   "pygments_lexer": "ipython3",
   "version": "3.9.5"
  }
 },
 "nbformat": 4,
 "nbformat_minor": 2
}
