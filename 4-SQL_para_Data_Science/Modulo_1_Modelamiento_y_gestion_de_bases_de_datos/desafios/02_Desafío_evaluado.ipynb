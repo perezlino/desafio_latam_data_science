{
 "cells": [
  {
   "cell_type": "markdown",
   "metadata": {},
   "source": [
    "### **Desafío evaluado**"
   ]
  },
  {
   "cell_type": "markdown",
   "metadata": {},
   "source": [
    "### **`Utilización de PostgresSQL desde consola`**"
   ]
  },
  {
   "cell_type": "markdown",
   "metadata": {},
   "source": [
    "1. Ingresamos el comando `psql -U nombre_de_usuario` e ingresamos la contraseña (`usuario`: postgres)\n",
    "2. Podemos revisar los usuarios que tienen acceso a nuestra base de datos con el comando `SELECT * FROM pg_user;`\n",
    "3. En la consola de PostgreSQL existen una serie de comandos que nos van a permitir conectarnos a bases de datos, listar tablas y usuarios.\n",
    "\n",
    "A continuación se presenta una tabla con los comandos más utilizados.\n",
    "\n",
    "|  Comando | Acción  |\n",
    "|---|---|\n",
    "| \\c  | Conectarse a una base de datos específica. Por ejemplo: `\\c biblioteca`  |\n",
    "| \\l | Listar todas las bases de datos existentes.  |\n",
    "| \\i | Correr un archivo .sql. Por ejemplo: `\\i p1.sql`  |\n",
    "| \\du  | Listar todos los usuarios existentes en el motor.  |\n",
    "| \\dt  | Listar todas las relaciones (o tablas) existentes en una base de datos específica.  |\n",
    "| \\d  | Listar todas las columnas de una tabla. Por ejemplo: `\\d libro`  |\n",
    "| \\ ?  | Listar todos los comandos que se pueden utilizar (pulsamos `q` para salirnos de la lista) |\n",
    "| \\ !   | Me permite correr codigos bash. Por ejemplo: `\\! cls`, `\\! dir` |\n",
    "| \\q  | Salir de la consola de PostgreSQL.  |"
   ]
  },
  {
   "cell_type": "markdown",
   "metadata": {},
   "source": [
    "### **`Desafio 1`**"
   ]
  },
  {
   "cell_type": "markdown",
   "metadata": {},
   "source": [
    "Crear una base de datos mediante PostgresSQL basándonos en los artistas más escuchados en Spotify del 2018, para eso, es necesario que usted cree las siguientes tablas con sus respectivos datos:\n",
    "\n",
    "- Artista\n",
    "    - nombre_artista\n",
    "    - fecha_de_nacimiento\n",
    "    - nacionalidad\n",
    "\n",
    "- Cancion\n",
    "    - titulo_cancion\n",
    "    - artista\n",
    "    - album\n",
    "    - numero_del_track\n",
    "\n",
    "- Album\n",
    "    - titulo_album\n",
    "    - artista\n",
    "    - anio"
   ]
  },
  {
   "cell_type": "markdown",
   "metadata": {},
   "source": [
    "1 - Creaci�n de Base de datos `Spotify`"
   ]
  },
  {
   "cell_type": "code",
   "execution_count": null,
   "metadata": {
    "vscode": {
     "languageId": "sql"
    }
   },
   "outputs": [],
   "source": [
    "CREATE DATABASE Spotify;"
   ]
  },
  {
   "cell_type": "markdown",
   "metadata": {},
   "source": [
    "Escogemos la base de datos:"
   ]
  },
  {
   "cell_type": "code",
   "execution_count": null,
   "metadata": {
    "vscode": {
     "languageId": "sql"
    }
   },
   "outputs": [],
   "source": [
    "\\c spotify"
   ]
  },
  {
   "cell_type": "markdown",
   "metadata": {},
   "source": [
    "2 - Creación tabla `artista`"
   ]
  },
  {
   "cell_type": "code",
   "execution_count": null,
   "metadata": {
    "vscode": {
     "languageId": "sql"
    }
   },
   "outputs": [],
   "source": [
    "CREATE TABLE artista(\n",
    "    id_artista INT,\n",
    "    nombre_artista VARCHAR(50) NOT NULL,\n",
    "    fecha_de_nacimiento DATE NOT NULL,\n",
    "    nacionalidad VARCHAR(50) NOT NULL,\n",
    "    PRIMARY KEY(id_artista)\n",
    ");"
   ]
  },
  {
   "cell_type": "markdown",
   "metadata": {},
   "source": [
    "Importamos los datos desde un CSV a la tabla en PostgresSQL:"
   ]
  },
  {
   "cell_type": "code",
   "execution_count": null,
   "metadata": {
    "vscode": {
     "languageId": "sql"
    }
   },
   "outputs": [],
   "source": [
    "COPY \n",
    "    artista(id_artista, nombre_artista, fecha_de_nacimiento, nacionalidad)\n",
    "FROM 'C:/github/desafio_latam_data_science/4-SQL_para_Data_Science/Modulo_1_Modelamiento_y_gestion_de_bases_de_datos/desafios/Artista.csv' \n",
    "DELIMITER ','\n",
    "CSV HEADER;"
   ]
  },
  {
   "cell_type": "markdown",
   "metadata": {},
   "source": [
    "3 - Creación tabla `album`"
   ]
  },
  {
   "cell_type": "code",
   "execution_count": null,
   "metadata": {
    "vscode": {
     "languageId": "sql"
    }
   },
   "outputs": [],
   "source": [
    "CREATE TABLE album(\n",
    "    id_album INT,\n",
    "    titulo_album VARCHAR(50) NOT NULL,\n",
    "    id_artista INT NOT NULL,\n",
    "    anio INT NOT NULL,\n",
    "    PRIMARY KEY(id_album),\n",
    "    FOREIGN KEY(id_artista) REFERENCES artista(id_artista)\n",
    ");"
   ]
  },
  {
   "cell_type": "markdown",
   "metadata": {},
   "source": [
    "Importamos los datos desde un CSV a la tabla en PostgresSQL:"
   ]
  },
  {
   "cell_type": "code",
   "execution_count": null,
   "metadata": {
    "vscode": {
     "languageId": "sql"
    }
   },
   "outputs": [],
   "source": [
    "COPY \n",
    "    album(id_album, titulo_album, id_artista, anio)\n",
    "FROM 'C:/github/desafio_latam_data_science/4-SQL_para_Data_Science/Modulo_1_Modelamiento_y_gestion_de_bases_de_datos/desafios/Album.csv' \n",
    "DELIMITER ','\n",
    "CSV HEADER;"
   ]
  },
  {
   "cell_type": "markdown",
   "metadata": {},
   "source": [
    "4 - Creación tabla `cancion`"
   ]
  },
  {
   "cell_type": "code",
   "execution_count": null,
   "metadata": {
    "vscode": {
     "languageId": "sql"
    }
   },
   "outputs": [],
   "source": [
    "CREATE TABLE cancion(\n",
    "    titulo_cancion VARCHAR(50) NOT NULL,\n",
    "    id_album INT NOT NULL,\n",
    "    numero_del_track INT NOT NULL,\n",
    "    PRIMARY KEY(id_album, numero_del_track),\n",
    "    FOREIGN KEY(id_album) REFERENCES album(id_album)    \n",
    ");"
   ]
  },
  {
   "cell_type": "markdown",
   "metadata": {},
   "source": [
    "Importamos los datos desde un CSV a la tabla en PostgresSQL:"
   ]
  },
  {
   "cell_type": "code",
   "execution_count": null,
   "metadata": {
    "vscode": {
     "languageId": "sql"
    }
   },
   "outputs": [],
   "source": [
    "COPY \n",
    "    cancion(titulo_cancion, id_album, numero_del_track)\n",
    "FROM 'C:/github/desafio_latam_data_science/4-SQL_para_Data_Science/Modulo_1_Modelamiento_y_gestion_de_bases_de_datos/desafios/Cancion.csv' \n",
    "DELIMITER ','\n",
    "CSV HEADER;"
   ]
  },
  {
   "cell_type": "markdown",
   "metadata": {},
   "source": [
    "### **`Desafío 2`**"
   ]
  },
  {
   "cell_type": "markdown",
   "metadata": {},
   "source": [
    "Ingrese los datos del archivo _Artistas_populares_2018_ a sus respectivas tablas y responda las siguientes consultas:"
   ]
  },
  {
   "cell_type": "markdown",
   "metadata": {},
   "source": [
    "1 - Canciones que salieron el año 2018"
   ]
  },
  {
   "cell_type": "code",
   "execution_count": null,
   "metadata": {
    "vscode": {
     "languageId": "sql"
    }
   },
   "outputs": [],
   "source": [
    "SELECT c.titulo_cancion, a.anio FROM cancion c LEFT JOIN album a ON c.id_album = a.id_album WHERE anio = 2018;"
   ]
  },
  {
   "cell_type": "markdown",
   "metadata": {},
   "source": [
    "2 - Albums y la nacionalidad de su artista"
   ]
  },
  {
   "cell_type": "code",
   "execution_count": null,
   "metadata": {
    "vscode": {
     "languageId": "sql"
    }
   },
   "outputs": [],
   "source": [
    "SELECT a.titulo_album, b.nacionalidad FROM album a LEFT JOIN artista b ON b.id_artista = a.id_artista;"
   ]
  },
  {
   "cell_type": "markdown",
   "metadata": {},
   "source": [
    "3 - Numero de track, cancion, album, año de lanzamiento y artista donde las canciones deberán estar ordenadas por año de lanzamiento del albúm, albúm y artista correspondiente"
   ]
  },
  {
   "cell_type": "code",
   "execution_count": null,
   "metadata": {
    "vscode": {
     "languageId": "sql"
    }
   },
   "outputs": [],
   "source": [
    "SELECT \n",
    "    c.numero_del_track,\n",
    "    c.titulo_cancion,\n",
    "    b.titulo_album, \n",
    "    b.anio, \n",
    "    a.nombre_artista \n",
    "FROM \n",
    "    cancion c\n",
    "LEFT JOIN \n",
    "    album b\n",
    "ON \n",
    "    b.id_album = c.id_album\n",
    "LEFT JOIN \n",
    "    artista a\n",
    "ON b.id_artista = a.id_artista;"
   ]
  }
 ],
 "metadata": {
  "language_info": {
   "name": "python"
  }
 },
 "nbformat": 4,
 "nbformat_minor": 2
}
