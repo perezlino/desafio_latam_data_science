{
 "cells": [
  {
   "cell_type": "markdown",
   "metadata": {},
   "source": [
    "### **Desafío guiado - Modelamiento y gestión de bases de datos**"
   ]
  },
  {
   "cell_type": "markdown",
   "metadata": {},
   "source": [
    "### **`Instalación de PostgresSQL`**"
   ]
  },
  {
   "cell_type": "markdown",
   "metadata": {},
   "source": [
    "Para utilizar PostgresSQL desde la consola de comando debemos:\n",
    "\n",
    "1. Buscamos `Editar las variables del entorno del sistema` > `Variables de entorno`\n",
    "2. En `Variables de usuario para Alfonso` escogemos `Path` e ingresamos la ruta `C:\\Program Files\\PostgreSQL\\15\\bin` (version de Postgres que tengo instalada)\n",
    "3. En `Variables del sistema` escogemos `Path` e ingresamos la ruta `C:\\Program Files\\PostgreSQL\\15\\bin` (version de Postgres que tengo instalada)"
   ]
  },
  {
   "cell_type": "markdown",
   "metadata": {},
   "source": [
    "### **`Utilización de PostgresSQL desde consola`**"
   ]
  },
  {
   "cell_type": "markdown",
   "metadata": {},
   "source": [
    "1. Ingresamos el comando `psql -U nombre_de_usuario` e ingresamos la contraseña (`usuario`: postgres)\n",
    "2. Podemos revisar los usuarios que tienen acceso a nuestra base de datos con el comando `SELECT * FROM pg_user;`\n",
    "3. En la consola de PostgreSQL existen una serie de comandos que nos van a permitir conectarnos a bases de datos, listar tablas y usuarios.\n",
    "\n",
    "A continuación se presenta una tabla con los comandos más utilizados.\n",
    "\n",
    "|  Comando | Acción  |\n",
    "|---|---|\n",
    "| \\c  | Conectarse a una base de datos específica. Por ejemplo: `\\c biblioteca`  |\n",
    "| \\l | Listar todas las bases de datos existentes.  |\n",
    "| \\i | Correr un archivo .sql. Por ejemplo: `\\i p1.sql`  |\n",
    "| \\du  | Listar todos los usuarios existentes en el motor.  |\n",
    "| \\dt  | Listar todas las relaciones (o tablas) existentes en una base de datos específica.  |\n",
    "| \\d  | Listar todas las columnas de una tabla. Por ejemplo: `\\d libro`  |\n",
    "| \\ ?  | Listar todos los comandos que se pueden utilizar (pulsamos `q` para salirnos de la lista) |\n",
    "| \\ !   | Me permite correr codigos bash. Por ejemplo: `\\! cls`, `\\! dir` |\n",
    "| \\q  | Salir de la consola de PostgreSQL.  |"
   ]
  },
  {
   "cell_type": "markdown",
   "metadata": {},
   "source": [
    "### **`Desafío 1`**"
   ]
  },
  {
   "cell_type": "markdown",
   "metadata": {},
   "source": [
    "1 - Cree la base de datos llamada `Biblioteca`"
   ]
  },
  {
   "cell_type": "code",
   "execution_count": null,
   "metadata": {
    "vscode": {
     "languageId": "sql"
    }
   },
   "outputs": [],
   "source": [
    "CREATE DATABASE Biblioteca;"
   ]
  },
  {
   "cell_type": "markdown",
   "metadata": {},
   "source": [
    "Escogemos la base de datos:"
   ]
  },
  {
   "cell_type": "code",
   "execution_count": null,
   "metadata": {
    "vscode": {
     "languageId": "sql"
    }
   },
   "outputs": [],
   "source": [
    "\\c biblioteca"
   ]
  },
  {
   "cell_type": "markdown",
   "metadata": {},
   "source": [
    "2 - En esta, cree la tabla `Libro`, cuyas campos seran _id_libro_ (clave primaria), _nombre_libro_, _autor_, _genero_"
   ]
  },
  {
   "cell_type": "code",
   "execution_count": null,
   "metadata": {
    "vscode": {
     "languageId": "sql"
    }
   },
   "outputs": [],
   "source": [
    "CREATE TABLE Libro(\n",
    "id_libro INT,\n",
    "nombre_libro VARCHAR(50),\n",
    "autor VARCHAR(50),\n",
    "genero VARCHAR(50),\n",
    "PRIMARY KEY(id_libro)\n",
    ");"
   ]
  },
  {
   "cell_type": "markdown",
   "metadata": {},
   "source": [
    "3 - Ingrese el libro llamado _Sapo y Sepo_, el resto de los datos debe inventarlos"
   ]
  },
  {
   "cell_type": "code",
   "execution_count": null,
   "metadata": {
    "vscode": {
     "languageId": "sql"
    }
   },
   "outputs": [],
   "source": [
    "INSERT INTO libro (id_libro, nombre_libro, autor, genero) VALUES (1, 'Sapo y Sepo', 'Arnold Lobel', 'Infantil');"
   ]
  },
  {
   "cell_type": "markdown",
   "metadata": {},
   "source": [
    "4 - Ingrese el libro llamado _La Metamorfosis_, el resto de los datos debe inventarlos"
   ]
  },
  {
   "cell_type": "code",
   "execution_count": null,
   "metadata": {
    "vscode": {
     "languageId": "sql"
    }
   },
   "outputs": [],
   "source": [
    "INSERT INTO libro (id_libro, nombre_libro, autor, genero) VALUES (2, 'La Mefamorfosis', 'Frank Kafka', 'Literatura');"
   ]
  },
  {
   "cell_type": "markdown",
   "metadata": {},
   "source": [
    "5 - Cree la tabla `​Prestamo​`, que contenga los campos _​id_prestamo_ (clave primaria), _id_libro_ (clave foranea referenciando a ​id_libro en ​Libro​), _​nombre_persona​_, _fecha_inicio​_ y _​fecha_termino​_."
   ]
  },
  {
   "cell_type": "code",
   "execution_count": null,
   "metadata": {
    "vscode": {
     "languageId": "sql"
    }
   },
   "outputs": [],
   "source": [
    "CREATE TABLE Prestamo(\n",
    "id_prestamo INT,\n",
    "id_libro INT,\n",
    "nombre_persona VARCHAR(50),\n",
    "fecha_inicio DATE,\n",
    "fecha_termino DATE,\n",
    "PRIMARY KEY(id_prestamo),\n",
    "FOREIGN KEY(id_libro) REFERENCES libro(id_libro)\n",
    ");"
   ]
  },
  {
   "cell_type": "markdown",
   "metadata": {},
   "source": [
    "6 - Añada la columna _​prestado​_ (booleano) a la tabla `​Libro​`"
   ]
  },
  {
   "cell_type": "code",
   "execution_count": null,
   "metadata": {
    "vscode": {
     "languageId": "sql"
    }
   },
   "outputs": [],
   "source": [
    "ALTER TABLE libro\n",
    "ADD prestado BOOLEAN DEFAULT(False);"
   ]
  },
  {
   "cell_type": "markdown",
   "metadata": {},
   "source": [
    "7 - Ingresar el estado de _​prestamo​_ de _Sapo y Sepo_"
   ]
  },
  {
   "cell_type": "code",
   "execution_count": null,
   "metadata": {
    "vscode": {
     "languageId": "sql"
    }
   },
   "outputs": [],
   "source": [
    "UPDATE libro \n",
    "SET prestado = True \n",
    "WHERE nombre_libro = 'Sapo y Sepo';"
   ]
  },
  {
   "cell_type": "markdown",
   "metadata": {},
   "source": [
    "8 - Ingresar el estado de _​prestamo​_ de _La Metamorfosis_"
   ]
  },
  {
   "cell_type": "code",
   "execution_count": null,
   "metadata": {
    "vscode": {
     "languageId": "sql"
    }
   },
   "outputs": [],
   "source": [
    "UPDATE libro \n",
    "SET prestado = True \n",
    "WHERE nombre_libro = 'La Mefamorfosis';"
   ]
  },
  {
   "cell_type": "markdown",
   "metadata": {},
   "source": [
    "9 - Ingrese 5 préstamos asociados a _Sapo y Sepo_"
   ]
  },
  {
   "cell_type": "code",
   "execution_count": null,
   "metadata": {
    "vscode": {
     "languageId": "sql"
    }
   },
   "outputs": [],
   "source": [
    "INSERT INTO prestamo (id_prestamo, id_libro, nombre_persona, fecha_inicio, fecha_termino) VALUES (1, 1, 'Alfonso Perez', '2020-11-01', '2020-11-05');\n",
    "INSERT INTO prestamo (id_prestamo, id_libro, nombre_persona, fecha_inicio, fecha_termino) VALUES (2, 1, 'Darling Arriagada', '2020-11-06', '2020-11-10');\n",
    "INSERT INTO prestamo (id_prestamo, id_libro, nombre_persona, fecha_inicio, fecha_termino) VALUES (3, 1, 'Jose Machuca', '2020-11-11', '2020-11-15');\n",
    "INSERT INTO prestamo (id_prestamo, id_libro, nombre_persona, fecha_inicio, fecha_termino) VALUES (4, 1, 'Pedro Pedrales', '2020-11-16', '2020-10-20');\n",
    "INSERT INTO prestamo (id_prestamo, id_libro, nombre_persona, fecha_inicio, fecha_termino) VALUES (5, 1, 'Matias Rios', '2021-11-21', '2021-11-25');"
   ]
  },
  {
   "cell_type": "markdown",
   "metadata": {},
   "source": [
    "10 - Ingrese 6 préstamos asociados a _La Metamorfosis_"
   ]
  },
  {
   "cell_type": "code",
   "execution_count": null,
   "metadata": {
    "vscode": {
     "languageId": "sql"
    }
   },
   "outputs": [],
   "source": [
    "INSERT INTO prestamo (id_prestamo, id_libro, nombre_persona, fecha_inicio, fecha_termino) VALUES (6, 2, 'Alfonso Perez', '2020-11-01', '2020-11-05');\n",
    "INSERT INTO prestamo (id_prestamo, id_libro, nombre_persona, fecha_inicio, fecha_termino) VALUES (7, 2, 'Darling Arriagada', '2020-11-06', '2020-11-10');\n",
    "INSERT INTO prestamo (id_prestamo, id_libro, nombre_persona, fecha_inicio, fecha_termino) VALUES (8, 2, 'Jose Machuca', '2020-11-11', '2020-11-15');\n",
    "INSERT INTO prestamo (id_prestamo, id_libro, nombre_persona, fecha_inicio, fecha_termino) VALUES (9, 2, 'Pedro Pedrales', '2020-11-16', '2020-10-20');\n",
    "INSERT INTO prestamo (id_prestamo, id_libro, nombre_persona, fecha_inicio, fecha_termino) VALUES (10, 2, 'Matias Rios', '2021-11-21', '2021-11-25');"
   ]
  },
  {
   "cell_type": "markdown",
   "metadata": {},
   "source": [
    "11 - Cree un nuevo libro"
   ]
  },
  {
   "cell_type": "code",
   "execution_count": null,
   "metadata": {
    "vscode": {
     "languageId": "sql"
    }
   },
   "outputs": [],
   "source": [
    "INSERT INTO libro (id_libro, nombre_libro, autor, genero) VALUES (3, 'Papelucho Historiador', 'Marcela Paz', 'Infantil');"
   ]
  },
  {
   "cell_type": "markdown",
   "metadata": {},
   "source": [
    "12 - Seleccione los libros y las personas quienes lo pidieron prestado (_​nombre_libro_ y _nombre_persona​_)."
   ]
  },
  {
   "cell_type": "code",
   "execution_count": null,
   "metadata": {
    "vscode": {
     "languageId": "sql"
    }
   },
   "outputs": [],
   "source": [
    "SELECT \n",
    "    l.nombre_libro, \n",
    "    l.autor, \n",
    "    l.genero, \n",
    "    p.nombre_persona \n",
    "FROM \n",
    "    libro l\n",
    "INNER JOIN \n",
    "    prestamo p\n",
    "ON l.id_libro = p.id_libro;"
   ]
  },
  {
   "cell_type": "markdown",
   "metadata": {},
   "source": [
    "13 - Seleccione todas las columnas de la tabla `​Prestamo` para los préstamos de _Sapo y Sepo_, ordenados decrecientemente por _​fecha_de_inicio​_"
   ]
  },
  {
   "cell_type": "code",
   "execution_count": null,
   "metadata": {
    "vscode": {
     "languageId": "sql"
    }
   },
   "outputs": [],
   "source": [
    "SELECT \n",
    "    * \n",
    "FROM \n",
    "    prestamo \n",
    "WHERE \n",
    "    id_libro=1 \n",
    "ORDER BY \n",
    "    fecha_inicio DESC;"
   ]
  }
 ],
 "metadata": {
  "language_info": {
   "name": "python"
  }
 },
 "nbformat": 4,
 "nbformat_minor": 2
}
