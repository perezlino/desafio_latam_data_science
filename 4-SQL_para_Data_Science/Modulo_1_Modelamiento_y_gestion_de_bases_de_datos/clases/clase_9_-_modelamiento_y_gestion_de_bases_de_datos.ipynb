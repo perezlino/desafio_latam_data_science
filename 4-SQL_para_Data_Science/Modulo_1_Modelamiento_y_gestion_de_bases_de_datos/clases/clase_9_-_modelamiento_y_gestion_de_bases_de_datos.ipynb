{
 "cells": [
  {
   "cell_type": "markdown",
   "metadata": {},
   "source": [
    "### **Clase 9 - Modelamiento y gestión de base de datos**"
   ]
  },
  {
   "cell_type": "markdown",
   "metadata": {},
   "source": [
    "### **`Introducción a PostgreSQL`**"
   ]
  },
  {
   "cell_type": "markdown",
   "metadata": {},
   "source": [
    "#### **1 - ¿Qué es SQL?**"
   ]
  },
  {
   "cell_type": "markdown",
   "metadata": {},
   "source": [
    "Structured Query Language (Lenguaje estructurado de consultas) es un lenguaje creado para la manipulación de bases de datos relacionales, el cual permite la creación y modificación de estas. El beneficio de esto es que facilita la administración de los datos almacenados."
   ]
  },
  {
   "cell_type": "markdown",
   "metadata": {},
   "source": [
    "##### **`Analicemos un caso cotidiano`**"
   ]
  },
  {
   "cell_type": "markdown",
   "metadata": {},
   "source": [
    "Imaginemos un directorio telefónico con los datos de todas las personas de una ciudad, pero queremos obtener el número de sólo una de ellas.\n",
    "\n",
    "-\t¿Qué es lo que hacemos para encontrarlo?\n",
    "Naturalmente, buscar en orden alfabético hasta encontrar el nombre de la persona, lo cual puede tomar bastante tiempo. Sin embargo, SQL nos da la facilidad de obtener rápidamente el número deseado.\n",
    "\n",
    "-\t¿Y qué pasaría si quisiéramos los números de todas las mujeres de la ciudad? ¿O de toda la gente que tenga edad entre los 20 y 30 años? ¿O incluso ambas condiciones juntas?\n",
    "\n",
    "SQL nos da la posibilidad de hacer este tipo de consultas, reduciendo el tiempo de ejecución en comparación a un humano realizando la misma tarea."
   ]
  },
  {
   "cell_type": "markdown",
   "metadata": {},
   "source": [
    "#### **2 - ¿Por qué PostgresSQL?**"
   ]
  },
  {
   "cell_type": "markdown",
   "metadata": {},
   "source": [
    "A lo largo de este módulo aprenderemos sobre la implementación de SQL mediante PostgreSQL. Esta es una herramienta utilizada para el manejo de las bases de datos. Lo que diferencia a este de otros sistemas es que permite implementar funciones de distintos lenguajes como C, C++, Java, entre otros. Al ser código abierto, puede ser modificado a gusto del usuario, acomodándose el uso a cualquier persona."
   ]
  },
  {
   "cell_type": "markdown",
   "metadata": {},
   "source": [
    "#### **3 - Instalación de PostgresSQL**"
   ]
  },
  {
   "cell_type": "markdown",
   "metadata": {},
   "source": [
    "Un aspecto a considerar es que la instalación de PostgreSQL dependerá del sistema operativo que estén ocupando.\n",
    "\n",
    "Para efectos prácticos, explicaremos los procesos de instalación para Windows, Linux y MacOS."
   ]
  },
  {
   "cell_type": "markdown",
   "metadata": {},
   "source": [
    "##### **`Descargar PostgreSQL`**"
   ]
  },
  {
   "cell_type": "markdown",
   "metadata": {},
   "source": [
    "1.\tEntrar a postgresql.org.\n",
    "2.\tElegir la versión para su sistema operativo.\n",
    "3.\tSeleccionar Download the installer.\n",
    "4.\tHacer click en Download en la versión que desea descargar.\n",
    "\n",
    "\n",
    "`Windows`\n",
    "\n",
    "1.\tAbrir el archivo instalador\n",
    "2.\tSeguir las instrucciones dadas.\n",
    "\n",
    "El puerto que se indica por defecto es el 5432, este será el que utilizaremos.\n",
    "\n",
    "\n",
    "`MACOSX`\n",
    "\n",
    "Existen múltiples instaladores que puedes encontrar en el siguiente link, sin embargo, el proceso es similar al de Windows, donde basta con seguir las instrucciones que brinda este mismo.\n",
    "\n",
    "\n",
    "`Linux`\n",
    "\n",
    "En el caso de Ubuntu se requieren más pasos intermedios:\n",
    "\n",
    "1.\tAgregar el repositorio donde se encuentran los archivos del lenguaje a nuestro sistema\toperativo. Debemos incorporar este repositorio en\tla\tcarpeta `/etc/apt/sources.list.d/pgdg.list`. Esto facilitará que cuando utilicemos el comando de instalación apt, éste sepa dónde buscar.\n"
   ]
  },
  {
   "cell_type": "code",
   "execution_count": null,
   "metadata": {
    "vscode": {
     "languageId": "shellscript"
    }
   },
   "outputs": [],
   "source": [
    "sudo sh -c \"echo 'deb http://apt.postgresql.org/pub/repos/apt/xenial-pgdg main' > /etc/apt/sources.list.d/pgdg.list\""
   ]
  },
  {
   "cell_type": "markdown",
   "metadata": {},
   "source": [
    "2.\tPosterior a la inclusión del repositorio de PostgreSQL a nuestro sources.list, debemos agregar la llave pública de PostgreSQL. Este paso permite que la transacción de información y paquetes esté validada como segura por el gestor de paquetes apt."
   ]
  },
  {
   "cell_type": "code",
   "execution_count": null,
   "metadata": {
    "vscode": {
     "languageId": "shellscript"
    }
   },
   "outputs": [],
   "source": [
    "wget --quiet -O - http://apt.postgresql.org/pub/repos/apt/ACCC4CF8.asc | sudo apt-key add -"
   ]
  },
  {
   "cell_type": "markdown",
   "metadata": {},
   "source": [
    "3.\tEl último paso es actualizar todos los paquetes que residen en la lista de repositorios mediante la siguiente línea de código:"
   ]
  },
  {
   "cell_type": "code",
   "execution_count": null,
   "metadata": {
    "vscode": {
     "languageId": "shellscript"
    }
   },
   "outputs": [],
   "source": [
    "sudo apt-get update"
   ]
  },
  {
   "cell_type": "markdown",
   "metadata": {},
   "source": [
    "Cabe destacar que los pasos anteriores son procedimentales para la correcta instalación de PostgreSQL. Las siguientes líneas de código son las que instalan el lenguaje en sí."
   ]
  },
  {
   "cell_type": "code",
   "execution_count": null,
   "metadata": {
    "vscode": {
     "languageId": "shellscript"
    }
   },
   "outputs": [],
   "source": [
    "sudo apt-get install postgresql-common\n",
    "sudo apt-get install postgresql-9.6 libpq-dev"
   ]
  },
  {
   "cell_type": "markdown",
   "metadata": {},
   "source": [
    "#### **4 - Configuración de PostgreSQL**"
   ]
  },
  {
   "cell_type": "markdown",
   "metadata": {},
   "source": [
    "##### **`Introducción`**"
   ]
  },
  {
   "cell_type": "markdown",
   "metadata": {},
   "source": [
    "-\tPara poder utilizar la consola de PostgresSQL, debemos abrir al SQL Shell.\n",
    "-\tAl abrirla, nos preguntará por Server, Database, Port y Username, estos tendrán un valor por defecto entre corchetes, bastará con apretar Enter para continuar.\n",
    "-\tLuego, nos pedirá la contraseña de Postgres, esta será la misma que indicamos en el instalador. La consola quedará lista para trabajar y usar comandos SQL."
   ]
  },
  {
   "cell_type": "markdown",
   "metadata": {},
   "source": [
    "##### **`Digresión: Algunas características de PostgreSQL`**"
   ]
  },
  {
   "cell_type": "markdown",
   "metadata": {},
   "source": [
    "En primer lugar, debemos dejar claro algunos puntos con respecto a la sintáxis de PostgreSQL:\n",
    "-\tLas instrucciones deben ser terminadas con el símbolo ;\n",
    "-\tExisten nombres restringidos para variables, ya que estos suelen ser comandos y pasa a ser fácil de confundir. Algunos comandos son:\n",
    "    -\tALIAS\n",
    "    -\tAND\n",
    "    -\tAS\n",
    "    -\tCREATE\n",
    "    -\tCREATEDB\n",
    "    -\tCREATEUSER\n",
    "    -\tDATABASE\n",
    "    -\tFROM\n",
    "    -\tINNER\n",
    "    -\tJOIN\n",
    "    -\tLARGE\n",
    "    -\tPASSWORD\n",
    "    -\tWHERE\n",
    "\n",
    "-\tExisten varios más aparte de estos, puede encontrarlos en la documentación de PostgreSQL.\n",
    "-\tNo es sensible a las letras minúsculas o mayúsculas, puedes escribir los comandos de cualquiera de estas formas y PostgreSQL lo reconocerá de igual forma.\n",
    "\n",
    "Para crear la base de datos, debemos usar la siguiente sintaxis:\n"
   ]
  },
  {
   "cell_type": "code",
   "execution_count": null,
   "metadata": {
    "vscode": {
     "languageId": "sql"
    }
   },
   "outputs": [],
   "source": [
    "CREATE DATABASE nombre_baseDeDatos;"
   ]
  },
  {
   "cell_type": "markdown",
   "metadata": {},
   "source": [
    "Esta nos permitirá alojar todas las tablas que generaremos posteriormente."
   ]
  },
  {
   "cell_type": "markdown",
   "metadata": {},
   "source": [
    "#### **5 - Administración de usuarios en PostgreSQL**"
   ]
  },
  {
   "cell_type": "markdown",
   "metadata": {},
   "source": [
    "A la hora de trabajar, más de una persona ocupa la información de una misma base de datos. PostgreSQL da la posibilidad de crear usuarios mediante la definición del rol administrador de base de datos. Este usuario con este rol será el encargado de asignar roles, los cuales van a definir el rango de acciones posibles para usuarios ordinarios; así como la creación/modificación/eliminación de tablas, revocación de roles/usuarios por nombrar algunas de las funcionalidades.\n",
    "\n",
    "Solamente los usuarios registrados van a poder acceder a la base de datos. Para poder crear un usuario, se utiliza la siguiente sintaxis:"
   ]
  },
  {
   "cell_type": "code",
   "execution_count": null,
   "metadata": {
    "vscode": {
     "languageId": "sql"
    }
   },
   "outputs": [],
   "source": [
    "CREATE USER nombre_usuario;"
   ]
  },
  {
   "cell_type": "markdown",
   "metadata": {},
   "source": [
    "Para ponerle algún límite a ese usuario, se debe hacer de a la siguiente forma:"
   ]
  },
  {
   "cell_type": "code",
   "execution_count": null,
   "metadata": {
    "vscode": {
     "languageId": "sql"
    }
   },
   "outputs": [],
   "source": [
    "CREATE USER nombre_usuario WITH comando_opcional;"
   ]
  },
  {
   "cell_type": "markdown",
   "metadata": {},
   "source": [
    "Donde algunos de los comandos posibles para comando_opcional son:\n",
    "\n",
    "-   `PASSWORD` : Le asigna una contraseña\n",
    "-\t`ENCRYPTED PASSWORD`: Le asigna una contraseña encriptada al usuario creado.\n",
    "-\t`UNENCRYPTED PASSWORD`: Le asigna una contraseña no encriptada al usuario creado.\n",
    "-\t`VALID UNTIL`: La cuenta expirará en la fecha indicada.\n",
    "-\t`CREATEDB`: Permite al usuario a crear bases de datos.\n",
    "-\t`NOCREATEDB`: No permite al usuario crear bases de datos.\n",
    "-\t`SUPERUSER`: Puede crear otros usuarios (volveremos a ver esto más adelante).\n",
    "-\t`NOSUPERUSER`: No puede crear otros usuarios."
   ]
  },
  {
   "cell_type": "markdown",
   "metadata": {},
   "source": [
    "Estos comandos pueden ser usados simultáneamente. Veamos un ejemplo de esto:"
   ]
  },
  {
   "cell_type": "code",
   "execution_count": null,
   "metadata": {
    "vscode": {
     "languageId": "sql"
    }
   },
   "outputs": [],
   "source": [
    "CREATE USER Bastian WITH PASSWORD 'contraseña_secreta' SUPERUSER VALID UNTIL 2019-12-31 CREATEDB;"
   ]
  },
  {
   "cell_type": "markdown",
   "metadata": {},
   "source": [
    "o simplemente:"
   ]
  },
  {
   "cell_type": "code",
   "execution_count": null,
   "metadata": {
    "vscode": {
     "languageId": "sql"
    }
   },
   "outputs": [],
   "source": [
    "CREATE USER Bastian PASSWORD 'contraseña_secreta' SUPERUSER VALID UNTIL 2019-12-31 CREATEDB;"
   ]
  },
  {
   "cell_type": "markdown",
   "metadata": {},
   "source": [
    "En este caso, nuestro usuario Bastián tendrá de contraseña contraseña_Secreta, su cuenta expirará el 31 de Diciembre del 2019 y tiene permiso para crear bases de datos.\n",
    "\n",
    "Para eliminar usuarios, sin tener que esperar la fecha de expiración, podemos usar el comando `DROP USER`:"
   ]
  },
  {
   "cell_type": "code",
   "execution_count": null,
   "metadata": {
    "vscode": {
     "languageId": "sql"
    }
   },
   "outputs": [],
   "source": [
    "DROP USER nombre_usuario;"
   ]
  },
  {
   "cell_type": "markdown",
   "metadata": {},
   "source": [
    "Habrán casos en que necesitemos saber cuales son todos los usuarios que tienen acceso a nuestra base de datos. Para esto, haremos lo siguiente:"
   ]
  },
  {
   "cell_type": "code",
   "execution_count": null,
   "metadata": {
    "vscode": {
     "languageId": "sql"
    }
   },
   "outputs": [],
   "source": [
    "SELECT * FROM pg_user;"
   ]
  },
  {
   "cell_type": "markdown",
   "metadata": {},
   "source": [
    "Donde pg_user es el catálogo que nos ayudará en nuestra búsqueda.\n",
    "\n",
    "A veces es necesario crear otro usuario que tenga todos los permisos además del administrador de la base de datos, lo que buscamos es crear un superuser. Esto lo hacemos de la siguiente forma:"
   ]
  },
  {
   "cell_type": "code",
   "execution_count": null,
   "metadata": {
    "vscode": {
     "languageId": "sql"
    }
   },
   "outputs": [],
   "source": [
    "CREATE USER nombre_usuario CREATEUSER;"
   ]
  },
  {
   "cell_type": "markdown",
   "metadata": {},
   "source": [
    "##### **`Operaciones comunes a nivel de consola`**"
   ]
  },
  {
   "cell_type": "markdown",
   "metadata": {},
   "source": [
    "En la consola de PostgreSQL existen una serie de comandos que nos van a permitir conectarnos a bases de datos, listar tablas y usuarios.\n",
    "\n",
    "A continuación se presenta una tabla con los comandos más utilizados.\n",
    "\n",
    "|  Comando | Acción  |\n",
    "|---|---|\n",
    "| \\c  | Conectarse a una base de datos específica. Por ejemplo: `\\c biblioteca`  |\n",
    "| \\l | Listar todas las bases de datos existentes.  |\n",
    "| \\i | Correr un archivo .sql. Por ejemplo: `\\i p1.sql`  |\n",
    "| \\du  | Listar todos los usuarios existentes en el motor.  |\n",
    "| \\dt  | Listar todas las relaciones (o tablas) existentes en una base de datos específica.  |\n",
    "| \\d  | Listar todas las columnas de una tabla. Por ejemplo: `\\d libro`  |\n",
    "| \\ ?  | Listar todos los comandos que se pueden utilizar (pulsamos `q` para salirnos de la lista) |\n",
    "| \\ !   | Me permite correr codigos bash. Por ejemplo: `\\! cls`, `\\! dir` |\n",
    "| \\q  | Salir de la consola de PostgreSQL.  |"
   ]
  },
  {
   "cell_type": "markdown",
   "metadata": {},
   "source": [
    "#### **6 - Elementos de una base de datos SQL**"
   ]
  },
  {
   "cell_type": "markdown",
   "metadata": {},
   "source": [
    "Una base de datos se compone de múltiples `tablas`. Cada una de éstas presentarán dos dimensiones: `filas`, que representan a los registros en la tabla; y `columnas`, que van a representar los atributos ingresados en cada registro, definiendo el tipo de dato a ingresar.\n",
    "\n",
    "Supongamos que deseamos crear un registro telefónico donde alojaremos el nombre, apellido, número telefónico, dirección y edad de una serie de individuos. Resulta que el registro en sí será la tabla `directorio_telefonico`, donde tendremos los campos `nombre`, `apellido`, `numero_telefonico`, `direccion`, y `edad`.\n",
    "\n",
    "Otro aspecto a considerar es el hecho que existen dos tipos de bases de datos: las `Relacionales` y las `No Relacionales`:\n",
    "\n",
    "-\tLas bases de datos `Relacionales` son aquellas compuestas por varias tablas donde se almacena la información, y posteriormente se relacionan entre sí.\n",
    "-\tLas bases de datos `No Relacionales` son aquellas que siguen esquemas más flexibles de organización, donde no necesariamente todas las entradas tienen la misma estructura.\n",
    "\n",
    "Un aspecto relevante a tomar en cuenta es que para implementar bases de datos relacionales, es necesario tener conocimiento previo sobre qué es lo que vamos a almacenar. Ante la falta de información sobre qué es lo que deseamos almacenar, el mejor enfoque es implementar una base de datos no relacional. Por ejemplo, si trabajamos con una serie de diccionarios anidados, será difícil almacenarlos en tablas.\n",
    "\n",
    "De manera adicional a las `filas` y `columnas`, las tablas también cuentan con `claves primarias` y `foráneas`. Estas buscan generar identificadores para cada registro mediante algún valor específico de una columna. Cuando hacemos referencia a esta columna dentro de su tabla de origen, hablaremos de una `clave primaria`. Cuando hacemos referencia a una columna identificadora en otra tabla a la cual hacemos referencia, hablamos de una clave foránea.\n",
    "\n",
    "Supongamos que en base a nuestra tabla `directorio_telefonico`, deseamos incorporar información de otra tabla llamada agenda que tiene las columnas `nick` y `numero_telefonico`. Ante esta situación, vamos a identificar que la columna `numero_telefonico` en la tabla `directorio_telefonico` será la `clave primaria` y la columna `numero_telefonico` en la tabla agenda corresponderá a la `clave foránea`. Este comportamiento es posible dado que el número registrado será congruente en ambas tablas.\n",
    " \n",
    "\n",
    "Una de las principales características del trabajo con bases de datos, es la necesidad de declarar los distintos tipos de datos existentes en cada campo a completar. Estos aplican restricciones sobre lo que puede ingresar a los registros. No podemos ingresar caracteres cuando piden un número, ni sobrepasar el límite de caracteres posibles. Los tipos de datos más comunes son:\n",
    "\n",
    "-\t`INT`: Números enteros de 4 bytes que pueden tomar valor desde -2147483648 hasta +2147483647.\n",
    "-\t`SMALLINT`: Números enteros de 2 bytes que pueden tomar valor desde -32768 hasta +32767.\n",
    "-\t`BIGINT`:\tNúmeros\tenteros\tde\t8\tbytes\tque\tpueden\ttomar\tvalor\tdesde -9223372036854775808 hasta 9223372036854775807.\n",
    "-\t`FLOAT`: Números decimales de 32 bit de precisión.\n",
    "-\t`DOUBLE`: Números decimales de 64 bit de precisión con hasta 15 dígitos decimales.\n",
    "-\t`CHAR`: Cadena de hasta 255 caracteres de longitud fija.\n",
    "-\t`VARCHAR`: Cadena de hasta 65.535 caracteres de longitud variable. A diferencia de CHAR, si no se ocupa toda la memoria, esta queda libre. CHAR ocupará toda la memoria solicitada.\n",
    "-\t`DATE`: Almacena fecha en formato aaaa-mm-dd. <año>-<mes>-<dia>.\n",
    "-\t`TIME`: Almacena en tiempo horario desde 00:00:00 hasta 24:00:00.\n",
    "-\t`TIMESTAMP`: Almacena fecha y hora juntos: yyyy-mm-dd hh:mm:ss.\n",
    "-\t`BOOLEAN`: Tiene 3 valores posibles: Verdadero, Falso o NULL. Estos pueden representarse para el caso Verdadero como 1, yes, t o true, y para el caso Falso como 0, no, false o f.\n"
   ]
  },
  {
   "cell_type": "markdown",
   "metadata": {},
   "source": [
    "#### **7 - Instrucciones de creación, inserción, actualización y eliminación de datos**"
   ]
  },
  {
   "cell_type": "markdown",
   "metadata": {},
   "source": [
    "Hasta el momento hemos trabajado con la definición de nuestras tablas a utilizar, y los campos a asignar.\n",
    "\n",
    "El proceso de vida de una tabla en una base de datos parte con el proceso de Crear, Insertar, Actualizar y Eliminar datos, que responde a las operaciones elementales que podemos realizar en una tabla."
   ]
  },
  {
   "cell_type": "markdown",
   "metadata": {},
   "source": [
    "##### **`Creación de tablas`**"
   ]
  },
  {
   "cell_type": "markdown",
   "metadata": {},
   "source": [
    "La primera tarea que debemos realizar es la creación de la tabla que permitirá almacenar la información en filas y columnas.\n",
    "\n",
    "Para crear una tabla dentro de nuestro motor, debemos utilizar el comando CREATE TABLE acompañado del nombre de la tabla y declarar los tipos de datos a ingresar entre paréntesis. La forma canónica de creación es la siguiente:"
   ]
  },
  {
   "cell_type": "code",
   "execution_count": null,
   "metadata": {
    "vscode": {
     "languageId": "sql"
    }
   },
   "outputs": [],
   "source": [
    "CREATE TABLE nombre_tabla( \n",
    "    columna1 tipo_de_dato1, \n",
    "    columna2 tipo_de_dato2, \n",
    "    columna3 tipo_de_dato3);"
   ]
  },
  {
   "cell_type": "markdown",
   "metadata": {},
   "source": [
    "Volviendo a nuestro ejemplo, vamos a crear la tabla `directorio_telefonico` con los campos `nombre`, `apellido`, `numeroTelefonico` y `edad`. Las líneas precedidas por `--` representan comentarios específicos sobre cada línea del código."
   ]
  },
  {
   "cell_type": "code",
   "execution_count": null,
   "metadata": {
    "vscode": {
     "languageId": "sql"
    }
   },
   "outputs": [],
   "source": [
    "-- Creamos una tabla con el nombre directorio_telefonico\n",
    "CREATE TABLE Directorio_telefonico(\n",
    "    -- Definimos el campo nombre con el tipo de dato cadena con un largo de 25 caracteres.\n",
    "    nombre VARCHAR(25),\n",
    "    -- Definimos el campo apellido con el tipo de dato cadena con un largo de 25 caracteres.\n",
    "    apellido VARCHAR(25),\n",
    "    -- Definimos el campo numeroTelefonico con el tipo de dato cadena con un largo de 25 caracteres.\n",
    "    numeroTelefonico VARCHAR(8),\n",
    "    -- Definimos el campo dirección con el tipo de dato cadena con un largo de 25 caracteres.\n",
    "    direccion VARCHAR(255),\n",
    "    -- Definimos el campo edad con el tipo de dato entero \n",
    "    edad INT,\n",
    "    -- Definimos que el campo numeroTelefonico representará la clave primaria de la tabla.\n",
    "    PRIMARY KEY (numeroTelefonico)\n",
    ");"
   ]
  },
  {
   "cell_type": "markdown",
   "metadata": {},
   "source": [
    "| nombre  | apellido  | numeroTelefonico  | direccion  |\n",
    "|---|---|---|---|\n",
    "|   |   |   |   |"
   ]
  },
  {
   "cell_type": "markdown",
   "metadata": {},
   "source": [
    "#### **8 - Definición de una clave foránea**"
   ]
  },
  {
   "cell_type": "markdown",
   "metadata": {},
   "source": [
    "Por ahora, nuestra tabla tiene la siguiente estructura, la cual carece de registros específicos.\n",
    "\n",
    "Posterior a la creación de ésta, definiremos los componentes de la segunda tabla, agenda con el campo `numeroTelefonico` y asignaremos una clave foránea proveniente de la tabla `directorio_telefonico`."
   ]
  },
  {
   "cell_type": "code",
   "execution_count": null,
   "metadata": {
    "vscode": {
     "languageId": "sql"
    }
   },
   "outputs": [],
   "source": [
    "-- Creamos una tabla con el nombre agenda\n",
    "CREATE TABLE Agenda(\n",
    "    -- Definimos el campo numeroTelefonico con el tipo de dato cadena con un largo de 8 caracteres.\n",
    "    numeroTelefonico VARCHAR(8),\n",
    "    -- Vinculamos una clave foránea entre nuestra columna numeroTelefonico y su simil en la tabla directorio_telefonico\n",
    "    FOREIGN KEY (numeroTelefonico) REFERENCES Directorio_telefonico(numeroTelefonico)\n",
    ");"
   ]
  },
  {
   "cell_type": "markdown",
   "metadata": {},
   "source": [
    "Profundizemos sobre la última instrucción. La forma canónica de implementar una clave foránea responde a los siguientes componentes:"
   ]
  },
  {
   "cell_type": "code",
   "execution_count": null,
   "metadata": {
    "vscode": {
     "languageId": "sql"
    }
   },
   "outputs": [],
   "source": [
    "-- Explicitamos el tipo de relación a crear en esta tabla \n",
    "FOREIGN KEY\n",
    "-- Definimos la columna a referenciar \n",
    "(columna a referenciar en la tabla)\n",
    "-- Ahora con REFERENCES vamos a apuntar a la otra tabla donde se generará la dependencia.\n",
    "REFERENCES\n",
    "-- Posterior a la instrucción REFERENCES, indicamos la tabla y la columna específica\n",
    "Directorio_telefonico(numeroTelefonico)"
   ]
  },
  {
   "cell_type": "markdown",
   "metadata": {},
   "source": [
    "De manera similar, nuestra tabla agenda no contiene registros por el momento.\n",
    "\n",
    "| nick  | numeroTelefonico  |\n",
    "|---|---|\n",
    "|   |   |"
   ]
  },
  {
   "cell_type": "markdown",
   "metadata": {},
   "source": [
    "#### **9 - Inserción de datos en una tabla**"
   ]
  },
  {
   "cell_type": "markdown",
   "metadata": {},
   "source": [
    "Para que una base de datos sea útil, como dice su nombre, debe contener datos.\n",
    "\n",
    "Es por esto que existe el comando `INSERT`, en el cual se indica la tabla a la que se agregarán datos, los tipos de datos que esta contiene, y los valores que queremos ingresar en el registro. Esto es un proceso ordenado, y debemos especificar a qué fila pertenecen los datos que estamos ingresando.\n",
    "\n",
    "Si no usáramos un orden claro, la tabla perdería su estructura, se nos haría imposible obtener la información buscada y la base de datos perdería su utilidad. La forma canónica de la instrucción `INSERT` es la siguiente:"
   ]
  },
  {
   "cell_type": "code",
   "execution_count": null,
   "metadata": {
    "vscode": {
     "languageId": "sql"
    }
   },
   "outputs": [],
   "source": [
    "INSERT INTO nombre_tabla (columna1, columna2, columna3) VALUES (valor1, valor2, valor3);\n",
    "\n",
    "Por ejemplo, ingresaremos un registro a las tablas Directorio_telefónico y Agenda:\n",
    "-- Definimos qué tabla vamos a insertar datos\n",
    "-- Explicitamos cuáles son las columnas a insertar (nombre, apellido, numeroTelefonico, direccion, edad)\n",
    "-- Con la instrucción VALUES logramos asociada cada columna con un valor específico\n",
    "INSERT INTO Directorio_telefonico (nombre, apellido, numeroTelefonico, direccion, edad) VALUES ('Pedro', 'Arriagada', '38472940' , 'Valdivia', 23);\n",
    "INSERT INTO Directorio_telefonico (nombre, apellido, numeroTelefonico, direccion, edad) VALUES ('Matias', 'Valenzuela', '38473623' , 'Nogales', 22);\n",
    "INSERT INTO Directorio_telefonico (nombre, apellido, numeroTelefonico, direccion, edad) VALUES ('Cristobal', 'Missana', '43423244' , 'Con Con', 20);\n",
    "INSERT INTO Directorio_telefonico (nombre, apellido, numeroTelefonico, direccion, edad) VALUES ('Javiera', 'Arce', '94367238' , 'Quilpue', 20);\n",
    "INSERT INTO Directorio_telefonico (nombre, apellido, numeroTelefonico, direccion, edad) VALUES ('Farid', 'Zalaquett', '32876523' , 'La Florida', 20);\n",
    "INSERT INTO Directorio_telefonico (nombre, apellido, numeroTelefonico, direccion, edad) VALUES ('Daniel', 'Hebel', '43683283' , 'San Bernardo', 20);\n",
    "INSERT INTO Directorio_telefonico (nombre, apellido, numeroTelefonico, direccion, edad) VALUES ('Bastian', 'Quezada', '32344242' , 'Los Angeles', 22);\n",
    "INSERT INTO Directorio_telefonico (nombre, apellido, numeroTelefonico, direccion, edad) VALUES ('Fabian', 'Salas', '32846352' , 'Playa Ancha', 21);\n",
    "INSERT INTO Directorio_telefonico (nombre, apellido, numeroTelefonico, direccion, edad) VALUES ('John', 'Rodriguez', '23764362' , 'Constitucion', 21);\n",
    "INSERT INTO Directorio_telefonico (nombre, apellido, numeroTelefonico, direccion, edad) VALUES ('Braulio', 'Fuentes', '23781363' , 'Rancagua', 19);\n",
    "INSERT INTO Directorio_telefonico (nombre, apellido, numeroTelefonico, direccion, edad) VALUES ('Juan', 'Perez', '12345678' , 'Villa Pajaritos', 21);\n",
    "\n",
    "-- Realicemos el mismo procedimiento en la tabla Agenda \n",
    "INSERT INTO Agenda (nick, numeroTelefonico) VALUES ('Juanito', '12345678');"
   ]
  },
  {
   "cell_type": "markdown",
   "metadata": {},
   "source": [
    "Suponiendo que la tabla ya tiene los datos del ejemplo de la sección Elementos de una base de datos SQL, esto se ve de esta manera:\n",
    "\n",
    "| nombre  | apellido  | numeroTelefonico  | direccion  | edad  |\n",
    "|---|---|---|---|---|\n",
    "| 'Pedro'  | 'Arriagada'  | '38472940'  | 'Valdivia'  | 23  |\n",
    "| 'Matias'  | 'Valenzuela'  | '38473623'  | 'Nogales'  | 22  |\n",
    "| 'Cristobal'  | 'Missana'  | '43423244'  | 'Con Con'  | 20  |\n",
    "| 'Javiera'  | 'Arce'  | '94367238'  | 'Quilpue'  | 20  |\n",
    "| 'Farid'  | 'Zalaquett'  | '32876523'  | 'La Florida'  | 20  |\n",
    "| 'Daniel'  | 'Hebel'  | '43683283'  | 'San Bernardo'  | 20  |\n",
    "| 'Bastian'  | 'Quezada'  | '32344242'  | 'Los Angeles'  | 22  |\n",
    "| 'Fabian'  | 'Salas'  | '32846352'  | 'Playa Ancha'  | 21  |\n",
    "| 'John'  | 'Rodriguez'  | '23764362'  | 'Constitucion'  | 21  |\n",
    "| 'Braulio'  | 'Fuentes'  | '23781363'  | 'Rancagua'  | 19  |\n",
    "| 'Juan'  | 'Perez'  | '12345678'  | 'Villa Pajaritos'  | 21  |"
   ]
  },
  {
   "cell_type": "markdown",
   "metadata": {},
   "source": [
    "| nick  | numeroTelefonico  |\n",
    "|---|---|\n",
    "| 'Peter'  | '38472940'  |\n",
    "| 'Mati'  | '38473623'  |\n",
    "| 'Cris'  | '43423244'  |\n",
    "| 'Javi'  | '94367238'  |\n",
    "| 'Farid'  | '32876523'  |\n",
    "| 'Dani'  | '43683283'  |\n",
    "| 'Basti'  | '32344242'  |\n",
    "| 'Fabi'  | '32846352'  |\n",
    "| 'John'  | '23764362'  |\n",
    "| 'Braulio'  | '23781363'  |\n",
    "| 'Juanito'  | '12345678'  |"
   ]
  },
  {
   "cell_type": "markdown",
   "metadata": {},
   "source": [
    "Como podemos observar, no podemos llegar e ingresar cualquier dato, sino los que les corresponden a Juan, ya que de lo contrario, los resultados de las búsquedas no serían correctas."
   ]
  },
  {
   "cell_type": "markdown",
   "metadata": {},
   "source": [
    "##### **`Actualización`**"
   ]
  },
  {
   "cell_type": "markdown",
   "metadata": {},
   "source": [
    "A veces nos vemos en la necesidad de cambiar los registros ya existentes, sin embargo, es riesgoso borrarlos e ingresarlos de nuevo (más adelante explicaremos esto). Si queremos actualizar los datos de un registro, debemos usar el comando `UPDATE` de la siguiente forma:"
   ]
  },
  {
   "cell_type": "code",
   "execution_count": null,
   "metadata": {
    "vscode": {
     "languageId": "sql"
    }
   },
   "outputs": [],
   "source": [
    "UPDATE Tabla \n",
    "SET columna1=valor_nuevo \n",
    "WHERE condicion;"
   ]
  },
  {
   "cell_type": "markdown",
   "metadata": {},
   "source": [
    "Juan se cambió de casa a Villa Los Leones, por lo que tendremos que actualizar la tabla Directorio_telefónico:"
   ]
  },
  {
   "cell_type": "code",
   "execution_count": null,
   "metadata": {
    "vscode": {
     "languageId": "sql"
    }
   },
   "outputs": [],
   "source": [
    "-- definimos la instrucción UPDATE en la tabla directorio_telefonico\n",
    "UPDATE Directorio_telefonico\n",
    "-- Declaramos que modificaremos el valor de dirección\n",
    "SET direccion='Villa Los Leones'\n",
    "-- Definimos a qué registro específico afectará la instrucción.\n",
    "WHERE nombre='Juan';"
   ]
  },
  {
   "cell_type": "markdown",
   "metadata": {},
   "source": [
    "| nombre  | apellido  | numeroTelefonico  | direccion  | edad  |\n",
    "|---|---|---|---|---|\n",
    "| 'Pedro'  | 'Arriagada'  | '38472940'  | 'Valdivia'  | 23  |\n",
    "| 'Matias'  | 'Valenzuela'  | '38473623'  | 'Nogales'  | 22  |\n",
    "| 'Cristobal'  | 'Missana'  | '43423244'  | 'Con Con'  | 20  |\n",
    "| 'Javiera'  | 'Arce'  | '94367238'  | 'Quilpue'  | 20  |\n",
    "| 'Farid'  | 'Zalaquett'  | '32876523'  | 'La Florida'  | 20  |\n",
    "| 'Daniel'  | 'Hebel'  | '43683283'  | 'San Bernardo'  | 20  |\n",
    "| 'Bastian'  | 'Quezada'  | '32344242'  | 'Los Angeles'  | 22  |\n",
    "| 'Fabian'  | 'Salas'  | '32846352'  | 'Playa Ancha'  | 21  |\n",
    "| 'John'  | 'Rodriguez'  | '23764362'  | 'Constitucion'  | 21  |\n",
    "| 'Braulio'  | 'Fuentes'  | '23781363'  | 'Rancagua'  | 19  |\n",
    "| 'Juan'  | 'Perez'  | '12345678'  | 'Villa Los Leones'  | 21  |"
   ]
  },
  {
   "cell_type": "markdown",
   "metadata": {},
   "source": [
    "##### **`Eliminación`**"
   ]
  },
  {
   "cell_type": "markdown",
   "metadata": {},
   "source": [
    "Cuando estamos completamente seguros de que queremos eliminar un registro de una tabla, o incluso la tabla completa, y que de verdad estamos seguro de que la condición que usamos es la correcta, podemos utilizar el comando `DELETE`. Este lo que hace es eliminar uno, varios o todos los registros de la tabla según la condición dada. La sintaxis para eliminar toda la tabla es:"
   ]
  },
  {
   "cell_type": "code",
   "execution_count": null,
   "metadata": {
    "vscode": {
     "languageId": "sql"
    }
   },
   "outputs": [],
   "source": [
    "DELETE FROM tabla;"
   ]
  },
  {
   "cell_type": "markdown",
   "metadata": {},
   "source": [
    "Para poder seleccionar que registros queremos borrar debemos hacerlo de la siguiente forma:"
   ]
  },
  {
   "cell_type": "code",
   "execution_count": null,
   "metadata": {
    "vscode": {
     "languageId": "sql"
    }
   },
   "outputs": [],
   "source": [
    "DELETE FROM tabla WHERE condicion;"
   ]
  },
  {
   "cell_type": "markdown",
   "metadata": {},
   "source": [
    "En nuestro ejemplo, eliminaremos a Juan de la tabla de la siguiente forma:"
   ]
  },
  {
   "cell_type": "code",
   "execution_count": null,
   "metadata": {
    "vscode": {
     "languageId": "sql"
    }
   },
   "outputs": [],
   "source": [
    "DELETE FROM Directorio_telefonico WHERE nombre='Juan';"
   ]
  },
  {
   "cell_type": "markdown",
   "metadata": {},
   "source": [
    "| nombre  | apellido  | numeroTelefonico  | direccion  | edad  |\n",
    "|---|---|---|---|---|\n",
    "| 'Pedro'  | 'Arriagada'  | '38472940'  | 'Valdivia'  | 23  |\n",
    "| 'Matias'  | 'Valenzuela'  | '38473623'  | 'Nogales'  | 22  |\n",
    "| 'Cristobal'  | 'Missana'  | '43423244'  | 'Con Con'  | 20  |\n",
    "| 'Javiera'  | 'Arce'  | '94367238'  | 'Quilpue'  | 20  |\n",
    "| 'Farid'  | 'Zalaquett'  | '32876523'  | 'La Florida'  | 20  |\n",
    "| 'Daniel'  | 'Hebel'  | '43683283'  | 'San Bernardo'  | 20  |\n",
    "| 'Bastian'  | 'Quezada'  | '32344242'  | 'Los Angeles'  | 22  |\n",
    "| 'Fabian'  | 'Salas'  | '32846352'  | 'Playa Ancha'  | 21  |\n",
    "| 'John'  | 'Rodriguez'  | '23764362'  | 'Constitucion'  | 21  |\n",
    "| 'Braulio'  | 'Fuentes'  | '23781363'  | 'Rancagua'  | 19  |"
   ]
  },
  {
   "cell_type": "markdown",
   "metadata": {},
   "source": [
    "Y para borrar todos los datos de la tabla:"
   ]
  },
  {
   "cell_type": "code",
   "execution_count": null,
   "metadata": {
    "vscode": {
     "languageId": "sql"
    }
   },
   "outputs": [],
   "source": [
    "DELETE FROM Directorio_telefonico;"
   ]
  },
  {
   "cell_type": "markdown",
   "metadata": {},
   "source": [
    "| nombre  | apellido  | numeroTelefonico  | direccion  | edad  |\n",
    "|---|---|---|---|---|\n",
    "|   |   |   |   |   |"
   ]
  },
  {
   "cell_type": "markdown",
   "metadata": {},
   "source": [
    "Si bien el comando `DELETE` existe para ser usado, debe usarse con mucha precaución, es más, sólo el administrador de la base de datos debería ser capaz de eliminar datos de ella.\n",
    "\n",
    "Este comando es susceptible a errores, ya que si no implementamos correctamente la condición en el comando `WHERE`, podemos eliminar datos que no teníamos pensado en borrar y no hay posibilidad de recuperarlos.\n",
    "\n",
    "PostgreSQL les da a todos permisos por defecto, sin embargo, utilizar el comando `DELETE` no es parte de ellas, el administrador de la base de datos es el encargado de otorgar ese poder."
   ]
  },
  {
   "cell_type": "markdown",
   "metadata": {},
   "source": [
    "##### **`Añadiendo o eliminando columnas`**"
   ]
  },
  {
   "cell_type": "markdown",
   "metadata": {},
   "source": [
    "Resulta que en la definición anterior de nuestra tabla, olvidamos agregar la columna `nick`.\n",
    "\n",
    "Ante la eventualidad que deseemos añadir/remover una columna específica de una tabla, podemos implementar la siguiente sintaxis:"
   ]
  },
  {
   "cell_type": "code",
   "execution_count": null,
   "metadata": {
    "vscode": {
     "languageId": "sql"
    }
   },
   "outputs": [],
   "source": [
    "ALTER TABLE nombre_tabla\n",
    "ADD nueva_columna tipo_de_dato;"
   ]
  },
  {
   "cell_type": "code",
   "execution_count": null,
   "metadata": {
    "vscode": {
     "languageId": "sql"
    }
   },
   "outputs": [],
   "source": [
    "-- Declaramos que alteraremos la tabla Agenda\n",
    "ALTER TABLE Agenda\n",
    "-- Definimos el campo nick con el tipo de dato cadena con un largo de 25 caracteres.\n",
    "ADD nick VARCHAR(25);"
   ]
  },
  {
   "cell_type": "markdown",
   "metadata": {},
   "source": [
    "Si deseamos eliminar alguna columna en específico, podemos implementar la instrucción `DROP` de manera análoga a como lo hicimos con `ADD`."
   ]
  },
  {
   "cell_type": "markdown",
   "metadata": {},
   "source": [
    "#### **10 - Restricciones**"
   ]
  },
  {
   "cell_type": "markdown",
   "metadata": {},
   "source": [
    "Puede que existan casos en los que nuestras columnas necesiten reglas que cumplir, como que no hayan valores repetidos o que no existan campos vacíos. Es por eso que existen las restricciones. Algunas de estas son:\n",
    "\n",
    "-\t`NOTNULL`: La columna no puede tener valores NULL.\n",
    "-\t`UNIQUE`: Todos los valores de la columna deben ser diferentes unos a otros.\n",
    "-\t`PRIMARY KEY`: Aplica la clave primaria.\n",
    "-\t`FOREIGN KEY`: Aplica la clave foránea.\n",
    "-\t`CHECK`: Todos los valores de una columna deben satisfacer una condición en específico.\n",
    "-\t`DEFAULT`: Le da un valor por defecto a aquellos registros que no tengan un valor asignado.\n",
    "-\t`INDEX`: Sirve para crear y recuperar data de forma rápida.\n",
    "\n",
    "Estos se aplican de la siguiente forma:"
   ]
  },
  {
   "cell_type": "code",
   "execution_count": null,
   "metadata": {
    "vscode": {
     "languageId": "sql"
    }
   },
   "outputs": [],
   "source": [
    "-- Creamos una tabla\n",
    "CREATE TABLE nombre_tabla(\n",
    "-- Declaramos una serie de restricciones a cada campo de dato creado \n",
    "columna1 tipo_de_dato1 restriccion,\n",
    "columna2 tipo_de_dato2 restriccion, \n",
    "columna3 tipo_de_dato3 restriccion\n",
    ");"
   ]
  },
  {
   "cell_type": "markdown",
   "metadata": {},
   "source": [
    "`PRIMERY KEY` y `FOREIGN KEY` se manejan de forma distinta, los explicaremos en la siguiente sección. Usaremos de ejemplo la misma tabla que creamos antes. Le asignaremos restricciones a las tablas que creamos anteriormente:\n",
    "\n",
    "Volveremos a crear las tablas `Directorio_telefónico` y `Agenda`:"
   ]
  },
  {
   "cell_type": "code",
   "execution_count": null,
   "metadata": {
    "vscode": {
     "languageId": "sql"
    }
   },
   "outputs": [],
   "source": [
    "CREATE TABLE Directorio_telefonico( \n",
    "    nombre VARCHAR(25), NOTNULL\n",
    "    apellido VARCHAR(25), \n",
    "    numeroTelefonico VARCHAR(8) UNIQUE, \n",
    "    direccion VARCHAR(255),\n",
    "    edad INT\n",
    ");"
   ]
  },
  {
   "cell_type": "code",
   "execution_count": null,
   "metadata": {
    "vscode": {
     "languageId": "sql"
    }
   },
   "outputs": [],
   "source": [
    "CREATE TABLE Agenda( \n",
    "    nick VARCHAR(25), NOTNULL\n",
    "    numeroTelefonico VARCHAR(8) UNIQUE\n",
    ");"
   ]
  },
  {
   "cell_type": "markdown",
   "metadata": {},
   "source": [
    "En este caso, hicimos que `numeroTelefonico` sea un valor único que no pueda repetirse, y que `nombre` y `nick` no puedan tener valores `NULL`."
   ]
  },
  {
   "cell_type": "markdown",
   "metadata": {},
   "source": [
    "##### **`Restricciones a Nivel de PRIMARY y FOREIGN KEY`**"
   ]
  },
  {
   "cell_type": "markdown",
   "metadata": {},
   "source": [
    "Como mencionamos antes, las claves primarias sirven para identificar un registro único en una tabla, y la clave foránea sirve para referenciar esa columna desde otra tabla. La forma de aplicarlas es la siguiente:"
   ]
  },
  {
   "cell_type": "code",
   "execution_count": null,
   "metadata": {
    "vscode": {
     "languageId": "sql"
    }
   },
   "outputs": [],
   "source": [
    "CREATE TABLE tabla1(\n",
    "    columna1 tipo_de_dato1, \n",
    "    columna2 tipo_de_dato2, \n",
    "    columna3 tipo_de_dato3, \n",
    "    PRIMARY KEY (columna1)\n",
    ");"
   ]
  },
  {
   "cell_type": "code",
   "execution_count": null,
   "metadata": {
    "vscode": {
     "languageId": "sql"
    }
   },
   "outputs": [],
   "source": [
    "CREATE TABLE columna2( \n",
    "    columna4 tipo_de_dato4, \n",
    "    columna5 tipo_de_dato5,\n",
    "    FOREIGN KEY (columna4) REFERENCES tabla1(columna1)\n",
    ");"
   ]
  },
  {
   "cell_type": "markdown",
   "metadata": {},
   "source": [
    "Volvamos al ejemplo de `Directorio_telefonico` y `Agenda`, ambos usan los mismos números telefónicos para referirse a las mismas personas. La diferencia aquí, es que obtenemos los números desde `Directorio_telefonico` para llevarlos a `Agenda`.\n",
    "\n",
    "Es por esto, que `numeroTelefonico` será clave primaria (`PRIMARY KEY`) en `Directorio_telefonico` y clave foránea (`FOREIGN KEY`) en `Agenda`. Esto se puede ver reflejado así:"
   ]
  },
  {
   "cell_type": "code",
   "execution_count": null,
   "metadata": {
    "vscode": {
     "languageId": "sql"
    }
   },
   "outputs": [],
   "source": [
    "CREATE TABLE Directorio_telefonico( \n",
    "    nombre VARCHAR(25),\n",
    "    apellido VARCHAR(25), \n",
    "    numeroTelefonico VARCHAR(8), \n",
    "    direccion VARCHAR(255), \n",
    "    edad INT,\n",
    "    PRIMARY KEY (numeroTelefonico)\n",
    ");"
   ]
  },
  {
   "cell_type": "code",
   "execution_count": null,
   "metadata": {
    "vscode": {
     "languageId": "sql"
    }
   },
   "outputs": [],
   "source": [
    "CREATE TABLE Agenda( \n",
    "    nick VARCHAR(25),\n",
    "    numeroTelefonico VARCHAR(8),\n",
    "    FOREIGN KEY (numeroTelefonico) REFERENCES Directorio_telefonico(numeroTelefonico)\n",
    ");"
   ]
  },
  {
   "cell_type": "markdown",
   "metadata": {},
   "source": [
    "#### **11 - Instrucciones de selección, agrupación y ordenamiento de datos**"
   ]
  },
  {
   "cell_type": "markdown",
   "metadata": {},
   "source": [
    "##### **`Selección`**"
   ]
  },
  {
   "cell_type": "markdown",
   "metadata": {},
   "source": [
    "Tenemos todos los comandos para armar una base de datos, pero ¿Qué hacemos con ella?\n",
    "¿De qué nos sirve tener todos esos datos ordenados? Con el comando SELECT podemos obtener información de las columnas que cumplan las condiciones indicadas.\n",
    "\n",
    "Si solamente queremos ver una columna en específico, la sintaxis es la siguiente:"
   ]
  },
  {
   "cell_type": "code",
   "execution_count": null,
   "metadata": {
    "vscode": {
     "languageId": "sql"
    }
   },
   "outputs": [],
   "source": [
    "SELECT columna FROM tabla;"
   ]
  },
  {
   "cell_type": "markdown",
   "metadata": {},
   "source": [
    "Si queremos seleccionar toda la tabla, en el espacio de la columna debemos usar *, conocido como un comodín. La sintaxis de uso es la siguiente:"
   ]
  },
  {
   "cell_type": "code",
   "execution_count": null,
   "metadata": {
    "vscode": {
     "languageId": "sql"
    }
   },
   "outputs": [],
   "source": [
    "SELECT * FROM tabla;"
   ]
  },
  {
   "cell_type": "markdown",
   "metadata": {},
   "source": [
    "En estos casos, estamos mostrando las columnas. Si queremos ver filas en específico, tendremos que usar condiciones con comandos como el ya conocido `WHERE`, y otros como `LIMIT`, que mostrará las primeras filas hasta la cantidad indicada."
   ]
  },
  {
   "cell_type": "code",
   "execution_count": null,
   "metadata": {
    "vscode": {
     "languageId": "sql"
    }
   },
   "outputs": [],
   "source": [
    "-- Seleccionamos todas las filas de una columna que cumplan con la condición\n",
    "SELECT columna FROM tabla WHERE condicion;"
   ]
  },
  {
   "cell_type": "code",
   "execution_count": null,
   "metadata": {
    "vscode": {
     "languageId": "sql"
    }
   },
   "outputs": [],
   "source": [
    "-- Seleccionamos una cantidad limitada de una columna específica\n",
    "SELECT columna FROM tabla LIMIT cantidad;"
   ]
  },
  {
   "cell_type": "markdown",
   "metadata": {},
   "source": [
    "Volviendo al directorio telefónico, vamos a consultar por aquellos que su apellido sea Quezada:"
   ]
  },
  {
   "cell_type": "code",
   "execution_count": null,
   "metadata": {
    "vscode": {
     "languageId": "sql"
    }
   },
   "outputs": [],
   "source": [
    "SELECT * FROM Directorio_telefonico WHERE apellido='Quezada';"
   ]
  },
  {
   "cell_type": "markdown",
   "metadata": {},
   "source": [
    "| nombre  | apellido  | numeroTelefonico  | direccion  | edad  |\n",
    "|---|---|---|---|---|\n",
    "| 'Bastian'  | 'Quezada'  | '32344242'  | 'Los Angeles'  | 22  |"
   ]
  },
  {
   "cell_type": "markdown",
   "metadata": {},
   "source": [
    "`SELECT` nos permite crear nuevas columnas, aplicando operaciones a las columnas ya existentes. Algunas operaciones normalmente utilizadas son:\n",
    "\n",
    "-\t`MIN`: Entrega el mínimo de los datos de una columna.\n",
    "-\t`MAX`: Entrega el máximo de los datos de una columna.\n",
    "-\t`LENGTH`: Calcula el largo de los datos en una columna.\n",
    "-\t`COUNT`: Cuenta la cantidad de filas.\n",
    "\n",
    "En base a estas operaciones, podemos extraer resultados intermedios que puedan ser asignados a tablas o impresos en la consola.\n",
    "\n",
    "La sintaxis para extraer una operación específica de una tabla sería la siguiente:"
   ]
  },
  {
   "cell_type": "code",
   "execution_count": null,
   "metadata": {
    "vscode": {
     "languageId": "sql"
    }
   },
   "outputs": [],
   "source": [
    "SELECT operacion(columna) AS nombre_nueva_columna FROM tabla"
   ]
  },
  {
   "cell_type": "markdown",
   "metadata": {},
   "source": [
    "Generaremos una consulta sobre el largo de cada nombre en nuestra tabla de directorio telefónico:"
   ]
  },
  {
   "cell_type": "code",
   "execution_count": null,
   "metadata": {
    "vscode": {
     "languageId": "sql"
    }
   },
   "outputs": [],
   "source": [
    "-- seleccionaremos el largo de los nombres\n",
    "SELECT LENGTH(nombre)\n",
    "-- y le asignaremos el nombre largo_de_nombre\n",
    "AS largo_del_nombre\n",
    "-- de la tabla Directorio_telefonico\n",
    "FROM Directorio_telefonico"
   ]
  },
  {
   "cell_type": "markdown",
   "metadata": {},
   "source": [
    "| largo_del_nombre  |\n",
    "|---|\n",
    "| 5  |\n",
    "| 6  |\n",
    "| 8  |\n",
    "| 7  |\n",
    "| 5  |\n",
    "| 6  |\n",
    "| 7  |\n",
    "| 6  |\n",
    "| 4  |\n",
    "| 7  |"
   ]
  },
  {
   "cell_type": "markdown",
   "metadata": {},
   "source": [
    "El comando `AS` también puede ser usado en columnas que no necesariamente se les haya aplicado una operación, a este nuevo nombre lo conoceremos como Alias, esto se hace cuando se quiere dar un nombre más pequeño o más fácil de usar cuando este se utilizará varias veces."
   ]
  },
  {
   "cell_type": "code",
   "execution_count": null,
   "metadata": {
    "vscode": {
     "languageId": "sql"
    }
   },
   "outputs": [],
   "source": [
    "-- seleccionaremos\n",
    "SELECT\n",
    "-- una columna específica como alias_columna \n",
    "alias_tabla.columna as alias_columna\n",
    "-- de una tabla\n",
    "FROM tabla alias_tabla;"
   ]
  },
  {
   "cell_type": "markdown",
   "metadata": {},
   "source": [
    "Podemos notar que también se le dio un alias a la tabla. Veamos este ejemplo, Directorio_telefonico es muy largo, así que lo renombraremos a dt, también le daremos alias a algunas de sus columnas:"
   ]
  },
  {
   "cell_type": "code",
   "execution_count": null,
   "metadata": {
    "vscode": {
     "languageId": "sql"
    }
   },
   "outputs": [],
   "source": [
    "SELECT \n",
    "    dT.nombre as n, \n",
    "    dT.numeroTelefonico as nT \n",
    "FROM Directorio_telefonico dT;"
   ]
  },
  {
   "cell_type": "markdown",
   "metadata": {},
   "source": [
    "| n | nt |\n",
    "|---|---|\n",
    "|\"Pedro\"|\t\"38472940\"|\n",
    "|\"Matias\"|\t\"38473623\"|\n",
    "|\"Cristobal\"|\t\"43423244\"|\n",
    "|\"Javiera\"|\t\"94367238\"|\n",
    "|\"Farid\"|\t\"32876523\"|\n",
    "|\"Daniel\"|\t\"43683283\"|\n",
    "|\"Bastian\"|\t\"32344242\"|\n",
    "|\"Fabian\"|\t\"32846352\"|\n",
    "|\"John\"|\t\"23764362\"|\n",
    "|\"Braulio\"|\t\"23781363\"|"
   ]
  },
  {
   "cell_type": "markdown",
   "metadata": {},
   "source": [
    "Es importante destacar que una vez renombrada la columna, `solo puedes llamarla por su Alias`."
   ]
  },
  {
   "cell_type": "markdown",
   "metadata": {},
   "source": [
    "##### **`Agrupación`**"
   ]
  },
  {
   "cell_type": "markdown",
   "metadata": {},
   "source": [
    "A veces nos vemos en la necesidad de agrupar filas que tengan datos iguales para poder trabajar con ellos de manera más sencilla, para eso tenemos el comando `GROUP BY`, dejará las filas juntas según los valores de la columna indicada."
   ]
  },
  {
   "cell_type": "code",
   "execution_count": null,
   "metadata": {
    "vscode": {
     "languageId": "sql"
    }
   },
   "outputs": [],
   "source": [
    "SELECT columna1, columna2, columna3\n",
    "FROM tabla\n",
    "GROUP BY columna1, columna2, columna3;"
   ]
  },
  {
   "cell_type": "markdown",
   "metadata": {},
   "source": [
    "<center><img src=\"https://i.postimg.cc/pV8JKYwc/dl45.png\"></center>"
   ]
  },
  {
   "cell_type": "markdown",
   "metadata": {},
   "source": [
    "##### **`Ordenamiento`**"
   ]
  },
  {
   "cell_type": "markdown",
   "metadata": {},
   "source": [
    "Similar a lo que es agrupar, puede que necesitamos que nuestras filas estén ordenadas según los valores que tengan en alguna columna.\n",
    "\n",
    "Un ejemplo común sería ordenar los índices de menor a mayor. Podemos ordenar las filas utilizando el comando `ORDER BY`:"
   ]
  },
  {
   "cell_type": "code",
   "execution_count": null,
   "metadata": {
    "vscode": {
     "languageId": "sql"
    }
   },
   "outputs": [],
   "source": [
    "SELECT columna1, columna2, columna3\n",
    "FROM tabla\n",
    "ORDER BY columna1;"
   ]
  },
  {
   "cell_type": "markdown",
   "metadata": {},
   "source": [
    "Podemos ordenar de forma decreciente `DESC` o ascendente `ASC`, ubicando el comando después de la columna seleccionada para ordenar las filas. Por ejemplo, si queremos ver las filas ordenadas con nombres desde la Z hasta la A, debemos hacer lo siguiente:"
   ]
  },
  {
   "cell_type": "code",
   "execution_count": null,
   "metadata": {
    "vscode": {
     "languageId": "sql"
    }
   },
   "outputs": [],
   "source": [
    "SELECT nombre, apellido, numeroTelefonico\n",
    "FROM Directorio_telefonico\n",
    "ORDER BY nombre DESC;"
   ]
  },
  {
   "cell_type": "markdown",
   "metadata": {},
   "source": [
    "-- Revisar este resultado!\n",
    "\n",
    "| n  | apellido  | nT  |\n",
    "|---|---|---|\n",
    "| 'Pedro'  | 'Arriagada'  | '38472940'  |\n",
    "| 'Matias'  | 'Valenzuela'  | '38473623'  |\n",
    "| 'John'  | 'Rodriguez'  | '23764362'  |\n",
    "| 'Javiera'  | 'Arce'  | '94367238'  |\n",
    "| 'Farid'  | 'Zalaquett'  | '32876523'  | \n",
    "| 'Fabian'  | 'Salas'  | '32846352'  |\n",
    "| 'Daniel'  | 'Hebel'  | '43683283'  |\n",
    "| 'Cristobal'  | 'Missana'  | '43423244'  |\n",
    "| 'Braulio'  | 'Fuentes'  | '23781363'  |\n",
    "| 'Bastian'  | 'Quezada'  | '32344242'  |"
   ]
  },
  {
   "cell_type": "markdown",
   "metadata": {},
   "source": [
    "#### **12 - Operaciones de Unión entre tablas**"
   ]
  },
  {
   "cell_type": "markdown",
   "metadata": {},
   "source": [
    "Anteriormente mencionamos cómo las tablas se relacionan a través de las claves primaria y foraneas. Resulta que una de las virtudes de implementar claves primarias y foráneas en nuestras tablas es la posibilidad de generar operaciones entre tablas para incorporar información de distintas fuentes.\n",
    "\n",
    "Tomemos el siguiente caso hipotético: queremos unir las filas de tablas que cumplan con algún dato común, lo cual podemos expresar así:"
   ]
  },
  {
   "cell_type": "code",
   "execution_count": null,
   "metadata": {
    "vscode": {
     "languageId": "sql"
    }
   },
   "outputs": [],
   "source": [
    "-- Seleccionamos las columnas desde la tabla1\n",
    "SELECT columnas FROM tabla1\n",
    "-- Posterior a la selección de la columna, indicamos que vamos a generar la unión\n",
    "-- con la columna de la tabla2\n",
    "JOIN tabla2 ON tabla1.columna=tabla2.columa;"
   ]
  },
  {
   "cell_type": "markdown",
   "metadata": {},
   "source": [
    "Esto unirá las columnas indicadas, pero sólo se mostrarán las filas que cumplan la condición dada. Existen distintas formas de combinar filas, esto se ve traducido en distintos tipos de JOIN:\n",
    "\n",
    "-\t`INNER JOIN`: Une sólo las columnas comunes entre ambas tablas.\n",
    "\n",
    "-\t`LEFT JOIN`: Une todas las columnas de la primera tabla con las columnas en común de la segunda tabla.\n",
    "\n",
    "-\t`FULL OUTER JOIN`: Une todas las columnas de ambas las tablas."
   ]
  },
  {
   "cell_type": "markdown",
   "metadata": {},
   "source": [
    "<center><img src=\"https://i.postimg.cc/nLWm76R9/dl40.png\">\n",
    "        <img src=\"https://i.postimg.cc/3wG8SVrv/dl41.png\">\n",
    "        <img src=\"https://i.postimg.cc/JnW19xtd/dl42.png\">\n",
    "        <img src=\"https://i.postimg.cc/FRg9mSLF/dl43.png\">\n",
    "        <img src=\"https://i.postimg.cc/hvDKGGLL/dl44.png\">                        \n",
    "</center>"
   ]
  },
  {
   "cell_type": "markdown",
   "metadata": {},
   "source": [
    "Regresando al ejemplo del directorio, haremos un `JOIN` con `Agenda` que muestre solo las filas en que el número sea igual en el directorio y la agenda:"
   ]
  },
  {
   "cell_type": "code",
   "execution_count": null,
   "metadata": {
    "vscode": {
     "languageId": "sql"
    }
   },
   "outputs": [],
   "source": [
    "SELECT \n",
    "    a.nick, \n",
    "    dT.direccion\n",
    "FROM directorio_telefonico dT\n",
    "    JOIN Agenda a \n",
    "    ON dT.numeroTelefonico=a.numeroTelefonico;"
   ]
  },
  {
   "cell_type": "markdown",
   "metadata": {},
   "source": [
    "| nick  | direccion  |\n",
    "|---|---|\n",
    "| 'Peter'  | 'Valdivia'  |\n",
    "| 'Mati'  | 'Nogales'  |\n",
    "| 'Cris'  | 'Con Con'  |\n",
    "| 'Javi'  | 'Quilpue'  |\n",
    "| 'Farid'  | 'La Florida'  |\n",
    "| 'Dani'  | 'San Bernardo'  |\n",
    "| 'Basti'  | 'Los Angeles'  |\n",
    "| 'Fabi'  | 'Playa Ancha'  |\n",
    "| 'John'  | 'Constitucion'  |\n",
    "| 'Braulio'  | 'Rancagua'  |"
   ]
  },
  {
   "cell_type": "markdown",
   "metadata": {},
   "source": [
    "#### **13 - Implementación de subqueries**"
   ]
  },
  {
   "cell_type": "markdown",
   "metadata": {},
   "source": [
    "Una subquery (o consulta interna) es una query implementada dentro de otra query principal de SQL, la cual debe enmarcarse dentro de la cláusula WHERE. Una de las principales aplicaciones de las subqueries es para retornar datos que serán utilizados posteriormente en una consulta principal. De esta manera funcionan como una condición para restringir los datos.\n",
    "\n",
    "En algunas ocasiones, para poder hacer una consulta a una tabla es necesaria la consulta de otra tabla, la cual no es nuestro objetivo final. Para eso, existen las subqueries (sub-consultas), las cuales son consultas temporales que sólo estarán para poder obtener el resultado de nuestra consulta. Si está familiarizado con el concepto de recursión, esto resultará familiar para usted.\n",
    "\n",
    "La forma canónica de la sintaxis es la siguiente:"
   ]
  },
  {
   "cell_type": "code",
   "execution_count": null,
   "metadata": {
    "vscode": {
     "languageId": "sql"
    }
   },
   "outputs": [],
   "source": [
    "-- Esta es nuestra query principal: seleccionamos todas las columnas especificadas\n",
    "SELECT columnas\n",
    "-- A partir de la siguiente subquery:\n",
    "-- Seleccionaremos otras columnas dentro de la misma tabla, que satisfagan\n",
    "-- la condición especificada\n",
    "FROM (SELECT otras_columnas FROM tabla2 WHERE condicion)\n",
    "-- Renombramos con el siguiente alias\n",
    "AS nuevo_nombre\n",
    "JOIN tabla2 ON condicion2;"
   ]
  },
  {
   "cell_type": "code",
   "execution_count": null,
   "metadata": {
    "vscode": {
     "languageId": "sql"
    }
   },
   "outputs": [],
   "source": [
    "SELECT nombre, edad FROM directorio_telefonico\n",
    "-- Ordenaremos por el resultado de la siguiente subquery\n",
    "WHERE numeroTelefonico IN (SELECT numeroTelefonico \n",
    "                           FROM agenda \n",
    "                           WHERE numeroTelefonico = '32344242')"
   ]
  },
  {
   "cell_type": "markdown",
   "metadata": {},
   "source": [
    "| nombre  | edad  |\n",
    "|---|---|\n",
    "| 'Bastian'  | 22  |"
   ]
  },
  {
   "cell_type": "code",
   "execution_count": null,
   "metadata": {
    "vscode": {
     "languageId": "sql"
    }
   },
   "outputs": [],
   "source": [
    "SELECT nombre, edad FROM (SELECT * \n",
    "                          FROM directorio_telefonico \n",
    "                          WHERE numeroTelefonico = '32344242') AS dt"
   ]
  },
  {
   "cell_type": "markdown",
   "metadata": {},
   "source": [
    "| nombre  | edad  |\n",
    "|---|---|\n",
    "| 'Bastian'  | 22  |"
   ]
  },
  {
   "cell_type": "markdown",
   "metadata": {},
   "source": [
    "Algunas reglas que deben seguir las subqueries:\n",
    "\n",
    "-\tLas consultas internas `deben` estar encapsuladas entre paréntesis.\n",
    "\n",
    "-\tUn subquery puede tener `sólo una columna` especificada en SELECT, con la excepción de múltiples columnas definidas en la consulta principal.\n",
    "\n",
    "-\tEl comando `ORDER BY` **no se puede utilizar** en una consulta interna. La excepción es que esta instrucción si puede ser incluida en la consulta principal.\n",
    "\n",
    "-\tPara obtener un resultado similar a `ORDER BY` dentro de una consulta interna, se puede implementar el comando `GROUP BY`.\n",
    "\n",
    "-\tAquellas consultas internas que retornen `más de una fila` sólo pueden ser utilizadas con operadores de múltiples valores como `IN`.\n"
   ]
  },
  {
   "cell_type": "markdown",
   "metadata": {},
   "source": [
    "#### **14 - Para trabajar con archivos .csv**"
   ]
  },
  {
   "cell_type": "markdown",
   "metadata": {},
   "source": [
    "Por lo general nuestra primera ingesta de datos a una base de datos se realizará mediante un `.csv`. A continuación se detalla el flujo con el cual podemos ingresar una serie de registros alojados en un `.csv`.\n",
    "\n",
    "-\tAbra el archivo en un editor de texto, de recomendación `Sublime Text` o `Atom`.\n",
    "-\tSi las filas están encerradas entre comillas, eliminalas.\n",
    "-\tCree la tabla a la cual desea agregar el archivo csv. Este paso lo encontrará explicado en la sección.\n",
    "\n",
    "Utilizar en la consola de postgresql el siguiente comando:"
   ]
  },
  {
   "cell_type": "code",
   "execution_count": null,
   "metadata": {
    "vscode": {
     "languageId": "sql"
    }
   },
   "outputs": [],
   "source": [
    "COPY nombre_tabla FROM 'directorio/archivo.csv' delimiter ',' csv [header];"
   ]
  },
  {
   "cell_type": "markdown",
   "metadata": {},
   "source": [
    "Notas:\n",
    "\n",
    "-\tEl símbolo `,` representa el límite entre columnas en cada fila del archivo csv. Si está usando otro símbolo, remplace `,` por lo que esté ocupando.\n",
    "\n",
    "-\t`[header]` es opcional, si su archivo csv tiene los nombres de las columnas en la primera fila, `[header]` reemplácelo por header. De ser el caso contrario, deje en blanco ese espacio.\n",
    "\n",
    "Si lo que desea es almacenar una tabla en un archivo de texto, utilice el siguiente comando:"
   ]
  },
  {
   "cell_type": "code",
   "execution_count": null,
   "metadata": {
    "vscode": {
     "languageId": "sql"
    }
   },
   "outputs": [],
   "source": [
    "COPY nombre_tabla TO 'directorio/archivo.csv' WITH CSV DELIMITER ',';"
   ]
  },
  {
   "cell_type": "markdown",
   "metadata": {},
   "source": [
    "#### **15 - Transacciones**"
   ]
  },
  {
   "cell_type": "markdown",
   "metadata": {},
   "source": [
    "Las transacciones son secuencias de instrucciones ordenadas, las cuales pueden ser indicadas de forma manual o pueden ser aplicadas automáticamente. Estas realizan cambios en las bases de datos, a la hora de aplicar comandos de manipulación de columnas y registros.\n",
    "\n",
    "Estas transacciones tienen las siguientes propiedades:\n",
    "\n",
    "-\t`Atomicidad`: Todas las operaciones realizadas en la transacción deben ser completadas. En el caso que ocurra un fallo, está la transacción es abortada y devuelve todo al estado previo a la transacción.\n",
    "-\t`Consistencia`: La base de datos cambiará solamente cuando la transacción se haya realizado.\n",
    "-\t`Aislamiento`: Las transacciones pueden ocurrir independientes unas de otras.\n",
    "-\t`Durability`: El resultado de la transacción persiste a pesar de que el sistema falle.\n",
    "\n",
    "Es posible tener control de las transacciones. Para eso, existen los siguientes comandos:\n",
    "\n",
    "-\t`COMMIT`: Guarda los cambios de la transacción.\n",
    "-\t`ROLLBACK`: Retrocede los cambios realizados.\n",
    "-\t`SAVEPOINT`: Guarda el punto de partida al cual volver a la hora de aplicar `ROLLBACK`.\n",
    "-\t`SET TRANSACTION`: Le asigna nombre a la transacción.\n",
    "\n",
    "Estos comandos sólo pueden ser usados con las operaciones `INSERT`, `UPDATE` y `DELETE`, ya que aquellos que manipulan toda la tabla hacen este proceso automáticamente. La sintaxis de estos comandos es la siguiente:"
   ]
  },
  {
   "cell_type": "code",
   "execution_count": null,
   "metadata": {
    "vscode": {
     "languageId": "sql"
    }
   },
   "outputs": [],
   "source": [
    "COMMIT;\n",
    "\n",
    "SAVEPOINT nombre_savepoint;\n",
    "\n",
    "ROLLBACK [TO nombre_savepoint];"
   ]
  },
  {
   "cell_type": "markdown",
   "metadata": {},
   "source": [
    "Lo que está entre corchetes es de carácter opcional, por lo que podemos decirle a `ROLLBACK` a que punto volver, o este volverá al último punto por defecto."
   ]
  },
  {
   "cell_type": "code",
   "execution_count": null,
   "metadata": {
    "vscode": {
     "languageId": "sql"
    }
   },
   "outputs": [],
   "source": [
    "SET TRANSACTION [READ ONLY|WRITE][NAME nombre_transaccion];"
   ]
  },
  {
   "cell_type": "markdown",
   "metadata": {},
   "source": [
    "En este caso, podemos usar `READ ONLY` para solamente leer la base de datos, `READ WRITE` para leer y escribir sobre ella, y poder nombrar la transacción con el comando `NAME`. Veamos el siguiente ejemplo:"
   ]
  },
  {
   "cell_type": "code",
   "execution_count": null,
   "metadata": {
    "vscode": {
     "languageId": "sql"
    }
   },
   "outputs": [],
   "source": [
    "SET TRANSACTION READ WRITE NAME primera_transaccion;\n",
    "INSERT INTO nombre_tabla (columna1, columna2, columna3) VALUES (valor1, valor2, valor3);\n",
    "SAVEPOINT registro_ingresado;"
   ]
  },
  {
   "cell_type": "markdown",
   "metadata": {},
   "source": [
    "En este caso creamos una transacción en la que se puede leer y escribir sobre la base de datos que tiene de nombre 'primera_transaccion', luego insertamos un valor e hicimos `SAVEPOINT` para poder volver a este punto en cualquier caso.\n",
    "\n",
    "Veamos el siguiente ejemplo:"
   ]
  },
  {
   "cell_type": "code",
   "execution_count": null,
   "metadata": {
    "vscode": {
     "languageId": "sql"
    }
   },
   "outputs": [],
   "source": [
    "UPDATE nombre_tabla SET columna1=valor_nuevo WHERE condicion;\n",
    "ROLLBACK TO registro_ingresado;\n",
    "COMMIT;"
   ]
  },
  {
   "cell_type": "markdown",
   "metadata": {},
   "source": [
    "Ahora, realizamos un `UPDATE`, sin embargo, nos devolvimos al punto guardado en `SAVEPOINT`, para así finalmente guardarlo haciendo `COMMIT`."
   ]
  },
  {
   "cell_type": "markdown",
   "metadata": {},
   "source": [
    "#### **16 - Plan de consulta**"
   ]
  },
  {
   "cell_type": "markdown",
   "metadata": {},
   "source": [
    "Un plan de consulta es una muestra de cuanto demoraría realizar una consulta y los pasos ordenados que esta sigue para poder realizarla sin la necesidad de hacer la consulta como tal. Cuando utilizamos comandos tales como `SELECT`, `UPDATE` o `DELETE`, el motor de la base de datos debe elegir cuál es el mejor realizar una consulta, sin embargo, no podemos saber a simple viste que es lo que este elige.\n",
    "\n",
    "Para poder saber eso, utilizamos el comando `EXPLAIN`. Este lo que haces es mostrar un árbol con distintos niveles, el cual está ordenado según las acciones que esta toma. La sintaxis es la siguiente:"
   ]
  },
  {
   "cell_type": "code",
   "execution_count": null,
   "metadata": {
    "vscode": {
     "languageId": "sql"
    }
   },
   "outputs": [],
   "source": [
    "EXPLAIN [ANALYZE] operacion_a_ejecutar;"
   ]
  },
  {
   "cell_type": "markdown",
   "metadata": {},
   "source": [
    "El comando opcional `ANALYZE` permite que no sólo pregunte por el plan, sino que también realice la operación indicada. Si utilizamos `EXPLAIN ANALYZE` pero no queremos que se aplica la operación debemos hacer lo siguiente:"
   ]
  },
  {
   "cell_type": "code",
   "execution_count": null,
   "metadata": {
    "vscode": {
     "languageId": "sql"
    }
   },
   "outputs": [],
   "source": [
    "BEGIN;\n",
    "EXPLAIN ANALYZE operacion_a_ejecutar;\n",
    "ROLLBACK;"
   ]
  },
  {
   "cell_type": "markdown",
   "metadata": {},
   "source": [
    "Veamos el siguiente ejemplo que hace una consulta con `WHERE`:"
   ]
  },
  {
   "cell_type": "code",
   "execution_count": null,
   "metadata": {
    "vscode": {
     "languageId": "sql"
    }
   },
   "outputs": [],
   "source": [
    "EXPLAIN ANALYZE SELECT * FROM Directorio_telefonico WHERE apellido='Quezada';"
   ]
  },
  {
   "cell_type": "markdown",
   "metadata": {},
   "source": [
    "Nos da como respuesta:"
   ]
  },
  {
   "cell_type": "code",
   "execution_count": null,
   "metadata": {
    "vscode": {
     "languageId": "sql"
    }
   },
   "outputs": [],
   "source": [
    "Seq Scan on directorio_telefonico (cost=0.00..11.38 rows=1 width=690) \n",
    "(actual time=2.905..2.908 rows=1 loops=1)\n",
    "    Filter: ((apellido)::text = 'Quezada'::text) \n",
    "    Rows Removed by Filter: 9\n",
    "Planning Time: 0.189 ms \n",
    "Execution Time: 2.954 ms"
   ]
  },
  {
   "cell_type": "markdown",
   "metadata": {},
   "source": [
    "Donde nos indica que se hizo un escaneo por secuencia, donde el primer paréntesis indica lo que espera obtener en cuanto al costo de iniciación (antes de los 2 puntos) y el costo de ejecución (después de los puntos), la cantidad de columnas seleccionadas y el ancho de estas, y en el segundo paréntesis indica lo que realmente se obtuvo, más la cantidad de ciclos realizados. También indica el filtro que se utilizó, cuantas columnas removió, el tiempo del plan y el tiempo de ejecución de este.\n",
    "\n",
    "Hacer uso del plan de consulta es útil para saber qué es lo que está pasando durante la ejecución de nuestra consulta y detectar si es que existe algún problema que esté haciendo tomar más tiempo de lo que es necesario.\n",
    "\n",
    "Ahora, veamos este ejemplo utilizando `JOIN`:"
   ]
  },
  {
   "cell_type": "code",
   "execution_count": null,
   "metadata": {
    "vscode": {
     "languageId": "sql"
    }
   },
   "outputs": [],
   "source": [
    "EXPLAIN ANALYZE SELECT a.nick, dT.direccion\n",
    "FROM Directorio_telefonico dT\n",
    "JOIN Agenda a ON dT.numeroTelefonico=a.numeroTelefonico;"
   ]
  },
  {
   "cell_type": "markdown",
   "metadata": {},
   "source": [
    "Nos da como respuesta"
   ]
  },
  {
   "cell_type": "code",
   "execution_count": null,
   "metadata": {
    "vscode": {
     "languageId": "sql"
    }
   },
   "outputs": [],
   "source": [
    "Hash Join (cost=12.47..30.34 rows=620 width=584) (actual time=0.250..0.259 rows=10 loops=1)\n",
    "Hash Cond: ((a.numerotelefonico)::text = (dt.numerotelefonico)::text)\n",
    "-> Seq Scan on agenda a (cost=0.00..16.20 rows=620 width=102) (actual time=0.056..0.058 rows=10 loops=1)\n",
    "-> Hash (cost=11.10..11.10 rows=110 width=550) (actual time=0.106..0.106 rows=10 loops=1)\n",
    "Buckets: 1024 Batches: 1 Memory Usage: 9kB\n",
    "-> Seq Scan on directorio_telefonico dt (cost=0.00..11.10 rows=110 width=550) (actual time=0.067..0.074 rows=10 loops=1) \n",
    "Planning Time: 39.777 ms\n",
    "Execution Time: 0.337 ms"
   ]
  },
  {
   "cell_type": "markdown",
   "metadata": {},
   "source": [
    "En este caso, podemos ver que el árbol es más grande, dado la complejidad de la operación, sin embargo, es el mismo formato anterior, donde lo único que cambia es la acción ejecutada en el plan.\n",
    "\n",
    "Cada símbolo -> representa un nivel del árbol, donde las acciones se ven en orden desde arriba hacia abajo."
   ]
  }
 ],
 "metadata": {
  "language_info": {
   "name": "python"
  }
 },
 "nbformat": 4,
 "nbformat_minor": 2
}
