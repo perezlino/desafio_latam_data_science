{
 "cells": [
  {
   "cell_type": "markdown",
   "metadata": {},
   "source": [
    "### **Desafio \"API\"**"
   ]
  },
  {
   "cell_type": "code",
   "execution_count": 2,
   "metadata": {},
   "outputs": [],
   "source": [
    "import requests\n",
    "import json\n",
    "from pprint import pprint\n",
    "\n",
    "url = \"https://reqres.in/api/users\"\n",
    "\n",
    "## Paso 1: GET\n",
    "## Paso 2: POST => Ignacio, Profesor\n",
    "## Paso 3: PUT => Morpheus, Residence-Zion\n",
    "## Paso 4: DELETE => Tracey\n",
    "\n",
    "def req(tipo, url, data={}):\n",
    "    response = requests.request(tipo, url=url, data=data)\n",
    "    return json.loads(response.text)"
   ]
  },
  {
   "cell_type": "markdown",
   "metadata": {},
   "source": [
    "#### **`Paso 1: GET`**\n",
    "\n",
    "Obtenga toda la información de los usuarios retornada por la API, guárdela en una variable llamada **`users_data`** e imprímala en pantalla"
   ]
  },
  {
   "cell_type": "code",
   "execution_count": 3,
   "metadata": {},
   "outputs": [
    {
     "name": "stdout",
     "output_type": "stream",
     "text": [
      "{'data': [{'avatar': 'https://reqres.in/img/faces/1-image.jpg',\n",
      "           'email': 'george.bluth@reqres.in',\n",
      "           'first_name': 'George',\n",
      "           'id': 1,\n",
      "           'last_name': 'Bluth'},\n",
      "          {'avatar': 'https://reqres.in/img/faces/2-image.jpg',\n",
      "           'email': 'janet.weaver@reqres.in',\n",
      "           'first_name': 'Janet',\n",
      "           'id': 2,\n",
      "           'last_name': 'Weaver'},\n",
      "          {'avatar': 'https://reqres.in/img/faces/3-image.jpg',\n",
      "           'email': 'emma.wong@reqres.in',\n",
      "           'first_name': 'Emma',\n",
      "           'id': 3,\n",
      "           'last_name': 'Wong'},\n",
      "          {'avatar': 'https://reqres.in/img/faces/4-image.jpg',\n",
      "           'email': 'eve.holt@reqres.in',\n",
      "           'first_name': 'Eve',\n",
      "           'id': 4,\n",
      "           'last_name': 'Holt'},\n",
      "          {'avatar': 'https://reqres.in/img/faces/5-image.jpg',\n",
      "           'email': 'charles.morris@reqres.in',\n",
      "           'first_name': 'Charles',\n",
      "           'id': 5,\n",
      "           'last_name': 'Morris'},\n",
      "          {'avatar': 'https://reqres.in/img/faces/6-image.jpg',\n",
      "           'email': 'tracey.ramos@reqres.in',\n",
      "           'first_name': 'Tracey',\n",
      "           'id': 6,\n",
      "           'last_name': 'Ramos'}],\n",
      " 'page': 1,\n",
      " 'per_page': 6,\n",
      " 'support': {'text': 'To keep ReqRes free, contributions towards server costs '\n",
      "                     'are appreciated!',\n",
      "             'url': 'https://reqres.in/#support-heading'},\n",
      " 'total': 12,\n",
      " 'total_pages': 2}\n"
     ]
    }
   ],
   "source": [
    "users_data = req('GET', url)\n",
    "pprint(users_data)"
   ]
  },
  {
   "cell_type": "code",
   "execution_count": 4,
   "metadata": {},
   "outputs": [
    {
     "name": "stdout",
     "output_type": "stream",
     "text": [
      "[{'avatar': 'https://reqres.in/img/faces/1-image.jpg',\n",
      "  'email': 'george.bluth@reqres.in',\n",
      "  'first_name': 'George',\n",
      "  'id': 1,\n",
      "  'last_name': 'Bluth'},\n",
      " {'avatar': 'https://reqres.in/img/faces/2-image.jpg',\n",
      "  'email': 'janet.weaver@reqres.in',\n",
      "  'first_name': 'Janet',\n",
      "  'id': 2,\n",
      "  'last_name': 'Weaver'},\n",
      " {'avatar': 'https://reqres.in/img/faces/3-image.jpg',\n",
      "  'email': 'emma.wong@reqres.in',\n",
      "  'first_name': 'Emma',\n",
      "  'id': 3,\n",
      "  'last_name': 'Wong'},\n",
      " {'avatar': 'https://reqres.in/img/faces/4-image.jpg',\n",
      "  'email': 'eve.holt@reqres.in',\n",
      "  'first_name': 'Eve',\n",
      "  'id': 4,\n",
      "  'last_name': 'Holt'},\n",
      " {'avatar': 'https://reqres.in/img/faces/5-image.jpg',\n",
      "  'email': 'charles.morris@reqres.in',\n",
      "  'first_name': 'Charles',\n",
      "  'id': 5,\n",
      "  'last_name': 'Morris'},\n",
      " {'avatar': 'https://reqres.in/img/faces/6-image.jpg',\n",
      "  'email': 'tracey.ramos@reqres.in',\n",
      "  'first_name': 'Tracey',\n",
      "  'id': 6,\n",
      "  'last_name': 'Ramos'}]\n"
     ]
    }
   ],
   "source": [
    "objeto = users_data['data']\n",
    "pprint(objeto)"
   ]
  },
  {
   "cell_type": "code",
   "execution_count": 5,
   "metadata": {},
   "outputs": [
    {
     "data": {
      "text/plain": [
       "[1, 2, 3, 4, 5, 6]"
      ]
     },
     "execution_count": 5,
     "metadata": {},
     "output_type": "execute_result"
    }
   ],
   "source": [
    "[elemento['id'] for elemento in objeto]"
   ]
  },
  {
   "cell_type": "code",
   "execution_count": 7,
   "metadata": {},
   "outputs": [
    {
     "data": {
      "text/plain": [
       "[1, 2, 3, 4, 5, 6]"
      ]
     },
     "execution_count": 7,
     "metadata": {},
     "output_type": "execute_result"
    }
   ],
   "source": [
    "lista = []\n",
    "for elemento in objeto:\n",
    "    lista.append(elemento['id'])\n",
    "\n",
    "lista "
   ]
  },
  {
   "cell_type": "code",
   "execution_count": 14,
   "metadata": {},
   "outputs": [
    {
     "data": {
      "text/plain": [
       "[6]"
      ]
     },
     "execution_count": 14,
     "metadata": {},
     "output_type": "execute_result"
    }
   ],
   "source": [
    "[elemento['id'] for elemento in objeto if elemento['first_name'] == 'Tracey']"
   ]
  },
  {
   "cell_type": "code",
   "execution_count": 15,
   "metadata": {},
   "outputs": [
    {
     "data": {
      "text/plain": [
       "[6]"
      ]
     },
     "execution_count": 15,
     "metadata": {},
     "output_type": "execute_result"
    }
   ],
   "source": [
    "lista = []\n",
    "for elemento in objeto:\n",
    "    if elemento['first_name'] == 'Tracey':\n",
    "        lista.append(elemento['id'])\n",
    "\n",
    "lista "
   ]
  },
  {
   "cell_type": "markdown",
   "metadata": {},
   "source": [
    "#### **`Paso 2: POST`**\n",
    "\n",
    "Cree un usuario que tenga de nombre **`Ignacio`** y de trabajo **`Profesor`**. Guarde el diccionario de respuesta en una variable llamada **`created_user`** e imprímala en pantalla"
   ]
  },
  {
   "cell_type": "code",
   "execution_count": 2,
   "metadata": {},
   "outputs": [
    {
     "name": "stdout",
     "output_type": "stream",
     "text": [
      "{'createdAt': '2023-11-22T22:14:40.869Z',\n",
      " 'first_name': 'Ignacio',\n",
      " 'id': '185',\n",
      " 'job': 'profesor'}\n"
     ]
    }
   ],
   "source": [
    "post_data = {\"first_name\":\"Ignacio\",\n",
    "             \"job\":\"profesor\"}\n",
    "\n",
    "created_user = req('POST', url, data=post_data)\n",
    "pprint(created_user)"
   ]
  },
  {
   "cell_type": "markdown",
   "metadata": {},
   "source": [
    "#### **`Paso 3: PUT`**\n",
    "\n",
    "Actualice el usuario llamado **`George`** de **` id  =  1`** para que tenga un campo llamado **`residence`** igual a **`zion`**. Guarde el diccionario de respuesta en una variable llamada **`updated_user`** e imprímala en pantalla"
   ]
  },
  {
   "cell_type": "code",
   "execution_count": 3,
   "metadata": {},
   "outputs": [
    {
     "name": "stdout",
     "output_type": "stream",
     "text": [
      "{'avatar': 'https://reqres.in/img/faces/1-image.jpg',\n",
      " 'email': 'george.bluth@reqres.in',\n",
      " 'first_name': 'George',\n",
      " 'last_name': 'Bluth',\n",
      " 'residence': 'zion',\n",
      " 'updatedAt': '2023-11-22T22:34:35.545Z'}\n"
     ]
    }
   ],
   "source": [
    "put_data = {\"email\": \"george.bluth@reqres.in\",\n",
    "            \"first_name\": \"George\",\n",
    "            \"last_name\": \"Bluth\",\n",
    "            \"avatar\": \"https://reqres.in/img/faces/1-image.jpg\",\n",
    "            \"residence\":\"zion\"}\n",
    "\n",
    "update_user = req('PUT', url+'/1', data=put_data)\n",
    "pprint(update_user)"
   ]
  },
  {
   "cell_type": "markdown",
   "metadata": {},
   "source": [
    "#### **`Paso 4: DELETE`**\n",
    "\n",
    "Elimine un usuario llamado **`Tracey`**. Imprima el código de respuesta en pantalla"
   ]
  },
  {
   "cell_type": "code",
   "execution_count": 21,
   "metadata": {},
   "outputs": [],
   "source": [
    "import requests\n",
    "import json\n",
    "from pprint import pprint\n",
    "\n",
    "url = \"https://reqres.in/api/users\"\n",
    "\n",
    "## Paso 4: DELETE => Tracey\n",
    "\n",
    "def del_req(url, id):\n",
    "    url = url + f'/{id}'\n",
    "    print(url)\n",
    "    return requests.request('DELETE', url=url)"
   ]
  },
  {
   "cell_type": "code",
   "execution_count": 17,
   "metadata": {},
   "outputs": [
    {
     "data": {
      "text/plain": [
       "[6]"
      ]
     },
     "execution_count": 17,
     "metadata": {},
     "output_type": "execute_result"
    }
   ],
   "source": [
    "d = users_data['data']\n",
    "\n",
    "[elemento['id'] for elemento in d if elemento['first_name'] == 'Tracey']"
   ]
  },
  {
   "cell_type": "code",
   "execution_count": 19,
   "metadata": {},
   "outputs": [
    {
     "data": {
      "text/plain": [
       "[6]"
      ]
     },
     "execution_count": 19,
     "metadata": {},
     "output_type": "execute_result"
    }
   ],
   "source": [
    "lista = []\n",
    "for elemento in objeto:\n",
    "    if elemento['first_name'] == 'Tracey':\n",
    "        lista.append(elemento['id'])\n",
    "\n",
    "lista "
   ]
  },
  {
   "cell_type": "markdown",
   "metadata": {},
   "source": [
    "De esta manera borramos el **`id = 6`** de **`Tracey`**"
   ]
  },
  {
   "cell_type": "code",
   "execution_count": 22,
   "metadata": {},
   "outputs": [
    {
     "name": "stdout",
     "output_type": "stream",
     "text": [
      "https://reqres.in/api/users/6\n",
      "<Response [204]>\n"
     ]
    }
   ],
   "source": [
    "print(del_req(url, lista[0]))"
   ]
  }
 ],
 "metadata": {
  "kernelspec": {
   "display_name": "base",
   "language": "python",
   "name": "python3"
  },
  "language_info": {
   "codemirror_mode": {
    "name": "ipython",
    "version": 3
   },
   "file_extension": ".py",
   "mimetype": "text/x-python",
   "name": "python",
   "nbconvert_exporter": "python",
   "pygments_lexer": "ipython3",
   "version": "3.9.5"
  }
 },
 "nbformat": 4,
 "nbformat_minor": 2
}
