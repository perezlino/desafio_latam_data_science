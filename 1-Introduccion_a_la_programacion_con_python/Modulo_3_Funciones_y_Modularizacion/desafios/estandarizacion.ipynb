{
 "cells": [
  {
   "cell_type": "markdown",
   "metadata": {},
   "source": [
    "### **Desafio \"Estandarización\"**"
   ]
  },
  {
   "cell_type": "code",
   "execution_count": 1,
   "metadata": {},
   "outputs": [
    {
     "name": "stdout",
     "output_type": "stream",
     "text": [
      "La media es 3.5\n",
      "La desviación estándar es 1.8708286933869707\n",
      "La lista estandarizada es [-1.3363062095621219, -0.8017837257372732, -0.2672612419124244, 0.2672612419124244, 0.8017837257372732, 1.3363062095621219]\n"
     ]
    }
   ],
   "source": [
    "import math\n",
    "\n",
    "# Funciones\n",
    "\n",
    "def media(lista):\n",
    "    return sum(lista)/len(lista)\n",
    "\n",
    "def sdd(lista, media):\n",
    "    diff = [(elemento-media) **2 for elemento in lista]\n",
    "    return math.sqrt(sum(diff)/(len(lista)-1))\n",
    "\n",
    "def resultado(lista):\n",
    "    m = media(lista)\n",
    "    sd = sdd(lista, m)\n",
    "    lista_estandarizada = [(valor-m)/sd for valor in lista]\n",
    "    return m, sd, lista_estandarizada\n",
    "\n",
    "lista = [1,2,3,4,5,6]\n",
    "\n",
    "m, desv_st, l_e = resultado(lista)\n",
    "\n",
    "print(f'La media es {m}')\n",
    "print(f'La desviación estándar es {desv_st}')\n",
    "print(f'La lista estandarizada es {l_e}')"
   ]
  }
 ],
 "metadata": {
  "kernelspec": {
   "display_name": "base",
   "language": "python",
   "name": "python3"
  },
  "language_info": {
   "codemirror_mode": {
    "name": "ipython",
    "version": 3
   },
   "file_extension": ".py",
   "mimetype": "text/x-python",
   "name": "python",
   "nbconvert_exporter": "python",
   "pygments_lexer": "ipython3",
   "version": "3.9.5"
  }
 },
 "nbformat": 4,
 "nbformat_minor": 2
}
