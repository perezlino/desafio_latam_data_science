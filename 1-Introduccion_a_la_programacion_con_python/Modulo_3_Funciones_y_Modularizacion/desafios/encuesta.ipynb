{
 "cells": [
  {
   "cell_type": "markdown",
   "metadata": {},
   "source": [
    "### **Desafio \"Encuesta\"**"
   ]
  },
  {
   "cell_type": "code",
   "execution_count": 4,
   "metadata": {},
   "outputs": [
    {
     "name": "stdout",
     "output_type": "stream",
     "text": [
      "¿Vivirias en Argentina?\n",
      "Opciones\n",
      "1) De acuerdo\n",
      "2) En desacuerdo\n",
      "3) No me interesa\n",
      "¿Tendrias un gato?\n",
      "Opciones\n",
      "1) De acuerdo\n",
      "2) En desacuerdo\n",
      "3) No me interesa\n",
      "¿Usarias una polera amarilla?\n",
      "Opciones\n",
      "1) De acuerdo\n",
      "2) En desacuerdo\n",
      "3) No me interesa\n",
      "La respuesta a la pregunta 1 fue 1\n",
      "La respuesta a la pregunta 2 fue 3\n",
      "La respuesta a la pregunta 3 fue 3\n",
      "Muchas gracias por responder la encuesta\n"
     ]
    }
   ],
   "source": [
    "def imprimir_menu():\n",
    "    print('Opciones')\n",
    "    print('1) De acuerdo')\n",
    "    print('2) En desacuerdo')\n",
    "    print('3) No me interesa')\n",
    "\n",
    "preguntas = ['¿Vivirias en Argentina?', '¿Tendrias un gato?', '¿Usarias una polera amarilla?']\n",
    "\n",
    "respuestas = []\n",
    "\n",
    "for pregunta in preguntas:\n",
    "    print(pregunta)\n",
    "    imprimir_menu()\n",
    "    respuestas.append(input('>'))\n",
    "\n",
    "print(f'La respuesta a la pregunta 1 fue {respuestas[0]}')\n",
    "print(f'La respuesta a la pregunta 2 fue {respuestas[1]}')\n",
    "print(f'La respuesta a la pregunta 3 fue {respuestas[2]}')\n",
    "\n",
    "print('Muchas gracias por responder la encuesta')"
   ]
  },
  {
   "cell_type": "markdown",
   "metadata": {},
   "source": [
    "### **Desafio \"Revisitando la Encuesta\"**"
   ]
  },
  {
   "cell_type": "markdown",
   "metadata": {},
   "source": [
    "#### Forma 1"
   ]
  },
  {
   "cell_type": "code",
   "execution_count": 9,
   "metadata": {},
   "outputs": [
    {
     "name": "stdout",
     "output_type": "stream",
     "text": [
      "¿Vivirias en Argentina?\n",
      "Opciones\n",
      "1) De acuerdo\n",
      "2) En desacuerdo\n",
      "3) No me interesa\n",
      "La respuesta a la pregunta 1 fue 1\n",
      "¿Tendrias un gato?\n",
      "Opciones\n",
      "1) De acuerdo\n",
      "2) En desacuerdo\n",
      "3) No me interesa\n",
      "La respuesta a la pregunta 2 fue 3\n",
      "¿Usarias una polera amarilla?\n",
      "Opciones\n",
      "1) De acuerdo\n",
      "2) En desacuerdo\n",
      "3) No me interesa\n",
      "La respuesta a la pregunta 3 fue 3\n",
      "Muchas gracias por responder la encuesta\n"
     ]
    }
   ],
   "source": [
    "def imprimir_menu():\n",
    "    print('Opciones')\n",
    "    print('1) De acuerdo')\n",
    "    print('2) En desacuerdo')\n",
    "    print('3) No me interesa')\n",
    "    \n",
    "def mostrar_respuesta(indice):\n",
    "    print(f'La respuesta a la pregunta {contador} fue {indice}')  \n",
    "\n",
    "preguntas = ['¿Vivirias en Argentina?', '¿Tendrias un gato?', '¿Usarias una polera amarilla?']\n",
    "\n",
    "respuestas = []\n",
    "\n",
    "contador = 1\n",
    "\n",
    "for pregunta in preguntas:\n",
    "    print(pregunta)\n",
    "    imprimir_menu()\n",
    "    res = int(input('Respuesta: '))\n",
    "    respuestas.append(res)\n",
    "    mostrar_respuesta(res)\n",
    "    contador += 1\n",
    "\n",
    "print('Muchas gracias por responder la encuesta')"
   ]
  },
  {
   "cell_type": "markdown",
   "metadata": {},
   "source": [
    "#### Forma 2"
   ]
  },
  {
   "cell_type": "code",
   "execution_count": 12,
   "metadata": {},
   "outputs": [
    {
     "name": "stdout",
     "output_type": "stream",
     "text": [
      "¿Vivirias en Argentina?\n",
      "Opciones\n",
      "1) De acuerdo\n",
      "2) En desacuerdo\n",
      "3) No me interesa\n",
      "¿Tendrias un gato?\n",
      "Opciones\n",
      "1) De acuerdo\n",
      "2) En desacuerdo\n",
      "3) No me interesa\n",
      "¿Usarias una polera amarilla?\n",
      "Opciones\n",
      "1) De acuerdo\n",
      "2) En desacuerdo\n",
      "3) No me interesa\n",
      "La respuesta a la pregunta 1 fue 1\n",
      "La respuesta a la pregunta 2 fue 3\n",
      "La respuesta a la pregunta 3 fue 3\n",
      "Muchas gracias por responder la encuesta\n"
     ]
    }
   ],
   "source": [
    "def imprimir_menu():\n",
    "    print('Opciones')\n",
    "    print('1) De acuerdo')\n",
    "    print('2) En desacuerdo')\n",
    "    print('3) No me interesa')\n",
    "    \n",
    "def mostrar_respuesta(indice):\n",
    "    print(f'La respuesta a la pregunta {indice + 1} fue {respuestas[indice]}')  \n",
    "\n",
    "preguntas = ['¿Vivirias en Argentina?', '¿Tendrias un gato?', '¿Usarias una polera amarilla?']\n",
    "\n",
    "respuestas = []\n",
    "\n",
    "for pregunta in preguntas:\n",
    "    print(pregunta)\n",
    "    imprimir_menu()\n",
    "    res = int(input('Respuesta: '))\n",
    "    respuestas.append(res)\n",
    "\n",
    "# Al terminar este for, recordar que la lista \"respuestas\" ya tendrá las respuestas, por ejemplo, [1, 3, 3]\n",
    "# Podemos recorrer esta lista para obtener y mostrar la respuesta\n",
    "\n",
    "for idx in range(3):\n",
    "    mostrar_respuesta(idx)    \n",
    "\n",
    "print('Muchas gracias por responder la encuesta')"
   ]
  }
 ],
 "metadata": {
  "kernelspec": {
   "display_name": "base",
   "language": "python",
   "name": "python3"
  },
  "language_info": {
   "codemirror_mode": {
    "name": "ipython",
    "version": 3
   },
   "file_extension": ".py",
   "mimetype": "text/x-python",
   "name": "python",
   "nbconvert_exporter": "python",
   "pygments_lexer": "ipython3",
   "version": "3.9.5"
  }
 },
 "nbformat": 4,
 "nbformat_minor": 2
}
