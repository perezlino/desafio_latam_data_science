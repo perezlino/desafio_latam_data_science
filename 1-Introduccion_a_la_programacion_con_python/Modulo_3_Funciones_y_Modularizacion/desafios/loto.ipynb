{
 "cells": [
  {
   "cell_type": "markdown",
   "metadata": {},
   "source": [
    "### **Desafio \"Loto\"**"
   ]
  },
  {
   "cell_type": "code",
   "execution_count": 3,
   "metadata": {},
   "outputs": [
    {
     "name": "stdout",
     "output_type": "stream",
     "text": [
      "El primero nro es el 14\n",
      "[0, 1, 2, 3, 4, 5, 6, 7, 8, 9, 10, 11, 12, 13, 15, 16, 17, 18, 19, 20, 21, 22, 23, 24, 25, 26, 27, 28, 29, 30, 31, 32, 33, 34, 35, 36, 37, 38, 39, 40, 41]\n",
      "El segundo nro es el 8\n",
      "[0, 1, 2, 3, 4, 5, 6, 7, 9, 10, 11, 12, 13, 15, 16, 17, 18, 19, 20, 21, 22, 23, 24, 25, 26, 27, 28, 29, 30, 31, 32, 33, 34, 35, 36, 37, 38, 39, 40, 41]\n",
      "El tercer es el 2\n",
      "[0, 1, 3, 4, 5, 6, 7, 9, 10, 11, 12, 13, 15, 16, 17, 18, 19, 20, 21, 22, 23, 24, 25, 26, 27, 28, 29, 30, 31, 32, 33, 34, 35, 36, 37, 38, 39, 40, 41]\n",
      "Sorteo terminado\n"
     ]
    }
   ],
   "source": [
    "import random\n",
    "\n",
    "pool = [n for n in range(42)]\n",
    "\n",
    "posiciones = ['primero nro', 'segundo nro', 'tercer']\n",
    "\n",
    "def sacar_numero(posicion):\n",
    "    '''\n",
    "    funcion le doy posicion\n",
    "    modificar el pool de nros para extraer un elemento al azar\n",
    "    '''\n",
    "    global pool\n",
    "    elegido = random.choice(pool)\n",
    "    pool.remove(elegido)\n",
    "    print(f'El {posicion} es el {elegido}')\n",
    "\n",
    "for pos in posiciones:\n",
    "    sacar_numero(pos)\n",
    "    print(pool)\n",
    "\n",
    "print('Sorteo terminado')"
   ]
  },
  {
   "cell_type": "markdown",
   "metadata": {},
   "source": [
    "Otra forma"
   ]
  },
  {
   "cell_type": "code",
   "execution_count": 4,
   "metadata": {},
   "outputs": [
    {
     "name": "stdout",
     "output_type": "stream",
     "text": [
      "El primero nro es el 18\n",
      "[0, 1, 2, 3, 4, 5, 6, 7, 8, 9, 10, 11, 12, 13, 14, 15, 16, 17, 19, 20, 21, 22, 23, 24, 25, 26, 27, 28, 29, 30, 31, 32, 33, 34, 35, 36, 37, 38, 39, 40, 41]\n",
      "El segundo nro es el 17\n",
      "[0, 1, 2, 3, 4, 5, 6, 7, 8, 9, 10, 11, 12, 13, 14, 15, 16, 19, 20, 21, 22, 23, 24, 25, 26, 27, 28, 29, 30, 31, 32, 33, 34, 35, 36, 37, 38, 39, 40, 41]\n",
      "El tercer es el 13\n",
      "[0, 1, 2, 3, 4, 5, 6, 7, 8, 9, 10, 11, 12, 14, 15, 16, 19, 20, 21, 22, 23, 24, 25, 26, 27, 28, 29, 30, 31, 32, 33, 34, 35, 36, 37, 38, 39, 40, 41]\n",
      "Sorteo terminado\n"
     ]
    }
   ],
   "source": [
    "import random\n",
    "\n",
    "pool = [n for n in range(42)]\n",
    "\n",
    "posiciones = ['primero nro', 'segundo nro', 'tercer']\n",
    "\n",
    "def sacar_numero(posicion):\n",
    "    '''\n",
    "    funcion le doy posicion\n",
    "    modificar el pool de nros para extraer un elemento al azar\n",
    "    '''\n",
    "    elegido = random.choice(pool)\n",
    "    pool.remove(elegido)\n",
    "    print(f'El {posicion} es el {elegido}')\n",
    "    return pool\n",
    "\n",
    "for pos in posiciones:\n",
    "    pool = sacar_numero(pos)\n",
    "    print(pool)\n",
    "\n",
    "print('Sorteo terminado')"
   ]
  }
 ],
 "metadata": {
  "kernelspec": {
   "display_name": "base",
   "language": "python",
   "name": "python3"
  },
  "language_info": {
   "codemirror_mode": {
    "name": "ipython",
    "version": 3
   },
   "file_extension": ".py",
   "mimetype": "text/x-python",
   "name": "python",
   "nbconvert_exporter": "python",
   "pygments_lexer": "ipython3",
   "version": "3.9.5"
  }
 },
 "nbformat": 4,
 "nbformat_minor": 2
}
