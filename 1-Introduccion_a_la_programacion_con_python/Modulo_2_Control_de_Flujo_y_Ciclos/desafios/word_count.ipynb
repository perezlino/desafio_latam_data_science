{
 "cells": [
  {
   "cell_type": "markdown",
   "metadata": {},
   "source": [
    "### **Ejercicio \"Word count\"**"
   ]
  },
  {
   "cell_type": "code",
   "execution_count": 1,
   "metadata": {},
   "outputs": [
    {
     "name": "stdout",
     "output_type": "stream",
     "text": [
      "Lorem Ipsum es simplemente el texto de relleno de las imprentas y archivos de texto. Lorem Ipsum ha sido el texto de relleno estándar de las industrias desde el año 1500, cuando un impresor (N. del T. persona que se dedica a la imprenta) desconocido usó una galería de textos y los mezcló de tal manera que logró hacer un libro de textos especimen. No sólo sobrevivió 500 años, sino que tambien ingresó como texto de relleno en documentos electrónicos, quedando esencialmente igual al original. Fue popularizado en los 60s con la creación de las hojas \"Letraset\", las cuales contenian pasajes de Lorem Ipsum, y más recientemente con software de autoedición, como por ejemplo Aldus PageMaker, el cual incluye versiones de Lorem Ipsum.\n",
      "{'e', 'I', '\"', 'p', 'x', '(', 'á', 'n', 'd', 'f', 'L', 'v', 'z', 'q', 'b', ',', 'P', 'ñ', 'ó', 'F', 'M', '0', '5', 'í', 'l', 't', 'g', 'y', 'T', 'r', 'N', 'i', 'o', 'k', 'm', 'h', 'j', 'A', '.', 'u', '6', 'c', 's', 'a', 'w', ' ', '1', ')'}\n",
      "El numero de caracteres distintos es 48\n",
      "El numero de caracteres distintos es 86\n"
     ]
    }
   ],
   "source": [
    "import sys\n",
    "\n",
    "# lorem_ipsum = str(sys.argv[1]) <----------- Para ingresar los valores por consola por medio de un archivo .py\n",
    "lorem_ipsum = str(input('Ingresa el nombre del archivo: '))\n",
    "\n",
    "with open(lorem_ipsum, 'r') as file:\n",
    "    texto = file.read()\n",
    "\n",
    "# Utilizamos \"set\" dado que los conjuntos no se repiten los elementos\n",
    "\n",
    "print(texto)    \n",
    "\n",
    "caracteres = (set(texto))\n",
    "\n",
    "print(caracteres)\n",
    "\n",
    "n_caracteres = len(set(texto))\n",
    "\n",
    "n_palabras = len(set(texto.split()))\n",
    "\n",
    "print(f'El numero de caracteres distintos es {n_caracteres}')\n",
    "print(f'El numero de caracteres distintos es {n_palabras}')"
   ]
  }
 ],
 "metadata": {
  "kernelspec": {
   "display_name": "base",
   "language": "python",
   "name": "python3"
  },
  "language_info": {
   "codemirror_mode": {
    "name": "ipython",
    "version": 3
   },
   "file_extension": ".py",
   "mimetype": "text/x-python",
   "name": "python",
   "nbconvert_exporter": "python",
   "pygments_lexer": "ipython3",
   "version": "3.9.5"
  }
 },
 "nbformat": 4,
 "nbformat_minor": 2
}
