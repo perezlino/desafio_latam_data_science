{
 "cells": [
  {
   "cell_type": "markdown",
   "metadata": {},
   "source": [
    "### **Clase 4 - Variables aleatorias y gráficos**"
   ]
  },
  {
   "cell_type": "markdown",
   "metadata": {},
   "source": [
    "#### **`Analizando el Índice de Desarrollo Humano: Distribucion normal`**"
   ]
  },
  {
   "cell_type": "markdown",
   "metadata": {},
   "source": [
    "En esta primera parte analizaremos el Índice de Desarrollo Humano de los países. Fue creado por el Programa de las Naciones Unidas para el Desarrollo buscando generar una medición alternativa para el desarrollo de un país, en oposición a las mediciones clásicas como el crecimiento económico.\n",
    "\n",
    "Este índice es un resumen de la facilidad de un país en entregarle a sus habitantes una vida larga y saludable, una educación de calidad que les permita comprender su entorno y tener un nivel de vida decente.\n",
    "\n",
    "La dimensión de la salud se mide por la esperanza de vida al nacer, la educación se mide mediante el promedio de años de escolaridad en la población sobre los 25 años y la cantidad esperada de años de escolaridad en la población infantil. La dimensión del nivel de vida se mide con el producto nacional bruto per cápita. Estas dimensiones posteriormente son normalizadas y promediadas.\n",
    "\n",
    "El índice va entre 0 (nivel de desarrollo humano precario) a 1 (nivel de desarrollo humano perfecto)."
   ]
  },
  {
   "cell_type": "markdown",
   "metadata": {},
   "source": [
    "##### **1 - Importar librerias y carga de archivo**"
   ]
  },
  {
   "cell_type": "code",
   "execution_count": 2,
   "metadata": {},
   "outputs": [],
   "source": [
    "# %matplotlib auto --> me tira los graficos en una pantalla externa al notebook\n",
    "# %matplotlib inline --> me tira los graficos dentro del notebook\n",
    "%matplotlib inline\n",
    "\n",
    "# Importamos la triada de Data Science\n",
    "import pandas as pd\n",
    "import numpy as np\n",
    "import matplotlib.pyplot as plt\n",
    "\n",
    "# Importamos scipy.stats que ayudará a generar distribuciones\n",
    "import scipy.stats as stats\n",
    "\n",
    "# Archivos con funciones de visualizacion\n",
    "import lec3_graphs as gfx\n",
    "\n",
    "# Estilo de los gráficos\n",
    "plt.style.use('seaborn-whitegrid') # Graficos estilo seaborn\n",
    "plt.rcParams[\"figure.figsize\"] = (10,6) # Tamaño gráficos"
   ]
  },
  {
   "cell_type": "code",
   "execution_count": 1,
   "metadata": {},
   "outputs": [
    {
     "data": {
      "text/plain": [
       "['Clase 4 - Variables Aleatorias y gráficos.pdf',\n",
       " 'clase_4_-_variables_aleatorias_y_graficos.ipynb',\n",
       " 'clase_4_practica.ipynb',\n",
       " 'lec3_graphs.py',\n",
       " 'qog_std_cs_jan18.csv']"
      ]
     },
     "execution_count": 1,
     "metadata": {},
     "output_type": "execute_result"
    }
   ],
   "source": [
    "import os\n",
    "\n",
    "os.listdir()"
   ]
  },
  {
   "cell_type": "code",
   "execution_count": 3,
   "metadata": {},
   "outputs": [
    {
     "data": {
      "text/plain": [
       "(194, 1882)"
      ]
     },
     "execution_count": 3,
     "metadata": {},
     "output_type": "execute_result"
    }
   ],
   "source": [
    "df = pd.read_csv('qog_std_cs_jan18.csv')\n",
    "df.shape"
   ]
  },
  {
   "cell_type": "code",
   "execution_count": 7,
   "metadata": {},
   "outputs": [
    {
     "data": {
      "text/html": [
       "<div>\n",
       "<style scoped>\n",
       "    .dataframe tbody tr th:only-of-type {\n",
       "        vertical-align: middle;\n",
       "    }\n",
       "\n",
       "    .dataframe tbody tr th {\n",
       "        vertical-align: top;\n",
       "    }\n",
       "\n",
       "    .dataframe thead th {\n",
       "        text-align: right;\n",
       "    }\n",
       "</style>\n",
       "<table border=\"1\" class=\"dataframe\">\n",
       "  <thead>\n",
       "    <tr style=\"text-align: right;\">\n",
       "      <th></th>\n",
       "      <th>ccode</th>\n",
       "      <th>cname</th>\n",
       "      <th>ccodealp</th>\n",
       "      <th>ccodecow</th>\n",
       "      <th>ccodewb</th>\n",
       "      <th>version</th>\n",
       "      <th>aid_cpnc</th>\n",
       "      <th>aid_cpsc</th>\n",
       "      <th>aid_crnc</th>\n",
       "      <th>aid_crnio</th>\n",
       "      <th>...</th>\n",
       "      <th>wvs_relacc</th>\n",
       "      <th>wvs_relsch</th>\n",
       "      <th>wvs_relsci</th>\n",
       "      <th>wvs_satfin</th>\n",
       "      <th>wvs_satlif</th>\n",
       "      <th>wvs_screl</th>\n",
       "      <th>wvs_subh</th>\n",
       "      <th>wvs_survself</th>\n",
       "      <th>wvs_tradrat</th>\n",
       "      <th>wvs_trust</th>\n",
       "    </tr>\n",
       "  </thead>\n",
       "  <tbody>\n",
       "    <tr>\n",
       "      <th>0</th>\n",
       "      <td>4</td>\n",
       "      <td>Afghanistan</td>\n",
       "      <td>AFG</td>\n",
       "      <td>700.0</td>\n",
       "      <td>4.0</td>\n",
       "      <td>QoGStdCSJan18</td>\n",
       "      <td>NaN</td>\n",
       "      <td>NaN</td>\n",
       "      <td>29.0</td>\n",
       "      <td>13.0</td>\n",
       "      <td>...</td>\n",
       "      <td>NaN</td>\n",
       "      <td>NaN</td>\n",
       "      <td>NaN</td>\n",
       "      <td>NaN</td>\n",
       "      <td>NaN</td>\n",
       "      <td>NaN</td>\n",
       "      <td>NaN</td>\n",
       "      <td>NaN</td>\n",
       "      <td>NaN</td>\n",
       "      <td>NaN</td>\n",
       "    </tr>\n",
       "    <tr>\n",
       "      <th>1</th>\n",
       "      <td>8</td>\n",
       "      <td>Albania</td>\n",
       "      <td>ALB</td>\n",
       "      <td>339.0</td>\n",
       "      <td>8.0</td>\n",
       "      <td>QoGStdCSJan18</td>\n",
       "      <td>NaN</td>\n",
       "      <td>NaN</td>\n",
       "      <td>26.0</td>\n",
       "      <td>13.0</td>\n",
       "      <td>...</td>\n",
       "      <td>NaN</td>\n",
       "      <td>NaN</td>\n",
       "      <td>NaN</td>\n",
       "      <td>NaN</td>\n",
       "      <td>NaN</td>\n",
       "      <td>NaN</td>\n",
       "      <td>NaN</td>\n",
       "      <td>NaN</td>\n",
       "      <td>NaN</td>\n",
       "      <td>NaN</td>\n",
       "    </tr>\n",
       "    <tr>\n",
       "      <th>2</th>\n",
       "      <td>12</td>\n",
       "      <td>Algeria</td>\n",
       "      <td>DZA</td>\n",
       "      <td>615.0</td>\n",
       "      <td>12.0</td>\n",
       "      <td>QoGStdCSJan18</td>\n",
       "      <td>NaN</td>\n",
       "      <td>NaN</td>\n",
       "      <td>21.0</td>\n",
       "      <td>6.0</td>\n",
       "      <td>...</td>\n",
       "      <td>3.710616</td>\n",
       "      <td>1.704692</td>\n",
       "      <td>3.681347</td>\n",
       "      <td>5.988125</td>\n",
       "      <td>6.301029</td>\n",
       "      <td>5.339371</td>\n",
       "      <td>3.805579</td>\n",
       "      <td>-0.409807</td>\n",
       "      <td>-0.498164</td>\n",
       "      <td>0.179286</td>\n",
       "    </tr>\n",
       "    <tr>\n",
       "      <th>3</th>\n",
       "      <td>20</td>\n",
       "      <td>Andorra</td>\n",
       "      <td>AND</td>\n",
       "      <td>232.0</td>\n",
       "      <td>20.0</td>\n",
       "      <td>QoGStdCSJan18</td>\n",
       "      <td>NaN</td>\n",
       "      <td>NaN</td>\n",
       "      <td>NaN</td>\n",
       "      <td>NaN</td>\n",
       "      <td>...</td>\n",
       "      <td>NaN</td>\n",
       "      <td>NaN</td>\n",
       "      <td>NaN</td>\n",
       "      <td>NaN</td>\n",
       "      <td>NaN</td>\n",
       "      <td>NaN</td>\n",
       "      <td>NaN</td>\n",
       "      <td>NaN</td>\n",
       "      <td>NaN</td>\n",
       "      <td>NaN</td>\n",
       "    </tr>\n",
       "    <tr>\n",
       "      <th>4</th>\n",
       "      <td>24</td>\n",
       "      <td>Angola</td>\n",
       "      <td>AGO</td>\n",
       "      <td>540.0</td>\n",
       "      <td>24.0</td>\n",
       "      <td>QoGStdCSJan18</td>\n",
       "      <td>NaN</td>\n",
       "      <td>NaN</td>\n",
       "      <td>22.0</td>\n",
       "      <td>13.0</td>\n",
       "      <td>...</td>\n",
       "      <td>NaN</td>\n",
       "      <td>NaN</td>\n",
       "      <td>NaN</td>\n",
       "      <td>NaN</td>\n",
       "      <td>NaN</td>\n",
       "      <td>NaN</td>\n",
       "      <td>NaN</td>\n",
       "      <td>NaN</td>\n",
       "      <td>NaN</td>\n",
       "      <td>NaN</td>\n",
       "    </tr>\n",
       "    <tr>\n",
       "      <th>5</th>\n",
       "      <td>28</td>\n",
       "      <td>Antigua and Barbuda</td>\n",
       "      <td>ATG</td>\n",
       "      <td>58.0</td>\n",
       "      <td>28.0</td>\n",
       "      <td>QoGStdCSJan18</td>\n",
       "      <td>NaN</td>\n",
       "      <td>NaN</td>\n",
       "      <td>11.0</td>\n",
       "      <td>3.0</td>\n",
       "      <td>...</td>\n",
       "      <td>NaN</td>\n",
       "      <td>NaN</td>\n",
       "      <td>NaN</td>\n",
       "      <td>NaN</td>\n",
       "      <td>NaN</td>\n",
       "      <td>NaN</td>\n",
       "      <td>NaN</td>\n",
       "      <td>NaN</td>\n",
       "      <td>NaN</td>\n",
       "      <td>NaN</td>\n",
       "    </tr>\n",
       "    <tr>\n",
       "      <th>6</th>\n",
       "      <td>31</td>\n",
       "      <td>Azerbaijan</td>\n",
       "      <td>AZE</td>\n",
       "      <td>373.0</td>\n",
       "      <td>31.0</td>\n",
       "      <td>QoGStdCSJan18</td>\n",
       "      <td>NaN</td>\n",
       "      <td>NaN</td>\n",
       "      <td>25.0</td>\n",
       "      <td>15.0</td>\n",
       "      <td>...</td>\n",
       "      <td>2.922372</td>\n",
       "      <td>2.025111</td>\n",
       "      <td>2.305843</td>\n",
       "      <td>5.581910</td>\n",
       "      <td>6.662893</td>\n",
       "      <td>4.948389</td>\n",
       "      <td>3.753472</td>\n",
       "      <td>-0.667609</td>\n",
       "      <td>-0.416085</td>\n",
       "      <td>0.152803</td>\n",
       "    </tr>\n",
       "    <tr>\n",
       "      <th>7</th>\n",
       "      <td>32</td>\n",
       "      <td>Argentina</td>\n",
       "      <td>ARG</td>\n",
       "      <td>160.0</td>\n",
       "      <td>32.0</td>\n",
       "      <td>QoGStdCSJan18</td>\n",
       "      <td>NaN</td>\n",
       "      <td>NaN</td>\n",
       "      <td>23.0</td>\n",
       "      <td>7.0</td>\n",
       "      <td>...</td>\n",
       "      <td>1.850180</td>\n",
       "      <td>2.163982</td>\n",
       "      <td>2.091454</td>\n",
       "      <td>6.517899</td>\n",
       "      <td>7.488213</td>\n",
       "      <td>6.504242</td>\n",
       "      <td>3.989496</td>\n",
       "      <td>0.161507</td>\n",
       "      <td>-0.103415</td>\n",
       "      <td>0.198548</td>\n",
       "    </tr>\n",
       "    <tr>\n",
       "      <th>8</th>\n",
       "      <td>36</td>\n",
       "      <td>Australia</td>\n",
       "      <td>AUS</td>\n",
       "      <td>900.0</td>\n",
       "      <td>36.0</td>\n",
       "      <td>QoGStdCSJan18</td>\n",
       "      <td>134.0</td>\n",
       "      <td>2.866382e+09</td>\n",
       "      <td>NaN</td>\n",
       "      <td>NaN</td>\n",
       "      <td>...</td>\n",
       "      <td>1.606337</td>\n",
       "      <td>2.209082</td>\n",
       "      <td>1.755517</td>\n",
       "      <td>6.321970</td>\n",
       "      <td>7.203336</td>\n",
       "      <td>4.063055</td>\n",
       "      <td>4.069681</td>\n",
       "      <td>1.044364</td>\n",
       "      <td>0.422270</td>\n",
       "      <td>0.518140</td>\n",
       "    </tr>\n",
       "    <tr>\n",
       "      <th>9</th>\n",
       "      <td>40</td>\n",
       "      <td>Austria</td>\n",
       "      <td>AUT</td>\n",
       "      <td>305.0</td>\n",
       "      <td>40.0</td>\n",
       "      <td>QoGStdCSJan18</td>\n",
       "      <td>103.0</td>\n",
       "      <td>3.775100e+08</td>\n",
       "      <td>NaN</td>\n",
       "      <td>NaN</td>\n",
       "      <td>...</td>\n",
       "      <td>NaN</td>\n",
       "      <td>NaN</td>\n",
       "      <td>NaN</td>\n",
       "      <td>NaN</td>\n",
       "      <td>NaN</td>\n",
       "      <td>NaN</td>\n",
       "      <td>NaN</td>\n",
       "      <td>NaN</td>\n",
       "      <td>NaN</td>\n",
       "      <td>NaN</td>\n",
       "    </tr>\n",
       "  </tbody>\n",
       "</table>\n",
       "<p>10 rows × 1882 columns</p>\n",
       "</div>"
      ],
      "text/plain": [
       "   ccode                cname ccodealp  ccodecow  ccodewb        version  \\\n",
       "0      4          Afghanistan      AFG     700.0      4.0  QoGStdCSJan18   \n",
       "1      8              Albania      ALB     339.0      8.0  QoGStdCSJan18   \n",
       "2     12              Algeria      DZA     615.0     12.0  QoGStdCSJan18   \n",
       "3     20              Andorra      AND     232.0     20.0  QoGStdCSJan18   \n",
       "4     24               Angola      AGO     540.0     24.0  QoGStdCSJan18   \n",
       "5     28  Antigua and Barbuda      ATG      58.0     28.0  QoGStdCSJan18   \n",
       "6     31           Azerbaijan      AZE     373.0     31.0  QoGStdCSJan18   \n",
       "7     32            Argentina      ARG     160.0     32.0  QoGStdCSJan18   \n",
       "8     36            Australia      AUS     900.0     36.0  QoGStdCSJan18   \n",
       "9     40              Austria      AUT     305.0     40.0  QoGStdCSJan18   \n",
       "\n",
       "   aid_cpnc      aid_cpsc  aid_crnc  aid_crnio  ...  wvs_relacc  wvs_relsch  \\\n",
       "0       NaN           NaN      29.0       13.0  ...         NaN         NaN   \n",
       "1       NaN           NaN      26.0       13.0  ...         NaN         NaN   \n",
       "2       NaN           NaN      21.0        6.0  ...    3.710616    1.704692   \n",
       "3       NaN           NaN       NaN        NaN  ...         NaN         NaN   \n",
       "4       NaN           NaN      22.0       13.0  ...         NaN         NaN   \n",
       "5       NaN           NaN      11.0        3.0  ...         NaN         NaN   \n",
       "6       NaN           NaN      25.0       15.0  ...    2.922372    2.025111   \n",
       "7       NaN           NaN      23.0        7.0  ...    1.850180    2.163982   \n",
       "8     134.0  2.866382e+09       NaN        NaN  ...    1.606337    2.209082   \n",
       "9     103.0  3.775100e+08       NaN        NaN  ...         NaN         NaN   \n",
       "\n",
       "   wvs_relsci  wvs_satfin  wvs_satlif  wvs_screl  wvs_subh  wvs_survself  \\\n",
       "0         NaN         NaN         NaN        NaN       NaN           NaN   \n",
       "1         NaN         NaN         NaN        NaN       NaN           NaN   \n",
       "2    3.681347    5.988125    6.301029   5.339371  3.805579     -0.409807   \n",
       "3         NaN         NaN         NaN        NaN       NaN           NaN   \n",
       "4         NaN         NaN         NaN        NaN       NaN           NaN   \n",
       "5         NaN         NaN         NaN        NaN       NaN           NaN   \n",
       "6    2.305843    5.581910    6.662893   4.948389  3.753472     -0.667609   \n",
       "7    2.091454    6.517899    7.488213   6.504242  3.989496      0.161507   \n",
       "8    1.755517    6.321970    7.203336   4.063055  4.069681      1.044364   \n",
       "9         NaN         NaN         NaN        NaN       NaN           NaN   \n",
       "\n",
       "   wvs_tradrat  wvs_trust  \n",
       "0          NaN        NaN  \n",
       "1          NaN        NaN  \n",
       "2    -0.498164   0.179286  \n",
       "3          NaN        NaN  \n",
       "4          NaN        NaN  \n",
       "5          NaN        NaN  \n",
       "6    -0.416085   0.152803  \n",
       "7    -0.103415   0.198548  \n",
       "8     0.422270   0.518140  \n",
       "9          NaN        NaN  \n",
       "\n",
       "[10 rows x 1882 columns]"
      ]
     },
     "execution_count": 7,
     "metadata": {},
     "output_type": "execute_result"
    }
   ],
   "source": [
    "df.head(10)"
   ]
  },
  {
   "cell_type": "markdown",
   "metadata": {},
   "source": [
    "##### **2- Analizar estadisticos de la columna `undp_hdi`**"
   ]
  },
  {
   "cell_type": "markdown",
   "metadata": {},
   "source": [
    "Al ejecutar **`describe() `** en la **`Serie`** se obtiene una media de **`0.69`**, por lo que podemos decir que a nivel global el nivel de desarrollo está por sobre el punto de desarrollo medio (**`0.5`**), el nivel de desarrollo a nivel mundial se acerca más a ser '**`bueno`**'. El valor mínimo registrado es de **`0.347`**, substancialmente inferior a la media global, mientras que el valor máximo es de **`0.948`**. Hay que considerar que describe informa que hay **`186`** observaciones con valores registrados, que no concuerdan con las **`194`** observaciones originales."
   ]
  },
  {
   "cell_type": "code",
   "execution_count": 5,
   "metadata": {},
   "outputs": [
    {
     "data": {
      "text/plain": [
       "count    186.000\n",
       "mean       0.696\n",
       "std        0.155\n",
       "min        0.347\n",
       "25%        0.567\n",
       "50%        0.726\n",
       "75%        0.805\n",
       "max        0.948\n",
       "Name: undp_hdi, dtype: float64"
      ]
     },
     "execution_count": 5,
     "metadata": {},
     "output_type": "execute_result"
    }
   ],
   "source": [
    "df['undp_hdi'].describe().round(3)"
   ]
  },
  {
   "cell_type": "markdown",
   "metadata": {},
   "source": [
    "##### **3- Filtrar aquellos registros que tienen valor nulo en la columna **`undp_hdi`****"
   ]
  },
  {
   "cell_type": "markdown",
   "metadata": {},
   "source": [
    "La mayoría de los países corresponden a protectorados o países con situación gubernamental anómala. Estos países tienden a no tener los suficientes recursos como para invertir en institutos de estadísticas gubernamentales.\n",
    "\n",
    "Para excluirlos de los datos, pandas ofrece el método **`dropna()`**. Funciona tanto en los **`DataFrame`** como en las **`Series`**. Hay que destacar que utilizar **`dropna()`** en DataFrame requiere un poco más de cautela en el mecanismo de omisión de datos.\n"
   ]
  },
  {
   "cell_type": "code",
   "execution_count": 6,
   "metadata": {},
   "outputs": [
    {
     "data": {
      "text/html": [
       "<div>\n",
       "<style scoped>\n",
       "    .dataframe tbody tr th:only-of-type {\n",
       "        vertical-align: middle;\n",
       "    }\n",
       "\n",
       "    .dataframe tbody tr th {\n",
       "        vertical-align: top;\n",
       "    }\n",
       "\n",
       "    .dataframe thead th {\n",
       "        text-align: right;\n",
       "    }\n",
       "</style>\n",
       "<table border=\"1\" class=\"dataframe\">\n",
       "  <thead>\n",
       "    <tr style=\"text-align: right;\">\n",
       "      <th></th>\n",
       "      <th>ccode</th>\n",
       "      <th>cname</th>\n",
       "      <th>ccodealp</th>\n",
       "      <th>ccodecow</th>\n",
       "      <th>ccodewb</th>\n",
       "      <th>version</th>\n",
       "      <th>aid_cpnc</th>\n",
       "      <th>aid_cpsc</th>\n",
       "      <th>aid_crnc</th>\n",
       "      <th>aid_crnio</th>\n",
       "      <th>...</th>\n",
       "      <th>wvs_relacc</th>\n",
       "      <th>wvs_relsch</th>\n",
       "      <th>wvs_relsci</th>\n",
       "      <th>wvs_satfin</th>\n",
       "      <th>wvs_satlif</th>\n",
       "      <th>wvs_screl</th>\n",
       "      <th>wvs_subh</th>\n",
       "      <th>wvs_survself</th>\n",
       "      <th>wvs_tradrat</th>\n",
       "      <th>wvs_trust</th>\n",
       "    </tr>\n",
       "  </thead>\n",
       "  <tbody>\n",
       "    <tr>\n",
       "      <th>37</th>\n",
       "      <td>158</td>\n",
       "      <td>Taiwan</td>\n",
       "      <td>TWN</td>\n",
       "      <td>713.0</td>\n",
       "      <td>158.0</td>\n",
       "      <td>QoGStdCSJan18</td>\n",
       "      <td>28.0</td>\n",
       "      <td>32709472.0</td>\n",
       "      <td>NaN</td>\n",
       "      <td>NaN</td>\n",
       "      <td>...</td>\n",
       "      <td>1.950127</td>\n",
       "      <td>2.490061</td>\n",
       "      <td>2.072234</td>\n",
       "      <td>6.391475</td>\n",
       "      <td>6.896482</td>\n",
       "      <td>5.671831</td>\n",
       "      <td>4.112848</td>\n",
       "      <td>-0.18797</td>\n",
       "      <td>0.759673</td>\n",
       "      <td>0.30888</td>\n",
       "    </tr>\n",
       "    <tr>\n",
       "      <th>89</th>\n",
       "      <td>408</td>\n",
       "      <td>Korea, North</td>\n",
       "      <td>PRK</td>\n",
       "      <td>731.0</td>\n",
       "      <td>408.0</td>\n",
       "      <td>QoGStdCSJan18</td>\n",
       "      <td>NaN</td>\n",
       "      <td>NaN</td>\n",
       "      <td>18.0</td>\n",
       "      <td>8.0</td>\n",
       "      <td>...</td>\n",
       "      <td>NaN</td>\n",
       "      <td>NaN</td>\n",
       "      <td>NaN</td>\n",
       "      <td>NaN</td>\n",
       "      <td>NaN</td>\n",
       "      <td>NaN</td>\n",
       "      <td>NaN</td>\n",
       "      <td>NaN</td>\n",
       "      <td>NaN</td>\n",
       "      <td>NaN</td>\n",
       "    </tr>\n",
       "    <tr>\n",
       "      <th>111</th>\n",
       "      <td>492</td>\n",
       "      <td>Monaco</td>\n",
       "      <td>MCO</td>\n",
       "      <td>221.0</td>\n",
       "      <td>492.0</td>\n",
       "      <td>QoGStdCSJan18</td>\n",
       "      <td>NaN</td>\n",
       "      <td>NaN</td>\n",
       "      <td>NaN</td>\n",
       "      <td>NaN</td>\n",
       "      <td>...</td>\n",
       "      <td>NaN</td>\n",
       "      <td>NaN</td>\n",
       "      <td>NaN</td>\n",
       "      <td>NaN</td>\n",
       "      <td>NaN</td>\n",
       "      <td>NaN</td>\n",
       "      <td>NaN</td>\n",
       "      <td>NaN</td>\n",
       "      <td>NaN</td>\n",
       "      <td>NaN</td>\n",
       "    </tr>\n",
       "    <tr>\n",
       "      <th>119</th>\n",
       "      <td>520</td>\n",
       "      <td>Nauru</td>\n",
       "      <td>NRU</td>\n",
       "      <td>970.0</td>\n",
       "      <td>520.0</td>\n",
       "      <td>QoGStdCSJan18</td>\n",
       "      <td>NaN</td>\n",
       "      <td>NaN</td>\n",
       "      <td>4.0</td>\n",
       "      <td>3.0</td>\n",
       "      <td>...</td>\n",
       "      <td>NaN</td>\n",
       "      <td>NaN</td>\n",
       "      <td>NaN</td>\n",
       "      <td>NaN</td>\n",
       "      <td>NaN</td>\n",
       "      <td>NaN</td>\n",
       "      <td>NaN</td>\n",
       "      <td>NaN</td>\n",
       "      <td>NaN</td>\n",
       "      <td>NaN</td>\n",
       "    </tr>\n",
       "    <tr>\n",
       "      <th>129</th>\n",
       "      <td>584</td>\n",
       "      <td>Marshall Islands</td>\n",
       "      <td>MHL</td>\n",
       "      <td>983.0</td>\n",
       "      <td>584.0</td>\n",
       "      <td>QoGStdCSJan18</td>\n",
       "      <td>NaN</td>\n",
       "      <td>NaN</td>\n",
       "      <td>9.0</td>\n",
       "      <td>6.0</td>\n",
       "      <td>...</td>\n",
       "      <td>NaN</td>\n",
       "      <td>NaN</td>\n",
       "      <td>NaN</td>\n",
       "      <td>NaN</td>\n",
       "      <td>NaN</td>\n",
       "      <td>NaN</td>\n",
       "      <td>NaN</td>\n",
       "      <td>NaN</td>\n",
       "      <td>NaN</td>\n",
       "      <td>NaN</td>\n",
       "    </tr>\n",
       "    <tr>\n",
       "      <th>148</th>\n",
       "      <td>674</td>\n",
       "      <td>San Marino</td>\n",
       "      <td>SMR</td>\n",
       "      <td>331.0</td>\n",
       "      <td>674.0</td>\n",
       "      <td>QoGStdCSJan18</td>\n",
       "      <td>NaN</td>\n",
       "      <td>NaN</td>\n",
       "      <td>NaN</td>\n",
       "      <td>NaN</td>\n",
       "      <td>...</td>\n",
       "      <td>NaN</td>\n",
       "      <td>NaN</td>\n",
       "      <td>NaN</td>\n",
       "      <td>NaN</td>\n",
       "      <td>NaN</td>\n",
       "      <td>NaN</td>\n",
       "      <td>NaN</td>\n",
       "      <td>NaN</td>\n",
       "      <td>NaN</td>\n",
       "      <td>NaN</td>\n",
       "    </tr>\n",
       "    <tr>\n",
       "      <th>159</th>\n",
       "      <td>706</td>\n",
       "      <td>Somalia</td>\n",
       "      <td>SOM</td>\n",
       "      <td>520.0</td>\n",
       "      <td>706.0</td>\n",
       "      <td>QoGStdCSJan18</td>\n",
       "      <td>NaN</td>\n",
       "      <td>NaN</td>\n",
       "      <td>25.0</td>\n",
       "      <td>11.0</td>\n",
       "      <td>...</td>\n",
       "      <td>NaN</td>\n",
       "      <td>NaN</td>\n",
       "      <td>NaN</td>\n",
       "      <td>NaN</td>\n",
       "      <td>NaN</td>\n",
       "      <td>NaN</td>\n",
       "      <td>NaN</td>\n",
       "      <td>NaN</td>\n",
       "      <td>NaN</td>\n",
       "      <td>NaN</td>\n",
       "    </tr>\n",
       "    <tr>\n",
       "      <th>179</th>\n",
       "      <td>798</td>\n",
       "      <td>Tuvalu</td>\n",
       "      <td>TUV</td>\n",
       "      <td>947.0</td>\n",
       "      <td>798.0</td>\n",
       "      <td>QoGStdCSJan18</td>\n",
       "      <td>NaN</td>\n",
       "      <td>NaN</td>\n",
       "      <td>8.0</td>\n",
       "      <td>5.0</td>\n",
       "      <td>...</td>\n",
       "      <td>NaN</td>\n",
       "      <td>NaN</td>\n",
       "      <td>NaN</td>\n",
       "      <td>NaN</td>\n",
       "      <td>NaN</td>\n",
       "      <td>NaN</td>\n",
       "      <td>NaN</td>\n",
       "      <td>NaN</td>\n",
       "      <td>NaN</td>\n",
       "      <td>NaN</td>\n",
       "    </tr>\n",
       "  </tbody>\n",
       "</table>\n",
       "<p>8 rows × 1882 columns</p>\n",
       "</div>"
      ],
      "text/plain": [
       "     ccode             cname ccodealp  ccodecow  ccodewb        version  \\\n",
       "37     158            Taiwan      TWN     713.0    158.0  QoGStdCSJan18   \n",
       "89     408      Korea, North      PRK     731.0    408.0  QoGStdCSJan18   \n",
       "111    492            Monaco      MCO     221.0    492.0  QoGStdCSJan18   \n",
       "119    520             Nauru      NRU     970.0    520.0  QoGStdCSJan18   \n",
       "129    584  Marshall Islands      MHL     983.0    584.0  QoGStdCSJan18   \n",
       "148    674        San Marino      SMR     331.0    674.0  QoGStdCSJan18   \n",
       "159    706           Somalia      SOM     520.0    706.0  QoGStdCSJan18   \n",
       "179    798            Tuvalu      TUV     947.0    798.0  QoGStdCSJan18   \n",
       "\n",
       "     aid_cpnc    aid_cpsc  aid_crnc  aid_crnio  ...  wvs_relacc  wvs_relsch  \\\n",
       "37       28.0  32709472.0       NaN        NaN  ...    1.950127    2.490061   \n",
       "89        NaN         NaN      18.0        8.0  ...         NaN         NaN   \n",
       "111       NaN         NaN       NaN        NaN  ...         NaN         NaN   \n",
       "119       NaN         NaN       4.0        3.0  ...         NaN         NaN   \n",
       "129       NaN         NaN       9.0        6.0  ...         NaN         NaN   \n",
       "148       NaN         NaN       NaN        NaN  ...         NaN         NaN   \n",
       "159       NaN         NaN      25.0       11.0  ...         NaN         NaN   \n",
       "179       NaN         NaN       8.0        5.0  ...         NaN         NaN   \n",
       "\n",
       "     wvs_relsci  wvs_satfin  wvs_satlif  wvs_screl  wvs_subh  wvs_survself  \\\n",
       "37     2.072234    6.391475    6.896482   5.671831  4.112848      -0.18797   \n",
       "89          NaN         NaN         NaN        NaN       NaN           NaN   \n",
       "111         NaN         NaN         NaN        NaN       NaN           NaN   \n",
       "119         NaN         NaN         NaN        NaN       NaN           NaN   \n",
       "129         NaN         NaN         NaN        NaN       NaN           NaN   \n",
       "148         NaN         NaN         NaN        NaN       NaN           NaN   \n",
       "159         NaN         NaN         NaN        NaN       NaN           NaN   \n",
       "179         NaN         NaN         NaN        NaN       NaN           NaN   \n",
       "\n",
       "     wvs_tradrat  wvs_trust  \n",
       "37      0.759673    0.30888  \n",
       "89           NaN        NaN  \n",
       "111          NaN        NaN  \n",
       "119          NaN        NaN  \n",
       "129          NaN        NaN  \n",
       "148          NaN        NaN  \n",
       "159          NaN        NaN  \n",
       "179          NaN        NaN  \n",
       "\n",
       "[8 rows x 1882 columns]"
      ]
     },
     "execution_count": 6,
     "metadata": {},
     "output_type": "execute_result"
    }
   ],
   "source": [
    "df.loc[df['undp_hdi'].isnull()]"
   ]
  },
  {
   "cell_type": "markdown",
   "metadata": {},
   "source": [
    "Antes de eliminar registros, podemos revisar que registros poseen nulos en la columna **`undp_hdi`**"
   ]
  },
  {
   "cell_type": "code",
   "execution_count": 7,
   "metadata": {},
   "outputs": [
    {
     "data": {
      "text/plain": [
       "array(['Taiwan', 'Korea, North', 'Monaco', 'Nauru', 'Marshall Islands',\n",
       "       'San Marino', 'Somalia', 'Tuvalu'], dtype=object)"
      ]
     },
     "execution_count": 7,
     "metadata": {},
     "output_type": "execute_result"
    }
   ],
   "source": [
    "df.loc[df['undp_hdi'].isnull()].cname.unique()"
   ]
  },
  {
   "cell_type": "code",
   "execution_count": 8,
   "metadata": {},
   "outputs": [
    {
     "data": {
      "text/plain": [
       "['Taiwan',\n",
       " 'Korea, North',\n",
       " 'Monaco',\n",
       " 'Nauru',\n",
       " 'Marshall Islands',\n",
       " 'San Marino',\n",
       " 'Somalia',\n",
       " 'Tuvalu']"
      ]
     },
     "execution_count": 8,
     "metadata": {},
     "output_type": "execute_result"
    }
   ],
   "source": [
    "df.loc[df['undp_hdi'].isnull()].cname.to_list()"
   ]
  },
  {
   "cell_type": "markdown",
   "metadata": {},
   "source": [
    "##### **4- Crear un Histograma utilizando la columna **`undp_hdi`****"
   ]
  },
  {
   "cell_type": "markdown",
   "metadata": {},
   "source": [
    "Cuando buscamos visualizar cómo se comporta una variable contínua, una de las formas exploratorias más comunes es mediante un histograma, que es una representación de la distribución empírica de la variable.\n",
    "\n",
    "Para ello haremos uso de **`matplotlib`**, una librería orientada a \"hacer fácil las cosas fáciles y posibles las cosas imposibles\" mediante una sintaxis clara y concisa respecto a la forma en que se pasan argumentos y se pueden modificar gráficos. Está bien integrado con **`pandas`** y **`numpy`**, facilitando la interacción entre estos elementos.\n",
    "\n",
    "Para generar un histograma, los valores continuos se agrupan en casillas (bins) y posteriormente se cuentan la cantidad de observaciones dentro de cada casilla. El comportamiento de matplotlib por defecto es calcular de forma automática las casillas.\n",
    "\n",
    "Si observamos el histograma índice de desarrollo humano, en el **`eje X`** encontramos el **`rango de valores de la variable`**, y en el **`eje Y`** encontramos la **`frecuencia`** (la cantidad de repeticiones).\n",
    "\n",
    "Existe una gran cantidad de casos con un índice de desarrollo humano igual o superior a 0.70, pero también encontramos otro grupo de observaciones con valores cercanos a 0.50. Este gráfico revela algo que ya sabíamos: existe el mundo desarrollado y el mundo subdesarrollado."
   ]
  },
  {
   "cell_type": "markdown",
   "metadata": {},
   "source": [
    "- De esta forma podrias eliminar las filas del Dataframe que tienen nulos en la columna **`undp_hdi`**"
   ]
  },
  {
   "cell_type": "code",
   "execution_count": 9,
   "metadata": {},
   "outputs": [
    {
     "data": {
      "text/html": [
       "<div>\n",
       "<style scoped>\n",
       "    .dataframe tbody tr th:only-of-type {\n",
       "        vertical-align: middle;\n",
       "    }\n",
       "\n",
       "    .dataframe tbody tr th {\n",
       "        vertical-align: top;\n",
       "    }\n",
       "\n",
       "    .dataframe thead th {\n",
       "        text-align: right;\n",
       "    }\n",
       "</style>\n",
       "<table border=\"1\" class=\"dataframe\">\n",
       "  <thead>\n",
       "    <tr style=\"text-align: right;\">\n",
       "      <th></th>\n",
       "      <th>ccode</th>\n",
       "      <th>cname</th>\n",
       "      <th>ccodealp</th>\n",
       "      <th>ccodecow</th>\n",
       "      <th>ccodewb</th>\n",
       "      <th>version</th>\n",
       "      <th>aid_cpnc</th>\n",
       "      <th>aid_cpsc</th>\n",
       "      <th>aid_crnc</th>\n",
       "      <th>aid_crnio</th>\n",
       "      <th>...</th>\n",
       "      <th>wvs_relacc</th>\n",
       "      <th>wvs_relsch</th>\n",
       "      <th>wvs_relsci</th>\n",
       "      <th>wvs_satfin</th>\n",
       "      <th>wvs_satlif</th>\n",
       "      <th>wvs_screl</th>\n",
       "      <th>wvs_subh</th>\n",
       "      <th>wvs_survself</th>\n",
       "      <th>wvs_tradrat</th>\n",
       "      <th>wvs_trust</th>\n",
       "    </tr>\n",
       "  </thead>\n",
       "  <tbody>\n",
       "    <tr>\n",
       "      <th>0</th>\n",
       "      <td>4</td>\n",
       "      <td>Afghanistan</td>\n",
       "      <td>AFG</td>\n",
       "      <td>700.0</td>\n",
       "      <td>4.0</td>\n",
       "      <td>QoGStdCSJan18</td>\n",
       "      <td>NaN</td>\n",
       "      <td>NaN</td>\n",
       "      <td>29.0</td>\n",
       "      <td>13.0</td>\n",
       "      <td>...</td>\n",
       "      <td>NaN</td>\n",
       "      <td>NaN</td>\n",
       "      <td>NaN</td>\n",
       "      <td>NaN</td>\n",
       "      <td>NaN</td>\n",
       "      <td>NaN</td>\n",
       "      <td>NaN</td>\n",
       "      <td>NaN</td>\n",
       "      <td>NaN</td>\n",
       "      <td>NaN</td>\n",
       "    </tr>\n",
       "    <tr>\n",
       "      <th>1</th>\n",
       "      <td>8</td>\n",
       "      <td>Albania</td>\n",
       "      <td>ALB</td>\n",
       "      <td>339.0</td>\n",
       "      <td>8.0</td>\n",
       "      <td>QoGStdCSJan18</td>\n",
       "      <td>NaN</td>\n",
       "      <td>NaN</td>\n",
       "      <td>26.0</td>\n",
       "      <td>13.0</td>\n",
       "      <td>...</td>\n",
       "      <td>NaN</td>\n",
       "      <td>NaN</td>\n",
       "      <td>NaN</td>\n",
       "      <td>NaN</td>\n",
       "      <td>NaN</td>\n",
       "      <td>NaN</td>\n",
       "      <td>NaN</td>\n",
       "      <td>NaN</td>\n",
       "      <td>NaN</td>\n",
       "      <td>NaN</td>\n",
       "    </tr>\n",
       "    <tr>\n",
       "      <th>2</th>\n",
       "      <td>12</td>\n",
       "      <td>Algeria</td>\n",
       "      <td>DZA</td>\n",
       "      <td>615.0</td>\n",
       "      <td>12.0</td>\n",
       "      <td>QoGStdCSJan18</td>\n",
       "      <td>NaN</td>\n",
       "      <td>NaN</td>\n",
       "      <td>21.0</td>\n",
       "      <td>6.0</td>\n",
       "      <td>...</td>\n",
       "      <td>3.710616</td>\n",
       "      <td>1.704692</td>\n",
       "      <td>3.681347</td>\n",
       "      <td>5.988125</td>\n",
       "      <td>6.301029</td>\n",
       "      <td>5.339371</td>\n",
       "      <td>3.805579</td>\n",
       "      <td>-0.409807</td>\n",
       "      <td>-0.498164</td>\n",
       "      <td>0.179286</td>\n",
       "    </tr>\n",
       "    <tr>\n",
       "      <th>3</th>\n",
       "      <td>20</td>\n",
       "      <td>Andorra</td>\n",
       "      <td>AND</td>\n",
       "      <td>232.0</td>\n",
       "      <td>20.0</td>\n",
       "      <td>QoGStdCSJan18</td>\n",
       "      <td>NaN</td>\n",
       "      <td>NaN</td>\n",
       "      <td>NaN</td>\n",
       "      <td>NaN</td>\n",
       "      <td>...</td>\n",
       "      <td>NaN</td>\n",
       "      <td>NaN</td>\n",
       "      <td>NaN</td>\n",
       "      <td>NaN</td>\n",
       "      <td>NaN</td>\n",
       "      <td>NaN</td>\n",
       "      <td>NaN</td>\n",
       "      <td>NaN</td>\n",
       "      <td>NaN</td>\n",
       "      <td>NaN</td>\n",
       "    </tr>\n",
       "    <tr>\n",
       "      <th>4</th>\n",
       "      <td>24</td>\n",
       "      <td>Angola</td>\n",
       "      <td>AGO</td>\n",
       "      <td>540.0</td>\n",
       "      <td>24.0</td>\n",
       "      <td>QoGStdCSJan18</td>\n",
       "      <td>NaN</td>\n",
       "      <td>NaN</td>\n",
       "      <td>22.0</td>\n",
       "      <td>13.0</td>\n",
       "      <td>...</td>\n",
       "      <td>NaN</td>\n",
       "      <td>NaN</td>\n",
       "      <td>NaN</td>\n",
       "      <td>NaN</td>\n",
       "      <td>NaN</td>\n",
       "      <td>NaN</td>\n",
       "      <td>NaN</td>\n",
       "      <td>NaN</td>\n",
       "      <td>NaN</td>\n",
       "      <td>NaN</td>\n",
       "    </tr>\n",
       "    <tr>\n",
       "      <th>...</th>\n",
       "      <td>...</td>\n",
       "      <td>...</td>\n",
       "      <td>...</td>\n",
       "      <td>...</td>\n",
       "      <td>...</td>\n",
       "      <td>...</td>\n",
       "      <td>...</td>\n",
       "      <td>...</td>\n",
       "      <td>...</td>\n",
       "      <td>...</td>\n",
       "      <td>...</td>\n",
       "      <td>...</td>\n",
       "      <td>...</td>\n",
       "      <td>...</td>\n",
       "      <td>...</td>\n",
       "      <td>...</td>\n",
       "      <td>...</td>\n",
       "      <td>...</td>\n",
       "      <td>...</td>\n",
       "      <td>...</td>\n",
       "      <td>...</td>\n",
       "    </tr>\n",
       "    <tr>\n",
       "      <th>189</th>\n",
       "      <td>860</td>\n",
       "      <td>Uzbekistan</td>\n",
       "      <td>UZB</td>\n",
       "      <td>704.0</td>\n",
       "      <td>860.0</td>\n",
       "      <td>QoGStdCSJan18</td>\n",
       "      <td>NaN</td>\n",
       "      <td>NaN</td>\n",
       "      <td>21.0</td>\n",
       "      <td>16.0</td>\n",
       "      <td>...</td>\n",
       "      <td>3.247667</td>\n",
       "      <td>2.191377</td>\n",
       "      <td>2.171875</td>\n",
       "      <td>4.076407</td>\n",
       "      <td>7.888145</td>\n",
       "      <td>5.364856</td>\n",
       "      <td>3.950634</td>\n",
       "      <td>NaN</td>\n",
       "      <td>NaN</td>\n",
       "      <td>0.140921</td>\n",
       "    </tr>\n",
       "    <tr>\n",
       "      <th>190</th>\n",
       "      <td>862</td>\n",
       "      <td>Venezuela</td>\n",
       "      <td>VEN</td>\n",
       "      <td>101.0</td>\n",
       "      <td>862.0</td>\n",
       "      <td>QoGStdCSJan18</td>\n",
       "      <td>NaN</td>\n",
       "      <td>NaN</td>\n",
       "      <td>20.0</td>\n",
       "      <td>6.0</td>\n",
       "      <td>...</td>\n",
       "      <td>NaN</td>\n",
       "      <td>NaN</td>\n",
       "      <td>NaN</td>\n",
       "      <td>NaN</td>\n",
       "      <td>NaN</td>\n",
       "      <td>NaN</td>\n",
       "      <td>NaN</td>\n",
       "      <td>NaN</td>\n",
       "      <td>NaN</td>\n",
       "      <td>NaN</td>\n",
       "    </tr>\n",
       "    <tr>\n",
       "      <th>191</th>\n",
       "      <td>882</td>\n",
       "      <td>Samoa</td>\n",
       "      <td>WSM</td>\n",
       "      <td>990.0</td>\n",
       "      <td>882.0</td>\n",
       "      <td>QoGStdCSJan18</td>\n",
       "      <td>NaN</td>\n",
       "      <td>NaN</td>\n",
       "      <td>10.0</td>\n",
       "      <td>7.0</td>\n",
       "      <td>...</td>\n",
       "      <td>NaN</td>\n",
       "      <td>NaN</td>\n",
       "      <td>NaN</td>\n",
       "      <td>NaN</td>\n",
       "      <td>NaN</td>\n",
       "      <td>NaN</td>\n",
       "      <td>NaN</td>\n",
       "      <td>NaN</td>\n",
       "      <td>NaN</td>\n",
       "      <td>NaN</td>\n",
       "    </tr>\n",
       "    <tr>\n",
       "      <th>192</th>\n",
       "      <td>887</td>\n",
       "      <td>Yemen</td>\n",
       "      <td>YEM</td>\n",
       "      <td>679.0</td>\n",
       "      <td>887.0</td>\n",
       "      <td>QoGStdCSJan18</td>\n",
       "      <td>NaN</td>\n",
       "      <td>NaN</td>\n",
       "      <td>26.0</td>\n",
       "      <td>16.0</td>\n",
       "      <td>...</td>\n",
       "      <td>3.598178</td>\n",
       "      <td>1.697442</td>\n",
       "      <td>3.752032</td>\n",
       "      <td>4.671357</td>\n",
       "      <td>5.887310</td>\n",
       "      <td>3.384707</td>\n",
       "      <td>3.892000</td>\n",
       "      <td>-0.591479</td>\n",
       "      <td>-0.875164</td>\n",
       "      <td>0.403987</td>\n",
       "    </tr>\n",
       "    <tr>\n",
       "      <th>193</th>\n",
       "      <td>894</td>\n",
       "      <td>Zambia</td>\n",
       "      <td>ZMB</td>\n",
       "      <td>551.0</td>\n",
       "      <td>894.0</td>\n",
       "      <td>QoGStdCSJan18</td>\n",
       "      <td>NaN</td>\n",
       "      <td>NaN</td>\n",
       "      <td>22.0</td>\n",
       "      <td>18.0</td>\n",
       "      <td>...</td>\n",
       "      <td>NaN</td>\n",
       "      <td>NaN</td>\n",
       "      <td>NaN</td>\n",
       "      <td>NaN</td>\n",
       "      <td>NaN</td>\n",
       "      <td>NaN</td>\n",
       "      <td>NaN</td>\n",
       "      <td>NaN</td>\n",
       "      <td>NaN</td>\n",
       "      <td>NaN</td>\n",
       "    </tr>\n",
       "  </tbody>\n",
       "</table>\n",
       "<p>186 rows × 1882 columns</p>\n",
       "</div>"
      ],
      "text/plain": [
       "     ccode        cname ccodealp  ccodecow  ccodewb        version  aid_cpnc  \\\n",
       "0        4  Afghanistan      AFG     700.0      4.0  QoGStdCSJan18       NaN   \n",
       "1        8      Albania      ALB     339.0      8.0  QoGStdCSJan18       NaN   \n",
       "2       12      Algeria      DZA     615.0     12.0  QoGStdCSJan18       NaN   \n",
       "3       20      Andorra      AND     232.0     20.0  QoGStdCSJan18       NaN   \n",
       "4       24       Angola      AGO     540.0     24.0  QoGStdCSJan18       NaN   \n",
       "..     ...          ...      ...       ...      ...            ...       ...   \n",
       "189    860   Uzbekistan      UZB     704.0    860.0  QoGStdCSJan18       NaN   \n",
       "190    862    Venezuela      VEN     101.0    862.0  QoGStdCSJan18       NaN   \n",
       "191    882        Samoa      WSM     990.0    882.0  QoGStdCSJan18       NaN   \n",
       "192    887        Yemen      YEM     679.0    887.0  QoGStdCSJan18       NaN   \n",
       "193    894       Zambia      ZMB     551.0    894.0  QoGStdCSJan18       NaN   \n",
       "\n",
       "     aid_cpsc  aid_crnc  aid_crnio  ...  wvs_relacc  wvs_relsch  wvs_relsci  \\\n",
       "0         NaN      29.0       13.0  ...         NaN         NaN         NaN   \n",
       "1         NaN      26.0       13.0  ...         NaN         NaN         NaN   \n",
       "2         NaN      21.0        6.0  ...    3.710616    1.704692    3.681347   \n",
       "3         NaN       NaN        NaN  ...         NaN         NaN         NaN   \n",
       "4         NaN      22.0       13.0  ...         NaN         NaN         NaN   \n",
       "..        ...       ...        ...  ...         ...         ...         ...   \n",
       "189       NaN      21.0       16.0  ...    3.247667    2.191377    2.171875   \n",
       "190       NaN      20.0        6.0  ...         NaN         NaN         NaN   \n",
       "191       NaN      10.0        7.0  ...         NaN         NaN         NaN   \n",
       "192       NaN      26.0       16.0  ...    3.598178    1.697442    3.752032   \n",
       "193       NaN      22.0       18.0  ...         NaN         NaN         NaN   \n",
       "\n",
       "     wvs_satfin  wvs_satlif  wvs_screl  wvs_subh  wvs_survself  wvs_tradrat  \\\n",
       "0           NaN         NaN        NaN       NaN           NaN          NaN   \n",
       "1           NaN         NaN        NaN       NaN           NaN          NaN   \n",
       "2      5.988125    6.301029   5.339371  3.805579     -0.409807    -0.498164   \n",
       "3           NaN         NaN        NaN       NaN           NaN          NaN   \n",
       "4           NaN         NaN        NaN       NaN           NaN          NaN   \n",
       "..          ...         ...        ...       ...           ...          ...   \n",
       "189    4.076407    7.888145   5.364856  3.950634           NaN          NaN   \n",
       "190         NaN         NaN        NaN       NaN           NaN          NaN   \n",
       "191         NaN         NaN        NaN       NaN           NaN          NaN   \n",
       "192    4.671357    5.887310   3.384707  3.892000     -0.591479    -0.875164   \n",
       "193         NaN         NaN        NaN       NaN           NaN          NaN   \n",
       "\n",
       "     wvs_trust  \n",
       "0          NaN  \n",
       "1          NaN  \n",
       "2     0.179286  \n",
       "3          NaN  \n",
       "4          NaN  \n",
       "..         ...  \n",
       "189   0.140921  \n",
       "190        NaN  \n",
       "191        NaN  \n",
       "192   0.403987  \n",
       "193        NaN  \n",
       "\n",
       "[186 rows x 1882 columns]"
      ]
     },
     "execution_count": 9,
     "metadata": {},
     "output_type": "execute_result"
    }
   ],
   "source": [
    "df.dropna(subset=['undp_hdi'])"
   ]
  },
  {
   "cell_type": "markdown",
   "metadata": {},
   "source": [
    "Y puedo comparar las filas que tenia en un principio con las que acabo de eliminar"
   ]
  },
  {
   "cell_type": "code",
   "execution_count": 10,
   "metadata": {},
   "outputs": [
    {
     "data": {
      "text/plain": [
       "((194, 1882), (186, 1882))"
      ]
     },
     "execution_count": 10,
     "metadata": {},
     "output_type": "execute_result"
    }
   ],
   "source": [
    "df.shape, df.dropna(subset=['undp_hdi']).shape"
   ]
  },
  {
   "cell_type": "markdown",
   "metadata": {},
   "source": [
    "Vamos a trabajar con la serie de la columna **`undp_hdi`**: "
   ]
  },
  {
   "cell_type": "code",
   "execution_count": 39,
   "metadata": {},
   "outputs": [],
   "source": [
    "hdi_dropna = df.dropna(subset=['undp_hdi'])['undp_hdi']"
   ]
  },
  {
   "cell_type": "code",
   "execution_count": 12,
   "metadata": {},
   "outputs": [],
   "source": [
    "hdi_dropna = df['undp_hdi'].dropna()"
   ]
  },
  {
   "cell_type": "code",
   "execution_count": 13,
   "metadata": {},
   "outputs": [
    {
     "data": {
      "text/plain": [
       "0      0.479\n",
       "1      0.762\n",
       "2      0.743\n",
       "3      0.857\n",
       "4      0.531\n",
       "       ...  \n",
       "189    0.697\n",
       "190    0.769\n",
       "191    0.702\n",
       "192    0.499\n",
       "193    0.576\n",
       "Name: undp_hdi, Length: 186, dtype: float64"
      ]
     },
     "execution_count": 13,
     "metadata": {},
     "output_type": "execute_result"
    }
   ],
   "source": [
    "hdi_dropna"
   ]
  },
  {
   "cell_type": "markdown",
   "metadata": {},
   "source": [
    "Calculamos la distribucion"
   ]
  },
  {
   "cell_type": "code",
   "execution_count": 14,
   "metadata": {},
   "outputs": [
    {
     "data": {
      "text/plain": [
       "<matplotlib.lines.Line2D at 0x2afcf392430>"
      ]
     },
     "execution_count": 14,
     "metadata": {},
     "output_type": "execute_result"
    },
    {
     "data": {
      "image/png": "[encoded data removed]",
      "text/plain": [
       "<Figure size 720x432 with 1 Axes>"
      ]
     },
     "metadata": {},
     "output_type": "display_data"
    }
   ],
   "source": [
    "# alpha es un factor de transparencia\n",
    "plt.hist(hdi_dropna, color='grey', alpha=.5)\n",
    "\n",
    "# Titulo\n",
    "plt.title('Distribucion indice de desarrollo humano (índice de la variable undp_hdi)')\n",
    "\n",
    "# Etiquetas\n",
    "plt.xlabel('Indice')\n",
    "plt.ylabel('Frecuencia')\n",
    "\n",
    "# Linea horizontal paralela al eje x\n",
    "plt.axhline(25)"
   ]
  },
  {
   "cell_type": "markdown",
   "metadata": {},
   "source": [
    "##### **5- Calcular medias de la columna `undp_hdi` a nivel de grupo continente y plotearlo en un gráfico de puntos**"
   ]
  },
  {
   "cell_type": "markdown",
   "metadata": {},
   "source": [
    "Ya caracterizando la media del índice de desarrollo humano, **`estamos interesados en ver los niveles de desarrollo en distintas regiones`**. Para ello necesitamos calcular las medias a nivel de grupo y posteriormente graficarlas."
   ]
  },
  {
   "cell_type": "markdown",
   "metadata": {},
   "source": [
    "Vamos a agrupar valores"
   ]
  },
  {
   "cell_type": "markdown",
   "metadata": {},
   "source": [
    "**`Forma 1`**"
   ]
  },
  {
   "cell_type": "code",
   "execution_count": 86,
   "metadata": {},
   "outputs": [
    {
     "data": {
      "text/plain": [
       "(194, 4)"
      ]
     },
     "execution_count": 86,
     "metadata": {},
     "output_type": "execute_result"
    }
   ],
   "source": [
    "hdi_group = df.loc[:, ['cname', 'ccode', 'undp_hdi', 'ht_region']]\n",
    "hdi_group.shape"
   ]
  },
  {
   "cell_type": "markdown",
   "metadata": {},
   "source": [
    "**ht_region** = numero que indica el continente que pertenece cada pais"
   ]
  },
  {
   "cell_type": "code",
   "execution_count": 16,
   "metadata": {},
   "outputs": [
    {
     "data": {
      "text/html": [
       "<div>\n",
       "<style scoped>\n",
       "    .dataframe tbody tr th:only-of-type {\n",
       "        vertical-align: middle;\n",
       "    }\n",
       "\n",
       "    .dataframe tbody tr th {\n",
       "        vertical-align: top;\n",
       "    }\n",
       "\n",
       "    .dataframe thead th {\n",
       "        text-align: right;\n",
       "    }\n",
       "</style>\n",
       "<table border=\"1\" class=\"dataframe\">\n",
       "  <thead>\n",
       "    <tr style=\"text-align: right;\">\n",
       "      <th></th>\n",
       "      <th>cname</th>\n",
       "      <th>ccode</th>\n",
       "      <th>undp_hdi</th>\n",
       "      <th>ht_region</th>\n",
       "    </tr>\n",
       "  </thead>\n",
       "  <tbody>\n",
       "    <tr>\n",
       "      <th>0</th>\n",
       "      <td>Afghanistan</td>\n",
       "      <td>4</td>\n",
       "      <td>0.479</td>\n",
       "      <td>8</td>\n",
       "    </tr>\n",
       "    <tr>\n",
       "      <th>1</th>\n",
       "      <td>Albania</td>\n",
       "      <td>8</td>\n",
       "      <td>0.762</td>\n",
       "      <td>1</td>\n",
       "    </tr>\n",
       "    <tr>\n",
       "      <th>2</th>\n",
       "      <td>Algeria</td>\n",
       "      <td>12</td>\n",
       "      <td>0.743</td>\n",
       "      <td>3</td>\n",
       "    </tr>\n",
       "    <tr>\n",
       "      <th>3</th>\n",
       "      <td>Andorra</td>\n",
       "      <td>20</td>\n",
       "      <td>0.857</td>\n",
       "      <td>5</td>\n",
       "    </tr>\n",
       "    <tr>\n",
       "      <th>4</th>\n",
       "      <td>Angola</td>\n",
       "      <td>24</td>\n",
       "      <td>0.531</td>\n",
       "      <td>4</td>\n",
       "    </tr>\n",
       "    <tr>\n",
       "      <th>...</th>\n",
       "      <td>...</td>\n",
       "      <td>...</td>\n",
       "      <td>...</td>\n",
       "      <td>...</td>\n",
       "    </tr>\n",
       "    <tr>\n",
       "      <th>189</th>\n",
       "      <td>Uzbekistan</td>\n",
       "      <td>860</td>\n",
       "      <td>0.697</td>\n",
       "      <td>1</td>\n",
       "    </tr>\n",
       "    <tr>\n",
       "      <th>190</th>\n",
       "      <td>Venezuela</td>\n",
       "      <td>862</td>\n",
       "      <td>0.769</td>\n",
       "      <td>2</td>\n",
       "    </tr>\n",
       "    <tr>\n",
       "      <th>191</th>\n",
       "      <td>Samoa</td>\n",
       "      <td>882</td>\n",
       "      <td>0.702</td>\n",
       "      <td>9</td>\n",
       "    </tr>\n",
       "    <tr>\n",
       "      <th>192</th>\n",
       "      <td>Yemen</td>\n",
       "      <td>887</td>\n",
       "      <td>0.499</td>\n",
       "      <td>3</td>\n",
       "    </tr>\n",
       "    <tr>\n",
       "      <th>193</th>\n",
       "      <td>Zambia</td>\n",
       "      <td>894</td>\n",
       "      <td>0.576</td>\n",
       "      <td>4</td>\n",
       "    </tr>\n",
       "  </tbody>\n",
       "</table>\n",
       "<p>194 rows × 4 columns</p>\n",
       "</div>"
      ],
      "text/plain": [
       "           cname  ccode  undp_hdi  ht_region\n",
       "0    Afghanistan      4     0.479          8\n",
       "1        Albania      8     0.762          1\n",
       "2        Algeria     12     0.743          3\n",
       "3        Andorra     20     0.857          5\n",
       "4         Angola     24     0.531          4\n",
       "..           ...    ...       ...        ...\n",
       "189   Uzbekistan    860     0.697          1\n",
       "190    Venezuela    862     0.769          2\n",
       "191        Samoa    882     0.702          9\n",
       "192        Yemen    887     0.499          3\n",
       "193       Zambia    894     0.576          4\n",
       "\n",
       "[194 rows x 4 columns]"
      ]
     },
     "execution_count": 16,
     "metadata": {},
     "output_type": "execute_result"
    }
   ],
   "source": [
    "hdi_group"
   ]
  },
  {
   "cell_type": "code",
   "execution_count": 88,
   "metadata": {},
   "outputs": [
    {
     "data": {
      "text/html": [
       "<div>\n",
       "<style scoped>\n",
       "    .dataframe tbody tr th:only-of-type {\n",
       "        vertical-align: middle;\n",
       "    }\n",
       "\n",
       "    .dataframe tbody tr th {\n",
       "        vertical-align: top;\n",
       "    }\n",
       "\n",
       "    .dataframe thead th {\n",
       "        text-align: right;\n",
       "    }\n",
       "</style>\n",
       "<table border=\"1\" class=\"dataframe\">\n",
       "  <thead>\n",
       "    <tr style=\"text-align: right;\">\n",
       "      <th></th>\n",
       "      <th>cname</th>\n",
       "      <th>ccode</th>\n",
       "      <th>undp_hdi</th>\n",
       "      <th>ht_region</th>\n",
       "      <th>region_recod</th>\n",
       "    </tr>\n",
       "  </thead>\n",
       "  <tbody>\n",
       "    <tr>\n",
       "      <th>0</th>\n",
       "      <td>Afghanistan</td>\n",
       "      <td>4</td>\n",
       "      <td>0.479</td>\n",
       "      <td>8</td>\n",
       "      <td>SouthAsia</td>\n",
       "    </tr>\n",
       "    <tr>\n",
       "      <th>1</th>\n",
       "      <td>Albania</td>\n",
       "      <td>8</td>\n",
       "      <td>0.762</td>\n",
       "      <td>1</td>\n",
       "      <td>EastEurope</td>\n",
       "    </tr>\n",
       "    <tr>\n",
       "      <th>2</th>\n",
       "      <td>Algeria</td>\n",
       "      <td>12</td>\n",
       "      <td>0.743</td>\n",
       "      <td>3</td>\n",
       "      <td>NorthAfrica</td>\n",
       "    </tr>\n",
       "    <tr>\n",
       "      <th>3</th>\n",
       "      <td>Andorra</td>\n",
       "      <td>20</td>\n",
       "      <td>0.857</td>\n",
       "      <td>5</td>\n",
       "      <td>WesternDem</td>\n",
       "    </tr>\n",
       "    <tr>\n",
       "      <th>4</th>\n",
       "      <td>Angola</td>\n",
       "      <td>24</td>\n",
       "      <td>0.531</td>\n",
       "      <td>4</td>\n",
       "      <td>SubSaharian</td>\n",
       "    </tr>\n",
       "    <tr>\n",
       "      <th>...</th>\n",
       "      <td>...</td>\n",
       "      <td>...</td>\n",
       "      <td>...</td>\n",
       "      <td>...</td>\n",
       "      <td>...</td>\n",
       "    </tr>\n",
       "    <tr>\n",
       "      <th>189</th>\n",
       "      <td>Uzbekistan</td>\n",
       "      <td>860</td>\n",
       "      <td>0.697</td>\n",
       "      <td>1</td>\n",
       "      <td>EastEurope</td>\n",
       "    </tr>\n",
       "    <tr>\n",
       "      <th>190</th>\n",
       "      <td>Venezuela</td>\n",
       "      <td>862</td>\n",
       "      <td>0.769</td>\n",
       "      <td>2</td>\n",
       "      <td>LatAm</td>\n",
       "    </tr>\n",
       "    <tr>\n",
       "      <th>191</th>\n",
       "      <td>Samoa</td>\n",
       "      <td>882</td>\n",
       "      <td>0.702</td>\n",
       "      <td>9</td>\n",
       "      <td>Pacific</td>\n",
       "    </tr>\n",
       "    <tr>\n",
       "      <th>192</th>\n",
       "      <td>Yemen</td>\n",
       "      <td>887</td>\n",
       "      <td>0.499</td>\n",
       "      <td>3</td>\n",
       "      <td>NorthAfrica</td>\n",
       "    </tr>\n",
       "    <tr>\n",
       "      <th>193</th>\n",
       "      <td>Zambia</td>\n",
       "      <td>894</td>\n",
       "      <td>0.576</td>\n",
       "      <td>4</td>\n",
       "      <td>SubSaharian</td>\n",
       "    </tr>\n",
       "  </tbody>\n",
       "</table>\n",
       "<p>194 rows × 5 columns</p>\n",
       "</div>"
      ],
      "text/plain": [
       "           cname  ccode  undp_hdi  ht_region region_recod\n",
       "0    Afghanistan      4     0.479          8    SouthAsia\n",
       "1        Albania      8     0.762          1   EastEurope\n",
       "2        Algeria     12     0.743          3  NorthAfrica\n",
       "3        Andorra     20     0.857          5   WesternDem\n",
       "4         Angola     24     0.531          4  SubSaharian\n",
       "..           ...    ...       ...        ...          ...\n",
       "189   Uzbekistan    860     0.697          1   EastEurope\n",
       "190    Venezuela    862     0.769          2        LatAm\n",
       "191        Samoa    882     0.702          9      Pacific\n",
       "192        Yemen    887     0.499          3  NorthAfrica\n",
       "193       Zambia    894     0.576          4  SubSaharian\n",
       "\n",
       "[194 rows x 5 columns]"
      ]
     },
     "execution_count": 88,
     "metadata": {},
     "output_type": "execute_result"
    }
   ],
   "source": [
    "hdi_group['region_recod'] = hdi_group['ht_region'].replace([1,2,3,4,5,6,7,8,9,10],['EastEurope', 'LatAm', 'NorthAfrica','SubSaharian', 'WesternDem', 'EastAsia','SouthEastAsia','SouthAsia','Pacific','Caribbean'])\n",
    "hdi_group"
   ]
  },
  {
   "cell_type": "code",
   "execution_count": 18,
   "metadata": {},
   "outputs": [
    {
     "data": {
      "text/plain": [
       "region_recod\n",
       "Caribbean        0.74\n",
       "EastAsia         0.82\n",
       "EastEurope       0.78\n",
       "LatAm            0.72\n",
       "NorthAfrica      0.75\n",
       "Pacific          0.64\n",
       "SouthAsia        0.61\n",
       "SouthEastAsia    0.70\n",
       "SubSaharian      0.51\n",
       "WesternDem       0.90\n",
       "Name: undp_hdi, dtype: float64"
      ]
     },
     "execution_count": 18,
     "metadata": {},
     "output_type": "execute_result"
    }
   ],
   "source": [
    "group_mean = round(hdi_group.groupby('region_recod')['undp_hdi'].mean(),2)\n",
    "group_mean"
   ]
  },
  {
   "cell_type": "markdown",
   "metadata": {},
   "source": [
    "Y con estos datos agrupados vamos a plotear"
   ]
  },
  {
   "cell_type": "code",
   "execution_count": 19,
   "metadata": {},
   "outputs": [
    {
     "data": {
      "text/plain": [
       "Text(0.5, 1.0, 'Indice de desarrollo por zona geografica')"
      ]
     },
     "execution_count": 19,
     "metadata": {},
     "output_type": "execute_result"
    },
    {
     "data": {
      "image/png": "[encoded data removed]",
      "text/plain": [
       "<Figure size 720x432 with 1 Axes>"
      ]
     },
     "metadata": {},
     "output_type": "display_data"
    }
   ],
   "source": [
    "# El 'o' nos muestra los puntos del grafico\n",
    "\n",
    "plt.plot(group_mean.values, group_mean.index, 'o', color='grey')\n",
    "\n",
    "plt.axvline(hdi_group['undp_hdi'].mean(), color = 'tomato', linestyle ='--')\n",
    "\n",
    "plt.title('Indice de desarrollo por zona geografica')\n"
   ]
  },
  {
   "cell_type": "markdown",
   "metadata": {},
   "source": [
    "Nuestro gráfico aclara el hecho que en promedio las democracias avanzadas (**`Europa Occidental`** y **`Estados Unidos`**, **`Canadá`** y **`Australia`**) alcanza niveles de desarrollo humano sobre el **`0.90`**. A diferencia, las regiones donde la vida es más precaria e inestable es el **`África Subsahariana`** y las **`Islas del Pacífico`**."
   ]
  },
  {
   "cell_type": "markdown",
   "metadata": {},
   "source": [
    "**`Forma 2`**"
   ]
  },
  {
   "cell_type": "code",
   "execution_count": 20,
   "metadata": {},
   "outputs": [
    {
     "data": {
      "text/plain": [
       "ht_region\n",
       "1     0.78\n",
       "2     0.72\n",
       "3     0.75\n",
       "4     0.51\n",
       "5     0.90\n",
       "6     0.82\n",
       "7     0.70\n",
       "8     0.61\n",
       "9     0.64\n",
       "10    0.74\n",
       "Name: undp_hdi, dtype: float64"
      ]
     },
     "execution_count": 20,
     "metadata": {},
     "output_type": "execute_result"
    }
   ],
   "source": [
    "hdi_group = round(df.groupby('ht_region')['undp_hdi'].mean(),2)\n",
    "hdi_group"
   ]
  },
  {
   "cell_type": "code",
   "execution_count": 21,
   "metadata": {},
   "outputs": [
    {
     "data": {
      "text/plain": [
       "EastEurope       0.78\n",
       "LatAm            0.72\n",
       "NorthAfrica      0.75\n",
       "SubSaharian      0.51\n",
       "WesternDem       0.90\n",
       "EastAsia         0.82\n",
       "SouthEastAsia    0.70\n",
       "SouthAsia        0.61\n",
       "Pacific          0.64\n",
       "Caribbean        0.74\n",
       "Name: undp_hdi, dtype: float64"
      ]
     },
     "execution_count": 21,
     "metadata": {},
     "output_type": "execute_result"
    }
   ],
   "source": [
    "valores_nuevos = ['EastEurope', 'LatAm', 'NorthAfrica','SubSaharian', 'WesternDem', 'EastAsia','SouthEastAsia','SouthAsia','Pacific','Caribbean']\n",
    "\n",
    "hdi_group.index = valores_nuevos\n",
    "\n",
    "(hdi_group)"
   ]
  },
  {
   "cell_type": "markdown",
   "metadata": {},
   "source": [
    "Y con estos datos agrupados vamos a plotear"
   ]
  },
  {
   "cell_type": "code",
   "execution_count": 22,
   "metadata": {},
   "outputs": [
    {
     "data": {
      "text/plain": [
       "Text(0.5, 1.0, 'Indice de desarrollo por zona geografica')"
      ]
     },
     "execution_count": 22,
     "metadata": {},
     "output_type": "execute_result"
    },
    {
     "data": {
      "image/png": "[encoded data removed]",
      "text/plain": [
       "<Figure size 720x432 with 1 Axes>"
      ]
     },
     "metadata": {},
     "output_type": "display_data"
    }
   ],
   "source": [
    "plt.plot(hdi_group.values, hdi_group.index, 'o', color='grey')\n",
    "\n",
    "plt.axvline(df['undp_hdi'].mean(), color = 'tomato', linestyle ='--')\n",
    "\n",
    "plt.title('Indice de desarrollo por zona geografica')\n"
   ]
  },
  {
   "cell_type": "markdown",
   "metadata": {},
   "source": [
    "##### **6 - Distribución normal**"
   ]
  },
  {
   "cell_type": "markdown",
   "metadata": {},
   "source": [
    "Resulta que el índice de desarrollo humano (y toda medición empírica), tiende a responder a ciertas leyes respecto a su comportamiento. Estos es resumen en variables aleatorias, que definen los posibles valores asociados a una distribución probabilística.\n",
    "\n",
    "Para nuestro ejemplo, el índice de desarrollo humano tiene una distribución aproximadamente normal.\n",
    "\n",
    "\n",
    "**¿Y cómo comprobamos la normalidad de una variable?**\n",
    "\n",
    "Podemos inspeccionar qué tanto se acopla el histograma a la distribución normal al incluir la media y varianza de **`hdi_dropna`**.\n",
    "\n",
    "La distribución normal (o Gaussiana) es una de las distribuciones más utilizadas para modelar eventos contínuos. Fenómenos como la altura y peso de una población, así como los puntajes PSU o las notas de una clase **se comportan de manera aproximadamente normal**. Para el caso de una sola variable , depende de dos parámetros: la **`media`** (representada como **`𝜇`**) y **`varianza`** (representada como **`σ2`** ).\n",
    "\n",
    "El parámetro **`media`** gobierna el punto donde se concentra la mayoría de los datos. Ésta sigue la definición de las medidas de tendencia central.\n",
    "\n",
    "El parámetro **`varianza`** representa qué tan concentrados están los datos en torno a la media."
   ]
  },
  {
   "cell_type": "code",
   "execution_count": 23,
   "metadata": {},
   "outputs": [
    {
     "name": "stdout",
     "output_type": "stream",
     "text": [
      "La media es:  0.696\n",
      "La varianza es:  0.024\n"
     ]
    }
   ],
   "source": [
    "print(\"La media es: \", round(hdi_dropna.mean(), 3)) \n",
    "print(\"La varianza es: \", round(np.var(hdi_dropna), 3))"
   ]
  },
  {
   "cell_type": "markdown",
   "metadata": {},
   "source": [
    "Si la media es de **`0.696`** y la varianza es de **`0.02`**, podemos analizar si la distribución empírica del índice de desarrollo humano sigue la distribución normal: \n",
    "```\n",
    "Xi ~ N (0.696, 0.024**2)\n",
    "```"
   ]
  },
  {
   "cell_type": "markdown",
   "metadata": {},
   "source": [
    "Para superponer la curva gaussiana a nuestro histograma, utilizamos las siguientes líneas de código:"
   ]
  },
  {
   "cell_type": "code",
   "execution_count": 22,
   "metadata": {},
   "outputs": [
    {
     "data": {
      "image/png": "[encoded data removed]",
      "text/plain": [
       "<Figure size 720x432 with 2 Axes>"
      ]
     },
     "metadata": {},
     "output_type": "display_data"
    }
   ],
   "source": [
    "# Generamos el primer espacio para el primer histograma\n",
    "plt.subplot(2,1,1)\n",
    "\n",
    "# Graficamos el mismo histograma, especificando 'density' para que el histograma represente densidades y no frecuencias \n",
    "plt.hist(hdi_dropna, color='grey', alpha=.4, density=True) \n",
    "\n",
    "# extraemos los límites del histograma \n",
    "x_min, x_max = plt.xlim()\n",
    "\n",
    "# print(x_min) ==> 0.31694999949999997\n",
    "# print(x_max) ==> 0.9780500105\n",
    "\n",
    "# utilizandos los límites del histograma para crear un array \n",
    "x_axis = np.linspace(x_min, x_max, 100)\n",
    "\n",
    "# print(x_axis) ==> [0.31695    0.32362778 0.33030556 0.33698333 0.34366111 0.35033889 0.35701667 \n",
    "#                    0.36369444 0.37037222 0.37705    0.38372778 0.39040556 0.39708333 0.40376111 \n",
    "#                    0.41043889 0.41711667 0.42379445 0.43047222 0.43715    0.44382778 0.45050556 \n",
    "#                    0.45718334 0.46386111 0.47053889 0.47721667 0.48389445 0.49057222 0.49725    \n",
    "#                    0.50392778 0.51060556 0.51728334 0.52396111 0.53063889 0.53731667 0.54399445 \n",
    "#                    0.55067223 0.55735    0.56402778 0.57070556 0.57738334 0.58406112 0.59073889\n",
    "#                    0.59741667 0.60409445 0.61077223 0.61745    0.62412778 0.63080556 0.63748334 \n",
    "#                    0.64416112 0.65083889 0.65751667 0.66419445 0.67087223 0.67755001 0.68422778 \n",
    "#                    0.69090556 0.69758334 0.70426112 0.71093889 0.71761667 0.72429445 0.73097223 \n",
    "#                    0.73765001 0.74432778 0.75100556 0.75768334 0.76436112 0.7710389  0.77771667 \n",
    "#                    0.78439445 0.79107223 0.79775001 0.80442779 0.81110556 0.81778334 0.82446112 \n",
    "#                    0.8311389  0.83781667 0.84449445 0.85117223 0.85785001 0.86452779 0.87120556\n",
    "#                    0.87788334 0.88456112 0.8912389  0.89791668 0.90459445 0.91127223 0.91795001 \n",
    "#                    0.92462779 0.93130557 0.93798334 0.94466112 0.9513389  0.95801668 0.96469445 \n",
    "#                    0.97137223 0.97805001]\n",
    "\n",
    "# graficamos la curva de densidad empirica (permite comparar directamente con la curva de densidad teorica)\n",
    "gauss_kde = stats.gaussian_kde(hdi_dropna) # Kernel gaussiano \n",
    "\n",
    "# forma de matriz con n filas (gauss_kde(x_axis).T) y 100 columnas (x_axis.shape)\n",
    "z = np.reshape(gauss_kde(x_axis).T, x_axis.shape) \n",
    "\n",
    "# print(gauss_kde(x_axis)) ==> [0.16925243 0.19899276 0.2321638  0.26882301 0.30896171 0.35249701\n",
    "#                               0.39926697 0.44902939 0.50146515 0.55618595 0.61274597 0.6706565\n",
    "#                               0.72940198 0.7884558  0.84729417 0.90540677 0.9623034  1.01751673\n",
    "#                               1.07060185 1.12113421 1.16870754 1.21293388 1.25344713 1.28991098\n",
    "#                               1.32203135 1.34957241 1.37237457 1.39037228 1.40360936 1.41224979\n",
    "#                               1.41658253 1.41701954 1.41408736 1.40841288 1.40070509 1.3917343\n",
    "#                               1.38231081 1.37326438 1.36542555 1.35960937 1.35660139 1.35714549\n",
    "#                               1.36193282 1.37159091 1.38667217 1.40764115 1.43486016 1.46857336\n",
    "#                               1.50888963 1.55576499 1.60898582 1.66815417 1.73267688 1.80176038\n",
    "#                               1.8744127  1.94945439 2.02553956 2.10118746 2.17482481 2.24483775\n",
    "#                               2.30963162 2.36769609 2.41767181 2.45841479 2.48905381 2.50903663\n",
    "#                               2.51816074 2.51658548 2.5048234  2.48371007 2.45435337 2.41806483\n",
    "#                               2.37627715 2.33045337 2.28199396 2.23214853 2.18193857 2.13209716\n",
    "#                               2.08303008 2.03480135 1.98714448 1.93949861 1.89106696 1.84089325\n",
    "#                               1.78795046 1.73123506 1.66985983 1.60313789 1.53065165 1.45230126\n",
    "#                               1.36832912 1.27931853 1.1861672  1.09003812 0.99229233 0.89440949\n",
    "#                               0.79790295 0.70423635 0.61474801 0.53058846]\n",
    "\n",
    "# print(gauss_kde(x_axis).T) ==> [0.16925243 0.19899276 0.2321638  0.26882301 0.30896171 0.35249701\n",
    "#                                 0.39926697 0.44902939 0.50146515 0.55618595 0.61274597 0.6706565\n",
    "#                                 0.72940198 0.7884558  0.84729417 0.90540677 0.9623034  1.01751673\n",
    "#                                 1.07060185 1.12113421 1.16870754 1.21293388 1.25344713 1.28991098\n",
    "#                                 1.32203135 1.34957241 1.37237457 1.39037228 1.40360936 1.41224979\n",
    "#                                 1.41658253 1.41701954 1.41408736 1.40841288 1.40070509 1.3917343\n",
    "#                                 1.38231081 1.37326438 1.36542555 1.35960937 1.35660139 1.35714549\n",
    "#                                 1.36193282 1.37159091 1.38667217 1.40764115 1.43486016 1.46857336\n",
    "#                                 1.50888963 1.55576499 1.60898582 1.66815417 1.73267688 1.80176038\n",
    "#                                 1.8744127  1.94945439 2.02553956 2.10118746 2.17482481 2.24483775\n",
    "#                                 2.30963162 2.36769609 2.41767181 2.45841479 2.48905381 2.50903663\n",
    "#                                 2.51816074 2.51658548 2.5048234  2.48371007 2.45435337 2.41806483\n",
    "#                                 2.37627715 2.33045337 2.28199396 2.23214853 2.18193857 2.13209716\n",
    "#                                 2.08303008 2.03480135 1.98714448 1.93949861 1.89106696 1.84089325\n",
    "#                                 1.78795046 1.73123506 1.66985983 1.60313789 1.53065165 1.45230126\n",
    "#                                 1.36832912 1.27931853 1.1861672  1.09003812 0.99229233 0.89440949\n",
    "#                                 0.79790295 0.70423635 0.61474801 0.53058846]\n",
    "\n",
    "# print(x_axis.shape) ==> 100\n",
    "\n",
    "# print(z) ==> [0.16925243 0.19899276 0.2321638  0.26882301 0.30896171 0.35249701\n",
    "#               0.39926697 0.44902939 0.50146515 0.55618595 0.61274597 0.6706565\n",
    "#               0.72940198 0.7884558  0.84729417 0.90540677 0.9623034  1.01751673\n",
    "#               1.07060185 1.12113421 1.16870754 1.21293388 1.25344713 1.28991098\n",
    "#               1.32203135 1.34957241 1.37237457 1.39037228 1.40360936 1.41224979\n",
    "#               1.41658253 1.41701954 1.41408736 1.40841288 1.40070509 1.3917343\n",
    "#               1.38231081 1.37326438 1.36542555 1.35960937 1.35660139 1.35714549\n",
    "#               1.36193282 1.37159091 1.38667217 1.40764115 1.43486016 1.46857336\n",
    "#               1.50888963 1.55576499 1.60898582 1.66815417 1.73267688 1.80176038\n",
    "#               1.8744127  1.94945439 2.02553956 2.10118746 2.17482481 2.24483775\n",
    "#               2.30963162 2.36769609 2.41767181 2.45841479 2.48905381 2.50903663\n",
    "#               2.51816074 2.51658548 2.5048234  2.48371007 2.45435337 2.41806483\n",
    "#               2.37627715 2.33045337 2.28199396 2.23214853 2.18193857 2.13209716\n",
    "#               2.08303008 2.03480135 1.98714448 1.93949861 1.89106696 1.84089325\n",
    "#               1.78795046 1.73123506 1.66985983 1.60313789 1.53065165 1.45230126\n",
    "#               1.36832912 1.27931853 1.1861672  1.09003812 0.99229233 0.89440949\n",
    "#               0.79790295 0.70423635 0.61474801 0.53058846]\n",
    "\n",
    "\n",
    "plt.plot(x_axis, z, color='tomato', lw=3)\n",
    "\n",
    "# agregamos la línea vertical para identificar la media \n",
    "plt.axvline(hdi_dropna.mean(), color='dodgerblue', linestyle='--', lw=3) \n",
    "plt.title(\"Histograma del IDH\")\n",
    "\n",
    "#######################################################################################\n",
    "# Datos aleatorios normalizados utilizando la media (mu) y la desviacion estandar (sigma)\n",
    "\n",
    "# El segundo gráfico \n",
    "plt.subplot(2, 1, 2)\n",
    "\n",
    "# Simulamos cómo debería comportarse un histograma normal\n",
    "media = 0.696\n",
    "desv = np.sqrt(0.024)\n",
    "datos_normal = np.random.normal(media, desv, 1000)\n",
    "\n",
    "plt.hist(datos_normal, color='grey', alpha=.4, density=True)\n",
    "\n",
    "# Fijamos los límites del eje x \n",
    "plt.xlim(0.3, 1)\n",
    "\n",
    "# Generamos una lista entre:\n",
    "x_axis = np.linspace(0.3, 1, 1000)\n",
    "y_axis = stats.norm.pdf(x_axis, media, desv)\n",
    "\n",
    "plt.plot(x_axis, y_axis, color='tomato', lw=3)\n",
    "plt.axvline(media, color='dodgerblue', linestyle='--', lw=3) \n",
    "plt.title(\"Distribución simulada del IDH\") \n",
    "plt.subplots_adjust(hspace=0.6)"
   ]
  },
  {
   "cell_type": "markdown",
   "metadata": {},
   "source": [
    "La figura de arriba presenta el histograma del índice de desarrollo humano, y la figura de abajo representa la simulación de una variable distribuida normal con la media y varianza de la variable. La recta azul indica la media de 0.696, y la curva roja representa la distribución normal.\n",
    "\n",
    "Mientras que en el gráfico de arriba los puntajes no se acoplan de forma exacta a la curva y la media, la figura de la distribución simulada presenta el comportamiento esperado.\n",
    "\n",
    "Cabe destacar que el comportamiento descrito en el histograma de la variable no descarta la utilización de la distribución normal como una ley para resumir el comportamiento."
   ]
  },
  {
   "cell_type": "markdown",
   "metadata": {},
   "source": [
    "**`¿Qué podemos esperar de los parámetros de una distribución normal?`**"
   ]
  },
  {
   "cell_type": "markdown",
   "metadata": {},
   "source": [
    "Ya teniendo una primera aproximación a la distribución normal, generamos varias situaciones para comparar su comportamiento. En la figura creada con **`gfx.normal_distributions()`** se presentan tres casos donde tanto media como varianza cambian de valor:\n",
    "\n",
    "-\tLa distribución normal estandarizada, que representa el caso donde la media es **`0`** y la varianza es de **`1`**. Se utiliza como benchmark para realizar comparaciones.\n",
    "-\tUna distribución donde la media es de **`0`** y su varianza es de **`0.5`**.\n",
    "-\tUna distribución donde la media es de **`-1`** y su varianza es **`1`**.\n",
    "\n",
    "Consideremos el caso de comparación. Dado que la media es **`0`**, la cúspide de la distribución se concentrará entorno a este valor. Comparado a la curva con menor varianza que si bien presenta la cúspide en **`0`**, tiene a presentar una mayor densidad dado que la menor varianza conlleva a concentrar una mayor cantidad de información alrededor de la media. Si bien la curva verde presenta forma idéntica a la normal estandarizada, su cúspide se centra en **`-1`** a diferencia de la normal estandarizada.\n",
    "\n",
    "En el lado derecho se visualizan las densidades acumuladas de las simulaciones. La función acumulada expresa el porcentaje de datos hasta cierto punto del rango. Observamos que cuando **`x=0`**, la función acumulada de la distribución normal estandarizada es cercana al **`50%`**, mientras que para la distribución con menor media es cercana al **`90%`**. De similar manera, el **`50%`** de la información en la simulación con una menor media se alcanza en **`-1`**.\n"
   ]
  },
  {
   "cell_type": "code",
   "execution_count": 3,
   "metadata": {},
   "outputs": [
    {
     "data": {
      "image/png": "[encoded data removed]",
      "text/plain": [
       "<Figure size 720x432 with 2 Axes>"
      ]
     },
     "metadata": {},
     "output_type": "display_data"
    }
   ],
   "source": [
    "gfx.normal_distributions()"
   ]
  },
  {
   "cell_type": "markdown",
   "metadata": {},
   "source": [
    "#### **`Analizando el Producto interno bruto per capita de los paises: Distribucion logaritmica normal`**"
   ]
  },
  {
   "cell_type": "markdown",
   "metadata": {},
   "source": [
    "- El PBI (producto bruto interno) o PIB (producto interno bruto) es un indicador económico que muestra el valor total de bienes y servicios que se han generado en el ámbito económico durante un período de tiempo, en general, durante un año.\n",
    "\n",
    "- Este conforma uno de los principales indicadores para medir el aumento de la producción de organizaciones de un país, lo cual refleja su nivel económico."
   ]
  },
  {
   "cell_type": "markdown",
   "metadata": {},
   "source": [
    "##### **1 - Importar librerias y carga de archivo**"
   ]
  },
  {
   "cell_type": "code",
   "execution_count": 14,
   "metadata": {},
   "outputs": [],
   "source": [
    "# %matplotlib auto --> me tira los graficos en una pantalla externa al notebook\n",
    "# %matplotlib inline --> me tira los graficos dentro del notebook\n",
    "%matplotlib inline\n",
    "\n",
    "# Importamos la triada de Data Science\n",
    "import pandas as pd\n",
    "import numpy as np\n",
    "import matplotlib.pyplot as plt\n",
    "\n",
    "# Importamos scipy.stats que ayudará a generar distribuciones\n",
    "import scipy.stats as stats\n",
    "\n",
    "# Archivos con funciones de visualizacion\n",
    "import lec3_graphs as gfx\n",
    "\n",
    "# Estilo de los gráficos\n",
    "plt.style.use('seaborn-whitegrid') # Graficos estilo seaborn\n",
    "plt.rcParams[\"figure.figsize\"] = (10,6) # Tamaño gráficos"
   ]
  },
  {
   "cell_type": "code",
   "execution_count": 5,
   "metadata": {},
   "outputs": [
    {
     "data": {
      "text/plain": [
       "['Clase 4 - Variables Aleatorias y gráficos.pdf',\n",
       " 'clase_4_-_variables_aleatorias_y_graficos.ipynb',\n",
       " 'clase_4_practica.ipynb',\n",
       " 'lec3_graphs.py',\n",
       " 'qog_std_cs_jan18.csv',\n",
       " '__pycache__']"
      ]
     },
     "execution_count": 5,
     "metadata": {},
     "output_type": "execute_result"
    }
   ],
   "source": [
    "import os\n",
    "\n",
    "os.listdir()"
   ]
  },
  {
   "cell_type": "code",
   "execution_count": 6,
   "metadata": {},
   "outputs": [
    {
     "data": {
      "text/plain": [
       "(194, 1882)"
      ]
     },
     "execution_count": 6,
     "metadata": {},
     "output_type": "execute_result"
    }
   ],
   "source": [
    "df = pd.read_csv('qog_std_cs_jan18.csv')\n",
    "df.shape"
   ]
  },
  {
   "cell_type": "code",
   "execution_count": 7,
   "metadata": {},
   "outputs": [
    {
     "data": {
      "text/html": [
       "<div>\n",
       "<style scoped>\n",
       "    .dataframe tbody tr th:only-of-type {\n",
       "        vertical-align: middle;\n",
       "    }\n",
       "\n",
       "    .dataframe tbody tr th {\n",
       "        vertical-align: top;\n",
       "    }\n",
       "\n",
       "    .dataframe thead th {\n",
       "        text-align: right;\n",
       "    }\n",
       "</style>\n",
       "<table border=\"1\" class=\"dataframe\">\n",
       "  <thead>\n",
       "    <tr style=\"text-align: right;\">\n",
       "      <th></th>\n",
       "      <th>ccode</th>\n",
       "      <th>cname</th>\n",
       "      <th>ccodealp</th>\n",
       "      <th>ccodecow</th>\n",
       "      <th>ccodewb</th>\n",
       "      <th>version</th>\n",
       "      <th>aid_cpnc</th>\n",
       "      <th>aid_cpsc</th>\n",
       "      <th>aid_crnc</th>\n",
       "      <th>aid_crnio</th>\n",
       "      <th>...</th>\n",
       "      <th>wvs_relacc</th>\n",
       "      <th>wvs_relsch</th>\n",
       "      <th>wvs_relsci</th>\n",
       "      <th>wvs_satfin</th>\n",
       "      <th>wvs_satlif</th>\n",
       "      <th>wvs_screl</th>\n",
       "      <th>wvs_subh</th>\n",
       "      <th>wvs_survself</th>\n",
       "      <th>wvs_tradrat</th>\n",
       "      <th>wvs_trust</th>\n",
       "    </tr>\n",
       "  </thead>\n",
       "  <tbody>\n",
       "    <tr>\n",
       "      <th>0</th>\n",
       "      <td>4</td>\n",
       "      <td>Afghanistan</td>\n",
       "      <td>AFG</td>\n",
       "      <td>700.0</td>\n",
       "      <td>4.0</td>\n",
       "      <td>QoGStdCSJan18</td>\n",
       "      <td>NaN</td>\n",
       "      <td>NaN</td>\n",
       "      <td>29.0</td>\n",
       "      <td>13.0</td>\n",
       "      <td>...</td>\n",
       "      <td>NaN</td>\n",
       "      <td>NaN</td>\n",
       "      <td>NaN</td>\n",
       "      <td>NaN</td>\n",
       "      <td>NaN</td>\n",
       "      <td>NaN</td>\n",
       "      <td>NaN</td>\n",
       "      <td>NaN</td>\n",
       "      <td>NaN</td>\n",
       "      <td>NaN</td>\n",
       "    </tr>\n",
       "    <tr>\n",
       "      <th>1</th>\n",
       "      <td>8</td>\n",
       "      <td>Albania</td>\n",
       "      <td>ALB</td>\n",
       "      <td>339.0</td>\n",
       "      <td>8.0</td>\n",
       "      <td>QoGStdCSJan18</td>\n",
       "      <td>NaN</td>\n",
       "      <td>NaN</td>\n",
       "      <td>26.0</td>\n",
       "      <td>13.0</td>\n",
       "      <td>...</td>\n",
       "      <td>NaN</td>\n",
       "      <td>NaN</td>\n",
       "      <td>NaN</td>\n",
       "      <td>NaN</td>\n",
       "      <td>NaN</td>\n",
       "      <td>NaN</td>\n",
       "      <td>NaN</td>\n",
       "      <td>NaN</td>\n",
       "      <td>NaN</td>\n",
       "      <td>NaN</td>\n",
       "    </tr>\n",
       "    <tr>\n",
       "      <th>2</th>\n",
       "      <td>12</td>\n",
       "      <td>Algeria</td>\n",
       "      <td>DZA</td>\n",
       "      <td>615.0</td>\n",
       "      <td>12.0</td>\n",
       "      <td>QoGStdCSJan18</td>\n",
       "      <td>NaN</td>\n",
       "      <td>NaN</td>\n",
       "      <td>21.0</td>\n",
       "      <td>6.0</td>\n",
       "      <td>...</td>\n",
       "      <td>3.710616</td>\n",
       "      <td>1.704692</td>\n",
       "      <td>3.681347</td>\n",
       "      <td>5.988125</td>\n",
       "      <td>6.301029</td>\n",
       "      <td>5.339371</td>\n",
       "      <td>3.805579</td>\n",
       "      <td>-0.409807</td>\n",
       "      <td>-0.498164</td>\n",
       "      <td>0.179286</td>\n",
       "    </tr>\n",
       "    <tr>\n",
       "      <th>3</th>\n",
       "      <td>20</td>\n",
       "      <td>Andorra</td>\n",
       "      <td>AND</td>\n",
       "      <td>232.0</td>\n",
       "      <td>20.0</td>\n",
       "      <td>QoGStdCSJan18</td>\n",
       "      <td>NaN</td>\n",
       "      <td>NaN</td>\n",
       "      <td>NaN</td>\n",
       "      <td>NaN</td>\n",
       "      <td>...</td>\n",
       "      <td>NaN</td>\n",
       "      <td>NaN</td>\n",
       "      <td>NaN</td>\n",
       "      <td>NaN</td>\n",
       "      <td>NaN</td>\n",
       "      <td>NaN</td>\n",
       "      <td>NaN</td>\n",
       "      <td>NaN</td>\n",
       "      <td>NaN</td>\n",
       "      <td>NaN</td>\n",
       "    </tr>\n",
       "    <tr>\n",
       "      <th>4</th>\n",
       "      <td>24</td>\n",
       "      <td>Angola</td>\n",
       "      <td>AGO</td>\n",
       "      <td>540.0</td>\n",
       "      <td>24.0</td>\n",
       "      <td>QoGStdCSJan18</td>\n",
       "      <td>NaN</td>\n",
       "      <td>NaN</td>\n",
       "      <td>22.0</td>\n",
       "      <td>13.0</td>\n",
       "      <td>...</td>\n",
       "      <td>NaN</td>\n",
       "      <td>NaN</td>\n",
       "      <td>NaN</td>\n",
       "      <td>NaN</td>\n",
       "      <td>NaN</td>\n",
       "      <td>NaN</td>\n",
       "      <td>NaN</td>\n",
       "      <td>NaN</td>\n",
       "      <td>NaN</td>\n",
       "      <td>NaN</td>\n",
       "    </tr>\n",
       "    <tr>\n",
       "      <th>5</th>\n",
       "      <td>28</td>\n",
       "      <td>Antigua and Barbuda</td>\n",
       "      <td>ATG</td>\n",
       "      <td>58.0</td>\n",
       "      <td>28.0</td>\n",
       "      <td>QoGStdCSJan18</td>\n",
       "      <td>NaN</td>\n",
       "      <td>NaN</td>\n",
       "      <td>11.0</td>\n",
       "      <td>3.0</td>\n",
       "      <td>...</td>\n",
       "      <td>NaN</td>\n",
       "      <td>NaN</td>\n",
       "      <td>NaN</td>\n",
       "      <td>NaN</td>\n",
       "      <td>NaN</td>\n",
       "      <td>NaN</td>\n",
       "      <td>NaN</td>\n",
       "      <td>NaN</td>\n",
       "      <td>NaN</td>\n",
       "      <td>NaN</td>\n",
       "    </tr>\n",
       "    <tr>\n",
       "      <th>6</th>\n",
       "      <td>31</td>\n",
       "      <td>Azerbaijan</td>\n",
       "      <td>AZE</td>\n",
       "      <td>373.0</td>\n",
       "      <td>31.0</td>\n",
       "      <td>QoGStdCSJan18</td>\n",
       "      <td>NaN</td>\n",
       "      <td>NaN</td>\n",
       "      <td>25.0</td>\n",
       "      <td>15.0</td>\n",
       "      <td>...</td>\n",
       "      <td>2.922372</td>\n",
       "      <td>2.025111</td>\n",
       "      <td>2.305843</td>\n",
       "      <td>5.581910</td>\n",
       "      <td>6.662893</td>\n",
       "      <td>4.948389</td>\n",
       "      <td>3.753472</td>\n",
       "      <td>-0.667609</td>\n",
       "      <td>-0.416085</td>\n",
       "      <td>0.152803</td>\n",
       "    </tr>\n",
       "    <tr>\n",
       "      <th>7</th>\n",
       "      <td>32</td>\n",
       "      <td>Argentina</td>\n",
       "      <td>ARG</td>\n",
       "      <td>160.0</td>\n",
       "      <td>32.0</td>\n",
       "      <td>QoGStdCSJan18</td>\n",
       "      <td>NaN</td>\n",
       "      <td>NaN</td>\n",
       "      <td>23.0</td>\n",
       "      <td>7.0</td>\n",
       "      <td>...</td>\n",
       "      <td>1.850180</td>\n",
       "      <td>2.163982</td>\n",
       "      <td>2.091454</td>\n",
       "      <td>6.517899</td>\n",
       "      <td>7.488213</td>\n",
       "      <td>6.504242</td>\n",
       "      <td>3.989496</td>\n",
       "      <td>0.161507</td>\n",
       "      <td>-0.103415</td>\n",
       "      <td>0.198548</td>\n",
       "    </tr>\n",
       "    <tr>\n",
       "      <th>8</th>\n",
       "      <td>36</td>\n",
       "      <td>Australia</td>\n",
       "      <td>AUS</td>\n",
       "      <td>900.0</td>\n",
       "      <td>36.0</td>\n",
       "      <td>QoGStdCSJan18</td>\n",
       "      <td>134.0</td>\n",
       "      <td>2.866382e+09</td>\n",
       "      <td>NaN</td>\n",
       "      <td>NaN</td>\n",
       "      <td>...</td>\n",
       "      <td>1.606337</td>\n",
       "      <td>2.209082</td>\n",
       "      <td>1.755517</td>\n",
       "      <td>6.321970</td>\n",
       "      <td>7.203336</td>\n",
       "      <td>4.063055</td>\n",
       "      <td>4.069681</td>\n",
       "      <td>1.044364</td>\n",
       "      <td>0.422270</td>\n",
       "      <td>0.518140</td>\n",
       "    </tr>\n",
       "    <tr>\n",
       "      <th>9</th>\n",
       "      <td>40</td>\n",
       "      <td>Austria</td>\n",
       "      <td>AUT</td>\n",
       "      <td>305.0</td>\n",
       "      <td>40.0</td>\n",
       "      <td>QoGStdCSJan18</td>\n",
       "      <td>103.0</td>\n",
       "      <td>3.775100e+08</td>\n",
       "      <td>NaN</td>\n",
       "      <td>NaN</td>\n",
       "      <td>...</td>\n",
       "      <td>NaN</td>\n",
       "      <td>NaN</td>\n",
       "      <td>NaN</td>\n",
       "      <td>NaN</td>\n",
       "      <td>NaN</td>\n",
       "      <td>NaN</td>\n",
       "      <td>NaN</td>\n",
       "      <td>NaN</td>\n",
       "      <td>NaN</td>\n",
       "      <td>NaN</td>\n",
       "    </tr>\n",
       "  </tbody>\n",
       "</table>\n",
       "<p>10 rows × 1882 columns</p>\n",
       "</div>"
      ],
      "text/plain": [
       "   ccode                cname ccodealp  ccodecow  ccodewb        version  \\\n",
       "0      4          Afghanistan      AFG     700.0      4.0  QoGStdCSJan18   \n",
       "1      8              Albania      ALB     339.0      8.0  QoGStdCSJan18   \n",
       "2     12              Algeria      DZA     615.0     12.0  QoGStdCSJan18   \n",
       "3     20              Andorra      AND     232.0     20.0  QoGStdCSJan18   \n",
       "4     24               Angola      AGO     540.0     24.0  QoGStdCSJan18   \n",
       "5     28  Antigua and Barbuda      ATG      58.0     28.0  QoGStdCSJan18   \n",
       "6     31           Azerbaijan      AZE     373.0     31.0  QoGStdCSJan18   \n",
       "7     32            Argentina      ARG     160.0     32.0  QoGStdCSJan18   \n",
       "8     36            Australia      AUS     900.0     36.0  QoGStdCSJan18   \n",
       "9     40              Austria      AUT     305.0     40.0  QoGStdCSJan18   \n",
       "\n",
       "   aid_cpnc      aid_cpsc  aid_crnc  aid_crnio  ...  wvs_relacc  wvs_relsch  \\\n",
       "0       NaN           NaN      29.0       13.0  ...         NaN         NaN   \n",
       "1       NaN           NaN      26.0       13.0  ...         NaN         NaN   \n",
       "2       NaN           NaN      21.0        6.0  ...    3.710616    1.704692   \n",
       "3       NaN           NaN       NaN        NaN  ...         NaN         NaN   \n",
       "4       NaN           NaN      22.0       13.0  ...         NaN         NaN   \n",
       "5       NaN           NaN      11.0        3.0  ...         NaN         NaN   \n",
       "6       NaN           NaN      25.0       15.0  ...    2.922372    2.025111   \n",
       "7       NaN           NaN      23.0        7.0  ...    1.850180    2.163982   \n",
       "8     134.0  2.866382e+09       NaN        NaN  ...    1.606337    2.209082   \n",
       "9     103.0  3.775100e+08       NaN        NaN  ...         NaN         NaN   \n",
       "\n",
       "   wvs_relsci  wvs_satfin  wvs_satlif  wvs_screl  wvs_subh  wvs_survself  \\\n",
       "0         NaN         NaN         NaN        NaN       NaN           NaN   \n",
       "1         NaN         NaN         NaN        NaN       NaN           NaN   \n",
       "2    3.681347    5.988125    6.301029   5.339371  3.805579     -0.409807   \n",
       "3         NaN         NaN         NaN        NaN       NaN           NaN   \n",
       "4         NaN         NaN         NaN        NaN       NaN           NaN   \n",
       "5         NaN         NaN         NaN        NaN       NaN           NaN   \n",
       "6    2.305843    5.581910    6.662893   4.948389  3.753472     -0.667609   \n",
       "7    2.091454    6.517899    7.488213   6.504242  3.989496      0.161507   \n",
       "8    1.755517    6.321970    7.203336   4.063055  4.069681      1.044364   \n",
       "9         NaN         NaN         NaN        NaN       NaN           NaN   \n",
       "\n",
       "   wvs_tradrat  wvs_trust  \n",
       "0          NaN        NaN  \n",
       "1          NaN        NaN  \n",
       "2    -0.498164   0.179286  \n",
       "3          NaN        NaN  \n",
       "4          NaN        NaN  \n",
       "5          NaN        NaN  \n",
       "6    -0.416085   0.152803  \n",
       "7    -0.103415   0.198548  \n",
       "8     0.422270   0.518140  \n",
       "9          NaN        NaN  \n",
       "\n",
       "[10 rows x 1882 columns]"
      ]
     },
     "execution_count": 7,
     "metadata": {},
     "output_type": "execute_result"
    }
   ],
   "source": [
    "df.head(10)"
   ]
  },
  {
   "cell_type": "markdown",
   "metadata": {},
   "source": [
    "##### **2 - Crear un Histograma con datos reales y aplicarle una Distribucion logaritmica**"
   ]
  },
  {
   "cell_type": "markdown",
   "metadata": {},
   "source": [
    "Vamos a comenzar eliminando las filas del Dataframe que tienen nulos en la columna **`gle_cgdpc`**"
   ]
  },
  {
   "cell_type": "code",
   "execution_count": 10,
   "metadata": {},
   "outputs": [],
   "source": [
    "gdp_dropna = df['gle_cgdpc'].dropna()"
   ]
  },
  {
   "cell_type": "code",
   "execution_count": 32,
   "metadata": {},
   "outputs": [
    {
     "data": {
      "text/plain": [
       "14279.040529635415"
      ]
     },
     "execution_count": 32,
     "metadata": {},
     "output_type": "execute_result"
    }
   ],
   "source": [
    "mu = np.mean(gdp_dropna)\n",
    "mu"
   ]
  },
  {
   "cell_type": "code",
   "execution_count": 33,
   "metadata": {},
   "outputs": [
    {
     "data": {
      "text/plain": [
       "17868.206984563905"
      ]
     },
     "execution_count": 33,
     "metadata": {},
     "output_type": "execute_result"
    }
   ],
   "source": [
    "sigma = np.std(gdp_dropna)\n",
    "sigma"
   ]
  },
  {
   "cell_type": "markdown",
   "metadata": {},
   "source": [
    "Generaremos la **`normalización`** del gdp mediante el **`logaritmo`** "
   ]
  },
  {
   "cell_type": "code",
   "execution_count": 20,
   "metadata": {},
   "outputs": [
    {
     "name": "stdout",
     "output_type": "stream",
     "text": [
      "8.85\n"
     ]
    }
   ],
   "source": [
    "log_gdp = np.log(gdp_dropna) \n",
    "print(round(log_gdp.mean() ,2))"
   ]
  },
  {
   "cell_type": "markdown",
   "metadata": {},
   "source": [
    "Posteriormente grafiquemos el histograma y su curva"
   ]
  },
  {
   "cell_type": "code",
   "execution_count": 31,
   "metadata": {},
   "outputs": [
    {
     "data": {
      "image/png": "[encoded data removed]",
      "text/plain": [
       "<Figure size 720x432 with 2 Axes>"
      ]
     },
     "metadata": {},
     "output_type": "display_data"
    }
   ],
   "source": [
    "plt.subplot(1, 2, 1)\n",
    "plt.hist(gdp_dropna, color='grey', alpha=.4, density=True) \n",
    "x_min, x_max = plt.xlim()\n",
    "x_axis = np.linspace(x_min, x_max, 100) \n",
    "plt.plot(x_axis, stats.norm.pdf(x_axis, mu, sigma),color='tomato', lw=3) \n",
    "plt.axvline(gdp_dropna.mean(),color='dodgerblue', linestyle='--', lw=3)\n",
    "plt.title(\"Histograma PIB\")\n",
    "\n",
    "plt.subplot(1, 2, 2)\n",
    "plt.hist(log_gdp, color='grey', alpha=.4, density=True) \n",
    "x_min, x_max = plt.xlim()\n",
    "x_axis = np.linspace(x_min, x_max, 100) \n",
    "plt.plot(x_axis, stats.norm.pdf(x_axis, log_gdp.mean(), log_gdp.std()), color='tomato', lw=3) \n",
    "plt.axvline(log_gdp.mean(), color='dodgerblue', linestyle='--', lw=3)\n",
    "plt.title(\"Histograma log(PIB)\")\n",
    "plt.subplots_adjust(top = 1, right = 1.5) "
   ]
  },
  {
   "cell_type": "markdown",
   "metadata": {},
   "source": [
    "En el gráfico de la izquierda se presenta el histograma del PIB sin transformar, observamos que la distribución presenta un fuerte sesgo en valores bajos. Hay pocos países que tienen ingresos promedio de 100000 dólares o más que escapan de la media, mientras que hay una amplia mayoría de observaciones con ingresos bajo la media. Esta distribución altamente sesgada donde algunos valores se escapan de forma substancial de la muestra se puede corregir mediante la distribución lognormal.\n",
    "\n",
    "Podemos aplicar un logaritmo al vector gdp para reescalar sus valores. En la figura de la derecha se presenta el histograma del logaritmo del PIB.\n",
    "\n",
    "El principal contrapunto de ocupar logaritmos para transformar variables, es el hecho que sus resultados son difíciles de implementar. Por lo general sirven para desarrollar modelos de regresión donde la perturbación de los errores.\n",
    "\n",
    "Efectivamente al reescalar la variable, los nuevos puntajes generan un histograma aproximadamente normal."
   ]
  },
  {
   "cell_type": "markdown",
   "metadata": {},
   "source": [
    "#### **`Una variante importante: La distribución normal estandarizada`**"
   ]
  },
  {
   "cell_type": "markdown",
   "metadata": {},
   "source": [
    "Cuando la distribución normal tiene una media de 0 y una varianza de 1, se conoce como la distribución normal estandarizada. Dado que su media representa cero, permite reflejar diversos eventos tales como la ausencia de efecto de un estimador (distribución conocida como distribución bajo la hipótesis nula), o también cuando buscamos centrar observaciones de una variable respecto a la media (procedimiento conocido como puntajes z).\n",
    "\n",
    "Los ejemplos anteriores sugieren la omnipresencia de la distribución normal. Dado su afabilidad para ser interpretada, cabe resaltar sus características más importantes:\n",
    "\n",
    "-\tEs **`unimodal`**, lo que implica que tiene sólo un punto que es el más alto, donde se concentran la mayoría de los datos.\n",
    "\n",
    "-\tEs **`simétrica`** dado que la mayoría de los datos gravitan alrededor de la media.\n",
    "\n",
    "-\tEs **`positiva`**, por tanto todos los valores (positivos o negativos) tienen una\n",
    "probabilidad **`Pr ≥ 0`** de suceder.\n"
   ]
  },
  {
   "cell_type": "markdown",
   "metadata": {},
   "source": [
    "Mediante los componentes paramétricos de la distribución normal podemos calcular el porcentaje de datos que estará bajo la curva. Esto se visualiza abajo con gfx.normal_distribution_sigma():\n",
    "\n",
    " \n",
    "-\tEl **`68%`** de los datos se encontrarán entre **`± 1σ ⇝ Pr( − σ ≤ X ≤ + σ)`**. Esto corresponde al área de azul intenso.\n",
    " \n",
    "-\tEl **`95%`** de los datos se encontrarán entre **`± 2σ ⇝ Pr( − 2σ ≤ X ≤ + 2σ)`**.\n",
    " \n",
    "-\tEl **`99%`** de los datos se encontrarán entre **`± 3σ ⇝ Pr( − 3σ ≤ X ≤ + 3σ)`**. Esto corresponde a las colas de la distribución normal, con un azul pálido.\n",
    "\n",
    "<center><img src=\"https://i.postimg.cc/bY13tkws/dl7.png\"></center>"
   ]
  },
  {
   "cell_type": "markdown",
   "metadata": {},
   "source": [
    "En la distribución normal N(μ,σ) se cumple que:\n",
    "\n",
    "-\tEn el intervalo **`(μ-σ, μ+σ)`** se encuentra el **`68,26%`** del área total\n",
    "-\tEn el intervalo **`(μ-2σ, μ+2σ)`** se encuentra el **`95,44%`** del área total\n",
    "-\tEn el intervalo **`(μ-3σ, μ+3σ)`** se encuentra el **`99,73%`** del área total\n",
    "\n",
    "<center><img src=\"https://i.postimg.cc/MZyG0dPJ/dl14.png\"></center>"
   ]
  },
  {
   "cell_type": "code",
   "execution_count": 34,
   "metadata": {},
   "outputs": [
    {
     "data": {
      "image/png": "[encoded data removed]",
      "text/plain": [
       "<Figure size 720x432 with 1 Axes>"
      ]
     },
     "metadata": {},
     "output_type": "display_data"
    }
   ],
   "source": [
    "gfx.normal_distribution_sigma()"
   ]
  },
  {
   "cell_type": "markdown",
   "metadata": {},
   "source": [
    "#### **`Puntajes Z`**"
   ]
  },
  {
   "cell_type": "markdown",
   "metadata": {},
   "source": [
    "La información entregada por la distribución normal nos permite aproximar nuestro conocimiento respecto al comportamiento de la variable.\n",
    "\n",
    "También podemos utilizar esta información para **`analizar cómo una observación en específico se comporta respecto a la media`**. Para ello utilizamos los puntajes z.\n",
    "\n",
    " La fórmula se detalla a continuación.\n",
    "\n",
    " <center><img src=\"https://i.postimg.cc/bNrV1Fgm/dl15.png\"></center>\n",
    "\n",
    " El procedimiento para obtener el puntaje z de una observación implica:\n",
    "\n",
    "**`1.`**\tObtener la media del vector donde proviene la observación.\n",
    "\n",
    "**`2.`**\tRestar la observación con la media.\n",
    "\n",
    "**`3.`**\tDividir el resultado por la desviación estándar.\n",
    "\n",
    "El resultado de la operación indica a cuántas desviaciones estándares se encuentra una observación respecto a la media."
   ]
  },
  {
   "cell_type": "markdown",
   "metadata": {},
   "source": [
    "##### **Ejemplo**"
   ]
  },
  {
   "cell_type": "markdown",
   "metadata": {},
   "source": [
    "**`¿Cuál es el índice de desarrollo humano de Chile?`** Para ello debemos acceder a la celda específica.\n",
    "\n",
    "Comencemos por separar la fila de Chile. Esto lo logramos mediante:"
   ]
  },
  {
   "cell_type": "code",
   "execution_count": 36,
   "metadata": {},
   "outputs": [
    {
     "data": {
      "text/html": [
       "<div>\n",
       "<style scoped>\n",
       "    .dataframe tbody tr th:only-of-type {\n",
       "        vertical-align: middle;\n",
       "    }\n",
       "\n",
       "    .dataframe tbody tr th {\n",
       "        vertical-align: top;\n",
       "    }\n",
       "\n",
       "    .dataframe thead th {\n",
       "        text-align: right;\n",
       "    }\n",
       "</style>\n",
       "<table border=\"1\" class=\"dataframe\">\n",
       "  <thead>\n",
       "    <tr style=\"text-align: right;\">\n",
       "      <th></th>\n",
       "      <th>ccode</th>\n",
       "      <th>cname</th>\n",
       "      <th>ccodealp</th>\n",
       "      <th>ccodecow</th>\n",
       "      <th>ccodewb</th>\n",
       "      <th>version</th>\n",
       "      <th>aid_cpnc</th>\n",
       "      <th>aid_cpsc</th>\n",
       "      <th>aid_crnc</th>\n",
       "      <th>aid_crnio</th>\n",
       "      <th>...</th>\n",
       "      <th>wvs_relacc</th>\n",
       "      <th>wvs_relsch</th>\n",
       "      <th>wvs_relsci</th>\n",
       "      <th>wvs_satfin</th>\n",
       "      <th>wvs_satlif</th>\n",
       "      <th>wvs_screl</th>\n",
       "      <th>wvs_subh</th>\n",
       "      <th>wvs_survself</th>\n",
       "      <th>wvs_tradrat</th>\n",
       "      <th>wvs_trust</th>\n",
       "    </tr>\n",
       "  </thead>\n",
       "  <tbody>\n",
       "    <tr>\n",
       "      <th>35</th>\n",
       "      <td>152</td>\n",
       "      <td>Chile</td>\n",
       "      <td>CHL</td>\n",
       "      <td>155.0</td>\n",
       "      <td>152.0</td>\n",
       "      <td>QoGStdCSJan18</td>\n",
       "      <td>NaN</td>\n",
       "      <td>NaN</td>\n",
       "      <td>22.0</td>\n",
       "      <td>7.0</td>\n",
       "      <td>...</td>\n",
       "      <td>1.909193</td>\n",
       "      <td>2.833918</td>\n",
       "      <td>2.264085</td>\n",
       "      <td>5.997994</td>\n",
       "      <td>7.269231</td>\n",
       "      <td>6.959651</td>\n",
       "      <td>3.883884</td>\n",
       "      <td>0.14309</td>\n",
       "      <td>-0.082681</td>\n",
       "      <td>0.127703</td>\n",
       "    </tr>\n",
       "  </tbody>\n",
       "</table>\n",
       "<p>1 rows × 1882 columns</p>\n",
       "</div>"
      ],
      "text/plain": [
       "    ccode  cname ccodealp  ccodecow  ccodewb        version  aid_cpnc  \\\n",
       "35    152  Chile      CHL     155.0    152.0  QoGStdCSJan18       NaN   \n",
       "\n",
       "    aid_cpsc  aid_crnc  aid_crnio  ...  wvs_relacc  wvs_relsch  wvs_relsci  \\\n",
       "35       NaN      22.0        7.0  ...    1.909193    2.833918    2.264085   \n",
       "\n",
       "    wvs_satfin  wvs_satlif  wvs_screl  wvs_subh  wvs_survself  wvs_tradrat  \\\n",
       "35    5.997994    7.269231   6.959651  3.883884       0.14309    -0.082681   \n",
       "\n",
       "    wvs_trust  \n",
       "35   0.127703  \n",
       "\n",
       "[1 rows x 1882 columns]"
      ]
     },
     "execution_count": 36,
     "metadata": {},
     "output_type": "execute_result"
    }
   ],
   "source": [
    "chile = df[df['cname'] == 'Chile']\n",
    "chile.head()"
   ]
  },
  {
   "cell_type": "markdown",
   "metadata": {},
   "source": [
    "Instruímos al DataFrame para seleccionar sólo la fila que satisfaga la condición **`df['cname'] == 'Chile'`**. Posteriormente podemos acceder a la columna específica:"
   ]
  },
  {
   "cell_type": "code",
   "execution_count": 37,
   "metadata": {},
   "outputs": [
    {
     "data": {
      "text/plain": [
       "35    0.845\n",
       "Name: undp_hdi, dtype: float64"
      ]
     },
     "execution_count": 37,
     "metadata": {},
     "output_type": "execute_result"
    }
   ],
   "source": [
    "chile['undp_hdi']"
   ]
  },
  {
   "cell_type": "markdown",
   "metadata": {},
   "source": [
    "Resulta más conveniente concatenar todas estas acciones de manera tal de escribir código más sucinto (a expensas de hacerlo un poco más inentendible)."
   ]
  },
  {
   "cell_type": "code",
   "execution_count": 48,
   "metadata": {},
   "outputs": [
    {
     "data": {
      "text/plain": [
       "35    0.845\n",
       "Name: undp_hdi, dtype: float64"
      ]
     },
     "execution_count": 48,
     "metadata": {},
     "output_type": "execute_result"
    }
   ],
   "source": [
    "hdi_chile = df[df['cname']=='Chile']['undp_hdi'] \n",
    "hdi_chile"
   ]
  },
  {
   "cell_type": "code",
   "execution_count": 49,
   "metadata": {},
   "outputs": [
    {
     "name": "stdout",
     "output_type": "stream",
     "text": [
      "hdi Chile: 0.845\n",
      "hdi medio a nivel mundial: 0.696\n"
     ]
    }
   ],
   "source": [
    "print(f'hdi Chile: %.3f' %hdi_chile)\n",
    "print('hdi medio a nivel mundial: %.3f' %round(hdi_dropna.mean(),3))"
   ]
  },
  {
   "cell_type": "markdown",
   "metadata": {},
   "source": [
    "Una forma rudimentaria de calcular el puntaje-z de Chile es la siguiente, donde aplicamos los componentes detallados en la fórmula. Con un valor final de 0.96, observamos que Chile se posiciona casi una desviación estandar respecto al promedio mundial del índice de desarrollo humano."
   ]
  },
  {
   "cell_type": "code",
   "execution_count": 41,
   "metadata": {},
   "outputs": [
    {
     "name": "stdout",
     "output_type": "stream",
     "text": [
      "Puntaje Z para Chile: 0.96\n"
     ]
    }
   ],
   "source": [
    "print('Puntaje Z para Chile: %.2f' %((hdi_chile - hdi_dropna.mean()) / np.sqrt(hdi_dropna.var())))"
   ]
  },
  {
   "cell_type": "markdown",
   "metadata": {},
   "source": [
    "Ya sabemos desarrollar funciones, y podemos generalizar todo este procedimiento para calcular el puntaje z de cualquier país respecto a cualquier variable. Para este ejemplo, vamos a seguir analizando el índice de desarrollo humano."
   ]
  },
  {
   "cell_type": "code",
   "execution_count": 52,
   "metadata": {},
   "outputs": [],
   "source": [
    "def get_zscore(col, case):\n",
    "    get_point = df[df['cname']==case][col] \n",
    "    preproc = df[col].dropna()\n",
    "    get_mean = preproc.mean() \n",
    "    get_std = np.sqrt(preproc.var())\n",
    "    return (get_point - get_mean) / get_std"
   ]
  },
  {
   "cell_type": "markdown",
   "metadata": {},
   "source": [
    "Como ya sabemos, la prueba de fuego de una función es que replique el mismo resultado que la versión rudimentaria. Observamos que nuestra función get_zscore devuelve el mismo resultado."
   ]
  },
  {
   "cell_type": "code",
   "execution_count": 53,
   "metadata": {},
   "outputs": [
    {
     "data": {
      "text/plain": [
       "35    0.960783\n",
       "Name: undp_hdi, dtype: float64"
      ]
     },
     "execution_count": 53,
     "metadata": {},
     "output_type": "execute_result"
    }
   ],
   "source": [
    "get_zscore('undp_hdi', 'Chile')"
   ]
  },
  {
   "cell_type": "markdown",
   "metadata": {},
   "source": [
    "Ahora calculemos los puntajes z de países como Namibia, Uruguay y China:\n",
    "\n",
    "- La evidencia sugiere que el nivel de desarrollo humano de **`Namibia`** comparado al promedio mundial es menor, situándose **`-0.38`** desviaciones estándar por debajo de la media.\n",
    "- Para el caso de **`Uruguay`**, siguiendo las mediciones del IDH, observamos que se sitúa sobre la media mundial, pero relativamente más abajo de Chile.\n",
    "- Independiente de su poder económico, el índice de desarrollo humano para **`China`** es sustancialmente bajo, situándose **`0.2`** desviaciones estándares sobre la media."
   ]
  },
  {
   "cell_type": "code",
   "execution_count": 54,
   "metadata": {},
   "outputs": [
    {
     "data": {
      "text/plain": [
       "118   -0.378656\n",
       "Name: undp_hdi, dtype: float64"
      ]
     },
     "execution_count": 54,
     "metadata": {},
     "output_type": "execute_result"
    }
   ],
   "source": [
    "get_zscore('undp_hdi', 'Namibia')"
   ]
  },
  {
   "cell_type": "code",
   "execution_count": 55,
   "metadata": {},
   "outputs": [
    {
     "data": {
      "text/plain": [
       "188    0.632363\n",
       "Name: undp_hdi, dtype: float64"
      ]
     },
     "execution_count": 55,
     "metadata": {},
     "output_type": "execute_result"
    }
   ],
   "source": [
    "get_zscore('undp_hdi', 'Uruguay')"
   ]
  },
  {
   "cell_type": "code",
   "execution_count": 56,
   "metadata": {},
   "outputs": [
    {
     "data": {
      "text/plain": [
       "36    0.245986\n",
       "Name: undp_hdi, dtype: float64"
      ]
     },
     "execution_count": 56,
     "metadata": {},
     "output_type": "execute_result"
    }
   ],
   "source": [
    "get_zscore('undp_hdi', 'China')"
   ]
  },
  {
   "cell_type": "markdown",
   "metadata": {},
   "source": [
    "Cabe destacar que el criterio de comparación desarrollado con los **`puntajes z`** asume que nuestra distribución es normal estandarizada **`(X ~ N (0, 1)) `**.\n",
    "\n",
    "Para visualizar de mejor manera la posición de las observaciones, vamos a refactorizar la función **`get_zscore()`** para que haga lo siguiente:\n",
    "\n",
    "**`1.-`**\tCalcule un puntaje z asociado al país y a la medición.\n",
    "\n",
    "**`2.-`**\tGrafique su posición en referencia a una distribución normal estandarizada.\n"
   ]
  },
  {
   "cell_type": "code",
   "execution_count": 57,
   "metadata": {},
   "outputs": [],
   "source": [
    "# definamos la función\n",
    "def point_zscore(col, case):\n",
    "    get_point = df[df['cname']==case][col] \n",
    "    preproc=df[col].dropna()\n",
    "    get_mean = preproc.mean()\n",
    "    get_std = np.sqrt(hdi_dropna.var())\n",
    "    get_zscore =\tfloat((get_point - get_mean) / get_std) \n",
    "    plt.axvline(get_zscore, ymin = 0, ymax = .1, color='tomato', lw=2) \n",
    "    plt.annotate(case, xy=(get_zscore + .05, 0.06), color='tomato', rotation=60, ha='center', size = 7)"
   ]
  },
  {
   "cell_type": "markdown",
   "metadata": {},
   "source": [
    "Ahora graficamos una curva gaussiana que siga **`X ~ N (0, 1)`**. También demarcaremos la media en 0."
   ]
  },
  {
   "cell_type": "code",
   "execution_count": 59,
   "metadata": {},
   "outputs": [
    {
     "data": {
      "image/png": "[encoded data removed]",
      "text/plain": [
       "<Figure size 720x432 with 1 Axes>"
      ]
     },
     "metadata": {},
     "output_type": "display_data"
    }
   ],
   "source": [
    "# generamos un array lineal \n",
    "x_axis = np.linspace(-3, 3, 200) \n",
    "# simulamos la función de densidad\n",
    "plt.plot(x_axis, stats.norm.pdf(x_axis, 0, 1)) \n",
    "# marcamos la media en 0\n",
    "plt.axvline(0, color='dodgerblue', linestyle='--')\n",
    "plt.subplots_adjust(top = 1, right = 1.5) \n",
    "\n",
    "# Pasamos un array de casos a visualizar en un loop. \n",
    "# # donde para cada elemento de éste array\n",
    "for i in ['Chile', 'Burkina Faso', 'Haiti', 'Myanmar', 'Germany', 'Norway', 'Finland', 'Yemen', 'Bolivia', 'Algeria', 'Namibia', 'Liberia']:\n",
    "# aplicaremos la función point_zscore \n",
    "    point_zscore('undp_hdi', i)"
   ]
  },
  {
   "cell_type": "markdown",
   "metadata": {},
   "source": [
    "Posterior a graficar nuestra distribución normal estandarizada, pasaremos una lista donde posicionamos una serie de países en cuanto a sus desviaciones estándares. Intentamos agregar una cantidad variada de países, para ver los correlatos desarrollados en nuestro análisis.\n",
    "En el rango inferior de nuestra distribución encontramos países de la zona subsahariana del África como Burkina Faso, Liberia y Namibia, países caracterizados por guerrillas caudillistas y fragilidad institucional.\n",
    "\n",
    "En el extremo opuesto encontramos a países asociados al Estado de Bienestar escandinavo como Noruega, Finlandia y países como Alemania."
   ]
  },
  {
   "cell_type": "markdown",
   "metadata": {},
   "source": [
    "#### **`Variables discretas: Ensayo de Bernoulli`**"
   ]
  },
  {
   "cell_type": "markdown",
   "metadata": {},
   "source": [
    "Hasta ahora sabemos trabajar cuando las variables representan mediciones contínuas. Resulta que muchas veces nuestros objetivos a analizar presentan categorías y sus números son representaciones conceptuales.\n",
    "\n",
    "Para ello nos valemos de las variables aleatorias discretas, que permiten resumir el comportamiento de un fenómeno mediante el conteo (a diferencia de las variables aleatorias continuas que permiten resumir el comportamiento de un fenómeno mediante la medición).\n",
    "\n",
    "La distribución de una variable aleatoria X generalmente se especifica mediante un listado de todos los posibles valores y una función de probabilidad de masa p(x).\n",
    "\n",
    "**`p(x) = px(x) = Pr[X = x]`**"
   ]
  },
  {
   "cell_type": "markdown",
   "metadata": {},
   "source": [
    "##### **Ensayo de Bernoulli**"
   ]
  },
  {
   "cell_type": "markdown",
   "metadata": {},
   "source": [
    "Tomemos la siguiente situación: Como investigadores nos preguntan por la estabilidad democrática a nivel mundial. Para esto emplearemos la variable **`gol_inst`**, que mide el tipo de régimen en cada una de las observaciones.\n",
    "\n",
    "Nuestro objetivo es desarrollar una variable binaria, donde asignaremos la etiqueta '**`Democracia`**' para todos aquellos casos que presenten alguna variante de democracia (régimen parlamentario, presidencial o semipresidencial), y '**`No Democracia`**' para todos los casos que no sean democracias.\n",
    "\n",
    "**`numpy`** ofrece el operador ternario **`np.where()`**, el cual nos facilita la reconversión de valores en base a la satisfacción de un criterio.\n",
    "\n",
    "La sintaxis de **`np.where()`** consta de tres partes:\n",
    "\n",
    "> **np.where**(**<condición>**, **<valor_positivo>**, **<valor_negativo>**)\n",
    "\n",
    "-\t**`<condición>`** hace referencia a un criterio formalizado en alguna expresión booleana que evalúe en verdaderos o falsos.\n",
    "-\t**`<valor_positivo>`** es el valor que tomarán aquellos elementos que satisfagan la condición.\n",
    "-\t**`<valor_negativo>`** es el valor que tomarán aquellos elementos que no satisfagan la condición.\n",
    "\n",
    "Sabemos que en la variable las **`democracias`** tienen un número asignado entre el **`0`** y el **`2`**, y que las **`dictaduras`** tienen números entre el **`3`** y el **`5`**.\n",
    " \n",
    "Para utilizar **`np.where`**, desarrollamos la condición booleana **`df['gol_inst'] <= 2`** para evaluar como '**`Democracia`**' todos aquellos casos menores o iguales a 2 y '**`No democracia`**' los demás."
   ]
  },
  {
   "cell_type": "code",
   "execution_count": 66,
   "metadata": {},
   "outputs": [
    {
     "data": {
      "text/plain": [
       "Democracia       0.65\n",
       "No Democracia    0.35\n",
       "Name: democracies, dtype: float64"
      ]
     },
     "execution_count": 66,
     "metadata": {},
     "output_type": "execute_result"
    }
   ],
   "source": [
    "# Proporciones de cada tipo de gobierno en el dataset \n",
    "df['democracies'] = np.where(df['gol_inst'] <= 2, 'Democracia', 'No Democracia')\n",
    "# pidamos los porcentajes de democracias\n",
    "democount = df['democracies'].value_counts('%').round(2)\n",
    "democount"
   ]
  },
  {
   "cell_type": "code",
   "execution_count": 61,
   "metadata": {},
   "outputs": [
    {
     "data": {
      "text/plain": [
       "Democracia       127\n",
       "No Democracia     67\n",
       "Name: democracies, dtype: int64"
      ]
     },
     "execution_count": 61,
     "metadata": {},
     "output_type": "execute_result"
    }
   ],
   "source": [
    "# Conteo de tipos de gobierno en el dataset \n",
    "df['democracies'].value_counts()"
   ]
  },
  {
   "cell_type": "markdown",
   "metadata": {},
   "source": [
    "Acorde a nuestro criterio de recodificación, 127 observaciones se clasificaron como regímenes con tendencias democráticas y 67 como regímenes con tendencias autoritarias. El objeto democount que creamos nos puede servir para generar un gráfico de barras."
   ]
  },
  {
   "cell_type": "code",
   "execution_count": 62,
   "metadata": {},
   "outputs": [
    {
     "data": {
      "text/plain": [
       "(array([0, 1]), [Text(0, 0, 'Democracia'), Text(1, 0, 'No Democracia')])"
      ]
     },
     "execution_count": 62,
     "metadata": {},
     "output_type": "execute_result"
    },
    {
     "data": {
      "image/png": "[encoded data removed]",
      "text/plain": [
       "<Figure size 720x432 with 1 Axes>"
      ]
     },
     "metadata": {},
     "output_type": "display_data"
    }
   ],
   "source": [
    "democount.plot(kind = 'bar') \n",
    "plt.title(\"Democracias vs Dictaduras en el mundo\") \n",
    "plt.xticks(rotation = 'horizontal')"
   ]
  },
  {
   "cell_type": "markdown",
   "metadata": {},
   "source": [
    "Observamos que el **`65.4%`** de las observaciones son clasificadas como democracias. Si tomamos un país al azar de los registrados en el dataset, **hay un 65% de probabilidad de que el país sea una variante del régimen democrático**.\n",
    "\n",
    "Para sustentar este enunciado, es necesario respaldarnos en las leyes estadísticas. ¿Cómo podemos hacerlo?\n",
    "\n",
    "Acorde a esta variable, un país sólo puede ser **`democracia`** o **`dictadura`**.\n",
    "\n",
    "Sabemos que la probabilidad de suceso de un evento es **`P`**. Por tanto, su tasa de ausencia está definida como **`Q = (1 − P)`**.\n",
    "\n",
    "La distribución Bernoulli (también llamada ensayo de Bernoulli) representa un caso individual donde se realiza un ensayo con **`x ε [0, 1]`**. Está gobernada por un parámetro continuo **`ε [0, 1]`** que representa la probabilidad de **`x = 1`**.\n",
    "\n",
    "Podemos solicitar los primeros momentos de un ensayo de Bernoulli en el módulo **`scipy.stats`** mediante la función **`bernoulli.stats`**, donde ingresando nuestra probabilidad obtenemos nuestra media y varianza."
   ]
  },
  {
   "cell_type": "code",
   "execution_count": 64,
   "metadata": {},
   "outputs": [
    {
     "name": "stdout",
     "output_type": "stream",
     "text": [
      "La media del ensayo de Bernoulli es de:  0.65\n",
      "La varianza del ensayo de Bernoulli es de:  0.23\n",
      "La probabilidad de ocurrencia asumiendo una desviación estandar se encuentra entre : 0.42 0.88\n"
     ]
    }
   ],
   "source": [
    "mu, sigma = stats.bernoulli.stats(0.65)\n",
    "print(\"La media del ensayo de Bernoulli es de: \", mu.round(2)) \n",
    "print(\"La varianza del ensayo de Bernoulli es de: \", sigma.round(2)) \n",
    "print(\"La probabilidad de ocurrencia asumiendo una desviación estandar se encuentra entre :\", round(mu - sigma, 2), round(mu + sigma, 2))"
   ]
  },
  {
   "cell_type": "markdown",
   "metadata": {},
   "source": [
    "#### **`Distribución Binomial: Analizando una serie de ensayos de Bernoulli`**"
   ]
  },
  {
   "cell_type": "markdown",
   "metadata": {},
   "source": [
    "La información generada por el ensayo de Bernoulli es útil cuando buscamos caracterizar un caso cualquiera en nuestra muestra. Resulta que es de más interés ver cómo se distribuiría la tasa de éxito o fracaso en una muestra finita. Para ello utilizamos la distribución binomial.\n",
    "\n",
    " La distribución binomial da la probabilidad de observar **`m`** ocurrencias de **`x = 1`** en un conjunto de N muestras que surgen de una distribución Bernoulli, donde la probabilidad de ocurrencia de **`x = 1`** es **`ε [0, 1]`**.\n",
    " \n",
    "Solicitemos los primeros momentos de la distribución binomial para la muestra de 194 países, con la probabilidad de **`0.654`** de ser democráticos. Mediante la función **`binom`** podemos generar un objeto que tendrá el método **`stats`** que devuelve la cantidad de países que deberían ser **democracias** (**`mu`**) y la **varianza** (**`sigma`**)"
   ]
  },
  {
   "cell_type": "code",
   "execution_count": 70,
   "metadata": {},
   "outputs": [
    {
     "name": "stdout",
     "output_type": "stream",
     "text": [
      "Con 194 países y una probabilidad de 0.654, esperamos que 126.876 países tengan regímenes democráticos.\n"
     ]
    }
   ],
   "source": [
    "prob_dem = stats.binom(len(df), 0.654)\n",
    "mu, sigma = prob_dem.stats()\n",
    "print(\"Con\", len(df), \"países y una probabilidad de 0.654, esperamos que\", mu, \"países tengan regímenes democráticos.\" )"
   ]
  },
  {
   "cell_type": "markdown",
   "metadata": {},
   "source": [
    "##### **Ejemplo**"
   ]
  },
  {
   "cell_type": "markdown",
   "metadata": {},
   "source": [
    "La distribución Binomial depende de dos parámetros, el tamaño muestral y la proporción estimada. Para entender mejor cómo la proporción estimada afecta a la distribución, consideremos el siguiente ejemplo.\n",
    "\n",
    "Vamos a graficar las distribuciones empíricas de cuatro niveles de probabilidad (0.3, 0.6, 0.9, 0.95), manteniendo constante el tamaño muestral."
   ]
  },
  {
   "cell_type": "code",
   "execution_count": 74,
   "metadata": {},
   "outputs": [
    {
     "name": "stdout",
     "output_type": "stream",
     "text": [
      "0 0.3\n",
      "1 0.6\n",
      "2 0.9\n",
      "3 0.95\n"
     ]
    }
   ],
   "source": [
    "for i, prob in enumerate([0.3, 0.6, 0.9, 0.95]): \n",
    "    print(i, prob)"
   ]
  },
  {
   "cell_type": "code",
   "execution_count": 75,
   "metadata": {},
   "outputs": [
    {
     "data": {
      "text/plain": [
       "array([  0,   1,   2,   3,   4,   5,   6,   7,   8,   9,  10,  11,  12,\n",
       "        13,  14,  15,  16,  17,  18,  19,  20,  21,  22,  23,  24,  25,\n",
       "        26,  27,  28,  29,  30,  31,  32,  33,  34,  35,  36,  37,  38,\n",
       "        39,  40,  41,  42,  43,  44,  45,  46,  47,  48,  49,  50,  51,\n",
       "        52,  53,  54,  55,  56,  57,  58,  59,  60,  61,  62,  63,  64,\n",
       "        65,  66,  67,  68,  69,  70,  71,  72,  73,  74,  75,  76,  77,\n",
       "        78,  79,  80,  81,  82,  83,  84,  85,  86,  87,  88,  89,  90,\n",
       "        91,  92,  93,  94,  95,  96,  97,  98,  99, 100, 101, 102, 103,\n",
       "       104, 105, 106, 107, 108, 109, 110, 111, 112, 113, 114, 115, 116,\n",
       "       117, 118, 119, 120, 121, 122, 123, 124, 125, 126, 127, 128, 129,\n",
       "       130, 131, 132, 133, 134, 135, 136, 137, 138, 139, 140, 141, 142,\n",
       "       143, 144, 145, 146, 147, 148, 149, 150, 151, 152, 153, 154, 155,\n",
       "       156, 157, 158, 159, 160, 161, 162, 163, 164, 165, 166, 167, 168,\n",
       "       169, 170, 171, 172, 173, 174])"
      ]
     },
     "execution_count": 75,
     "metadata": {},
     "output_type": "execute_result"
    }
   ],
   "source": [
    "x_axis = np.arange(175)\n",
    "x_axis"
   ]
  },
  {
   "cell_type": "code",
   "execution_count": 79,
   "metadata": {},
   "outputs": [
    {
     "data": {
      "image/png": "[encoded data removed]",
      "text/plain": [
       "<Figure size 720x432 with 1 Axes>"
      ]
     },
     "metadata": {},
     "output_type": "display_data"
    }
   ],
   "source": [
    "# generamos una lista con cuatro colores\n",
    "colors = [\"tomato\", \"darkgoldenrod\", \"limegreen\", \"dodgerblue\"]\n",
    "\n",
    "# iniciamos un loop para índices y valores\n",
    "for i, prob in enumerate([0.3, 0.6, 0.9, 0.95]): \n",
    "    # generamos un arreglo con numpy de 175 \n",
    "    x_axis= np.arange(175)\n",
    "    # para cada valor de nuestro array graficamos la probabilidad \n",
    "    plt.vlines(x_axis, 0, stats.binom(150, prob).pmf(x_axis), colors=colors[i], label=\"n=150, p={}\".format(prob))\n",
    "    \n",
    "plt.legend(loc=2, fontsize = 15)\n",
    "plt.title(\"Densidad de la distribución Binomial en distintos p\", size = 20)\n",
    "plt.xlabel('Cantidad de casos donde p está presente', size = 15) \n",
    "plt.ylabel('Densidad', size = 15);"
   ]
  },
  {
   "cell_type": "markdown",
   "metadata": {},
   "source": [
    "##### **¿Qué pasa cuando mantenemos nuestra probabilidad fija condicionada al tamaño muestral?**"
   ]
  },
  {
   "cell_type": "markdown",
   "metadata": {},
   "source": [
    "Grafiquemos el caso donde mantenemos nuestra probabilidad en **`0.65`**, y vamos aumentando nuestra muestra de **`50`** hasta **`200`**. Mientras que en valores muestrales pequeños la curva de densidad se muestra con una menor varianza, la curva se aproxima a la campana gaussiana en la medida que aumentamos su tamaño."
   ]
  },
  {
   "cell_type": "code",
   "execution_count": 82,
   "metadata": {},
   "outputs": [
    {
     "data": {
      "image/png": "[encoded data removed]",
      "text/plain": [
       "<Figure size 720x432 with 1 Axes>"
      ]
     },
     "metadata": {},
     "output_type": "display_data"
    }
   ],
   "source": [
    "# generamos una lista de colores\n",
    "colors = [\"tomato\", \"darkgoldenrod\", \"limegreen\", \"dodgerblue\"]\n",
    "\n",
    "# iniciamos un loop para índices y valores\n",
    "for i, n_size in enumerate([50, 100, 150, 200]): \n",
    "    # generamos un arreglo con numpy de 200 \n",
    "    x_axis= np.arange(200)\n",
    "    # para cada valor de nuestro array graficamos la probabilidad condicional al tamaño\n",
    "    plt.vlines(x_axis, 0, stats.binom(n_size, 0.65).pmf(x_axis), colors=colors[i], label=r'n:{0}, p=0.65'.format(n_size)) \n",
    "\n",
    "plt.legend()\n",
    "plt.title(\"Densidad de la distribución Binomial en distintos n\") \n",
    "plt.xlabel(\"Cantidad de casos donde p está presente\") \n",
    "plt.ylabel('Densidad');"
   ]
  },
  {
   "cell_type": "markdown",
   "metadata": {},
   "source": [
    "#### **`Gráficos de torta: ¿Por qué evitarlos?`**"
   ]
  },
  {
   "cell_type": "markdown",
   "metadata": {},
   "source": [
    "Para las variables que miden atributos discretos, se prefieren los gráficos de barra por sobre los gráficos de torta.\n",
    "\n",
    "Los gráficos de barra permiten generar comparaciones entre grupos de forma mucho más clara, al contrastar cantidades en el eje Y. A diferencia de los gráficos de torta, donde las cantidades son proporcionales a un área de la torta que se distribuye.\n",
    "\n",
    "Ocupan mucho espacio y visualizan mucho ruido en la forma de presentar resultados. En la medida que se incluyen más categorías a contrastar en los gráficos de torta, es más difícil diferenciar entre ángulos de la torta.\n",
    "\n",
    "> \"Una tabla casi siempre es mejor que un tonto gráfico de torta; la única cosa peor que un gráfico de torta son varios gráficos de torta, que para el público presente le resulta imposible comparar cantidades posicionadas en espacios anómalos. Dado su baja densidad dimensional y fracaso en ordenar números a lo largo de una dimensión visual, los gráficos de torta no deben ser utilizados\"    **Edward Tufte**"
   ]
  },
  {
   "cell_type": "markdown",
   "metadata": {},
   "source": [
    "Para clarificar este punto, comparemos la cantidad de observaciones dentro de cada región:\n",
    "\n",
    "Con **`plt.subplot(1, 2, 1)`** instruimos a python a considerar un espacio con una fila y dos columnas para poner cada gráfico. El último número asigna el espacio específico dentro del layout detallado."
   ]
  },
  {
   "cell_type": "code",
   "execution_count": 84,
   "metadata": {},
   "outputs": [
    {
     "data": {
      "text/plain": [
       "Democracia    0.65\n",
       "Dictadura     0.35\n",
       "Name: democracies, dtype: float64"
      ]
     },
     "execution_count": 84,
     "metadata": {},
     "output_type": "execute_result"
    }
   ],
   "source": [
    "df['democracies'] = np.where(df['gol_inst'] <= 2, 'Democracia', 'Dictadura')\n",
    "# pidamos los porcentajes de democracias\n",
    "democount = df['democracies'].value_counts('%').round(2) \n",
    "democount"
   ]
  },
  {
   "cell_type": "code",
   "execution_count": 89,
   "metadata": {},
   "outputs": [
    {
     "data": {
      "text/plain": [
       "(array([0, 1, 2, 3, 4, 5, 6, 7, 8, 9]),\n",
       " [Text(0, 0, 'SubSaharian'),\n",
       "  Text(1, 0, 'EastEurope'),\n",
       "  Text(2, 0, 'WesternDem'),\n",
       "  Text(3, 0, 'NorthAfrica'),\n",
       "  Text(4, 0, 'LatAm'),\n",
       "  Text(5, 0, 'Caribbean'),\n",
       "  Text(6, 0, 'Pacific'),\n",
       "  Text(7, 0, 'SouthEastAsia'),\n",
       "  Text(8, 0, 'SouthAsia'),\n",
       "  Text(9, 0, 'EastAsia')])"
      ]
     },
     "execution_count": 89,
     "metadata": {},
     "output_type": "execute_result"
    },
    {
     "data": {
      "image/png": "[encoded data removed]",
      "text/plain": [
       "<Figure size 720x432 with 2 Axes>"
      ]
     },
     "metadata": {},
     "output_type": "display_data"
    }
   ],
   "source": [
    "plt.subplot(1,2,1) \n",
    "hdi_group.region_recod.value_counts().plot(kind='pie') \n",
    "plt.subplot(1,2,2) \n",
    "hdi_group.region_recod.value_counts().plot(kind='bar') \n",
    "plt.subplots_adjust(wspace=0.5)\n",
    "plt.xticks(rotation = 50)"
   ]
  },
  {
   "cell_type": "markdown",
   "metadata": {},
   "source": [
    "Mientras que el gráfico de torta clarifica cuál es la región con más observaciones, presenta dificultades en desagregar los siguientes grupos.\n",
    "\n",
    "A diferencia, un gráfico de barras permite discriminar de forma efectiva el peso de cada grupo. Cuando optemos por graficar la frecuencia de cada atributo discreto, siempre hay que preferir gráficos de barra."
   ]
  },
  {
   "cell_type": "markdown",
   "metadata": {},
   "source": [
    "#### **`Aspectos asintóticos de las distribuciones`**"
   ]
  },
  {
   "cell_type": "markdown",
   "metadata": {},
   "source": [
    "Posteriormente trabajaremos con inferencias para sustentar nuestro trabajo cuando tenemos información limitada al respecto. Para facilitar el proceso inferencial en nuestro trabajo, nos valemos de leyes que generalizan el comportamiento de nuestros datos.\n",
    "\n",
    "Las variables aleatorias nos permiten vincular nuestros datos a leyes empíricas que permiten formalizar el procedimiento analítico en nuestro flujo de trabajo.\n",
    "\n",
    "Tenemos dos leyes que nos facilitarán la manera en que trabajamos y realizamos la inferencia:\n",
    "\n",
    "-\t**`Ley de los Grandes Números`**\n",
    "-\t**`Teorema del Límite Central`**\n",
    "\n",
    "\n",
    "El comportamiento del último gráfico sugiere que las distribuciones se ven alteradas por el tamaño muestral. Dentro de la estadística esto se conoce como un comportamiento asintótico de la distribución. Estos hacen referencia al comportamiento de las distribuciones probabilísticas en la medida que el tamaño muestral aumenta de forma indefinida."
   ]
  },
  {
   "cell_type": "markdown",
   "metadata": {},
   "source": [
    "#### **`Ley de los grandes números`**"
   ]
  },
  {
   "cell_type": "markdown",
   "metadata": {},
   "source": [
    "Cuando realizamos una secuencia de ensayos independientes bajo condiciones similares, la frecuencia de un resultado específico tenderá a ser estable.\n",
    "\n",
    "La ley de los grandes números establece que en una sucesión infinita de variables aleatorias i.i.d (independientes e idénticamente distribuidas) con expectativa y varianza σ2, el promedio de la sucesión:\n",
    " \n",
    "<center><img src=\"https://i.postimg.cc/XvXPv9fp/dl16.png\"></center>\n",
    "\n",
    "convergerá en probabilidad a.\n",
    "\n",
    "La ley de los grandes números afecta a la convergencia de la muestra respecto a la media poblacional. Cuando las estimaciones tienen a acercarse a la verdad, los errores estándares tienden a disminuir.\n",
    "\n",
    "Esto se ilustra de mejor manera en el gráfico gfx.law_large_numbers(). En este generamos una simulación de seis ensayos independientes siguiendo una distribución Poisson. En el ejemplo sabemos de antemano que el valor verdadero de la cual surgen los ensayos es de 10, señalado con la línea gruesa 𝚯.\n",
    "\n",
    "Tomemos como punto de partida cuando el tamaño muestral es pequeño. Existen ensayos que sobreestiman el valor verdadero, y otras donde el valor es subestimado.\n",
    "\n",
    "En la medida que aumentamos el tamaño muestral de cada ensayo, la media muestra estimada tiende a acercarse a 𝚯\n"
   ]
  },
  {
   "cell_type": "code",
   "execution_count": 8,
   "metadata": {},
   "outputs": [
    {
     "data": {
      "text/plain": [
       "<matplotlib.legend.Legend at 0x1dbd55e9640>"
      ]
     },
     "execution_count": 8,
     "metadata": {},
     "output_type": "execute_result"
    },
    {
     "data": {
      "image/png": "[encoded data removed]",
      "text/plain": [
       "<Figure size 720x432 with 1 Axes>"
      ]
     },
     "metadata": {},
     "output_type": "display_data"
    }
   ],
   "source": [
    "colors = ['tomato','darkgoldenrod','limegreen','dodgerblue','sienna','slategray']\n",
    "def law_large_numbers(function = np.random.poisson, sample_size=2000, Theta=10):\n",
    "    np.random.seed(2)\n",
    "    for i in range(len(colors)):\n",
    "        sample = function(Theta, size=sample_size)\n",
    "        x_span = range(1, sample_size, 100)\n",
    "        sample_average = [sample[:j].mean() for j in x_span]\n",
    "        plt.plot(x_span, sample_average, lw=1.5, label=r'$\\hat\\theta$ en Ensayo {}'.format(i+1), \n",
    "                 color=colors[i], linestyle='--')\n",
    "\n",
    "    plt.title('Medias muestrales y tamaño muestral')        \n",
    "    plt.ylabel('Media muestral')\n",
    "    plt.xlabel('Tamaño muestral')\n",
    "    plt.axhline(Theta, lw=3)\n",
    "    plt.annotate(r'$\\Theta$', xy = (sample_size - 100, Theta + 0.2), fontsize=20, color='#1c6cab')\n",
    "    plt.legend()\n",
    "\n",
    "law_large_numbers()\n",
    "plt.legend(loc='best', ncol=2)"
   ]
  },
  {
   "cell_type": "markdown",
   "metadata": {},
   "source": [
    "##### **Digresión: Teorema Glivenko-Cantelli**"
   ]
  },
  {
   "cell_type": "markdown",
   "metadata": {},
   "source": [
    "Una explicación alternativa a la convergencia en la medida que el tamaño muestral aumenta, se obtiene al medir la función empírica distributiva acumulada:\n",
    "\n",
    "<center><img src=\"https://i.postimg.cc/zXnz8H5C/dl17.png\"></center>\n",
    "\n",
    "Donde buscamos caracterizar la distribución empírica de x mediante ≤ a , que es la fracción de muestras.\n",
    "\n",
    "El teorema Glivenko-Cantelli establece que:\n",
    "\n",
    "<center><img src=\"https://i.postimg.cc/CxSF1MLW/dl18.png\"></center>\n",
    "\n",
    "La función empírica distributiva acumulada converge a la función distributiva acumulada verdadera en x , el espacio máximo entre las dos tiende a cero en la medida que el número de muestras incrementa.\n",
    "\n",
    "Este punto da pie a que podemos saber sobre las distribuciones subyacentes mediante la recolección de suficientes datos.\n"
   ]
  },
  {
   "cell_type": "markdown",
   "metadata": {},
   "source": [
    "#### **`Teorema del Limite Central`**"
   ]
  },
  {
   "cell_type": "code",
   "execution_count": 90,
   "metadata": {},
   "outputs": [
    {
     "data": {
      "image/png": "[encoded data removed]",
      "text/plain": [
       "<Figure size 720x432 with 6 Axes>"
      ]
     },
     "metadata": {},
     "output_type": "display_data"
    }
   ],
   "source": [
    "gfx.central_limit_theorem()"
   ]
  }
 ],
 "metadata": {
  "kernelspec": {
   "display_name": "base",
   "language": "python",
   "name": "python3"
  },
  "language_info": {
   "codemirror_mode": {
    "name": "ipython",
    "version": 3
   },
   "file_extension": ".py",
   "mimetype": "text/x-python",
   "name": "python",
   "nbconvert_exporter": "python",
   "pygments_lexer": "ipython3",
   "version": "3.9.5"
  }
 },
 "nbformat": 4,
 "nbformat_minor": 2
}
