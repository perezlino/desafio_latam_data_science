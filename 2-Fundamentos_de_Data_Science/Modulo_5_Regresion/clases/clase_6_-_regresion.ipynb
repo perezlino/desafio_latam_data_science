{
 "cells": [
  {
   "cell_type": "markdown",
   "metadata": {},
   "source": [
    "### **Clase 6 - Regresión**"
   ]
  },
  {
   "cell_type": "markdown",
   "metadata": {},
   "source": [
    "### **`Importar librerias y carga de archivo`**"
   ]
  },
  {
   "cell_type": "markdown",
   "metadata": {},
   "source": [
    "De forma adicional a pandas, numpy y matplotlib, agregaremos la librería `statsmodels`. Ésta es una librería orientada a la modelación econométrica siguiendo una sintaxis similar a R."
   ]
  },
  {
   "cell_type": "code",
   "execution_count": 47,
   "metadata": {},
   "outputs": [],
   "source": [
    "import pandas as pd\n",
    "import numpy as np\n",
    "import scipy.stats as stats\n",
    "\n",
    "import seaborn as sns\n",
    "import matplotlib.pyplot as plt\n",
    "\n",
    "import statsmodels.api as sm\n",
    "import statsmodels.formula.api as smf\n",
    "\n",
    "import warnings\n",
    "warnings.filterwarnings(\"ignore\")\n",
    "\n",
    "import lec5_graphs as gfx\n",
    "from calidad_datos import calidad_datos\n",
    "\n",
    "plt.style.use(\"seaborn-whitegrid\") # Graficos estilo seaborn\n",
    "plt.rcParams[\"figure.figsize\"] = (6,4) # Tamaño gráficos\n",
    "plt.rcParams[\"figure.dpi\"] = 100 # Resolución gráficos"
   ]
  },
  {
   "cell_type": "code",
   "execution_count": 48,
   "metadata": {},
   "outputs": [
    {
     "data": {
      "text/plain": [
       "['Aprendiendow.ipynb',\n",
       " 'calidad_datos.py',\n",
       " 'Clase 6 - Regresión.pdf',\n",
       " 'clase_6_-_regresion.ipynb',\n",
       " 'earnings.csv',\n",
       " 'lec5_graphs.py',\n",
       " 'nations.csv',\n",
       " 'UNAB - Pronosticos.pdf',\n",
       " 'UNAB - Regresión Lineal.pdf',\n",
       " '__pycache__']"
      ]
     },
     "execution_count": 48,
     "metadata": {},
     "output_type": "execute_result"
    }
   ],
   "source": [
    "import os\n",
    "os.listdir()"
   ]
  },
  {
   "cell_type": "code",
   "execution_count": 49,
   "metadata": {},
   "outputs": [
    {
     "data": {
      "text/plain": [
       "(1374, 13)"
      ]
     },
     "execution_count": 49,
     "metadata": {},
     "output_type": "execute_result"
    }
   ],
   "source": [
    "df = pd.read_csv('earnings.csv', index_col=0)\n",
    "df.shape"
   ]
  },
  {
   "cell_type": "code",
   "execution_count": 50,
   "metadata": {},
   "outputs": [
    {
     "data": {
      "text/html": [
       "<div>\n",
       "<style scoped>\n",
       "    .dataframe tbody tr th:only-of-type {\n",
       "        vertical-align: middle;\n",
       "    }\n",
       "\n",
       "    .dataframe tbody tr th {\n",
       "        vertical-align: top;\n",
       "    }\n",
       "\n",
       "    .dataframe thead th {\n",
       "        text-align: right;\n",
       "    }\n",
       "</style>\n",
       "<table border=\"1\" class=\"dataframe\">\n",
       "  <thead>\n",
       "    <tr style=\"text-align: right;\">\n",
       "      <th></th>\n",
       "      <th>earn</th>\n",
       "      <th>height1</th>\n",
       "      <th>height2</th>\n",
       "      <th>sex</th>\n",
       "      <th>race</th>\n",
       "      <th>hisp</th>\n",
       "      <th>ed</th>\n",
       "      <th>yearbn</th>\n",
       "      <th>height</th>\n",
       "      <th>age</th>\n",
       "      <th>age_category</th>\n",
       "      <th>eth</th>\n",
       "      <th>male</th>\n",
       "    </tr>\n",
       "  </thead>\n",
       "  <tbody>\n",
       "    <tr>\n",
       "      <th>3</th>\n",
       "      <td>50000.0</td>\n",
       "      <td>6</td>\n",
       "      <td>2</td>\n",
       "      <td>1</td>\n",
       "      <td>1</td>\n",
       "      <td>2</td>\n",
       "      <td>16</td>\n",
       "      <td>45</td>\n",
       "      <td>74</td>\n",
       "      <td>45</td>\n",
       "      <td>2</td>\n",
       "      <td>3</td>\n",
       "      <td>1</td>\n",
       "    </tr>\n",
       "    <tr>\n",
       "      <th>4</th>\n",
       "      <td>60000.0</td>\n",
       "      <td>5</td>\n",
       "      <td>6</td>\n",
       "      <td>2</td>\n",
       "      <td>1</td>\n",
       "      <td>2</td>\n",
       "      <td>16</td>\n",
       "      <td>32</td>\n",
       "      <td>66</td>\n",
       "      <td>58</td>\n",
       "      <td>3</td>\n",
       "      <td>3</td>\n",
       "      <td>0</td>\n",
       "    </tr>\n",
       "    <tr>\n",
       "      <th>5</th>\n",
       "      <td>30000.0</td>\n",
       "      <td>5</td>\n",
       "      <td>4</td>\n",
       "      <td>2</td>\n",
       "      <td>1</td>\n",
       "      <td>2</td>\n",
       "      <td>16</td>\n",
       "      <td>61</td>\n",
       "      <td>64</td>\n",
       "      <td>29</td>\n",
       "      <td>1</td>\n",
       "      <td>3</td>\n",
       "      <td>0</td>\n",
       "    </tr>\n",
       "    <tr>\n",
       "      <th>9</th>\n",
       "      <td>51000.0</td>\n",
       "      <td>5</td>\n",
       "      <td>3</td>\n",
       "      <td>2</td>\n",
       "      <td>1</td>\n",
       "      <td>2</td>\n",
       "      <td>17</td>\n",
       "      <td>51</td>\n",
       "      <td>63</td>\n",
       "      <td>39</td>\n",
       "      <td>2</td>\n",
       "      <td>3</td>\n",
       "      <td>0</td>\n",
       "    </tr>\n",
       "    <tr>\n",
       "      <th>10</th>\n",
       "      <td>9000.0</td>\n",
       "      <td>5</td>\n",
       "      <td>4</td>\n",
       "      <td>2</td>\n",
       "      <td>1</td>\n",
       "      <td>2</td>\n",
       "      <td>15</td>\n",
       "      <td>64</td>\n",
       "      <td>64</td>\n",
       "      <td>26</td>\n",
       "      <td>1</td>\n",
       "      <td>3</td>\n",
       "      <td>0</td>\n",
       "    </tr>\n",
       "  </tbody>\n",
       "</table>\n",
       "</div>"
      ],
      "text/plain": [
       "       earn  height1  height2  sex  race  hisp  ed  yearbn  height  age  \\\n",
       "3   50000.0        6        2    1     1     2  16      45      74   45   \n",
       "4   60000.0        5        6    2     1     2  16      32      66   58   \n",
       "5   30000.0        5        4    2     1     2  16      61      64   29   \n",
       "9   51000.0        5        3    2     1     2  17      51      63   39   \n",
       "10   9000.0        5        4    2     1     2  15      64      64   26   \n",
       "\n",
       "    age_category  eth  male  \n",
       "3              2    3     1  \n",
       "4              3    3     0  \n",
       "5              1    3     0  \n",
       "9              2    3     0  \n",
       "10             1    3     0  "
      ]
     },
     "execution_count": 50,
     "metadata": {},
     "output_type": "execute_result"
    }
   ],
   "source": [
    "df.head()"
   ]
  },
  {
   "cell_type": "markdown",
   "metadata": {},
   "source": [
    "### **`Codificación de Variables Categóricas`**"
   ]
  },
  {
   "cell_type": "markdown",
   "metadata": {},
   "source": [
    "#### **1 - Introducción**"
   ]
  },
  {
   "cell_type": "markdown",
   "metadata": {},
   "source": [
    "`El problema es el siguiente`: Un modelo de regresión lineal (y en su defecto, todos aquellos modelos que vayamos a estudiar en la carrera) es un modelo estadístico, eso quiere decir que la forma en la que toma sus decisiones tienen origen en los fundamentos matemáticos usados para definir el modelo, esto implica que el modelo requiere de representaciones numéricas de la información para poder aprender del fenómeno, en el caso de las variables intrínsecamente numéricas esto no es problema porque ya existen el conjunto de los reales/naturales, sin embargo, ¿qué ocurre con las variables categóricas?, estas variables existen en un dominio discreto que no necesariamente es un subconjunto de los reales, las etiquetas de texto como el continente al que pertenece un país no tiene una traducción natural a un número en algún espacio predefinido, para solucionar esto tendremos que codificar aquellas variables categóricas a una representación numérica. Aunque no lo parezca en desafíos pasados hemos realizado algunas de las codificaciones que ahora veremos más formalmente, por lo que algunas nos debieran parecer familiares.\n",
    "\n",
    "Para ejemplificar estas transformaciones consideraremos el mismo ejemplo en todos los casos, recordando el dataset nations:"
   ]
  },
  {
   "cell_type": "code",
   "execution_count": 13,
   "metadata": {},
   "outputs": [
    {
     "data": {
      "text/plain": [
       "(194, 13)"
      ]
     },
     "execution_count": 13,
     "metadata": {},
     "output_type": "execute_result"
    }
   ],
   "source": [
    "df_ejem = pd.read_csv('nations.csv', encoding= 'iso-8859-1', index_col=0)\n",
    "df_ejem.shape"
   ]
  },
  {
   "cell_type": "code",
   "execution_count": 14,
   "metadata": {},
   "outputs": [
    {
     "data": {
      "text/html": [
       "<div>\n",
       "<style scoped>\n",
       "    .dataframe tbody tr th:only-of-type {\n",
       "        vertical-align: middle;\n",
       "    }\n",
       "\n",
       "    .dataframe tbody tr th {\n",
       "        vertical-align: top;\n",
       "    }\n",
       "\n",
       "    .dataframe thead th {\n",
       "        text-align: right;\n",
       "    }\n",
       "</style>\n",
       "<table border=\"1\" class=\"dataframe\">\n",
       "  <thead>\n",
       "    <tr style=\"text-align: right;\">\n",
       "      <th></th>\n",
       "      <th>country</th>\n",
       "      <th>region</th>\n",
       "      <th>gdp</th>\n",
       "      <th>school</th>\n",
       "      <th>adfert</th>\n",
       "      <th>chldmort</th>\n",
       "      <th>life</th>\n",
       "      <th>pop</th>\n",
       "      <th>urban</th>\n",
       "      <th>femlab</th>\n",
       "      <th>literacy</th>\n",
       "      <th>co2</th>\n",
       "      <th>gini</th>\n",
       "    </tr>\n",
       "  </thead>\n",
       "  <tbody>\n",
       "    <tr>\n",
       "      <th>1</th>\n",
       "      <td>Algeria</td>\n",
       "      <td>Africa</td>\n",
       "      <td>7300.399902</td>\n",
       "      <td>6.716667</td>\n",
       "      <td>7.300000</td>\n",
       "      <td>34.75</td>\n",
       "      <td>72.316666</td>\n",
       "      <td>34172236</td>\n",
       "      <td>64.933334</td>\n",
       "      <td>0.4522</td>\n",
       "      <td>72.599998</td>\n",
       "      <td>15.0</td>\n",
       "      <td>NaN</td>\n",
       "    </tr>\n",
       "    <tr>\n",
       "      <th>2</th>\n",
       "      <td>Benin</td>\n",
       "      <td>Africa</td>\n",
       "      <td>1338.800049</td>\n",
       "      <td>3.100000</td>\n",
       "      <td>111.699997</td>\n",
       "      <td>122.75</td>\n",
       "      <td>54.733334</td>\n",
       "      <td>8237634</td>\n",
       "      <td>41.000000</td>\n",
       "      <td>0.8482</td>\n",
       "      <td>41.700001</td>\n",
       "      <td>1.2</td>\n",
       "      <td>NaN</td>\n",
       "    </tr>\n",
       "    <tr>\n",
       "      <th>3</th>\n",
       "      <td>Botswana</td>\n",
       "      <td>Africa</td>\n",
       "      <td>12307.400391</td>\n",
       "      <td>8.600000</td>\n",
       "      <td>52.099998</td>\n",
       "      <td>60.25</td>\n",
       "      <td>52.250000</td>\n",
       "      <td>1941233</td>\n",
       "      <td>59.250000</td>\n",
       "      <td>0.8870</td>\n",
       "      <td>84.099998</td>\n",
       "      <td>9.2</td>\n",
       "      <td>NaN</td>\n",
       "    </tr>\n",
       "    <tr>\n",
       "      <th>4</th>\n",
       "      <td>Burkina Faso</td>\n",
       "      <td>Africa</td>\n",
       "      <td>1063.400024</td>\n",
       "      <td>1.300000</td>\n",
       "      <td>124.800003</td>\n",
       "      <td>170.50</td>\n",
       "      <td>53.783333</td>\n",
       "      <td>15308383</td>\n",
       "      <td>23.583334</td>\n",
       "      <td>0.8584</td>\n",
       "      <td>23.600000</td>\n",
       "      <td>0.2</td>\n",
       "      <td>NaN</td>\n",
       "    </tr>\n",
       "    <tr>\n",
       "      <th>5</th>\n",
       "      <td>Burundi</td>\n",
       "      <td>Africa</td>\n",
       "      <td>349.200012</td>\n",
       "      <td>2.483333</td>\n",
       "      <td>18.600000</td>\n",
       "      <td>168.50</td>\n",
       "      <td>48.866665</td>\n",
       "      <td>7821783</td>\n",
       "      <td>10.250000</td>\n",
       "      <td>1.0344</td>\n",
       "      <td>66.599998</td>\n",
       "      <td>0.1</td>\n",
       "      <td>33.299999</td>\n",
       "    </tr>\n",
       "  </tbody>\n",
       "</table>\n",
       "</div>"
      ],
      "text/plain": [
       "        country  region           gdp    school      adfert  chldmort  \\\n",
       "1       Algeria  Africa   7300.399902  6.716667    7.300000     34.75   \n",
       "2         Benin  Africa   1338.800049  3.100000  111.699997    122.75   \n",
       "3      Botswana  Africa  12307.400391  8.600000   52.099998     60.25   \n",
       "4  Burkina Faso  Africa   1063.400024  1.300000  124.800003    170.50   \n",
       "5       Burundi  Africa    349.200012  2.483333   18.600000    168.50   \n",
       "\n",
       "        life       pop      urban  femlab   literacy   co2       gini  \n",
       "1  72.316666  34172236  64.933334  0.4522  72.599998  15.0        NaN  \n",
       "2  54.733334   8237634  41.000000  0.8482  41.700001   1.2        NaN  \n",
       "3  52.250000   1941233  59.250000  0.8870  84.099998   9.2        NaN  \n",
       "4  53.783333  15308383  23.583334  0.8584  23.600000   0.2        NaN  \n",
       "5  48.866665   7821783  10.250000  1.0344  66.599998   0.1  33.299999  "
      ]
     },
     "execution_count": 14,
     "metadata": {},
     "output_type": "execute_result"
    }
   ],
   "source": [
    "df_ejem.head()"
   ]
  },
  {
   "cell_type": "markdown",
   "metadata": {},
   "source": [
    "Propongamonos el ejercicio de transformar la variable/columna región (continentes) a una representación numérica:"
   ]
  },
  {
   "cell_type": "markdown",
   "metadata": {},
   "source": [
    "#### **2 - One-Hot Encoding (OHE)**"
   ]
  },
  {
   "cell_type": "markdown",
   "metadata": {},
   "source": [
    "Sea una variable categórica con `K` clases distintas, OHE indica que debemos generar `K` columnas nuevas donde cada columna nueva representará, para cada fila, la ocurrencia de una determinada clase. En el ejemplo de la columna `region` de nations, la representación OHE puede ser obtenida fácilmente utilizando la función `pd.get_dummies()` de pandas:"
   ]
  },
  {
   "cell_type": "code",
   "execution_count": 15,
   "metadata": {},
   "outputs": [
    {
     "data": {
      "text/html": [
       "<div>\n",
       "<style scoped>\n",
       "    .dataframe tbody tr th:only-of-type {\n",
       "        vertical-align: middle;\n",
       "    }\n",
       "\n",
       "    .dataframe tbody tr th {\n",
       "        vertical-align: top;\n",
       "    }\n",
       "\n",
       "    .dataframe thead th {\n",
       "        text-align: right;\n",
       "    }\n",
       "</style>\n",
       "<table border=\"1\" class=\"dataframe\">\n",
       "  <thead>\n",
       "    <tr style=\"text-align: right;\">\n",
       "      <th></th>\n",
       "      <th>Africa</th>\n",
       "      <th>Americas</th>\n",
       "      <th>Asia</th>\n",
       "      <th>Europe</th>\n",
       "      <th>Oceania</th>\n",
       "    </tr>\n",
       "  </thead>\n",
       "  <tbody>\n",
       "    <tr>\n",
       "      <th>1</th>\n",
       "      <td>1</td>\n",
       "      <td>0</td>\n",
       "      <td>0</td>\n",
       "      <td>0</td>\n",
       "      <td>0</td>\n",
       "    </tr>\n",
       "    <tr>\n",
       "      <th>2</th>\n",
       "      <td>1</td>\n",
       "      <td>0</td>\n",
       "      <td>0</td>\n",
       "      <td>0</td>\n",
       "      <td>0</td>\n",
       "    </tr>\n",
       "    <tr>\n",
       "      <th>3</th>\n",
       "      <td>1</td>\n",
       "      <td>0</td>\n",
       "      <td>0</td>\n",
       "      <td>0</td>\n",
       "      <td>0</td>\n",
       "    </tr>\n",
       "    <tr>\n",
       "      <th>4</th>\n",
       "      <td>1</td>\n",
       "      <td>0</td>\n",
       "      <td>0</td>\n",
       "      <td>0</td>\n",
       "      <td>0</td>\n",
       "    </tr>\n",
       "    <tr>\n",
       "      <th>5</th>\n",
       "      <td>1</td>\n",
       "      <td>0</td>\n",
       "      <td>0</td>\n",
       "      <td>0</td>\n",
       "      <td>0</td>\n",
       "    </tr>\n",
       "    <tr>\n",
       "      <th>...</th>\n",
       "      <td>...</td>\n",
       "      <td>...</td>\n",
       "      <td>...</td>\n",
       "      <td>...</td>\n",
       "      <td>...</td>\n",
       "    </tr>\n",
       "    <tr>\n",
       "      <th>190</th>\n",
       "      <td>0</td>\n",
       "      <td>0</td>\n",
       "      <td>0</td>\n",
       "      <td>0</td>\n",
       "      <td>1</td>\n",
       "    </tr>\n",
       "    <tr>\n",
       "      <th>191</th>\n",
       "      <td>0</td>\n",
       "      <td>0</td>\n",
       "      <td>0</td>\n",
       "      <td>0</td>\n",
       "      <td>1</td>\n",
       "    </tr>\n",
       "    <tr>\n",
       "      <th>192</th>\n",
       "      <td>0</td>\n",
       "      <td>0</td>\n",
       "      <td>0</td>\n",
       "      <td>0</td>\n",
       "      <td>1</td>\n",
       "    </tr>\n",
       "    <tr>\n",
       "      <th>193</th>\n",
       "      <td>0</td>\n",
       "      <td>0</td>\n",
       "      <td>0</td>\n",
       "      <td>0</td>\n",
       "      <td>1</td>\n",
       "    </tr>\n",
       "    <tr>\n",
       "      <th>194</th>\n",
       "      <td>0</td>\n",
       "      <td>0</td>\n",
       "      <td>0</td>\n",
       "      <td>0</td>\n",
       "      <td>1</td>\n",
       "    </tr>\n",
       "  </tbody>\n",
       "</table>\n",
       "<p>194 rows × 5 columns</p>\n",
       "</div>"
      ],
      "text/plain": [
       "     Africa  Americas  Asia  Europe  Oceania\n",
       "1         1         0     0       0        0\n",
       "2         1         0     0       0        0\n",
       "3         1         0     0       0        0\n",
       "4         1         0     0       0        0\n",
       "5         1         0     0       0        0\n",
       "..      ...       ...   ...     ...      ...\n",
       "190       0         0     0       0        1\n",
       "191       0         0     0       0        1\n",
       "192       0         0     0       0        1\n",
       "193       0         0     0       0        1\n",
       "194       0         0     0       0        1\n",
       "\n",
       "[194 rows x 5 columns]"
      ]
     },
     "execution_count": 15,
     "metadata": {},
     "output_type": "execute_result"
    }
   ],
   "source": [
    "pd.get_dummies(df_ejem.region)"
   ]
  },
  {
   "cell_type": "markdown",
   "metadata": {},
   "source": [
    "De forma un poco más técnica, lo que `OHE` realiza es generar vectores perpendiculares entre sí y con norma unitaria, estos viven en un espacio de dimensionalidad `K`."
   ]
  },
  {
   "cell_type": "markdown",
   "metadata": {},
   "source": [
    "#### **3 - Binary Encoding**"
   ]
  },
  {
   "cell_type": "markdown",
   "metadata": {},
   "source": [
    "Binary Encoding es bastante similar a OHE, con la única diferencia que Binary Encoding codifica una variable categórica con `K` clases en `K-1` columnas, en pandas esto se puede hacer también con la función `pd.get_dummies()` con el argumento `drop_first = True`:"
   ]
  },
  {
   "cell_type": "code",
   "execution_count": 16,
   "metadata": {},
   "outputs": [
    {
     "data": {
      "text/html": [
       "<div>\n",
       "<style scoped>\n",
       "    .dataframe tbody tr th:only-of-type {\n",
       "        vertical-align: middle;\n",
       "    }\n",
       "\n",
       "    .dataframe tbody tr th {\n",
       "        vertical-align: top;\n",
       "    }\n",
       "\n",
       "    .dataframe thead th {\n",
       "        text-align: right;\n",
       "    }\n",
       "</style>\n",
       "<table border=\"1\" class=\"dataframe\">\n",
       "  <thead>\n",
       "    <tr style=\"text-align: right;\">\n",
       "      <th></th>\n",
       "      <th>Americas</th>\n",
       "      <th>Asia</th>\n",
       "      <th>Europe</th>\n",
       "      <th>Oceania</th>\n",
       "    </tr>\n",
       "  </thead>\n",
       "  <tbody>\n",
       "    <tr>\n",
       "      <th>1</th>\n",
       "      <td>0</td>\n",
       "      <td>0</td>\n",
       "      <td>0</td>\n",
       "      <td>0</td>\n",
       "    </tr>\n",
       "    <tr>\n",
       "      <th>2</th>\n",
       "      <td>0</td>\n",
       "      <td>0</td>\n",
       "      <td>0</td>\n",
       "      <td>0</td>\n",
       "    </tr>\n",
       "    <tr>\n",
       "      <th>3</th>\n",
       "      <td>0</td>\n",
       "      <td>0</td>\n",
       "      <td>0</td>\n",
       "      <td>0</td>\n",
       "    </tr>\n",
       "    <tr>\n",
       "      <th>4</th>\n",
       "      <td>0</td>\n",
       "      <td>0</td>\n",
       "      <td>0</td>\n",
       "      <td>0</td>\n",
       "    </tr>\n",
       "    <tr>\n",
       "      <th>5</th>\n",
       "      <td>0</td>\n",
       "      <td>0</td>\n",
       "      <td>0</td>\n",
       "      <td>0</td>\n",
       "    </tr>\n",
       "    <tr>\n",
       "      <th>...</th>\n",
       "      <td>...</td>\n",
       "      <td>...</td>\n",
       "      <td>...</td>\n",
       "      <td>...</td>\n",
       "    </tr>\n",
       "    <tr>\n",
       "      <th>190</th>\n",
       "      <td>0</td>\n",
       "      <td>0</td>\n",
       "      <td>0</td>\n",
       "      <td>1</td>\n",
       "    </tr>\n",
       "    <tr>\n",
       "      <th>191</th>\n",
       "      <td>0</td>\n",
       "      <td>0</td>\n",
       "      <td>0</td>\n",
       "      <td>1</td>\n",
       "    </tr>\n",
       "    <tr>\n",
       "      <th>192</th>\n",
       "      <td>0</td>\n",
       "      <td>0</td>\n",
       "      <td>0</td>\n",
       "      <td>1</td>\n",
       "    </tr>\n",
       "    <tr>\n",
       "      <th>193</th>\n",
       "      <td>0</td>\n",
       "      <td>0</td>\n",
       "      <td>0</td>\n",
       "      <td>1</td>\n",
       "    </tr>\n",
       "    <tr>\n",
       "      <th>194</th>\n",
       "      <td>0</td>\n",
       "      <td>0</td>\n",
       "      <td>0</td>\n",
       "      <td>1</td>\n",
       "    </tr>\n",
       "  </tbody>\n",
       "</table>\n",
       "<p>194 rows × 4 columns</p>\n",
       "</div>"
      ],
      "text/plain": [
       "     Americas  Asia  Europe  Oceania\n",
       "1           0     0       0        0\n",
       "2           0     0       0        0\n",
       "3           0     0       0        0\n",
       "4           0     0       0        0\n",
       "5           0     0       0        0\n",
       "..        ...   ...     ...      ...\n",
       "190         0     0       0        1\n",
       "191         0     0       0        1\n",
       "192         0     0       0        1\n",
       "193         0     0       0        1\n",
       "194         0     0       0        1\n",
       "\n",
       "[194 rows x 4 columns]"
      ]
     },
     "execution_count": 16,
     "metadata": {},
     "output_type": "execute_result"
    }
   ],
   "source": [
    "pd.get_dummies(df_ejem.region, drop_first=True)"
   ]
  },
  {
   "cell_type": "markdown",
   "metadata": {},
   "source": [
    "Algo que probablemente el lector se esté preguntando es ¿Por qué existe tanto Binary Encoding como OHE si son casi lo mismo y logran representar la misma información?, la razón de esto es que aunque OHE lográ representar las clases de forma bastante explícita, su representación tiene la particularidad de generar columnas colineales entre sí, para hacer más fácil mostrar esto consideremos el caso de codificar una columna de sexo de personas que contiene los valores [Hombre, Mujer], en este caso OHE generaría dos columnas (una para cada clase), quedando las clases representadas por los vectores (1, 0) y (0, 1). Si ponemos atención a los vectores que representan las clases notaremos que es posible predecir el valor que va a tomar el segundo elemento del vector solamente observando el valor que tomó el primer elemento del vector, más específicamente, eso quiere decir que la relación entre las dos columnas creadas es la siguiente:\n",
    "\n",
    "$$ H = 1 - M$$\n",
    "\n",
    "¡Esto es una recta! (de ahí el nombre de colinealidad), H es una combinación lineal de M y eso implica que la matriz de codificaciones entregada por OHE no es fullrank, al no ser fullrank la inversa de la matriz de datos no está definida, el problema que esto genera es que el estimador OLS de una regresión lineal (que presentaremos más adelante) no pueda ser calculado de forma analítica ya que se requiere el cálculo de la inversa de la matriz XT X , la\n",
    "cual al igual que para nuestra matriz de datos X , no tiene inversa definida en el caso no\n",
    "fullrank de X . Binary Encoding elimina esta colinealidad omitiendo la presencia explícita de\n",
    "una clase, la cual, como habrá deducido un lector astuto, queda codificada en el origen del sistema de vectores que se genera, mientras OHE nunca ocupa el origen de este sistema (0, 0, 0, ...) en binary encoding la clase omitida ocupa esta posición y eso se puede ver en el output de mostrado anteriormente donde la clase de Africa queda codificada en el vector (0, 0, 0, 0).\n",
    "\n",
    "`Nota`: Una matriz fullrank es aquella cuyas columnas y/o filas son linealmente independientes."
   ]
  },
  {
   "cell_type": "markdown",
   "metadata": {},
   "source": [
    "#### **4 - Label Encoding**"
   ]
  },
  {
   "cell_type": "markdown",
   "metadata": {},
   "source": [
    "Para una columna categórica con K clases Label Encoding genera una sola columna con las clases codificadas con números naturales, por ejemplo África estaría asignado al número 1, Asia al número 2, Europa al 3. etc. Aunque esto parece ser una mejor forma de codificar las categorías, debemos tener en cuenta que esto también impone un orden en las clases que puede no existir en los datos originales, ¿Por qué un continente debe tener un valor más alto que otro?. Label Encoding debe ser usado para codificar variables categóricas ordinales (como los puestos en los que salen los medallistas olímpicos o los días de la semana/meses del año), no para variables nominales como los continentes, en este último caso preferimos Binary Encoding u OHE.\n",
    "\n",
    "Por ahora no necesitaremos Label Encoding por lo que lo introduciremos en el siguiente módulo cuando veamos la librería scikit-learn donde se implementan todas estas transformaciones.\n",
    "\n",
    "Finalmente, mencionar que una vez que hemos codificado una o más variables categóricas, estas representaciones reemplazan a las variables originales en la matriz que debemos ingresar a nuestro modelo. Por otro lado, para adicionar estas representaciones a un DataFrame en pandas basta utilizar la función `pd.concat`:"
   ]
  },
  {
   "cell_type": "code",
   "execution_count": 19,
   "metadata": {},
   "outputs": [
    {
     "data": {
      "text/html": [
       "<div>\n",
       "<style scoped>\n",
       "    .dataframe tbody tr th:only-of-type {\n",
       "        vertical-align: middle;\n",
       "    }\n",
       "\n",
       "    .dataframe tbody tr th {\n",
       "        vertical-align: top;\n",
       "    }\n",
       "\n",
       "    .dataframe thead th {\n",
       "        text-align: right;\n",
       "    }\n",
       "</style>\n",
       "<table border=\"1\" class=\"dataframe\">\n",
       "  <thead>\n",
       "    <tr style=\"text-align: right;\">\n",
       "      <th></th>\n",
       "      <th>country</th>\n",
       "      <th>region</th>\n",
       "      <th>gdp</th>\n",
       "      <th>school</th>\n",
       "      <th>adfert</th>\n",
       "      <th>chldmort</th>\n",
       "      <th>life</th>\n",
       "      <th>pop</th>\n",
       "      <th>urban</th>\n",
       "      <th>femlab</th>\n",
       "      <th>literacy</th>\n",
       "      <th>co2</th>\n",
       "      <th>gini</th>\n",
       "      <th>Americas</th>\n",
       "      <th>Asia</th>\n",
       "      <th>Europe</th>\n",
       "      <th>Oceania</th>\n",
       "    </tr>\n",
       "  </thead>\n",
       "  <tbody>\n",
       "    <tr>\n",
       "      <th>1</th>\n",
       "      <td>Algeria</td>\n",
       "      <td>Africa</td>\n",
       "      <td>7300.399902</td>\n",
       "      <td>6.716667</td>\n",
       "      <td>7.300000</td>\n",
       "      <td>34.75</td>\n",
       "      <td>72.316666</td>\n",
       "      <td>34172236</td>\n",
       "      <td>64.933334</td>\n",
       "      <td>0.4522</td>\n",
       "      <td>72.599998</td>\n",
       "      <td>15.00</td>\n",
       "      <td>NaN</td>\n",
       "      <td>0</td>\n",
       "      <td>0</td>\n",
       "      <td>0</td>\n",
       "      <td>0</td>\n",
       "    </tr>\n",
       "    <tr>\n",
       "      <th>2</th>\n",
       "      <td>Benin</td>\n",
       "      <td>Africa</td>\n",
       "      <td>1338.800049</td>\n",
       "      <td>3.100000</td>\n",
       "      <td>111.699997</td>\n",
       "      <td>122.75</td>\n",
       "      <td>54.733334</td>\n",
       "      <td>8237634</td>\n",
       "      <td>41.000000</td>\n",
       "      <td>0.8482</td>\n",
       "      <td>41.700001</td>\n",
       "      <td>1.20</td>\n",
       "      <td>NaN</td>\n",
       "      <td>0</td>\n",
       "      <td>0</td>\n",
       "      <td>0</td>\n",
       "      <td>0</td>\n",
       "    </tr>\n",
       "    <tr>\n",
       "      <th>3</th>\n",
       "      <td>Botswana</td>\n",
       "      <td>Africa</td>\n",
       "      <td>12307.400391</td>\n",
       "      <td>8.600000</td>\n",
       "      <td>52.099998</td>\n",
       "      <td>60.25</td>\n",
       "      <td>52.250000</td>\n",
       "      <td>1941233</td>\n",
       "      <td>59.250000</td>\n",
       "      <td>0.8870</td>\n",
       "      <td>84.099998</td>\n",
       "      <td>9.20</td>\n",
       "      <td>NaN</td>\n",
       "      <td>0</td>\n",
       "      <td>0</td>\n",
       "      <td>0</td>\n",
       "      <td>0</td>\n",
       "    </tr>\n",
       "    <tr>\n",
       "      <th>4</th>\n",
       "      <td>Burkina Faso</td>\n",
       "      <td>Africa</td>\n",
       "      <td>1063.400024</td>\n",
       "      <td>1.300000</td>\n",
       "      <td>124.800003</td>\n",
       "      <td>170.50</td>\n",
       "      <td>53.783333</td>\n",
       "      <td>15308383</td>\n",
       "      <td>23.583334</td>\n",
       "      <td>0.8584</td>\n",
       "      <td>23.600000</td>\n",
       "      <td>0.20</td>\n",
       "      <td>NaN</td>\n",
       "      <td>0</td>\n",
       "      <td>0</td>\n",
       "      <td>0</td>\n",
       "      <td>0</td>\n",
       "    </tr>\n",
       "    <tr>\n",
       "      <th>5</th>\n",
       "      <td>Burundi</td>\n",
       "      <td>Africa</td>\n",
       "      <td>349.200012</td>\n",
       "      <td>2.483333</td>\n",
       "      <td>18.600000</td>\n",
       "      <td>168.50</td>\n",
       "      <td>48.866665</td>\n",
       "      <td>7821783</td>\n",
       "      <td>10.250000</td>\n",
       "      <td>1.0344</td>\n",
       "      <td>66.599998</td>\n",
       "      <td>0.10</td>\n",
       "      <td>33.299999</td>\n",
       "      <td>0</td>\n",
       "      <td>0</td>\n",
       "      <td>0</td>\n",
       "      <td>0</td>\n",
       "    </tr>\n",
       "    <tr>\n",
       "      <th>...</th>\n",
       "      <td>...</td>\n",
       "      <td>...</td>\n",
       "      <td>...</td>\n",
       "      <td>...</td>\n",
       "      <td>...</td>\n",
       "      <td>...</td>\n",
       "      <td>...</td>\n",
       "      <td>...</td>\n",
       "      <td>...</td>\n",
       "      <td>...</td>\n",
       "      <td>...</td>\n",
       "      <td>...</td>\n",
       "      <td>...</td>\n",
       "      <td>...</td>\n",
       "      <td>...</td>\n",
       "      <td>...</td>\n",
       "      <td>...</td>\n",
       "    </tr>\n",
       "    <tr>\n",
       "      <th>190</th>\n",
       "      <td>Samoa</td>\n",
       "      <td>Oceania</td>\n",
       "      <td>4012.600098</td>\n",
       "      <td>10.300000</td>\n",
       "      <td>28.299999</td>\n",
       "      <td>26.75</td>\n",
       "      <td>71.533333</td>\n",
       "      <td>181600</td>\n",
       "      <td>20.666668</td>\n",
       "      <td>0.5010</td>\n",
       "      <td>98.800003</td>\n",
       "      <td>3.10</td>\n",
       "      <td>NaN</td>\n",
       "      <td>0</td>\n",
       "      <td>0</td>\n",
       "      <td>0</td>\n",
       "      <td>1</td>\n",
       "    </tr>\n",
       "    <tr>\n",
       "      <th>191</th>\n",
       "      <td>Solomon Islands</td>\n",
       "      <td>Oceania</td>\n",
       "      <td>2249.199951</td>\n",
       "      <td>4.500000</td>\n",
       "      <td>70.300003</td>\n",
       "      <td>36.00</td>\n",
       "      <td>66.500000</td>\n",
       "      <td>503617</td>\n",
       "      <td>17.766666</td>\n",
       "      <td>0.4858</td>\n",
       "      <td>NaN</td>\n",
       "      <td>1.40</td>\n",
       "      <td>NaN</td>\n",
       "      <td>0</td>\n",
       "      <td>0</td>\n",
       "      <td>0</td>\n",
       "      <td>1</td>\n",
       "    </tr>\n",
       "    <tr>\n",
       "      <th>192</th>\n",
       "      <td>Tonga</td>\n",
       "      <td>Oceania</td>\n",
       "      <td>4072.199951</td>\n",
       "      <td>10.133333</td>\n",
       "      <td>22.299999</td>\n",
       "      <td>19.25</td>\n",
       "      <td>71.833336</td>\n",
       "      <td>102550</td>\n",
       "      <td>23.266666</td>\n",
       "      <td>0.7150</td>\n",
       "      <td>99.000000</td>\n",
       "      <td>4.85</td>\n",
       "      <td>NaN</td>\n",
       "      <td>0</td>\n",
       "      <td>0</td>\n",
       "      <td>0</td>\n",
       "      <td>1</td>\n",
       "    </tr>\n",
       "    <tr>\n",
       "      <th>193</th>\n",
       "      <td>Tuvalu</td>\n",
       "      <td>Oceania</td>\n",
       "      <td>NaN</td>\n",
       "      <td>NaN</td>\n",
       "      <td>23.299999</td>\n",
       "      <td>36.50</td>\n",
       "      <td>66.033333</td>\n",
       "      <td>9767</td>\n",
       "      <td>49.233334</td>\n",
       "      <td>NaN</td>\n",
       "      <td>NaN</td>\n",
       "      <td>NaN</td>\n",
       "      <td>NaN</td>\n",
       "      <td>0</td>\n",
       "      <td>0</td>\n",
       "      <td>0</td>\n",
       "      <td>1</td>\n",
       "    </tr>\n",
       "    <tr>\n",
       "      <th>194</th>\n",
       "      <td>Vanuatu</td>\n",
       "      <td>Oceania</td>\n",
       "      <td>3809.800049</td>\n",
       "      <td>6.700000</td>\n",
       "      <td>54.000000</td>\n",
       "      <td>17.75</td>\n",
       "      <td>69.966667</td>\n",
       "      <td>225317</td>\n",
       "      <td>24.500000</td>\n",
       "      <td>0.8988</td>\n",
       "      <td>82.000000</td>\n",
       "      <td>1.50</td>\n",
       "      <td>NaN</td>\n",
       "      <td>0</td>\n",
       "      <td>0</td>\n",
       "      <td>0</td>\n",
       "      <td>1</td>\n",
       "    </tr>\n",
       "  </tbody>\n",
       "</table>\n",
       "<p>194 rows × 17 columns</p>\n",
       "</div>"
      ],
      "text/plain": [
       "             country   region           gdp     school      adfert  chldmort  \\\n",
       "1            Algeria   Africa   7300.399902   6.716667    7.300000     34.75   \n",
       "2              Benin   Africa   1338.800049   3.100000  111.699997    122.75   \n",
       "3           Botswana   Africa  12307.400391   8.600000   52.099998     60.25   \n",
       "4       Burkina Faso   Africa   1063.400024   1.300000  124.800003    170.50   \n",
       "5            Burundi   Africa    349.200012   2.483333   18.600000    168.50   \n",
       "..               ...      ...           ...        ...         ...       ...   \n",
       "190            Samoa  Oceania   4012.600098  10.300000   28.299999     26.75   \n",
       "191  Solomon Islands  Oceania   2249.199951   4.500000   70.300003     36.00   \n",
       "192            Tonga  Oceania   4072.199951  10.133333   22.299999     19.25   \n",
       "193           Tuvalu  Oceania           NaN        NaN   23.299999     36.50   \n",
       "194          Vanuatu  Oceania   3809.800049   6.700000   54.000000     17.75   \n",
       "\n",
       "          life       pop      urban  femlab   literacy    co2       gini  \\\n",
       "1    72.316666  34172236  64.933334  0.4522  72.599998  15.00        NaN   \n",
       "2    54.733334   8237634  41.000000  0.8482  41.700001   1.20        NaN   \n",
       "3    52.250000   1941233  59.250000  0.8870  84.099998   9.20        NaN   \n",
       "4    53.783333  15308383  23.583334  0.8584  23.600000   0.20        NaN   \n",
       "5    48.866665   7821783  10.250000  1.0344  66.599998   0.10  33.299999   \n",
       "..         ...       ...        ...     ...        ...    ...        ...   \n",
       "190  71.533333    181600  20.666668  0.5010  98.800003   3.10        NaN   \n",
       "191  66.500000    503617  17.766666  0.4858        NaN   1.40        NaN   \n",
       "192  71.833336    102550  23.266666  0.7150  99.000000   4.85        NaN   \n",
       "193  66.033333      9767  49.233334     NaN        NaN    NaN        NaN   \n",
       "194  69.966667    225317  24.500000  0.8988  82.000000   1.50        NaN   \n",
       "\n",
       "     Americas  Asia  Europe  Oceania  \n",
       "1           0     0       0        0  \n",
       "2           0     0       0        0  \n",
       "3           0     0       0        0  \n",
       "4           0     0       0        0  \n",
       "5           0     0       0        0  \n",
       "..        ...   ...     ...      ...  \n",
       "190         0     0       0        1  \n",
       "191         0     0       0        1  \n",
       "192         0     0       0        1  \n",
       "193         0     0       0        1  \n",
       "194         0     0       0        1  \n",
       "\n",
       "[194 rows x 17 columns]"
      ]
     },
     "execution_count": 19,
     "metadata": {},
     "output_type": "execute_result"
    }
   ],
   "source": [
    "region_coded = pd.get_dummies(df_ejem.region, drop_first=True)\n",
    "pd.concat([df_ejem, region_coded], axis=1)"
   ]
  },
  {
   "cell_type": "markdown",
   "metadata": {},
   "source": [
    "### **`Nuestro primer modelo de regresión`**"
   ]
  },
  {
   "cell_type": "markdown",
   "metadata": {},
   "source": [
    "##### **1 - Introduccion**"
   ]
  },
  {
   "cell_type": "code",
   "execution_count": 23,
   "metadata": {},
   "outputs": [
    {
     "data": {
      "text/html": [
       "<div>\n",
       "<style scoped>\n",
       "    .dataframe tbody tr th:only-of-type {\n",
       "        vertical-align: middle;\n",
       "    }\n",
       "\n",
       "    .dataframe tbody tr th {\n",
       "        vertical-align: top;\n",
       "    }\n",
       "\n",
       "    .dataframe thead th {\n",
       "        text-align: right;\n",
       "    }\n",
       "</style>\n",
       "<table border=\"1\" class=\"dataframe\">\n",
       "  <thead>\n",
       "    <tr style=\"text-align: right;\">\n",
       "      <th></th>\n",
       "      <th>earn</th>\n",
       "      <th>height1</th>\n",
       "      <th>height2</th>\n",
       "      <th>sex</th>\n",
       "      <th>race</th>\n",
       "      <th>hisp</th>\n",
       "      <th>ed</th>\n",
       "      <th>yearbn</th>\n",
       "      <th>height</th>\n",
       "      <th>age</th>\n",
       "      <th>age_category</th>\n",
       "      <th>eth</th>\n",
       "      <th>male</th>\n",
       "    </tr>\n",
       "  </thead>\n",
       "  <tbody>\n",
       "    <tr>\n",
       "      <th>3</th>\n",
       "      <td>50000.0</td>\n",
       "      <td>6</td>\n",
       "      <td>2</td>\n",
       "      <td>1</td>\n",
       "      <td>1</td>\n",
       "      <td>2</td>\n",
       "      <td>16</td>\n",
       "      <td>45</td>\n",
       "      <td>74</td>\n",
       "      <td>45</td>\n",
       "      <td>2</td>\n",
       "      <td>3</td>\n",
       "      <td>1</td>\n",
       "    </tr>\n",
       "    <tr>\n",
       "      <th>4</th>\n",
       "      <td>60000.0</td>\n",
       "      <td>5</td>\n",
       "      <td>6</td>\n",
       "      <td>2</td>\n",
       "      <td>1</td>\n",
       "      <td>2</td>\n",
       "      <td>16</td>\n",
       "      <td>32</td>\n",
       "      <td>66</td>\n",
       "      <td>58</td>\n",
       "      <td>3</td>\n",
       "      <td>3</td>\n",
       "      <td>0</td>\n",
       "    </tr>\n",
       "    <tr>\n",
       "      <th>5</th>\n",
       "      <td>30000.0</td>\n",
       "      <td>5</td>\n",
       "      <td>4</td>\n",
       "      <td>2</td>\n",
       "      <td>1</td>\n",
       "      <td>2</td>\n",
       "      <td>16</td>\n",
       "      <td>61</td>\n",
       "      <td>64</td>\n",
       "      <td>29</td>\n",
       "      <td>1</td>\n",
       "      <td>3</td>\n",
       "      <td>0</td>\n",
       "    </tr>\n",
       "    <tr>\n",
       "      <th>9</th>\n",
       "      <td>51000.0</td>\n",
       "      <td>5</td>\n",
       "      <td>3</td>\n",
       "      <td>2</td>\n",
       "      <td>1</td>\n",
       "      <td>2</td>\n",
       "      <td>17</td>\n",
       "      <td>51</td>\n",
       "      <td>63</td>\n",
       "      <td>39</td>\n",
       "      <td>2</td>\n",
       "      <td>3</td>\n",
       "      <td>0</td>\n",
       "    </tr>\n",
       "    <tr>\n",
       "      <th>10</th>\n",
       "      <td>9000.0</td>\n",
       "      <td>5</td>\n",
       "      <td>4</td>\n",
       "      <td>2</td>\n",
       "      <td>1</td>\n",
       "      <td>2</td>\n",
       "      <td>15</td>\n",
       "      <td>64</td>\n",
       "      <td>64</td>\n",
       "      <td>26</td>\n",
       "      <td>1</td>\n",
       "      <td>3</td>\n",
       "      <td>0</td>\n",
       "    </tr>\n",
       "  </tbody>\n",
       "</table>\n",
       "</div>"
      ],
      "text/plain": [
       "       earn  height1  height2  sex  race  hisp  ed  yearbn  height  age  \\\n",
       "3   50000.0        6        2    1     1     2  16      45      74   45   \n",
       "4   60000.0        5        6    2     1     2  16      32      66   58   \n",
       "5   30000.0        5        4    2     1     2  16      61      64   29   \n",
       "9   51000.0        5        3    2     1     2  17      51      63   39   \n",
       "10   9000.0        5        4    2     1     2  15      64      64   26   \n",
       "\n",
       "    age_category  eth  male  \n",
       "3              2    3     1  \n",
       "4              3    3     0  \n",
       "5              1    3     0  \n",
       "9              2    3     0  \n",
       "10             1    3     0  "
      ]
     },
     "execution_count": 23,
     "metadata": {},
     "output_type": "execute_result"
    }
   ],
   "source": [
    "df.head()"
   ]
  },
  {
   "cell_type": "markdown",
   "metadata": {},
   "source": [
    "Solicitamos las principales estadísticas descriptivas para cada variable con describe(). El método nos entrega información sobre:\n",
    "\n",
    "-\t`count`: La cantidad de observaciones en la muestra.\n",
    "-\t`mean`: La media aritmética de cada variable.\n",
    "-\t`std`: La desviación estándar de cada variable.\n",
    "-\t`min`: El valor mínimo observado de la variable en la muestra.\n",
    "-\t`25%`: El rango intercuartil inferior de la variable en la muestra.\n",
    "-\t`50%`: La mediana de la variable en la muestra.\n",
    "-\t`75%`: El rango intercuartil superior de la variable en la muestra.\n",
    "-\t`max`: El valor máximo observado de la variable en la muestra."
   ]
  },
  {
   "cell_type": "markdown",
   "metadata": {},
   "source": [
    "`describe()` es útil, pero para las variables categóricas es mejor ver sus frecuencias. Para ello, utilizaremos `.value_counts()` en cada variable."
   ]
  },
  {
   "cell_type": "code",
   "execution_count": 20,
   "metadata": {},
   "outputs": [
    {
     "data": {
      "text/html": [
       "<div>\n",
       "<style scoped>\n",
       "    .dataframe tbody tr th:only-of-type {\n",
       "        vertical-align: middle;\n",
       "    }\n",
       "\n",
       "    .dataframe tbody tr th {\n",
       "        vertical-align: top;\n",
       "    }\n",
       "\n",
       "    .dataframe thead th {\n",
       "        text-align: right;\n",
       "    }\n",
       "</style>\n",
       "<table border=\"1\" class=\"dataframe\">\n",
       "  <thead>\n",
       "    <tr style=\"text-align: right;\">\n",
       "      <th></th>\n",
       "      <th>earn</th>\n",
       "      <th>height1</th>\n",
       "      <th>height2</th>\n",
       "      <th>sex</th>\n",
       "      <th>race</th>\n",
       "      <th>hisp</th>\n",
       "      <th>ed</th>\n",
       "      <th>yearbn</th>\n",
       "      <th>height</th>\n",
       "      <th>age</th>\n",
       "      <th>age_category</th>\n",
       "      <th>eth</th>\n",
       "      <th>male</th>\n",
       "    </tr>\n",
       "  </thead>\n",
       "  <tbody>\n",
       "    <tr>\n",
       "      <th>count</th>\n",
       "      <td>1374.000000</td>\n",
       "      <td>1374.000000</td>\n",
       "      <td>1374.000000</td>\n",
       "      <td>1374.000000</td>\n",
       "      <td>1374.000000</td>\n",
       "      <td>1374.000000</td>\n",
       "      <td>1374.000000</td>\n",
       "      <td>1374.000000</td>\n",
       "      <td>1374.000000</td>\n",
       "      <td>1374.000000</td>\n",
       "      <td>1374.000000</td>\n",
       "      <td>1374.000000</td>\n",
       "      <td>1374.000000</td>\n",
       "    </tr>\n",
       "    <tr>\n",
       "      <th>mean</th>\n",
       "      <td>19981.433770</td>\n",
       "      <td>5.128821</td>\n",
       "      <td>5.050218</td>\n",
       "      <td>1.622999</td>\n",
       "      <td>1.167394</td>\n",
       "      <td>1.941776</td>\n",
       "      <td>13.353712</td>\n",
       "      <td>48.848617</td>\n",
       "      <td>66.596070</td>\n",
       "      <td>41.151383</td>\n",
       "      <td>1.861718</td>\n",
       "      <td>2.780204</td>\n",
       "      <td>0.377001</td>\n",
       "    </tr>\n",
       "    <tr>\n",
       "      <th>std</th>\n",
       "      <td>19781.488482</td>\n",
       "      <td>0.360261</td>\n",
       "      <td>3.173719</td>\n",
       "      <td>0.484812</td>\n",
       "      <td>0.641772</td>\n",
       "      <td>0.234252</td>\n",
       "      <td>2.440269</td>\n",
       "      <td>15.542169</td>\n",
       "      <td>3.803324</td>\n",
       "      <td>15.542169</td>\n",
       "      <td>0.814886</td>\n",
       "      <td>0.628077</td>\n",
       "      <td>0.484812</td>\n",
       "    </tr>\n",
       "    <tr>\n",
       "      <th>min</th>\n",
       "      <td>0.000000</td>\n",
       "      <td>4.000000</td>\n",
       "      <td>0.000000</td>\n",
       "      <td>1.000000</td>\n",
       "      <td>1.000000</td>\n",
       "      <td>1.000000</td>\n",
       "      <td>3.000000</td>\n",
       "      <td>3.000000</td>\n",
       "      <td>58.000000</td>\n",
       "      <td>18.000000</td>\n",
       "      <td>1.000000</td>\n",
       "      <td>1.000000</td>\n",
       "      <td>0.000000</td>\n",
       "    </tr>\n",
       "    <tr>\n",
       "      <th>25%</th>\n",
       "      <td>6000.000000</td>\n",
       "      <td>5.000000</td>\n",
       "      <td>3.000000</td>\n",
       "      <td>1.000000</td>\n",
       "      <td>1.000000</td>\n",
       "      <td>2.000000</td>\n",
       "      <td>12.000000</td>\n",
       "      <td>39.000000</td>\n",
       "      <td>64.000000</td>\n",
       "      <td>29.000000</td>\n",
       "      <td>1.000000</td>\n",
       "      <td>3.000000</td>\n",
       "      <td>0.000000</td>\n",
       "    </tr>\n",
       "    <tr>\n",
       "      <th>50%</th>\n",
       "      <td>16000.000000</td>\n",
       "      <td>5.000000</td>\n",
       "      <td>5.000000</td>\n",
       "      <td>2.000000</td>\n",
       "      <td>1.000000</td>\n",
       "      <td>2.000000</td>\n",
       "      <td>13.000000</td>\n",
       "      <td>52.000000</td>\n",
       "      <td>66.000000</td>\n",
       "      <td>38.000000</td>\n",
       "      <td>2.000000</td>\n",
       "      <td>3.000000</td>\n",
       "      <td>0.000000</td>\n",
       "    </tr>\n",
       "    <tr>\n",
       "      <th>75%</th>\n",
       "      <td>28000.000000</td>\n",
       "      <td>5.000000</td>\n",
       "      <td>8.000000</td>\n",
       "      <td>2.000000</td>\n",
       "      <td>1.000000</td>\n",
       "      <td>2.000000</td>\n",
       "      <td>15.000000</td>\n",
       "      <td>61.000000</td>\n",
       "      <td>69.000000</td>\n",
       "      <td>51.000000</td>\n",
       "      <td>3.000000</td>\n",
       "      <td>3.000000</td>\n",
       "      <td>1.000000</td>\n",
       "    </tr>\n",
       "    <tr>\n",
       "      <th>max</th>\n",
       "      <td>200000.000000</td>\n",
       "      <td>6.000000</td>\n",
       "      <td>11.000000</td>\n",
       "      <td>2.000000</td>\n",
       "      <td>9.000000</td>\n",
       "      <td>2.000000</td>\n",
       "      <td>18.000000</td>\n",
       "      <td>72.000000</td>\n",
       "      <td>77.000000</td>\n",
       "      <td>87.000000</td>\n",
       "      <td>3.000000</td>\n",
       "      <td>4.000000</td>\n",
       "      <td>1.000000</td>\n",
       "    </tr>\n",
       "  </tbody>\n",
       "</table>\n",
       "</div>"
      ],
      "text/plain": [
       "                earn      height1      height2          sex         race  \\\n",
       "count    1374.000000  1374.000000  1374.000000  1374.000000  1374.000000   \n",
       "mean    19981.433770     5.128821     5.050218     1.622999     1.167394   \n",
       "std     19781.488482     0.360261     3.173719     0.484812     0.641772   \n",
       "min         0.000000     4.000000     0.000000     1.000000     1.000000   \n",
       "25%      6000.000000     5.000000     3.000000     1.000000     1.000000   \n",
       "50%     16000.000000     5.000000     5.000000     2.000000     1.000000   \n",
       "75%     28000.000000     5.000000     8.000000     2.000000     1.000000   \n",
       "max    200000.000000     6.000000    11.000000     2.000000     9.000000   \n",
       "\n",
       "              hisp           ed       yearbn       height          age  \\\n",
       "count  1374.000000  1374.000000  1374.000000  1374.000000  1374.000000   \n",
       "mean      1.941776    13.353712    48.848617    66.596070    41.151383   \n",
       "std       0.234252     2.440269    15.542169     3.803324    15.542169   \n",
       "min       1.000000     3.000000     3.000000    58.000000    18.000000   \n",
       "25%       2.000000    12.000000    39.000000    64.000000    29.000000   \n",
       "50%       2.000000    13.000000    52.000000    66.000000    38.000000   \n",
       "75%       2.000000    15.000000    61.000000    69.000000    51.000000   \n",
       "max       2.000000    18.000000    72.000000    77.000000    87.000000   \n",
       "\n",
       "       age_category          eth         male  \n",
       "count   1374.000000  1374.000000  1374.000000  \n",
       "mean       1.861718     2.780204     0.377001  \n",
       "std        0.814886     0.628077     0.484812  \n",
       "min        1.000000     1.000000     0.000000  \n",
       "25%        1.000000     3.000000     0.000000  \n",
       "50%        2.000000     3.000000     0.000000  \n",
       "75%        3.000000     3.000000     1.000000  \n",
       "max        3.000000     4.000000     1.000000  "
      ]
     },
     "execution_count": 20,
     "metadata": {},
     "output_type": "execute_result"
    }
   ],
   "source": [
    "df.describe()"
   ]
  },
  {
   "cell_type": "code",
   "execution_count": 29,
   "metadata": {},
   "outputs": [
    {
     "name": "stdout",
     "output_type": "stream",
     "text": [
      "\n",
      " sex\n",
      "2    856\n",
      "1    518\n",
      "Name: sex, dtype: int64\n",
      "2    0.622999\n",
      "1    0.377001\n",
      "Name: sex, dtype: float64\n",
      "******************************\n",
      "\n",
      " race\n",
      "1    1216\n",
      "2     126\n",
      "3      17\n",
      "4      10\n",
      "9       5\n",
      "Name: race, dtype: int64\n",
      "1    0.885007\n",
      "2    0.091703\n",
      "3    0.012373\n",
      "4    0.007278\n",
      "9    0.003639\n",
      "Name: race, dtype: float64\n",
      "******************************\n",
      "\n",
      " hisp\n",
      "2    1294\n",
      "1      80\n",
      "Name: hisp, dtype: int64\n",
      "2    0.941776\n",
      "1    0.058224\n",
      "Name: hisp, dtype: float64\n",
      "******************************\n",
      "\n",
      " age_category\n",
      "1    564\n",
      "2    436\n",
      "3    374\n",
      "Name: age_category, dtype: int64\n",
      "1    0.410480\n",
      "2    0.317322\n",
      "3    0.272198\n",
      "Name: age_category, dtype: float64\n",
      "******************************\n",
      "\n",
      " eth\n",
      "3    1144\n",
      "1     126\n",
      "2      77\n",
      "4      27\n",
      "Name: eth, dtype: int64\n",
      "3    0.832606\n",
      "1    0.091703\n",
      "2    0.056041\n",
      "4    0.019651\n",
      "Name: eth, dtype: float64\n",
      "******************************\n",
      "\n",
      " male\n",
      "0    856\n",
      "1    518\n",
      "Name: male, dtype: int64\n",
      "0    0.622999\n",
      "1    0.377001\n",
      "Name: male, dtype: float64\n",
      "******************************\n"
     ]
    }
   ],
   "source": [
    "# separemos todas las variables que son categóricas \n",
    "categorical_columns = ['sex', 'race', 'hisp', 'age_category', 'eth', 'male']\n",
    "\n",
    "# iniciamos un loop para cada variable categórica donde:\n",
    "for cat in categorical_columns: \n",
    "    # imprimimos el nombre \n",
    "    print(\"\\n\",cat)\n",
    "    # solicitamos la frecuencia relativa de cada categoría dentro de la variable\n",
    "    print(df[cat].value_counts())\n",
    "    # solicitamos el porcentaje de la frecuencia relativa \n",
    "    # print((df[cat].value_counts()/len(df[cat])))\n",
    "    print(df[cat].value_counts('%'))\n",
    "    print(\"*\"*30)\n"
   ]
  },
  {
   "cell_type": "markdown",
   "metadata": {},
   "source": [
    "Nuestro objetivo es ver la asociación entre los ingresos generados y la altura de cada individuo.\n",
    "\n",
    "Primero generaremos un diagrama de dispersión con `sns.jointplot()`. El gráfico entregará información sobre la distribución de cada una de las variables, así como un diagrama de dispersión entre ambas."
   ]
  },
  {
   "cell_type": "code",
   "execution_count": 38,
   "metadata": {},
   "outputs": [
    {
     "data": {
      "text/plain": [
       "<AxesSubplot:xlabel='height', ylabel='earn'>"
      ]
     },
     "execution_count": 38,
     "metadata": {},
     "output_type": "execute_result"
    },
    {
     "data": {
      "image/png": "[encoded data removed]",
      "text/plain": [
       "<Figure size 600x400 with 1 Axes>"
      ]
     },
     "metadata": {},
     "output_type": "display_data"
    }
   ],
   "source": [
    "sns.scatterplot(data = df, x = df['height'], y = df['earn'])"
   ]
  },
  {
   "cell_type": "code",
   "execution_count": 39,
   "metadata": {},
   "outputs": [
    {
     "data": {
      "text/plain": [
       "<seaborn.axisgrid.JointGrid at 0x187da8887c0>"
      ]
     },
     "execution_count": 39,
     "metadata": {},
     "output_type": "execute_result"
    },
    {
     "data": {
      "image/png": "[encoded data removed]",
      "text/plain": [
       "<Figure size 600x600 with 3 Axes>"
      ]
     },
     "metadata": {},
     "output_type": "display_data"
    }
   ],
   "source": [
    "sns.jointplot(x = df['height'], y = df['earn'], kind='reg', line_kws = {'color':'tomato'})"
   ]
  },
  {
   "cell_type": "markdown",
   "metadata": {},
   "source": [
    "El diagrama ejecutado entrega la siguiente información:\n",
    "\n",
    "1.\tEl diagrama nos informa de una **`asociación positiva entre ambas variables`**. Una salvedad a rescatar es que la asociación entre ambas es relativamente débil (su r de Pearson es de .30).\n",
    "2.\tLa baja correlación puede ser explicada por la distribución de las variables. Mientras que height presenta una distribución relativamente normal, earn está fuertemente sesgada hacia valores bajos.\n",
    "3.\tOtro motivo que pueda estar influyendo levemente es que, si nos fijamos en los valores que toma la variable `height` de la tabla entregada por el método `describe()`, los valores al parecer fueron redondeados (min, max y los cuartiles son números enteros), esta es la razón también de que se vean 'franjas' en el gráfico de dispersión.\n"
   ]
  },
  {
   "cell_type": "markdown",
   "metadata": {},
   "source": [
    "Para examinar la normalidad de nuestras variables, `statsmodels` presenta un gráfico de normalidad Q-Q (Quantile - Quantile)."
   ]
  },
  {
   "cell_type": "code",
   "execution_count": 40,
   "metadata": {},
   "outputs": [
    {
     "data": {
      "image/png": "[encoded data removed]",
      "text/plain": [
       "<Figure size 600x400 with 1 Axes>"
      ]
     },
     "execution_count": 40,
     "metadata": {},
     "output_type": "execute_result"
    },
    {
     "data": {
      "image/png": "[encoded data removed]",
      "text/plain": [
       "<Figure size 600x400 with 1 Axes>"
      ]
     },
     "metadata": {},
     "output_type": "display_data"
    }
   ],
   "source": [
    "sm.qqplot(df['earn'],line='q')"
   ]
  },
  {
   "cell_type": "markdown",
   "metadata": {},
   "source": [
    "En el gráfico podemos observar que la variable escapa de los valores esperados en los extremos de la distribución. Ésto es un punto a considerar en la modelación que veremos más adelante.\n",
    "\n",
    "El gráfico Q-Q compara la distribución empírica de nuestra variable en el eje Y (con la etiqueta 'Sample Quantities') contra la distribución esperada de la variable (bajo la etiqueta 'Theoretical Quantities').\n",
    "\n",
    "La opción `line='q'` permite trazar una línea entre cantidades observadas y esperadas en los cuantiles de nuestra variable. Una distribución normal tendrá la mayoría de sus datos cercanos a la línea.\n",
    "\n",
    "Si ejecutamos el mismo diagnóstico para heigth, el resultado es distinto."
   ]
  },
  {
   "cell_type": "code",
   "execution_count": 41,
   "metadata": {},
   "outputs": [
    {
     "data": {
      "image/png": "[encoded data removed]",
      "text/plain": [
       "<Figure size 600x400 with 1 Axes>"
      ]
     },
     "execution_count": 41,
     "metadata": {},
     "output_type": "execute_result"
    },
    {
     "data": {
      "image/png": "[encoded data removed]",
      "text/plain": [
       "<Figure size 600x400 with 1 Axes>"
      ]
     },
     "metadata": {},
     "output_type": "display_data"
    }
   ],
   "source": [
    "sm.qqplot(df['height'], line='q')"
   ]
  },
  {
   "cell_type": "markdown",
   "metadata": {},
   "source": [
    "##### **2 - Inspeccionando contribuciones en nuestra variable dependiente: Regresión Lineal**"
   ]
  },
  {
   "cell_type": "markdown",
   "metadata": {},
   "source": [
    "Una vez realizado las principales exploraciones, nuestro objetivo es generar una explicación plausible de cómo la altura de los individuos afecta los niveles de ingreso en promedio. Para ello utilizaremos la regresión lineal, un método que permite extraer información sobre cómo una variable independiente contribuye en una variable dependiente.\n",
    "\n",
    "La regresión lineal es un método que resume cómo los valores de una variable objetivo de característica numérica varían en subpoblaciones definidas por una función lineal de atributos. Esta definición proviene de Gelman & Hill (2007) y pone énfasis en la característica descriptiva de la regresión por sobre la idea causal.\n",
    "\n",
    "Si bien la regresión puede utilizarse para representar asociaciones causales, preferimos enfatizar la capacidad de presentar comparaciones de promedios entre dos subpoblaciones. Así somos explícitos sobre las limitantes de la regresión al no considerar los supuestos de inferencia causal."
   ]
  },
  {
   "cell_type": "markdown",
   "metadata": {},
   "source": [
    "##### **3 - Nuestra primera regresión**"
   ]
  },
  {
   "cell_type": "markdown",
   "metadata": {},
   "source": [
    "Nuestro primer modelo a ejecutar tendrá la siguiente especificación:\n",
    "\n",
    "$$ earn_i = \\beta_0 + \\beta_1 height_i + \\varepsilon_i $$\n",
    "\n",
    "Donde buscamos generar un modelo que explique la varianza de `earn` en función a `height`. En la ecuación agregamos un `εi` para tomar en cuenta la incertidumbre de nuestro modelo. Volveremos a este punto cuando discutamos los supuestos que le dan validez al modelo (Teorema de Gauss-Markov).\n",
    "\n",
    "El objetivo del algoritmo es generar estimaciones respecto al intercepto (expresado como `β0`, que representa el punto de partida de la función lineal) y de la pendiente (expresada como `β1`, que representa la contribución de X en Y cuando X cambia en 1 unidad).\n",
    " \n",
    "Para implementar nuestra primera regresión generamos un objeto a partir de `smf.ols`, el cual genera un modelo de regresión mediante el `Método de Mínimos Cuadrados (Ordinary Least Squares)`. La función de statsmodels toma como mínimo dos parámetros:\n",
    "\n",
    "1.\tLa declaración de la ecuación, que se realiza mediante sintáxis Patsy* con la siguiente forma canónica:\n",
    "```\n",
    "                                                    '<objetivo> ~ <atributos>'\n",
    "```\n",
    "2.\tUn objeto `data`, que en este caso responde a nuestro `pd.DataFrame` generado con pandas.\n",
    "\n",
    "-\tLa forma canónica permite separar entre nuestro fenómeno a estudiar y los atributos a agregar, separándolos por el operador `~`, el cual define que el objetivo se puede explicar a partir de una función que contiene los atributos.\n",
    "-\tMediante `smf.ols()` pasamos la función y una tabla de datos para generar un objeto con clase `statsmodels.regression.linear_model.OLS`."
   ]
  },
  {
   "cell_type": "code",
   "execution_count": 42,
   "metadata": {},
   "outputs": [],
   "source": [
    "# generamos un objeto que contenga nuestra ecuación descrita \n",
    "model1 = smf.ols('earn ~ height', data = df)"
   ]
  },
  {
   "cell_type": "code",
   "execution_count": 46,
   "metadata": {},
   "outputs": [
    {
     "data": {
      "text/plain": [
       "Intercept   -84868.101530\n",
       "height        1574.410254\n",
       "dtype: float64"
      ]
     },
     "execution_count": 46,
     "metadata": {},
     "output_type": "execute_result"
    }
   ],
   "source": [
    "model1 = smf.ols('earn ~ height', data = df).fit()\n",
    "# Para la recta ---> y = a + bx + e\n",
    "# a = Intercept, b = height\n",
    "model1.params"
   ]
  },
  {
   "cell_type": "code",
   "execution_count": 43,
   "metadata": {},
   "outputs": [
    {
     "data": {
      "text/plain": [
       "statsmodels.regression.linear_model.OLS"
      ]
     },
     "execution_count": 43,
     "metadata": {},
     "output_type": "execute_result"
    }
   ],
   "source": [
    "# pidamos la extensión de la clase en nuestro objeto. \n",
    "model1.__class__"
   ]
  },
  {
   "cell_type": "markdown",
   "metadata": {},
   "source": [
    "-\tHasta el momento sólo hemos generado un objeto con la clase detallada. Para generar las estimaciones de nuestro modelo, debemos ejecutar el método `.fit()`, que instruye al objeto para estimar los parámetros."
   ]
  },
  {
   "cell_type": "code",
   "execution_count": 44,
   "metadata": {},
   "outputs": [],
   "source": [
    "model1 = model1.fit()"
   ]
  },
  {
   "cell_type": "markdown",
   "metadata": {},
   "source": [
    "-\tUna vez que el modelo ya está estimado, podemos solicitar sus resultados mediante `.summary()`"
   ]
  },
  {
   "cell_type": "code",
   "execution_count": 45,
   "metadata": {},
   "outputs": [
    {
     "data": {
      "text/html": [
       "<table class=\"simpletable\">\n",
       "<caption>OLS Regression Results</caption>\n",
       "<tr>\n",
       "  <th>Dep. Variable:</th>          <td>earn</td>       <th>  R-squared:         </th> <td>   0.092</td> \n",
       "</tr>\n",
       "<tr>\n",
       "  <th>Model:</th>                   <td>OLS</td>       <th>  Adj. R-squared:    </th> <td>   0.091</td> \n",
       "</tr>\n",
       "<tr>\n",
       "  <th>Method:</th>             <td>Least Squares</td>  <th>  F-statistic:       </th> <td>   138.4</td> \n",
       "</tr>\n",
       "<tr>\n",
       "  <th>Date:</th>             <td>Tue, 26 Dec 2023</td> <th>  Prob (F-statistic):</th> <td>1.65e-30</td> \n",
       "</tr>\n",
       "<tr>\n",
       "  <th>Time:</th>                 <td>18:41:56</td>     <th>  Log-Likelihood:    </th> <td> -15475.</td> \n",
       "</tr>\n",
       "<tr>\n",
       "  <th>No. Observations:</th>      <td>  1374</td>      <th>  AIC:               </th> <td>3.095e+04</td>\n",
       "</tr>\n",
       "<tr>\n",
       "  <th>Df Residuals:</th>          <td>  1372</td>      <th>  BIC:               </th> <td>3.097e+04</td>\n",
       "</tr>\n",
       "<tr>\n",
       "  <th>Df Model:</th>              <td>     1</td>      <th>                     </th>     <td> </td>    \n",
       "</tr>\n",
       "<tr>\n",
       "  <th>Covariance Type:</th>      <td>nonrobust</td>    <th>                     </th>     <td> </td>    \n",
       "</tr>\n",
       "</table>\n",
       "<table class=\"simpletable\">\n",
       "<tr>\n",
       "      <td></td>         <th>coef</th>     <th>std err</th>      <th>t</th>      <th>P>|t|</th>  <th>[0.025</th>    <th>0.975]</th>  \n",
       "</tr>\n",
       "<tr>\n",
       "  <th>Intercept</th> <td>-8.487e+04</td> <td> 8926.986</td> <td>   -9.507</td> <td> 0.000</td> <td>-1.02e+05</td> <td>-6.74e+04</td>\n",
       "</tr>\n",
       "<tr>\n",
       "  <th>height</th>    <td> 1574.4103</td> <td>  133.829</td> <td>   11.764</td> <td> 0.000</td> <td> 1311.879</td> <td> 1836.942</td>\n",
       "</tr>\n",
       "</table>\n",
       "<table class=\"simpletable\">\n",
       "<tr>\n",
       "  <th>Omnibus:</th>       <td>868.584</td> <th>  Durbin-Watson:     </th> <td>   1.903</td> \n",
       "</tr>\n",
       "<tr>\n",
       "  <th>Prob(Omnibus):</th> <td> 0.000</td>  <th>  Jarque-Bera (JB):  </th> <td>13733.247</td>\n",
       "</tr>\n",
       "<tr>\n",
       "  <th>Skew:</th>          <td> 2.677</td>  <th>  Prob(JB):          </th> <td>    0.00</td> \n",
       "</tr>\n",
       "<tr>\n",
       "  <th>Kurtosis:</th>      <td>17.533</td>  <th>  Cond. No.          </th> <td>1.17e+03</td> \n",
       "</tr>\n",
       "</table><br/><br/>Notes:<br/>[1] Standard Errors assume that the covariance matrix of the errors is correctly specified.<br/>[2] The condition number is large, 1.17e+03. This might indicate that there are<br/>strong multicollinearity or other numerical problems."
      ],
      "text/latex": [
       "\\begin{center}\n",
       "\\begin{tabular}{lclc}\n",
       "\\toprule\n",
       "\\textbf{Dep. Variable:}    &       earn       & \\textbf{  R-squared:         } &     0.092   \\\\\n",
       "\\textbf{Model:}            &       OLS        & \\textbf{  Adj. R-squared:    } &     0.091   \\\\\n",
       "\\textbf{Method:}           &  Least Squares   & \\textbf{  F-statistic:       } &     138.4   \\\\\n",
       "\\textbf{Date:}             & Tue, 26 Dec 2023 & \\textbf{  Prob (F-statistic):} &  1.65e-30   \\\\\n",
       "\\textbf{Time:}             &     18:41:56     & \\textbf{  Log-Likelihood:    } &   -15475.   \\\\\n",
       "\\textbf{No. Observations:} &        1374      & \\textbf{  AIC:               } & 3.095e+04   \\\\\n",
       "\\textbf{Df Residuals:}     &        1372      & \\textbf{  BIC:               } & 3.097e+04   \\\\\n",
       "\\textbf{Df Model:}         &           1      & \\textbf{                     } &             \\\\\n",
       "\\textbf{Covariance Type:}  &    nonrobust     & \\textbf{                     } &             \\\\\n",
       "\\bottomrule\n",
       "\\end{tabular}\n",
       "\\begin{tabular}{lcccccc}\n",
       "                   & \\textbf{coef} & \\textbf{std err} & \\textbf{t} & \\textbf{P$> |$t$|$} & \\textbf{[0.025} & \\textbf{0.975]}  \\\\\n",
       "\\midrule\n",
       "\\textbf{Intercept} &   -8.487e+04  &     8926.986     &    -9.507  &         0.000        &    -1.02e+05    &    -6.74e+04     \\\\\n",
       "\\textbf{height}    &    1574.4103  &      133.829     &    11.764  &         0.000        &     1311.879    &     1836.942     \\\\\n",
       "\\bottomrule\n",
       "\\end{tabular}\n",
       "\\begin{tabular}{lclc}\n",
       "\\textbf{Omnibus:}       & 868.584 & \\textbf{  Durbin-Watson:     } &     1.903  \\\\\n",
       "\\textbf{Prob(Omnibus):} &   0.000 & \\textbf{  Jarque-Bera (JB):  } & 13733.247  \\\\\n",
       "\\textbf{Skew:}          &   2.677 & \\textbf{  Prob(JB):          } &      0.00  \\\\\n",
       "\\textbf{Kurtosis:}      &  17.533 & \\textbf{  Cond. No.          } &  1.17e+03  \\\\\n",
       "\\bottomrule\n",
       "\\end{tabular}\n",
       "%\\caption{OLS Regression Results}\n",
       "\\end{center}\n",
       "\n",
       "Notes: \\newline\n",
       " [1] Standard Errors assume that the covariance matrix of the errors is correctly specified. \\newline\n",
       " [2] The condition number is large, 1.17e+03. This might indicate that there are \\newline\n",
       " strong multicollinearity or other numerical problems."
      ],
      "text/plain": [
       "<class 'statsmodels.iolib.summary.Summary'>\n",
       "\"\"\"\n",
       "                            OLS Regression Results                            \n",
       "==============================================================================\n",
       "Dep. Variable:                   earn   R-squared:                       0.092\n",
       "Model:                            OLS   Adj. R-squared:                  0.091\n",
       "Method:                 Least Squares   F-statistic:                     138.4\n",
       "Date:                Tue, 26 Dec 2023   Prob (F-statistic):           1.65e-30\n",
       "Time:                        18:41:56   Log-Likelihood:                -15475.\n",
       "No. Observations:                1374   AIC:                         3.095e+04\n",
       "Df Residuals:                    1372   BIC:                         3.097e+04\n",
       "Df Model:                           1                                         \n",
       "Covariance Type:            nonrobust                                         \n",
       "==============================================================================\n",
       "                 coef    std err          t      P>|t|      [0.025      0.975]\n",
       "------------------------------------------------------------------------------\n",
       "Intercept  -8.487e+04   8926.986     -9.507      0.000   -1.02e+05   -6.74e+04\n",
       "height      1574.4103    133.829     11.764      0.000    1311.879    1836.942\n",
       "==============================================================================\n",
       "Omnibus:                      868.584   Durbin-Watson:                   1.903\n",
       "Prob(Omnibus):                  0.000   Jarque-Bera (JB):            13733.247\n",
       "Skew:                           2.677   Prob(JB):                         0.00\n",
       "Kurtosis:                      17.533   Cond. No.                     1.17e+03\n",
       "==============================================================================\n",
       "\n",
       "Notes:\n",
       "[1] Standard Errors assume that the covariance matrix of the errors is correctly specified.\n",
       "[2] The condition number is large, 1.17e+03. This might indicate that there are\n",
       "strong multicollinearity or other numerical problems.\n",
       "\"\"\""
      ]
     },
     "execution_count": 45,
     "metadata": {},
     "output_type": "execute_result"
    }
   ],
   "source": [
    "model1.summary()"
   ]
  },
  {
   "cell_type": "markdown",
   "metadata": {},
   "source": [
    "##### **4 - Interpretación de un modelo de regresión**"
   ]
  },
  {
   "cell_type": "markdown",
   "metadata": {},
   "source": [
    "`statsmodel` por defecto entrega variada información respecto a la ejecución, estadísticos de bondad de ajuste y los parámetros estimados.\n",
    "\n",
    "**`Estadísticos de Bondad de Ajuste`**: (R-squared, Adj. R-squared, F-statistic, Prob(F-statistic), No.Observations, etc...): Informan aspectos generales sobre nuestro modelo tales como su capacidad explicativa.\n",
    "\n",
    "1.\t**`R-squared y Adj R-squared`**: `R2` busca resumir en una cifra cuál es la capacidad explicativa de nuestros regresores (variables independientes) en la variabilidad de nuestro objetivo (variable dependiente). Para nuestro modelo ejecutado, la variabilidad de los ingresos en la muestra se explica en un 9.2% por la altura de los individuos en la muestra. También se entrega un Adj. R-squared que entrega un estadístico similar al R-squared, pero penalizado por la cantidad de parámetros a estimar. Dado que no hay más parámetros a estimar, las diferencias entre ambos no son sustanciales.\n",
    "\n",
    "2.\t**`F-statistic y Prob(F-statistic)`**: La prueba F surge de la distribución , que describe el rango de variabilidad entre partes explicadas y no explicadas. El valor de F se contrasta a un puntaje de corte. En esta prueba se genera una hipótesis nula donde el modelo no es estadísticamente válido, y una hipótesis alternativa donde el modelo es estadísticamente válido. Estas reglas se simplifican en `Prob(F-statistic)`, donde evaluaremos que sí `Prob(F − statistic) ≤ 0.05`, tenemos evidencia en contra de la hipótesis nula y hay más evidencia a favor de la significancia estadística general del modelo.\n",
    "\n",
    "3.\t**`Log-Likelihood (Log-Verosimilitud)`**: Es el valor del logaritmo de la verosimilitud para el modelo ajustado, un valor a veces reportando también por algunas librerías es `LL-Null`, el cual corresponde al valor de la log-verosimilitud del modelo sin variables independientes, este sirve para poder comparar el ajuste de nuestro modelo a los datos con respecto a un modelo sin predictores.\n",
    " \n",
    "4.\t**`AIC (Criterio de información de Akaike)`**: Es una métrica de calidad relativa del ajuste de un modelo a los datos, esto significa que debe ser comparado siempre con respecto al valor AIC de otros modelos entrenados sobre los mismos datos y bajo\n",
    "las mismas condiciones. AIC Se define como:\n",
    "\n",
    "$$ AIC = 2k − 2ln\\hat{(L)} $$\n",
    "\n",
    "- Donde `k` es la cantidad de parámetros estimados por el modelo (En nuestro caso, estos serían la cantidad de coeficientes `βi` ) y `L` es el valor de la máxima verosimilitud para el modelo. AIC sirve como métrica para selección de modelos, interesandonos siempre el modelo con menor AIC de entre los modelos candidatos (siempre y cuando, estemos comparando modelos ajustados bajo los mismos datos/condiciones). Podemos ver que esta métrica penaliza a un modelo por la cantidad de parámetros que este implementa (k) por lo que esta métrica tiende a preferir modelos más parsimoniosos. Hay que notar que AIC no nos entrega una métrica con interpretación directa para evaluar la bondad de ajuste del modelo a los datos, por lo que perfectamente podríamos seleccionar, de entre una batería de modelos, aquél con menor AIC y esto no sería garantía alguna de que ese modelo en efecto tenga un buen performance, una buena idea es entonces complementar esta selección mediante AIC con una métrica de error absoluto.\n",
    "\n",
    "- Finalmente, aunque en este sumario de regresión no aparece, a veces es reportado en algunas librerías un valor mostrado como \"`AICc`\" el cual hace referencia a una versión de AIC corregido para los casos de tamaños muestrales pequeños.\n",
    "\n",
    "5.\t`BIC (Criterio de Información Bayesiano)`: Funciona de forma similar a AIC en el sentido de ser una métrica de ajuste relativo que debe ser comparada de entre los valores obtenidos para un conjunto de modelos candidatos, prefiriendo siempre aquél con menor valor de BIC. Cómo se mencionó anteriormente, AIC intenta penalizar la sobre parametrización de modelos, lo cual puede resultar en un sobreajuste. La diferencia entre BIC y AIC es que BIC penaliza de mayor manera la sobre parametrización. La fórmula de BIC es la siguiente:\n",
    " \n",
    "\n",
    "$$ BIC = k ln(n) − 2ln\\hat{(L)} $$\n",
    " \n",
    "\n",
    "- Donde `k` es la cantidad de parámetros estimados por el modelo, `n` es la cantidad de elementos en la muestra (número de observaciones) y `L` es la verosimilitud máxima del modelo.\n",
    " \n",
    "\n",
    "6. `Parámetros Estimados`: La parte substancial del modelo se encuentra en su estimación paramétrica. Se estiman `p + 1` parámetros, donde `p` es la cantidad de atributos a incluir en la fórmula. El `p + 1` surge de la estimación del intercepto (`β0`), el punto de partida de nuestra recta. Por cada atributo agregado, se genera un `β`. Los parámetros se reportan con una serie de estadísticos asociados:\n",
    "\n",
    "    -\t`coef`: El parámetro estimado en sí.\n",
    "    -\t`std err`: El error estándar asociado al parámetro.\n",
    "    -\t`t`: El valor crítico del coeficiente.\n",
    "    -\t`P > |t|`: El valor p que pone a prueba la significancia estadística del coeficiente.\n",
    "    -\t`[0.025 0.975]`: El intervalo de confianza al 95% del parámetro.\n",
    "\n",
    "- El `intercepto` informa sobre el punto de partida de nuestra recta. En nuestro primer modelo, nos sugiere que un individuo en la muestra con 0 pulgadas de altura tendrá en promedio un salario de 8487 dólares. La estimación de este coeficiente es significativa al 95% (nuestro valor p es menor a 0.05). El problema de esta interpretación del intercepto es que no tiene mucho sentido. No existen personas con 0 pulgadas. Para esto, hay que considerar el hecho que nuestro intercepto tiene sentido sólo en el contexto de nuestro modelo. Para tener una visión general, debemos considerar la pendiente de nuestra variable independiente.\n",
    "\n",
    "- El `coeficiente de height` informa en cuánto cambia nuestro Y cuando x aumenta en 1 unidad. Con un valor estimado de 1574 estadísticamente significativo al 95%, esperamos que la diferencia entre dos individuos de similares características que difieren sólo en una pulgada, sea de $1574 dólares. Podemos tentarnos de interpretar este coeficiente desde la causalidad: en la medida que un individuo crezca una pulgada, esperamos un incremento en su salario de 1574 dólares. Esta interpretación presenta una serie de problemas asociados a la causalidad:\n",
    "\n",
    "    -\tLa interpretación es menos flexible, puesto que forzamos un determinado flujo causal. `height → earn` implica que de forma irrestricta el salario subirá en la medida que la altura aumenta. Esto obliga al investigador a generar contrafactuales sin observaciones empíricas (`¿Qué pasa con un individuo que por X motivo disminuye su altura?`).\n",
    "    -\tLa interpretación causal también asume diseños estadísticos sofisticados, como series de panel, donde se realizan seguimientos a una muestra de individuos de forma temporal.\n",
    "    -\tLa interpretación causal impone una serie de supuestos difíciles de comprobar fuera de la estadística, asociados al diseño.\n"
   ]
  },
  {
   "cell_type": "markdown",
   "metadata": {},
   "source": [
    "##### **5 - Validez de las estimaciones**"
   ]
  },
  {
   "cell_type": "markdown",
   "metadata": {},
   "source": [
    "Para entender la validez de nuestras estimaciones mediante Mínimos Cuadrados Ordinarios, es necesario estudiar someramente cómo se generan.\n",
    "\n",
    "La obtención paramétrica de los β descansa en el método de mínimos cuadrados (MCO).\n",
    "\n",
    "El objetivo del MCO es `encontrar un estimador que reduzca la distancia residual entre los valores predichos y sus correlatos observados`.\n",
    "\n",
    "Bajo este enfoque, se asume que los parámetros verdaderos (o poblacionales) son desconocidos y buscamos generar aproximaciones.\n",
    "\n",
    "Si tenemos un modelo con la siguiente forma:\n",
    "\n",
    "$$ Y_i = \\beta_0 + \\beta_1 X_i + \\varepsilon_i $$\n",
    "\n",
    "Buscamos un estimador que minimice la suma de errores cuadráticos:\n",
    "\n",
    "<center><img src=\"https://i.postimg.cc/02jj7Cpw/dl35.png\"></center>\n",
    "\n",
    "`Observación`: **MCO** es un método intuitivo y fácil de entender y programar, sin embargo, está lejos de ser perfecto, una de las más grandes debilidades de **MCO** es que es extremadamente sensible a valores extremos (outliers), ya sea porque los puntos (**xi , yi**) son muy pequeños o demasiado grandes en comparación con el resto de la muestra, en estos casos el cuadrado de la distancia es una cantidad que puede llevar a desequilibrar por completo la recta de la regresión, los casos en que estos outliers son producto del error humano o de instrumentación pueden ser fatales para el modelo.\n",
    "\n",
    "En la figura generada con `gfx.gauss_markov()` se presentan tres posibles estimadores candidatos para encontrar nuestro parámetro verdadero (`β`). Éstos difieren en sus componentes paramétricos, asumiendo que se comportan de forma asintóticamente normal\n",
    "\n",
    "$$ \\widehat{\\beta_j} \\sim N () $$\n",
    "\n",
    "-\tNuestra primera estimación `β1` tiene una media similar a nuestro parámetro verdadero, pero su varianza es grande.\n",
    "\n",
    "-\tNuestra segunda estimación `β2` tiene una media superior al parámetro verdadero y una varianza similar a la primera estimación.\n",
    "\n",
    "-\tNuestra tercera y última estimación `β3` tiene una media idéntica a la primera estimación, pero una menor varianza \n",
    " \n",
    "-\tEn este caso, la estimación `β2` falla en capturar el parámetro poblacional, por lo que es descartada \n",
    " \n",
    "-\tEntre la estimación `β1` y `β3` , ésta última satisface las condiciones de Gauss-Markov, dado que su varianza es menor y asegura que error tendrá una media menor.\n",
    "-\tEl cumplimiento de las condiciones de Gauss Markov nos asegurará que el estimador será el estimador lineal insesgado y óptimo, obteniendo el estimador eficiente dentro de la clase de estimadores lineales insesgados.\n",
    "\n"
   ]
  },
  {
   "cell_type": "code",
   "execution_count": 51,
   "metadata": {},
   "outputs": [
    {
     "data": {
      "image/png": "[encoded data removed]",
      "text/plain": [
       "<Figure size 600x400 with 1 Axes>"
      ]
     },
     "metadata": {},
     "output_type": "display_data"
    }
   ],
   "source": [
    "gfx.gauss_markov()"
   ]
  },
  {
   "cell_type": "markdown",
   "metadata": {},
   "source": [
    "##### **6 - ¿Cuáles son las condiciones de Gauss-Markov?**"
   ]
  },
  {
   "cell_type": "markdown",
   "metadata": {},
   "source": [
    "El teorema de Gauss-Markov descansa en cinco supuestos:\n",
    "\n",
    "1.\t**La media del error es 0** `(E[εi] = 0)`: No hay sesgo sistemático de forma positiva o negativa respecto a los errores muestrales. Su media será 0 para estos casos. Surge de este supuesto que cuando X es igual a su media, Y también lo será.\n",
    " \n",
    "2.\t**Independencia del error y las variables explicativas** `(E[εi|Xi] = 0)`: Los residuos no están determinados por la variable explicativa.\n",
    "\n",
    "3.\t**Ausencia de correlación entre los residuos** `(E[εi|εj] = 0(i =/ j))`: Los residuos de las observaciones distintas deben ser estadísticamente independientes. La información del residuo para uno caso no debe afectar el signo o valor de los residuos para otros casos. Ante los casos de correlación existente entre los residuos, hablamos de correlación serial o correlación espacial.\n",
    "\n",
    "4.\t**Ausencia de correlación entre la varianza y las variables** (`E[εi 2] = constante`): La varianza de los errores en cualquier valor de X debe ser independiente a X e Y .\n",
    "\n",
    "5.\t**Distribución normal de los errores** `(εi ~ N(0, σ2))`: Se asume que los errores deben tener una distribución empírica cercana a la normal para todo el rango de X \n"
   ]
  },
  {
   "cell_type": "markdown",
   "metadata": {},
   "source": [
    "##### **7 - Digresión: ¿Qué supuestos son los más relevantes?**"
   ]
  },
  {
   "cell_type": "markdown",
   "metadata": {},
   "source": [
    "Gelman y Hill (2007) sugieren que los supuestos se pueden ordenar de más importantes a menos importantes.\n",
    "\n",
    "1.\t`Validez`: Los datos que analizamos deben estar relacionados con la pregunta de investigación que se busca responder. Suena obvio, pero muchas veces se obvia.\n",
    "\n",
    "2.\t`Aditividad y Linealidad`: El supuesto más importante desde la matemática es que el componente determinístico (la ecuación) es una función lineal de los predictores.\n",
    "\n",
    "3.\t`Independencia de los errores`: Los errores deben estar libres de correlaciones entre sí mismos y no deben afectar a las demás mediciones.\n",
    "\n",
    "4.\t`Normalidad de los errores`: Generalmente no es problemático el tener distribuciones no-normales, puesto que se pueden aplicar transformaciones como log(x) , √x , 1/x\n"
   ]
  },
  {
   "cell_type": "markdown",
   "metadata": {},
   "source": [
    "##### **8 - Diagnósticos de nuestro modelo**"
   ]
  },
  {
   "cell_type": "markdown",
   "metadata": {},
   "source": [
    "Para comprobar los supuestos Gauss-Markov mencionados arriba, la inspección más intuitiva es mediante gráficos.\n",
    "\n",
    "`statsmodels` presenta `plot_regress_exog`, que entrega cuatro gráficos respecto a nuestro modelo de regresión:\n",
    "\n",
    "1.\t`Y and Fitted vs. X`: Grafica los valores predichos (y) y valores empíricos a lo largo de X. Sirve para visualizar en qué valores de X se genera una mejor predicción de los valores empíricos. Observamos que hay valores que se escapan sustancialmente de lo predicho cuando la altura es cercana a las 70 pulgadas.\n",
    "\n",
    "2.\t`Residuals versus X`: Permite visualizar la heterocedasticidad del modelo al graficar el error residual (εi) a lo largo de nuestra variable exógena. Si encontramos una tendencia lineal en la nube de datos. En base al gráfico observamos un patrón de embudo, donde en la medida que aumenta la altura los errores tienden a variar más. Podemos decir que el predictor es heterocedástico en el modelo y necesitamos corregir.\n",
    "\n",
    "3.\t`Partial regression plot`: Grafica la evolución de la expectativa de la variable dependiente condicional a los valores de la variable independiente estandarizada.\n",
    "\n",
    "4.\t`CCPR Plot (Component and Component Plus Residual)`: Generan un gráfico entre el componente (X) y los residuales de predicción. Permiten diagnosticar espeficicaciones a la variable."
   ]
  },
  {
   "cell_type": "code",
   "execution_count": 52,
   "metadata": {},
   "outputs": [
    {
     "data": {
      "image/png": "[encoded data removed]",
      "text/plain": [
       "<Figure size 600x400 with 4 Axes>"
      ]
     },
     "execution_count": 52,
     "metadata": {},
     "output_type": "execute_result"
    },
    {
     "data": {
      "image/png": "[encoded data removed]",
      "text/plain": [
       "<Figure size 600x400 with 4 Axes>"
      ]
     },
     "metadata": {},
     "output_type": "display_data"
    }
   ],
   "source": [
    "sm.graphics.plot_regress_exog(model1, 'height')"
   ]
  },
  {
   "cell_type": "markdown",
   "metadata": {},
   "source": [
    "### **`Variables independientes binarias y sus amigas`**"
   ]
  },
  {
   "cell_type": "markdown",
   "metadata": {},
   "source": [
    "#### **1 - Introducción**"
   ]
  },
  {
   "cell_type": "markdown",
   "metadata": {},
   "source": [
    "Los supuestos de Gauss Markov de la regresión hacen referencia a los errores y estamos limitados por la naturaleza contínua de la variable dependiente a analizar. Podemos flexibilizar nuestro modelo al incluir distintas operacionalizaciones de las variables independientes."
   ]
  },
  {
   "cell_type": "markdown",
   "metadata": {},
   "source": [
    "#### **2 - Regresión con una variable binaria**"
   ]
  },
  {
   "cell_type": "markdown",
   "metadata": {},
   "source": [
    "Ahora ejecutaremos una regresión donde nuestra variable independiente toma dos valores: 1 para hombres y 0 para mujeres. Ésta variable se conoce como binaria y permite identificar atributos simples en una muestra.\n",
    "\n",
    "Deseamos ver el efecto que tiene el ser hombre en el salario. Nuestro modelo queda de la siguiente forma:\n",
    "\n",
    "$$ earn_i = \\beta_0 + \\gamma_1 \\, \\times \\text{male} + \\varepsilon_i $$\n",
    " \n",
    "Donde `β0` es nuestro parámetro estimado para el intercepto e `γ1` es el parámetro estimado para la diferencia entre hombres y mujeres en ingreso. \n",
    "\n",
    "Cabe destacar que este modelo es el equivalente a una prueba de hipótesis entre 2 muestras independientes.\n",
    "\n",
    "Si solicitamos un gráfico de cajas entre ambas variables, observamos que el rango del salario para los hombres es mucho mayor que el de las mujeres y la mediana se sitúa en salarios más altos."
   ]
  },
  {
   "cell_type": "code",
   "execution_count": 53,
   "metadata": {},
   "outputs": [
    {
     "data": {
      "text/plain": [
       "19125.0"
      ]
     },
     "execution_count": 53,
     "metadata": {},
     "output_type": "execute_result"
    }
   ],
   "source": [
    "df.loc[df['male'] == 0 ]['earn'].quantile(.75) - df.loc[df['male'] == 0]['earn'].quantile(.25)"
   ]
  },
  {
   "cell_type": "code",
   "execution_count": 54,
   "metadata": {},
   "outputs": [
    {
     "data": {
      "text/plain": [
       "<AxesSubplot:xlabel='male', ylabel='earn'>"
      ]
     },
     "execution_count": 54,
     "metadata": {},
     "output_type": "execute_result"
    },
    {
     "data": {
      "image/png": "[encoded data removed]",
      "text/plain": [
       "<Figure size 600x400 with 1 Axes>"
      ]
     },
     "metadata": {},
     "output_type": "display_data"
    }
   ],
   "source": [
    "sns.boxplot(x=df['male'], y=df['earn'])"
   ]
  },
  {
   "cell_type": "markdown",
   "metadata": {},
   "source": [
    "#### **3 - Digresión: Sobre las variables binarias**"
   ]
  },
  {
   "cell_type": "markdown",
   "metadata": {},
   "source": [
    "En muchas ocasiones nuestro interés es estimar el efecto de un atributo binario (donde 1 indica la presencia de éste y 0 la ausencia) en nuestra variable objetivo. La convención es siempre como 0 aquella característica más común, dado que podemos capturar el comportamiento más común mediante el intercepto.\n",
    "\n",
    "Si ejecutamos el modelo con una variable binaria de forma `'earn ~ male'`, observamos que el sexo del individuo explica en un 12.4% la variabilidad en el salario de la muestra (esto al ver el R-squared reportado). El intercepto sugiere que para las mujeres el salario promedio es de 14,560 dólares, mientras que los hombres presentan una diferencia de 14,380 dólares más en promedio. Ambos coeficientes son significativos al 99%."
   ]
  },
  {
   "cell_type": "code",
   "execution_count": 55,
   "metadata": {},
   "outputs": [
    {
     "data": {
      "text/html": [
       "<table class=\"simpletable\">\n",
       "<caption>OLS Regression Results</caption>\n",
       "<tr>\n",
       "  <th>Dep. Variable:</th>          <td>earn</td>       <th>  R-squared:         </th> <td>   0.124</td> \n",
       "</tr>\n",
       "<tr>\n",
       "  <th>Model:</th>                   <td>OLS</td>       <th>  Adj. R-squared:    </th> <td>   0.124</td> \n",
       "</tr>\n",
       "<tr>\n",
       "  <th>Method:</th>             <td>Least Squares</td>  <th>  F-statistic:       </th> <td>   194.5</td> \n",
       "</tr>\n",
       "<tr>\n",
       "  <th>Date:</th>             <td>Wed, 27 Dec 2023</td> <th>  Prob (F-statistic):</th> <td>1.95e-41</td> \n",
       "</tr>\n",
       "<tr>\n",
       "  <th>Time:</th>                 <td>12:53:40</td>     <th>  Log-Likelihood:    </th> <td> -15450.</td> \n",
       "</tr>\n",
       "<tr>\n",
       "  <th>No. Observations:</th>      <td>  1374</td>      <th>  AIC:               </th> <td>3.090e+04</td>\n",
       "</tr>\n",
       "<tr>\n",
       "  <th>Df Residuals:</th>          <td>  1372</td>      <th>  BIC:               </th> <td>3.092e+04</td>\n",
       "</tr>\n",
       "<tr>\n",
       "  <th>Df Model:</th>              <td>     1</td>      <th>                     </th>     <td> </td>    \n",
       "</tr>\n",
       "<tr>\n",
       "  <th>Covariance Type:</th>      <td>nonrobust</td>    <th>                     </th>     <td> </td>    \n",
       "</tr>\n",
       "</table>\n",
       "<table class=\"simpletable\">\n",
       "<tr>\n",
       "      <td></td>         <th>coef</th>     <th>std err</th>      <th>t</th>      <th>P>|t|</th>  <th>[0.025</th>    <th>0.975]</th>  \n",
       "</tr>\n",
       "<tr>\n",
       "  <th>Intercept</th> <td> 1.456e+04</td> <td>  632.986</td> <td>   23.004</td> <td> 0.000</td> <td> 1.33e+04</td> <td> 1.58e+04</td>\n",
       "</tr>\n",
       "<tr>\n",
       "  <th>male</th>      <td> 1.438e+04</td> <td> 1030.915</td> <td>   13.946</td> <td> 0.000</td> <td> 1.24e+04</td> <td> 1.64e+04</td>\n",
       "</tr>\n",
       "</table>\n",
       "<table class=\"simpletable\">\n",
       "<tr>\n",
       "  <th>Omnibus:</th>       <td>864.521</td> <th>  Durbin-Watson:     </th> <td>   1.912</td> \n",
       "</tr>\n",
       "<tr>\n",
       "  <th>Prob(Omnibus):</th> <td> 0.000</td>  <th>  Jarque-Bera (JB):  </th> <td>13531.216</td>\n",
       "</tr>\n",
       "<tr>\n",
       "  <th>Skew:</th>          <td> 2.664</td>  <th>  Prob(JB):          </th> <td>    0.00</td> \n",
       "</tr>\n",
       "<tr>\n",
       "  <th>Kurtosis:</th>      <td>17.421</td>  <th>  Cond. No.          </th> <td>    2.43</td> \n",
       "</tr>\n",
       "</table><br/><br/>Notes:<br/>[1] Standard Errors assume that the covariance matrix of the errors is correctly specified."
      ],
      "text/latex": [
       "\\begin{center}\n",
       "\\begin{tabular}{lclc}\n",
       "\\toprule\n",
       "\\textbf{Dep. Variable:}    &       earn       & \\textbf{  R-squared:         } &     0.124   \\\\\n",
       "\\textbf{Model:}            &       OLS        & \\textbf{  Adj. R-squared:    } &     0.124   \\\\\n",
       "\\textbf{Method:}           &  Least Squares   & \\textbf{  F-statistic:       } &     194.5   \\\\\n",
       "\\textbf{Date:}             & Wed, 27 Dec 2023 & \\textbf{  Prob (F-statistic):} &  1.95e-41   \\\\\n",
       "\\textbf{Time:}             &     12:53:40     & \\textbf{  Log-Likelihood:    } &   -15450.   \\\\\n",
       "\\textbf{No. Observations:} &        1374      & \\textbf{  AIC:               } & 3.090e+04   \\\\\n",
       "\\textbf{Df Residuals:}     &        1372      & \\textbf{  BIC:               } & 3.092e+04   \\\\\n",
       "\\textbf{Df Model:}         &           1      & \\textbf{                     } &             \\\\\n",
       "\\textbf{Covariance Type:}  &    nonrobust     & \\textbf{                     } &             \\\\\n",
       "\\bottomrule\n",
       "\\end{tabular}\n",
       "\\begin{tabular}{lcccccc}\n",
       "                   & \\textbf{coef} & \\textbf{std err} & \\textbf{t} & \\textbf{P$> |$t$|$} & \\textbf{[0.025} & \\textbf{0.975]}  \\\\\n",
       "\\midrule\n",
       "\\textbf{Intercept} &    1.456e+04  &      632.986     &    23.004  &         0.000        &     1.33e+04    &     1.58e+04     \\\\\n",
       "\\textbf{male}      &    1.438e+04  &     1030.915     &    13.946  &         0.000        &     1.24e+04    &     1.64e+04     \\\\\n",
       "\\bottomrule\n",
       "\\end{tabular}\n",
       "\\begin{tabular}{lclc}\n",
       "\\textbf{Omnibus:}       & 864.521 & \\textbf{  Durbin-Watson:     } &     1.912  \\\\\n",
       "\\textbf{Prob(Omnibus):} &   0.000 & \\textbf{  Jarque-Bera (JB):  } & 13531.216  \\\\\n",
       "\\textbf{Skew:}          &   2.664 & \\textbf{  Prob(JB):          } &      0.00  \\\\\n",
       "\\textbf{Kurtosis:}      &  17.421 & \\textbf{  Cond. No.          } &      2.43  \\\\\n",
       "\\bottomrule\n",
       "\\end{tabular}\n",
       "%\\caption{OLS Regression Results}\n",
       "\\end{center}\n",
       "\n",
       "Notes: \\newline\n",
       " [1] Standard Errors assume that the covariance matrix of the errors is correctly specified."
      ],
      "text/plain": [
       "<class 'statsmodels.iolib.summary.Summary'>\n",
       "\"\"\"\n",
       "                            OLS Regression Results                            \n",
       "==============================================================================\n",
       "Dep. Variable:                   earn   R-squared:                       0.124\n",
       "Model:                            OLS   Adj. R-squared:                  0.124\n",
       "Method:                 Least Squares   F-statistic:                     194.5\n",
       "Date:                Wed, 27 Dec 2023   Prob (F-statistic):           1.95e-41\n",
       "Time:                        12:53:40   Log-Likelihood:                -15450.\n",
       "No. Observations:                1374   AIC:                         3.090e+04\n",
       "Df Residuals:                    1372   BIC:                         3.092e+04\n",
       "Df Model:                           1                                         \n",
       "Covariance Type:            nonrobust                                         \n",
       "==============================================================================\n",
       "                 coef    std err          t      P>|t|      [0.025      0.975]\n",
       "------------------------------------------------------------------------------\n",
       "Intercept   1.456e+04    632.986     23.004      0.000    1.33e+04    1.58e+04\n",
       "male        1.438e+04   1030.915     13.946      0.000    1.24e+04    1.64e+04\n",
       "==============================================================================\n",
       "Omnibus:                      864.521   Durbin-Watson:                   1.912\n",
       "Prob(Omnibus):                  0.000   Jarque-Bera (JB):            13531.216\n",
       "Skew:                           2.664   Prob(JB):                         0.00\n",
       "Kurtosis:                      17.421   Cond. No.                         2.43\n",
       "==============================================================================\n",
       "\n",
       "Notes:\n",
       "[1] Standard Errors assume that the covariance matrix of the errors is correctly specified.\n",
       "\"\"\""
      ]
     },
     "execution_count": 55,
     "metadata": {},
     "output_type": "execute_result"
    }
   ],
   "source": [
    "model_dummy = smf.ols('earn ~ male', data = df).fit() \n",
    "model_dummy.summary()"
   ]
  },
  {
   "cell_type": "markdown",
   "metadata": {},
   "source": [
    "#### **4 - Regresión con una variable polinomial**"
   ]
  },
  {
   "cell_type": "markdown",
   "metadata": {},
   "source": [
    "Otro aspecto que podemos mejorar cuando incluimos variables es considerar `no linealidades en las variables independientes`. Consideremos el caso donde incluímos la edad del individuo al modelo, que quedaría de la siguiente manera:\n",
    "\n",
    "$$ earn_i = \\beta_0 + \\beta_1 \\, \\times \\text{age} + \\varepsilon_i $$\n",
    "\n",
    "Resulta que podemos pensar que los individuos con mayor edad tienden a percibir menores niveles de ingreso, dado que tienen menor poder de negociación y están más cerca de la jubilación. Para ello podemos incluir un término cuadrático para considerar el hecho que el salario puede bajar en función de la edad. Nuestro modelo quedaría así:\n",
    "\n",
    "$$ earn_i = \\beta_0 + \\beta_1 \\, \\times \\text{age} + \\beta_2 \\, \\times \\text{age}^2 + \\varepsilon_i $$\n",
    "\n",
    "Primero visualicemos la recta con sns.regplot:"
   ]
  },
  {
   "cell_type": "code",
   "execution_count": 57,
   "metadata": {},
   "outputs": [
    {
     "data": {
      "image/png": "[encoded data removed]",
      "text/plain": [
       "<Figure size 600x400 with 1 Axes>"
      ]
     },
     "metadata": {},
     "output_type": "display_data"
    }
   ],
   "source": [
    "# generamos un scatterplot entre age y earn \n",
    "sns.regplot(x=df['age'], y=df['earn'],\n",
    "# donde definimos que estimaremos una recta con dos grados polinomiales\n",
    "order=2,\n",
    "# y declaramos el color de la recta para diferenciar. \n",
    "line_kws={'color':'tomato'});"
   ]
  },
  {
   "cell_type": "markdown",
   "metadata": {},
   "source": [
    "Se aprecia que la recta indica una parábola negativa: esperamos un peak en el salario percibido cuando los individuos están cerca a los 50 años de edad, declinando después de esa edad.\n",
    "\n",
    "Ahora generemos el modelo:"
   ]
  },
  {
   "cell_type": "code",
   "execution_count": 58,
   "metadata": {},
   "outputs": [
    {
     "data": {
      "text/html": [
       "<table class=\"simpletable\">\n",
       "<caption>OLS Regression Results</caption>\n",
       "<tr>\n",
       "  <th>Dep. Variable:</th>          <td>earn</td>       <th>  R-squared:         </th> <td>   0.057</td> \n",
       "</tr>\n",
       "<tr>\n",
       "  <th>Model:</th>                   <td>OLS</td>       <th>  Adj. R-squared:    </th> <td>   0.055</td> \n",
       "</tr>\n",
       "<tr>\n",
       "  <th>Method:</th>             <td>Least Squares</td>  <th>  F-statistic:       </th> <td>   41.06</td> \n",
       "</tr>\n",
       "<tr>\n",
       "  <th>Date:</th>             <td>Wed, 27 Dec 2023</td> <th>  Prob (F-statistic):</th> <td>4.80e-18</td> \n",
       "</tr>\n",
       "<tr>\n",
       "  <th>Time:</th>                 <td>13:14:24</td>     <th>  Log-Likelihood:    </th> <td> -15501.</td> \n",
       "</tr>\n",
       "<tr>\n",
       "  <th>No. Observations:</th>      <td>  1374</td>      <th>  AIC:               </th> <td>3.101e+04</td>\n",
       "</tr>\n",
       "<tr>\n",
       "  <th>Df Residuals:</th>          <td>  1371</td>      <th>  BIC:               </th> <td>3.102e+04</td>\n",
       "</tr>\n",
       "<tr>\n",
       "  <th>Df Model:</th>              <td>     2</td>      <th>                     </th>     <td> </td>    \n",
       "</tr>\n",
       "<tr>\n",
       "  <th>Covariance Type:</th>      <td>nonrobust</td>    <th>                     </th>     <td> </td>    \n",
       "</tr>\n",
       "</table>\n",
       "<table class=\"simpletable\">\n",
       "<tr>\n",
       "      <td></td>         <th>coef</th>     <th>std err</th>      <th>t</th>      <th>P>|t|</th>  <th>[0.025</th>    <th>0.975]</th>  \n",
       "</tr>\n",
       "<tr>\n",
       "  <th>Intercept</th> <td>-1.566e+04</td> <td> 3975.144</td> <td>   -3.940</td> <td> 0.000</td> <td>-2.35e+04</td> <td>-7863.055</td>\n",
       "</tr>\n",
       "<tr>\n",
       "  <th>age</th>       <td> 1664.1728</td> <td>  184.765</td> <td>    9.007</td> <td> 0.000</td> <td> 1301.719</td> <td> 2026.626</td>\n",
       "</tr>\n",
       "<tr>\n",
       "  <th>age_sq</th>    <td>  -16.9734</td> <td>    1.956</td> <td>   -8.678</td> <td> 0.000</td> <td>  -20.810</td> <td>  -13.137</td>\n",
       "</tr>\n",
       "</table>\n",
       "<table class=\"simpletable\">\n",
       "<tr>\n",
       "  <th>Omnibus:</th>       <td>843.307</td> <th>  Durbin-Watson:     </th> <td>   1.956</td> \n",
       "</tr>\n",
       "<tr>\n",
       "  <th>Prob(Omnibus):</th> <td> 0.000</td>  <th>  Jarque-Bera (JB):  </th> <td>12732.413</td>\n",
       "</tr>\n",
       "<tr>\n",
       "  <th>Skew:</th>          <td> 2.585</td>  <th>  Prob(JB):          </th> <td>    0.00</td> \n",
       "</tr>\n",
       "<tr>\n",
       "  <th>Kurtosis:</th>      <td>16.988</td>  <th>  Cond. No.          </th> <td>1.86e+04</td> \n",
       "</tr>\n",
       "</table><br/><br/>Notes:<br/>[1] Standard Errors assume that the covariance matrix of the errors is correctly specified.<br/>[2] The condition number is large, 1.86e+04. This might indicate that there are<br/>strong multicollinearity or other numerical problems."
      ],
      "text/latex": [
       "\\begin{center}\n",
       "\\begin{tabular}{lclc}\n",
       "\\toprule\n",
       "\\textbf{Dep. Variable:}    &       earn       & \\textbf{  R-squared:         } &     0.057   \\\\\n",
       "\\textbf{Model:}            &       OLS        & \\textbf{  Adj. R-squared:    } &     0.055   \\\\\n",
       "\\textbf{Method:}           &  Least Squares   & \\textbf{  F-statistic:       } &     41.06   \\\\\n",
       "\\textbf{Date:}             & Wed, 27 Dec 2023 & \\textbf{  Prob (F-statistic):} &  4.80e-18   \\\\\n",
       "\\textbf{Time:}             &     13:14:24     & \\textbf{  Log-Likelihood:    } &   -15501.   \\\\\n",
       "\\textbf{No. Observations:} &        1374      & \\textbf{  AIC:               } & 3.101e+04   \\\\\n",
       "\\textbf{Df Residuals:}     &        1371      & \\textbf{  BIC:               } & 3.102e+04   \\\\\n",
       "\\textbf{Df Model:}         &           2      & \\textbf{                     } &             \\\\\n",
       "\\textbf{Covariance Type:}  &    nonrobust     & \\textbf{                     } &             \\\\\n",
       "\\bottomrule\n",
       "\\end{tabular}\n",
       "\\begin{tabular}{lcccccc}\n",
       "                   & \\textbf{coef} & \\textbf{std err} & \\textbf{t} & \\textbf{P$> |$t$|$} & \\textbf{[0.025} & \\textbf{0.975]}  \\\\\n",
       "\\midrule\n",
       "\\textbf{Intercept} &   -1.566e+04  &     3975.144     &    -3.940  &         0.000        &    -2.35e+04    &    -7863.055     \\\\\n",
       "\\textbf{age}       &    1664.1728  &      184.765     &     9.007  &         0.000        &     1301.719    &     2026.626     \\\\\n",
       "\\textbf{age\\_sq}   &     -16.9734  &        1.956     &    -8.678  &         0.000        &      -20.810    &      -13.137     \\\\\n",
       "\\bottomrule\n",
       "\\end{tabular}\n",
       "\\begin{tabular}{lclc}\n",
       "\\textbf{Omnibus:}       & 843.307 & \\textbf{  Durbin-Watson:     } &     1.956  \\\\\n",
       "\\textbf{Prob(Omnibus):} &   0.000 & \\textbf{  Jarque-Bera (JB):  } & 12732.413  \\\\\n",
       "\\textbf{Skew:}          &   2.585 & \\textbf{  Prob(JB):          } &      0.00  \\\\\n",
       "\\textbf{Kurtosis:}      &  16.988 & \\textbf{  Cond. No.          } &  1.86e+04  \\\\\n",
       "\\bottomrule\n",
       "\\end{tabular}\n",
       "%\\caption{OLS Regression Results}\n",
       "\\end{center}\n",
       "\n",
       "Notes: \\newline\n",
       " [1] Standard Errors assume that the covariance matrix of the errors is correctly specified. \\newline\n",
       " [2] The condition number is large, 1.86e+04. This might indicate that there are \\newline\n",
       " strong multicollinearity or other numerical problems."
      ],
      "text/plain": [
       "<class 'statsmodels.iolib.summary.Summary'>\n",
       "\"\"\"\n",
       "                            OLS Regression Results                            \n",
       "==============================================================================\n",
       "Dep. Variable:                   earn   R-squared:                       0.057\n",
       "Model:                            OLS   Adj. R-squared:                  0.055\n",
       "Method:                 Least Squares   F-statistic:                     41.06\n",
       "Date:                Wed, 27 Dec 2023   Prob (F-statistic):           4.80e-18\n",
       "Time:                        13:14:24   Log-Likelihood:                -15501.\n",
       "No. Observations:                1374   AIC:                         3.101e+04\n",
       "Df Residuals:                    1371   BIC:                         3.102e+04\n",
       "Df Model:                           2                                         \n",
       "Covariance Type:            nonrobust                                         \n",
       "==============================================================================\n",
       "                 coef    std err          t      P>|t|      [0.025      0.975]\n",
       "------------------------------------------------------------------------------\n",
       "Intercept  -1.566e+04   3975.144     -3.940      0.000   -2.35e+04   -7863.055\n",
       "age         1664.1728    184.765      9.007      0.000    1301.719    2026.626\n",
       "age_sq       -16.9734      1.956     -8.678      0.000     -20.810     -13.137\n",
       "==============================================================================\n",
       "Omnibus:                      843.307   Durbin-Watson:                   1.956\n",
       "Prob(Omnibus):                  0.000   Jarque-Bera (JB):            12732.413\n",
       "Skew:                           2.585   Prob(JB):                         0.00\n",
       "Kurtosis:                      16.988   Cond. No.                     1.86e+04\n",
       "==============================================================================\n",
       "\n",
       "Notes:\n",
       "[1] Standard Errors assume that the covariance matrix of the errors is correctly specified.\n",
       "[2] The condition number is large, 1.86e+04. This might indicate that there are\n",
       "strong multicollinearity or other numerical problems.\n",
       "\"\"\""
      ]
     },
     "execution_count": 58,
     "metadata": {},
     "output_type": "execute_result"
    }
   ],
   "source": [
    "# generamos una nueva columna que guarde los resultados de elevar al cuadrado la edad\n",
    "df['age_sq'] = df['age'] ** 2\n",
    "# iniciamos el modelo incluyendo ambos términos \n",
    "model3= smf.ols('earn ~ age + age_sq', data=df).fit() \n",
    "# pedimos los resultados\n",
    "model3.summary()"
   ]
  },
  {
   "cell_type": "markdown",
   "metadata": {},
   "source": [
    "Para que la variable sea \"significativa\" al 95% de confianza se busca rechazar la Hipotesis nula, es decir, que la media de la variable sea igual a 0:\n",
    "\n",
    "$$ H_0 = 0 $$\n",
    "$$ H_1 \\neq 0 $$\n",
    "\n",
    "Entonces:\n",
    "\n",
    "- El estadistico `t` debe ser mayor a 1.96 ó\n",
    "- El P valor debe ser menor a 0.05 (`P>|t|`) ó\n",
    "- El intervalo [`0.025  0.975`] no contenga el 0\n",
    "\n",
    "Puedo utilizar cualquiera de las 3, siempre van a coincidir"
   ]
  },
  {
   "cell_type": "code",
   "execution_count": 63,
   "metadata": {},
   "outputs": [
    {
     "data": {
      "text/html": [
       "<div>\n",
       "<style scoped>\n",
       "    .dataframe tbody tr th:only-of-type {\n",
       "        vertical-align: middle;\n",
       "    }\n",
       "\n",
       "    .dataframe tbody tr th {\n",
       "        vertical-align: top;\n",
       "    }\n",
       "\n",
       "    .dataframe thead th {\n",
       "        text-align: right;\n",
       "    }\n",
       "</style>\n",
       "<table border=\"1\" class=\"dataframe\">\n",
       "  <thead>\n",
       "    <tr style=\"text-align: right;\">\n",
       "      <th></th>\n",
       "      <th>0</th>\n",
       "      <th>1</th>\n",
       "      <th>2</th>\n",
       "      <th>3</th>\n",
       "      <th>4</th>\n",
       "      <th>5</th>\n",
       "      <th>6</th>\n",
       "    </tr>\n",
       "  </thead>\n",
       "  <tbody>\n",
       "    <tr>\n",
       "      <th>0</th>\n",
       "      <td></td>\n",
       "      <td>coef</td>\n",
       "      <td>std err</td>\n",
       "      <td>t</td>\n",
       "      <td>P&gt;|t|</td>\n",
       "      <td>[0.025</td>\n",
       "      <td>0.975]</td>\n",
       "    </tr>\n",
       "    <tr>\n",
       "      <th>1</th>\n",
       "      <td>Intercept</td>\n",
       "      <td>-1.566e+04</td>\n",
       "      <td>3975.144</td>\n",
       "      <td>-3.940</td>\n",
       "      <td>0.000</td>\n",
       "      <td>-2.35e+04</td>\n",
       "      <td>-7863.055</td>\n",
       "    </tr>\n",
       "    <tr>\n",
       "      <th>2</th>\n",
       "      <td>age</td>\n",
       "      <td>1664.1728</td>\n",
       "      <td>184.765</td>\n",
       "      <td>9.007</td>\n",
       "      <td>0.000</td>\n",
       "      <td>1301.719</td>\n",
       "      <td>2026.626</td>\n",
       "    </tr>\n",
       "    <tr>\n",
       "      <th>3</th>\n",
       "      <td>age_sq</td>\n",
       "      <td>-16.9734</td>\n",
       "      <td>1.956</td>\n",
       "      <td>-8.678</td>\n",
       "      <td>0.000</td>\n",
       "      <td>-20.810</td>\n",
       "      <td>-13.137</td>\n",
       "    </tr>\n",
       "  </tbody>\n",
       "</table>\n",
       "</div>"
      ],
      "text/plain": [
       "           0           1          2          3       4          5          6\n",
       "0                   coef    std err          t   P>|t|     [0.025     0.975]\n",
       "1  Intercept  -1.566e+04   3975.144     -3.940   0.000  -2.35e+04  -7863.055\n",
       "2        age   1664.1728    184.765      9.007   0.000   1301.719   2026.626\n",
       "3     age_sq    -16.9734      1.956     -8.678   0.000    -20.810    -13.137"
      ]
     },
     "execution_count": 63,
     "metadata": {},
     "output_type": "execute_result"
    }
   ],
   "source": [
    "pd.DataFrame(model3.summary().tables[1].data)"
   ]
  },
  {
   "cell_type": "markdown",
   "metadata": {},
   "source": [
    "El modelo presenta observaciones similares a las del gráfico, mientras que el primer término indica que hay una diferencia de 1.664 dólares entre dos individuos que difieren en 1 año; el segundo término indica una penalización de 16 dólares entre dos individuos que difieren en un año de edad cuando superan la cúspide de ingresos."
   ]
  },
  {
   "cell_type": "markdown",
   "metadata": {},
   "source": [
    "#### **5 - Regresión con más de una variable independiente**"
   ]
  },
  {
   "cell_type": "markdown",
   "metadata": {},
   "source": [
    "El modelo de regresión se puede expandir en la cantidad de variables independientes a incluir en la ecuación, dando pie a una regresión `lineal múltiple`. Agregar variables responde a variados objetivos:\n",
    "\n",
    "-\tPara mejorar nuestra capacidad descriptiva de un modelo y mejorar nuestro entendimiento de las relaciones presentes entre los datos.\n",
    "-\tPara mejorar nuestra capacidad predictiva en la medida que incluímos más información.\n",
    "-\tPara considerar de forma explícita problemas causales como las variables intervinientes y controlar por mecanismos alternativas.\n",
    "\n",
    "Vamos a generar una regresión con la siguiente forma:\n",
    "\n",
    "$$ earn_i = \\beta_0 + \\beta_1 \\, \\times \\text{ed} + \\gamma_2 \\, \\times \\text{male=1} + \\varepsilon_i $$\n",
    "\n",
    "donde modelamos el efecto que tiene la educación y el sexo del individuo en cuánto salario percibe. Para incluir más de un regresor en nuestra sintáxis de statsmodels, procedemos de la siguiente manera: `'variabledependiente ~ varindp1 + varindp2'`."
   ]
  },
  {
   "cell_type": "code",
   "execution_count": 59,
   "metadata": {},
   "outputs": [
    {
     "data": {
      "text/html": [
       "<table class=\"simpletable\">\n",
       "<caption>OLS Regression Results</caption>\n",
       "<tr>\n",
       "  <th>Dep. Variable:</th>          <td>earn</td>       <th>  R-squared:         </th> <td>   0.231</td> \n",
       "</tr>\n",
       "<tr>\n",
       "  <th>Model:</th>                   <td>OLS</td>       <th>  Adj. R-squared:    </th> <td>   0.230</td> \n",
       "</tr>\n",
       "<tr>\n",
       "  <th>Method:</th>             <td>Least Squares</td>  <th>  F-statistic:       </th> <td>   206.4</td> \n",
       "</tr>\n",
       "<tr>\n",
       "  <th>Date:</th>             <td>Wed, 27 Dec 2023</td> <th>  Prob (F-statistic):</th> <td>4.42e-79</td> \n",
       "</tr>\n",
       "<tr>\n",
       "  <th>Time:</th>                 <td>13:31:43</td>     <th>  Log-Likelihood:    </th> <td> -15361.</td> \n",
       "</tr>\n",
       "<tr>\n",
       "  <th>No. Observations:</th>      <td>  1374</td>      <th>  AIC:               </th> <td>3.073e+04</td>\n",
       "</tr>\n",
       "<tr>\n",
       "  <th>Df Residuals:</th>          <td>  1371</td>      <th>  BIC:               </th> <td>3.074e+04</td>\n",
       "</tr>\n",
       "<tr>\n",
       "  <th>Df Model:</th>              <td>     2</td>      <th>                     </th>     <td> </td>    \n",
       "</tr>\n",
       "<tr>\n",
       "  <th>Covariance Type:</th>      <td>nonrobust</td>    <th>                     </th>     <td> </td>    \n",
       "</tr>\n",
       "</table>\n",
       "<table class=\"simpletable\">\n",
       "<tr>\n",
       "      <td></td>         <th>coef</th>     <th>std err</th>      <th>t</th>      <th>P>|t|</th>  <th>[0.025</th>    <th>0.975]</th>  \n",
       "</tr>\n",
       "<tr>\n",
       "  <th>Intercept</th> <td>-2.064e+04</td> <td> 2613.174</td> <td>   -7.898</td> <td> 0.000</td> <td>-2.58e+04</td> <td>-1.55e+04</td>\n",
       "</tr>\n",
       "<tr>\n",
       "  <th>ed</th>        <td> 2660.1759</td> <td>  192.327</td> <td>   13.832</td> <td> 0.000</td> <td> 2282.889</td> <td> 3037.462</td>\n",
       "</tr>\n",
       "<tr>\n",
       "  <th>male</th>      <td> 1.352e+04</td> <td>  968.064</td> <td>   13.968</td> <td> 0.000</td> <td> 1.16e+04</td> <td> 1.54e+04</td>\n",
       "</tr>\n",
       "</table>\n",
       "<table class=\"simpletable\">\n",
       "<tr>\n",
       "  <th>Omnibus:</th>       <td>829.868</td> <th>  Durbin-Watson:     </th> <td>   1.943</td> \n",
       "</tr>\n",
       "<tr>\n",
       "  <th>Prob(Omnibus):</th> <td> 0.000</td>  <th>  Jarque-Bera (JB):  </th> <td>12917.525</td>\n",
       "</tr>\n",
       "<tr>\n",
       "  <th>Skew:</th>          <td> 2.515</td>  <th>  Prob(JB):          </th> <td>    0.00</td> \n",
       "</tr>\n",
       "<tr>\n",
       "  <th>Kurtosis:</th>      <td>17.154</td>  <th>  Cond. No.          </th> <td>    76.2</td> \n",
       "</tr>\n",
       "</table><br/><br/>Notes:<br/>[1] Standard Errors assume that the covariance matrix of the errors is correctly specified."
      ],
      "text/latex": [
       "\\begin{center}\n",
       "\\begin{tabular}{lclc}\n",
       "\\toprule\n",
       "\\textbf{Dep. Variable:}    &       earn       & \\textbf{  R-squared:         } &     0.231   \\\\\n",
       "\\textbf{Model:}            &       OLS        & \\textbf{  Adj. R-squared:    } &     0.230   \\\\\n",
       "\\textbf{Method:}           &  Least Squares   & \\textbf{  F-statistic:       } &     206.4   \\\\\n",
       "\\textbf{Date:}             & Wed, 27 Dec 2023 & \\textbf{  Prob (F-statistic):} &  4.42e-79   \\\\\n",
       "\\textbf{Time:}             &     13:31:43     & \\textbf{  Log-Likelihood:    } &   -15361.   \\\\\n",
       "\\textbf{No. Observations:} &        1374      & \\textbf{  AIC:               } & 3.073e+04   \\\\\n",
       "\\textbf{Df Residuals:}     &        1371      & \\textbf{  BIC:               } & 3.074e+04   \\\\\n",
       "\\textbf{Df Model:}         &           2      & \\textbf{                     } &             \\\\\n",
       "\\textbf{Covariance Type:}  &    nonrobust     & \\textbf{                     } &             \\\\\n",
       "\\bottomrule\n",
       "\\end{tabular}\n",
       "\\begin{tabular}{lcccccc}\n",
       "                   & \\textbf{coef} & \\textbf{std err} & \\textbf{t} & \\textbf{P$> |$t$|$} & \\textbf{[0.025} & \\textbf{0.975]}  \\\\\n",
       "\\midrule\n",
       "\\textbf{Intercept} &   -2.064e+04  &     2613.174     &    -7.898  &         0.000        &    -2.58e+04    &    -1.55e+04     \\\\\n",
       "\\textbf{ed}        &    2660.1759  &      192.327     &    13.832  &         0.000        &     2282.889    &     3037.462     \\\\\n",
       "\\textbf{male}      &    1.352e+04  &      968.064     &    13.968  &         0.000        &     1.16e+04    &     1.54e+04     \\\\\n",
       "\\bottomrule\n",
       "\\end{tabular}\n",
       "\\begin{tabular}{lclc}\n",
       "\\textbf{Omnibus:}       & 829.868 & \\textbf{  Durbin-Watson:     } &     1.943  \\\\\n",
       "\\textbf{Prob(Omnibus):} &   0.000 & \\textbf{  Jarque-Bera (JB):  } & 12917.525  \\\\\n",
       "\\textbf{Skew:}          &   2.515 & \\textbf{  Prob(JB):          } &      0.00  \\\\\n",
       "\\textbf{Kurtosis:}      &  17.154 & \\textbf{  Cond. No.          } &      76.2  \\\\\n",
       "\\bottomrule\n",
       "\\end{tabular}\n",
       "%\\caption{OLS Regression Results}\n",
       "\\end{center}\n",
       "\n",
       "Notes: \\newline\n",
       " [1] Standard Errors assume that the covariance matrix of the errors is correctly specified."
      ],
      "text/plain": [
       "<class 'statsmodels.iolib.summary.Summary'>\n",
       "\"\"\"\n",
       "                            OLS Regression Results                            \n",
       "==============================================================================\n",
       "Dep. Variable:                   earn   R-squared:                       0.231\n",
       "Model:                            OLS   Adj. R-squared:                  0.230\n",
       "Method:                 Least Squares   F-statistic:                     206.4\n",
       "Date:                Wed, 27 Dec 2023   Prob (F-statistic):           4.42e-79\n",
       "Time:                        13:31:43   Log-Likelihood:                -15361.\n",
       "No. Observations:                1374   AIC:                         3.073e+04\n",
       "Df Residuals:                    1371   BIC:                         3.074e+04\n",
       "Df Model:                           2                                         \n",
       "Covariance Type:            nonrobust                                         \n",
       "==============================================================================\n",
       "                 coef    std err          t      P>|t|      [0.025      0.975]\n",
       "------------------------------------------------------------------------------\n",
       "Intercept  -2.064e+04   2613.174     -7.898      0.000   -2.58e+04   -1.55e+04\n",
       "ed          2660.1759    192.327     13.832      0.000    2282.889    3037.462\n",
       "male        1.352e+04    968.064     13.968      0.000    1.16e+04    1.54e+04\n",
       "==============================================================================\n",
       "Omnibus:                      829.868   Durbin-Watson:                   1.943\n",
       "Prob(Omnibus):                  0.000   Jarque-Bera (JB):            12917.525\n",
       "Skew:                           2.515   Prob(JB):                         0.00\n",
       "Kurtosis:                      17.154   Cond. No.                         76.2\n",
       "==============================================================================\n",
       "\n",
       "Notes:\n",
       "[1] Standard Errors assume that the covariance matrix of the errors is correctly specified.\n",
       "\"\"\""
      ]
     },
     "execution_count": 59,
     "metadata": {},
     "output_type": "execute_result"
    }
   ],
   "source": [
    "model2 = smf.ols('earn ~ ed + male', data=df) \n",
    "model2 = model2.fit()\n",
    "model2.summary()"
   ]
  },
  {
   "cell_type": "markdown",
   "metadata": {},
   "source": [
    "Para que la variable sea \"significativa\" al 95% de confianza se busca rechazar la Hipotesis nula, es decir, que la media de la variable sea igual a 0:\n",
    "\n",
    "$$ H_0 = 0 $$\n",
    "$$ H_1 \\neq 0 $$\n",
    "\n",
    "Entonces:\n",
    "\n",
    "- El estadistico `t` debe ser mayor a 1.96 ó\n",
    "- El P valor debe ser menor a 0.05 (`P>|t|`) ó\n",
    "- El intervalo [`0.025  0.975`] no contenga el 0\n",
    "\n",
    "Puedo utilizar cualquiera de las 3, siempre van a coincidir"
   ]
  },
  {
   "cell_type": "markdown",
   "metadata": {},
   "source": [
    "Para facilitar nuestro entendimiento respecto al modelo, debemos tener las siguientes consideraciones:\n",
    "\n",
    "-\tCada parámetro se interpreta de forma individual siguiendo el principio `ceteris paribus`: todas las demás variables consideradas en el modelo pero no interpretadas se asumen que se mantienen constantes en la media.\n",
    "-\tLa predicción de valores en nuestra variable dependiente se asume como la `suma de todos los coeficientes estimados del modelo`. Esto se conoce como la propiedad aditiva de la regresión lineal.\n",
    "\n",
    "En este caso nuestra regresión considera una variable continua y una variable binaria. Para este caso es útil separar nuestra ecuación detallada en dos posibles estimaciones:\n",
    "\n",
    "-\tUna `Ecuación para Hombres` donde se considera el parámetro estimado male:\n",
    "\n",
    "$$ earn_i = \\beta_0 + \\beta_1 \\, \\times \\text{ed} + \\gamma_2 \\, \\times \\text{male=1} + \\varepsilon_i $$\n",
    "\n",
    "-\tUna `Ecuación para Mujeres` donde la ausencia de atributo male implica que el parámetro estimado no se incluye en esa estimación:\n",
    "\n",
    "$$ earn_i = \\beta_0 + \\beta_1 \\, \\times \\text{ed} + \\gamma_2 \\, \\times \\text{male=0} + \\varepsilon_i \\implies earn_i = \\beta_0 + \\beta_1 \\, \\times \\text{ed} + \\varepsilon_i $$\n",
    "\n",
    "Siguiendo nuestro modelo, se aprecia que si bien la diferencia en los salarios entre dos personas con similares características pero que difieren en un año de educación es de 2660 dólares. De manera similar a nuestro modelo binario, la diferencia entre hombres y mujeres en los salarios es de 13520 dólares en promedio.\n",
    "\n",
    "Para entender de una manera más clara el impacto de male, generaremos un gráfico de líneas paralelas."
   ]
  },
  {
   "cell_type": "code",
   "execution_count": 60,
   "metadata": {},
   "outputs": [
    {
     "data": {
      "text/html": [
       "<div>\n",
       "<style scoped>\n",
       "    .dataframe tbody tr th:only-of-type {\n",
       "        vertical-align: middle;\n",
       "    }\n",
       "\n",
       "    .dataframe tbody tr th {\n",
       "        vertical-align: top;\n",
       "    }\n",
       "\n",
       "    .dataframe thead th {\n",
       "        text-align: right;\n",
       "    }\n",
       "</style>\n",
       "<table border=\"1\" class=\"dataframe\">\n",
       "  <thead>\n",
       "    <tr style=\"text-align: right;\">\n",
       "      <th></th>\n",
       "      <th>earn</th>\n",
       "      <th>height1</th>\n",
       "      <th>height2</th>\n",
       "      <th>sex</th>\n",
       "      <th>race</th>\n",
       "      <th>hisp</th>\n",
       "      <th>ed</th>\n",
       "      <th>yearbn</th>\n",
       "      <th>height</th>\n",
       "      <th>age</th>\n",
       "      <th>age_category</th>\n",
       "      <th>eth</th>\n",
       "      <th>male</th>\n",
       "      <th>age_sq</th>\n",
       "      <th>yhat</th>\n",
       "    </tr>\n",
       "  </thead>\n",
       "  <tbody>\n",
       "    <tr>\n",
       "      <th>3</th>\n",
       "      <td>50000.0</td>\n",
       "      <td>6</td>\n",
       "      <td>2</td>\n",
       "      <td>1</td>\n",
       "      <td>1</td>\n",
       "      <td>2</td>\n",
       "      <td>16</td>\n",
       "      <td>45</td>\n",
       "      <td>74</td>\n",
       "      <td>45</td>\n",
       "      <td>2</td>\n",
       "      <td>3</td>\n",
       "      <td>1</td>\n",
       "      <td>2025</td>\n",
       "      <td>35444.862717</td>\n",
       "    </tr>\n",
       "    <tr>\n",
       "      <th>4</th>\n",
       "      <td>60000.0</td>\n",
       "      <td>5</td>\n",
       "      <td>6</td>\n",
       "      <td>2</td>\n",
       "      <td>1</td>\n",
       "      <td>2</td>\n",
       "      <td>16</td>\n",
       "      <td>32</td>\n",
       "      <td>66</td>\n",
       "      <td>58</td>\n",
       "      <td>3</td>\n",
       "      <td>3</td>\n",
       "      <td>0</td>\n",
       "      <td>3364</td>\n",
       "      <td>21923.423771</td>\n",
       "    </tr>\n",
       "    <tr>\n",
       "      <th>5</th>\n",
       "      <td>30000.0</td>\n",
       "      <td>5</td>\n",
       "      <td>4</td>\n",
       "      <td>2</td>\n",
       "      <td>1</td>\n",
       "      <td>2</td>\n",
       "      <td>16</td>\n",
       "      <td>61</td>\n",
       "      <td>64</td>\n",
       "      <td>29</td>\n",
       "      <td>1</td>\n",
       "      <td>3</td>\n",
       "      <td>0</td>\n",
       "      <td>841</td>\n",
       "      <td>21923.423771</td>\n",
       "    </tr>\n",
       "    <tr>\n",
       "      <th>9</th>\n",
       "      <td>51000.0</td>\n",
       "      <td>5</td>\n",
       "      <td>3</td>\n",
       "      <td>2</td>\n",
       "      <td>1</td>\n",
       "      <td>2</td>\n",
       "      <td>17</td>\n",
       "      <td>51</td>\n",
       "      <td>63</td>\n",
       "      <td>39</td>\n",
       "      <td>2</td>\n",
       "      <td>3</td>\n",
       "      <td>0</td>\n",
       "      <td>1521</td>\n",
       "      <td>24583.599688</td>\n",
       "    </tr>\n",
       "    <tr>\n",
       "      <th>10</th>\n",
       "      <td>9000.0</td>\n",
       "      <td>5</td>\n",
       "      <td>4</td>\n",
       "      <td>2</td>\n",
       "      <td>1</td>\n",
       "      <td>2</td>\n",
       "      <td>15</td>\n",
       "      <td>64</td>\n",
       "      <td>64</td>\n",
       "      <td>26</td>\n",
       "      <td>1</td>\n",
       "      <td>3</td>\n",
       "      <td>0</td>\n",
       "      <td>676</td>\n",
       "      <td>19263.247854</td>\n",
       "    </tr>\n",
       "  </tbody>\n",
       "</table>\n",
       "</div>"
      ],
      "text/plain": [
       "       earn  height1  height2  sex  race  hisp  ed  yearbn  height  age  \\\n",
       "3   50000.0        6        2    1     1     2  16      45      74   45   \n",
       "4   60000.0        5        6    2     1     2  16      32      66   58   \n",
       "5   30000.0        5        4    2     1     2  16      61      64   29   \n",
       "9   51000.0        5        3    2     1     2  17      51      63   39   \n",
       "10   9000.0        5        4    2     1     2  15      64      64   26   \n",
       "\n",
       "    age_category  eth  male  age_sq          yhat  \n",
       "3              2    3     1    2025  35444.862717  \n",
       "4              3    3     0    3364  21923.423771  \n",
       "5              1    3     0     841  21923.423771  \n",
       "9              2    3     0    1521  24583.599688  \n",
       "10             1    3     0     676  19263.247854  "
      ]
     },
     "execution_count": 60,
     "metadata": {},
     "output_type": "execute_result"
    }
   ],
   "source": [
    "# una buena práctica es generar copias de nuestro objeto para evitar modificación.\n",
    "df_dummy = df.copy()\n",
    "\n",
    "model_3 = smf.ols('earn ~ ed + male', df).fit()\n",
    "\n",
    "# ahora guardemos los valores predichos de nuestro modelo en nuestra base.\n",
    "df_dummy['yhat'] = model_3.predict() \n",
    "df_dummy.head()"
   ]
  },
  {
   "cell_type": "code",
   "execution_count": 61,
   "metadata": {},
   "outputs": [
    {
     "data": {
      "text/plain": [
       "<matplotlib.legend.Legend at 0x187deab5f10>"
      ]
     },
     "execution_count": 61,
     "metadata": {},
     "output_type": "execute_result"
    },
    {
     "data": {
      "image/png": "[encoded data removed]",
      "text/plain": [
       "<Figure size 600x400 with 1 Axes>"
      ]
     },
     "metadata": {},
     "output_type": "display_data"
    }
   ],
   "source": [
    "# comencemos por graficar todos los puntos en la relación \n",
    "plt.scatter(df_dummy['ed'], df_dummy['earn'], color='grey', label = 'Observaciones')\n",
    "\n",
    "# grafiquemos la proyección para hombres \n",
    "plt.plot(df_dummy.query('male == 1').ed, \n",
    "         df_dummy.query('male == 1').yhat,\n",
    "         color = 'dodgerblue', label = 'Predicción Hombres')\n",
    "\n",
    "# grafiquemos la proyección para mujeres \n",
    "plt.plot(df_dummy.query('male == 0').ed, \n",
    "         df_dummy.query('male == 0').yhat,\n",
    "         color = 'tomato', label = 'Predicción Mujeres') \n",
    "\n",
    "plt.legend()"
   ]
  },
  {
   "cell_type": "markdown",
   "metadata": {},
   "source": [
    "El efecto estimado de ser hombre en el salario se mantiene de forma constante en la medida que cambiamos el valor de la educación."
   ]
  },
  {
   "cell_type": "markdown",
   "metadata": {},
   "source": [
    "### **`Machine Learning`**"
   ]
  },
  {
   "cell_type": "markdown",
   "metadata": {},
   "source": [
    "#### **1 - Introducción**"
   ]
  },
  {
   "cell_type": "markdown",
   "metadata": {},
   "source": [
    "Una de las principales diferencias entre la estadística, machine learning e inteligencia artificial es cómo se refieren a las variables, Mientras que en la estadística (y la tradición más académica) se habla de variables dependientes (el fenómeno a estudiar) e independientes (atributos que pueden explicar la variable dependiente), en machine learning se habla de atributos y objetivos."
   ]
  },
  {
   "cell_type": "code",
   "execution_count": 64,
   "metadata": {},
   "outputs": [
    {
     "data": {
      "image/png": "[encoded data removed]",
      "text/plain": [
       "<Figure size 600x400 with 1 Axes>"
      ]
     },
     "metadata": {},
     "output_type": "display_data"
    }
   ],
   "source": [
    "gfx.feature_target()"
   ]
  },
  {
   "cell_type": "markdown",
   "metadata": {},
   "source": [
    "En machine learning se suele considerar la matriz de atributos (`X`) y el vector objetivo (`y`) como entidades separadas. El por qué hace referencia a la finalidad de generar buenas predicciones a partir de la matriz de atributos, no el discriminar entre distintas variables pertenecientes a X ."
   ]
  },
  {
   "cell_type": "markdown",
   "metadata": {},
   "source": [
    "#### **2 - El flujo de trabajo desde Machine Learning**"
   ]
  },
  {
   "cell_type": "markdown",
   "metadata": {},
   "source": [
    "##### `Primer elemento: Conocer los datos`"
   ]
  },
  {
   "cell_type": "markdown",
   "metadata": {},
   "source": [
    "Los datos son observaciones de fenómenos empíricos. Cada uno de ellos provee información (limitada) sobre un aspecto de nuestro fenómeno a estudiar. La colección de todos los datos nos permite dar una panorámica (aún incompleta) sobre el fenómeno.\n",
    "Es sano asumir que todos los datos vienen con información faltante y ruido de medición."
   ]
  },
  {
   "cell_type": "markdown",
   "metadata": {},
   "source": [
    "##### `Segundo elemento: Determinar los objetivos de Trabajo`"
   ]
  },
  {
   "cell_type": "markdown",
   "metadata": {},
   "source": [
    "El tipo de datos a disposición limita el tipo de objetivos de trabajo. Más que un fin en sí, los objetivos permiten fijar las preguntas de investigación. Los objetivos de trabajo también permiten definir la arquitectura y modelos que se utilizarán."
   ]
  },
  {
   "cell_type": "markdown",
   "metadata": {},
   "source": [
    "##### `Tercer elemento: Diseñar e implementar los Modelos`"
   ]
  },
  {
   "cell_type": "markdown",
   "metadata": {},
   "source": [
    "La elección del modelo viene determinada parcialmente por los objetivos de trabajo y los datos disponibles.\n",
    "\n",
    "Algunos elementos a considerar:\n",
    "\n",
    "-\t¿Qué esperamos como resultado?\n",
    "-\t¿Qué parámetros estimaremos?\n",
    "-\t¿Qué hiperparámetros consideraremos?\n",
    "\n",
    "Los parámetros son aquellos elementos que se generan mediante los algoritmos o métodos de estimación. Éstos no son gobernados directamente por el investigador.\n",
    "\n",
    "Los hiperparámetros son los elementos que se determinan por el investigador e influyen en los parámetros a estimar. Ejemplos de hiperparámetros son el porcentaje de datos que se distribuyen en los subconjuntos train y test, la inclusión de un parámetro basal como `β0`, la normalización de la matriz de datos, entre otros."
   ]
  },
  {
   "cell_type": "markdown",
   "metadata": {},
   "source": [
    "#### **3 - Nuestro primer modelo desde Machine Learning con `scikit-learn`**"
   ]
  },
  {
   "cell_type": "markdown",
   "metadata": {},
   "source": [
    "##### `Introducción`"
   ]
  },
  {
   "cell_type": "markdown",
   "metadata": {},
   "source": [
    "Para nuestro primer modelo utilizaremos la misma base de datos `earnings.csv`, donde **buscaremos predecir los ingresos de individuos a partir de una serie de características registradas**.\n",
    "\n",
    "Utilizaremos `scikit-learn`, una librería diseñada para implementar modelos de minería de datos y machine learning de manera simple y efectiva. Opera con componentes de numpy, scipy y matplotlib para facilitar la labor del investigador.\n",
    "\n",
    "En énfasis en la facilidad de uso, rigurosidad en el código, amplia comunidad de apoyo y buena documentación la han transformado en `la principal librería de análisis enfocado a la predicción`. Para más información sobre scikit-learn, vea la página oficial."
   ]
  },
  {
   "cell_type": "markdown",
   "metadata": {},
   "source": [
    "##### `Paso 1: Importación de módulos`"
   ]
  },
  {
   "cell_type": "markdown",
   "metadata": {},
   "source": [
    "Dado la vasta cantidad de funciones en la librería, se sugiere importar los módulos específicos que utilizaremos. Esto conlleva un trabajo de identificar todos los argumentos requeridos en las funciones.\n",
    "\n",
    "Para generar un modelo lineal necesitamos el módulo `linear_model`, que importaremos mediante `from <...> import <...>`.\n",
    "\n",
    "Posteriormente importamos las métricas de evaluación alojadas en `sklearn.metrics`."
   ]
  },
  {
   "cell_type": "code",
   "execution_count": 77,
   "metadata": {},
   "outputs": [],
   "source": [
    "from sklearn import linear_model\n",
    "from sklearn.metrics import mean_squared_error, r2_score"
   ]
  },
  {
   "cell_type": "markdown",
   "metadata": {},
   "source": [
    "##### `Paso 2: Dividiendo la muestra`"
   ]
  },
  {
   "cell_type": "markdown",
   "metadata": {},
   "source": [
    "Otra de las características del machine learning es la división de las muestras entre dos grupos:\n",
    "\n",
    "1.\t**Training Set**: Donde implementamos el modelo.\n",
    "2.\t**Test Set**: Donde probamos el modelo.\n",
    "\n",
    "El siguiente paso es poder dividir la muestra en cuatro partes. La división se puede ejemplificar en la figura `gfx.train_testing()`. En ella generamos una división de nuestra matriz ingresada al ambiente de trabajo, teniendo en cuenta los siguientes aspectos:\n",
    "\n",
    "1.\tLa división debe realizarse entre una muestra que utilizaremos para generar una representación fidedigna del fenómeno.\n",
    "2.\tUna muestra donde vamos a poner a prueba nuestra estimaciones y contrastaremos lo predecido con las observaciones reales."
   ]
  },
  {
   "cell_type": "code",
   "execution_count": 66,
   "metadata": {},
   "outputs": [
    {
     "data": {
      "image/png": "[encoded data removed]",
      "text/plain": [
       "<Figure size 600x400 with 1 Axes>"
      ]
     },
     "metadata": {},
     "output_type": "display_data"
    }
   ],
   "source": [
    "gfx.train_testing()"
   ]
  },
  {
   "cell_type": "markdown",
   "metadata": {},
   "source": [
    "<center><img src=\"https://i.postimg.cc/KYgr8bhT/ml.png\"></center>"
   ]
  },
  {
   "cell_type": "markdown",
   "metadata": {},
   "source": [
    "Necesitamos generar las muestras mediante el operador slice de pandas. Los cuatro grupos que debemos crear son:\n",
    "\n",
    "1.\tMatriz de Atributos en Training Set: `X_mat_train`\n",
    "2.\tVector Objetivo en Training Set: `y_train`\n",
    "3.\tMatriz de Atributos en Testing Set: `X_mat_test`\n",
    "4.\tVector Objetivo en Testing Set: `y_vec`\n",
    "\n",
    "Para generar nuestra matriz de atributos, es necesario excluir el vector objetivo."
   ]
  },
  {
   "cell_type": "code",
   "execution_count": 68,
   "metadata": {},
   "outputs": [
    {
     "data": {
      "text/plain": [
       "(1374, 14)"
      ]
     },
     "execution_count": 68,
     "metadata": {},
     "output_type": "execute_result"
    }
   ],
   "source": [
    "df = pd.read_csv('earnings.csv')\n",
    "df.shape"
   ]
  },
  {
   "cell_type": "code",
   "execution_count": 69,
   "metadata": {},
   "outputs": [
    {
     "data": {
      "text/html": [
       "<div>\n",
       "<style scoped>\n",
       "    .dataframe tbody tr th:only-of-type {\n",
       "        vertical-align: middle;\n",
       "    }\n",
       "\n",
       "    .dataframe tbody tr th {\n",
       "        vertical-align: top;\n",
       "    }\n",
       "\n",
       "    .dataframe thead th {\n",
       "        text-align: right;\n",
       "    }\n",
       "</style>\n",
       "<table border=\"1\" class=\"dataframe\">\n",
       "  <thead>\n",
       "    <tr style=\"text-align: right;\">\n",
       "      <th></th>\n",
       "      <th>Unnamed: 0</th>\n",
       "      <th>earn</th>\n",
       "      <th>height1</th>\n",
       "      <th>height2</th>\n",
       "      <th>sex</th>\n",
       "      <th>race</th>\n",
       "      <th>hisp</th>\n",
       "      <th>ed</th>\n",
       "      <th>yearbn</th>\n",
       "      <th>height</th>\n",
       "      <th>age</th>\n",
       "      <th>age_category</th>\n",
       "      <th>eth</th>\n",
       "      <th>male</th>\n",
       "    </tr>\n",
       "  </thead>\n",
       "  <tbody>\n",
       "    <tr>\n",
       "      <th>0</th>\n",
       "      <td>3</td>\n",
       "      <td>50000.0</td>\n",
       "      <td>6</td>\n",
       "      <td>2</td>\n",
       "      <td>1</td>\n",
       "      <td>1</td>\n",
       "      <td>2</td>\n",
       "      <td>16</td>\n",
       "      <td>45</td>\n",
       "      <td>74</td>\n",
       "      <td>45</td>\n",
       "      <td>2</td>\n",
       "      <td>3</td>\n",
       "      <td>1</td>\n",
       "    </tr>\n",
       "    <tr>\n",
       "      <th>1</th>\n",
       "      <td>4</td>\n",
       "      <td>60000.0</td>\n",
       "      <td>5</td>\n",
       "      <td>6</td>\n",
       "      <td>2</td>\n",
       "      <td>1</td>\n",
       "      <td>2</td>\n",
       "      <td>16</td>\n",
       "      <td>32</td>\n",
       "      <td>66</td>\n",
       "      <td>58</td>\n",
       "      <td>3</td>\n",
       "      <td>3</td>\n",
       "      <td>0</td>\n",
       "    </tr>\n",
       "    <tr>\n",
       "      <th>2</th>\n",
       "      <td>5</td>\n",
       "      <td>30000.0</td>\n",
       "      <td>5</td>\n",
       "      <td>4</td>\n",
       "      <td>2</td>\n",
       "      <td>1</td>\n",
       "      <td>2</td>\n",
       "      <td>16</td>\n",
       "      <td>61</td>\n",
       "      <td>64</td>\n",
       "      <td>29</td>\n",
       "      <td>1</td>\n",
       "      <td>3</td>\n",
       "      <td>0</td>\n",
       "    </tr>\n",
       "    <tr>\n",
       "      <th>3</th>\n",
       "      <td>9</td>\n",
       "      <td>51000.0</td>\n",
       "      <td>5</td>\n",
       "      <td>3</td>\n",
       "      <td>2</td>\n",
       "      <td>1</td>\n",
       "      <td>2</td>\n",
       "      <td>17</td>\n",
       "      <td>51</td>\n",
       "      <td>63</td>\n",
       "      <td>39</td>\n",
       "      <td>2</td>\n",
       "      <td>3</td>\n",
       "      <td>0</td>\n",
       "    </tr>\n",
       "    <tr>\n",
       "      <th>4</th>\n",
       "      <td>10</td>\n",
       "      <td>9000.0</td>\n",
       "      <td>5</td>\n",
       "      <td>4</td>\n",
       "      <td>2</td>\n",
       "      <td>1</td>\n",
       "      <td>2</td>\n",
       "      <td>15</td>\n",
       "      <td>64</td>\n",
       "      <td>64</td>\n",
       "      <td>26</td>\n",
       "      <td>1</td>\n",
       "      <td>3</td>\n",
       "      <td>0</td>\n",
       "    </tr>\n",
       "  </tbody>\n",
       "</table>\n",
       "</div>"
      ],
      "text/plain": [
       "   Unnamed: 0     earn  height1  height2  sex  race  hisp  ed  yearbn  height  \\\n",
       "0           3  50000.0        6        2    1     1     2  16      45      74   \n",
       "1           4  60000.0        5        6    2     1     2  16      32      66   \n",
       "2           5  30000.0        5        4    2     1     2  16      61      64   \n",
       "3           9  51000.0        5        3    2     1     2  17      51      63   \n",
       "4          10   9000.0        5        4    2     1     2  15      64      64   \n",
       "\n",
       "   age  age_category  eth  male  \n",
       "0   45             2    3     1  \n",
       "1   58             3    3     0  \n",
       "2   29             1    3     0  \n",
       "3   39             2    3     0  \n",
       "4   26             1    3     0  "
      ]
     },
     "execution_count": 69,
     "metadata": {},
     "output_type": "execute_result"
    }
   ],
   "source": [
    "df.head()"
   ]
  },
  {
   "cell_type": "code",
   "execution_count": 129,
   "metadata": {},
   "outputs": [],
   "source": [
    "# Generemos un nuevo objeto llamado attr_mat que excluya Unnamed: 0 y earn \n",
    "attr_mat = df.drop(['Unnamed: 0', 'earn'], axis=1)"
   ]
  },
  {
   "cell_type": "code",
   "execution_count": 130,
   "metadata": {},
   "outputs": [
    {
     "data": {
      "text/html": [
       "<div>\n",
       "<style scoped>\n",
       "    .dataframe tbody tr th:only-of-type {\n",
       "        vertical-align: middle;\n",
       "    }\n",
       "\n",
       "    .dataframe tbody tr th {\n",
       "        vertical-align: top;\n",
       "    }\n",
       "\n",
       "    .dataframe thead th {\n",
       "        text-align: right;\n",
       "    }\n",
       "</style>\n",
       "<table border=\"1\" class=\"dataframe\">\n",
       "  <thead>\n",
       "    <tr style=\"text-align: right;\">\n",
       "      <th></th>\n",
       "      <th>height1</th>\n",
       "      <th>height2</th>\n",
       "      <th>sex</th>\n",
       "      <th>race</th>\n",
       "      <th>hisp</th>\n",
       "      <th>ed</th>\n",
       "      <th>yearbn</th>\n",
       "      <th>height</th>\n",
       "      <th>age</th>\n",
       "      <th>age_category</th>\n",
       "      <th>eth</th>\n",
       "      <th>male</th>\n",
       "    </tr>\n",
       "  </thead>\n",
       "  <tbody>\n",
       "    <tr>\n",
       "      <th>0</th>\n",
       "      <td>6</td>\n",
       "      <td>2</td>\n",
       "      <td>1</td>\n",
       "      <td>1</td>\n",
       "      <td>2</td>\n",
       "      <td>16</td>\n",
       "      <td>45</td>\n",
       "      <td>74</td>\n",
       "      <td>45</td>\n",
       "      <td>2</td>\n",
       "      <td>3</td>\n",
       "      <td>1</td>\n",
       "    </tr>\n",
       "    <tr>\n",
       "      <th>1</th>\n",
       "      <td>5</td>\n",
       "      <td>6</td>\n",
       "      <td>2</td>\n",
       "      <td>1</td>\n",
       "      <td>2</td>\n",
       "      <td>16</td>\n",
       "      <td>32</td>\n",
       "      <td>66</td>\n",
       "      <td>58</td>\n",
       "      <td>3</td>\n",
       "      <td>3</td>\n",
       "      <td>0</td>\n",
       "    </tr>\n",
       "    <tr>\n",
       "      <th>2</th>\n",
       "      <td>5</td>\n",
       "      <td>4</td>\n",
       "      <td>2</td>\n",
       "      <td>1</td>\n",
       "      <td>2</td>\n",
       "      <td>16</td>\n",
       "      <td>61</td>\n",
       "      <td>64</td>\n",
       "      <td>29</td>\n",
       "      <td>1</td>\n",
       "      <td>3</td>\n",
       "      <td>0</td>\n",
       "    </tr>\n",
       "    <tr>\n",
       "      <th>3</th>\n",
       "      <td>5</td>\n",
       "      <td>3</td>\n",
       "      <td>2</td>\n",
       "      <td>1</td>\n",
       "      <td>2</td>\n",
       "      <td>17</td>\n",
       "      <td>51</td>\n",
       "      <td>63</td>\n",
       "      <td>39</td>\n",
       "      <td>2</td>\n",
       "      <td>3</td>\n",
       "      <td>0</td>\n",
       "    </tr>\n",
       "    <tr>\n",
       "      <th>4</th>\n",
       "      <td>5</td>\n",
       "      <td>4</td>\n",
       "      <td>2</td>\n",
       "      <td>1</td>\n",
       "      <td>2</td>\n",
       "      <td>15</td>\n",
       "      <td>64</td>\n",
       "      <td>64</td>\n",
       "      <td>26</td>\n",
       "      <td>1</td>\n",
       "      <td>3</td>\n",
       "      <td>0</td>\n",
       "    </tr>\n",
       "  </tbody>\n",
       "</table>\n",
       "</div>"
      ],
      "text/plain": [
       "   height1  height2  sex  race  hisp  ed  yearbn  height  age  age_category  \\\n",
       "0        6        2    1     1     2  16      45      74   45             2   \n",
       "1        5        6    2     1     2  16      32      66   58             3   \n",
       "2        5        4    2     1     2  16      61      64   29             1   \n",
       "3        5        3    2     1     2  17      51      63   39             2   \n",
       "4        5        4    2     1     2  15      64      64   26             1   \n",
       "\n",
       "   eth  male  \n",
       "0    3     1  \n",
       "1    3     0  \n",
       "2    3     0  \n",
       "3    3     0  \n",
       "4    3     0  "
      ]
     },
     "execution_count": 130,
     "metadata": {},
     "output_type": "execute_result"
    }
   ],
   "source": [
    "attr_mat.head()"
   ]
  },
  {
   "cell_type": "markdown",
   "metadata": {},
   "source": [
    "Ahora generamos la división entre muestra de entrenamiento del modelo y muestra de prueba del modelo. Por ahora nuestra aproximación es excluir las últimas 30 filas en nuestra muestra de entrenamiento, y agregarlas a nuestra muestra de prueba. Repetimos exactamente el mismo proceso para el vector objetivo."
   ]
  },
  {
   "cell_type": "code",
   "execution_count": 171,
   "metadata": {},
   "outputs": [],
   "source": [
    "# dividir matriz de atributos \n",
    "X_mat_train = attr_mat[:-30] \n",
    "X_mat_test = attr_mat[-30:]\n",
    "\n",
    "# dividir vector objetivo \n",
    "y_train = df['earn'][:-30]\n",
    "y_test = df['earn'][-30:]"
   ]
  },
  {
   "cell_type": "markdown",
   "metadata": {},
   "source": [
    "El método que acabamos de utilizar para separar nuestros conjuntos de entrenamiento y prueba se le conoce comúnmente como '**`máscara estática`**', la razón de esto es porque podemos ejecutar el bloque de código anterior las veces que queramos y siempre obtendremos los mismos valores en cada conjunto, en nuestro caso el conjunto de entrenamiento se compone de todas las filas excepto las últimas 30, mientras que el de pruebas se compone solo de esas 30 últimas."
   ]
  },
  {
   "cell_type": "code",
   "execution_count": 154,
   "metadata": {},
   "outputs": [
    {
     "data": {
      "text/html": [
       "<div>\n",
       "<style scoped>\n",
       "    .dataframe tbody tr th:only-of-type {\n",
       "        vertical-align: middle;\n",
       "    }\n",
       "\n",
       "    .dataframe tbody tr th {\n",
       "        vertical-align: top;\n",
       "    }\n",
       "\n",
       "    .dataframe thead th {\n",
       "        text-align: right;\n",
       "    }\n",
       "</style>\n",
       "<table border=\"1\" class=\"dataframe\">\n",
       "  <thead>\n",
       "    <tr style=\"text-align: right;\">\n",
       "      <th></th>\n",
       "      <th>height1</th>\n",
       "      <th>height2</th>\n",
       "      <th>sex</th>\n",
       "      <th>race</th>\n",
       "      <th>hisp</th>\n",
       "      <th>ed</th>\n",
       "      <th>yearbn</th>\n",
       "      <th>height</th>\n",
       "      <th>age</th>\n",
       "      <th>age_category</th>\n",
       "      <th>eth</th>\n",
       "      <th>male</th>\n",
       "    </tr>\n",
       "  </thead>\n",
       "  <tbody>\n",
       "    <tr>\n",
       "      <th>1339</th>\n",
       "      <td>5</td>\n",
       "      <td>4</td>\n",
       "      <td>2</td>\n",
       "      <td>1</td>\n",
       "      <td>2</td>\n",
       "      <td>10</td>\n",
       "      <td>51</td>\n",
       "      <td>64</td>\n",
       "      <td>39</td>\n",
       "      <td>2</td>\n",
       "      <td>3</td>\n",
       "      <td>0</td>\n",
       "    </tr>\n",
       "    <tr>\n",
       "      <th>1340</th>\n",
       "      <td>5</td>\n",
       "      <td>7</td>\n",
       "      <td>1</td>\n",
       "      <td>1</td>\n",
       "      <td>2</td>\n",
       "      <td>10</td>\n",
       "      <td>12</td>\n",
       "      <td>67</td>\n",
       "      <td>78</td>\n",
       "      <td>3</td>\n",
       "      <td>3</td>\n",
       "      <td>1</td>\n",
       "    </tr>\n",
       "    <tr>\n",
       "      <th>1341</th>\n",
       "      <td>5</td>\n",
       "      <td>8</td>\n",
       "      <td>1</td>\n",
       "      <td>1</td>\n",
       "      <td>2</td>\n",
       "      <td>11</td>\n",
       "      <td>58</td>\n",
       "      <td>68</td>\n",
       "      <td>32</td>\n",
       "      <td>1</td>\n",
       "      <td>3</td>\n",
       "      <td>1</td>\n",
       "    </tr>\n",
       "    <tr>\n",
       "      <th>1342</th>\n",
       "      <td>5</td>\n",
       "      <td>6</td>\n",
       "      <td>2</td>\n",
       "      <td>1</td>\n",
       "      <td>2</td>\n",
       "      <td>12</td>\n",
       "      <td>66</td>\n",
       "      <td>66</td>\n",
       "      <td>24</td>\n",
       "      <td>1</td>\n",
       "      <td>3</td>\n",
       "      <td>0</td>\n",
       "    </tr>\n",
       "    <tr>\n",
       "      <th>1343</th>\n",
       "      <td>5</td>\n",
       "      <td>6</td>\n",
       "      <td>2</td>\n",
       "      <td>1</td>\n",
       "      <td>2</td>\n",
       "      <td>14</td>\n",
       "      <td>47</td>\n",
       "      <td>66</td>\n",
       "      <td>43</td>\n",
       "      <td>2</td>\n",
       "      <td>3</td>\n",
       "      <td>0</td>\n",
       "    </tr>\n",
       "  </tbody>\n",
       "</table>\n",
       "</div>"
      ],
      "text/plain": [
       "      height1  height2  sex  race  hisp  ed  yearbn  height  age  \\\n",
       "1339        5        4    2     1     2  10      51      64   39   \n",
       "1340        5        7    1     1     2  10      12      67   78   \n",
       "1341        5        8    1     1     2  11      58      68   32   \n",
       "1342        5        6    2     1     2  12      66      66   24   \n",
       "1343        5        6    2     1     2  14      47      66   43   \n",
       "\n",
       "      age_category  eth  male  \n",
       "1339             2    3     0  \n",
       "1340             3    3     1  \n",
       "1341             1    3     1  \n",
       "1342             1    3     0  \n",
       "1343             2    3     0  "
      ]
     },
     "execution_count": 154,
     "metadata": {},
     "output_type": "execute_result"
    }
   ],
   "source": [
    "X_mat_train.tail()"
   ]
  },
  {
   "cell_type": "code",
   "execution_count": 142,
   "metadata": {},
   "outputs": [
    {
     "data": {
      "text/plain": [
       "(1344, 12)"
      ]
     },
     "execution_count": 142,
     "metadata": {},
     "output_type": "execute_result"
    }
   ],
   "source": [
    "X_mat_train.shape"
   ]
  },
  {
   "cell_type": "code",
   "execution_count": 155,
   "metadata": {},
   "outputs": [
    {
     "data": {
      "text/html": [
       "<div>\n",
       "<style scoped>\n",
       "    .dataframe tbody tr th:only-of-type {\n",
       "        vertical-align: middle;\n",
       "    }\n",
       "\n",
       "    .dataframe tbody tr th {\n",
       "        vertical-align: top;\n",
       "    }\n",
       "\n",
       "    .dataframe thead th {\n",
       "        text-align: right;\n",
       "    }\n",
       "</style>\n",
       "<table border=\"1\" class=\"dataframe\">\n",
       "  <thead>\n",
       "    <tr style=\"text-align: right;\">\n",
       "      <th></th>\n",
       "      <th>height1</th>\n",
       "      <th>height2</th>\n",
       "      <th>sex</th>\n",
       "      <th>race</th>\n",
       "      <th>hisp</th>\n",
       "      <th>ed</th>\n",
       "      <th>yearbn</th>\n",
       "      <th>height</th>\n",
       "      <th>age</th>\n",
       "      <th>age_category</th>\n",
       "      <th>eth</th>\n",
       "      <th>male</th>\n",
       "    </tr>\n",
       "  </thead>\n",
       "  <tbody>\n",
       "    <tr>\n",
       "      <th>1344</th>\n",
       "      <td>5</td>\n",
       "      <td>6</td>\n",
       "      <td>2</td>\n",
       "      <td>1</td>\n",
       "      <td>2</td>\n",
       "      <td>16</td>\n",
       "      <td>31</td>\n",
       "      <td>66</td>\n",
       "      <td>59</td>\n",
       "      <td>3</td>\n",
       "      <td>3</td>\n",
       "      <td>0</td>\n",
       "    </tr>\n",
       "    <tr>\n",
       "      <th>1345</th>\n",
       "      <td>5</td>\n",
       "      <td>7</td>\n",
       "      <td>1</td>\n",
       "      <td>1</td>\n",
       "      <td>2</td>\n",
       "      <td>12</td>\n",
       "      <td>13</td>\n",
       "      <td>67</td>\n",
       "      <td>77</td>\n",
       "      <td>3</td>\n",
       "      <td>3</td>\n",
       "      <td>1</td>\n",
       "    </tr>\n",
       "    <tr>\n",
       "      <th>1346</th>\n",
       "      <td>5</td>\n",
       "      <td>6</td>\n",
       "      <td>1</td>\n",
       "      <td>1</td>\n",
       "      <td>2</td>\n",
       "      <td>12</td>\n",
       "      <td>53</td>\n",
       "      <td>66</td>\n",
       "      <td>37</td>\n",
       "      <td>2</td>\n",
       "      <td>3</td>\n",
       "      <td>1</td>\n",
       "    </tr>\n",
       "    <tr>\n",
       "      <th>1347</th>\n",
       "      <td>5</td>\n",
       "      <td>3</td>\n",
       "      <td>2</td>\n",
       "      <td>1</td>\n",
       "      <td>2</td>\n",
       "      <td>9</td>\n",
       "      <td>39</td>\n",
       "      <td>63</td>\n",
       "      <td>51</td>\n",
       "      <td>3</td>\n",
       "      <td>3</td>\n",
       "      <td>0</td>\n",
       "    </tr>\n",
       "    <tr>\n",
       "      <th>1348</th>\n",
       "      <td>5</td>\n",
       "      <td>8</td>\n",
       "      <td>2</td>\n",
       "      <td>1</td>\n",
       "      <td>2</td>\n",
       "      <td>13</td>\n",
       "      <td>47</td>\n",
       "      <td>68</td>\n",
       "      <td>43</td>\n",
       "      <td>2</td>\n",
       "      <td>3</td>\n",
       "      <td>0</td>\n",
       "    </tr>\n",
       "  </tbody>\n",
       "</table>\n",
       "</div>"
      ],
      "text/plain": [
       "      height1  height2  sex  race  hisp  ed  yearbn  height  age  \\\n",
       "1344        5        6    2     1     2  16      31      66   59   \n",
       "1345        5        7    1     1     2  12      13      67   77   \n",
       "1346        5        6    1     1     2  12      53      66   37   \n",
       "1347        5        3    2     1     2   9      39      63   51   \n",
       "1348        5        8    2     1     2  13      47      68   43   \n",
       "\n",
       "      age_category  eth  male  \n",
       "1344             3    3     0  \n",
       "1345             3    3     1  \n",
       "1346             2    3     1  \n",
       "1347             3    3     0  \n",
       "1348             2    3     0  "
      ]
     },
     "execution_count": 155,
     "metadata": {},
     "output_type": "execute_result"
    }
   ],
   "source": [
    "X_mat_test.head()"
   ]
  },
  {
   "cell_type": "code",
   "execution_count": 143,
   "metadata": {},
   "outputs": [
    {
     "data": {
      "text/plain": [
       "(30, 12)"
      ]
     },
     "execution_count": 143,
     "metadata": {},
     "output_type": "execute_result"
    }
   ],
   "source": [
    "X_mat_test.shape"
   ]
  },
  {
   "cell_type": "code",
   "execution_count": 172,
   "metadata": {},
   "outputs": [
    {
     "data": {
      "text/plain": [
       "0       50000.0\n",
       "1       60000.0\n",
       "2       30000.0\n",
       "3       51000.0\n",
       "4        9000.0\n",
       "         ...   \n",
       "1339     7000.0\n",
       "1340     7000.0\n",
       "1341    30000.0\n",
       "1342     3000.0\n",
       "1343    20000.0\n",
       "Name: earn, Length: 1344, dtype: float64"
      ]
     },
     "execution_count": 172,
     "metadata": {},
     "output_type": "execute_result"
    }
   ],
   "source": [
    "y_train.sort_index()"
   ]
  },
  {
   "cell_type": "code",
   "execution_count": 173,
   "metadata": {},
   "outputs": [
    {
     "name": "stdout",
     "output_type": "stream",
     "text": [
      "<class 'pandas.core.series.Series'>\n",
      "RangeIndex: 1344 entries, 0 to 1343\n",
      "Series name: earn\n",
      "Non-Null Count  Dtype  \n",
      "--------------  -----  \n",
      "1344 non-null   float64\n",
      "dtypes: float64(1)\n",
      "memory usage: 10.6 KB\n"
     ]
    }
   ],
   "source": [
    "y_train.info()"
   ]
  },
  {
   "cell_type": "code",
   "execution_count": 174,
   "metadata": {},
   "outputs": [
    {
     "data": {
      "text/plain": [
       "1344     40000.0\n",
       "1345     10000.0\n",
       "1346     16000.0\n",
       "1347     11000.0\n",
       "1348     16000.0\n",
       "1349     18000.0\n",
       "1350     12000.0\n",
       "1351      4000.0\n",
       "1352     60000.0\n",
       "1353     43000.0\n",
       "1354     31000.0\n",
       "1355     50000.0\n",
       "1356     27000.0\n",
       "1357     30000.0\n",
       "1358     12000.0\n",
       "1359         0.0\n",
       "1360     20000.0\n",
       "1361     15000.0\n",
       "1362     25000.0\n",
       "1363      2000.0\n",
       "1364      3000.0\n",
       "1365    110000.0\n",
       "1366     55000.0\n",
       "1367     58000.0\n",
       "1368     10000.0\n",
       "1369     19000.0\n",
       "1370     15000.0\n",
       "1371      8000.0\n",
       "1372     60000.0\n",
       "1373      6000.0\n",
       "Name: earn, dtype: float64"
      ]
     },
     "execution_count": 174,
     "metadata": {},
     "output_type": "execute_result"
    }
   ],
   "source": [
    "y_test.sort_index()"
   ]
  },
  {
   "cell_type": "code",
   "execution_count": 175,
   "metadata": {},
   "outputs": [
    {
     "name": "stdout",
     "output_type": "stream",
     "text": [
      "<class 'pandas.core.series.Series'>\n",
      "RangeIndex: 30 entries, 1344 to 1373\n",
      "Series name: earn\n",
      "Non-Null Count  Dtype  \n",
      "--------------  -----  \n",
      "30 non-null     float64\n",
      "dtypes: float64(1)\n",
      "memory usage: 372.0 bytes\n"
     ]
    }
   ],
   "source": [
    "y_test.info()"
   ]
  },
  {
   "cell_type": "markdown",
   "metadata": {},
   "source": [
    "**En rigor, no deberíamos utilizar una `máscara estática` para seleccionar nuestro conjunto de entrenamiento/pruebas, deberíamos seleccionar los registros que estarán en cada conjunto de `forma aleatoria`**, la razón de esto es porque los datos pueden estar ordenados bajo algún criterio que desconocemos (ya sea por la forma en la que se ingresaron al momento de registrarlos o, por ejemplo, producto de algún mecanismo de índice en la base de datos en la que fueron almacenados) y al entrenar nuestro modelo lo estaremos sesgando hacia esos valores. Más adelante en este mismo módulo introduciremos un método que nos provee la librería scikit-learn para obtener esta partición aleatoria. En esta ocasión utilizaremos la máscara estática para hacer el ejemplo menos aparatoso."
   ]
  },
  {
   "cell_type": "markdown",
   "metadata": {},
   "source": [
    "##### `Paso 3: Generar objeto y modelo`"
   ]
  },
  {
   "cell_type": "markdown",
   "metadata": {},
   "source": [
    "El siguiente paso es la construcción de un objeto que contenga las instrucciones a ejecutar en el modelo. Para el caso de la regresión lineal, esto se genera con la clase `LinearRegression()` del módulo `linear_model`.\n",
    "\n",
    "A diferencia de statsmodels, donde definimos la fórmula y los datos para crear el objeto, en scikit-learn se definen los hiperparámetros definidos por el usuario. Por hiperparámetros entendemos todas las instrucciones hacia el modelo que permiten definir la tolerancia, método de optimización o criterios de estimación. Esto a diferencia de los parámetros estimables que dependen exclusivamente del método de estimación.\n",
    "\n",
    "Lo más comunes son:\n",
    "\n",
    "-\t`fit_intercept`: Incluimos la estimación del intercepto ( β0 ) en el modelo."
   ]
  },
  {
   "cell_type": "code",
   "execution_count": 132,
   "metadata": {},
   "outputs": [],
   "source": [
    "modelo = linear_model.LinearRegression(copy_X=True, fit_intercept=True)"
   ]
  },
  {
   "cell_type": "markdown",
   "metadata": {},
   "source": [
    "Al generar el objeto con el método `LinearRegression()`, podemos inicializar la clase de similar manera a como lo hicimos con statsmodels. Para ello, ingresamos el training set `X_mat_train` e `y_train` en el método `.fit()` del objeto modelo.\n",
    "\n",
    "Cuando pasamos los datos por la función `.fit()` no es necesario asignar de nuevo el objeto, dado que estamos generando una instancia específica de éste."
   ]
  },
  {
   "cell_type": "code",
   "execution_count": 133,
   "metadata": {},
   "outputs": [
    {
     "data": {
      "text/html": [
       "<style>#sk-container-id-8 {color: black;}#sk-container-id-8 pre{padding: 0;}#sk-container-id-8 div.sk-toggleable {background-color: white;}#sk-container-id-8 label.sk-toggleable__label {cursor: pointer;display: block;width: 100%;margin-bottom: 0;padding: 0.3em;box-sizing: border-box;text-align: center;}#sk-container-id-8 label.sk-toggleable__label-arrow:before {content: \"▸\";float: left;margin-right: 0.25em;color: #696969;}#sk-container-id-8 label.sk-toggleable__label-arrow:hover:before {color: black;}#sk-container-id-8 div.sk-estimator:hover label.sk-toggleable__label-arrow:before {color: black;}#sk-container-id-8 div.sk-toggleable__content {max-height: 0;max-width: 0;overflow: hidden;text-align: left;background-color: #f0f8ff;}#sk-container-id-8 div.sk-toggleable__content pre {margin: 0.2em;color: black;border-radius: 0.25em;background-color: #f0f8ff;}#sk-container-id-8 input.sk-toggleable__control:checked~div.sk-toggleable__content {max-height: 200px;max-width: 100%;overflow: auto;}#sk-container-id-8 input.sk-toggleable__control:checked~label.sk-toggleable__label-arrow:before {content: \"▾\";}#sk-container-id-8 div.sk-estimator input.sk-toggleable__control:checked~label.sk-toggleable__label {background-color: #d4ebff;}#sk-container-id-8 div.sk-label input.sk-toggleable__control:checked~label.sk-toggleable__label {background-color: #d4ebff;}#sk-container-id-8 input.sk-hidden--visually {border: 0;clip: rect(1px 1px 1px 1px);clip: rect(1px, 1px, 1px, 1px);height: 1px;margin: -1px;overflow: hidden;padding: 0;position: absolute;width: 1px;}#sk-container-id-8 div.sk-estimator {font-family: monospace;background-color: #f0f8ff;border: 1px dotted black;border-radius: 0.25em;box-sizing: border-box;margin-bottom: 0.5em;}#sk-container-id-8 div.sk-estimator:hover {background-color: #d4ebff;}#sk-container-id-8 div.sk-parallel-item::after {content: \"\";width: 100%;border-bottom: 1px solid gray;flex-grow: 1;}#sk-container-id-8 div.sk-label:hover label.sk-toggleable__label {background-color: #d4ebff;}#sk-container-id-8 div.sk-serial::before {content: \"\";position: absolute;border-left: 1px solid gray;box-sizing: border-box;top: 0;bottom: 0;left: 50%;z-index: 0;}#sk-container-id-8 div.sk-serial {display: flex;flex-direction: column;align-items: center;background-color: white;padding-right: 0.2em;padding-left: 0.2em;position: relative;}#sk-container-id-8 div.sk-item {position: relative;z-index: 1;}#sk-container-id-8 div.sk-parallel {display: flex;align-items: stretch;justify-content: center;background-color: white;position: relative;}#sk-container-id-8 div.sk-item::before, #sk-container-id-8 div.sk-parallel-item::before {content: \"\";position: absolute;border-left: 1px solid gray;box-sizing: border-box;top: 0;bottom: 0;left: 50%;z-index: -1;}#sk-container-id-8 div.sk-parallel-item {display: flex;flex-direction: column;z-index: 1;position: relative;background-color: white;}#sk-container-id-8 div.sk-parallel-item:first-child::after {align-self: flex-end;width: 50%;}#sk-container-id-8 div.sk-parallel-item:last-child::after {align-self: flex-start;width: 50%;}#sk-container-id-8 div.sk-parallel-item:only-child::after {width: 0;}#sk-container-id-8 div.sk-dashed-wrapped {border: 1px dashed gray;margin: 0 0.4em 0.5em 0.4em;box-sizing: border-box;padding-bottom: 0.4em;background-color: white;}#sk-container-id-8 div.sk-label label {font-family: monospace;font-weight: bold;display: inline-block;line-height: 1.2em;}#sk-container-id-8 div.sk-label-container {text-align: center;}#sk-container-id-8 div.sk-container {/* jupyter's `normalize.less` sets `[hidden] { display: none; }` but bootstrap.min.css set `[hidden] { display: none !important; }` so we also need the `!important` here to be able to override the default hidden behavior on the sphinx rendered scikit-learn.org. See: https://github.com/scikit-learn/scikit-learn/issues/21755 */display: inline-block !important;position: relative;}#sk-container-id-8 div.sk-text-repr-fallback {display: none;}</style><div id=\"sk-container-id-8\" class=\"sk-top-container\"><div class=\"sk-text-repr-fallback\"><pre>LinearRegression()</pre><b>In a Jupyter environment, please rerun this cell to show the HTML representation or trust the notebook. <br />On GitHub, the HTML representation is unable to render, please try loading this page with nbviewer.org.</b></div><div class=\"sk-container\" hidden><div class=\"sk-item\"><div class=\"sk-estimator sk-toggleable\"><input class=\"sk-toggleable__control sk-hidden--visually\" id=\"sk-estimator-id-8\" type=\"checkbox\" checked><label for=\"sk-estimator-id-8\" class=\"sk-toggleable__label sk-toggleable__label-arrow\">LinearRegression</label><div class=\"sk-toggleable__content\"><pre>LinearRegression()</pre></div></div></div></div></div>"
      ],
      "text/plain": [
       "LinearRegression()"
      ]
     },
     "execution_count": 133,
     "metadata": {},
     "output_type": "execute_result"
    }
   ],
   "source": [
    "modelo.fit(X_mat_train, y_train)"
   ]
  },
  {
   "cell_type": "markdown",
   "metadata": {},
   "source": [
    "Ahora `modelo` contiene información sobre los parámetros estimados como el intercepto y las pendientes para cada atributo en la matriz."
   ]
  },
  {
   "cell_type": "code",
   "execution_count": 144,
   "metadata": {},
   "outputs": [
    {
     "name": "stdout",
     "output_type": "stream",
     "text": [
      "La lista de pendientes: : [   16.65006939   135.46647227 -6029.31228857  -749.4246293\n",
      "  2285.85393581  2729.51444336   -33.23454676   335.26730493\n",
      "    33.23454676  2215.35776999    39.36492231  6029.31228857]\n",
      "El intercepto del modelo es : -39642.581649516076\n"
     ]
    }
   ],
   "source": [
    "# imprimamos la lista de coeficientes\n",
    "print(\"La lista de pendientes: :\", modelo.coef_) \n",
    "\n",
    "# imprimamos el intercepto del modelo\n",
    "print(\"El intercepto del modelo es :\", modelo.intercept_)"
   ]
  },
  {
   "cell_type": "markdown",
   "metadata": {},
   "source": [
    "Cuando solicitamos las pendientes estimadas con `modelo.coef_`, Python nos devuelve un array con cada una de ellas. Con `modelo.intercept_` obtenemos información sobre el punto de partida en las estimaciones cuando todas nuestras variables están situadas en 0."
   ]
  },
  {
   "cell_type": "markdown",
   "metadata": {},
   "source": [
    "**`Paso 3.1`: Generar predicciones**"
   ]
  },
  {
   "cell_type": "markdown",
   "metadata": {},
   "source": [
    "Nuestro objetivo con Machine Learning es el poder utilizar nuestras explicaciones sobre un fenómeno en datos donde no tenemos la información completa, o en datos donde no tenemos la información completa y deseamos predecir cuál sería su comportamiento, asumiendo que nuestro modelo está correcto.\n",
    "\n",
    "El primer paso para medir el desempeño predictivo del modelo es generar nuevas predicciones en nuestra muestra de prueba. Para ello nos valemos de la función\n",
    "`.predict()` del modelo.\n",
    "\n",
    "La función `.predict()` del modelo resulta crucial de entender. La función necesita como argumento una matriz para generar predicciones. Acá es donde ingresamos la matriz de atributos del testing set."
   ]
  },
  {
   "cell_type": "code",
   "execution_count": 145,
   "metadata": {},
   "outputs": [
    {
     "name": "stdout",
     "output_type": "stream",
     "text": [
      "La cantidad de predicciones realizadas en X_test son:  30\n",
      "las predicciones son  [26511.73480161 29319.47906573 23974.62377808  5461.1796184\n",
      " 15985.79575976 22977.51018177 18475.33784415 27209.5700335\n",
      " 25721.83159156 40449.2596724  15625.03116587 26637.97715915\n",
      " 15569.38512397 42983.40165038 24283.30932393 24379.19649299\n",
      " 20999.99488436 13071.09448075 20433.10508368 -5401.27840521\n",
      " 28178.80473294 27564.76155343 46239.21871922 45513.50881321\n",
      " 24650.52298965 22442.96832539 31145.8839531   8493.2975025\n",
      " 28269.5348291  22036.04262737]\n"
     ]
    }
   ],
   "source": [
    "earn_yhat = modelo.predict(X_mat_test)\n",
    "print(\"La cantidad de predicciones realizadas en X_test son: \", len(earn_yhat))\n",
    "print(\"las predicciones son \", earn_yhat)"
   ]
  },
  {
   "cell_type": "markdown",
   "metadata": {},
   "source": [
    "Las predicciones de `X_mat_test` realizadas con nuestra función las guardamos en un nuevo objeto llamado `earn_yhat` (**yhat** hace referencia a la estimación de ︿y). Si solicitamos las nuevas observaciones, nos devolverá un array con cada uno de los puntos estimados en base a los datos de `X_mat_test`."
   ]
  },
  {
   "cell_type": "markdown",
   "metadata": {},
   "source": [
    "##### `Paso 4: Generar métricas`"
   ]
  },
  {
   "cell_type": "markdown",
   "metadata": {},
   "source": [
    "Finalmente, es necesario juzgar qué tan bien se comportó nuestro modelo al predecir los valores del vector objetivo de nuestro testing set. `sklearn` ofrece una serie de funciones para comparar las diferencias entre el vector objetivo de la prueba y las estimaciones del vector objetivo en base a nuestro modelo.\n",
    "\n",
    "Utilizaremos medidas que buscan resumir qué tan grande es la diferencia entre la predicción y los datos empíricos, y el R2 , una medida convencional proveniente de la econometría:\n",
    "\n",
    "-\t**`Promedio del Error Cuadrático`** (Mean Squared Error): Representa la expectativa del error cuadrático. Es un indicador de calidad con valores no negativos, donde menores valores indican mejores niveles de ajuste. Una medida similar que se presenta en algunos trabajos es el Root Mean Squared Error que representa la raíz cuadrada del MSE.\n",
    "-\t**`R-cuadrado`**: Representa la capacidad explicativa de nuestro conjunto de atributos en la variabilidad de nuestro vector objetivo. Tiene la misma interpretación que la enseñada desde la econometría.\n",
    "\n",
    "Guardaremos los resultados en objetos nuevos (`m1_mse` y `m1_r2`) para su posterior uso.\n"
   ]
  },
  {
   "cell_type": "code",
   "execution_count": 136,
   "metadata": {},
   "outputs": [
    {
     "name": "stdout",
     "output_type": "stream",
     "text": [
      "Mean Squared Error:  458564220.2\n",
      "R-cuadrado:  0.19\n"
     ]
    }
   ],
   "source": [
    "m1_mse = mean_squared_error(y_test, earn_yhat).round(1) \n",
    "m1_r2 = r2_score(y_test, earn_yhat).round(2) \n",
    "print(\"Mean Squared Error: \", m1_mse)\n",
    "print(\"R-cuadrado: \", m1_r2)"
   ]
  },
  {
   "cell_type": "markdown",
   "metadata": {},
   "source": [
    "La interpretación del R cuadrado es relativamente simple y similar a la econometría, donde esperamos que nuestra función explique en un 19% la variabilidad de nuestra variable objetivo.\n",
    "\n",
    "El problema con el Promedio del Error Cuadrático es que necesitamos compararlo con otro modelo para ver cuál reduce más el error cuadrático. Este es un punto que volveremos a visitar al final de la lectura."
   ]
  },
  {
   "cell_type": "markdown",
   "metadata": {},
   "source": [
    "#### **4 - ¿Qué fue lo que hicimos?**"
   ]
  },
  {
   "cell_type": "markdown",
   "metadata": {},
   "source": [
    "La regresión es un problema de aprendizaje supervisado, dado que buscamos solucionar problemas donde existen inputs y outputs que son manejados a priori por el investigador. El vector objetivo en los problemas de regresión es un vector numérico. Se dice que es un **`problema supervisado`** cuando el investigador tiene suficiente información como para calibrar el modelo (en detrimento de los modelos no supervisados donde gran parte de la responsabilidad recae en el algoritmo y en el computador). Visto de otra forma, antes de entrenar el modelo ya se conocen los valores de la variable objetivo que el modelo tiene que ser capaz de predecir (en nuestro ejemplo desde un comienzo conocíamos los valores de los salarios que queríamos que el modelo predijese). En el **`aprendizaje no supervisado`** no tenemos la posibilidad de comparar lo que predice el modelo con la realidad y esperamos que el modelo sea capaz de encontrar estos valores/clases (por ejemplo, en problemas de clustering).\n",
    "\n",
    "En el problema de regresión buscamos controlar la complejidad del modelo, que viene dada por la cantidad de inputs que asignamos a nuestra función. De esta manera, los contratiempos asociados a éste problema son el exceso de ajuste (presentado cuando tenemos muchos inputs que impiden la generalización predictiva) también llamado overfitting, y la falta de ajuste (presentada cuando los inputs ingresados a la función no son suficientes como para caracterizar las predicciones dentro de la muestra) también llamado underfitting.\n",
    "\n",
    "Dividir los datos en conjuntos de prueba y muestra, y comparar las predicciones responde a la necesidad de probar la capacidad de generalización del modelo."
   ]
  },
  {
   "cell_type": "markdown",
   "metadata": {},
   "source": [
    "#### **5 - Trueque entre sesgo y varianza**"
   ]
  },
  {
   "cell_type": "markdown",
   "metadata": {},
   "source": [
    "Uno de los principales criterios para analizar la capacidad de generalización del modelo es ver cómo se comportan el sesgo, la varianza y la complejidad del modelo implementado. En la figura generada con `gfx.bias_variance()`, se grafica la recta de ajuste cuando establecemos una regresión con polinomios de 1, 7 y 15 grados respectivamente. Esto genera tres situaciones:"
   ]
  },
  {
   "cell_type": "code",
   "execution_count": 118,
   "metadata": {},
   "outputs": [
    {
     "data": {
      "image/png": "[encoded data removed]",
      "text/plain": [
       "<Figure size 600x400 with 3 Axes>"
      ]
     },
     "metadata": {},
     "output_type": "display_data"
    }
   ],
   "source": [
    "gfx.bias_variance()"
   ]
  },
  {
   "cell_type": "markdown",
   "metadata": {},
   "source": [
    "En la figura de la izquierda encontramos la situación donde se presenta un sesgo alto. Por Sesgo entendemos la tendencia de un estimador de elegir un modelo incorrecto dado que utiliza supuestos incorrectos sobre el proceso generativo de los datos. Un ejemplo es si utilizamos un modelo lineal en una función cúbica. El modelo sub representará los valores verdaderos en la muestra, independiente del tamaño de ésta.\n",
    "\n",
    "En la figura de la derecha encontramos un estimador muy flexible, caracterizado por una varianza alta. Por Varianza se entiende la sensibilidad del estimador a fluctuaciones en el training set. Altos niveles de varianza en la muestra pueden generar mucho ruido en el estimador, generando predicciones fuera del rango empírico de los datos. En este caso el modelo sobre representará los valores verdaderos de la muestra.\n",
    "\n",
    "El objetivo del aprendizaje supervisado es especificar los parámetros de forma tal de encontrar un modelo que sea lo suficientemente flexible con el caso estudiado, pero que también pueda ser extrapolado a nuevos datos y tener un buen desempeño."
   ]
  },
  {
   "cell_type": "markdown",
   "metadata": {},
   "source": [
    "#### **6 - Métricas de ajuste de modelo**"
   ]
  },
  {
   "cell_type": "markdown",
   "metadata": {},
   "source": [
    "Para juzgar cuándo un modelo de machine learning permite generalizar predicciones, nos valemos de métricas y pruebas para su validación.\n",
    "\n",
    "Si desde la econometría nos valemos de medidas de variabilidad explicada como el R2 ,\n",
    "desde machine learning nos guiamos por el principio rector de la minimización de pérdidas.\n",
    "\n",
    "La mayoría de las métricas de un modelo de regresión buscan estimar el error promedio. Una de las más utilizadas es la mean-square error (MSE), que se define de forma:\n",
    "\n",
    "<center><img src=\"https://i.postimg.cc/MTPp8pLY/dl36.png\"></center>\n",
    "\n",
    "De forma alternativa también está el root-mean-square error (RMSE), que es la raíz de nuestra métrica MSE. Las diferencias entre ambas son arbitrarias, puesto que RMSE reescala MSE."
   ]
  },
  {
   "cell_type": "markdown",
   "metadata": {},
   "source": [
    "#### **7 - Train-Test Split**"
   ]
  },
  {
   "cell_type": "markdown",
   "metadata": {},
   "source": [
    "Un problema de estimar un modelo con la muestra completa es que el cálculo del MSE depende de la cantidad de atributos ingresados en el modelo. De esta manera, el error tenderá a bajar o en el peor de los casos a mantenerse invariante.\n",
    "\n",
    "Si desde la **econometría** el problema era estimar la relación entre Y e X mediante la función lineal `Y = f (x) + ε`, para **machine learning** el problema es estimar la función `f(·)` con un estimado de nuestra función.\n",
    "\n",
    "Otro tema con la validación del modelo y su capacidad de generalizar predicciones, es la necesidad de ver cómo se comportan las estimaciones con nuevos datos. Esta es una característica crucial de los modelos de machine learning más complejos: **realizar predicciones en tiempo real de nuevos datos ingresados**.\n",
    "\n",
    "La limitación de esto es que rara vez tenemos acceso a más datos sobre nuestro fenómeno. Las buenas prácticas indican que para tener una aproximación sobre la generalización, podemos dividir la muestra en dos submuestras:\n",
    "\n",
    "Para estimar nuestra función candidata `f`, debemos seguir lo siguiente:\n",
    "\n",
    " \n",
    "1.\tRecolectamos una serie de datos que tengan `p ≥ 1` atributos (o variables independientes) y un vector objetivo `y`. Esta serie de datos conocida la\n",
    "denominamos `Training Set` y provee un campo empírico para implementar nuestros modelos. En la figura, este campo se representa en los cuadrantes `X e y`.\n",
    "\n",
    "2.\tCon los datos a mano, elegimos un método (o múltiples métodos) para generar una estimación `f`.\n",
    "\n",
    "3.\tUtilizamos nuestro training set para entrenar o ajustar nuestra función predictiva `f`. Por entrenar se entiende que el algoritmo/método capture `información existente` sobre el fenómeno.\n",
    "\n",
    "4.\tCon nuestra función entrenada con los datos, buscamos generar predicciones `y = f (x)` en un conjunto de datos que no fueron considerados en el conjunto de entrenamiento. En este último conjunto de datos se conoce como **Conjunto de Pruebas**. Es necesario que éste contenga los mismos atributos que el conjunto de entrenamiento y que los datos en este último conjunto no se encuentren presentes también en el conjunto de entrenamiento. La lógica en lo que respecta a tener dos conjuntos distintos, uno para entrenar al modelo y otro para evaluar su desempeño es la misma que lo ocurrido al evaluar a un alumno en un curso, por un lado le entregaríamos un conjunto de ejemplos resueltos para que aprenda los patrones importantes del problema (aprendizaje supervisado sobre el conjunto de entrenamiento), luego, al momento de evaluarlo en un certamen idealmente confeccionaríamos este último de forma que no tenga exactamente los mismos ejemplos que ya le mostramos al alumno durante la enseñanza, de esta forma podemos medir su capacidad de generalizar los conceptos y patrones que debió haber aprendido de los ejercicios con los que estudió. El alumno/modelo estudia/aprende del conjunto de entrenamiento y **es evaluado su poder de generalización sobre el conjunto de pruebas**, son las métricas obtenidas en este último conjunto las que deben tomarse en cuenta para validar si el alumno pasa de curso o el modelo es efectivo en su tarea. Las métricas del conjunto de entrenamiento aunque nos pueden dar luces del ajuste del modelo sobre los datos de entrenamiento y nos permiten evaluar **subajuste** (un modelo perfectamente podría no lograr encontrar ningún patrón significativo o ser incapaz de ajustarse a ciertos datos aunque sea entrenado sobre estos) no nos dicen, por ejemplo, si el alumno/modelo simplemente aprendió los ejemplos de entrenamiento de memoria (**sobreajuste**).\n"
   ]
  },
  {
   "cell_type": "markdown",
   "metadata": {},
   "source": [
    "#### **8 - Digresión: No free lunch theorem**"
   ]
  },
  {
   "cell_type": "markdown",
   "metadata": {},
   "source": [
    "Del punto 2 se desprende una máxima a considerar: no existe un método o algoritmo que provea de una solución óptima fuera de la empíricamente probada. Por ello es que siempre debemos establecer múltiples modelos para obtener un criterio informado. Éstos métodos no implican nuevos algoritmos de forma obligatoria, pero probar con distintas especificaciones de los parámetros e hiper parámetros.\n",
    "\n",
    "Se puede encontrar más información y detalles formales de este teorema.\n",
    "\n",
    "Con nuestros train y test definidos, podemos medir la capacidad de reducir el error mediante MSE. Así calcularemos un `MSEtrain` y un `MSEtest` .\n",
    "\n",
    "<center><img src=\"https://i.postimg.cc/7Zw16B6Q/dl37.png\"></center>\n",
    "\n",
    "Donde `nTr` es la cantidad de observaciones en el subconjunto `train`. `MSEtrain` siempre tenderá a bajar (o a estancarse en un valor) en la medida que la complejidad aumenta. Esto implica que no será tan útil para comparar modelos.\n",
    "\n",
    "<center><img src=\"https://i.postimg.cc/rwj1tSRy/dl38.png\"></center>\n",
    "\n",
    "En este caso `nTe` es el número de observaciones en el subconjunto `test`. `MSEtest` servirá para medir ¿Qué tan bien predice nuestro modelo en datos previamente desconocidos?."
   ]
  },
  {
   "cell_type": "markdown",
   "metadata": {},
   "source": [
    "#### **9 - Algunos comportamientos de la complejidad y el tamaño de los modelos**"
   ]
  },
  {
   "cell_type": "markdown",
   "metadata": {},
   "source": [
    "En la figura generada con `gfx.validate_curve()` se presenta la visualización entre un puntaje (llámese bondad de ajuste, verosimilitud, etc..) y la complejidad del modelo.\n",
    "\n",
    "Mediante este gráfico buscamos evaluar cómo se comporta nuestra métrica de evaluación respecto a la complejidad del modelo. Por complejidad del modelo se entiende de la cantidad de parámetros que se agregan al modelo para estimar.\n",
    "\n",
    "Encontramos tres escenarios:\n",
    "\n",
    "1.\tUn escenario caracterizado por una baja complejidad del modelo, que resulta en sesgos altos. Esto implica que el modelo falla en capturar de forma clara los parámetros verdaderos y la caracterización es insuficiente dado la baja cantidad de parámetros.\n",
    "\n",
    "2.\tOtro escenario por una excesiva complejidad del modelo, lo que resulta en alta varianza del modelo. Bajo esta situación, el modelo genera una muy buena representación de los datos de la muestra entrenada, pero falla en replicar la generalización de las predicciones en la muestra de testing.\n",
    "\n",
    "3.\tOtro escenario donde encontramos la mejor estimación del puntaje para la muestra de pruebas. Bajo este escenario la complejidad del modelo es óptima. Este es el objetivo del aprendizaje supervisado.\n",
    "\n",
    "Cabe destacar que mientras que en la muestra de entrenamiento el puntaje siempre incrementará en la medida que agreguemos más atributos, esto será ineficiente en la medida que generaremos una función no parsimoniosa que no podremos aplicar a otro conjunto de datos.\n"
   ]
  },
  {
   "cell_type": "code",
   "execution_count": 119,
   "metadata": {},
   "outputs": [
    {
     "data": {
      "image/png": "[encoded data removed]",
      "text/plain": [
       "<Figure size 600x400 with 1 Axes>"
      ]
     },
     "metadata": {},
     "output_type": "display_data"
    }
   ],
   "source": [
    "gfx.validate_curve()"
   ]
  },
  {
   "cell_type": "markdown",
   "metadata": {},
   "source": [
    "Ya entendiendo que la cantidad de atributos agregados puede dañar la capacidad de generalizar un modelo en nuevos datos, es meritorio mencionar el efecto del tamaño muestral en el aprendizaje del modelo.\n",
    "\n",
    "Por aprendizaje del modelo hacemos referencia a la capacidad de obtener información sobre los parámetros verdaderos a estimar.\n",
    "\n",
    "La figura generada con `gfx.learning_curve()` muestra la relación entre el tamaño de las muestras de entrenamiento y prueba, y el puntaje a optimizar. Se aprecia que en situaciones donde el tamaño muestral del modelo entrenado es bajo, los puntajes serán sobrestimados en relación a los puntajes de la muestra validada.\n",
    "\n",
    "Esperamos que ambos modelos tiendan a converger en la medida que el tamaño muestral aumenta.\n",
    "\n",
    "Esto está asociado a lo que vimos en sesiones pasadas con los aspectos asintóticos de las variables aleatorias, donde una mayor cantidad de observaciones de una muestra permite asimilar de mejor manera las características poblacionales."
   ]
  },
  {
   "cell_type": "code",
   "execution_count": 120,
   "metadata": {},
   "outputs": [
    {
     "data": {
      "image/png": "[encoded data removed]",
      "text/plain": [
       "<Figure size 600x400 with 1 Axes>"
      ]
     },
     "metadata": {},
     "output_type": "display_data"
    }
   ],
   "source": [
    "gfx.learning_curve()"
   ]
  },
  {
   "cell_type": "markdown",
   "metadata": {},
   "source": [
    "Existen métodos más sofisticados para generar subconjuntos como la validación cruzada (crossvalidation) y la estimación 'deja-uno-fuera' (Leave-one-out) que veremos la próxima semana."
   ]
  },
  {
   "cell_type": "markdown",
   "metadata": {},
   "source": [
    "#### **10 - Refactorización de nuestro modelo**"
   ]
  },
  {
   "cell_type": "markdown",
   "metadata": {},
   "source": [
    "##### `Feature engineering`"
   ]
  },
  {
   "cell_type": "markdown",
   "metadata": {},
   "source": [
    "Resulta que el modelo que generamos con sklearn incluye todas las variables dentro de la matriz de datos. Un inconveniente relacionado es el hecho que nuestro modelo puede que no sea el óptimo, dado que incluimos regresores que no aportan poder predictivo y utilizan grados de libertad de forma ineficiente. Nuestro objetivo es encontrar un número adecuado de regresores a incluir en nuestro modelo predictivo.\n",
    "\n",
    "Una manera simple de determinar cuáles van a ser los principales atributos a incluir en el modelo es mediante la generación de correlaciones parciales entre cada atributo y el vector objetivo.\n",
    "\n",
    "Este procedimiento es un ejemplo de feature engineering, el seleccionar y/o preprocesar atributos correspondiente a los datos que permiten resumir de manera precisa un modelo. Está asociado al concepto de parsimonia proveniente de la academia, donde la explicación más adecuada es aquella que no agregue información irrelevante (el principio de la navaja de Occam).\n",
    "\n",
    "El código de abajo es una versión extremadamente simplificada de una búsqueda de correlaciones. Para tener un algoritmo más depurado, es necesario diferenciar entre la naturaleza de las variables ingresadas y el tipo de correlación que se genera. Para ello se pueden ocupar correlaciones poliseriales para la asociación categórica-contínua y punto biserial para ordinales-continuas.\n"
   ]
  },
  {
   "cell_type": "code",
   "execution_count": 176,
   "metadata": {},
   "outputs": [
    {
     "data": {
      "text/html": [
       "<div>\n",
       "<style scoped>\n",
       "    .dataframe tbody tr th:only-of-type {\n",
       "        vertical-align: middle;\n",
       "    }\n",
       "\n",
       "    .dataframe tbody tr th {\n",
       "        vertical-align: top;\n",
       "    }\n",
       "\n",
       "    .dataframe thead th {\n",
       "        text-align: right;\n",
       "    }\n",
       "</style>\n",
       "<table border=\"1\" class=\"dataframe\">\n",
       "  <thead>\n",
       "    <tr style=\"text-align: right;\">\n",
       "      <th></th>\n",
       "      <th>corr</th>\n",
       "      <th>abs_corr</th>\n",
       "    </tr>\n",
       "    <tr>\n",
       "      <th>attribute</th>\n",
       "      <th></th>\n",
       "      <th></th>\n",
       "    </tr>\n",
       "  </thead>\n",
       "  <tbody>\n",
       "    <tr>\n",
       "      <th>sex</th>\n",
       "      <td>-0.352354</td>\n",
       "      <td>0.352354</td>\n",
       "    </tr>\n",
       "    <tr>\n",
       "      <th>male</th>\n",
       "      <td>0.352354</td>\n",
       "      <td>0.352354</td>\n",
       "    </tr>\n",
       "    <tr>\n",
       "      <th>ed</th>\n",
       "      <td>0.349334</td>\n",
       "      <td>0.349334</td>\n",
       "    </tr>\n",
       "    <tr>\n",
       "      <th>height</th>\n",
       "      <td>0.302707</td>\n",
       "      <td>0.302707</td>\n",
       "    </tr>\n",
       "    <tr>\n",
       "      <th>height1</th>\n",
       "      <td>0.188762</td>\n",
       "      <td>0.188762</td>\n",
       "    </tr>\n",
       "    <tr>\n",
       "      <th>height2</th>\n",
       "      <td>0.105633</td>\n",
       "      <td>0.105633</td>\n",
       "    </tr>\n",
       "    <tr>\n",
       "      <th>age_category</th>\n",
       "      <td>0.075321</td>\n",
       "      <td>0.075321</td>\n",
       "    </tr>\n",
       "    <tr>\n",
       "      <th>yearbn</th>\n",
       "      <td>-0.068475</td>\n",
       "      <td>0.068475</td>\n",
       "    </tr>\n",
       "    <tr>\n",
       "      <th>age</th>\n",
       "      <td>0.068475</td>\n",
       "      <td>0.068475</td>\n",
       "    </tr>\n",
       "    <tr>\n",
       "      <th>hisp</th>\n",
       "      <td>0.055187</td>\n",
       "      <td>0.055187</td>\n",
       "    </tr>\n",
       "    <tr>\n",
       "      <th>eth</th>\n",
       "      <td>0.055139</td>\n",
       "      <td>0.055139</td>\n",
       "    </tr>\n",
       "    <tr>\n",
       "      <th>race</th>\n",
       "      <td>-0.031410</td>\n",
       "      <td>0.031410</td>\n",
       "    </tr>\n",
       "    <tr>\n",
       "      <th>Unnamed: 0</th>\n",
       "      <td>-0.024675</td>\n",
       "      <td>0.024675</td>\n",
       "    </tr>\n",
       "  </tbody>\n",
       "</table>\n",
       "</div>"
      ],
      "text/plain": [
       "                  corr  abs_corr\n",
       "attribute                       \n",
       "sex          -0.352354  0.352354\n",
       "male          0.352354  0.352354\n",
       "ed            0.349334  0.349334\n",
       "height        0.302707  0.302707\n",
       "height1       0.188762  0.188762\n",
       "height2       0.105633  0.105633\n",
       "age_category  0.075321  0.075321\n",
       "yearbn       -0.068475  0.068475\n",
       "age           0.068475  0.068475\n",
       "hisp          0.055187  0.055187\n",
       "eth           0.055139  0.055139\n",
       "race         -0.031410  0.031410\n",
       "Unnamed: 0   -0.024675  0.024675"
      ]
     },
     "execution_count": 176,
     "metadata": {},
     "output_type": "execute_result"
    }
   ],
   "source": [
    "# extraemos los nombres de las columnas en la base de datos \n",
    "columns = df.columns\n",
    "\n",
    "# generamos 3 arrays vacíos para guardar los valores \n",
    "# nombre de la variable\n",
    "attr_name = []\n",
    "# correlación de pearson \n",
    "pearson_r = []\n",
    "# valor absoluto de la correlación \n",
    "abs_pearson_r = []\n",
    "\n",
    "# para cada columna en el array de columnas\n",
    "for col in columns:\n",
    "    # si la columna no es la dependiente\n",
    "    if col != \"earn\":\n",
    "    # adjuntar el nombre de la variable en attr_name \n",
    "        attr_name.append(col)\n",
    "    # adjuntar la correlación de pearson \n",
    "        pearson_r.append(df[col].corr(df['earn']))\n",
    "    # adjuntar el absoluto de la correlación de pearson \n",
    "        abs_pearson_r.append(abs(df[col].corr(df['earn'])))\n",
    "\n",
    "# transformamos los arrays en un DataFrame \n",
    "features = pd.DataFrame({\n",
    "    'attribute': attr_name, \n",
    "    'corr':pearson_r, \n",
    "    'abs_corr':abs_pearson_r\n",
    "})\n",
    "\n",
    "# generamos el index con los nombres de las variables \n",
    "features = features.set_index('attribute')\n",
    "\n",
    "# ordenamos los valores de forma descendiente \n",
    "features.sort_values(by=['abs_corr'], ascending=False)"
   ]
  },
  {
   "cell_type": "markdown",
   "metadata": {},
   "source": [
    "#### **11 - Implementando un modelo con menos regresores**"
   ]
  },
  {
   "cell_type": "markdown",
   "metadata": {},
   "source": [
    "En base a la información obtenida con nuestra tabla de correlaciones parciales, podemos refinar nuestro primer modelo para reducir el error cuadrático.\n",
    "\n",
    "Para ello seleccionaremos aquellas correlaciones que sean superior al 0.30. Resulta que nuestra versión más parsimoniosa incluye sólo a Male, Ed y Height."
   ]
  },
  {
   "cell_type": "code",
   "execution_count": 138,
   "metadata": {},
   "outputs": [],
   "source": [
    "# separemos los vectores a trabajar \n",
    "y_vec= df.loc[:, 'earn']\n",
    "X_mat = df.loc[:, ['male', 'ed', 'height']]"
   ]
  },
  {
   "cell_type": "code",
   "execution_count": 177,
   "metadata": {},
   "outputs": [
    {
     "data": {
      "text/plain": [
       "0       50000.0\n",
       "1       60000.0\n",
       "2       30000.0\n",
       "3       51000.0\n",
       "4        9000.0\n",
       "         ...   \n",
       "1369    19000.0\n",
       "1370    15000.0\n",
       "1371     8000.0\n",
       "1372    60000.0\n",
       "1373     6000.0\n",
       "Name: earn, Length: 1374, dtype: float64"
      ]
     },
     "execution_count": 177,
     "metadata": {},
     "output_type": "execute_result"
    }
   ],
   "source": [
    "y_vec"
   ]
  },
  {
   "cell_type": "code",
   "execution_count": 178,
   "metadata": {},
   "outputs": [
    {
     "data": {
      "text/html": [
       "<div>\n",
       "<style scoped>\n",
       "    .dataframe tbody tr th:only-of-type {\n",
       "        vertical-align: middle;\n",
       "    }\n",
       "\n",
       "    .dataframe tbody tr th {\n",
       "        vertical-align: top;\n",
       "    }\n",
       "\n",
       "    .dataframe thead th {\n",
       "        text-align: right;\n",
       "    }\n",
       "</style>\n",
       "<table border=\"1\" class=\"dataframe\">\n",
       "  <thead>\n",
       "    <tr style=\"text-align: right;\">\n",
       "      <th></th>\n",
       "      <th>male</th>\n",
       "      <th>ed</th>\n",
       "      <th>height</th>\n",
       "    </tr>\n",
       "  </thead>\n",
       "  <tbody>\n",
       "    <tr>\n",
       "      <th>0</th>\n",
       "      <td>1</td>\n",
       "      <td>16</td>\n",
       "      <td>74</td>\n",
       "    </tr>\n",
       "    <tr>\n",
       "      <th>1</th>\n",
       "      <td>0</td>\n",
       "      <td>16</td>\n",
       "      <td>66</td>\n",
       "    </tr>\n",
       "    <tr>\n",
       "      <th>2</th>\n",
       "      <td>0</td>\n",
       "      <td>16</td>\n",
       "      <td>64</td>\n",
       "    </tr>\n",
       "    <tr>\n",
       "      <th>3</th>\n",
       "      <td>0</td>\n",
       "      <td>17</td>\n",
       "      <td>63</td>\n",
       "    </tr>\n",
       "    <tr>\n",
       "      <th>4</th>\n",
       "      <td>0</td>\n",
       "      <td>15</td>\n",
       "      <td>64</td>\n",
       "    </tr>\n",
       "    <tr>\n",
       "      <th>...</th>\n",
       "      <td>...</td>\n",
       "      <td>...</td>\n",
       "      <td>...</td>\n",
       "    </tr>\n",
       "    <tr>\n",
       "      <th>1369</th>\n",
       "      <td>1</td>\n",
       "      <td>12</td>\n",
       "      <td>72</td>\n",
       "    </tr>\n",
       "    <tr>\n",
       "      <th>1370</th>\n",
       "      <td>0</td>\n",
       "      <td>18</td>\n",
       "      <td>61</td>\n",
       "    </tr>\n",
       "    <tr>\n",
       "      <th>1371</th>\n",
       "      <td>0</td>\n",
       "      <td>12</td>\n",
       "      <td>64</td>\n",
       "    </tr>\n",
       "    <tr>\n",
       "      <th>1372</th>\n",
       "      <td>1</td>\n",
       "      <td>12</td>\n",
       "      <td>72</td>\n",
       "    </tr>\n",
       "    <tr>\n",
       "      <th>1373</th>\n",
       "      <td>1</td>\n",
       "      <td>12</td>\n",
       "      <td>68</td>\n",
       "    </tr>\n",
       "  </tbody>\n",
       "</table>\n",
       "<p>1374 rows × 3 columns</p>\n",
       "</div>"
      ],
      "text/plain": [
       "      male  ed  height\n",
       "0        1  16      74\n",
       "1        0  16      66\n",
       "2        0  16      64\n",
       "3        0  17      63\n",
       "4        0  15      64\n",
       "...    ...  ..     ...\n",
       "1369     1  12      72\n",
       "1370     0  18      61\n",
       "1371     0  12      64\n",
       "1372     1  12      72\n",
       "1373     1  12      68\n",
       "\n",
       "[1374 rows x 3 columns]"
      ]
     },
     "execution_count": 178,
     "metadata": {},
     "output_type": "execute_result"
    }
   ],
   "source": [
    "X_mat"
   ]
  },
  {
   "cell_type": "markdown",
   "metadata": {},
   "source": [
    "Ahora procedemos a dividir la muestra en conjuntos de entrenamiento y prueba. A diferencia del ejemplo anterior, donde nuestra división se realizó mediante la separación de las últimas 30 observaciones, en este caso utilizaremos `train_test_split`, un método que permite realizar separaciones de muestras aleatorizadas. Cabe destacar que este método es el preferido, dado que mediante la aleatorización podemos cancelar el efecto de sesgo por variables intervinientes en la muestra.\n",
    "\n",
    "El método toma como argumentos la matriz de atributos (`X_mat`) y el vector objetivo a dividir (`y_vec`), el porcentaje de datos que serán asignados al conjunto de muestra (`test_size`), y una semilla pseudoaleatoria para asegurar replicación de resultados (`random_state`).\n",
    "\n",
    "`train_test_split` devuelve como objetos la matriz de atributos para entrenar (`X_train`), la matriz de atributos para validar (`X_test`), el vector objetivo para entrenar (`y_train`) y el vector objetivo para contrastar las predicciones (`y_test`). Cabe destacar que el método las devuelve en ese orden, así que es mejor seguirlo para evitar confusiones entre objetos."
   ]
  },
  {
   "cell_type": "code",
   "execution_count": 179,
   "metadata": {},
   "outputs": [],
   "source": [
    "from sklearn.model_selection import train_test_split\n",
    "X_train, X_test, y_train, y_test = train_test_split(X_mat, y_vec, test_size=.30, random_state=11238)"
   ]
  },
  {
   "cell_type": "markdown",
   "metadata": {},
   "source": [
    "Con la muestra ya dividida, podemos implementar el modelo de regresión con los mismos hiper parámetros anteriores."
   ]
  },
  {
   "cell_type": "code",
   "execution_count": 180,
   "metadata": {},
   "outputs": [],
   "source": [
    "purge_model = linear_model.LinearRegression(fit_intercept=True) \n",
    "purge_model.fit(X_train, y_train)\n",
    "purge_model_yhat = purge_model.predict(X_test)"
   ]
  },
  {
   "cell_type": "markdown",
   "metadata": {},
   "source": [
    "Ahora podemos comparar el poder predictivo entre los dos modelos mediante el promedio del error cuadrático y el R cuadrado. Por motivos prácticos, se sugiere presentar toda esta información de manera visual."
   ]
  },
  {
   "cell_type": "code",
   "execution_count": 181,
   "metadata": {},
   "outputs": [
    {
     "data": {
      "image/png": "[encoded data removed]",
      "text/plain": [
       "<Figure size 600x400 with 2 Axes>"
      ]
     },
     "metadata": {},
     "output_type": "display_data"
    }
   ],
   "source": [
    "m2_mse = mean_squared_error(y_test, purge_model_yhat).round(0) \n",
    "m2_r2 = r2_score(y_test, purge_model_yhat).round(2) \n",
    "plt.subplot(2,1,1)\n",
    "plt.barh(['Modelo 1\\nTodos los Atributos', 'Modelo 2\\nEd + Male + Height'], [m1_mse, m2_mse])\n",
    "plt.title(\"Promedio Error Cuadrático\") \n",
    "plt.subplot(2,1, 2)\n",
    "plt.barh(['Modelo 1\\nTodos los Atributos', 'Modelo 2\\nEd + Male + Height'], [m1_r2, m2_r2])\n",
    "plt.title(\"R cuadrado\")\n",
    "plt.tight_layout()"
   ]
  },
  {
   "cell_type": "markdown",
   "metadata": {},
   "source": [
    "Si comparamos el promedio del error cuadrático para ambos modelos, existe evidencia para preferir el segundo modelo, dado que presenta una reducción significativa del error cuadrático.\n",
    "\n",
    "Resulta contraintuitivo el hecho que el R cuadrado indica evidencia favorable para el primer modelo. ¿Por qué sucede esto?\n",
    "\n",
    "Resulta que la forma en que se calcula el R cuadrado no penaliza por la inclusión de variables. En la medida que nosotros agregamos más variables al modelo, el R cuadrado sólo puede aumentar en su \"poder explicativo\" o mantenerse constante. Este comportamiento engaña el criterio de selección de modelos.\n",
    "\n",
    "El promedio del error cuadrático hace más sentido para justificar el poder predictivo de un modelo de regresión lineal en el sentido que es una medida directa del método de optimización (mínimos cuadrados ordinarios)."
   ]
  }
 ],
 "metadata": {
  "kernelspec": {
   "display_name": "base",
   "language": "python",
   "name": "python3"
  },
  "language_info": {
   "codemirror_mode": {
    "name": "ipython",
    "version": 3
   },
   "file_extension": ".py",
   "mimetype": "text/x-python",
   "name": "python",
   "nbconvert_exporter": "python",
   "pygments_lexer": "ipython3",
   "version": "3.9.5"
  }
 },
 "nbformat": 4,
 "nbformat_minor": 2
}
