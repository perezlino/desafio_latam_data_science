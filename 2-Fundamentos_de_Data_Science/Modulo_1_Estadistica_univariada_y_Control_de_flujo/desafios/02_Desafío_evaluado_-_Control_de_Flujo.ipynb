{
 "cells": [
  {
   "cell_type": "markdown",
   "id": "cd3efb90-6bfb-45d0-a200-948f253398a5",
   "metadata": {},
   "source": [
    "### **`Desafío 1`**\n",
    "\n",
    "Generar un par de arrays ficticios con numpy.\n",
    "\n",
    "Tip: Utilice la función linspace para generar un array entre 1 y 50, y un array entre 50 y 150"
   ]
  },
  {
   "cell_type": "code",
   "execution_count": 1,
   "id": "0fa6bc55-6fd6-4704-b5bc-97e2f3a786ee",
   "metadata": {},
   "outputs": [
    {
     "name": "stdout",
     "output_type": "stream",
     "text": [
      "[ 1.  2.  3.  4.  5.  6.  7.  8.  9. 10. 11. 12. 13. 14. 15. 16. 17. 18.\n",
      " 19. 20. 21. 22. 23. 24. 25. 26. 27. 28. 29. 30. 31. 32. 33. 34. 35. 36.\n",
      " 37. 38. 39. 40. 41. 42. 43. 44. 45. 46. 47. 48. 49. 50.]\n",
      "[ 50.  51.  52.  53.  54.  55.  56.  57.  58.  59.  60.  61.  62.  63.\n",
      "  64.  65.  66.  67.  68.  69.  70.  71.  72.  73.  74.  75.  76.  77.\n",
      "  78.  79.  80.  81.  82.  83.  84.  85.  86.  87.  88.  89.  90.  91.\n",
      "  92.  93.  94.  95.  96.  97.  98.  99. 100. 101. 102. 103. 104. 105.\n",
      " 106. 107. 108. 109. 110. 111. 112. 113. 114. 115. 116. 117. 118. 119.\n",
      " 120. 121. 122. 123. 124. 125. 126. 127. 128. 129. 130. 131. 132. 133.\n",
      " 134. 135. 136. 137. 138. 139. 140. 141. 142. 143. 144. 145. 146. 147.\n",
      " 148. 149. 150.]\n"
     ]
    }
   ],
   "source": [
    "import numpy as np\n",
    "\n",
    "primer_array = np.linspace(1,50,50)\n",
    "segundo_array = np.linspace(50,150,101)\n",
    "\n",
    "print(primer_array)\n",
    "print(segundo_array)"
   ]
  },
  {
   "cell_type": "markdown",
   "id": "777b922b-7d1a-48d7-b3ce-864e3e0735c9",
   "metadata": {},
   "source": [
    "### **`Desafío 2`**\n",
    "\n",
    "Ejecute un loop que devuelva si el número en el primer array es par o impar.\n",
    "\n",
    "Tip: Utilice la función módulo para encontrar si el número es divisible por 2."
   ]
  },
  {
   "cell_type": "code",
   "execution_count": 2,
   "id": "e728f8e0-7294-4f13-98d8-dc3703995f4a",
   "metadata": {},
   "outputs": [
    {
     "name": "stdout",
     "output_type": "stream",
     "text": [
      "['Par', 'Impar', 'Par', 'Impar', 'Par', 'Impar', 'Par', 'Impar', 'Par', 'Impar', 'Par', 'Impar', 'Par', 'Impar', 'Par', 'Impar', 'Par', 'Impar', 'Par', 'Impar', 'Par', 'Impar', 'Par', 'Impar', 'Par', 'Impar', 'Par', 'Impar', 'Par', 'Impar', 'Par', 'Impar', 'Par', 'Impar', 'Par', 'Impar', 'Par', 'Impar', 'Par', 'Impar', 'Par', 'Impar', 'Par', 'Impar', 'Par', 'Impar', 'Par', 'Impar', 'Par', 'Impar']\n",
      "El largo de este nuevo array es de 50\n"
     ]
    }
   ],
   "source": [
    "new_primer_array = []\n",
    "\n",
    "for i in primer_array:\n",
    "    if i % 2:\n",
    "        new_primer_array.append(\"Par\")\n",
    "    else:\n",
    "        new_primer_array.append(\"Impar\")\n",
    "print(new_primer_array)\n",
    "print(f\"El largo de este nuevo array es de {len(new_primer_array)}\")"
   ]
  },
  {
   "cell_type": "markdown",
   "id": "1d8b8174-0af7-48e5-a93d-f8645a71fe59",
   "metadata": {},
   "source": [
    "### **`Desafío 3`**\n",
    "\n",
    "Genere un loop con el segundo array que cuente las siguientes condiciones:\n",
    "\n",
    "a) Si el número es divisible por 2 o 3.\n",
    "\n",
    "b) Si el número es divisible por 2 y 3.\n",
    "\n",
    "c) Si el número es divisible por 3 pero no por 2.\n",
    "\n",
    "d) Si el número no es divisible por 2 ni 3."
   ]
  },
  {
   "cell_type": "code",
   "execution_count": 3,
   "id": "ed0cfacb-2a27-4fe5-acf3-e700d1f195cd",
   "metadata": {},
   "outputs": [
    {
     "name": "stdout",
     "output_type": "stream",
     "text": [
      "a) Si el número es divisible por 2 o 3. La cantidad de estos casos es de 68\n",
      "b) Si el número es divisible por 2 y 3. La cantidad de estos casos es de 17\n",
      "c) Si el número es divisible por 3 pero no por 2. La cantidad de estos casos es de 17\n",
      "d) Si el número no es divisible por 2 ni 3.La cantidad de estos casos es de 33\n"
     ]
    }
   ],
   "source": [
    "a = b = c = d = 0\n",
    "\n",
    "for i in segundo_array:\n",
    "    if (i % 2 == 0) or (i % 3 == 0):\n",
    "        a +=1\n",
    "    if (i % 2 == 0) & (i % 3 == 0):\n",
    "        b +=1\n",
    "    if (i % 3 == 0) & ~(i % 2 == 0):\n",
    "        c +=1\n",
    "    if ~(i % 2 == 0) & ~(i % 3 == 0):\n",
    "        d +=1\n",
    "        \n",
    "print(f\"a) Si el número es divisible por 2 o 3. La cantidad de estos casos es de {a}\\nb) Si el número es divisible por 2 y 3. La cantidad de estos casos es de {b}\\nc) Si el número es divisible por 3 pero no por 2. La cantidad de estos casos es de {c}\\nd) Si el número no es divisible por 2 ni 3.La cantidad de estos casos es de {d}\")"
   ]
  },
  {
   "cell_type": "markdown",
   "id": "7ecc8a94-2c99-4aa4-9513-8cf42f1f3d22",
   "metadata": {},
   "source": [
    "### **`Desafío 4`**\n",
    "\n",
    "Corrección de errores.\n",
    "\n",
    "for i in range(100):\n",
    "\n",
    "print(I**2)"
   ]
  },
  {
   "cell_type": "code",
   "execution_count": 4,
   "id": "cefba39f-6fd2-42d1-baca-29b4fc85b58b",
   "metadata": {},
   "outputs": [
    {
     "name": "stdout",
     "output_type": "stream",
     "text": [
      "0\n",
      "1\n",
      "4\n",
      "9\n",
      "16\n",
      "25\n",
      "36\n",
      "49\n",
      "64\n",
      "81\n",
      "100\n",
      "121\n",
      "144\n",
      "169\n",
      "196\n",
      "225\n",
      "256\n",
      "289\n",
      "324\n",
      "361\n",
      "400\n",
      "441\n",
      "484\n",
      "529\n",
      "576\n",
      "625\n",
      "676\n",
      "729\n",
      "784\n",
      "841\n",
      "900\n",
      "961\n",
      "1024\n",
      "1089\n",
      "1156\n",
      "1225\n",
      "1296\n",
      "1369\n",
      "1444\n",
      "1521\n",
      "1600\n",
      "1681\n",
      "1764\n",
      "1849\n",
      "1936\n",
      "2025\n",
      "2116\n",
      "2209\n",
      "2304\n",
      "2401\n",
      "2500\n",
      "2601\n",
      "2704\n",
      "2809\n",
      "2916\n",
      "3025\n",
      "3136\n",
      "3249\n",
      "3364\n",
      "3481\n",
      "3600\n",
      "3721\n",
      "3844\n",
      "3969\n",
      "4096\n",
      "4225\n",
      "4356\n",
      "4489\n",
      "4624\n",
      "4761\n",
      "4900\n",
      "5041\n",
      "5184\n",
      "5329\n",
      "5476\n",
      "5625\n",
      "5776\n",
      "5929\n",
      "6084\n",
      "6241\n",
      "6400\n",
      "6561\n",
      "6724\n",
      "6889\n",
      "7056\n",
      "7225\n",
      "7396\n",
      "7569\n",
      "7744\n",
      "7921\n",
      "8100\n",
      "8281\n",
      "8464\n",
      "8649\n",
      "8836\n",
      "9025\n",
      "9216\n",
      "9409\n",
      "9604\n",
      "9801\n"
     ]
    }
   ],
   "source": [
    "for i in range(100):\n",
    "    print(i**2)"
   ]
  },
  {
   "cell_type": "markdown",
   "id": "ca6f1c05-df5f-4903-9dfe-59e22f5c121b",
   "metadata": {},
   "source": [
    "### **`Desafío 5`**\n",
    "\n",
    "●\tUtilizando la misma base flights.csv hacer un loop y clasificar los meses con una cantidad de pasajeros menor a la media.\n",
    "\n",
    "●\tPara ello, generen un nuevo objeto que represente la media de passengers.\n",
    "\n",
    "●\tGeneren una columna en la base de datos que se llame underperforming y asígnele 0.\n",
    "\n",
    "●\tEjecuten un loop que recorra cada observación de passengers, donde si la\n",
    "observación es menor a la media de passengers se le asigne a underperforming\n",
    "un 1.\n",
    "\n",
    "●\tPara asignar unos en la columna underperforming ya creada, para ello utilice la función at de pandas."
   ]
  },
  {
   "cell_type": "code",
   "execution_count": 5,
   "id": "0d614f48-21ca-4d1b-96a2-4945ecbc937c",
   "metadata": {},
   "outputs": [
    {
     "data": {
      "text/plain": [
       "1    0.555556\n",
       "0    0.444444\n",
       "Name: underperforming, dtype: float64"
      ]
     },
     "execution_count": 5,
     "metadata": {},
     "output_type": "execute_result"
    }
   ],
   "source": [
    "import pandas as pd\n",
    "\n",
    "df = pd.read_csv(\"flights.csv\")\n",
    "\n",
    "media = np.mean(df.passengers)\n",
    "\n",
    "df['underperforming'] = 0\n",
    "\n",
    "i = 0\n",
    "\n",
    "for j in df['passengers']:\n",
    "    if j < media:\n",
    "        df.at[i,'underperforming'] = 1\n",
    "    i +=1\n",
    "\n",
    "df['underperforming'].value_counts(normalize = True)"
   ]
  },
  {
   "cell_type": "markdown",
   "id": "a0b54bf8-de4f-4f0f-9a57-ceb32a193855",
   "metadata": {},
   "source": [
    "### **`Desafío 6`**\n",
    "\n",
    "Hacer un loop que clasifique los meses donde la cantidad de pasajeros se escapa de la tendencia.\n",
    "\n",
    "●\tPara ello, genere dos objetos que guarden la media general y la desviación estándar general de passengers.\n",
    "\n",
    "●\tGenere una nueva columna en la tabla de datos que se llame outlier y asignele 0.\n",
    "\n",
    "●\tEjecuten un loop que recorra cada observación de passengers, donde si la\n",
    "observación se escapa de la tendencia sea 1, de lo contrario 0.\n",
    "\n",
    "●\tPara clasificar los casos que se escapen la tendencia, la observación debe satisfacer una de las siguientes condiciones:\n",
    "\n",
    "    ○\tLa observación debe ser menor a la media menos la desviación estándar, o\n",
    "    ○\tLa observación debe ser mayor a la media más la desviación estándar.\n",
    "    ○\t¿Cuántas observaciones se pueden clasificar como casos extremos?\n"
   ]
  },
  {
   "cell_type": "code",
   "execution_count": 6,
   "id": "34df39ea-eea3-481f-ba7c-1ba21d2c35fe",
   "metadata": {},
   "outputs": [
    {
     "data": {
      "text/plain": [
       "53"
      ]
     },
     "execution_count": 6,
     "metadata": {},
     "output_type": "execute_result"
    }
   ],
   "source": [
    "#objetos que guardan la media y la desviación estándar\n",
    "mu = media\n",
    "sigma = np.std(df.passengers)\n",
    "\n",
    "df['outlier'] = 0\n",
    "\n",
    "for i in range(len(df['passengers'])):\n",
    "    if np.abs(df['passengers'][i] - mu) > sigma:\n",
    "        df.at[i,'outlier'] = 1\n",
    "    i +=1\n",
    "\n",
    "np.sum(df['outlier'])"
   ]
  }
 ],
 "metadata": {
  "kernelspec": {
   "display_name": "Python 3 (ipykernel)",
   "language": "python",
   "name": "python3"
  },
  "language_info": {
   "codemirror_mode": {
    "name": "ipython",
    "version": 3
   },
   "file_extension": ".py",
   "mimetype": "text/x-python",
   "name": "python",
   "nbconvert_exporter": "python",
   "pygments_lexer": "ipython3",
   "version": "3.8.12"
  }
 },
 "nbformat": 4,
 "nbformat_minor": 5
}
