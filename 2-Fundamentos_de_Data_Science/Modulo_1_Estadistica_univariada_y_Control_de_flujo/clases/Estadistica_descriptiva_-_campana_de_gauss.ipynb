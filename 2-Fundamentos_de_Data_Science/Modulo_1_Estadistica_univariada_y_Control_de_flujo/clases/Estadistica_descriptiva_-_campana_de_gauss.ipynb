{
 "cells": [
  {
   "cell_type": "markdown",
   "metadata": {},
   "source": [
    "### **Estadistica descriptiva: Campana de Gauss**"
   ]
  },
  {
   "cell_type": "markdown",
   "metadata": {},
   "source": [
    "- **`σ`** (sigma) = **`Desviacion estándar`** (Desviación típica)\n",
    "- **`μ`** (mu) = **`Media aritmética`** (Promedio)\n",
    "\n",
    "**`Media   aritmética`**:   también   denominada   promedio,   es   la   que   se   utiliza   principalmente   y   se   define   como   la   suma   de   los   valores   de   todas   las   observaciones divididas por el número total de datos.\n",
    "\n",
    "**`Desviación  estándar`**:  también  llamada  desviación  típica,  es  una  medida  de  dispersión usada en estadística que nos dice cuánto tienden a alejarse los valores puntuales   del   promedio   en   una   distribución.   Específicamente,   la   desviación   estándar es \"el promedio de la distancia de cada punto respecto del promedio\". Se suele  representar  por  una  S  o  con  la  letra  sigma, según  se  calcule  en  una  muestra o en la población. Una  desviación  estándar  grande  indica  que  los  puntos  están  lejos  de  la  media,  y  una desviación pequeña indica que los datos están agrupados cerca de la media. \n",
    "\n",
    "\n",
    "<center><img src=\"https://i.postimg.cc/bY13tkws/dl7.png\"></center>"
   ]
  }
 ],
 "metadata": {
  "language_info": {
   "name": "python"
  }
 },
 "nbformat": 4,
 "nbformat_minor": 2
}
