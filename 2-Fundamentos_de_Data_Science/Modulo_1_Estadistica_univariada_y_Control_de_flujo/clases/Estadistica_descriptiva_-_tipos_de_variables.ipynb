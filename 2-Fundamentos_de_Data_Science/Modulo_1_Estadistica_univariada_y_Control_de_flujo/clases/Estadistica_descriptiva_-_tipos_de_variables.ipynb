{
 "cells": [
  {
   "cell_type": "markdown",
   "metadata": {},
   "source": [
    "### **Estadistica descriptiva: Tipos de variables**"
   ]
  },
  {
   "cell_type": "markdown",
   "metadata": {},
   "source": [
    "<center><img src=\"https://i.postimg.cc/c19qZNNz/dl2.jpg\"></center>"
   ]
  }
 ],
 "metadata": {
  "language_info": {
   "name": "python"
  }
 },
 "nbformat": 4,
 "nbformat_minor": 2
}
