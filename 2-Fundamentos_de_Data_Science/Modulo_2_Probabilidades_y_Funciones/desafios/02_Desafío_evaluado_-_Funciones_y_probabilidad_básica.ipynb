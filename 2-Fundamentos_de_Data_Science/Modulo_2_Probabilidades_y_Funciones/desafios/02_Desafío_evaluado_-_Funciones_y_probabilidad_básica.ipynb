{
 "cells": [
  {
   "cell_type": "markdown",
   "metadata": {
    "id": "BwNUPnI1YXsa"
   },
   "source": [
    "### **Desafío - Funciones y probabilidad básica**"
   ]
  },
  {
   "cell_type": "markdown",
   "metadata": {
    "id": "JElQe4GrZMP0"
   },
   "source": [
    "#### **`Desafío 1: Generación de funciones`**"
   ]
  },
  {
   "cell_type": "markdown",
   "metadata": {},
   "source": [
    "● Genere funciones para calcular la media y varianza de un vector. Debe cumplir con los siguientes requisitos:\n",
    "\n",
    "    ○ Ambas funciones deben ingresar un argumento ​x​ correspondiente al vector.\n",
    "    ○ Las funciones deben contener ​docstrings con la documentación asociada a la variable y retornar un valor utilizando ​return​.\n",
    "    ○ La función de la varianza debe llamar a la función de la media.\n",
    "\n",
    "● Utilice las funciones para reportar la información sobre ​goles_favor​,​ goles_contra y  ​puntos​."
   ]
  },
  {
   "cell_type": "code",
   "execution_count": 1,
   "metadata": {},
   "outputs": [],
   "source": [
    "import pandas as pd\n",
    "import numpy as np"
   ]
  },
  {
   "cell_type": "code",
   "execution_count": 25,
   "metadata": {
    "colab": {
     "base_uri": "https://localhost:8080/",
     "height": 224
    },
    "executionInfo": {
     "elapsed": 242,
     "status": "ok",
     "timestamp": 1628084690883,
     "user": {
      "displayName": "Francisco Silva",
      "photoUrl": "https://lh3.googleusercontent.com/a-/AOh14GhnBCIyF5R8AiTi5ykZU8rl4YlVuugPZqCU5uBJ4YQ=s64",
      "userId": "14439525103954735478"
     },
     "user_tz": 240
    },
    "id": "osyvOBRQYsXG",
    "outputId": "668896c8-1a2a-4aa3-e78b-52ee2ec572f5"
   },
   "outputs": [],
   "source": [
    "def media(x):\n",
    "    \"\"\"Esta función tiene un sólo argumento, la función media() calcula y retorna el promedio o media de una lista o columna que se entregue como argumento\"\"\"\n",
    "    return np.mean(x)\n",
    "    \n",
    "def varianza(x):\n",
    "    \"\"\"Esta función tiene un sólo argumento, la función varianza() calcula y retorna la varianza de una lista o columna que se entregue como argumento\"\"\"\n",
    "    variable = 0\n",
    "    for i in x:\n",
    "        variable += (i-media(x))**2\n",
    "    return variable/(len(x))"
   ]
  },
  {
   "cell_type": "code",
   "execution_count": 18,
   "metadata": {},
   "outputs": [
    {
     "data": {
      "text/html": [
       "<div>\n",
       "<style scoped>\n",
       "    .dataframe tbody tr th:only-of-type {\n",
       "        vertical-align: middle;\n",
       "    }\n",
       "\n",
       "    .dataframe tbody tr th {\n",
       "        vertical-align: top;\n",
       "    }\n",
       "\n",
       "    .dataframe thead th {\n",
       "        text-align: right;\n",
       "    }\n",
       "</style>\n",
       "<table border=\"1\" class=\"dataframe\">\n",
       "  <thead>\n",
       "    <tr style=\"text-align: right;\">\n",
       "      <th></th>\n",
       "      <th>team</th>\n",
       "      <th>continent</th>\n",
       "      <th>group</th>\n",
       "      <th>group_pos</th>\n",
       "      <th>cantidad_juegos</th>\n",
       "      <th>juegos_ganados</th>\n",
       "      <th>juegos_empatados</th>\n",
       "      <th>juegos_perdidos</th>\n",
       "      <th>goles_favor</th>\n",
       "      <th>goles_contra</th>\n",
       "      <th>goles_diferencia</th>\n",
       "      <th>puntos</th>\n",
       "      <th>clasificado</th>\n",
       "    </tr>\n",
       "  </thead>\n",
       "  <tbody>\n",
       "    <tr>\n",
       "      <th>0</th>\n",
       "      <td>Brazil</td>\n",
       "      <td>southamerica</td>\n",
       "      <td>A</td>\n",
       "      <td>1</td>\n",
       "      <td>3</td>\n",
       "      <td>2</td>\n",
       "      <td>1</td>\n",
       "      <td>0</td>\n",
       "      <td>7</td>\n",
       "      <td>2</td>\n",
       "      <td>5</td>\n",
       "      <td>7</td>\n",
       "      <td>1</td>\n",
       "    </tr>\n",
       "    <tr>\n",
       "      <th>1</th>\n",
       "      <td>Mexico</td>\n",
       "      <td>northamerica</td>\n",
       "      <td>A</td>\n",
       "      <td>2</td>\n",
       "      <td>3</td>\n",
       "      <td>2</td>\n",
       "      <td>1</td>\n",
       "      <td>0</td>\n",
       "      <td>4</td>\n",
       "      <td>1</td>\n",
       "      <td>3</td>\n",
       "      <td>7</td>\n",
       "      <td>1</td>\n",
       "    </tr>\n",
       "    <tr>\n",
       "      <th>2</th>\n",
       "      <td>Croatia</td>\n",
       "      <td>europe</td>\n",
       "      <td>A</td>\n",
       "      <td>3</td>\n",
       "      <td>3</td>\n",
       "      <td>1</td>\n",
       "      <td>0</td>\n",
       "      <td>2</td>\n",
       "      <td>6</td>\n",
       "      <td>6</td>\n",
       "      <td>0</td>\n",
       "      <td>3</td>\n",
       "      <td>0</td>\n",
       "    </tr>\n",
       "    <tr>\n",
       "      <th>3</th>\n",
       "      <td>Cameroon</td>\n",
       "      <td>africa</td>\n",
       "      <td>A</td>\n",
       "      <td>4</td>\n",
       "      <td>3</td>\n",
       "      <td>0</td>\n",
       "      <td>0</td>\n",
       "      <td>3</td>\n",
       "      <td>1</td>\n",
       "      <td>9</td>\n",
       "      <td>−8</td>\n",
       "      <td>0</td>\n",
       "      <td>0</td>\n",
       "    </tr>\n",
       "    <tr>\n",
       "      <th>4</th>\n",
       "      <td>Netherlands</td>\n",
       "      <td>europe</td>\n",
       "      <td>B</td>\n",
       "      <td>1</td>\n",
       "      <td>3</td>\n",
       "      <td>3</td>\n",
       "      <td>0</td>\n",
       "      <td>0</td>\n",
       "      <td>10</td>\n",
       "      <td>3</td>\n",
       "      <td>7</td>\n",
       "      <td>9</td>\n",
       "      <td>1</td>\n",
       "    </tr>\n",
       "  </tbody>\n",
       "</table>\n",
       "</div>"
      ],
      "text/plain": [
       "          team     continent group  group_pos  cantidad_juegos  \\\n",
       "0       Brazil  southamerica     A          1                3   \n",
       "1       Mexico  northamerica     A          2                3   \n",
       "2      Croatia        europe     A          3                3   \n",
       "3     Cameroon        africa     A          4                3   \n",
       "4  Netherlands        europe     B          1                3   \n",
       "\n",
       "   juegos_ganados  juegos_empatados  juegos_perdidos  goles_favor  \\\n",
       "0               2                 1                0            7   \n",
       "1               2                 1                0            4   \n",
       "2               1                 0                2            6   \n",
       "3               0                 0                3            1   \n",
       "4               3                 0                0           10   \n",
       "\n",
       "   goles_contra goles_diferencia  puntos  clasificado  \n",
       "0             2                5       7            1  \n",
       "1             1                3       7            1  \n",
       "2             6                0       3            0  \n",
       "3             9               −8       0            0  \n",
       "4             3                7       9            1  "
      ]
     },
     "execution_count": 18,
     "metadata": {},
     "output_type": "execute_result"
    }
   ],
   "source": [
    "import pandas as pd\n",
    "import numpy as np\n",
    "\n",
    "path = 'worldcup2014.csv'\n",
    "df = pd.read_csv(path)\n",
    "df.head()"
   ]
  },
  {
   "cell_type": "code",
   "execution_count": 30,
   "metadata": {
    "colab": {
     "base_uri": "https://localhost:8080/",
     "height": 297
    },
    "executionInfo": {
     "elapsed": 11,
     "status": "ok",
     "timestamp": 1628087859427,
     "user": {
      "displayName": "Francisco Silva",
      "photoUrl": "https://lh3.googleusercontent.com/a-/AOh14GhnBCIyF5R8AiTi5ykZU8rl4YlVuugPZqCU5uBJ4YQ=s64",
      "userId": "14439525103954735478"
     },
     "user_tz": 240
    },
    "id": "qGf0ZmUQaQv5",
    "outputId": "0c04a450-9576-4b2d-dd60-d6e866138cff"
   },
   "outputs": [
    {
     "name": "stdout",
     "output_type": "stream",
     "text": [
      "goles_favor\n",
      "True\n",
      "True\n",
      "\n",
      "goles_contra\n",
      "True\n",
      "True\n",
      "\n",
      "puntos\n",
      "True\n",
      "True\n"
     ]
    }
   ],
   "source": [
    "\n",
    "print(\"goles_favor\")\n",
    "print(np.mean(df['goles_favor']) == media(df['goles_favor']))\n",
    "print(np.std(df['goles_favor']) == varianza(df['goles_favor'])**(1/2))\n",
    "print()\n",
    "print(\"goles_contra\")\n",
    "print(np.mean(df['goles_contra']) == media(df['goles_contra']))\n",
    "print(np.std(df['goles_contra']) == varianza(df['goles_contra'])**(1/2))\n",
    "print()\n",
    "print(\"puntos\")\n",
    "print(np.mean(df['puntos']) == media(df['puntos']))\n",
    "print(np.std(df['puntos']) == varianza(df['puntos'])**(1/2))"
   ]
  },
  {
   "cell_type": "markdown",
   "metadata": {
    "id": "5frF5fTlYZGi"
   },
   "source": [
    "#### **`Desafío 2:`**"
   ]
  },
  {
   "cell_type": "markdown",
   "metadata": {},
   "source": [
    "Utilizando el método ​groupby ​de la clase ​DataFrame​, ​en conjunto con la función​ .agg de pandas, calcule la media, la varianza y desviación estándar de la cantidad de goles a favor, en contra y de la cantidad de puntos por continente."
   ]
  },
  {
   "cell_type": "code",
   "execution_count": 40,
   "metadata": {
    "colab": {
     "base_uri": "https://localhost:8080/",
     "height": 320
    },
    "executionInfo": {
     "elapsed": 394,
     "status": "ok",
     "timestamp": 1628088117266,
     "user": {
      "displayName": "Francisco Silva",
      "photoUrl": "https://lh3.googleusercontent.com/a-/AOh14GhnBCIyF5R8AiTi5ykZU8rl4YlVuugPZqCU5uBJ4YQ=s64",
      "userId": "14439525103954735478"
     },
     "user_tz": 240
    },
    "id": "ECmk4LkWlmA-",
    "outputId": "00efacfd-7cb3-4cd4-c1fc-b6e6d855afbe"
   },
   "outputs": [
    {
     "data": {
      "text/html": [
       "<div>\n",
       "<style scoped>\n",
       "    .dataframe tbody tr th:only-of-type {\n",
       "        vertical-align: middle;\n",
       "    }\n",
       "\n",
       "    .dataframe tbody tr th {\n",
       "        vertical-align: top;\n",
       "    }\n",
       "\n",
       "    .dataframe thead tr th {\n",
       "        text-align: left;\n",
       "    }\n",
       "\n",
       "    .dataframe thead tr:last-of-type th {\n",
       "        text-align: right;\n",
       "    }\n",
       "</style>\n",
       "<table border=\"1\" class=\"dataframe\">\n",
       "  <thead>\n",
       "    <tr>\n",
       "      <th></th>\n",
       "      <th colspan=\"4\" halign=\"left\">goles_favor</th>\n",
       "      <th colspan=\"4\" halign=\"left\">goles_contra</th>\n",
       "      <th colspan=\"4\" halign=\"left\">puntos</th>\n",
       "    </tr>\n",
       "    <tr>\n",
       "      <th></th>\n",
       "      <th>sum</th>\n",
       "      <th>mean</th>\n",
       "      <th>var</th>\n",
       "      <th>std</th>\n",
       "      <th>sum</th>\n",
       "      <th>mean</th>\n",
       "      <th>var</th>\n",
       "      <th>std</th>\n",
       "      <th>sum</th>\n",
       "      <th>mean</th>\n",
       "      <th>var</th>\n",
       "      <th>std</th>\n",
       "    </tr>\n",
       "    <tr>\n",
       "      <th>continent</th>\n",
       "      <th></th>\n",
       "      <th></th>\n",
       "      <th></th>\n",
       "      <th></th>\n",
       "      <th></th>\n",
       "      <th></th>\n",
       "      <th></th>\n",
       "      <th></th>\n",
       "      <th></th>\n",
       "      <th></th>\n",
       "      <th></th>\n",
       "      <th></th>\n",
       "    </tr>\n",
       "  </thead>\n",
       "  <tbody>\n",
       "    <tr>\n",
       "      <th>africa</th>\n",
       "      <td>18</td>\n",
       "      <td>3.600000</td>\n",
       "      <td>3.300000</td>\n",
       "      <td>1.816590</td>\n",
       "      <td>28</td>\n",
       "      <td>5.600000</td>\n",
       "      <td>4.800000</td>\n",
       "      <td>2.190890</td>\n",
       "      <td>12</td>\n",
       "      <td>2.400000</td>\n",
       "      <td>3.300000</td>\n",
       "      <td>1.816590</td>\n",
       "    </tr>\n",
       "    <tr>\n",
       "      <th>asia</th>\n",
       "      <td>9</td>\n",
       "      <td>2.250000</td>\n",
       "      <td>0.916667</td>\n",
       "      <td>0.957427</td>\n",
       "      <td>25</td>\n",
       "      <td>6.250000</td>\n",
       "      <td>4.250000</td>\n",
       "      <td>2.061553</td>\n",
       "      <td>3</td>\n",
       "      <td>0.750000</td>\n",
       "      <td>0.250000</td>\n",
       "      <td>0.500000</td>\n",
       "    </tr>\n",
       "    <tr>\n",
       "      <th>europe</th>\n",
       "      <td>62</td>\n",
       "      <td>4.769231</td>\n",
       "      <td>6.858974</td>\n",
       "      <td>2.618964</td>\n",
       "      <td>52</td>\n",
       "      <td>4.000000</td>\n",
       "      <td>3.833333</td>\n",
       "      <td>1.957890</td>\n",
       "      <td>61</td>\n",
       "      <td>4.692308</td>\n",
       "      <td>6.897436</td>\n",
       "      <td>2.626297</td>\n",
       "    </tr>\n",
       "    <tr>\n",
       "      <th>northamerica</th>\n",
       "      <td>13</td>\n",
       "      <td>3.250000</td>\n",
       "      <td>2.250000</td>\n",
       "      <td>1.500000</td>\n",
       "      <td>14</td>\n",
       "      <td>3.500000</td>\n",
       "      <td>11.000000</td>\n",
       "      <td>3.316625</td>\n",
       "      <td>18</td>\n",
       "      <td>4.500000</td>\n",
       "      <td>11.000000</td>\n",
       "      <td>3.316625</td>\n",
       "    </tr>\n",
       "    <tr>\n",
       "      <th>southamerica</th>\n",
       "      <td>34</td>\n",
       "      <td>5.666667</td>\n",
       "      <td>4.666667</td>\n",
       "      <td>2.160247</td>\n",
       "      <td>17</td>\n",
       "      <td>2.833333</td>\n",
       "      <td>0.566667</td>\n",
       "      <td>0.752773</td>\n",
       "      <td>41</td>\n",
       "      <td>6.833333</td>\n",
       "      <td>3.766667</td>\n",
       "      <td>1.940790</td>\n",
       "    </tr>\n",
       "  </tbody>\n",
       "</table>\n",
       "</div>"
      ],
      "text/plain": [
       "             goles_favor                               goles_contra            \\\n",
       "                     sum      mean       var       std          sum      mean   \n",
       "continent                                                                       \n",
       "africa                18  3.600000  3.300000  1.816590           28  5.600000   \n",
       "asia                   9  2.250000  0.916667  0.957427           25  6.250000   \n",
       "europe                62  4.769231  6.858974  2.618964           52  4.000000   \n",
       "northamerica          13  3.250000  2.250000  1.500000           14  3.500000   \n",
       "southamerica          34  5.666667  4.666667  2.160247           17  2.833333   \n",
       "\n",
       "                                  puntos                                 \n",
       "                    var       std    sum      mean        var       std  \n",
       "continent                                                                \n",
       "africa         4.800000  2.190890     12  2.400000   3.300000  1.816590  \n",
       "asia           4.250000  2.061553      3  0.750000   0.250000  0.500000  \n",
       "europe         3.833333  1.957890     61  4.692308   6.897436  2.626297  \n",
       "northamerica  11.000000  3.316625     18  4.500000  11.000000  3.316625  \n",
       "southamerica   0.566667  0.752773     41  6.833333   3.766667  1.940790  "
      ]
     },
     "execution_count": 40,
     "metadata": {},
     "output_type": "execute_result"
    }
   ],
   "source": [
    "df.groupby('continent')[['goles_favor','goles_contra','puntos']].agg([np.sum,np.mean,np.var,np.std])"
   ]
  },
  {
   "cell_type": "markdown",
   "metadata": {
    "id": "RLZK7LoCavQe"
   },
   "source": [
    "##### **a) ¿En qué continente se observa una mayor cantidad de `goles a favor`?**"
   ]
  },
  {
   "cell_type": "code",
   "execution_count": 27,
   "metadata": {
    "colab": {
     "base_uri": "https://localhost:8080/"
    },
    "executionInfo": {
     "elapsed": 247,
     "status": "ok",
     "timestamp": 1628088275977,
     "user": {
      "displayName": "Francisco Silva",
      "photoUrl": "https://lh3.googleusercontent.com/a-/AOh14GhnBCIyF5R8AiTi5ykZU8rl4YlVuugPZqCU5uBJ4YQ=s64",
      "userId": "14439525103954735478"
     },
     "user_tz": 240
    },
    "id": "kAX_qUJAa6TK",
    "outputId": "a55caa58-9d6b-4184-e14f-5f1ed1985ad2"
   },
   "outputs": [
    {
     "name": "stdout",
     "output_type": "stream",
     "text": [
      "Según mi resultado anterior, en \u001b[4mEuropa\u001b[0m se observa la mayor cantidad de goles a favor con un valor de \u001b[4m62 goles\u001b[0m\n"
     ]
    }
   ],
   "source": [
    "print(\"Según mi resultado anterior, en \\033[4mEuropa\\033[0m se observa la mayor cantidad de goles a favor con un valor de \\033[4m62 goles\\033[0m\")"
   ]
  },
  {
   "cell_type": "markdown",
   "metadata": {
    "id": "iCU-YR4QabJr"
   },
   "source": [
    "##### **b) ¿En qué continente se observa una mayor cantidad de `goles en contra`?**"
   ]
  },
  {
   "cell_type": "code",
   "execution_count": 28,
   "metadata": {
    "colab": {
     "base_uri": "https://localhost:8080/"
    },
    "executionInfo": {
     "elapsed": 248,
     "status": "ok",
     "timestamp": 1628088406592,
     "user": {
      "displayName": "Francisco Silva",
      "photoUrl": "https://lh3.googleusercontent.com/a-/AOh14GhnBCIyF5R8AiTi5ykZU8rl4YlVuugPZqCU5uBJ4YQ=s64",
      "userId": "14439525103954735478"
     },
     "user_tz": 240
    },
    "id": "WHm00JwMbCu6",
    "outputId": "de0f0ea2-54a6-4c84-d061-d421aa4e99d3"
   },
   "outputs": [
    {
     "name": "stdout",
     "output_type": "stream",
     "text": [
      "Según mi resultado anterior, en \u001b[4mEuropa\u001b[0m se observa la mayor cantidad de goles en contra con un valor de \u001b[4m52 goles\u001b[0m\n"
     ]
    }
   ],
   "source": [
    "print(\"Según mi resultado anterior, en \\033[4mEuropa\\033[0m se observa la mayor cantidad de goles en contra con un valor de \\033[4m52 goles\\033[0m\")"
   ]
  },
  {
   "cell_type": "markdown",
   "metadata": {
    "id": "NJhBe3oMabeC"
   },
   "source": [
    "##### **c) ¿En qué continente se observa una mayor cantidad de `puntos en promedio`?**"
   ]
  },
  {
   "cell_type": "code",
   "execution_count": 29,
   "metadata": {
    "colab": {
     "base_uri": "https://localhost:8080/"
    },
    "executionInfo": {
     "elapsed": 256,
     "status": "ok",
     "timestamp": 1628088484741,
     "user": {
      "displayName": "Francisco Silva",
      "photoUrl": "https://lh3.googleusercontent.com/a-/AOh14GhnBCIyF5R8AiTi5ykZU8rl4YlVuugPZqCU5uBJ4YQ=s64",
      "userId": "14439525103954735478"
     },
     "user_tz": 240
    },
    "id": "kqtzF2qmbEsd",
    "outputId": "81d97447-d9ca-41c4-e18a-0defb9166449"
   },
   "outputs": [
    {
     "name": "stdout",
     "output_type": "stream",
     "text": [
      "Según mi resultado anterior, en \u001b[4mSouthamerica\u001b[0m se observa el mayor promedio de goles con un valor de \u001b[4m6.833333 goles por país\u001b[0m\n"
     ]
    }
   ],
   "source": [
    "print(\"Según mi resultado anterior, en \\033[4mSouthamerica\\033[0m se observa el mayor promedio de goles con un valor de \\033[4m6.833333 goles por país\\033[0m\")"
   ]
  },
  {
   "cell_type": "markdown",
   "metadata": {
    "id": "5udcBkV6bHJL"
   },
   "source": [
    "#### **`Desafío 3: Simulaciones`**"
   ]
  },
  {
   "cell_type": "markdown",
   "metadata": {},
   "source": [
    "Genere una función ​generate_pet que devuelva de forma aleatoria un string 'perro'​ o ​'gato', ​​un ​número ​n​ de veces. Ejecútela un par de veces.\n",
    "\n",
    "○ **Tip**: Puede utilizar la función ​np.random.choice para retornar elementos al azar."
   ]
  },
  {
   "cell_type": "code",
   "execution_count": 64,
   "metadata": {
    "colab": {
     "base_uri": "https://localhost:8080/"
    },
    "executionInfo": {
     "elapsed": 5,
     "status": "ok",
     "timestamp": 1628089723703,
     "user": {
      "displayName": "Francisco Silva",
      "photoUrl": "https://lh3.googleusercontent.com/a-/AOh14GhnBCIyF5R8AiTi5ykZU8rl4YlVuugPZqCU5uBJ4YQ=s64",
      "userId": "14439525103954735478"
     },
     "user_tz": 240
    },
    "id": "NiYV-AG7bIUz",
    "outputId": "77c517ce-f70f-476a-a313-718014a8ede3"
   },
   "outputs": [
    {
     "data": {
      "text/plain": [
       "['gato',\n",
       " 'perro',\n",
       " 'gato',\n",
       " 'perro',\n",
       " 'gato',\n",
       " 'perro',\n",
       " 'perro',\n",
       " 'perro',\n",
       " 'gato',\n",
       " 'perro',\n",
       " 'perro',\n",
       " 'gato',\n",
       " 'perro',\n",
       " 'perro',\n",
       " 'gato']"
      ]
     },
     "execution_count": 64,
     "metadata": {
      "tags": []
     },
     "output_type": "execute_result"
    }
   ],
   "source": [
    "def generate_pet(p):\n",
    "    var = np.random.choice(2,p)\n",
    "    result = []\n",
    "    for i in var:\n",
    "      if i == 0:\n",
    "        result.append('perro')\n",
    "      else:\n",
    "        result.append('gato')\n",
    "    return result\n",
    "\n",
    "generate_pet(15)"
   ]
  },
  {
   "cell_type": "markdown",
   "metadata": {
    "id": "ttHdLRywbIxD"
   },
   "source": [
    "##### **a) Aplique la función ​generate_pet​ para generar 20 muestras**"
   ]
  },
  {
   "cell_type": "code",
   "execution_count": 118,
   "metadata": {
    "colab": {
     "base_uri": "https://localhost:8080/"
    },
    "executionInfo": {
     "elapsed": 260,
     "status": "ok",
     "timestamp": 1628090640697,
     "user": {
      "displayName": "Francisco Silva",
      "photoUrl": "https://lh3.googleusercontent.com/a-/AOh14GhnBCIyF5R8AiTi5ykZU8rl4YlVuugPZqCU5uBJ4YQ=s64",
      "userId": "14439525103954735478"
     },
     "user_tz": 240
    },
    "id": "2zpZF5K9bsnT",
    "outputId": "2f2f540b-42b7-4fdc-d6ae-6f7659c1ec2a"
   },
   "outputs": [
    {
     "data": {
      "text/plain": [
       "['gato',\n",
       " 'gato',\n",
       " 'perro',\n",
       " 'perro',\n",
       " 'perro',\n",
       " 'perro',\n",
       " 'perro',\n",
       " 'perro',\n",
       " 'perro',\n",
       " 'perro',\n",
       " 'gato',\n",
       " 'perro',\n",
       " 'perro',\n",
       " 'gato',\n",
       " 'gato',\n",
       " 'perro',\n",
       " 'gato',\n",
       " 'perro',\n",
       " 'gato',\n",
       " 'perro']"
      ]
     },
     "execution_count": 118,
     "metadata": {
      "tags": []
     },
     "output_type": "execute_result"
    }
   ],
   "source": [
    "gen_20 = generate_pet(20)\n",
    "gen_20"
   ]
  },
  {
   "cell_type": "markdown",
   "metadata": {
    "id": "sM-8XCHZbtJU"
   },
   "source": [
    "##### **b) ¿Cuál es la probabilidad de elegir un perro al azar? ¿Y un gato?**"
   ]
  },
  {
   "cell_type": "code",
   "execution_count": 126,
   "metadata": {
    "colab": {
     "base_uri": "https://localhost:8080/"
    },
    "executionInfo": {
     "elapsed": 245,
     "status": "ok",
     "timestamp": 1628090727001,
     "user": {
      "displayName": "Francisco Silva",
      "photoUrl": "https://lh3.googleusercontent.com/a-/AOh14GhnBCIyF5R8AiTi5ykZU8rl4YlVuugPZqCU5uBJ4YQ=s64",
      "userId": "14439525103954735478"
     },
     "user_tz": 240
    },
    "id": "Yg8QhGGUbunG",
    "outputId": "ce11849c-9346-452c-c7d8-5de63111e52f"
   },
   "outputs": [
    {
     "name": "stdout",
     "output_type": "stream",
     "text": [
      "El resultado normalizado de a) fue el siguiente:\n",
      "\n",
      "resultado\n",
      "perro        0.65\n",
      "gato         0.35\n",
      "dtype: float64\n",
      "\n",
      "Por tanto:\n",
      "\n",
      "La probabilidad de elegir un perro es de 0.65\n",
      "La probabilidad de elegir un gato es de 0.35\n"
     ]
    }
   ],
   "source": [
    "df_3 = pd.DataFrame(gen_20, columns = [\"resultado\"]).value_counts(normalize = True)\n",
    "print(\"El resultado normalizado de a) fue el siguiente:\\n\")\n",
    "print(df_3)\n",
    "print(f\"\\nPor tanto:\\n\\nLa probabilidad de elegir un perro es de {df_3['perro'][0]}\\nLa probabilidad de elegir un gato es de {df_3['gato'][0]}\")"
   ]
  },
  {
   "cell_type": "markdown",
   "metadata": {
    "id": "v1BA9L1DbvRz"
   },
   "source": [
    "##### c) **Agregue​n np.random.seed(2) al inicio del chunk. ¿Qué diferencia hay cuando se ejecuta la función varias veces luego de fijar la semilla?**"
   ]
  },
  {
   "cell_type": "code",
   "execution_count": 134,
   "metadata": {
    "colab": {
     "base_uri": "https://localhost:8080/"
    },
    "executionInfo": {
     "elapsed": 260,
     "status": "ok",
     "timestamp": 1628091940683,
     "user": {
      "displayName": "Francisco Silva",
      "photoUrl": "https://lh3.googleusercontent.com/a-/AOh14GhnBCIyF5R8AiTi5ykZU8rl4YlVuugPZqCU5uBJ4YQ=s64",
      "userId": "14439525103954735478"
     },
     "user_tz": 240
    },
    "id": "vWJ8L1Hfb3PR",
    "outputId": "8f84e49d-a14c-42be-d642-e2068a47260e"
   },
   "outputs": [
    {
     "name": "stdout",
     "output_type": "stream",
     "text": [
      "\n",
      "experimento 1:\n",
      "\n",
      "La probabilidad de elegir un perro es de 0.4\n",
      "La probabilidad de elegir un gato es de 0.6\n",
      "\n",
      "experimento 2:\n",
      "\n",
      "La probabilidad de elegir un perro es de 0.4\n",
      "La probabilidad de elegir un gato es de 0.6\n",
      "\n",
      "experimento 3:\n",
      "\n",
      "La probabilidad de elegir un perro es de 0.4\n",
      "La probabilidad de elegir un gato es de 0.6\n",
      "\n",
      "experimento 4:\n",
      "\n",
      "La probabilidad de elegir un perro es de 0.4\n",
      "La probabilidad de elegir un gato es de 0.6\n",
      "\n",
      "experimento 5:\n",
      "\n",
      "La probabilidad de elegir un perro es de 0.4\n",
      "La probabilidad de elegir un gato es de 0.6\n"
     ]
    }
   ],
   "source": [
    "def generate_pet2(p):\n",
    "    np.random.seed(2) #fijando seed dentro de la función\n",
    "    var = np.random.choice(2,p)\n",
    "    result = []\n",
    "    for i in var:\n",
    "      if i == 0:\n",
    "        result.append('perro')\n",
    "      else:\n",
    "        result.append('gato')\n",
    "    return result\n",
    "\n",
    "for i in range(5):\n",
    "  df_3 = pd.DataFrame(generate_pet2(20), columns = [\"resultado\"]).value_counts(normalize = True)\n",
    "  print(f\"\\nexperimento {i+1}:\\n\\nLa probabilidad de elegir un perro es de {df_3['perro'][0]}\\nLa probabilidad de elegir un gato es de {df_3['gato'][0]}\")"
   ]
  },
  {
   "cell_type": "code",
   "execution_count": 137,
   "metadata": {
    "colab": {
     "base_uri": "https://localhost:8080/"
    },
    "executionInfo": {
     "elapsed": 239,
     "status": "ok",
     "timestamp": 1628093224979,
     "user": {
      "displayName": "Francisco Silva",
      "photoUrl": "https://lh3.googleusercontent.com/a-/AOh14GhnBCIyF5R8AiTi5ykZU8rl4YlVuugPZqCU5uBJ4YQ=s64",
      "userId": "14439525103954735478"
     },
     "user_tz": 240
    },
    "id": "T1KkFLSC6aKG",
    "outputId": "343be7a7-d972-45c3-a86e-d33532b3578e"
   },
   "outputs": [
    {
     "name": "stdout",
     "output_type": "stream",
     "text": [
      "Cuando se fija seed, los resultados de todas las funciones random de numpy arrojarán el mismo resultado.\n",
      "Por lo tanto la función que definimos arrojará siempre los mismo resultados también.\n"
     ]
    }
   ],
   "source": [
    "print(\"Cuando se fija seed, los resultados de todas las funciones random de numpy arrojarán el mismo resultado.\\nPor lo tanto la función que definimos arrojará siempre los mismo resultados también.\")"
   ]
  },
  {
   "cell_type": "markdown",
   "metadata": {
    "id": "LE97Wg4tb3wx"
   },
   "source": [
    "#### **`Desafío 4: Función simuladora`**"
   ]
  },
  {
   "cell_type": "markdown",
   "metadata": {},
   "source": [
    "Genere una función llamada ​simulate_pets_prob que tome como argumento un número finito de simulaciones a generar.\n",
    "\n",
    "●La función debe simular dos situaciones ​young_pet y ​old_pet​, y contar la ocurrencia de los siguientes casos:\n",
    "\n",
    "    ○ OR: De las dos mascotas simuladas (young y old), contar las ocasiones donde por lo menos una de las mascotas sea un perro.\n",
    "\n",
    "    ○ J_OLD_PET: De las dos mascotas simuladas, contar las ocasiones donde ​old_pet​ sea un perro.\n",
    "\n",
    "    ○ AND: De las dos mascotas simuladas, contar las ocasiones donde los dos sean perros.\n",
    "\n",
    "●El método debe tener una semilla pseudo aleatoria de 1.\n",
    "\n",
    "●El output de la función debe entregarse en términos de Probabilidad."
   ]
  },
  {
   "cell_type": "code",
   "execution_count": 165,
   "metadata": {
    "colab": {
     "base_uri": "https://localhost:8080/"
    },
    "executionInfo": {
     "elapsed": 255,
     "status": "ok",
     "timestamp": 1628098255929,
     "user": {
      "displayName": "Francisco Silva",
      "photoUrl": "https://lh3.googleusercontent.com/a-/AOh14GhnBCIyF5R8AiTi5ykZU8rl4YlVuugPZqCU5uBJ4YQ=s64",
      "userId": "14439525103954735478"
     },
     "user_tz": 240
    },
    "id": "IoF0SNMxcC5c",
    "outputId": "568a90b9-d746-4cd2-b383-8c4635440d11"
   },
   "outputs": [
    {
     "name": "stdout",
     "output_type": "stream",
     "text": [
      "La probabilidad de que al menos una de las mascotas sea perro es de 0.75259\n",
      "La probabilidad de que old_pet sea perro es de 0.50057\n",
      "Por último la probabilidad de que ambas mascotas sean perro es de 0.25027\n"
     ]
    }
   ],
   "source": [
    "def simulate_pets_prob(n):\n",
    "    #fijo la seed\n",
    "    np.random.seed(1)\n",
    "\n",
    "    #Supongo que la idea es que de manera aleatoria tanto your_pet como old_pet sea perro o gato\n",
    "    posibilidades = ['perro','gato']\n",
    "    young_pet = list(np.random.choice(posibilidades,n))\n",
    "    old_pet   = list(np.random.choice(posibilidades,n))\n",
    "\n",
    "    #Creo el DF con las simulaciones\n",
    "    df = pd.DataFrame({\"young_pet\":young_pet,\"old_pet\":old_pet})\n",
    "    \n",
    "    #Creo nuevas columnas para saber num1, num2, num3\n",
    "    df['OR'] = np.where((df['young_pet'] == \"perro\") | (df['old_pet'] == 'perro'), 1, 0)\n",
    "    df['J_OLD_PET'] = np.where(df['old_pet'] == 'perro', 1, 0)\n",
    "    df['AND'] = np.where((df['young_pet'] == \"perro\") & (df['old_pet'] == 'perro'), 1, 0)\n",
    "    print(f\"La probabilidad de que al menos una de las mascotas sea perro es de {np.sum(df['OR'])/n}\\nLa probabilidad de que old_pet sea perro es de {np.sum(df['J_OLD_PET'])/n}\\nPor último la probabilidad de que ambas mascotas sean perro es de {np.sum(df['AND'])/n}\")\n",
    "simulate_pets_prob(100000)"
   ]
  },
  {
   "cell_type": "markdown",
   "metadata": {
    "id": "wftZOLvPdM-X"
   },
   "source": [
    "##### **De los tres escenarios, ¿Cuál es el menos probable?¿Cuál es el más probable? ¿Porqué?**"
   ]
  },
  {
   "cell_type": "code",
   "execution_count": 168,
   "metadata": {
    "colab": {
     "base_uri": "https://localhost:8080/"
    },
    "executionInfo": {
     "elapsed": 254,
     "status": "ok",
     "timestamp": 1628098924747,
     "user": {
      "displayName": "Francisco Silva",
      "photoUrl": "https://lh3.googleusercontent.com/a-/AOh14GhnBCIyF5R8AiTi5ykZU8rl4YlVuugPZqCU5uBJ4YQ=s64",
      "userId": "14439525103954735478"
     },
     "user_tz": 240
    },
    "id": "UhMKBjxOdUJN",
    "outputId": "6d9bcee8-8a8c-4a15-83a7-c3e09cc15282"
   },
   "outputs": [
    {
     "name": "stdout",
     "output_type": "stream",
     "text": [
      "\n",
      "El espacio muestral para cada simulación es {['gato','gato'], ['gato','perro'],['perro','gato'],['perro','perro']}.\n",
      "\n",
      "Por tanto, a la larga (n-->infinito) el experimento tiende a ser lo mismo que si tomáramos un elemento al azar dentro del espacio muestral del párrafo anterior, cada uno tiene igual probabilidad de ocurrir.\n",
      "\n",
      "Viéndolo de este modo, el escenario menos probable tiene que ser el tercer escenario, dado que el escenario cumple sólo para 1 de los 4 elementos del espacio muestral.\n",
      "Análogamente, el más probable es el primer escenario, dado que 3 de lo 4 elementos cumplen con este escenario.\n",
      "\n"
     ]
    }
   ],
   "source": [
    "print(\"\"\"\n",
    "El espacio muestral para cada simulación es {['gato','gato'], ['gato','perro'],['perro','gato'],['perro','perro']}.\n",
    "\n",
    "Por tanto, a la larga (n-->infinito) el experimento tiende a ser lo mismo que si tomáramos un elemento al azar dentro del espacio muestral del párrafo anterior, cada uno tiene igual probabilidad de ocurrir.\n",
    "\n",
    "Viéndolo de este modo, el escenario menos probable tiene que ser el tercer escenario, dado que el escenario cumple sólo para 1 de los 4 elementos del espacio muestral.\n",
    "Análogamente, el más probable es el primer escenario, dado que 3 de lo 4 elementos cumplen con este escenario.\n",
    "\"\"\")"
   ]
  }
 ],
 "metadata": {
  "colab": {
   "authorship_tag": "ABX9TyMr2A/Q6Q9f4xs3/vFWcFcy",
   "mount_file_id": "1R9aLNUtdySPU81sVJylvVPNPdSx36n1Q",
   "name": "Funciones y probabilidad básica.ipynb",
   "provenance": []
  },
  "kernelspec": {
   "display_name": "Python 3",
   "language": "python",
   "name": "python3"
  },
  "language_info": {
   "codemirror_mode": {
    "name": "ipython",
    "version": 3
   },
   "file_extension": ".py",
   "mimetype": "text/x-python",
   "name": "python",
   "nbconvert_exporter": "python",
   "pygments_lexer": "ipython3",
   "version": "3.9.5"
  }
 },
 "nbformat": 4,
 "nbformat_minor": 4
}
