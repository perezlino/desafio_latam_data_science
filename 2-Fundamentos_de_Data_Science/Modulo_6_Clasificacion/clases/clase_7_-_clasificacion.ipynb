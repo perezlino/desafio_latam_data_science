{
 "cells": [
  {
   "cell_type": "markdown",
   "metadata": {},
   "source": [
    "### **Clase 7 - Clasificación**"
   ]
  },
  {
   "cell_type": "markdown",
   "metadata": {},
   "source": [
    "### **`Importar librerias`**"
   ]
  },
  {
   "cell_type": "code",
   "execution_count": 3,
   "metadata": {},
   "outputs": [],
   "source": [
    "# Importamos la triada clásica\n",
    "import numpy as np\n",
    "import pandas as pd\n",
    "import matplotlib.pyplot as plt\n",
    "%matplotlib inline \n",
    "# seaborn\n",
    "import seaborn as sns\n",
    "# scipy stats para simular \n",
    "import scipy.stats as stats \n",
    "# statsmodels para modelación \n",
    "import statsmodels.api as sm\n",
    "import statsmodels.formula.api as smf\n",
    "\n",
    "import warnings \n",
    "warnings.filterwarnings(\"ignore\")\n",
    "import lec6_graphs as gfx \n",
    "plt.style.use('seaborn') # Gráficos estilo seaborn\n",
    "# plt.rcParams[\"figure.figsize\"] = (6, 3) # Tamaño gráficos\n",
    "# plt.rcParams[\"figure.dpi\"] = 200 # resolución gráficos"
   ]
  },
  {
   "cell_type": "markdown",
   "metadata": {},
   "source": [
    "### **`Estimando probabilidades de éxito y fracaso`**"
   ]
  },
  {
   "cell_type": "markdown",
   "metadata": {},
   "source": [
    "#### **1 - Introducción**"
   ]
  },
  {
   "cell_type": "markdown",
   "metadata": {},
   "source": [
    "La tarea de esta lectura es el uso de pozos de agua en Bangladesh. Resulta que el agua en Bangladesh y otros países del Sudeste Asiático está contaminada con arsénico natural. El riesgo del arsénico como cancerígeno y catalizador de otras enfermedades aumenta con la exposición prolongada. El gobierno de Bangladesh inició una estrategia nacional para la mitigación de riesgos asociados al arsénico. Una de las estrategias era el incentivar el uso compartido de pozos de napa subterránea, dado que presentan tasas de arsénico sustancialmente menores.\n",
    "\n",
    "Usaremos una base de datos donde se registró en la variable **`y`** si un hogar comenzó a utilizar un nuevo pozo de napa subterránea o no. Así, clasificaremos como 1 si el hogar se cambió a un pozo nuevo, 0 de lo contrario. Analizaremos la probabilidad de cambiarse o no en función a las siguientes variables:\n",
    "\n",
    "1.\tLa distancia del hogar al pozo más cercano (medida en 100 metros) (`dist100`).\n",
    "2.\tEl nivel de arsénico del actual pozo en uso del hogar (`arsenic`).\n",
    "3.\tEl nivel educacional de el/la jefe/a de hogar (`educ4`).\n",
    "4.\tSi algún miembro de la familia participa o no en asociaciones comunitarias (`assoc`).\n",
    "\n",
    "Importamos la base de datos con pandas."
   ]
  },
  {
   "cell_type": "code",
   "execution_count": 18,
   "metadata": {},
   "outputs": [],
   "source": [
    "# ingresamos la base de datos \n",
    "df = pd.read_csv('wells.csv')\n",
    "# La base de datos incluye una columna de índice. Eliminemosla para evitar futuros conflictos\n",
    "df = df.drop(\"index\", axis =1)"
   ]
  },
  {
   "cell_type": "code",
   "execution_count": 6,
   "metadata": {},
   "outputs": [
    {
     "data": {
      "text/html": [
       "<div>\n",
       "<style scoped>\n",
       "    .dataframe tbody tr th:only-of-type {\n",
       "        vertical-align: middle;\n",
       "    }\n",
       "\n",
       "    .dataframe tbody tr th {\n",
       "        vertical-align: top;\n",
       "    }\n",
       "\n",
       "    .dataframe thead th {\n",
       "        text-align: right;\n",
       "    }\n",
       "</style>\n",
       "<table border=\"1\" class=\"dataframe\">\n",
       "  <thead>\n",
       "    <tr style=\"text-align: right;\">\n",
       "      <th></th>\n",
       "      <th>y</th>\n",
       "      <th>dist100</th>\n",
       "      <th>arsenic</th>\n",
       "      <th>educ4</th>\n",
       "      <th>assoc</th>\n",
       "    </tr>\n",
       "  </thead>\n",
       "  <tbody>\n",
       "    <tr>\n",
       "      <th>0</th>\n",
       "      <td>1</td>\n",
       "      <td>0.16826</td>\n",
       "      <td>2.36</td>\n",
       "      <td>0.0</td>\n",
       "      <td>0</td>\n",
       "    </tr>\n",
       "    <tr>\n",
       "      <th>1</th>\n",
       "      <td>1</td>\n",
       "      <td>0.47322</td>\n",
       "      <td>0.71</td>\n",
       "      <td>0.0</td>\n",
       "      <td>0</td>\n",
       "    </tr>\n",
       "    <tr>\n",
       "      <th>2</th>\n",
       "      <td>0</td>\n",
       "      <td>0.20967</td>\n",
       "      <td>2.07</td>\n",
       "      <td>2.5</td>\n",
       "      <td>0</td>\n",
       "    </tr>\n",
       "    <tr>\n",
       "      <th>3</th>\n",
       "      <td>1</td>\n",
       "      <td>0.21486</td>\n",
       "      <td>1.15</td>\n",
       "      <td>3.0</td>\n",
       "      <td>0</td>\n",
       "    </tr>\n",
       "    <tr>\n",
       "      <th>4</th>\n",
       "      <td>1</td>\n",
       "      <td>0.40874</td>\n",
       "      <td>1.10</td>\n",
       "      <td>3.5</td>\n",
       "      <td>1</td>\n",
       "    </tr>\n",
       "  </tbody>\n",
       "</table>\n",
       "</div>"
      ],
      "text/plain": [
       "   y  dist100  arsenic  educ4  assoc\n",
       "0  1  0.16826     2.36    0.0      0\n",
       "1  1  0.47322     0.71    0.0      0\n",
       "2  0  0.20967     2.07    2.5      0\n",
       "3  1  0.21486     1.15    3.0      0\n",
       "4  1  0.40874     1.10    3.5      1"
      ]
     },
     "execution_count": 6,
     "metadata": {},
     "output_type": "execute_result"
    }
   ],
   "source": [
    "df.head()"
   ]
  },
  {
   "cell_type": "markdown",
   "metadata": {},
   "source": [
    "#### **2 - Análisis exploratorio**"
   ]
  },
  {
   "cell_type": "markdown",
   "metadata": {},
   "source": [
    "La base de datos se compone de 3020 observaciones y cinco columnas."
   ]
  },
  {
   "cell_type": "code",
   "execution_count": 5,
   "metadata": {},
   "outputs": [
    {
     "name": "stdout",
     "output_type": "stream",
     "text": [
      "La base de datos tiene  3020 observaciones y  5  columnas\n",
      "Las variables de la base de datos son  Index(['y', 'dist100', 'arsenic', 'educ4', 'assoc'], dtype='object')\n"
     ]
    }
   ],
   "source": [
    "print(\"La base de datos tiene \", df.shape[0], \"observaciones y \", df.shape[1], \" columnas\")\n",
    "print(\"Las variables de la base de datos son \", df.columns)"
   ]
  },
  {
   "cell_type": "markdown",
   "metadata": {},
   "source": [
    "Solicitemos las medidas descriptivas de los datos con los que vamos a trabajar. Como ya sabemos que el método `describe()` de pandas funciona sólo con las columnas numéricas, utilizaremos `value_counts()` para las columnas con atributos discretos.\n",
    "\n",
    "Esto lo implementamos en un **`for`** con un **`if`** para diferenciar si los atributos tiene más de dos niveles."
   ]
  },
  {
   "cell_type": "code",
   "execution_count": 10,
   "metadata": {},
   "outputs": [
    {
     "name": "stdout",
     "output_type": "stream",
     "text": [
      "y\n",
      "dist100\n",
      "arsenic\n",
      "educ4\n",
      "assoc\n"
     ]
    }
   ],
   "source": [
    "for i in df:\n",
    "    print(i)"
   ]
  },
  {
   "cell_type": "code",
   "execution_count": 20,
   "metadata": {},
   "outputs": [
    {
     "data": {
      "text/plain": [
       "1    1737\n",
       "0    1283\n",
       "Name: y, dtype: int64"
      ]
     },
     "execution_count": 20,
     "metadata": {},
     "output_type": "execute_result"
    }
   ],
   "source": [
    "df['y'].value_counts()"
   ]
  },
  {
   "cell_type": "code",
   "execution_count": 16,
   "metadata": {},
   "outputs": [
    {
     "data": {
      "text/plain": [
       "False"
      ]
     },
     "execution_count": 16,
     "metadata": {},
     "output_type": "execute_result"
    }
   ],
   "source": [
    "len(df['y'].value_counts())>2"
   ]
  },
  {
   "cell_type": "code",
   "execution_count": 8,
   "metadata": {},
   "outputs": [
    {
     "name": "stdout",
     "output_type": "stream",
     "text": [
      "1    0.575166\n",
      "0    0.424834\n",
      "Name: y, dtype: float64 \n",
      "\n",
      "count    3020.000000\n",
      "mean        0.483319\n",
      "std         0.384787\n",
      "min         0.003870\n",
      "25%         0.211172\n",
      "50%         0.367615\n",
      "75%         0.640410\n",
      "max         3.395310\n",
      "Name: dist100, dtype: float64 \n",
      "\n",
      "count    3020.000000\n",
      "mean        1.656930\n",
      "std         1.107387\n",
      "min         0.510000\n",
      "25%         0.820000\n",
      "50%         1.300000\n",
      "75%         2.200000\n",
      "max         9.650000\n",
      "Name: arsenic, dtype: float64 \n",
      "\n",
      "count    3020.000000\n",
      "mean        1.207119\n",
      "std         1.004329\n",
      "min         0.000000\n",
      "25%         0.000000\n",
      "50%         1.250000\n",
      "75%         2.000000\n",
      "max         4.250000\n",
      "Name: educ4, dtype: float64 \n",
      "\n",
      "0    0.577152\n",
      "1    0.422848\n",
      "Name: assoc, dtype: float64 \n",
      "\n"
     ]
    }
   ],
   "source": [
    "for i in df:\n",
    "    if len(df[i].value_counts()) > 2: \n",
    "        print(df[i].describe(), \"\\n\")\n",
    "    else:\n",
    "        print(df[i].value_counts('%'), \"\\n\")"
   ]
  },
  {
   "cell_type": "code",
   "execution_count": 9,
   "metadata": {},
   "outputs": [
    {
     "data": {
      "text/html": [
       "<div>\n",
       "<style scoped>\n",
       "    .dataframe tbody tr th:only-of-type {\n",
       "        vertical-align: middle;\n",
       "    }\n",
       "\n",
       "    .dataframe tbody tr th {\n",
       "        vertical-align: top;\n",
       "    }\n",
       "\n",
       "    .dataframe thead th {\n",
       "        text-align: right;\n",
       "    }\n",
       "</style>\n",
       "<table border=\"1\" class=\"dataframe\">\n",
       "  <thead>\n",
       "    <tr style=\"text-align: right;\">\n",
       "      <th></th>\n",
       "      <th>y</th>\n",
       "      <th>dist100</th>\n",
       "      <th>arsenic</th>\n",
       "      <th>educ4</th>\n",
       "      <th>assoc</th>\n",
       "    </tr>\n",
       "  </thead>\n",
       "  <tbody>\n",
       "    <tr>\n",
       "      <th>count</th>\n",
       "      <td>3020.000000</td>\n",
       "      <td>3020.000000</td>\n",
       "      <td>3020.000000</td>\n",
       "      <td>3020.000000</td>\n",
       "      <td>3020.000000</td>\n",
       "    </tr>\n",
       "    <tr>\n",
       "      <th>mean</th>\n",
       "      <td>0.575166</td>\n",
       "      <td>0.483319</td>\n",
       "      <td>1.656930</td>\n",
       "      <td>1.207119</td>\n",
       "      <td>0.422848</td>\n",
       "    </tr>\n",
       "    <tr>\n",
       "      <th>std</th>\n",
       "      <td>0.494400</td>\n",
       "      <td>0.384787</td>\n",
       "      <td>1.107387</td>\n",
       "      <td>1.004329</td>\n",
       "      <td>0.494093</td>\n",
       "    </tr>\n",
       "    <tr>\n",
       "      <th>min</th>\n",
       "      <td>0.000000</td>\n",
       "      <td>0.003870</td>\n",
       "      <td>0.510000</td>\n",
       "      <td>0.000000</td>\n",
       "      <td>0.000000</td>\n",
       "    </tr>\n",
       "    <tr>\n",
       "      <th>25%</th>\n",
       "      <td>0.000000</td>\n",
       "      <td>0.211172</td>\n",
       "      <td>0.820000</td>\n",
       "      <td>0.000000</td>\n",
       "      <td>0.000000</td>\n",
       "    </tr>\n",
       "    <tr>\n",
       "      <th>50%</th>\n",
       "      <td>1.000000</td>\n",
       "      <td>0.367615</td>\n",
       "      <td>1.300000</td>\n",
       "      <td>1.250000</td>\n",
       "      <td>0.000000</td>\n",
       "    </tr>\n",
       "    <tr>\n",
       "      <th>75%</th>\n",
       "      <td>1.000000</td>\n",
       "      <td>0.640410</td>\n",
       "      <td>2.200000</td>\n",
       "      <td>2.000000</td>\n",
       "      <td>1.000000</td>\n",
       "    </tr>\n",
       "    <tr>\n",
       "      <th>max</th>\n",
       "      <td>1.000000</td>\n",
       "      <td>3.395310</td>\n",
       "      <td>9.650000</td>\n",
       "      <td>4.250000</td>\n",
       "      <td>1.000000</td>\n",
       "    </tr>\n",
       "  </tbody>\n",
       "</table>\n",
       "</div>"
      ],
      "text/plain": [
       "                 y      dist100      arsenic        educ4        assoc\n",
       "count  3020.000000  3020.000000  3020.000000  3020.000000  3020.000000\n",
       "mean      0.575166     0.483319     1.656930     1.207119     0.422848\n",
       "std       0.494400     0.384787     1.107387     1.004329     0.494093\n",
       "min       0.000000     0.003870     0.510000     0.000000     0.000000\n",
       "25%       0.000000     0.211172     0.820000     0.000000     0.000000\n",
       "50%       1.000000     0.367615     1.300000     1.250000     0.000000\n",
       "75%       1.000000     0.640410     2.200000     2.000000     1.000000\n",
       "max       1.000000     3.395310     9.650000     4.250000     1.000000"
      ]
     },
     "execution_count": 9,
     "metadata": {},
     "output_type": "execute_result"
    }
   ],
   "source": [
    "df.describe()"
   ]
  },
  {
   "cell_type": "markdown",
   "metadata": {},
   "source": [
    "Respecto a las variables con atributos discretos (nuestra variable dependiente `y`, y `assoc`), observamos que:\n",
    "- De la variable `y` podemos inferir que alrededor del 58% de las familias componentes de la muestra se cambiaron de pozo a uno más seguro. \n",
    "- De la variable `assoc`podemos inferir que cerca del 58% de los jefe de hogar en la familia no participan en asociaciones comunitarias. \n",
    "- De la variable `educ4` podemos inferir que el nivel educacional de los encuestados se mide en el máximo grado académico desde 0 (Sin educación formal) a 4 (Secundaria completa). La media reportada sugiere que gran parte de la población posee niveles bajos de educación. \n",
    "- De la variable `dist100` podemos inferir que la mayoría de las familias se sitúan en una distancia de 48 metros de un pozo seguro.\n",
    "- De la variable `arsenic` podemos inferir que el nivel de arsénico promedio en el agua es de 1.65, entre el rango de 0.51 y 9.65, lo cual es relativamente bajo.\n",
    "\n",
    "Para tener una mejor perspectiva del comportamiento de las columnas, vamos a graficarlas con histogramas para las continuas y gráficos de barra para las discretas."
   ]
  },
  {
   "cell_type": "code",
   "execution_count": 21,
   "metadata": {},
   "outputs": [
    {
     "name": "stdout",
     "output_type": "stream",
     "text": [
      "0 y\n",
      "1 dist100\n",
      "2 arsenic\n",
      "3 educ4\n",
      "4 assoc\n"
     ]
    }
   ],
   "source": [
    "for n, i in enumerate(df): \n",
    "    print(n, i)"
   ]
  },
  {
   "cell_type": "code",
   "execution_count": 19,
   "metadata": {},
   "outputs": [
    {
     "data": {
      "image/png": "[encoded data removed]",
      "text/plain": [
       "<Figure size 576x396 with 5 Axes>"
      ]
     },
     "metadata": {},
     "output_type": "display_data"
    }
   ],
   "source": [
    "for n, i in enumerate(df): \n",
    "    plt.subplot(2, 3, n+1)\n",
    "    if len(df[i].value_counts()) > 2: \n",
    "        sns.distplot(df[i]) \n",
    "        plt.title(i)\n",
    "        plt.xlabel(\"\")\n",
    "    else:\n",
    "        sns.countplot(y=df[i]) \n",
    "        plt.title(i) \n",
    "        plt.xlabel(\"\")\n",
    "    plt.tight_layout()"
   ]
  },
  {
   "cell_type": "markdown",
   "metadata": {},
   "source": [
    "Observamos que para `dist100`, `arsenic` y `educ4` existe un sesgo hacia los valores bajos, lo cual sugiere que los casos donde la distancia y el nivel de arsénico son sustancialmente grandes son relativamente anómalos.\n",
    "\n",
    "Respecto a las variables discretas, observamos que las clases están relativamente bien equilibradas, lo cual facilita nuestra modelación."
   ]
  },
  {
   "cell_type": "markdown",
   "metadata": {},
   "source": [
    "#### **3 - Digresión: ¿Qué hacer ante clases desbalanceadas?**"
   ]
  },
  {
   "cell_type": "markdown",
   "metadata": {},
   "source": [
    "Existe una serie de mecanismos alternativos para mitigar el efecto del desbalance en las clases:\n",
    "\n",
    "1.\tAsumir que el componente estocástico del modelo se puede representar de mejor manera mediante una distribución Poisson, Binomial Negativa o Cero Dispersa.\n",
    "2.\tUtilizar errores robustos (Huber-White sandwich) para fortalecer la matriz de varianza-covarianza.\n",
    "3.\tEstimar el modelo con robit (regresión logística t-distribuída) por sobre logit.\n",
    "4.\tRecolectar más datos en la medida que sea posible.\n",
    "5.\tRemuestrear sobre la muestra para disminuir el desbalance:\n",
    "    -\t`Over-sampling`: Remuestrear copias de la clase sub-representada a la muestra original.\n",
    "    -\t`Under-sampling`: Eliminar instancias de la clase sobrerrepresentada.\n",
    "\n",
    "Ahora visualizamos las correlaciones mediante una matriz. Seaborn presenta el método `sns.heatmap()` para generar un gráfico sobre la intensidad de las asociaciones entre las variables de una base de datos. Los parámetros ingresados son:\n",
    "\n",
    "1.\t`df.corr()` ingresamos las correlaciones calculadas mediante pandas.\n",
    "2.\t`cmap='Blues'` define el rango de colores. En este caso utilizaremos una gama de azules.\n",
    "3.\t`annot=True` añadirá el puntaje de la correlación sobre cada celda.\n"
   ]
  },
  {
   "cell_type": "code",
   "execution_count": 22,
   "metadata": {},
   "outputs": [
    {
     "data": {
      "text/plain": [
       "<AxesSubplot:>"
      ]
     },
     "execution_count": 22,
     "metadata": {},
     "output_type": "execute_result"
    },
    {
     "data": {
      "image/png": "[encoded data removed]",
      "text/plain": [
       "<Figure size 576x396 with 2 Axes>"
      ]
     },
     "metadata": {},
     "output_type": "display_data"
    }
   ],
   "source": [
    "sns.heatmap(df.corr(), cmap='Blues', annot=True)"
   ]
  },
  {
   "cell_type": "code",
   "execution_count": 37,
   "metadata": {},
   "outputs": [
    {
     "data": {
      "text/plain": [
       "<seaborn.matrix.ClusterGrid at 0x25d35f7b5b0>"
      ]
     },
     "execution_count": 37,
     "metadata": {},
     "output_type": "execute_result"
    },
    {
     "data": {
      "image/png": "[encoded data removed]",
      "text/plain": [
       "<Figure size 288x288 with 4 Axes>"
      ]
     },
     "metadata": {},
     "output_type": "display_data"
    }
   ],
   "source": [
    "sns.clustermap(df.corr(), cmap='coolwarm', annot=True, vmin=-1, vmax=1, figsize=(4,4))"
   ]
  },
  {
   "cell_type": "markdown",
   "metadata": {},
   "source": [
    "Los resultados de la matriz de correlación pueden ser desalentadores, dado que no hay asociaciones fuertes entre las variables. Por defecto utilizamos la correlación de pearson, que no tiene un buen desempeño con variables que no sean estrictamente normales. Como ya se ha mencionado antes, esto no es un impedimento para seguir con la modelación ya que muchas relaciones no son estrictamente lineales."
   ]
  },
  {
   "cell_type": "markdown",
   "metadata": {},
   "source": [
    "### **`El modelo de probabilidad lineal`**"
   ]
  },
  {
   "cell_type": "markdown",
   "metadata": {},
   "source": [
    "#### **1 - Introducción**"
   ]
  },
  {
   "cell_type": "markdown",
   "metadata": {},
   "source": [
    "Una primera aproximación al problema de clasificación binario es utilizar una regresión lineal, asumiendo que en nuestra variable dependiente estaremos midiendo la probabilidad del suceso.\n",
    "\n",
    "$$ y_i =  \\beta_{0} + \\beta_{1} \\times dist100 + \\epsilon_i $$\n",
    "\n",
    "Este modelo se conoce como modelo de probabilidad lineal, donde implementamos una regresión lineal con nuestra variable dependiente binaria. Los parámetros estimados afectan la probabilidad de que el evento suceda. Con nuestro `Y` predicho podemos clasificar una observación como `1` si `Y > 0.5`, de lo contrario `0`."
   ]
  },
  {
   "cell_type": "code",
   "execution_count": 25,
   "metadata": {},
   "outputs": [],
   "source": [
    "# ejecutemos nuestro modelo\n",
    "m1_ols = smf.ols('y ~ dist100', df).fit()"
   ]
  },
  {
   "cell_type": "code",
   "execution_count": 38,
   "metadata": {},
   "outputs": [
    {
     "data": {
      "text/html": [
       "<table class=\"simpletable\">\n",
       "<caption>OLS Regression Results</caption>\n",
       "<tr>\n",
       "  <th>Dep. Variable:</th>            <td>y</td>        <th>  R-squared:         </th> <td>   0.014</td>\n",
       "</tr>\n",
       "<tr>\n",
       "  <th>Model:</th>                   <td>OLS</td>       <th>  Adj. R-squared:    </th> <td>   0.014</td>\n",
       "</tr>\n",
       "<tr>\n",
       "  <th>Method:</th>             <td>Least Squares</td>  <th>  F-statistic:       </th> <td>   42.57</td>\n",
       "</tr>\n",
       "<tr>\n",
       "  <th>Date:</th>             <td>Thu, 04 Jan 2024</td> <th>  Prob (F-statistic):</th> <td>7.95e-11</td>\n",
       "</tr>\n",
       "<tr>\n",
       "  <th>Time:</th>                 <td>10:39:34</td>     <th>  Log-Likelihood:    </th> <td> -2136.2</td>\n",
       "</tr>\n",
       "<tr>\n",
       "  <th>No. Observations:</th>      <td>  3020</td>      <th>  AIC:               </th> <td>   4276.</td>\n",
       "</tr>\n",
       "<tr>\n",
       "  <th>Df Residuals:</th>          <td>  3018</td>      <th>  BIC:               </th> <td>   4288.</td>\n",
       "</tr>\n",
       "<tr>\n",
       "  <th>Df Model:</th>              <td>     1</td>      <th>                     </th>     <td> </td>   \n",
       "</tr>\n",
       "<tr>\n",
       "  <th>Covariance Type:</th>      <td>nonrobust</td>    <th>                     </th>     <td> </td>   \n",
       "</tr>\n",
       "</table>\n",
       "<table class=\"simpletable\">\n",
       "<tr>\n",
       "      <td></td>         <th>coef</th>     <th>std err</th>      <th>t</th>      <th>P>|t|</th>  <th>[0.025</th>    <th>0.975]</th>  \n",
       "</tr>\n",
       "<tr>\n",
       "  <th>Intercept</th> <td>    0.6484</td> <td>    0.014</td> <td>   45.194</td> <td> 0.000</td> <td>    0.620</td> <td>    0.677</td>\n",
       "</tr>\n",
       "<tr>\n",
       "  <th>dist100</th>   <td>   -0.1515</td> <td>    0.023</td> <td>   -6.525</td> <td> 0.000</td> <td>   -0.197</td> <td>   -0.106</td>\n",
       "</tr>\n",
       "</table>\n",
       "<table class=\"simpletable\">\n",
       "<tr>\n",
       "  <th>Omnibus:</th>       <td>11769.028</td> <th>  Durbin-Watson:     </th> <td>   1.406</td> \n",
       "</tr>\n",
       "<tr>\n",
       "  <th>Prob(Omnibus):</th>  <td> 0.000</td>   <th>  Jarque-Bera (JB):  </th> <td> 478.263</td> \n",
       "</tr>\n",
       "<tr>\n",
       "  <th>Skew:</th>           <td>-0.305</td>   <th>  Prob(JB):          </th> <td>1.40e-104</td>\n",
       "</tr>\n",
       "<tr>\n",
       "  <th>Kurtosis:</th>       <td> 1.148</td>   <th>  Cond. No.          </th> <td>    3.29</td> \n",
       "</tr>\n",
       "</table><br/><br/>Notes:<br/>[1] Standard Errors assume that the covariance matrix of the errors is correctly specified."
      ],
      "text/latex": [
       "\\begin{center}\n",
       "\\begin{tabular}{lclc}\n",
       "\\toprule\n",
       "\\textbf{Dep. Variable:}    &        y         & \\textbf{  R-squared:         } &     0.014   \\\\\n",
       "\\textbf{Model:}            &       OLS        & \\textbf{  Adj. R-squared:    } &     0.014   \\\\\n",
       "\\textbf{Method:}           &  Least Squares   & \\textbf{  F-statistic:       } &     42.57   \\\\\n",
       "\\textbf{Date:}             & Thu, 04 Jan 2024 & \\textbf{  Prob (F-statistic):} &  7.95e-11   \\\\\n",
       "\\textbf{Time:}             &     10:39:34     & \\textbf{  Log-Likelihood:    } &   -2136.2   \\\\\n",
       "\\textbf{No. Observations:} &        3020      & \\textbf{  AIC:               } &     4276.   \\\\\n",
       "\\textbf{Df Residuals:}     &        3018      & \\textbf{  BIC:               } &     4288.   \\\\\n",
       "\\textbf{Df Model:}         &           1      & \\textbf{                     } &             \\\\\n",
       "\\textbf{Covariance Type:}  &    nonrobust     & \\textbf{                     } &             \\\\\n",
       "\\bottomrule\n",
       "\\end{tabular}\n",
       "\\begin{tabular}{lcccccc}\n",
       "                   & \\textbf{coef} & \\textbf{std err} & \\textbf{t} & \\textbf{P$> |$t$|$} & \\textbf{[0.025} & \\textbf{0.975]}  \\\\\n",
       "\\midrule\n",
       "\\textbf{Intercept} &       0.6484  &        0.014     &    45.194  &         0.000        &        0.620    &        0.677     \\\\\n",
       "\\textbf{dist100}   &      -0.1515  &        0.023     &    -6.525  &         0.000        &       -0.197    &       -0.106     \\\\\n",
       "\\bottomrule\n",
       "\\end{tabular}\n",
       "\\begin{tabular}{lclc}\n",
       "\\textbf{Omnibus:}       & 11769.028 & \\textbf{  Durbin-Watson:     } &     1.406  \\\\\n",
       "\\textbf{Prob(Omnibus):} &    0.000  & \\textbf{  Jarque-Bera (JB):  } &   478.263  \\\\\n",
       "\\textbf{Skew:}          &   -0.305  & \\textbf{  Prob(JB):          } & 1.40e-104  \\\\\n",
       "\\textbf{Kurtosis:}      &    1.148  & \\textbf{  Cond. No.          } &      3.29  \\\\\n",
       "\\bottomrule\n",
       "\\end{tabular}\n",
       "%\\caption{OLS Regression Results}\n",
       "\\end{center}\n",
       "\n",
       "Notes: \\newline\n",
       " [1] Standard Errors assume that the covariance matrix of the errors is correctly specified."
      ],
      "text/plain": [
       "<class 'statsmodels.iolib.summary.Summary'>\n",
       "\"\"\"\n",
       "                            OLS Regression Results                            \n",
       "==============================================================================\n",
       "Dep. Variable:                      y   R-squared:                       0.014\n",
       "Model:                            OLS   Adj. R-squared:                  0.014\n",
       "Method:                 Least Squares   F-statistic:                     42.57\n",
       "Date:                Thu, 04 Jan 2024   Prob (F-statistic):           7.95e-11\n",
       "Time:                        10:39:34   Log-Likelihood:                -2136.2\n",
       "No. Observations:                3020   AIC:                             4276.\n",
       "Df Residuals:                    3018   BIC:                             4288.\n",
       "Df Model:                           1                                         \n",
       "Covariance Type:            nonrobust                                         \n",
       "==============================================================================\n",
       "                 coef    std err          t      P>|t|      [0.025      0.975]\n",
       "------------------------------------------------------------------------------\n",
       "Intercept      0.6484      0.014     45.194      0.000       0.620       0.677\n",
       "dist100       -0.1515      0.023     -6.525      0.000      -0.197      -0.106\n",
       "==============================================================================\n",
       "Omnibus:                    11769.028   Durbin-Watson:                   1.406\n",
       "Prob(Omnibus):                  0.000   Jarque-Bera (JB):              478.263\n",
       "Skew:                          -0.305   Prob(JB):                    1.40e-104\n",
       "Kurtosis:                       1.148   Cond. No.                         3.29\n",
       "==============================================================================\n",
       "\n",
       "Notes:\n",
       "[1] Standard Errors assume that the covariance matrix of the errors is correctly specified.\n",
       "\"\"\""
      ]
     },
     "execution_count": 38,
     "metadata": {},
     "output_type": "execute_result"
    }
   ],
   "source": [
    "m1_ols.summary()"
   ]
  },
  {
   "cell_type": "markdown",
   "metadata": {},
   "source": [
    "Ahora vamos a generar una función para obtener sólo los parámetros necesarios en nuestro modelo. La función `concise_summary()` necesita como argumento el modelo estimado con `statsmodels` y devolverá sólo algunas características esenciales del modelo."
   ]
  },
  {
   "cell_type": "code",
   "execution_count": 26,
   "metadata": {},
   "outputs": [
    {
     "name": "stdout",
     "output_type": "stream",
     "text": [
      "\n",
      "Goodness of Fit statistics\n",
      "             Statistics      Value\n",
      "2                 BIC:  4288.4686\n",
      "3      Log-Likelihood:    -2136.2\n",
      "4         F-statistic:      42.57\n",
      "5  Prob (F-statistic):   7.95e-11\n",
      "6               Scale:    0.24111\n",
      "\n",
      "Point Estimates\n",
      "\n",
      "               Coef.  Std.Err.\n",
      "Intercept  0.648407  0.014347\n",
      "dist100   -0.151539  0.023225\n"
     ]
    }
   ],
   "source": [
    "def concise_summary(mod, print_fit=True):\n",
    "    #guardamos los parámetros asociados a estadísticas de ajuste\n",
    "    fit = pd.DataFrame({'Statistics': mod.summary2().tables[0][2][2:], 'Value': mod.summary2().tables[0][3][2:]})\n",
    "    # guardamos los parámetros estimados por cada regresor \n",
    "    estimates = pd.DataFrame(mod.summary2().tables[1].loc[:, 'Coef.':'Std.Err.'])\n",
    "    # imprimir fit es opcional\n",
    "    if print_fit is True:\n",
    "        print(\"\\nGoodness of Fit statistics\\n\", fit) \n",
    "        print(\"\\nPoint Estimates\\n\\n\", estimates)\n",
    "\n",
    "# solicitemos las características del modelo \n",
    "concise_summary(m1_ols)"
   ]
  },
  {
   "cell_type": "markdown",
   "metadata": {},
   "source": [
    "Una de las primeras preguntas que nos hacemos es **`¿dónde está nuestro R-cuadrado?`**. Resulta que no es tan relevante para nuestro modelo, dado que mide simplemente la capacidad explicativa de la variabilidad de Y dado un conjunto de variables explicativas. Preferimos concentrarnos en aspectos menos triviales como si por lo menos uno de nuestros parámetros es distinto a cero, que se mide con `Prob (F-statistic)`. Aspectos como el `BIC (Bayesian Information Criteria)` y el `Log-Likelihood` son más informativos sobre la optimización de nuestro método que el R-cuadrado."
   ]
  },
  {
   "cell_type": "markdown",
   "metadata": {},
   "source": [
    "#### **2 - Sobre métricas de bondad de ajuste en clasificación**"
   ]
  },
  {
   "cell_type": "markdown",
   "metadata": {},
   "source": [
    "Detengámonos un momento a tratar el tema de medir la bondad de ajuste de nuestro modelo de clasificación a los datos, para esto, veamos los estadísticos que aparecen en la tabla anterior uno a uno:\n",
    "\n",
    "1. **`BIC (Bayesian Information Criteria - Criterio de Información Bayesiano)`**:\n",
    "\n",
    "Respecto a los puntos estimados, nuestra función reporta sólo el coeficiente y su error estándar asociado. La interpretación de los coeficientes en este modelo son:\n",
    "\n",
    "-\tEl `intercepto` (`βo`) se puede interpretar al considerar `dist100=0`. Una familia que esté a 0 metros de distancia de un pozo tendrá una probabilidad del 65% de cambiarse de pozo (asumiendo que está limpio).\n",
    "\n",
    "-\tEl tema es que la función `concise_summary` no devuelve nuestra significancia estadística. Para obtener el puntaje z, simplemente dividimos el parámetro estimado por su desviación estándar. En este caso `z = 0.648 /0.014 = 46.28`. Al ser superior a los puntajes de corte, existe evidencia para rechazar la hipótesis nula al 95%.\n",
    "\n",
    "-\t`dist100` (`β1`) se puede interpretar como la diferencia entre dos individuos que tienen similares características pero difieren en 100 metros de distancia de un pozo seguro, conlleva a una disminución de un 15% en la probabilidad de cambiarse de pozo. El parámetro es significativo con un z de `z = -0.151 /0.023 = -6.56` es superior a los puntos críticos por lo que existe evidencia para rechazar la hipótesis nula.\n"
   ]
  },
  {
   "cell_type": "code",
   "execution_count": 29,
   "metadata": {},
   "outputs": [
    {
     "data": {
      "text/plain": [
       "<seaborn.axisgrid.FacetGrid at 0x25d361223a0>"
      ]
     },
     "execution_count": 29,
     "metadata": {},
     "output_type": "execute_result"
    },
    {
     "data": {
      "image/png": "[encoded data removed]",
      "text/plain": [
       "<Figure size 360x360 with 1 Axes>"
      ]
     },
     "metadata": {},
     "output_type": "display_data"
    }
   ],
   "source": [
    "sns.lmplot(x='dist100', y='y', data=df, line_kws={'color':'tomato'}, scatter_kws={'color': 'grey', 'alpha': 0.5})"
   ]
  },
  {
   "cell_type": "markdown",
   "metadata": {},
   "source": [
    "Podemos visualizar la relación entre ambas variables con `sns.lmplot`, que solicita el eje x `dist100` y la dependiente `y`. Los argumentos `line_kws` y `scatter_kws` gobiernan los elementos visuales de los puntos y la recta. De forma intuitiva se demuestra que en la medida que la probabilidad de cambiarse de pozo disminuye en la medida que la familia se encuentra más alejada de un pozo.\n",
    "\n",
    "Una de las ventajas del modelo de probabilidad lineal es la facilidad de su interpretación, dado que los coeficientes hacen referencia al cambio en una unidad de X afecta a la probabilidad `Pr(y=1)`. Lamentablemente, no está exento de problemas la probabilidad estimada por este modelo puede tomar valores mayores que 1 y menores que 0, lo cual va más allá de los límites razonables de la probabilidad."
   ]
  },
  {
   "cell_type": "markdown",
   "metadata": {},
   "source": [
    "#### **3 - Regresión Logística al rescate**"
   ]
  },
  {
   "cell_type": "markdown",
   "metadata": {},
   "source": [
    "##### **`1 - Introducción`**"
   ]
  },
  {
   "cell_type": "markdown",
   "metadata": {},
   "source": [
    "Si bien nuestro estimador LPM es intuitivo, presenta fallas severas en la estimación. La regresión logística permite generar estimaciones mediante el método de máxima verosimilitud (se elige el modelo tal que su verosimilitud sobre los datos es la máxima) y toma en consideración los problemas anteriormente vistos. Los detalles sobre el método de máxima verosimilitud se los dejaremos a Python :).\n",
    "\n",
    "Resulta que nuestro objetivo es desarrollar un modelo predictivo para la probabilidad de ocurrencia de Y (Pr(x) = Pr(Y = 1|X = x)).\n",
    "\n",
    "$$ log \\left(\\frac{p(x)}{1-p(x)}\\right) =  \\beta_{0} + \\beta_{1} \\times dist100 $$\n",
    "\n",
    "Implementar la regresión logística con `statsmodels` es similar a la implementación del modelo de regresión lineal. Necesitamos declarar la ecuación como un string y definir el objeto donde `statsmodels` buscará las variables.\n",
    "\n",
    "El método requiere que nuestra variable dependiente sea binaria. Los regresores independientes pueden ser continuos y/o categóricos."
   ]
  },
  {
   "cell_type": "code",
   "execution_count": 39,
   "metadata": {},
   "outputs": [
    {
     "name": "stdout",
     "output_type": "stream",
     "text": [
      "Optimization terminated successfully.\n",
      "         Current function value: 0.674874\n",
      "         Iterations 4\n",
      "\n",
      "Goodness of Fit statistics\n",
      "         Statistics       Value\n",
      "2             AIC:   4080.2378\n",
      "3             BIC:   4092.2639\n",
      "4  Log-Likelihood:     -2038.1\n",
      "5         LL-Null:     -2059.0\n",
      "6     LLR p-value:  9.7978e-11\n",
      "7           Scale:      1.0000\n",
      "\n",
      "Point Estimates\n",
      "\n",
      "               Coef.  Std.Err.\n",
      "Intercept  0.605959  0.060310\n",
      "dist100   -0.621882  0.097426\n"
     ]
    }
   ],
   "source": [
    "m1_logit = smf.logit('y ~ dist100', df).fit() \n",
    "concise_summary(m1_logit)"
   ]
  },
  {
   "cell_type": "markdown",
   "metadata": {},
   "source": [
    "##### **`2 - ¿Y qué significa todo esto para nosotros?`**"
   ]
  },
  {
   "cell_type": "markdown",
   "metadata": {},
   "source": [
    "Podríamos estar tentados a interpretar los coeficientes como: _**La diferencia entre dos individuos que tienen similares características pero difieren en 100 metros de distancia de un pozo seguro, conlleva a una disminución de un 0.62 en la probabilidad de cambiarse de pozo**_.\n",
    "\n",
    "`Esto no es correcto`, dado que los parámetros estimados mediante la regresión logística se conocen como `log-odds`, que representan el logaritmo de la oportunidad (chance) de ocurrencia de un evento en específico. Esto obliga a tomar con cautela el cómo se deben interpretar. La interpretación de arriba tiene sentido cuando hablamos del logaritmo de la oportunidad de ocurrencia, lo cual resulta difícil de entender.\n",
    "\n",
    "La regresión logística no está exenta de problemas y presunciones:\n",
    "\n",
    "1.\tPerdemos en gran medida la capacidad interpretativa del modelo, por ejemplo, nos podría interesar estudiar el efecto de cada regresor sobre la probabilidad de ocurrencia de las clases en la variable dependiente, sin embargo, al estar estos coeficientes usándose para cuantificar el efecto de las variables independientes sobre logaritmo de las posibilidades (log-odds, la transformación de y por la función de link). Es más difícil, entonces, observar el efecto que tiene una variable independiente en la probabilidad de los eventos de y observando simplemente los valores de los coeficientes.\n",
    "\n",
    "2.\tPor la forma en la que es ajustado el modelo de probabilidad (máxima verosimilitud) tener clases desbalanceadas (gran parte de la muestra pertenece a una sola clase y muy pocos elementos a la segunda clase) hace que el modelo ajustado se vea altamente influenciado por la gran cantidad de elementos de la clase mayoritaria durante el ajuste por verosimilitud.\n",
    "\n",
    "3.\tEs sensible, al igual que un modelo de regresión lineal, a valores extremos en los predictores continuos.\n",
    "\n",
    "4.\tSe asume linealidad entre los log-odds (log-posibilidades) de y y cada variable predictora, esto implica monotonicidad en esta relación y por lo tanto no contempla los casos en los que esta relación es de un orden superior. Esto se puede ver en la forma funcional del modelo donde modelamos la transformación de y mediante la función de link como una combinación lineal de las variables predictoras.\n",
    "\n",
    "5.\tRequiere independencia entre los ejemplos de la muestra, es decir, los ejemplos en la matriz X no pueden venir de remuestreos donde se dupliquen los ejemplos.\n"
   ]
  },
  {
   "cell_type": "markdown",
   "metadata": {},
   "source": [
    "##### **`3 - Digresión: Oportunidad de ocurrencia es distinta a probabilidad`**"
   ]
  },
  {
   "cell_type": "markdown",
   "metadata": {},
   "source": [
    "Aunque en el ámbito cotidiano se utiliza '`oportunidad de ocurrencia`' (Odds) y '`probabilidad`'(probability) como sinónimos, en estadística (y en especial en teoría de juegos) estos dos conceptos son distintos, aunque están fuertemente relacionados entre sí:\n",
    "\n",
    "La probabilidad de que ocurra un suceso se define (clásicamente) de manera empírica, es decir:\n",
    "\n",
    "$$ p(x) = \\frac{\\text {N° de ocurrencias de x}}{\\text {Casos totales medidos}}  $$\n",
    "\n",
    "La oportunidad de que ocurra ese mismo suceso es:\n",
    "\n",
    "$$ Odd(x) = \\frac{p(x)}{1 - p(x)}  $$\n",
    "\n",
    "`La diferencia entre oportunidad de ocurrencia y probabilidad` es que la oportunidad de ocurrencia nos dice qué tanto del espacio de eventos posibles está siendo utilizado por el evento de interés, mientras que la probabilidad nos dice qué tan \"seguros\" podemos estar el resultado final. Por ejemplo, imaginemos que vamos a una casa de apuestas de caballos y nos enteramos de que al caballo 'Lucky Luke' ha ganado 30 de las 100 carreras que ha corrido, luego, la probabilidad de que 'Lucky Luke' gane la siguiente carrera es de `30/100 = 0.30`, mientras que las oportunidades de que gane son de `0.30/(1-0.30) = 0.43`, o dicho más cotidianamente, 3 victorias a 7 derrotas.\n",
    "\n",
    "Finalmente, notar que las oportunidades de ganar pueden ser un número en todo el intervalo [0, ∞ +], lo cual es justo lo que necesitamos para poder utilizar la regresión lineal en este caso donde nuestra recta de separación entre las clases debe poder extenderse más allá del rango [0, 1] que nos entrega la medida de probabilidad.\n",
    "\n",
    "Esta última relación matemática nos da la razón de existencias de ese logaritmo en la expresión presentada al inicio de esta sección: `Aplicar la función ´logit´ a la probabilidad nos entrega el logaritmo de las oportunidades (odds)`.\n",
    "\n",
    "El objetivo es traducir los valores del log odds en una declaración de probabilidad entre 0 y 1. Así se genera una explicación intuitiva sobre el efecto de una variable en la probabilidad de ocurrencia (por sobre el efecto de una variable en el logaritmo de la oportunidad de ocurrencia). Para ello utilizamos la función logística inversa:\n",
    "\n",
    "$$ logit - 1(x) = \\frac{exp(x)}{1 - exp(x)}  $$\n",
    "\n",
    "Supongamos que deseamos saber la probabilidad de cambiarse a un pozo seguro para toda la muestra. En base a nuestro modelo estimado, podemos obtener la probabilidad con los siguientes pasos:\n"
   ]
  },
  {
   "cell_type": "markdown",
   "metadata": {},
   "source": [
    "`1 - Calcular el log odds promedio cuando dist100 es igual al promedio`"
   ]
  },
  {
   "cell_type": "markdown",
   "metadata": {},
   "source": [
    "Primero debemos reemplazar valores en nuestra ecuación para interpolar el punto predicho cuando `dist100` toma el promedio:\n",
    "\n",
    "$$ Pr(CambioPozo = 1|X) = log \\left(\\frac{exp(\\beta_0 + \\beta_1)}{1 - exp(\\beta_0 + \\beta_1)}\\right)  $$\n",
    "\n",
    "Esto lo podemos aplicar de la siguiente manera:"
   ]
  },
  {
   "cell_type": "code",
   "execution_count": 40,
   "metadata": {},
   "outputs": [
    {
     "name": "stdout",
     "output_type": "stream",
     "text": [
      "La media es de  0.48\n",
      "El log odds estimado es de  0.31\n"
     ]
    }
   ],
   "source": [
    "# guardamos la media en un objeto \n",
    "dist100_mean = df['dist100'].mean()\n",
    "print(\"La media es de \", round(dist100_mean, 2))\n",
    "\n",
    "# accedemos a los parámetros con la sintáxis modelo.params['parametro] \n",
    "estimate_y = m1_logit.params['Intercept'] + (m1_logit.params['dist100'] * dist100_mean)\n",
    "print(\"El log odds estimado es de \", round(estimate_y, 2))"
   ]
  },
  {
   "cell_type": "markdown",
   "metadata": {},
   "source": [
    "`2 - Convertir nuestro log odds estimado en una probabilidad`"
   ]
  },
  {
   "cell_type": "markdown",
   "metadata": {},
   "source": [
    "Este punto estimado debemos traducirlo a una probabilidad por medio de la función logística inversa, que definimos en Python como una función:"
   ]
  },
  {
   "cell_type": "code",
   "execution_count": 41,
   "metadata": {},
   "outputs": [
    {
     "name": "stdout",
     "output_type": "stream",
     "text": [
      "La probabilidad promedio de cambiarse de pozo cuando tenemos una distancia de 48 metros es:  0.58\n"
     ]
    }
   ],
   "source": [
    "def invlogit(x):\n",
    "    return 1 / (1+np.exp(-x))\n",
    "\n",
    "print(\"La probabilidad promedio de cambiarse de pozo cuando tenemos una distancia de 48 metros es: \",round(invlogit(estimate_y), 2))"
   ]
  },
  {
   "cell_type": "markdown",
   "metadata": {},
   "source": [
    "Otra forma de hacer lo mismo:"
   ]
  },
  {
   "cell_type": "code",
   "execution_count": 58,
   "metadata": {},
   "outputs": [
    {
     "name": "stdout",
     "output_type": "stream",
     "text": [
      "Optimization terminated successfully.\n",
      "         Current function value: 0.674874\n",
      "         Iterations 4\n"
     ]
    },
    {
     "data": {
      "text/plain": [
       "array([0.58])"
      ]
     },
     "execution_count": 58,
     "metadata": {},
     "output_type": "execute_result"
    }
   ],
   "source": [
    "from statsmodels.discrete.discrete_model import Logit\n",
    "\n",
    "df['intercept'] = 1\n",
    "logit1 = Logit(df['y'], df.loc[:, ['dist100', 'intercept']]).fit()\n",
    "logit1.summary()\n",
    "\n",
    "logit1.predict([0.48, 1]).round(2) # Este es el valor que nos interesa"
   ]
  },
  {
   "cell_type": "markdown",
   "metadata": {},
   "source": [
    "Realizar el mapeo de log odds a probabilidades puede ser tedioso, pero le damos mucho más sentido a nuestro modelo."
   ]
  },
  {
   "cell_type": "markdown",
   "metadata": {},
   "source": [
    "`Calculando el efecto diferencial`"
   ]
  },
  {
   "cell_type": "markdown",
   "metadata": {},
   "source": [
    "También podemos estar interesados en el cambio en la probabilidad cuando nuestro **`x`** aumenta en 1 unidad. Esto se asemeja a nuestra conceptualización clásica del coeficiente estimado en la regresión lineal.\n",
    "\n",
    "De manera similar a como lo hicimos con el efecto promedio, debemos generar las funciones logísticas inversas para estimar la probabilidad de dos eventos, mediante los cuales simularemos el cambio en la probabilidad cuando nuestro x cambia en una unidad.\n",
    "\n",
    "Vamos a generar cuatro escenarios donde se estimará la probabilidad de cambio para 100, 200, 300 y 400 metros."
   ]
  },
  {
   "cell_type": "code",
   "execution_count": 42,
   "metadata": {},
   "outputs": [],
   "source": [
    "pr_dist_100 = invlogit(m1_logit.params['Intercept'] + (m1_logit.params['dist100'] * 1))\n",
    "pr_dist_200 = invlogit(m1_logit.params['Intercept'] + (m1_logit.params['dist100'] * 2))\n",
    "pr_dist_300 = invlogit(m1_logit.params['Intercept'] + (m1_logit.params['dist100'] * 3))\n",
    "pr_dist_400 = invlogit(m1_logit.params['Intercept'] + (m1_logit.params['dist100'] * 4))"
   ]
  },
  {
   "cell_type": "markdown",
   "metadata": {},
   "source": [
    "Si deseamos ver cuál es el cambio de la probabilidad en una unidad, restamos dos unidades estimadas. Las líneas de abajo:"
   ]
  },
  {
   "cell_type": "code",
   "execution_count": 49,
   "metadata": {},
   "outputs": [
    {
     "name": "stdout",
     "output_type": "stream",
     "text": [
      "La probabilidad de cambiar de pozo entre 100 y 200 metros:  0.15\n",
      "La probabilidad de cambiar de pozo entre 200 y 300 metros:  0.125\n",
      "La probabilidad de cambiar de pozo entre 300 y 400 metros:  0.089\n"
     ]
    }
   ],
   "source": [
    "print(\"La probabilidad de cambiar de pozo entre 100 y 200 metros: \", round(pr_dist_100 - pr_dist_200, 3))\t\n",
    "print(\"La probabilidad de cambiar de pozo entre 200 y 300 metros: \", round(pr_dist_200 - pr_dist_300, 3))\t\n",
    "print(\"La probabilidad de cambiar de pozo entre 300 y 400 metros: \", round(pr_dist_300 - pr_dist_400, 3))\t"
   ]
  },
  {
   "cell_type": "markdown",
   "metadata": {},
   "source": [
    "Se observa que el tránsito entre distintos valores conlleva a distintos cambios en las probabilidades. Este es uno de los principales motivos de esta cautela en la interpretación del modelo logístico: `No se puede asumir monotonicidad estricta en los parámetros`. La probabilidad de un cambio entre 200 y 300 (`Pr(x) = 0.124`) es distinta a la probabilidad entre 300 y 400 (`Pr(x)= 0.088`).\n",
    "\n",
    "Podemos visualizar la estimación logística mediante el método `sns.lmplot`, incluyendo un argumento `logistic=True` que estimará la recta de ajuste en función a los log-odds.\n",
    "\n",
    "La línea azul vertical se conoce como el límite de decisión, situación hipotética donde una observación tiene iguales oportunidades del evento en cuestion.\n",
    "\n",
    "En este este caso, cuando una familia se encuentre aproximadamente a 97 metros de un pozo seguro, tendrán iguales oportunidades de cambiarse o no. Para estimar el límite de decisión, se utiliza la siguiente fórmula:\n",
    "\n",
    "$$ x_1 = \\frac{- \\hat \\beta_0}{\\hat \\beta_1}  $$\n"
   ]
  },
  {
   "cell_type": "code",
   "execution_count": 51,
   "metadata": {},
   "outputs": [
    {
     "name": "stdout",
     "output_type": "stream",
     "text": [
      "Una observación tiene igual probabilidad en ambos sucesos cuando x =  0.974\n"
     ]
    },
    {
     "data": {
      "image/png": "[encoded data removed]",
      "text/plain": [
       "<Figure size 360x360 with 1 Axes>"
      ]
     },
     "metadata": {},
     "output_type": "display_data"
    }
   ],
   "source": [
    "sns.lmplot(x='dist100', y='y', data=df, logistic=True, line_kws={'color':'tomato', 'lw': 3}, scatter_kws={'color': 'lightgrey', 'alpha': .5})\n",
    "\n",
    "decision_boundary = - m1_logit.params['Intercept'] / m1_logit.params['dist100'] \n",
    "\n",
    "plt.axvline(decision_boundary, lw=1, color='dodgerblue') \n",
    "plt.axhline(.5, linestyle='--', color='grey', lw=1)\n",
    "plt.text(decision_boundary+.2, .5+.05, r'Caso donde $\\hat{p}=.5$', color='forestgreen')\n",
    "plt.plot(decision_boundary, .5, 'o', color='forestgreen')\n",
    "\n",
    "print(\"Una observación tiene igual probabilidad en ambos sucesos cuando x = \", round(decision_boundary, 3));"
   ]
  },
  {
   "cell_type": "code",
   "execution_count": 59,
   "metadata": {},
   "outputs": [
    {
     "data": {
      "text/plain": [
       "0.5"
      ]
     },
     "execution_count": 59,
     "metadata": {},
     "output_type": "execute_result"
    }
   ],
   "source": [
    "invlogit(m1_logit.params['Intercept'] + (m1_logit.params['dist100'] * decision_boundary))"
   ]
  },
  {
   "cell_type": "markdown",
   "metadata": {},
   "source": [
    "#### **4 - Relación entre LPM y Logit**"
   ]
  },
  {
   "cell_type": "markdown",
   "metadata": {},
   "source": [
    "##### **`1 - Introducción`**"
   ]
  },
  {
   "cell_type": "markdown",
   "metadata": {},
   "source": [
    "Dado que sabemos la idoneidad del modelo logístico para los casos binarios, ¿Por qué utilizamos el modelo de probabilidad lineal?\n",
    "\n",
    "Resulta que podemos tomar los log-odds de un modelo logístico y dividirlos por cuatro para obtener un intervalo superior de la contribución de x en y cuando cambia en una medida. Este punto es una aproximación al comportamiento estimado en el medio de la curva logística donde las probabilidades son cercanas al 0.5."
   ]
  },
  {
   "cell_type": "markdown",
   "metadata": {},
   "source": [
    "##### **`2 - Digresión: Aspectos formales de la regla dividir en 4`**"
   ]
  },
  {
   "cell_type": "markdown",
   "metadata": {},
   "source": [
    "Resulta que la curva logística es más pronunciada en el centro, donde `β0 + β1x = 0`, y su función logística inversa es `logit − 1(β0 + β1x) = 0.5`.\n",
    " \n",
    "\n",
    "La derivada de la función lineal se maximiza en este punto con un valor de `β1exp(0)/(1 + exp(0))2 = β1/4`. Así `β1/4` es la diferencia máxima de `Pr(y = 1|x)`.\n",
    "\n",
    "Tomemos los coeficientes de nuestro modelo `y = β0 + β1 × dist100` para ambos modelos"
   ]
  },
  {
   "cell_type": "code",
   "execution_count": 61,
   "metadata": {},
   "outputs": [
    {
     "name": "stdout",
     "output_type": "stream",
     "text": [
      "\n",
      "OLS\n",
      "\n",
      "Goodness of Fit statistics\n",
      "             Statistics      Value\n",
      "2                 BIC:  4288.4686\n",
      "3      Log-Likelihood:    -2136.2\n",
      "4         F-statistic:      42.57\n",
      "5  Prob (F-statistic):   7.95e-11\n",
      "6               Scale:    0.24111\n",
      "\n",
      "Point Estimates\n",
      "\n",
      "               Coef.  Std.Err.\n",
      "Intercept  0.648407  0.014347\n",
      "dist100   -0.151539  0.023225\n",
      "\n",
      "Logit\n",
      "\n",
      "Goodness of Fit statistics\n",
      "         Statistics       Value\n",
      "2             AIC:   4080.2378\n",
      "3             BIC:   4092.2639\n",
      "4  Log-Likelihood:     -2038.1\n",
      "5         LL-Null:     -2059.0\n",
      "6     LLR p-value:  9.7978e-11\n",
      "7           Scale:      1.0000\n",
      "\n",
      "Point Estimates\n",
      "\n",
      "               Coef.  Std.Err.\n",
      "Intercept  0.605959  0.060310\n",
      "dist100   -0.621882  0.097426\n"
     ]
    }
   ],
   "source": [
    "print(\"\\nOLS\")\n",
    "concise_summary(m1_ols, print_fit=True) \n",
    "\n",
    "print(\"\\nLogit\") \n",
    "concise_summary(m1_logit, print_fit=True)"
   ]
  },
  {
   "cell_type": "markdown",
   "metadata": {},
   "source": [
    "Si dividimos el coeficiente estimado de nuestra regresión logística $ − 0.62 / 4 = 0.15$, veremos que es una aproximación razonable del coeficiente estimado en nuestro modelo LPM.\n",
    "\n",
    "Este coeficiente corresponde a la máxima diferencia contribuída por $x$ en $Pr(y = 1|x)$ . Si revisamos nuestros efectos estimados, observaremos que el 0.15 estimado corresponde a la diferencia en un 15% de probabilidad entre una familia que está a 100 metros de distancia y otra que está a 200 metros de distancia de un pozo seguro."
   ]
  },
  {
   "cell_type": "code",
   "execution_count": 62,
   "metadata": {},
   "outputs": [
    {
     "name": "stdout",
     "output_type": "stream",
     "text": [
      "La probabilidad de cambiar de pozo entre 100 y 200 metros:  0.15\n"
     ]
    }
   ],
   "source": [
    "print(\"La probabilidad de cambiar de pozo entre 100 y 200 metros: \", round(pr_dist_100 - pr_dist_200, 3))"
   ]
  },
  {
   "cell_type": "markdown",
   "metadata": {},
   "source": [
    "### **`El problema de clasificación desde Machine Learning`**"
   ]
  },
  {
   "cell_type": "markdown",
   "metadata": {},
   "source": [
    "#### **1 - Introducción**"
   ]
  },
  {
   "cell_type": "markdown",
   "metadata": {},
   "source": [
    "El objetivo de la clasificación es enseñarle a la máquina a discriminar entre un número finito de clases en base a una serie de atributos.\n",
    "\n",
    "Para aproximarnos a este problema diseñamos una serie de aproximaciones funcionales candidatas para facilitar la discriminación entre las clases.\n",
    "\n",
    "El objetivo es realizar predicciones en nuevas observaciones en base a la función candidata que presente el mejor desempeño predictivo.\n",
    "\n",
    "Mientras que en los problemas de regresión el desempeño se medía mediante la reducción del error cuadrático, en la clasificación se busca aumentar la tasa de clases predichas correctamente y reducir los falsos positivos (situaciones donde se clasifica de forma errónea) y falsos negativos (situaciones donde el clasificador ignora clasificaciones exitosas)."
   ]
  },
  {
   "cell_type": "markdown",
   "metadata": {},
   "source": [
    "#### **2 - Implementando un modelo logístico con sklearn**"
   ]
  },
  {
   "cell_type": "markdown",
   "metadata": {},
   "source": [
    "Utilizaremos la clase `LogisticRegression` dentro del módulo `linear_model` de `sklearn`. Como todo modelo candidato de `sklearn`, seguimos los pasos de inicializarlo al ingresar datos y posteriormente ejecutarlo.\n",
    "\n",
    "Comencemos por segmentar nuestra base de datos en entrenamiento y pruebas siguiendo la nomenclatura clásica, guardando el 33% de la muestra para pruebas. Recuerden especificar una semilla pseudoaleatoria con `random_state` para asegurar replicabilidad de los resultados"
   ]
  },
  {
   "cell_type": "code",
   "execution_count": 63,
   "metadata": {},
   "outputs": [],
   "source": [
    "from sklearn.linear_model import LogisticRegression\n",
    "from sklearn.model_selection import train_test_split\n",
    "\n",
    "X_train, X_test, y_train, y_test = train_test_split(df.loc[:, 'dist100':'assoc'], df['y'], test_size=.33, random_state=11238)"
   ]
  },
  {
   "cell_type": "markdown",
   "metadata": {},
   "source": [
    "De forma adicional estandarizamos cada atributo en nuestras muestras mediante `StandardScaler` en el módulo `sklearn.preprocessing`. Mediante la estandarización transformamos las variables al restarle la media y dividirla por la varianza de la variable.\n",
    "\n",
    "Con esto logramos homogeneizar las variables y facilitar la comparación entre atributos en el modelo logístico.\n",
    "\n",
    "Generamos nuevos objetos llamados `X_train_std` y `X_test_std` que guardaran las nuevas matrices. Estos objetos alojarán el resultado de `StandardScaler().fit_transform()`."
   ]
  },
  {
   "cell_type": "code",
   "execution_count": 64,
   "metadata": {},
   "outputs": [],
   "source": [
    "from sklearn.preprocessing import StandardScaler\n",
    "\n",
    "# estandarizamos la matriz de entrenamiento \n",
    "X_train_std = StandardScaler().fit_transform(X_train) \n",
    "# estandarizamos la matriz de pruebas\n",
    "X_test_std = StandardScaler().fit_transform(X_test)\n",
    "\n",
    "# iniciamos el modelo con la clase LogisticRegression y pasamos los datos en fit.\n",
    "default_model = LogisticRegression().fit(X_train_std, y_train)"
   ]
  },
  {
   "cell_type": "markdown",
   "metadata": {},
   "source": [
    "Al solicitar los coeficientes del modelo, observamos que son distintos a los estimados con nuestro modelo econométrico dado que no están estandarizados"
   ]
  },
  {
   "cell_type": "code",
   "execution_count": 65,
   "metadata": {},
   "outputs": [
    {
     "data": {
      "text/plain": [
       "array([[-0.33266754,  0.5907759 ,  0.14256382, -0.05195545]])"
      ]
     },
     "execution_count": 65,
     "metadata": {},
     "output_type": "execute_result"
    }
   ],
   "source": [
    "default_model.coef_"
   ]
  },
  {
   "cell_type": "markdown",
   "metadata": {},
   "source": [
    "Procedemos por generar las predicciones en base a nuestro modelo mediante `predict(X_test_std)`. Cabe destacar que los modelos de clasificación presentan fórmulas alternativas de predicción.\n",
    "\n",
    "Mientras que con la opción `predict` solicitamos las clases en las nuevas observaciones, si solicitamos `predict_proba` obtendremos el mapeo `Pr(y∗) → [0, 1]`, lo cual nos será útil cuando midamos tasas de falsos positivos y negativos en el modelo. Por último también está la opción `predict_log_proba` que devuelve el logaritmo de la probabilidad generada con `predict_proba`."
   ]
  },
  {
   "cell_type": "code",
   "execution_count": 66,
   "metadata": {},
   "outputs": [
    {
     "data": {
      "text/plain": [
       "array([0, 1, 1, 0, 1, 1, 1, 1, 1, 1, 1, 1, 1, 0, 0, 0, 0, 1, 1, 1],\n",
       "      dtype=int64)"
      ]
     },
     "execution_count": 66,
     "metadata": {},
     "output_type": "execute_result"
    }
   ],
   "source": [
    "yhat = default_model.predict(X_test_std)\n",
    "# solicitemos las primeras 20 observaciones del vector predicho. \n",
    "yhat[:20]"
   ]
  },
  {
   "cell_type": "markdown",
   "metadata": {},
   "source": [
    "Hasta el momento nuestro flujo de trabajo es idéntico al problema de regresión. Resulta que la principal diferencia entre ambas aproximaciones es cómo evaluamos su desempeño"
   ]
  },
  {
   "cell_type": "markdown",
   "metadata": {},
   "source": [
    "#### **3 - Métricas de desempeño para las tareas de clasificación**"
   ]
  },
  {
   "cell_type": "markdown",
   "metadata": {},
   "source": [
    "##### **`Introducción`**"
   ]
  },
  {
   "cell_type": "markdown",
   "metadata": {},
   "source": [
    "Ya sabemos que parte importante de nuestro flujo de trabajo desde Machine Learning busca analizar el desempeño del modelo en la predicción con nuevas observaciones.\n",
    "\n",
    "Para el caso de los modelos donde nuestro vector objetivo era continuo utilizamos el Promedio del Error Cuadrático, que cuantificaba qué tan separados están los datos de nuestra recta de ajuste predictivo.\n",
    "\n",
    "Resulta que para los casos donde nuestro vector objetivo presenta atributos discretos las métricas conocidas fallan en capturar el fenómeno. Los modelos predictivos generan dos tipos de predicciones de utilidad:\n",
    "\n",
    "1.\tUna predicción de probabilidad continua entre los límites de cero y uno.\n",
    "2.\tUna predicción de clase, que establece cuál es la clase más adecuada para una nueva observación.\n",
    "\n",
    "Para medir el desempeño de estos modelos, nos centramos en la predicción de clase."
   ]
  },
  {
   "cell_type": "markdown",
   "metadata": {},
   "source": [
    "##### **`Matriz de confusión`**"
   ]
  },
  {
   "cell_type": "markdown",
   "metadata": {},
   "source": [
    "Una de las maneras más comunes de evaluar el desempeño es cruzar la información de la predicción con las etiquetas reales de nuestra muestra de validación. Esto se conoce como matriz de confusión, y permite observar la cantidad de observaciones predichas de forma correcta.\n",
    "\n",
    "`sklearn` tiene el método `confusion_matrix` en su módulo metrics que permite desarrollar este cruce de información. Este procedimiento se puede realizar de forma alternativa con `pd.crosstab()`. El método pide como argumentos el vector objetivo de prueba (`y_test`) y el vector de etiquetas predichas (`yhat`)."
   ]
  },
  {
   "cell_type": "code",
   "execution_count": 67,
   "metadata": {},
   "outputs": [
    {
     "data": {
      "text/plain": [
       "array([[171, 251],\n",
       "       [117, 458]], dtype=int64)"
      ]
     },
     "execution_count": 67,
     "metadata": {},
     "output_type": "execute_result"
    }
   ],
   "source": [
    "from sklearn.metrics import confusion_matrix\n",
    "\n",
    "m1_confusion = confusion_matrix(y_test, yhat) \n",
    "\n",
    "m1_confusion"
   ]
  },
  {
   "cell_type": "code",
   "execution_count": 68,
   "metadata": {},
   "outputs": [
    {
     "data": {
      "text/html": [
       "<div>\n",
       "<style scoped>\n",
       "    .dataframe tbody tr th:only-of-type {\n",
       "        vertical-align: middle;\n",
       "    }\n",
       "\n",
       "    .dataframe tbody tr th {\n",
       "        vertical-align: top;\n",
       "    }\n",
       "\n",
       "    .dataframe thead th {\n",
       "        text-align: right;\n",
       "    }\n",
       "</style>\n",
       "<table border=\"1\" class=\"dataframe\">\n",
       "  <thead>\n",
       "    <tr style=\"text-align: right;\">\n",
       "      <th>col_0</th>\n",
       "      <th>0</th>\n",
       "      <th>1</th>\n",
       "    </tr>\n",
       "    <tr>\n",
       "      <th>y</th>\n",
       "      <th></th>\n",
       "      <th></th>\n",
       "    </tr>\n",
       "  </thead>\n",
       "  <tbody>\n",
       "    <tr>\n",
       "      <th>0</th>\n",
       "      <td>171</td>\n",
       "      <td>251</td>\n",
       "    </tr>\n",
       "    <tr>\n",
       "      <th>1</th>\n",
       "      <td>117</td>\n",
       "      <td>458</td>\n",
       "    </tr>\n",
       "  </tbody>\n",
       "</table>\n",
       "</div>"
      ],
      "text/plain": [
       "col_0    0    1\n",
       "y              \n",
       "0      171  251\n",
       "1      117  458"
      ]
     },
     "execution_count": 68,
     "metadata": {},
     "output_type": "execute_result"
    }
   ],
   "source": [
    "# comparemos con pd.crosstab \n",
    "m1_conf_pd = pd.crosstab(y_test, yhat) \n",
    "m1_conf_pd"
   ]
  },
  {
   "cell_type": "markdown",
   "metadata": {},
   "source": [
    "La tabla resultante permite observar las categorías predichas con las observadas. La diagonal principal reporta los casos exitosamente predichos. Una de las primeras medidas de desempeño es medir el porcentaje de casos predichos correctamente por sobre el total de casos."
   ]
  },
  {
   "cell_type": "markdown",
   "metadata": {},
   "source": [
    "Esta medida se conoce como **Accuracy (Exactitud)**:\n",
    "\n",
    "<center><img src=\"https://i.postimg.cc/k572xPsk/dl39.png\"></center>"
   ]
  },
  {
   "cell_type": "markdown",
   "metadata": {},
   "source": [
    "$$ Exactitud = \\frac{\\text {Verdadero positivo + Verdadero negativo}}{\\text {Verdadero positivo + Verdadero negativo + Falso positivo + Falso negativo}}  $$"
   ]
  },
  {
   "cell_type": "markdown",
   "metadata": {},
   "source": [
    "`Precisión`: Etiquetas correctas en las positivas.\n",
    "\n",
    "$$ Precisión = \\frac{\\text {Verdadero positivo}}{\\text {Verdadero positivo + Falso positivo}}  $$"
   ]
  },
  {
   "cell_type": "markdown",
   "metadata": {},
   "source": [
    "`Recall`: Verdaderos positivos entre los predichos del modelo.\n",
    "\n",
    "$$ Recall = \\frac{\\text {Verdadero positivo}}{\\text {Verdadero positivo + Falso negativo}}  $$"
   ]
  },
  {
   "cell_type": "markdown",
   "metadata": {},
   "source": [
    "`sklearn` implementa el método `accuracy_score` en el módulo `metrics`. El método pide como argumentos el vector objetivo de prueba (`y_test`) y el vector de etiquetas predichas (`yhat`) y devuelve un valor entre 0 y 1, donde valores más altos reflejan mayores niveles de concordancia entre ambos vectores."
   ]
  },
  {
   "cell_type": "code",
   "execution_count": 75,
   "metadata": {},
   "outputs": [
    {
     "data": {
      "text/plain": [
       "0.6308926780341023"
      ]
     },
     "execution_count": 75,
     "metadata": {},
     "output_type": "execute_result"
    }
   ],
   "source": [
    "(171+458)/(171+251+117+458)"
   ]
  },
  {
   "cell_type": "code",
   "execution_count": 69,
   "metadata": {},
   "outputs": [
    {
     "data": {
      "text/plain": [
       "0.6308926780341023"
      ]
     },
     "execution_count": 69,
     "metadata": {},
     "output_type": "execute_result"
    }
   ],
   "source": [
    "from sklearn.metrics import accuracy_score \n",
    "m1_acc = accuracy_score(y_test, yhat) \n",
    "m1_acc"
   ]
  },
  {
   "cell_type": "markdown",
   "metadata": {},
   "source": [
    "La métrica reportada de 0.631 sugiere cierta exactitud de nuestro modelo. El problema es que no sabemos frente a qué criterio nuestro modelo es eficiente. Para evaluar su desempeño necesitamos encontrar un benchmark (punto de referencia) que refleje capacidad de predicción al azar, sin la necesidad de un modelo.\n",
    "\n",
    "La manera más simple de calcular un benchmark es dividir 1 por la cantidad de categorías en nuestro vector objetivo. De esta manera obtenemos un aproximado de la predicción correcta al azar.\n",
    "\n",
    "Para nuestro caso con la variable binaria, el benchmark es de ½ = 0.5. Nuestra medida de exactitud informa que el modelo tiene un desempeño de un 13% superior que una predicción azarosa.\n",
    "\n",
    "Resulta que la medida de exactitud por sí sola es engañosa, dado que no hace distinción alguna frente a los tipos de errores (Falso Negativo y Falso Positivo). Para ello utilizamos dos medidas extras:\n",
    "\n",
    "-\t`Precision`: Mide la fracción de predicciones correctas entre las etiquetas positivas. Valores altos significan que el algoritmo predice más resultados relevantes que irrelevantes. Responde a la pregunta: `¿Qué proporción de identificaciones positivas fue correcta?`.\n",
    "\n",
    "-\t`Recall (o sensibilidad)`: Mide la fracción de verdaderos positivos predichos por el modelo. Valores altos significan que el algoritmo logra predecir la mayoría de los resultados relevantes. Responde a la pregunta: `¿Qué proporción de positivos reales se identificó correctamente?`.\n"
   ]
  },
  {
   "cell_type": "code",
   "execution_count": 76,
   "metadata": {},
   "outputs": [
    {
     "data": {
      "text/plain": [
       "0.6459802538787024"
      ]
     },
     "execution_count": 76,
     "metadata": {},
     "output_type": "execute_result"
    }
   ],
   "source": [
    "#Precision\n",
    "458/(458 + 251)"
   ]
  },
  {
   "cell_type": "code",
   "execution_count": 77,
   "metadata": {},
   "outputs": [
    {
     "data": {
      "text/plain": [
       "0.7965217391304348"
      ]
     },
     "execution_count": 77,
     "metadata": {},
     "output_type": "execute_result"
    }
   ],
   "source": [
    "#Recall\n",
    "458/(458 + 117)"
   ]
  },
  {
   "cell_type": "code",
   "execution_count": 70,
   "metadata": {},
   "outputs": [
    {
     "name": "stdout",
     "output_type": "stream",
     "text": [
      "Precision:  0.6459802538787024 \n",
      "Recall:  0.7965217391304348\n"
     ]
    }
   ],
   "source": [
    "from sklearn.metrics import precision_score, recall_score \n",
    "m1_prec = precision_score(y_test, yhat)\n",
    "m1_rec = recall_score(y_test, yhat) \n",
    "print(\"Precision: \", m1_prec, \"\\nRecall: \", m1_rec)"
   ]
  },
  {
   "cell_type": "markdown",
   "metadata": {},
   "source": [
    "Los puntajes de precisión y recall para el modelo sugieren que el modelo tiene un desempeño aceptable, pero que se puede mejorar de forma substancial. Un punto a destacar es la alta tasa de recall que tiene, rescatando gran parte de los valores etiquetados como 1.\n",
    "\n",
    "Existe un trueque entre Precision y Recall, en la medida que ambos puntajes se pueden promediar para obtener una medida ponderada de ambos fenómenos.\n",
    "Esta medida se conoce como F1, y representa la media armónica entre Precision y Recall. Se prefiere la media armónica dado que penaliza de mayor manera los valores bajos.\n",
    "\n",
    "F1 alcanza un máximo de 1 cuando Precision y Recall son 1, y 0 cuando Precision o Recall son 0, aún cuando una de las dos medidas sea 1.\n",
    "\n",
    "Se utiliza ésta dado que pondera de mayor manera a los valores bajos. Esto genera que el F1 sea alto sólo cuando precision y recall lo sean."
   ]
  },
  {
   "cell_type": "markdown",
   "metadata": {},
   "source": [
    "$$ F1 = \\frac{2 \\times Precision \\times Recall}{Precision + Recall}  $$"
   ]
  },
  {
   "cell_type": "markdown",
   "metadata": {},
   "source": [
    "Resulta que en el módulo `metrics` de `sklearn` presenta el método `classification_report` que reporta las medidas de precisión, recall y f1 para cada categoría en el modelo estimado. Cabe mencionar que las métricas reportadas anteriormente con los métodos `precision_score` y `recall_score` calculan sólo las predicciones cuando $\\hat y_i = 1$ . El método `classification_report` reporta las métricas para $\\hat y_i = 0$, $\\hat y_i = 1$ y el promedio."
   ]
  },
  {
   "cell_type": "code",
   "execution_count": 80,
   "metadata": {},
   "outputs": [
    {
     "data": {
      "text/plain": [
       "(0.5, 0.48379999999999995)"
      ]
     },
     "execution_count": 80,
     "metadata": {},
     "output_type": "execute_result"
    }
   ],
   "source": [
    "a = 0.59\n",
    "b = 0.41\n",
    "\n",
    "media_aritmetica = (a + b)/2\n",
    "media_armonica = (2 * a * b)/(a + b)\n",
    "\n",
    "media_aritmetica, media_armonica"
   ]
  },
  {
   "cell_type": "code",
   "execution_count": 71,
   "metadata": {},
   "outputs": [
    {
     "name": "stdout",
     "output_type": "stream",
     "text": [
      "              precision    recall  f1-score   support\n",
      "\n",
      "           0       0.59      0.41      0.48       422\n",
      "           1       0.65      0.80      0.71       575\n",
      "\n",
      "    accuracy                           0.63       997\n",
      "   macro avg       0.62      0.60      0.60       997\n",
      "weighted avg       0.62      0.63      0.62       997\n",
      "\n"
     ]
    }
   ],
   "source": [
    "from sklearn.metrics import classification_report \n",
    "print(classification_report(y_test, yhat))"
   ]
  },
  {
   "cell_type": "markdown",
   "metadata": {},
   "source": [
    "Resulta que nuestro modelo tiene problemas para clasificar correctamente los casos donde $y_i = 0$ , donde sus métricas presentan tasas bajas cercanas al 50%. Esto sugiere que el modelo debe ser refactorizado y encontrar predictores que estén asociados con los casos donde $y_i = 0$."
   ]
  },
  {
   "cell_type": "markdown",
   "metadata": {},
   "source": [
    "##### **`Receiving Operating Characteristics (Curva ROC)`**"
   ]
  },
  {
   "cell_type": "markdown",
   "metadata": {},
   "source": [
    "Con `Precision`, `Recall` y `F1` logramos caracterizar las tasas de predicción exitosa del modelo. En nuestra matriz de confusión se reportan dos tipos de errores que todo problema de clasificación debe tomar en cuenta: un falso positivo que surge cuando el modelo estima $\\hat y = 1$ , pero la clasificación verdadera es $y = 0$ , y un falso negativo que surge cuando el modelo estima $\\hat y = 0$ pero la clasificación verdadera es $y = 1$.\n",
    " \n",
    "\n",
    "Un buen modelo de clasificación también debe considerar cuál es el rango de errores en el modelo con el que se trabaja. Para ello utilizamos la curva ROC (Receiving Operating Characteristics), que evalúa la relación entre ambos errores condicional en todo el rango del clasificador.\n",
    "\n",
    "El gráfico tienen las siguientes convenciones:\n",
    "\n",
    "1.\tEn el eje Y va la tasa de `falsos positivos`, aquella que resume las falsas alarmas en nuestro modelo clasificador.\n",
    "\n",
    "2.\tEn el eje X va la tasa de `verdaderos positivos`, aquella que resume las observaciones correctamente clasificadas por nuestro modelo.\n",
    "\n",
    "3.\tLa línea bisectriz representa el `benchmark` predictivo del modelo: esto es lo que esperamos si es que un clasificador asigna etiquetas de forma aleatoria, sin mayor información ingresada por el sistema.\n",
    "\n",
    "Para generar un gráfico de curva ROC con `sklearn`, utilizamos el método `roc_curve` dentro del módulo `metrics`. El método devuelve tres objetos: Un array con la tasa de falsos positivos, un array con la tasa de verdaderos positivos y un array con los umbrales de decisión entre 0 y 1.\n"
   ]
  },
  {
   "cell_type": "code",
   "execution_count": 72,
   "metadata": {},
   "outputs": [],
   "source": [
    "from sklearn.metrics import roc_curve\n",
    "\n",
    "# reestimamos los valores predichos de nuestro modelo para obtener la probabilidad entre 0 y 1.\n",
    "yhat = default_model.predict_proba(X_test)[:, 1]\n",
    "\n",
    "# generamos los objetos de roc_cruve\n",
    "false_positive, true_positive, threshold = roc_curve(y_test, yhat)"
   ]
  },
  {
   "cell_type": "code",
   "execution_count": 73,
   "metadata": {},
   "outputs": [
    {
     "data": {
      "text/plain": [
       "Text(0.5, 0, 'Falsos Positivos')"
      ]
     },
     "execution_count": 73,
     "metadata": {},
     "output_type": "execute_result"
    },
    {
     "data": {
      "image/png": "[encoded data removed]",
      "text/plain": [
       "<Figure size 576x396 with 1 Axes>"
      ]
     },
     "metadata": {},
     "output_type": "display_data"
    }
   ],
   "source": [
    "# Plot ROC curve plt.title('Curva ROC')\n",
    "plt.plot(false_positive, true_positive, lw=1) \n",
    "plt.plot([0, 1], ls=\"--\", lw=1)\n",
    "plt.plot([0, 0], [1, 0] , c='limegreen', lw=3), \n",
    "plt.plot([1, 1] , c='limegreen', lw=3)\n",
    "plt.ylabel('Verdaderos Positivos') \n",
    "plt.xlabel('Falsos Positivos')"
   ]
  },
  {
   "cell_type": "markdown",
   "metadata": {},
   "source": [
    "A primera vista un modelo con una capacidad predictiva adecuada debe tener una curva por sobre la bisectriz, la cual indica la tasa de clasificación aleatoria. Un modelo con desempeño deficiente presentará curvas ROC bajo la bisectriz.\n",
    "\n",
    "Una curva ROC con capacidad predictiva adecuada siempre se posicionará por sobre la bisectriz, dado que la tasa de verdaderos positivos será mayor que la tasa de falsos positivos. El comportamiento deseado de la curva ROC es que tienda a acercarse a la esquina superior izquierda del gráfico, señalada con verde.\n",
    "\n",
    "La calidad de una curva ROC también se puede resumir con una métrica simple llamada la área debajo de la curva. Los valores mayores de esta cifra van a estar asociados con un mejor desempeño del modelo en predecir más verdaderos positivos que falsos positivos\n",
    "\n",
    "Para estimar el área debajo de la curva utilizamos el método `roc_auc_score` en el módulo `metrics` de `sklearn`. De manera similar a las implementaciones de métricas previas con `sklearn`, el método solicita el vector objetivo verdadero (`y_test`) y nuestras predicciones en base al modelo (`yhat`)."
   ]
  },
  {
   "cell_type": "code",
   "execution_count": 74,
   "metadata": {},
   "outputs": [
    {
     "data": {
      "text/plain": [
       "0.6266927673603957"
      ]
     },
     "execution_count": 74,
     "metadata": {},
     "output_type": "execute_result"
    }
   ],
   "source": [
    "from sklearn.metrics import roc_auc_score \n",
    "roc_auc_score(y_test, yhat)"
   ]
  },
  {
   "cell_type": "markdown",
   "metadata": {},
   "source": [
    "Con un valor de 0.64, nuestro modelo tiene un desempeño de 14% superior a un mecanismo de clasificación aleatoria. Es aceptable, pero se puede mejorar."
   ]
  },
  {
   "cell_type": "markdown",
   "metadata": {},
   "source": [
    "#### **4 - Métodos de resampling (remuestreo)**"
   ]
  },
  {
   "cell_type": "markdown",
   "metadata": {},
   "source": [
    "##### **`Introducción`**"
   ]
  },
  {
   "cell_type": "markdown",
   "metadata": {},
   "source": [
    "En la semana pasada hablamos de los errores en las muestras de entrenamiento y pruebas medidos mediante el `Promedio del Error Cuadrático`. El error de pruebas es una estimación de la capacidad de generalización del modelo sobre datos no observados por este en el conjunto con el que fue entrenado (el conjunto de entrenamiento).\n",
    "\n",
    "De esta forma, nuestro criterio para escoger el mejor modelo es aquél que presente un Promedio del Error Cuadrático menor.\n",
    "\n",
    "Resulta que muchas veces no tendremos suficientes observaciones en la muestra de pruebas como para generar un estadístico de error robusto. Para ello aplicamos una estrategia similar, donde separamos de forma repetida en múltiples muestras de entrenamiento y pruebas.\n",
    "\n",
    "Por cada muestra se calcula una métrica de desempeño y posteriormente son promediadas para tener una aproximación al costo asociado de implementar un modelo."
   ]
  },
  {
   "cell_type": "markdown",
   "metadata": {},
   "source": [
    "##### **`k-Fold Cross Validation (Validación Cruzada repetida k veces)`**"
   ]
  },
  {
   "cell_type": "markdown",
   "metadata": {},
   "source": [
    "Una de las estrategias más comunes es la segmentación de muestras de tamaño similar `k` veces, donde k representa la cantidad de segmentaciones a realizar. El procedimiento sigue el siguiente flujo:\n",
    "\n",
    "1.\tEntrenar un modelo con todas las muestras, excluyendo la primera.\n",
    "\n",
    "2.\tEl modelo entrenado busca predecir el vector objetivo de la primera submuestra, y se calcula algún estadístico de desempeño. Éste se guarda como estadístico de prueba 1.\n",
    "\n",
    "3.\tSe vuelve a entrenar el modelo con todas las muestras, volviendo a ingresar la primera muestra y excluyendo la segunda. Se computa el estadístico de desempeño y se guarda como estadístico de prueba 2.\n",
    "\n",
    "4.\tSe repite el procedimiento hasta que toda submuestra sea considerada una vez como muestra de pruebas.\n",
    "\n",
    "5.\tSe promedian los estadísticos en una media y desviación estándar.\n",
    "\n",
    "En la figura generada con `gfx.crossvalidation_schema()` se ejemplifica el procedimiento cuando establecemos `k = 5`."
   ]
  },
  {
   "cell_type": "code",
   "execution_count": 81,
   "metadata": {},
   "outputs": [
    {
     "data": {
      "image/png": "[encoded data removed]",
      "text/plain": [
       "<Figure size 576x396 with 1 Axes>"
      ]
     },
     "metadata": {},
     "output_type": "display_data"
    }
   ],
   "source": [
    "fig=plt.figure() \n",
    "ax=fig.add_axes([0,0,1,1]) \n",
    "ax.axis('off')\n",
    "\n",
    "def crossvalidation_schema(cv_folds=5,ax= ax, textprop={}): \n",
    "    \"\"\"docstring for crossvalidation_schema\"\"\"\n",
    "    for i in range(cv_folds):\n",
    "        ax.add_patch(plt.Rectangle((0, i), 5, 0.7, fc='lightgrey')) \n",
    "        ax.add_patch(plt.Rectangle((5. * i /cv_folds, i), 5. / cv_folds, 0.7, fc='skyblue'))\n",
    "        ax.text(5. * (i + .5) / cv_folds, i + .45, \"Val.\", ha='center', va='center', **textprop)\n",
    "        ax.text(5, i + .15, r'Ensayo {0}$\\in${1}'.format(cv_folds - i, cv_folds), ha = 'right', va='bottom', **textprop)\n",
    "        ax.text(5.5, i + .35, r'Error testing $\\hat\\theta_{{0}}$'.format(i)) \n",
    "        ax.text(7, 2.3, 'Error')\n",
    "        ax.set_xlim(-1, 6)\n",
    "        ax.set_ylim(-0.2, cv_folds + 0.2)\n",
    "\n",
    "crossvalidation_schema()"
   ]
  },
  {
   "cell_type": "markdown",
   "metadata": {},
   "source": [
    "Para implementar una validación cruzada con `sklearn` importamos el método `cross_val_score` en el módulo `model_selection`. A diferencia de la segmentación de muestras clásica realizada con el método `train_test_split` donde se define el porcentaje a asignar en la muestra de pruebas, con este método se define la cantidad de submuestras a considerar.\n",
    "\n",
    "El método pide los siguientes parámetros:\n",
    "\n",
    "1.\tEl primer parámetro corresponde al estimador a utilizar. En este caso utilizaremos `LogisticRegression()`. Cabe destacar que el estimador debe ingresarse como una clase no inicializada.\n",
    "\n",
    "2.\tEl segundo parámetro es la matriz de atributos. En este caso utilizaremos las cuatro variables definidas en el estudio como `df.loc[:, 'dist100':'assoc']`. Se debe ingresar toda la matriz de datos para realizar la segmentación de forma interna en el modelo.\n",
    "\n",
    "3.\tEl tercer parámetro es el vector objetivo. En este caso utilizaremos el vector definido en el estudio como `df.loc[:, 'y']`.\n",
    "\n",
    "4.\tEl cuarto parámetro corresponde a la cantidad de segmentaciones a realizar. En este ejemplo utilizaremos el mínimo posible de segmentaciones con `cv=3`. Si no se define este parámetro, el método asume que son tres segmentaciones.\n",
    "\n",
    "5.\tEl quinto parámetro corresponde a la métrica de desempeño a evaluar. Si no se define este parámetro, el método asume por defecto que la métrica es `f1` en los modelos de clasificación y es `mse` (Promedio del Error Cuadrático) en los modelos de regresión. En este caso haremos de forma explícita el uso de `f1`. Para más información sobre los métodos de `scoring` asociados."
   ]
  },
  {
   "cell_type": "code",
   "execution_count": 82,
   "metadata": {},
   "outputs": [
    {
     "data": {
      "text/plain": [
       "array([0.70499244, 0.6888361 , 0.7006079 ])"
      ]
     },
     "execution_count": 82,
     "metadata": {},
     "output_type": "execute_result"
    }
   ],
   "source": [
    "from sklearn.model_selection import cross_val_score\n",
    "\n",
    "m1_cv = cross_val_score(LogisticRegression(), X = df.loc[:,'dist100':'assoc'], y = df.loc[:, 'y'], cv=3, scoring='f1')\n",
    "\n",
    "m1_cv"
   ]
  },
  {
   "cell_type": "markdown",
   "metadata": {},
   "source": [
    "El método `cross_val_score` devuelve un array con el F1 para cada submuestra."
   ]
  },
  {
   "cell_type": "code",
   "execution_count": 83,
   "metadata": {},
   "outputs": [
    {
     "name": "stdout",
     "output_type": "stream",
     "text": [
      "El puntaje F1 para la muestra 1 es 0.7\n",
      "El puntaje F1 para la muestra 2 es 0.69\n",
      "El puntaje F1 para la muestra 3 es 0.7\n"
     ]
    }
   ],
   "source": [
    "for i, n in enumerate(m1_cv):\n",
    "    print(\"El puntaje F1 para la muestra {0} es {1}\".format(i+1, round(n, 2)))"
   ]
  },
  {
   "cell_type": "code",
   "execution_count": 84,
   "metadata": {},
   "outputs": [
    {
     "name": "stdout",
     "output_type": "stream",
     "text": [
      "El puntaje F1 promedio para el modelo es de:  0.7\n",
      "La desviación estandar F1 promedio para el modelo es de:  0.01\n"
     ]
    }
   ],
   "source": [
    "print(\"El puntaje F1 promedio para el modelo es de: \", round(np.mean(m1_cv), 2))\n",
    "print(\"La desviación estandar F1 promedio para el modelo es de: \", round(np.std(m1_cv),2))"
   ]
  },
  {
   "cell_type": "markdown",
   "metadata": {},
   "source": [
    "Cuando promediamos los puntajes, la evaluación del modelo se mantiene relativamente estable alrededor de un 70% con una desviación estándar baja. En comparación a nuestro F1 original del modelo sin validación cruzada, observamos un incremento de 8% aproximadamente."
   ]
  },
  {
   "cell_type": "markdown",
   "metadata": {},
   "source": [
    "##### **`Leave-one-out Crossvalidation (deja-una-afuera)`**"
   ]
  },
  {
   "cell_type": "markdown",
   "metadata": {},
   "source": [
    "De forma opuesta a la k-Fold Cross-Validation encontramos a Leave-One-Out Cross-Validation, caso donde existen tantas muestras como observaciones en una base de datos.\n",
    "\n",
    "Bajo este modelo de validación cruzada, se separa una observación a la vez y con las observaciones restantes se entrena un modelo con (n-1) observaciones para predecir su valor. De manera similar a como lo hicimos con k-Fold, se genera una métrica de desempeño por cada iteración y posteriormente se promedian.\n",
    " \n",
    "\n",
    "La validación `Leave-One-Out` se implementa dentro del módulo `cross_val_score` en el parámetro `cv` llamando a la clase `LeaveOneOut()`. Si implementamos la validación cruzada con `scoring='f1'`, Python arrojará un error `UndefinedMetricWarning: F-score is ill-defined and being set to 0.0 due to no predicted samples.`, dado que la media armónica necesita que los valores de precisión y Recall sean mayores a 0. Para este ejemplo utilizaremos `scoring='accuracy'`.\n",
    "\n",
    "Otro aspecto a considerar sobre la validación Leave-one-out es el tiempo de ejecución. Jupyter tiene el método `%time` que estima el tiempo en ejecución. El método tiene un tiempo de ejecución de 12.3 segundos, dado que tiene que recorrer por cada observación. Esto es relativamente lento dado el pequeño tamaño muestral.\n",
    "\n",
    "Observación: El método %time calcula el tiempo de ejecución de toda la celda en la que se encuentra, por lo tanto, si en una celda tenemos, por ejemplo el siguiente código:"
   ]
  },
  {
   "cell_type": "code",
   "execution_count": null,
   "metadata": {},
   "outputs": [],
   "source": [
    "%time \n",
    "myMethod_1(args_1) \n",
    "print(...) \n",
    "myMethod_2(args_2) \n",
    "print(...)"
   ]
  },
  {
   "cell_type": "markdown",
   "metadata": {},
   "source": [
    "El tiempo de ejecución que nos arrojará la celda corresponde al tiempo de ejecución de ambos métodos y de las dos llamadas a la función print()."
   ]
  },
  {
   "cell_type": "code",
   "execution_count": 86,
   "metadata": {},
   "outputs": [
    {
     "name": "stdout",
     "output_type": "stream",
     "text": [
      "Wall time: 2min 12s\n"
     ]
    }
   ],
   "source": [
    "%%time\n",
    "from sklearn.model_selection import LeaveOneOut \n",
    "m1_loocv = cross_val_score(LogisticRegression(), \n",
    "                           df.loc[:, 'dist100': 'assoc'], \n",
    "                           df.loc[:,'y'],\n",
    "                           cv=LeaveOneOut(), # acá asignamos la clase LeaveOneOut()\n",
    "                           scoring='accuracy')"
   ]
  },
  {
   "cell_type": "code",
   "execution_count": 87,
   "metadata": {},
   "outputs": [
    {
     "data": {
      "text/plain": [
       "array([1., 0., 0., 1., 1., 1., 1., 1., 1., 1., 1., 1., 1., 1., 0., 1., 1.,\n",
       "       1., 1., 1.])"
      ]
     },
     "execution_count": 87,
     "metadata": {},
     "output_type": "execute_result"
    }
   ],
   "source": [
    "# pidamos las primeras 20 observaciones del array \n",
    "m1_loocv[:20]"
   ]
  },
  {
   "cell_type": "markdown",
   "metadata": {},
   "source": [
    "Resulta que el array arroja valores binarios. Esto se debe a que el método de accuracy cuando se aplica a una observación a la vez, etiqueta como 1 cuando la observación fue predicha de forma exitosa, 0 de lo contrario."
   ]
  },
  {
   "cell_type": "code",
   "execution_count": 88,
   "metadata": {},
   "outputs": [
    {
     "name": "stdout",
     "output_type": "stream",
     "text": [
      "El puntaje de accuracy promedio para el modelo es de:  0.61\n",
      "La desviación estandar de accuracy promedio para el modelo es de:  0.49\n"
     ]
    }
   ],
   "source": [
    "print(\"El puntaje de accuracy promedio para el modelo es de: \", round(np.mean(m1_loocv), 2))\n",
    "print(\"La desviación estandar de accuracy promedio para el modelo es de: \", round(np.std(m1_loocv),2))"
   ]
  },
  {
   "cell_type": "markdown",
   "metadata": {},
   "source": [
    "Si comparamos la accuracy promedio estimada con loo (0.61) en comparación a la estimada con nuestra estimación original (0.63), observamos que disminuyó en 2 puntos aproximadamente. Esto indica cierta inestabilidad de la métrica, punto que se ve apoyado por la alta varianza presentada (con una desviación estándar de 0.49)."
   ]
  },
  {
   "cell_type": "markdown",
   "metadata": {},
   "source": [
    "#### **5 - Y qué es mejor?**"
   ]
  },
  {
   "cell_type": "markdown",
   "metadata": {},
   "source": [
    "Ambos métodos representan extremos sobre cómo realizar segmentaciones para la validación cruzada. La elección del criterio repercute en que tanto el modelo se acerca a los parámetros verdaderos (sesgo) y qué tan generalizable es nuestro modelo a otras muestras (varianza). Mientras que el número de segmentaciones a realizar aumenta, la diferencia entre los tamaños de las muestras de entrenamiento y pruebas se reducen. En la medida que esta diferencia disminuye, el sesgo del modelo disminuye.\n",
    "\n",
    "Ya sabemos que en la medida que disminuimos nuestro sesgo, las oportunidades de tener un modelo con alta varianza aumentan sustancialmente. Un modelo con alta varianza implica que su replicación en otras muestras puede producir parámetros estimados distintos entre replicaciones.\n",
    "\n",
    "Retomando nuestro conocimiento en las leyes asintóticas como el Teorema del Límite Central y la Ley de los Grandes Números, sabemos que en la medida que nuestra muestra (para este caso, la muestra de entrenamiento) aumenta su tamaño, el estimador tenderá a converger con el parámetro verdadero.\n",
    "\n",
    "Pongamos a prueba la estimación del puntaje F1 en la medida que aumentamos la cantidad de segmentaciones a realizar. Para este experimento generamos cuatro validaciones cruzadas con 3, 5, 10 y 20 divisiones, y posteriormente las graficamos en diagramas de cajas."
   ]
  },
  {
   "cell_type": "code",
   "execution_count": 89,
   "metadata": {},
   "outputs": [
    {
     "data": {
      "text/plain": [
       "Text(0.5, 0.98, 'Desempeño del modelo logístico (Puntaje F1) condicional a la cantidad de validaciones cruzadas')"
      ]
     },
     "execution_count": 89,
     "metadata": {},
     "output_type": "execute_result"
    },
    {
     "data": {
      "image/png": "[encoded data removed]",
      "text/plain": [
       "<Figure size 576x396 with 4 Axes>"
      ]
     },
     "metadata": {},
     "output_type": "display_data"
    }
   ],
   "source": [
    "# definimos los criterios en un array \n",
    "k_fold = [3, 5, 10, 20]\n",
    "\n",
    "# generamos un gráfico vacío que contenga los gráficos \n",
    "fig, ax = plt.subplots(1, len(k_fold), sharey='row') \n",
    "\n",
    "# por cada elemento y su posición en el array\n",
    "for n, i in enumerate(k_fold):\n",
    "    # estimar la validación cruzada con el elemento \n",
    "    tmp = cross_val_score(LogisticRegression(), df.loc[:, 'dist100':'assoc'], df.loc[:,'y'], cv = i, scoring = 'f1') \n",
    "    # guardar el gráfico en la posición declarada \n",
    "    ax[n].boxplot(tmp)\n",
    "    ax[n].set_title('k={0}'.format(i))\n",
    "\n",
    "fig.suptitle('Desempeño del modelo logístico (Puntaje F1) condicional a la cantidad de validaciones cruzadas')"
   ]
  },
  {
   "cell_type": "markdown",
   "metadata": {},
   "source": [
    "En el gráfico creado se visualiza que el riesgo de utilizar un número alto de segmentaciones (k=20) implica aumentar la variabilidad de nuestra métrica de desempeño y levanta dudas sobre la utilidad del modelo para desarrollar nuevas predicciones.\n",
    "\n",
    "Cuando el número de validaciones es bajo (k=3), el riesgo es en considerar que la métrica promediada es la óptima. Disminuímos la variabilidad de la predicción a expensas de aumentar el sesgo y obtener un parámetro que dista del óptimo empírico.\n",
    "\n",
    "Las situaciones graficadas con k=5 y k=10 se consideran como norma en la cantidad de validaciones a generar. Investigaciones sugieren que se generan resultados similares entre una validación con k=10 y una validación Leave-one-out."
   ]
  },
  {
   "cell_type": "markdown",
   "metadata": {},
   "source": [
    "#### **6 - Refactorizando nuestro modelo**"
   ]
  },
  {
   "cell_type": "markdown",
   "metadata": {},
   "source": [
    "Ahora apliquemos nuestro conocimiento sobre métricas de evaluación para clasificación.\n",
    "\n",
    "Nuestro objetivo es desarrollar una serie de aproximaciones funcionales para medir la probabilidad de cambiarse de pozo a uno con menores tasas de arsénico.\n",
    "\n",
    "Vamos a generar tres modelos candidatos:\n",
    "\n",
    "1.\t`Modelo lineal aditivo`: Este es el modelo que desarrollamos anteriormente. Se dice que es aditivo dado que los 4 atributos ingresados no interactúan entre sí.\n",
    "\n",
    "2.\t`Modelo lineal con interacciones de 2-orden`: De forma adicional a los parámetros asignados en el modelo lineal aditivo, agregamos 6 términos que representan interacciones entre dos variables.\n",
    "\n",
    "3.\t`Modelo lineal con interacciones de 3-orden`: Al modelo anterior se le agregan 4 interacciones entre tres variables, resultando en 14 parámetros a estimar.\n"
   ]
  },
  {
   "cell_type": "markdown",
   "metadata": {},
   "source": [
    "#### **7 - Generando interacciones**"
   ]
  },
  {
   "cell_type": "markdown",
   "metadata": {},
   "source": [
    "Para generar las interacciones utilizaremos la clase `PolynomialFeatures()` dentro del módulo `preprocessing` de `sklearn`. Dentro de los parámetros de la clase declaramos las siguientes especificaciones:\n",
    "\n",
    "-\t`degree=2`: Restringimos que el orden de las interacciones no debe superar 2.\n",
    "-\t`interaction_only=True`: Con esta opción ignoramos los términos cuadráticos que se generan por defecto, en adición a las interacciones.\n",
    "-\t`include_bias=False`: Para conservar grados de libertad, ignoramos la estimación del intercepto.\n",
    "\n",
    "Posteriormente, concatenamos la función `fit_transform` a la clase. Dentro de ella pasamos las matrices de atributos estandarizadas para entrenamiento y pruebas."
   ]
  },
  {
   "cell_type": "markdown",
   "metadata": {},
   "source": [
    "##### **`Comparaciones de múltiples métricas`**"
   ]
  },
  {
   "cell_type": "markdown",
   "metadata": {},
   "source": [
    "Ahora implementaremos un flujo para graficar el comporamiento de las métricas `F1`, `Precission`, `Recall` y `Accuracy` en los tres modelos mediante validación cruzada. Separaremos el proceso en varios pasos:"
   ]
  },
  {
   "cell_type": "markdown",
   "metadata": {},
   "source": [
    "##### **`Generando las matrices a comparar`**"
   ]
  },
  {
   "cell_type": "markdown",
   "metadata": {},
   "source": [
    "Dado que los modelos expanden la cantidad de atributos a incluir, debemos generar las matrices a utilizar. Cómo utilizaremos la función `cross_val_score`, la matriz de atributos se debe ingresar completa."
   ]
  },
  {
   "cell_type": "code",
   "execution_count": 90,
   "metadata": {},
   "outputs": [],
   "source": [
    "# estandarizamos la matriz de atributos\n",
    "std_matrix = StandardScaler().fit_transform(df.loc[:, 'dist100':'assoc'])\n",
    "\n",
    "# Con la clase PolynomialFeature preparamos las otras dos matrices candidatas\n",
    "from sklearn.preprocessing import PolynomialFeatures\n",
    "\n",
    "# interacción de 2do orden\n",
    "df_int_2 = PolynomialFeatures(degree=2, interaction_only=True, include_bias=False).fit_transform(std_matrix) \n",
    "\n",
    "# interacción de 3er orden\n",
    "df_int_3 = PolynomialFeatures(degree=3, interaction_only=True, include_bias=False).fit_transform(std_matrix)"
   ]
  },
  {
   "cell_type": "markdown",
   "metadata": {},
   "source": [
    "##### **`Definiendo las métricas`**"
   ]
  },
  {
   "cell_type": "markdown",
   "metadata": {},
   "source": [
    "Para esta evaluación nos enfocaremos en `F1`, `Precision`, `Recall` y `Accuracy`. Estas las guardaremos en un array (eval_metrics) el cual determinará el loop a realizar.\n",
    "\n",
    "Generaremos 4 gráficos de caja, uno por cada métrica. Así definimos con `plt.subplots` el rango. \n",
    "\n",
    "`plt.xticks` permite rotar las etiquetas del eje X."
   ]
  },
  {
   "cell_type": "code",
   "execution_count": 91,
   "metadata": {},
   "outputs": [
    {
     "data": {
      "image/png": "[encoded data removed]",
      "text/plain": [
       "<Figure size 576x396 with 4 Axes>"
      ]
     },
     "metadata": {},
     "output_type": "display_data"
    }
   ],
   "source": [
    "eval_metrics = ['f1', 'precision', 'recall', 'accuracy'] \n",
    "plt.subplots(1, len(eval_metrics)) \n",
    "plt.xticks(rotation=70);"
   ]
  },
  {
   "cell_type": "markdown",
   "metadata": {},
   "source": [
    "##### **`Iniciando el loop`**"
   ]
  },
  {
   "cell_type": "markdown",
   "metadata": {},
   "source": [
    "Por cada métrica de `eval_metrics`, solicitaremos lo siguiente:\n",
    "\n",
    "1.\tCalcula los puntajes de validación cruzada con `k=10` para cada modelo candidato.\n",
    "\n",
    "2.\tGenera un objeto `DataFrame` para guardar las métricas de forma larga mediante `.unstack()`.\n",
    "\n",
    "3.\tPor cada objeto `DataFrame`, graficamos el diagrama de caja.\n",
    "\n",
    "4.\tFiniquitamos con detalles estéticos de presentación"
   ]
  },
  {
   "cell_type": "code",
   "execution_count": 95,
   "metadata": {},
   "outputs": [
    {
     "data": {
      "image/png": "[encoded data removed]",
      "text/plain": [
       "<Figure size 576x396 with 4 Axes>"
      ]
     },
     "metadata": {},
     "output_type": "display_data"
    }
   ],
   "source": [
    "for n, i in enumerate(eval_metrics):\n",
    "    tmp_1 = cross_val_score(LogisticRegression(), df.loc[:, 'dist100':'assoc'], df.loc[:,'y'], cv = 10, scoring = i) \n",
    "    tmp_2 = cross_val_score(LogisticRegression(), df_int_2, df.loc[:, 'y'], cv=10, scoring=i) \n",
    "    tmp_3 = cross_val_score(LogisticRegression(), df_int_3, df.loc[:, 'y'], cv=10, scoring=i)\n",
    "\n",
    "    tmp = pd.DataFrame({'Additive': tmp_1, '2-order Interaction': tmp_2, '3-order Interaction':tmp_3}).unstack().reset_index() \n",
    "    tmp.rename(columns={'level_0':'order', 'level_1': 'num', '0': 'score'}, inplace=True)\n",
    "    plt.subplot(1, 4, n+1) \n",
    "    sns.boxplot(x=tmp.iloc[:,0], y=tmp.iloc[:, 2]) \n",
    "    sns.despine() \n",
    "    plt.xticks(rotation=45, ha='right') \n",
    "    plt.xlabel(' ')\n",
    "    plt.ylabel(' ') \n",
    "    plt.title(i.capitalize())"
   ]
  },
  {
   "cell_type": "markdown",
   "metadata": {},
   "source": [
    "##### **`¿Y cuál modelo es el mejor?`**"
   ]
  },
  {
   "cell_type": "markdown",
   "metadata": {},
   "source": [
    "Enfoquémonos en las métricas `F1`. El gráfico sugiere que el modelo con un mejor desempeño es el con interacciones del tercer orden. Esto dado que presenta una mediana relativamente superior a las métricas de los otros modelos. También cabe destacar que si bien presenta una mayor varianza que el modelo con interacciones del segundo orden, presenta menos casos atípicos.\n",
    "\n",
    "Otro aspecto favorable al modelo con interacciones del tercer orden es que tanto Precision como Recall son relativamente similares en mediana y varianza, en comparación a los otros modelos candidatos. Finalmente, el modelo también presenta mayores tasas de exactitud en la predicción general."
   ]
  },
  {
   "cell_type": "markdown",
   "metadata": {},
   "source": [
    "#### **8 - Expansión de n-orden**"
   ]
  },
  {
   "cell_type": "markdown",
   "metadata": {},
   "source": [
    "En este caso generaremos otra validación, incluyendo tanto términos de interacción como polinomiales en los modelos. De similar manera al ejemplo anterior generamos un array que contenga el orden polinómico a incluir.\n",
    "\n",
    "Para este caso utilizaremos la métrica AUC y la curva ROC que informa sobre la relación entre falsos y verdaderos positivos. Veremos cómo se comporta en la medida que aumentamos la complejidad del modelo.\n",
    "\n",
    "Para este ejemplo utilizaremos los polinomios 5, 10, 15, 20 y 25, en adición al modelo lineal simple."
   ]
  },
  {
   "cell_type": "code",
   "execution_count": 97,
   "metadata": {},
   "outputs": [
    {
     "name": "stdout",
     "output_type": "stream",
     "text": [
      "Orden: 1, cantidad de atributos estimables: 4. AUC estimada: 0.642\n",
      "Orden: 5, cantidad de atributos estimables: 125. AUC estimada: 0.663\n",
      "Orden: 10, cantidad de atributos estimables: 1000. AUC estimada: 0.565\n",
      "Orden: 15, cantidad de atributos estimables: 3875. AUC estimada: 0.5\n",
      "Orden: 20, cantidad de atributos estimables: 10625. AUC estimada: 0.5\n",
      "Orden: 25, cantidad de atributos estimables: 23750. AUC estimada: 0.5\n"
     ]
    },
    {
     "data": {
      "image/png": "[encoded data removed]",
      "text/plain": [
       "<Figure size 576x396 with 1 Axes>"
      ]
     },
     "metadata": {},
     "output_type": "display_data"
    }
   ],
   "source": [
    "# estandarizamos la matriz de datos\n",
    "std_matrix = StandardScaler().fit_transform(df.loc[:, 'dist100':'assoc'])\n",
    "\n",
    "#declaramos los términos \n",
    "polynomial_order = [1, 5, 10, 15, 20, 25] \n",
    "\n",
    "# por cada elemento del array\n",
    "for i in polynomial_order: \n",
    "    #generamos muestras segmentadas\n",
    "    X_train_tmp, X_test_tmp, y_train_tmp, y_test_tmp = train_test_split(std_matrix, df['y'], test_size=.33, random_state=11238)\n",
    "    # Transformamos la muestra de entrenamiento por i polinomio \n",
    "    X_train_tmp = PolynomialFeatures(degree=i, interaction_only=False, include_bias=False).fit_transform(X_train_tmp)\n",
    "    # Transformamos la muestra de evaluación por i polinomio \n",
    "    X_test_tmp = PolynomialFeatures(degree=i, interaction_only=False, include_bias=False).fit_transform(X_test_tmp) \n",
    "    \n",
    "    # Generamos el modelo predictivo\n",
    "    tmp_model = LogisticRegression().fit(X_train_tmp, y_train_tmp) \n",
    "    # Guardamos las predicciones de probabilidad\n",
    "    tmp_pred = tmp_model.predict_proba(X_test_tmp)[:,1] \n",
    "    # generamos los arrays con roc_curve\n",
    "    false_positive, true_positive, threshold = roc_curve(y_test_tmp, tmp_pred)\n",
    "    # redondeamos los valores del puntaje AUC\n",
    "    roc_auc_tmp = round(roc_auc_score(y_test_tmp, tmp_pred), 3) \n",
    "    \n",
    "    # graficamos\n",
    "    plt.plot(false_positive, true_positive, label = 'Orden: {0} - AUC: {1}'.format(i, roc_auc_tmp)) \n",
    "    plt.plot([0, 1], ls=\"--\")\n",
    "    plt.plot([0, 0], [1, 0] , c='limegreen', lw=3) \n",
    "    plt.plot([1, 1] , c='limegreen', lw=3) \n",
    "    plt.ylabel('True Positive Rate') \n",
    "    plt.xlabel('False Positive Rate')\n",
    "    plt.legend()\n",
    "\n",
    "    # solicitamos información de iteración\n",
    "    print(\"Orden: {0}, cantidad de atributos estimables: {1}. AUC estimada: {2}\".format(i, X_train_tmp.shape[1], roc_auc_tmp))"
   ]
  },
  {
   "cell_type": "markdown",
   "metadata": {},
   "source": [
    "El output del experimento demuestra que el aumentar la complejidad del modelo (medida en la cantidad de parámetros), esta no conlleva a un aumento monotónico del desempeño del modelo.\n",
    "\n",
    "Consideremos los últimos dos modelos, donde se permitieron interacciones y polinomios del 20-orden. Estos casos tienen un desempeño magro con 4% y 7% mayores oportunidades de clasificar correctamente una observación, en comparación a un clasificador aleatorio.\n",
    "\n",
    "Guiándonos por los principios de la parsimonia, preferimos un modelo que maximice nuestra tasa de clasificación con la menor cantidad de variables. Esto se cumple con el modelo del 5-orden, con un desempeño 16% superior que un clasificador aleatorio. Otro aspecto a considerar es que el modelo del 5-orden es eficiente en términos computacionales, dado que se demora menos tiempo en ejecutar.\n",
    "\n",
    "Finalmente cabe señalar que el modelo sin términos polinomiales tiene un desempeño relativamente adecuado (comparado entre todos los modelos candidatos). Así, la moraleja es no colapsar de forma prematura nuestros modelos predictivos con características innecesarias.\n",
    "\n",
    "En la próxima unidad utilizaremos algoritmos para reducir la dimensionalidad de nuestras observaciones para resolver problemas como el recientemente desarrollado, donde la cantidad de atributos en nuestra matriz X afecta en términos computacionales y asintóticos el desempeño de nuestros modelos."
   ]
  }
 ],
 "metadata": {
  "kernelspec": {
   "display_name": "base",
   "language": "python",
   "name": "python3"
  },
  "language_info": {
   "codemirror_mode": {
    "name": "ipython",
    "version": 3
   },
   "file_extension": ".py",
   "mimetype": "text/x-python",
   "name": "python",
   "nbconvert_exporter": "python",
   "pygments_lexer": "ipython3",
   "version": "3.9.5"
  }
 },
 "nbformat": 4,
 "nbformat_minor": 2
}
