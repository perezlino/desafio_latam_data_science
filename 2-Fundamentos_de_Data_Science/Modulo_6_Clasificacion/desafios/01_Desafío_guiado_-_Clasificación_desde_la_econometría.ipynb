{
 "cells": [
  {
   "cell_type": "markdown",
   "id": "cd3d1c47",
   "metadata": {},
   "source": [
    "### **Desafío guiado - Clasificación desde la econometría**"
   ]
  },
  {
   "cell_type": "markdown",
   "id": "8d7bf68f",
   "metadata": {},
   "source": [
    "### **`Descripción`**"
   ]
  },
  {
   "cell_type": "markdown",
   "id": "d903f6bb",
   "metadata": {},
   "source": [
    "En esta sesión trabajaremos el dataset south african heart, el cual contiene las siguientes variables:\n",
    "\n",
    "- `sbp`: Presión Sanguínea Sistólica.\n",
    "- `tobacco`: Promedio tabaco consumido por día.\n",
    "- `ldl`: Lipoproteína de baja densidad.\n",
    "- `adiposity`: Adiposidad.\n",
    "- `famhist`: Antecedentes familiares de enfermedades cardiácas. (Binaria)\n",
    "- `types`: Personalidad tipo A\n",
    "- `obesity`: Obesidad.\n",
    "- `alcohol`: Consumo actual de alcohol.\n",
    "- `age`: edad.\n",
    "- `chd`: Enfermedad coronaria. (dummy). **Vector objetivo**."
   ]
  },
  {
   "cell_type": "markdown",
   "id": "a28ec1e8",
   "metadata": {},
   "source": [
    "### **`Desafío 1: Preparar el ambiente de trabajo`**"
   ]
  },
  {
   "cell_type": "markdown",
   "id": "394a793c",
   "metadata": {},
   "source": [
    "- Cargue las librerías básicas para importación y manipulación de datos (numpy, pandas), gráficos (matplotlib y seaborn) y de modelación econométrica (statsmodels).\n",
    "- Importe el archivo `southafricanheart.csv` que se encuentra dentro del material de apoyo."
   ]
  },
  {
   "cell_type": "code",
   "execution_count": 10,
   "id": "0b44de77",
   "metadata": {},
   "outputs": [],
   "source": [
    "# Utiliza esta celda para importar los módulos solicitados\n",
    "\n",
    "import pandas as pd\n",
    "import numpy as np\n",
    "import matplotlib.pyplot as plt\n",
    "import seaborn as sns\n",
    "import scipy.stats as stats\n",
    "import statsmodels.api as sm\n",
    "import statsmodels.formula.api as smf\n",
    "\n",
    "# evitar warnings y deprecaciones \n",
    "import warnings \n",
    "warnings.filterwarnings(action=\"ignore\")\n",
    "\n",
    "from calidad_datos import calidad_datos\n",
    "#from graficos import cross_plot\n",
    "\n",
    "plt.style.use('seaborn') # gráficos estilo seaborn \n",
    "plt.rcParams[\"figure.figsize\"] = (8,6) # Tamaño gráficos \n",
    "plt.rcParams[\"figure.dpi\"] = 70 # resolución gráficos"
   ]
  },
  {
   "cell_type": "code",
   "execution_count": 5,
   "id": "93222a62",
   "metadata": {},
   "outputs": [
    {
     "data": {
      "text/html": [
       "<div>\n",
       "<style scoped>\n",
       "    .dataframe tbody tr th:only-of-type {\n",
       "        vertical-align: middle;\n",
       "    }\n",
       "\n",
       "    .dataframe tbody tr th {\n",
       "        vertical-align: top;\n",
       "    }\n",
       "\n",
       "    .dataframe thead th {\n",
       "        text-align: right;\n",
       "    }\n",
       "</style>\n",
       "<table border=\"1\" class=\"dataframe\">\n",
       "  <thead>\n",
       "    <tr style=\"text-align: right;\">\n",
       "      <th></th>\n",
       "      <th>sbp</th>\n",
       "      <th>tobacco</th>\n",
       "      <th>ldl</th>\n",
       "      <th>adiposity</th>\n",
       "      <th>famhist</th>\n",
       "      <th>typea</th>\n",
       "      <th>obesity</th>\n",
       "      <th>alcohol</th>\n",
       "      <th>age</th>\n",
       "      <th>chd</th>\n",
       "    </tr>\n",
       "  </thead>\n",
       "  <tbody>\n",
       "    <tr>\n",
       "      <th>1</th>\n",
       "      <td>160</td>\n",
       "      <td>12.00</td>\n",
       "      <td>5.73</td>\n",
       "      <td>23.11</td>\n",
       "      <td>Present</td>\n",
       "      <td>49</td>\n",
       "      <td>25.30</td>\n",
       "      <td>97.20</td>\n",
       "      <td>52</td>\n",
       "      <td>1</td>\n",
       "    </tr>\n",
       "    <tr>\n",
       "      <th>2</th>\n",
       "      <td>144</td>\n",
       "      <td>0.01</td>\n",
       "      <td>4.41</td>\n",
       "      <td>28.61</td>\n",
       "      <td>Absent</td>\n",
       "      <td>55</td>\n",
       "      <td>28.87</td>\n",
       "      <td>2.06</td>\n",
       "      <td>63</td>\n",
       "      <td>1</td>\n",
       "    </tr>\n",
       "    <tr>\n",
       "      <th>3</th>\n",
       "      <td>118</td>\n",
       "      <td>0.08</td>\n",
       "      <td>3.48</td>\n",
       "      <td>32.28</td>\n",
       "      <td>Present</td>\n",
       "      <td>52</td>\n",
       "      <td>29.14</td>\n",
       "      <td>3.81</td>\n",
       "      <td>46</td>\n",
       "      <td>0</td>\n",
       "    </tr>\n",
       "    <tr>\n",
       "      <th>4</th>\n",
       "      <td>170</td>\n",
       "      <td>7.50</td>\n",
       "      <td>6.41</td>\n",
       "      <td>38.03</td>\n",
       "      <td>Present</td>\n",
       "      <td>51</td>\n",
       "      <td>31.99</td>\n",
       "      <td>24.26</td>\n",
       "      <td>58</td>\n",
       "      <td>1</td>\n",
       "    </tr>\n",
       "    <tr>\n",
       "      <th>5</th>\n",
       "      <td>134</td>\n",
       "      <td>13.60</td>\n",
       "      <td>3.50</td>\n",
       "      <td>27.78</td>\n",
       "      <td>Present</td>\n",
       "      <td>60</td>\n",
       "      <td>25.99</td>\n",
       "      <td>57.34</td>\n",
       "      <td>49</td>\n",
       "      <td>1</td>\n",
       "    </tr>\n",
       "  </tbody>\n",
       "</table>\n",
       "</div>"
      ],
      "text/plain": [
       "   sbp  tobacco   ldl  adiposity  famhist  typea  obesity  alcohol  age  chd\n",
       "1  160    12.00  5.73      23.11  Present     49    25.30    97.20   52    1\n",
       "2  144     0.01  4.41      28.61   Absent     55    28.87     2.06   63    1\n",
       "3  118     0.08  3.48      32.28  Present     52    29.14     3.81   46    0\n",
       "4  170     7.50  6.41      38.03  Present     51    31.99    24.26   58    1\n",
       "5  134    13.60  3.50      27.78  Present     60    25.99    57.34   49    1"
      ]
     },
     "execution_count": 5,
     "metadata": {},
     "output_type": "execute_result"
    }
   ],
   "source": [
    "df = pd.read_csv(\"southafricanheart.csv\", index_col=0)\n",
    "\n",
    "df.head()"
   ]
  },
  {
   "cell_type": "markdown",
   "id": "54f9bca6",
   "metadata": {},
   "source": [
    "- Realice una descripción del set importado mostrando la lista con los nombres de variables importadas"
   ]
  },
  {
   "cell_type": "code",
   "execution_count": 6,
   "id": "ef56c57c",
   "metadata": {},
   "outputs": [
    {
     "data": {
      "text/plain": [
       "['sbp',\n",
       " 'tobacco',\n",
       " 'ldl',\n",
       " 'adiposity',\n",
       " 'famhist',\n",
       " 'typea',\n",
       " 'obesity',\n",
       " 'alcohol',\n",
       " 'age',\n",
       " 'chd']"
      ]
     },
     "execution_count": 6,
     "metadata": {},
     "output_type": "execute_result"
    }
   ],
   "source": [
    "# Utiliza esta celda para mostrar los nombres de las columnas del dataframe\n",
    "\n",
    "df.columns.to_list()"
   ]
  },
  {
   "cell_type": "markdown",
   "id": "bbbf3682",
   "metadata": {},
   "source": [
    "- Muestre un análisis descriptivo mediante .describe()"
   ]
  },
  {
   "cell_type": "code",
   "execution_count": 11,
   "id": "39a0a43d",
   "metadata": {},
   "outputs": [
    {
     "data": {
      "text/html": [
       "<div>\n",
       "<style scoped>\n",
       "    .dataframe tbody tr th:only-of-type {\n",
       "        vertical-align: middle;\n",
       "    }\n",
       "\n",
       "    .dataframe tbody tr th {\n",
       "        vertical-align: top;\n",
       "    }\n",
       "\n",
       "    .dataframe thead th {\n",
       "        text-align: right;\n",
       "    }\n",
       "</style>\n",
       "<table border=\"1\" class=\"dataframe\">\n",
       "  <thead>\n",
       "    <tr style=\"text-align: right;\">\n",
       "      <th></th>\n",
       "      <th>count</th>\n",
       "      <th>mean</th>\n",
       "      <th>std</th>\n",
       "      <th>min</th>\n",
       "      <th>25%</th>\n",
       "      <th>50%</th>\n",
       "      <th>75%</th>\n",
       "      <th>max</th>\n",
       "    </tr>\n",
       "  </thead>\n",
       "  <tbody>\n",
       "    <tr>\n",
       "      <th>sbp</th>\n",
       "      <td>462.0</td>\n",
       "      <td>138.33</td>\n",
       "      <td>20.50</td>\n",
       "      <td>101.00</td>\n",
       "      <td>124.00</td>\n",
       "      <td>134.00</td>\n",
       "      <td>148.00</td>\n",
       "      <td>218.00</td>\n",
       "    </tr>\n",
       "    <tr>\n",
       "      <th>tobacco</th>\n",
       "      <td>462.0</td>\n",
       "      <td>3.64</td>\n",
       "      <td>4.59</td>\n",
       "      <td>0.00</td>\n",
       "      <td>0.05</td>\n",
       "      <td>2.00</td>\n",
       "      <td>5.50</td>\n",
       "      <td>31.20</td>\n",
       "    </tr>\n",
       "    <tr>\n",
       "      <th>ldl</th>\n",
       "      <td>462.0</td>\n",
       "      <td>4.74</td>\n",
       "      <td>2.07</td>\n",
       "      <td>0.98</td>\n",
       "      <td>3.28</td>\n",
       "      <td>4.34</td>\n",
       "      <td>5.79</td>\n",
       "      <td>15.33</td>\n",
       "    </tr>\n",
       "    <tr>\n",
       "      <th>adiposity</th>\n",
       "      <td>462.0</td>\n",
       "      <td>25.41</td>\n",
       "      <td>7.78</td>\n",
       "      <td>6.74</td>\n",
       "      <td>19.77</td>\n",
       "      <td>26.12</td>\n",
       "      <td>31.23</td>\n",
       "      <td>42.49</td>\n",
       "    </tr>\n",
       "    <tr>\n",
       "      <th>typea</th>\n",
       "      <td>462.0</td>\n",
       "      <td>53.10</td>\n",
       "      <td>9.82</td>\n",
       "      <td>13.00</td>\n",
       "      <td>47.00</td>\n",
       "      <td>53.00</td>\n",
       "      <td>60.00</td>\n",
       "      <td>78.00</td>\n",
       "    </tr>\n",
       "    <tr>\n",
       "      <th>obesity</th>\n",
       "      <td>462.0</td>\n",
       "      <td>26.04</td>\n",
       "      <td>4.21</td>\n",
       "      <td>14.70</td>\n",
       "      <td>22.98</td>\n",
       "      <td>25.80</td>\n",
       "      <td>28.50</td>\n",
       "      <td>46.58</td>\n",
       "    </tr>\n",
       "    <tr>\n",
       "      <th>alcohol</th>\n",
       "      <td>462.0</td>\n",
       "      <td>17.04</td>\n",
       "      <td>24.48</td>\n",
       "      <td>0.00</td>\n",
       "      <td>0.51</td>\n",
       "      <td>7.51</td>\n",
       "      <td>23.89</td>\n",
       "      <td>147.19</td>\n",
       "    </tr>\n",
       "    <tr>\n",
       "      <th>age</th>\n",
       "      <td>462.0</td>\n",
       "      <td>42.82</td>\n",
       "      <td>14.61</td>\n",
       "      <td>15.00</td>\n",
       "      <td>31.00</td>\n",
       "      <td>45.00</td>\n",
       "      <td>55.00</td>\n",
       "      <td>64.00</td>\n",
       "    </tr>\n",
       "    <tr>\n",
       "      <th>chd</th>\n",
       "      <td>462.0</td>\n",
       "      <td>0.35</td>\n",
       "      <td>0.48</td>\n",
       "      <td>0.00</td>\n",
       "      <td>0.00</td>\n",
       "      <td>0.00</td>\n",
       "      <td>1.00</td>\n",
       "      <td>1.00</td>\n",
       "    </tr>\n",
       "  </tbody>\n",
       "</table>\n",
       "</div>"
      ],
      "text/plain": [
       "           count    mean    std     min     25%     50%     75%     max\n",
       "sbp        462.0  138.33  20.50  101.00  124.00  134.00  148.00  218.00\n",
       "tobacco    462.0    3.64   4.59    0.00    0.05    2.00    5.50   31.20\n",
       "ldl        462.0    4.74   2.07    0.98    3.28    4.34    5.79   15.33\n",
       "adiposity  462.0   25.41   7.78    6.74   19.77   26.12   31.23   42.49\n",
       "typea      462.0   53.10   9.82   13.00   47.00   53.00   60.00   78.00\n",
       "obesity    462.0   26.04   4.21   14.70   22.98   25.80   28.50   46.58\n",
       "alcohol    462.0   17.04  24.48    0.00    0.51    7.51   23.89  147.19\n",
       "age        462.0   42.82  14.61   15.00   31.00   45.00   55.00   64.00\n",
       "chd        462.0    0.35   0.48    0.00    0.00    0.00    1.00    1.00"
      ]
     },
     "execution_count": 11,
     "metadata": {},
     "output_type": "execute_result"
    }
   ],
   "source": [
    "# Utiliza esta celda para aplicar describe()\n",
    "#Es para variables continuas, no considerar el chd\n",
    "\n",
    "df.describe().T.round(2)"
   ]
  },
  {
   "cell_type": "code",
   "execution_count": 8,
   "id": "086a74b7",
   "metadata": {},
   "outputs": [
    {
     "data": {
      "text/plain": [
       "sbp          0\n",
       "tobacco      0\n",
       "ldl          0\n",
       "adiposity    0\n",
       "famhist      0\n",
       "typea        0\n",
       "obesity      0\n",
       "alcohol      0\n",
       "age          0\n",
       "chd          0\n",
       "dtype: int64"
      ]
     },
     "execution_count": 8,
     "metadata": {},
     "output_type": "execute_result"
    }
   ],
   "source": [
    "df.isnull().sum()"
   ]
  },
  {
   "cell_type": "markdown",
   "id": "134041bb",
   "metadata": {},
   "source": [
    "**Comentarios de las variables continuas**\n",
    "Sus magnitudes son variadas. \n",
    "Se aprecia que no existen valores nulos.\n",
    "Chd no se debe considerar como variable continua, ya que corresponde anuesto vector objetico que es categórico. "
   ]
  },
  {
   "cell_type": "markdown",
   "id": "f44ae6f4",
   "metadata": {},
   "source": [
    "- Muestre distribución de categorías para las variables `famhist` y `chd`."
   ]
  },
  {
   "cell_type": "code",
   "execution_count": 12,
   "id": "0cc71e3a",
   "metadata": {},
   "outputs": [
    {
     "data": {
      "text/plain": [
       "Absent     270\n",
       "Present    192\n",
       "Name: famhist, dtype: int64"
      ]
     },
     "execution_count": 12,
     "metadata": {},
     "output_type": "execute_result"
    }
   ],
   "source": [
    "df['famhist'].value_counts()"
   ]
  },
  {
   "cell_type": "code",
   "execution_count": 13,
   "id": "ef6ab1be",
   "metadata": {},
   "outputs": [
    {
     "data": {
      "text/plain": [
       "0    302\n",
       "1    160\n",
       "Name: chd, dtype: int64"
      ]
     },
     "execution_count": 13,
     "metadata": {},
     "output_type": "execute_result"
    }
   ],
   "source": [
    "df['chd'].value_counts()"
   ]
  },
  {
   "cell_type": "code",
   "execution_count": 4,
   "id": "7ee3a745",
   "metadata": {},
   "outputs": [
    {
     "data": {
      "image/png": "[encoded data removed]",
      "text/plain": [
       "<Figure size 432x288 with 1 Axes>"
      ]
     },
     "metadata": {
      "needs_background": "light"
     },
     "output_type": "display_data"
    }
   ],
   "source": [
    "# Utiliza esta celda para mostrar las frecuencias de famhist con un gráfico de barras\n",
    "\n",
    "df[\"famhist\"].value_counts().plot(kind=\"bar\");"
   ]
  },
  {
   "cell_type": "code",
   "execution_count": 18,
   "id": "032c43c7",
   "metadata": {},
   "outputs": [
    {
     "data": {
      "text/plain": [
       "<AxesSubplot:xlabel='famhist', ylabel='count'>"
      ]
     },
     "execution_count": 18,
     "metadata": {},
     "output_type": "execute_result"
    },
    {
     "data": {
      "image/png": "[encoded data removed]",
      "text/plain": [
       "<Figure size 560x420 with 1 Axes>"
      ]
     },
     "metadata": {},
     "output_type": "display_data"
    }
   ],
   "source": [
    "sns.countplot(x=df['famhist'])"
   ]
  },
  {
   "cell_type": "code",
   "execution_count": 5,
   "id": "30be71fc",
   "metadata": {},
   "outputs": [
    {
     "data": {
      "image/png": "[encoded data removed]",
      "text/plain": [
       "<Figure size 432x288 with 1 Axes>"
      ]
     },
     "metadata": {
      "needs_background": "light"
     },
     "output_type": "display_data"
    }
   ],
   "source": [
    "# Utiliza esta celda para mostrar las frecuencias de chd con un gráfico de barras\n",
    "\n",
    "df[\"chd\"].value_counts().plot(kind=\"bar\");"
   ]
  },
  {
   "cell_type": "code",
   "execution_count": 17,
   "id": "e38c6eaa",
   "metadata": {},
   "outputs": [
    {
     "data": {
      "text/plain": [
       "<AxesSubplot:xlabel='count', ylabel='chd'>"
      ]
     },
     "execution_count": 17,
     "metadata": {},
     "output_type": "execute_result"
    },
    {
     "data": {
      "image/png": "[encoded data removed]",
      "text/plain": [
       "<Figure size 560x420 with 1 Axes>"
      ]
     },
     "metadata": {},
     "output_type": "display_data"
    }
   ],
   "source": [
    "sns.countplot(y=df['chd'])"
   ]
  },
  {
   "cell_type": "markdown",
   "id": "1a9487f5",
   "metadata": {},
   "source": [
    "**Comentarios de las variables categóricas**\n",
    "\n",
    "Una mayor cantidad de personas no tiene antecendentes familiares ni presenta enfermedad coronaria. Esto se aprecia en los gráficos de barra."
   ]
  },
  {
   "cell_type": "markdown",
   "id": "fc9ad18b",
   "metadata": {},
   "source": [
    "### **`Desafío 2`**"
   ]
  },
  {
   "cell_type": "markdown",
   "id": "89107d1e",
   "metadata": {},
   "source": [
    "A continuación se presenta el siguiente modelo a estimar:\n",
    "\n",
    "$$\n",
    "\\log\\left(\\frac{p(\\text{chd}=1)}{1-p(\\text{chd}=1)}\\right)_i=\\beta_0 + \\beta_{famhist} \\cdot \\text{famhist}_i\n",
    "$$\n",
    "\n",
    "Para ello ejecute los siguientes pasos:\n",
    "1. Recodifique `famhist` a dummy, asignando 1 a la categoría minoritaria."
   ]
  },
  {
   "cell_type": "code",
   "execution_count": 21,
   "id": "70fedd74",
   "metadata": {},
   "outputs": [
    {
     "data": {
      "text/plain": [
       "0    270\n",
       "1    192\n",
       "Name: famhist, dtype: int64"
      ]
     },
     "execution_count": 21,
     "metadata": {},
     "output_type": "execute_result"
    }
   ],
   "source": [
    "# Utiliza esta celda para realizar la codificación solicitada\n",
    "#Se coloca 1 a al categoria minoritaria\n",
    "\n",
    "df[\"famhist\"] = df[\"famhist\"].replace([\"Absent\", \"Present\"], [0, 1])\n",
    "\n",
    "df[\"famhist\"].value_counts()"
   ]
  },
  {
   "cell_type": "markdown",
   "id": "45653a69",
   "metadata": {},
   "source": [
    "Otras formas que podemos utilizar para crear una nueva columna binaria:"
   ]
  },
  {
   "cell_type": "code",
   "execution_count": null,
   "id": "42784bf3",
   "metadata": {},
   "outputs": [],
   "source": [
    "df['famhist'] = pd.get_dummies(df, columns=['famhist'], drop_first=True)"
   ]
  },
  {
   "cell_type": "code",
   "execution_count": null,
   "id": "23eaba99",
   "metadata": {},
   "outputs": [],
   "source": [
    "df['famhist'] = np.where(df['famhist'] == 'Present', 1, 0)"
   ]
  },
  {
   "cell_type": "code",
   "execution_count": null,
   "id": "9c69e8c2",
   "metadata": {},
   "outputs": [],
   "source": [
    "df.loc[df.famhist == 'Absent', 'famhist'] == 0\n",
    "df.loc[df.famhist == 'Present', 'famhist'] == 1"
   ]
  },
  {
   "cell_type": "markdown",
   "id": "da02917e",
   "metadata": {},
   "source": [
    "2. Utilice `smf.logit` para estimar el modelo."
   ]
  },
  {
   "cell_type": "code",
   "execution_count": 22,
   "id": "479199b2",
   "metadata": {},
   "outputs": [
    {
     "name": "stdout",
     "output_type": "stream",
     "text": [
      "Optimization terminated successfully.\n",
      "         Current function value: 0.608111\n",
      "         Iterations 5\n"
     ]
    }
   ],
   "source": [
    "# Utiliza esta celda para instanciar y entrenar el modelo solicitado\n",
    "#vd ~ vi , df\n",
    "\n",
    "modelo_1 = smf.logit(\"chd ~ famhist\", df).fit()"
   ]
  },
  {
   "cell_type": "code",
   "execution_count": 23,
   "id": "73f369d0",
   "metadata": {},
   "outputs": [
    {
     "data": {
      "text/html": [
       "<table class=\"simpletable\">\n",
       "<tr>\n",
       "        <td>Model:</td>              <td>Logit</td>           <td>Method:</td>          <td>MLE</td>   \n",
       "</tr>\n",
       "<tr>\n",
       "  <td>Dependent Variable:</td>        <td>chd</td>       <td>Pseudo R-squared:</td>    <td>0.057</td>  \n",
       "</tr>\n",
       "<tr>\n",
       "         <td>Date:</td>        <td>2024-01-05 10:59</td>       <td>AIC:</td>         <td>565.8944</td> \n",
       "</tr>\n",
       "<tr>\n",
       "   <td>No. Observations:</td>         <td>462</td>             <td>BIC:</td>         <td>574.1655</td> \n",
       "</tr>\n",
       "<tr>\n",
       "       <td>Df Model:</td>              <td>1</td>         <td>Log-Likelihood:</td>    <td>-280.95</td> \n",
       "</tr>\n",
       "<tr>\n",
       "     <td>Df Residuals:</td>           <td>460</td>           <td>LL-Null:</td>        <td>-298.05</td> \n",
       "</tr>\n",
       "<tr>\n",
       "      <td>Converged:</td>           <td>1.0000</td>        <td>LLR p-value:</td>    <td>4.9371e-09</td>\n",
       "</tr>\n",
       "<tr>\n",
       "    <td>No. Iterations:</td>        <td>5.0000</td>           <td>Scale:</td>         <td>1.0000</td>  \n",
       "</tr>\n",
       "</table>\n",
       "<table class=\"simpletable\">\n",
       "<tr>\n",
       "      <td></td>       <th>Coef.</th>  <th>Std.Err.</th>    <th>z</th>     <th>P>|z|</th> <th>[0.025</th>  <th>0.975]</th> \n",
       "</tr>\n",
       "<tr>\n",
       "  <th>Intercept</th> <td>-1.1690</td>  <td>0.1431</td>  <td>-8.1687</td> <td>0.0000</td> <td>-1.4495</td> <td>-0.8885</td>\n",
       "</tr>\n",
       "<tr>\n",
       "  <th>famhist</th>   <td>1.1690</td>   <td>0.2033</td>  <td>5.7514</td>  <td>0.0000</td> <td>0.7706</td>  <td>1.5674</td> \n",
       "</tr>\n",
       "</table><br/>\n"
      ],
      "text/latex": [
       "\\begin{table}\n",
       "\\caption{Results: Logit}\n",
       "\\label{}\n",
       "\\begin{center}\n",
       "\\begin{tabular}{llll}\n",
       "\\hline\n",
       "Model:              & Logit            & Method:           & MLE         \\\\\n",
       "Dependent Variable: & chd              & Pseudo R-squared: & 0.057       \\\\\n",
       "Date:               & 2024-01-05 10:59 & AIC:              & 565.8944    \\\\\n",
       "No. Observations:   & 462              & BIC:              & 574.1655    \\\\\n",
       "Df Model:           & 1                & Log-Likelihood:   & -280.95     \\\\\n",
       "Df Residuals:       & 460              & LL-Null:          & -298.05     \\\\\n",
       "Converged:          & 1.0000           & LLR p-value:      & 4.9371e-09  \\\\\n",
       "No. Iterations:     & 5.0000           & Scale:            & 1.0000      \\\\\n",
       "\\hline\n",
       "\\end{tabular}\n",
       "\\end{center}\n",
       "\n",
       "\\begin{center}\n",
       "\\begin{tabular}{lrrrrrr}\n",
       "\\hline\n",
       "          &   Coef. & Std.Err. &       z & P$> |$z$|$ &  [0.025 &  0.975]  \\\\\n",
       "\\hline\n",
       "Intercept & -1.1690 &   0.1431 & -8.1687 &      0.0000 & -1.4495 & -0.8885  \\\\\n",
       "famhist   &  1.1690 &   0.2033 &  5.7514 &      0.0000 &  0.7706 &  1.5674  \\\\\n",
       "\\hline\n",
       "\\end{tabular}\n",
       "\\end{center}\n",
       "\\end{table}\n",
       "\\bigskip\n"
      ],
      "text/plain": [
       "<class 'statsmodels.iolib.summary2.Summary'>\n",
       "\"\"\"\n",
       "                         Results: Logit\n",
       "=================================================================\n",
       "Model:              Logit            Method:           MLE       \n",
       "Dependent Variable: chd              Pseudo R-squared: 0.057     \n",
       "Date:               2024-01-05 10:59 AIC:              565.8944  \n",
       "No. Observations:   462              BIC:              574.1655  \n",
       "Df Model:           1                Log-Likelihood:   -280.95   \n",
       "Df Residuals:       460              LL-Null:          -298.05   \n",
       "Converged:          1.0000           LLR p-value:      4.9371e-09\n",
       "No. Iterations:     5.0000           Scale:            1.0000    \n",
       "------------------------------------------------------------------\n",
       "               Coef.   Std.Err.     z     P>|z|    [0.025   0.975]\n",
       "------------------------------------------------------------------\n",
       "Intercept     -1.1690    0.1431  -8.1687  0.0000  -1.4495  -0.8885\n",
       "famhist        1.1690    0.2033   5.7514  0.0000   0.7706   1.5674\n",
       "=================================================================\n",
       "\n",
       "\"\"\""
      ]
     },
     "execution_count": 23,
     "metadata": {},
     "output_type": "execute_result"
    }
   ],
   "source": [
    "modelo_1.summary2()"
   ]
  },
  {
   "cell_type": "markdown",
   "id": "7ab49a27",
   "metadata": {},
   "source": [
    "3. Implemente una función `inverse_logit` que realice el mapeo de log-odds a probabilidad."
   ]
  },
  {
   "cell_type": "code",
   "execution_count": 24,
   "id": "70d38beb",
   "metadata": {},
   "outputs": [],
   "source": [
    "# Utiliza esta celda para implementar la función solicitada\n",
    "\n",
    "#en el x van los logaritmos de chance de ocurrencia\n",
    "\n",
    "def inverse_logit(x):\n",
    "    #Retorna una probabilidad\n",
    "    return 1 / (1 + np. exp(-x))"
   ]
  },
  {
   "cell_type": "markdown",
   "id": "968bfe4b",
   "metadata": {},
   "source": [
    "4.  Con el modelo estimado, responda lo siguiente:\n",
    "- ¿Cuál es la probabilidad de un individuo con antecedentes familiares de tener una enfermedad coronaria?"
   ]
  },
  {
   "cell_type": "code",
   "execution_count": 25,
   "id": "30037f8b",
   "metadata": {},
   "outputs": [
    {
     "name": "stdout",
     "output_type": "stream",
     "text": [
      "La prob de tener una enfermedad coronaria cuando se tiene antecedentes familiares es de 0.5\n"
     ]
    }
   ],
   "source": [
    "# Utiliza esta celda para obtener los log odds en base a los coeficientes, cuando famhist=1.\n",
    "#En los params estan los coeficientes\n",
    "\n",
    "log_odds_estimados = modelo_1.params[\"Intercept\"] +  modelo_1.params[\"famhist\"] * 1\n",
    "\n",
    "# Obtener además la probabilidad utilizando inverse_logit\n",
    "\n",
    "probabilidad_con_antecedentes = inverse_logit(log_odds_estimados)\n",
    "\n",
    "print(f\"La prob de tener una enfermedad coronaria cuando se tiene antecedentes familiares es de {probabilidad_con_antecedentes}\")"
   ]
  },
  {
   "cell_type": "markdown",
   "id": "de3251ec",
   "metadata": {},
   "source": [
    "¿Cuál es la probabilidad de un individuo sin antecedentes familiares de tener\n",
    "una enfermedad coronaria?"
   ]
  },
  {
   "cell_type": "code",
   "execution_count": 27,
   "id": "259e2a95",
   "metadata": {},
   "outputs": [
    {
     "name": "stdout",
     "output_type": "stream",
     "text": [
      "La prob de tener una enfermedad coronaria cuando no se tiene antecedentes familiares es de 0.24\n"
     ]
    }
   ],
   "source": [
    "# Utiliza esta celda para obtener los log odds en base a los coeficientes, cuando famhist=0.\n",
    "\n",
    "log_odds_estimados_sin = modelo_1.params[\"Intercept\"] +  modelo_1.params[\"famhist\"] * 0\n",
    "\n",
    "# Obtener además la probabilidad utilizando inverse_logit\n",
    "\n",
    "probabilidad_sin_antecedentes = inverse_logit(log_odds_estimados_sin)\n",
    "\n",
    "print(f\"La prob de tener una enfermedad coronaria cuando no se tiene antecedentes familiares es de {round(probabilidad_sin_antecedentes, 2)}\")"
   ]
  },
  {
   "cell_type": "markdown",
   "id": "6284e2ed",
   "metadata": {},
   "source": [
    "- ¿Cuál es la diferencia en la probabilidad entre un individuo con antecedentes y otro sin antecedentes?"
   ]
  },
  {
   "cell_type": "code",
   "execution_count": 28,
   "id": "1b6a89ef",
   "metadata": {},
   "outputs": [
    {
     "name": "stdout",
     "output_type": "stream",
     "text": [
      "Un individuo con antecendentes familiares tiene 0.26 más de probabilidades tener una enfermedad coronaria\n"
     ]
    }
   ],
   "source": [
    "# Utiliza esta celda para mostrar las diferencias de ambas probabilidades\n",
    "\n",
    "print(f\"Un individuo con antecendentes familiares tiene {round(probabilidad_con_antecedentes-probabilidad_sin_antecedentes, 2)}\"\n",
    "      f\" más de probabilidades tener una enfermedad coronaria\")"
   ]
  },
  {
   "cell_type": "markdown",
   "id": "ee28417b",
   "metadata": {},
   "source": [
    "- Replique el modelo con smf.ols y comente las similitudes entre los coeficientes estimados. _Tip: Utilice $\\beta$/4_"
   ]
  },
  {
   "cell_type": "code",
   "execution_count": 12,
   "id": "0554c3c5",
   "metadata": {},
   "outputs": [
    {
     "data": {
      "text/plain": [
       "Intercept    0.237037\n",
       "famhist      0.262963\n",
       "dtype: float64"
      ]
     },
     "execution_count": 12,
     "metadata": {},
     "output_type": "execute_result"
    }
   ],
   "source": [
    "# Utiliza esta celda para entrenar el modelo ols y mostrar los coeficientes\n",
    "\n",
    "modelo_2 =smf.ols(\"chd ~ famhist\", df).fit()\n",
    "modelo_2.params"
   ]
  },
  {
   "cell_type": "code",
   "execution_count": 13,
   "id": "3a340b56",
   "metadata": {},
   "outputs": [
    {
     "data": {
      "text/plain": [
       "Intercept   -1.168993\n",
       "famhist      1.168993\n",
       "dtype: float64"
      ]
     },
     "execution_count": 13,
     "metadata": {},
     "output_type": "execute_result"
    }
   ],
   "source": [
    "modelo_1.params"
   ]
  },
  {
   "cell_type": "code",
   "execution_count": 14,
   "id": "6f678122",
   "metadata": {},
   "outputs": [
    {
     "data": {
      "text/plain": [
       "0.29224827135747744"
      ]
     },
     "execution_count": 14,
     "metadata": {},
     "output_type": "execute_result"
    }
   ],
   "source": [
    "modelo_1.params[\"famhist\"] / 4"
   ]
  },
  {
   "cell_type": "markdown",
   "id": "81adfcf5",
   "metadata": {},
   "source": [
    "**Respuesta**\n",
    "El valor obtenido al dividir el coeficiente estimado con logit por 4 es similar al valor del coeficiente obtenido con Min Cuad"
   ]
  },
  {
   "cell_type": "markdown",
   "id": "a45cc9aa",
   "metadata": {},
   "source": [
    "### **`Desafío 3: Estimación completa`**"
   ]
  },
  {
   "cell_type": "markdown",
   "id": "a6a60039",
   "metadata": {},
   "source": [
    "Implemente un modelo con la siguiente forma:\n",
    "\n",
    "$$\n",
    "\\log\\left(\\frac{p(\\text{chd}=1)}{1-p(\\text{chd}=1)}\\right)_i=\\beta_0 + \\sum_{j=1}^{n}\\beta_j \\cdot X_{ji}\n",
    "$$"
   ]
  },
  {
   "cell_type": "code",
   "execution_count": 29,
   "id": "6958b60f",
   "metadata": {},
   "outputs": [
    {
     "name": "stdout",
     "output_type": "stream",
     "text": [
      "Optimization terminated successfully.\n",
      "         Current function value: 0.510974\n",
      "         Iterations 6\n"
     ]
    }
   ],
   "source": [
    "# Utiliza esta celda para entrenar el modelo solicitado\n",
    "\n",
    "model_3 = smf.logit(\"chd ~ sbp + tobacco + ldl + adiposity + famhist + typea + obesity + alcohol + age\", df).fit()"
   ]
  },
  {
   "cell_type": "code",
   "execution_count": 34,
   "id": "d3a0403d",
   "metadata": {},
   "outputs": [
    {
     "data": {
      "text/html": [
       "<table class=\"simpletable\">\n",
       "<caption>Logit Regression Results</caption>\n",
       "<tr>\n",
       "  <th>Dep. Variable:</th>          <td>chd</td>       <th>  No. Observations:  </th>  <td>   462</td>  \n",
       "</tr>\n",
       "<tr>\n",
       "  <th>Model:</th>                 <td>Logit</td>      <th>  Df Residuals:      </th>  <td>   452</td>  \n",
       "</tr>\n",
       "<tr>\n",
       "  <th>Method:</th>                 <td>MLE</td>       <th>  Df Model:          </th>  <td>     9</td>  \n",
       "</tr>\n",
       "<tr>\n",
       "  <th>Date:</th>            <td>Fri, 05 Jan 2024</td> <th>  Pseudo R-squ.:     </th>  <td>0.2080</td>  \n",
       "</tr>\n",
       "<tr>\n",
       "  <th>Time:</th>                <td>11:20:20</td>     <th>  Log-Likelihood:    </th> <td> -236.07</td> \n",
       "</tr>\n",
       "<tr>\n",
       "  <th>converged:</th>             <td>True</td>       <th>  LL-Null:           </th> <td> -298.05</td> \n",
       "</tr>\n",
       "<tr>\n",
       "  <th>Covariance Type:</th>     <td>nonrobust</td>    <th>  LLR p-value:       </th> <td>2.055e-22</td>\n",
       "</tr>\n",
       "</table>\n",
       "<table class=\"simpletable\">\n",
       "<tr>\n",
       "      <td></td>         <th>coef</th>     <th>std err</th>      <th>z</th>      <th>P>|z|</th>  <th>[0.025</th>    <th>0.975]</th>  \n",
       "</tr>\n",
       "<tr>\n",
       "  <th>Intercept</th> <td>   -6.1507</td> <td>    1.308</td> <td>   -4.701</td> <td> 0.000</td> <td>   -8.715</td> <td>   -3.587</td>\n",
       "</tr>\n",
       "<tr>\n",
       "  <th>sbp</th>       <td>    0.0065</td> <td>    0.006</td> <td>    1.135</td> <td> 0.256</td> <td>   -0.005</td> <td>    0.018</td>\n",
       "</tr>\n",
       "<tr>\n",
       "  <th>tobacco</th>   <td>    0.0794</td> <td>    0.027</td> <td>    2.984</td> <td> 0.003</td> <td>    0.027</td> <td>    0.132</td>\n",
       "</tr>\n",
       "<tr>\n",
       "  <th>ldl</th>       <td>    0.1739</td> <td>    0.060</td> <td>    2.915</td> <td> 0.004</td> <td>    0.057</td> <td>    0.291</td>\n",
       "</tr>\n",
       "<tr>\n",
       "  <th>adiposity</th> <td>    0.0186</td> <td>    0.029</td> <td>    0.635</td> <td> 0.526</td> <td>   -0.039</td> <td>    0.076</td>\n",
       "</tr>\n",
       "<tr>\n",
       "  <th>famhist</th>   <td>    0.9254</td> <td>    0.228</td> <td>    4.061</td> <td> 0.000</td> <td>    0.479</td> <td>    1.372</td>\n",
       "</tr>\n",
       "<tr>\n",
       "  <th>typea</th>     <td>    0.0396</td> <td>    0.012</td> <td>    3.214</td> <td> 0.001</td> <td>    0.015</td> <td>    0.064</td>\n",
       "</tr>\n",
       "<tr>\n",
       "  <th>obesity</th>   <td>   -0.0629</td> <td>    0.044</td> <td>   -1.422</td> <td> 0.155</td> <td>   -0.150</td> <td>    0.024</td>\n",
       "</tr>\n",
       "<tr>\n",
       "  <th>alcohol</th>   <td>    0.0001</td> <td>    0.004</td> <td>    0.027</td> <td> 0.978</td> <td>   -0.009</td> <td>    0.009</td>\n",
       "</tr>\n",
       "<tr>\n",
       "  <th>age</th>       <td>    0.0452</td> <td>    0.012</td> <td>    3.728</td> <td> 0.000</td> <td>    0.021</td> <td>    0.069</td>\n",
       "</tr>\n",
       "</table>"
      ],
      "text/latex": [
       "\\begin{center}\n",
       "\\begin{tabular}{lclc}\n",
       "\\toprule\n",
       "\\textbf{Dep. Variable:}   &       chd        & \\textbf{  No. Observations:  } &      462    \\\\\n",
       "\\textbf{Model:}           &      Logit       & \\textbf{  Df Residuals:      } &      452    \\\\\n",
       "\\textbf{Method:}          &       MLE        & \\textbf{  Df Model:          } &        9    \\\\\n",
       "\\textbf{Date:}            & Fri, 05 Jan 2024 & \\textbf{  Pseudo R-squ.:     } &   0.2080    \\\\\n",
       "\\textbf{Time:}            &     11:20:20     & \\textbf{  Log-Likelihood:    } &   -236.07   \\\\\n",
       "\\textbf{converged:}       &       True       & \\textbf{  LL-Null:           } &   -298.05   \\\\\n",
       "\\textbf{Covariance Type:} &    nonrobust     & \\textbf{  LLR p-value:       } & 2.055e-22   \\\\\n",
       "\\bottomrule\n",
       "\\end{tabular}\n",
       "\\begin{tabular}{lcccccc}\n",
       "                   & \\textbf{coef} & \\textbf{std err} & \\textbf{z} & \\textbf{P$> |$z$|$} & \\textbf{[0.025} & \\textbf{0.975]}  \\\\\n",
       "\\midrule\n",
       "\\textbf{Intercept} &      -6.1507  &        1.308     &    -4.701  &         0.000        &       -8.715    &       -3.587     \\\\\n",
       "\\textbf{sbp}       &       0.0065  &        0.006     &     1.135  &         0.256        &       -0.005    &        0.018     \\\\\n",
       "\\textbf{tobacco}   &       0.0794  &        0.027     &     2.984  &         0.003        &        0.027    &        0.132     \\\\\n",
       "\\textbf{ldl}       &       0.1739  &        0.060     &     2.915  &         0.004        &        0.057    &        0.291     \\\\\n",
       "\\textbf{adiposity} &       0.0186  &        0.029     &     0.635  &         0.526        &       -0.039    &        0.076     \\\\\n",
       "\\textbf{famhist}   &       0.9254  &        0.228     &     4.061  &         0.000        &        0.479    &        1.372     \\\\\n",
       "\\textbf{typea}     &       0.0396  &        0.012     &     3.214  &         0.001        &        0.015    &        0.064     \\\\\n",
       "\\textbf{obesity}   &      -0.0629  &        0.044     &    -1.422  &         0.155        &       -0.150    &        0.024     \\\\\n",
       "\\textbf{alcohol}   &       0.0001  &        0.004     &     0.027  &         0.978        &       -0.009    &        0.009     \\\\\n",
       "\\textbf{age}       &       0.0452  &        0.012     &     3.728  &         0.000        &        0.021    &        0.069     \\\\\n",
       "\\bottomrule\n",
       "\\end{tabular}\n",
       "%\\caption{Logit Regression Results}\n",
       "\\end{center}"
      ],
      "text/plain": [
       "<class 'statsmodels.iolib.summary.Summary'>\n",
       "\"\"\"\n",
       "                           Logit Regression Results                           \n",
       "==============================================================================\n",
       "Dep. Variable:                    chd   No. Observations:                  462\n",
       "Model:                          Logit   Df Residuals:                      452\n",
       "Method:                           MLE   Df Model:                            9\n",
       "Date:                Fri, 05 Jan 2024   Pseudo R-squ.:                  0.2080\n",
       "Time:                        11:20:20   Log-Likelihood:                -236.07\n",
       "converged:                       True   LL-Null:                       -298.05\n",
       "Covariance Type:            nonrobust   LLR p-value:                 2.055e-22\n",
       "==============================================================================\n",
       "                 coef    std err          z      P>|z|      [0.025      0.975]\n",
       "------------------------------------------------------------------------------\n",
       "Intercept     -6.1507      1.308     -4.701      0.000      -8.715      -3.587\n",
       "sbp            0.0065      0.006      1.135      0.256      -0.005       0.018\n",
       "tobacco        0.0794      0.027      2.984      0.003       0.027       0.132\n",
       "ldl            0.1739      0.060      2.915      0.004       0.057       0.291\n",
       "adiposity      0.0186      0.029      0.635      0.526      -0.039       0.076\n",
       "famhist        0.9254      0.228      4.061      0.000       0.479       1.372\n",
       "typea          0.0396      0.012      3.214      0.001       0.015       0.064\n",
       "obesity       -0.0629      0.044     -1.422      0.155      -0.150       0.024\n",
       "alcohol        0.0001      0.004      0.027      0.978      -0.009       0.009\n",
       "age            0.0452      0.012      3.728      0.000       0.021       0.069\n",
       "==============================================================================\n",
       "\"\"\""
      ]
     },
     "execution_count": 34,
     "metadata": {},
     "output_type": "execute_result"
    }
   ],
   "source": [
    "model_3.summary()"
   ]
  },
  {
   "cell_type": "code",
   "execution_count": 33,
   "id": "7c860601",
   "metadata": {},
   "outputs": [
    {
     "data": {
      "text/html": [
       "<table class=\"simpletable\">\n",
       "<caption>Logit Regression Results</caption>\n",
       "<tr>\n",
       "  <th>Dep. Variable:</th>          <td>chd</td>       <th>  No. Observations:  </th>  <td>   462</td>  \n",
       "</tr>\n",
       "<tr>\n",
       "  <th>Model:</th>                 <td>Logit</td>      <th>  Df Residuals:      </th>  <td>   452</td>  \n",
       "</tr>\n",
       "<tr>\n",
       "  <th>Method:</th>                 <td>MLE</td>       <th>  Df Model:          </th>  <td>     9</td>  \n",
       "</tr>\n",
       "<tr>\n",
       "  <th>Date:</th>            <td>Fri, 05 Jan 2024</td> <th>  Pseudo R-squ.:     </th>  <td>0.2080</td>  \n",
       "</tr>\n",
       "<tr>\n",
       "  <th>Time:</th>                <td>11:20:02</td>     <th>  Log-Likelihood:    </th> <td> -236.07</td> \n",
       "</tr>\n",
       "<tr>\n",
       "  <th>converged:</th>             <td>True</td>       <th>  LL-Null:           </th> <td> -298.05</td> \n",
       "</tr>\n",
       "<tr>\n",
       "  <th>Covariance Type:</th>     <td>nonrobust</td>    <th>  LLR p-value:       </th> <td>2.055e-22</td>\n",
       "</tr>\n",
       "</table>"
      ],
      "text/latex": [
       "\\begin{center}\n",
       "\\begin{tabular}{lclc}\n",
       "\\toprule\n",
       "\\textbf{Dep. Variable:}   &       chd        & \\textbf{  No. Observations:  } &      462   \\\\\n",
       "\\textbf{Model:}           &      Logit       & \\textbf{  Df Residuals:      } &      452   \\\\\n",
       "\\textbf{Method:}          &       MLE        & \\textbf{  Df Model:          } &        9   \\\\\n",
       "\\textbf{Date:}            & Fri, 05 Jan 2024 & \\textbf{  Pseudo R-squ.:     } &   0.2080   \\\\\n",
       "\\textbf{Time:}            &     11:20:02     & \\textbf{  Log-Likelihood:    } &   -236.07  \\\\\n",
       "\\textbf{converged:}       &       True       & \\textbf{  LL-Null:           } &   -298.05  \\\\\n",
       "\\textbf{Covariance Type:} &    nonrobust     & \\textbf{  LLR p-value:       } & 2.055e-22  \\\\\n",
       "\\bottomrule\n",
       "\\end{tabular}\n",
       "%\\caption{Logit Regression Results}\n",
       "\\end{center}"
      ],
      "text/plain": [
       "<class 'statsmodels.iolib.table.SimpleTable'>"
      ]
     },
     "execution_count": 33,
     "metadata": {},
     "output_type": "execute_result"
    }
   ],
   "source": [
    "model_3.summary().tables[0]"
   ]
  },
  {
   "cell_type": "code",
   "execution_count": 35,
   "id": "3116f07f",
   "metadata": {},
   "outputs": [
    {
     "data": {
      "text/html": [
       "<table class=\"simpletable\">\n",
       "<tr>\n",
       "      <td></td>         <th>coef</th>     <th>std err</th>      <th>z</th>      <th>P>|z|</th>  <th>[0.025</th>    <th>0.975]</th>  \n",
       "</tr>\n",
       "<tr>\n",
       "  <th>Intercept</th> <td>   -6.1507</td> <td>    1.308</td> <td>   -4.701</td> <td> 0.000</td> <td>   -8.715</td> <td>   -3.587</td>\n",
       "</tr>\n",
       "<tr>\n",
       "  <th>sbp</th>       <td>    0.0065</td> <td>    0.006</td> <td>    1.135</td> <td> 0.256</td> <td>   -0.005</td> <td>    0.018</td>\n",
       "</tr>\n",
       "<tr>\n",
       "  <th>tobacco</th>   <td>    0.0794</td> <td>    0.027</td> <td>    2.984</td> <td> 0.003</td> <td>    0.027</td> <td>    0.132</td>\n",
       "</tr>\n",
       "<tr>\n",
       "  <th>ldl</th>       <td>    0.1739</td> <td>    0.060</td> <td>    2.915</td> <td> 0.004</td> <td>    0.057</td> <td>    0.291</td>\n",
       "</tr>\n",
       "<tr>\n",
       "  <th>adiposity</th> <td>    0.0186</td> <td>    0.029</td> <td>    0.635</td> <td> 0.526</td> <td>   -0.039</td> <td>    0.076</td>\n",
       "</tr>\n",
       "<tr>\n",
       "  <th>famhist</th>   <td>    0.9254</td> <td>    0.228</td> <td>    4.061</td> <td> 0.000</td> <td>    0.479</td> <td>    1.372</td>\n",
       "</tr>\n",
       "<tr>\n",
       "  <th>typea</th>     <td>    0.0396</td> <td>    0.012</td> <td>    3.214</td> <td> 0.001</td> <td>    0.015</td> <td>    0.064</td>\n",
       "</tr>\n",
       "<tr>\n",
       "  <th>obesity</th>   <td>   -0.0629</td> <td>    0.044</td> <td>   -1.422</td> <td> 0.155</td> <td>   -0.150</td> <td>    0.024</td>\n",
       "</tr>\n",
       "<tr>\n",
       "  <th>alcohol</th>   <td>    0.0001</td> <td>    0.004</td> <td>    0.027</td> <td> 0.978</td> <td>   -0.009</td> <td>    0.009</td>\n",
       "</tr>\n",
       "<tr>\n",
       "  <th>age</th>       <td>    0.0452</td> <td>    0.012</td> <td>    3.728</td> <td> 0.000</td> <td>    0.021</td> <td>    0.069</td>\n",
       "</tr>\n",
       "</table>"
      ],
      "text/latex": [
       "\\begin{center}\n",
       "\\begin{tabular}{lcccccc}\n",
       "\\toprule\n",
       "                   & \\textbf{coef} & \\textbf{std err} & \\textbf{z} & \\textbf{P$> |$z$|$} & \\textbf{[0.025} & \\textbf{0.975]}  \\\\\n",
       "\\midrule\n",
       "\\textbf{Intercept} &      -6.1507  &        1.308     &    -4.701  &         0.000        &       -8.715    &       -3.587     \\\\\n",
       "\\textbf{sbp}       &       0.0065  &        0.006     &     1.135  &         0.256        &       -0.005    &        0.018     \\\\\n",
       "\\textbf{tobacco}   &       0.0794  &        0.027     &     2.984  &         0.003        &        0.027    &        0.132     \\\\\n",
       "\\textbf{ldl}       &       0.1739  &        0.060     &     2.915  &         0.004        &        0.057    &        0.291     \\\\\n",
       "\\textbf{adiposity} &       0.0186  &        0.029     &     0.635  &         0.526        &       -0.039    &        0.076     \\\\\n",
       "\\textbf{famhist}   &       0.9254  &        0.228     &     4.061  &         0.000        &        0.479    &        1.372     \\\\\n",
       "\\textbf{typea}     &       0.0396  &        0.012     &     3.214  &         0.001        &        0.015    &        0.064     \\\\\n",
       "\\textbf{obesity}   &      -0.0629  &        0.044     &    -1.422  &         0.155        &       -0.150    &        0.024     \\\\\n",
       "\\textbf{alcohol}   &       0.0001  &        0.004     &     0.027  &         0.978        &       -0.009    &        0.009     \\\\\n",
       "\\textbf{age}       &       0.0452  &        0.012     &     3.728  &         0.000        &        0.021    &        0.069     \\\\\n",
       "\\bottomrule\n",
       "\\end{tabular}\n",
       "\\end{center}"
      ],
      "text/plain": [
       "<class 'statsmodels.iolib.table.SimpleTable'>"
      ]
     },
     "execution_count": 35,
     "metadata": {},
     "output_type": "execute_result"
    }
   ],
   "source": [
    "model_3.summary().tables[1]"
   ]
  },
  {
   "cell_type": "markdown",
   "id": "b6fdb86d",
   "metadata": {},
   "source": [
    "- Depure el modelo manteniendo las variables con significancia estadística al 5%."
   ]
  },
  {
   "cell_type": "code",
   "execution_count": 32,
   "id": "1439745e",
   "metadata": {},
   "outputs": [
    {
     "data": {
      "text/html": [
       "<div>\n",
       "<style scoped>\n",
       "    .dataframe tbody tr th:only-of-type {\n",
       "        vertical-align: middle;\n",
       "    }\n",
       "\n",
       "    .dataframe tbody tr th {\n",
       "        vertical-align: top;\n",
       "    }\n",
       "\n",
       "    .dataframe thead th {\n",
       "        text-align: right;\n",
       "    }\n",
       "</style>\n",
       "<table border=\"1\" class=\"dataframe\">\n",
       "  <thead>\n",
       "    <tr style=\"text-align: right;\">\n",
       "      <th></th>\n",
       "      <th>Coef.</th>\n",
       "      <th>Std.Err.</th>\n",
       "      <th>z</th>\n",
       "      <th>P&gt;|z|</th>\n",
       "      <th>[0.025</th>\n",
       "      <th>0.975]</th>\n",
       "    </tr>\n",
       "  </thead>\n",
       "  <tbody>\n",
       "    <tr>\n",
       "      <th>Intercept</th>\n",
       "      <td>-6.150721</td>\n",
       "      <td>1.308260</td>\n",
       "      <td>-4.701451</td>\n",
       "      <td>0.000003</td>\n",
       "      <td>-8.714863</td>\n",
       "      <td>-3.586578</td>\n",
       "    </tr>\n",
       "    <tr>\n",
       "      <th>tobacco</th>\n",
       "      <td>0.079376</td>\n",
       "      <td>0.026603</td>\n",
       "      <td>2.983758</td>\n",
       "      <td>0.002847</td>\n",
       "      <td>0.027236</td>\n",
       "      <td>0.131517</td>\n",
       "    </tr>\n",
       "    <tr>\n",
       "      <th>ldl</th>\n",
       "      <td>0.173924</td>\n",
       "      <td>0.059662</td>\n",
       "      <td>2.915166</td>\n",
       "      <td>0.003555</td>\n",
       "      <td>0.056989</td>\n",
       "      <td>0.290859</td>\n",
       "    </tr>\n",
       "    <tr>\n",
       "      <th>famhist</th>\n",
       "      <td>0.925370</td>\n",
       "      <td>0.227894</td>\n",
       "      <td>4.060530</td>\n",
       "      <td>0.000049</td>\n",
       "      <td>0.478706</td>\n",
       "      <td>1.372034</td>\n",
       "    </tr>\n",
       "    <tr>\n",
       "      <th>typea</th>\n",
       "      <td>0.039595</td>\n",
       "      <td>0.012320</td>\n",
       "      <td>3.213823</td>\n",
       "      <td>0.001310</td>\n",
       "      <td>0.015448</td>\n",
       "      <td>0.063742</td>\n",
       "    </tr>\n",
       "    <tr>\n",
       "      <th>age</th>\n",
       "      <td>0.045225</td>\n",
       "      <td>0.012130</td>\n",
       "      <td>3.728464</td>\n",
       "      <td>0.000193</td>\n",
       "      <td>0.021451</td>\n",
       "      <td>0.068999</td>\n",
       "    </tr>\n",
       "  </tbody>\n",
       "</table>\n",
       "</div>"
      ],
      "text/plain": [
       "              Coef.  Std.Err.         z     P>|z|    [0.025    0.975]\n",
       "Intercept -6.150721  1.308260 -4.701451  0.000003 -8.714863 -3.586578\n",
       "tobacco    0.079376  0.026603  2.983758  0.002847  0.027236  0.131517\n",
       "ldl        0.173924  0.059662  2.915166  0.003555  0.056989  0.290859\n",
       "famhist    0.925370  0.227894  4.060530  0.000049  0.478706  1.372034\n",
       "typea      0.039595  0.012320  3.213823  0.001310  0.015448  0.063742\n",
       "age        0.045225  0.012130  3.728464  0.000193  0.021451  0.068999"
      ]
     },
     "execution_count": 32,
     "metadata": {},
     "output_type": "execute_result"
    }
   ],
   "source": [
    "# Utiliza esta celda para mostrar los coeficientes con significancia estadística al 5%\n",
    "\n",
    "coefs = model_3.summary2().tables[1]\n",
    "\n",
    "coefs[coefs[\"P>|z|\"] < 0.05]"
   ]
  },
  {
   "cell_type": "code",
   "execution_count": 36,
   "id": "5b24d061",
   "metadata": {},
   "outputs": [
    {
     "name": "stdout",
     "output_type": "stream",
     "text": [
      "Optimization terminated successfully.\n",
      "         Current function value: 0.514811\n",
      "         Iterations 6\n"
     ]
    }
   ],
   "source": [
    "# Utiliza esta celda para entrenar el modelo depurado\n",
    "# Dejamos solo las variables que son significativas\n",
    "\n",
    "model_4 = smf.logit(\"chd ~ tobacco + ldl + famhist + typea + age\", df).fit()"
   ]
  },
  {
   "cell_type": "code",
   "execution_count": 38,
   "id": "950b1dd8",
   "metadata": {},
   "outputs": [
    {
     "data": {
      "text/html": [
       "<table class=\"simpletable\">\n",
       "<caption>Logit Regression Results</caption>\n",
       "<tr>\n",
       "  <th>Dep. Variable:</th>          <td>chd</td>       <th>  No. Observations:  </th>  <td>   462</td>  \n",
       "</tr>\n",
       "<tr>\n",
       "  <th>Model:</th>                 <td>Logit</td>      <th>  Df Residuals:      </th>  <td>   456</td>  \n",
       "</tr>\n",
       "<tr>\n",
       "  <th>Method:</th>                 <td>MLE</td>       <th>  Df Model:          </th>  <td>     5</td>  \n",
       "</tr>\n",
       "<tr>\n",
       "  <th>Date:</th>            <td>Fri, 05 Jan 2024</td> <th>  Pseudo R-squ.:     </th>  <td>0.2020</td>  \n",
       "</tr>\n",
       "<tr>\n",
       "  <th>Time:</th>                <td>11:34:07</td>     <th>  Log-Likelihood:    </th> <td> -237.84</td> \n",
       "</tr>\n",
       "<tr>\n",
       "  <th>converged:</th>             <td>True</td>       <th>  LL-Null:           </th> <td> -298.05</td> \n",
       "</tr>\n",
       "<tr>\n",
       "  <th>Covariance Type:</th>     <td>nonrobust</td>    <th>  LLR p-value:       </th> <td>2.554e-24</td>\n",
       "</tr>\n",
       "</table>"
      ],
      "text/latex": [
       "\\begin{center}\n",
       "\\begin{tabular}{lclc}\n",
       "\\toprule\n",
       "\\textbf{Dep. Variable:}   &       chd        & \\textbf{  No. Observations:  } &      462   \\\\\n",
       "\\textbf{Model:}           &      Logit       & \\textbf{  Df Residuals:      } &      456   \\\\\n",
       "\\textbf{Method:}          &       MLE        & \\textbf{  Df Model:          } &        5   \\\\\n",
       "\\textbf{Date:}            & Fri, 05 Jan 2024 & \\textbf{  Pseudo R-squ.:     } &   0.2020   \\\\\n",
       "\\textbf{Time:}            &     11:34:07     & \\textbf{  Log-Likelihood:    } &   -237.84  \\\\\n",
       "\\textbf{converged:}       &       True       & \\textbf{  LL-Null:           } &   -298.05  \\\\\n",
       "\\textbf{Covariance Type:} &    nonrobust     & \\textbf{  LLR p-value:       } & 2.554e-24  \\\\\n",
       "\\bottomrule\n",
       "\\end{tabular}\n",
       "%\\caption{Logit Regression Results}\n",
       "\\end{center}"
      ],
      "text/plain": [
       "<class 'statsmodels.iolib.table.SimpleTable'>"
      ]
     },
     "execution_count": 38,
     "metadata": {},
     "output_type": "execute_result"
    }
   ],
   "source": [
    "model_4.summary().tables[0]"
   ]
  },
  {
   "cell_type": "code",
   "execution_count": 43,
   "id": "e9629ae0",
   "metadata": {},
   "outputs": [
    {
     "data": {
      "text/html": [
       "<table class=\"simpletable\">\n",
       "<tr>\n",
       "      <td></td>         <th>coef</th>     <th>std err</th>      <th>z</th>      <th>P>|z|</th>  <th>[0.025</th>    <th>0.975]</th>  \n",
       "</tr>\n",
       "<tr>\n",
       "  <th>Intercept</th> <td>   -6.4464</td> <td>    0.921</td> <td>   -7.000</td> <td> 0.000</td> <td>   -8.251</td> <td>   -4.642</td>\n",
       "</tr>\n",
       "<tr>\n",
       "  <th>tobacco</th>   <td>    0.0804</td> <td>    0.026</td> <td>    3.106</td> <td> 0.002</td> <td>    0.030</td> <td>    0.131</td>\n",
       "</tr>\n",
       "<tr>\n",
       "  <th>ldl</th>       <td>    0.1620</td> <td>    0.055</td> <td>    2.947</td> <td> 0.003</td> <td>    0.054</td> <td>    0.270</td>\n",
       "</tr>\n",
       "<tr>\n",
       "  <th>famhist</th>   <td>    0.9082</td> <td>    0.226</td> <td>    4.023</td> <td> 0.000</td> <td>    0.466</td> <td>    1.351</td>\n",
       "</tr>\n",
       "<tr>\n",
       "  <th>typea</th>     <td>    0.0371</td> <td>    0.012</td> <td>    3.051</td> <td> 0.002</td> <td>    0.013</td> <td>    0.061</td>\n",
       "</tr>\n",
       "<tr>\n",
       "  <th>age</th>       <td>    0.0505</td> <td>    0.010</td> <td>    4.944</td> <td> 0.000</td> <td>    0.030</td> <td>    0.070</td>\n",
       "</tr>\n",
       "</table>"
      ],
      "text/latex": [
       "\\begin{center}\n",
       "\\begin{tabular}{lcccccc}\n",
       "\\toprule\n",
       "                   & \\textbf{coef} & \\textbf{std err} & \\textbf{z} & \\textbf{P$> |$z$|$} & \\textbf{[0.025} & \\textbf{0.975]}  \\\\\n",
       "\\midrule\n",
       "\\textbf{Intercept} &      -6.4464  &        0.921     &    -7.000  &         0.000        &       -8.251    &       -4.642     \\\\\n",
       "\\textbf{tobacco}   &       0.0804  &        0.026     &     3.106  &         0.002        &        0.030    &        0.131     \\\\\n",
       "\\textbf{ldl}       &       0.1620  &        0.055     &     2.947  &         0.003        &        0.054    &        0.270     \\\\\n",
       "\\textbf{famhist}   &       0.9082  &        0.226     &     4.023  &         0.000        &        0.466    &        1.351     \\\\\n",
       "\\textbf{typea}     &       0.0371  &        0.012     &     3.051  &         0.002        &        0.013    &        0.061     \\\\\n",
       "\\textbf{age}       &       0.0505  &        0.010     &     4.944  &         0.000        &        0.030    &        0.070     \\\\\n",
       "\\bottomrule\n",
       "\\end{tabular}\n",
       "\\end{center}"
      ],
      "text/plain": [
       "<class 'statsmodels.iolib.table.SimpleTable'>"
      ]
     },
     "execution_count": 43,
     "metadata": {},
     "output_type": "execute_result"
    }
   ],
   "source": [
    "model_4.summary().tables[1]"
   ]
  },
  {
   "cell_type": "markdown",
   "id": "8fee2b14",
   "metadata": {},
   "source": [
    "- Compare los estadísticos de bondad de ajuste entre ambos."
   ]
  },
  {
   "cell_type": "code",
   "execution_count": 39,
   "id": "563fc994",
   "metadata": {},
   "outputs": [
    {
     "data": {
      "text/plain": [
       "0.005947820131952164"
      ]
     },
     "execution_count": 39,
     "metadata": {},
     "output_type": "execute_result"
    }
   ],
   "source": [
    "# Comparamos el Pseudo R-squared\n",
    "# Mientras más variables tenga MEJOR R-cuadrado vamos a tener\n",
    "# El Pseudo R-Square es apenas un 0.5% mayor en el caso del primer modelo. (son bien bajos los 2)\n",
    "\n",
    "model_3.prsquared-model_4.prsquared"
   ]
  },
  {
   "cell_type": "code",
   "execution_count": 40,
   "id": "44078e09",
   "metadata": {},
   "outputs": [
    {
     "name": "stdout",
     "output_type": "stream",
     "text": [
      "La Log verosimilitud del modelo saturado es de -236.07\n"
     ]
    }
   ],
   "source": [
    "# Utiliza esta celda para mostrar los estadísticos de bondad de ajuste del primer modelo\n",
    "\n",
    "print(f\"La Log verosimilitud del modelo saturado es de {round(model_3.llf, 2)}\")"
   ]
  },
  {
   "cell_type": "code",
   "execution_count": 41,
   "id": "3a067fd0",
   "metadata": {},
   "outputs": [
    {
     "name": "stdout",
     "output_type": "stream",
     "text": [
      "La Log verosimilitud del modelo depurado es de -237.84\n"
     ]
    }
   ],
   "source": [
    "# Utiliza esta celda para mostrar los estadísticos de bondad de ajuste del segundo modelo\n",
    "\n",
    "print(f\"La Log verosimilitud del modelo depurado es de {round(model_4.llf, 2)}\")"
   ]
  },
  {
   "cell_type": "markdown",
   "id": "42c1708a",
   "metadata": {},
   "source": [
    "**Respuesta**\n",
    "\n",
    "La log verosimilitud es levemente (mayor) en el modelo saturado"
   ]
  },
  {
   "cell_type": "markdown",
   "id": "aabbce49",
   "metadata": {},
   "source": [
    "- Reporte de forma sucinta el efecto de las variables en el log-odds de tener una enfermedad coronaria"
   ]
  },
  {
   "cell_type": "code",
   "execution_count": 42,
   "id": "812a6fc5",
   "metadata": {},
   "outputs": [
    {
     "data": {
      "text/html": [
       "<div>\n",
       "<style scoped>\n",
       "    .dataframe tbody tr th:only-of-type {\n",
       "        vertical-align: middle;\n",
       "    }\n",
       "\n",
       "    .dataframe tbody tr th {\n",
       "        vertical-align: top;\n",
       "    }\n",
       "\n",
       "    .dataframe thead th {\n",
       "        text-align: right;\n",
       "    }\n",
       "</style>\n",
       "<table border=\"1\" class=\"dataframe\">\n",
       "  <thead>\n",
       "    <tr style=\"text-align: right;\">\n",
       "      <th></th>\n",
       "      <th>Coef.</th>\n",
       "      <th>Std.Err.</th>\n",
       "      <th>z</th>\n",
       "      <th>P&gt;|z|</th>\n",
       "      <th>[0.025</th>\n",
       "      <th>0.975]</th>\n",
       "    </tr>\n",
       "  </thead>\n",
       "  <tbody>\n",
       "    <tr>\n",
       "      <th>tobacco</th>\n",
       "      <td>0.080375</td>\n",
       "      <td>0.025880</td>\n",
       "      <td>3.105731</td>\n",
       "      <td>1.898095e-03</td>\n",
       "      <td>0.029652</td>\n",
       "      <td>0.131099</td>\n",
       "    </tr>\n",
       "    <tr>\n",
       "      <th>ldl</th>\n",
       "      <td>0.161992</td>\n",
       "      <td>0.054969</td>\n",
       "      <td>2.946967</td>\n",
       "      <td>3.209075e-03</td>\n",
       "      <td>0.054255</td>\n",
       "      <td>0.269729</td>\n",
       "    </tr>\n",
       "    <tr>\n",
       "      <th>famhist</th>\n",
       "      <td>0.908175</td>\n",
       "      <td>0.225758</td>\n",
       "      <td>4.022774</td>\n",
       "      <td>5.751661e-05</td>\n",
       "      <td>0.465697</td>\n",
       "      <td>1.350654</td>\n",
       "    </tr>\n",
       "    <tr>\n",
       "      <th>typea</th>\n",
       "      <td>0.037115</td>\n",
       "      <td>0.012167</td>\n",
       "      <td>3.050542</td>\n",
       "      <td>2.284291e-03</td>\n",
       "      <td>0.013269</td>\n",
       "      <td>0.060962</td>\n",
       "    </tr>\n",
       "    <tr>\n",
       "      <th>age</th>\n",
       "      <td>0.050460</td>\n",
       "      <td>0.010206</td>\n",
       "      <td>4.944159</td>\n",
       "      <td>7.647332e-07</td>\n",
       "      <td>0.030457</td>\n",
       "      <td>0.070464</td>\n",
       "    </tr>\n",
       "  </tbody>\n",
       "</table>\n",
       "</div>"
      ],
      "text/plain": [
       "            Coef.  Std.Err.         z         P>|z|    [0.025    0.975]\n",
       "tobacco  0.080375  0.025880  3.105731  1.898095e-03  0.029652  0.131099\n",
       "ldl      0.161992  0.054969  2.946967  3.209075e-03  0.054255  0.269729\n",
       "famhist  0.908175  0.225758  4.022774  5.751661e-05  0.465697  1.350654\n",
       "typea    0.037115  0.012167  3.050542  2.284291e-03  0.013269  0.060962\n",
       "age      0.050460  0.010206  4.944159  7.647332e-07  0.030457  0.070464"
      ]
     },
     "execution_count": 42,
     "metadata": {},
     "output_type": "execute_result"
    }
   ],
   "source": [
    "# Utiliza esta celda para mostrar los coeficientes significativos que afectan positivamente\n",
    "# Muestra las variables que inciden en tener una enfermedad coronaria\n",
    "\n",
    "coefs_dep = model_4.summary2().tables[1]\n",
    "coefs_dep[coefs_dep[\"Coef.\"] > 0]"
   ]
  },
  {
   "cell_type": "code",
   "execution_count": 46,
   "id": "116bcf1a",
   "metadata": {},
   "outputs": [
    {
     "data": {
      "text/html": [
       "<div>\n",
       "<style scoped>\n",
       "    .dataframe tbody tr th:only-of-type {\n",
       "        vertical-align: middle;\n",
       "    }\n",
       "\n",
       "    .dataframe tbody tr th {\n",
       "        vertical-align: top;\n",
       "    }\n",
       "\n",
       "    .dataframe thead th {\n",
       "        text-align: right;\n",
       "    }\n",
       "</style>\n",
       "<table border=\"1\" class=\"dataframe\">\n",
       "  <thead>\n",
       "    <tr style=\"text-align: right;\">\n",
       "      <th></th>\n",
       "      <th>Coef.</th>\n",
       "      <th>Std.Err.</th>\n",
       "      <th>z</th>\n",
       "      <th>P&gt;|z|</th>\n",
       "      <th>[0.025</th>\n",
       "      <th>0.975]</th>\n",
       "    </tr>\n",
       "  </thead>\n",
       "  <tbody>\n",
       "    <tr>\n",
       "      <th>Intercept</th>\n",
       "      <td>-6.446445</td>\n",
       "      <td>0.920872</td>\n",
       "      <td>-7.000372</td>\n",
       "      <td>2.552836e-12</td>\n",
       "      <td>-8.25132</td>\n",
       "      <td>-4.641569</td>\n",
       "    </tr>\n",
       "  </tbody>\n",
       "</table>\n",
       "</div>"
      ],
      "text/plain": [
       "              Coef.  Std.Err.         z         P>|z|   [0.025    0.975]\n",
       "Intercept -6.446445  0.920872 -7.000372  2.552836e-12 -8.25132 -4.641569"
      ]
     },
     "execution_count": 46,
     "metadata": {},
     "output_type": "execute_result"
    }
   ],
   "source": [
    "# Utiliza esta celda para mostrar los coeficientes significativos que afectan negativamente\n",
    "\n",
    "coefs_dep[coefs_dep[\"Coef.\"] < 0]"
   ]
  },
  {
   "cell_type": "markdown",
   "id": "9a3c6ce6",
   "metadata": {},
   "source": [
    "**Respuesta**\n",
    "\n",
    "- Los factores de riesgo de tener una enfermedad coronaria son el hecho de fumar, tener un valor de ldl alto, tener antecedentes familiares, tener personalidad tipo A y ser mayor de edad.\n",
    "\n",
    "- Entre las variables explicativas del dataframe, no existe ninguna la cual tenga un efecto negativo (significativo) en la prediccion de nuestro target, solo el intercepto es negativo pero este no pertenece o no tiene asociada ninguna variable."
   ]
  },
  {
   "cell_type": "markdown",
   "id": "e4aee44e",
   "metadata": {},
   "source": [
    "### **`Desafío 4: Estimación de perfiles`**"
   ]
  },
  {
   "cell_type": "markdown",
   "id": "a3e97ce9",
   "metadata": {},
   "source": [
    "A partir del modelo depurado, genere las estimaciones en log-odds y posteriormente transfórmelas a probabilidades con `inverse_logit`. Los perfiles a estimar son los siguientes:\n",
    "\n",
    "- La probabilidad de tener una enfermedad coronaria para un individuo con características similares a la muestra (se refiere a una persona promedio)."
   ]
  },
  {
   "cell_type": "markdown",
   "id": "0c7f6adb",
   "metadata": {},
   "source": [
    "Primera forma"
   ]
  },
  {
   "cell_type": "code",
   "execution_count": 66,
   "id": "9255947e",
   "metadata": {},
   "outputs": [],
   "source": [
    "def predict_proba(model=model_4, **values):\n",
    "    values = pd.Series(values)\n",
    "    log_odds = sum(model.params * values)\n",
    "    prob = inverse_logit(log_odds)\n",
    "    return prob"
   ]
  },
  {
   "cell_type": "code",
   "execution_count": 67,
   "id": "40f75d63",
   "metadata": {},
   "outputs": [
    {
     "data": {
      "text/plain": [
       "0.29370927481586945"
      ]
     },
     "execution_count": 67,
     "metadata": {},
     "output_type": "execute_result"
    }
   ],
   "source": [
    "prob_profile_mean = predict_proba(Intercept=1,\n",
    "                                  tobacco=df.tobacco.mean(),\n",
    "                                  ldl=df.ldl.mean(),\n",
    "                                  famhist=df.famhist.mean(),\n",
    "                                  typea=df.typea.mean(),\n",
    "                                  age=df.age.mean())\n",
    "\n",
    "prob_profile_mean"
   ]
  },
  {
   "cell_type": "markdown",
   "id": "53cf56c2",
   "metadata": {},
   "source": [
    "Desglose (explicación) de la función:"
   ]
  },
  {
   "cell_type": "code",
   "execution_count": 62,
   "id": "469c14d6",
   "metadata": {},
   "outputs": [
    {
     "data": {
      "text/plain": [
       "Intercept     1.000000\n",
       "tobacco       3.635649\n",
       "ldl           4.740325\n",
       "famhist       0.415584\n",
       "typea        53.103896\n",
       "age          42.816017\n",
       "dtype: float64"
      ]
     },
     "execution_count": 62,
     "metadata": {},
     "output_type": "execute_result"
    }
   ],
   "source": [
    "values = pd.Series(dict(Intercept=1,tobacco=df.tobacco.mean(),ldl=df.ldl.mean(),famhist=df.famhist.mean(),typea=df.typea.mean(),age=df.age.mean()))\n",
    "values"
   ]
  },
  {
   "cell_type": "code",
   "execution_count": 65,
   "id": "2d81603d",
   "metadata": {},
   "outputs": [
    {
     "data": {
      "text/plain": [
       "Intercept   -6.446445\n",
       "tobacco      0.080375\n",
       "ldl          0.161992\n",
       "famhist      0.908175\n",
       "typea        0.037115\n",
       "age          0.050460\n",
       "dtype: float64"
      ]
     },
     "execution_count": 65,
     "metadata": {},
     "output_type": "execute_result"
    }
   ],
   "source": [
    "model_4.params"
   ]
  },
  {
   "cell_type": "code",
   "execution_count": 63,
   "id": "6f01b3e5",
   "metadata": {},
   "outputs": [
    {
     "data": {
      "text/plain": [
       "-0.8774365278532725"
      ]
     },
     "execution_count": 63,
     "metadata": {},
     "output_type": "execute_result"
    }
   ],
   "source": [
    "log_odds = sum(model_4.params * pd.Series(values))\n",
    "log_odds"
   ]
  },
  {
   "cell_type": "code",
   "execution_count": 64,
   "id": "b8609875",
   "metadata": {},
   "outputs": [
    {
     "data": {
      "text/plain": [
       "0.29370927481586945"
      ]
     },
     "execution_count": 64,
     "metadata": {},
     "output_type": "execute_result"
    }
   ],
   "source": [
    "prob = inverse_logit(log_odds)\n",
    "prob"
   ]
  },
  {
   "cell_type": "markdown",
   "id": "10237042",
   "metadata": {},
   "source": [
    "Segunda forma"
   ]
  },
  {
   "cell_type": "code",
   "execution_count": 47,
   "id": "f8925e66",
   "metadata": {},
   "outputs": [
    {
     "data": {
      "text/plain": [
       "Index(['Intercept', 'tobacco', 'ldl', 'famhist', 'typea', 'age'], dtype='object')"
      ]
     },
     "execution_count": 47,
     "metadata": {},
     "output_type": "execute_result"
    }
   ],
   "source": [
    "coefs_dep.index"
   ]
  },
  {
   "cell_type": "code",
   "execution_count": 54,
   "id": "e1003107",
   "metadata": {},
   "outputs": [
    {
     "data": {
      "text/plain": [
       "0.29370927481586945"
      ]
     },
     "execution_count": 54,
     "metadata": {},
     "output_type": "execute_result"
    }
   ],
   "source": [
    "# Utiliza esta celda para mostrar la probabilidad de un invidivuo promedio con antecedentes familiares\n",
    "\n",
    "log_odds_promedio = model_4.params[\"Intercept\"] + model_4.params[\"tobacco\"] * df[\"tobacco\"].mean() + model_4.params[\"ldl\"] * df[\"ldl\"].mean() + model_4.params[\"famhist\"] * df['famhist'].mean() + model_4.params[\"typea\"] * df[\"typea\"].mean() +  model_4.params[\"age\"] * df[\"age\"].mean()\n",
    "\n",
    "prob_promedio = inverse_logit(log_odds_promedio)\n",
    "\n",
    "prob_promedio\n"
   ]
  },
  {
   "cell_type": "markdown",
   "id": "87cb7c89",
   "metadata": {},
   "source": [
    "- La probabilidad de tener una enfermedad coronaria para un individuo con altos niveles de lipoproteína de baja densidad, _manteniendo todas las demás características constantes_."
   ]
  },
  {
   "cell_type": "markdown",
   "id": "1f440a51",
   "metadata": {},
   "source": [
    "Primera forma"
   ]
  },
  {
   "cell_type": "code",
   "execution_count": 69,
   "id": "e4c5e7fa",
   "metadata": {},
   "outputs": [
    {
     "data": {
      "text/plain": [
       "(0.34275863459388883, 0.2418602897627156)"
      ]
     },
     "execution_count": 69,
     "metadata": {},
     "output_type": "execute_result"
    }
   ],
   "source": [
    "# Se decidió utilizar los cuantiles como indicadores altos y bajos, pero estos pueden ser indicados por el area de negocios o nosotros decidir un valor X\n",
    "high = 0.8\n",
    "low = 0.2\n",
    "\n",
    "prob_profile_ldl_high = predict_proba(Intercept=1,\n",
    "                                  tobacco=df.tobacco.mean(),\n",
    "                                  ldl=df.ldl.quantile(high),\n",
    "                                  famhist=df.famhist.mean(),\n",
    "                                  typea=df.typea.mean(),\n",
    "                                  age=df.age.mean())\n",
    "\n",
    "prob_profile_ldl_low = predict_proba(Intercept=1,\n",
    "                                  tobacco=df.tobacco.mean(),\n",
    "                                  ldl=df.ldl.quantile(low),\n",
    "                                  famhist=df.famhist.mean(),\n",
    "                                  typea=df.typea.mean(),\n",
    "                                  age=df.age.mean())\n",
    "\n",
    "prob_profile_ldl_high, prob_profile_ldl_low"
   ]
  },
  {
   "cell_type": "markdown",
   "id": "c78aaf94",
   "metadata": {},
   "source": [
    "Segunda forma:"
   ]
  },
  {
   "cell_type": "code",
   "execution_count": 70,
   "id": "19f3e8ba",
   "metadata": {},
   "outputs": [
    {
     "data": {
      "text/plain": [
       "0.34275863459388883"
      ]
     },
     "execution_count": 70,
     "metadata": {},
     "output_type": "execute_result"
    }
   ],
   "source": [
    "# Utiliza esta celda para mostrar la probabilidad de un invidivuo promedio  y un alto nivel de lopoproteína de baja densidad\n",
    "\n",
    "log_odds_alto_ldl = model_4.params[\"Intercept\"] +  model_4.params[\"tobacco\"] * df[\"tobacco\"].mean() + model_4.params[\"ldl\"] * df[\"ldl\"].quantile(high) + model_4.params[\"famhist\"] * df['famhist'].mean() + model_4.params[\"typea\"] * df[\"typea\"].mean() +  model_4.params[\"age\"] * df[\"age\"].mean()\n",
    "\n",
    "prob_alto_ldl = inverse_logit(log_odds_alto_ldl)\n",
    " \n",
    "prob_alto_ldl"
   ]
  },
  {
   "cell_type": "markdown",
   "id": "5f7045ea",
   "metadata": {},
   "source": [
    "- La probabilidad de tener una enfermedad coronaria para un individuo con bajos niveles de lipoproteína de baja densidad, _manteniendo todas las demás características constantes_."
   ]
  },
  {
   "cell_type": "code",
   "execution_count": 71,
   "id": "4d6f08b3",
   "metadata": {},
   "outputs": [
    {
     "data": {
      "text/plain": [
       "0.2418602897627156"
      ]
     },
     "execution_count": 71,
     "metadata": {},
     "output_type": "execute_result"
    }
   ],
   "source": [
    "# Utiliza esta celda para mostrar la probabilidad de un invidivuo promedio  y un bajo nivel de lopoproteína de baja densidad\n",
    "\n",
    "log_odds_alto_ldl = model_4.params[\"Intercept\"] +  model_4.params[\"tobacco\"] * df[\"tobacco\"].mean() + model_4.params[\"ldl\"] * df[\"ldl\"].quantile(low) + model_4.params[\"famhist\"] * df['famhist'].mean() + model_4.params[\"typea\"] * df[\"typea\"].mean() +  model_4.params[\"age\"] * df[\"age\"].mean()\n",
    "\n",
    "prob_alto_ldl = inverse_logit(log_odds_alto_ldl)\n",
    " \n",
    "prob_alto_ldl"
   ]
  }
 ],
 "metadata": {
  "kernelspec": {
   "display_name": "Python 3 (ipykernel)",
   "language": "python",
   "name": "python3"
  },
  "language_info": {
   "codemirror_mode": {
    "name": "ipython",
    "version": 3
   },
   "file_extension": ".py",
   "mimetype": "text/x-python",
   "name": "python",
   "nbconvert_exporter": "python",
   "pygments_lexer": "ipython3",
   "version": "3.9.5"
  }
 },
 "nbformat": 4,
 "nbformat_minor": 5
}
