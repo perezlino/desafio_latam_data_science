{
 "cells": [
  {
   "cell_type": "markdown",
   "id": "07822d69",
   "metadata": {},
   "source": [
    "### **Desafío - Pruebas de hipótesis**"
   ]
  },
  {
   "cell_type": "markdown",
   "id": "e369dd38",
   "metadata": {},
   "source": [
    "#### **`1 - Evaluar juicios de hipótesis`**"
   ]
  },
  {
   "cell_type": "markdown",
   "id": "030459e2",
   "metadata": {},
   "source": [
    "Para evaluar la pertinencia de diversas hipótesis, se te solicita discernir si es posible rechazar la hipótesis nula.\n",
    "\n",
    "- 75 individuos elegidos al azar fueron alcanzados por activistas pro-LGTB que se identificaron como homosexuales, y 75 alcanzados por activistas pro-LGTB que se identificaron como heterosexuales. El objetivo era medir actitudes frente a la adopción homoparental. La organización encargada de procesar los datos obtuvo los siguientes resultados:\n",
    "\n",
    "    - El 67% de los encuestados son heterosexuales se mostró a favor de la adopción homoparental, mientras que un 72% de los encuestados por activistas que se identificaron como homosexuales se mostraron a favor de la adopción homoparental.\n",
    "\n",
    "    - Asumiendo que la hipótesis nula es que ambos porcentajes no son diferentes, y la hipótesis alternativa es que existe una diferencia substancial entre ambos.\n",
    "\n",
    "    - Con p-valor de 0.1183 ¿es posible rechazar la hipótesis nula en favor de la alternativa con una confianza de 95%?, ¿Cuanta es la confianza máxima con la que sería posible rechazar la hipótesis nula en favor de la alternativa con estos resultados?"
   ]
  },
  {
   "cell_type": "markdown",
   "id": "7fbf2a9b",
   "metadata": {},
   "source": [
    "$$ H_0 : \\text{Porcentaje aceptación adopción homosexual = Porcentaje aceptación adopción heterosexual}$$ \n",
    "$$ H_1 : \\text{Porcentaje aceptación adopción homosexual != Porcentaje aceptación adopción heterosexual}$$ \n",
    "\n",
    "* **p-valor** = 0.1183\n",
    "* **Nivel de Confianza** = 0.95\n",
    "* **Significancia** = 0.05\n",
    "\n",
    "p-valor > significancia (0.1183>0.05)\n",
    "\n",
    "Confianza necesaria para rechazar hipótesis nula es de=\n",
    "\n",
    "1-0.1183 = 0.8817     =  88.17%"
   ]
  },
  {
   "cell_type": "markdown",
   "id": "661b62b6",
   "metadata": {},
   "source": [
    "**`¿Es posible rechazar la hipótesis nula en favor de la alternativa con una confianza de 95%?`**"
   ]
  },
  {
   "cell_type": "code",
   "execution_count": 1,
   "id": "8be76110",
   "metadata": {},
   "outputs": [],
   "source": [
    "p_value = 0.1183\n",
    "nivel_de_confianza = 0.95\n",
    "alpha = 1-nivel_de_confianza"
   ]
  },
  {
   "cell_type": "markdown",
   "id": "8e9b9f10",
   "metadata": {},
   "source": [
    "En base a los antecedentes anteriores, no es posible rechazar la hipótesis nula, dado que la significancia es menor al p-valor (p-valor > significancia (0.1183>0.05))"
   ]
  },
  {
   "cell_type": "code",
   "execution_count": 2,
   "id": "0d6602c3",
   "metadata": {},
   "outputs": [
    {
     "data": {
      "text/plain": [
       "False"
      ]
     },
     "execution_count": 2,
     "metadata": {},
     "output_type": "execute_result"
    }
   ],
   "source": [
    "p_value < alpha"
   ]
  },
  {
   "cell_type": "markdown",
   "id": "bc6ab753",
   "metadata": {},
   "source": [
    "**`¿Cuanta es la confianza máxima con la que sería posible rechazar la hipótesis nula en favor de la alternativa con estos resultados?`**"
   ]
  },
  {
   "cell_type": "markdown",
   "id": "8550528e",
   "metadata": {},
   "source": [
    "x = confianza máxima con la que sería posible rechazar la hipótesis nula\n",
    "\n",
    "Se rechaza la hipótesis nula cuando se cumple: \n",
    "\n",
    "p_value < 1 - x"
   ]
  },
  {
   "cell_type": "code",
   "execution_count": 3,
   "id": "33230469",
   "metadata": {},
   "outputs": [
    {
     "name": "stdout",
     "output_type": "stream",
     "text": [
      "despejando x el resultado sería:\n",
      "x < 1 - 0.1183\n"
     ]
    }
   ],
   "source": [
    "print(\"despejando x el resultado sería:\")\n",
    "print(\"x < 1 - 0.1183\")"
   ]
  },
  {
   "cell_type": "code",
   "execution_count": 4,
   "id": "b81478d9",
   "metadata": {},
   "outputs": [
    {
     "name": "stdout",
     "output_type": "stream",
     "text": [
      "Con un nivel de confianza de 88.17% es la máxima confianza con la que se podría rechazar la hipotesis nula\n"
     ]
    }
   ],
   "source": [
    "print(f\"Con un nivel de confianza de {(1-p_value)*100}% es la máxima confianza con la que se podría rechazar la hipotesis nula\")"
   ]
  },
  {
   "cell_type": "markdown",
   "id": "0939a644",
   "metadata": {},
   "source": [
    "#### **`2 - Importe la base de datos utilizada la sesión presencial anterior`**"
   ]
  },
  {
   "cell_type": "markdown",
   "id": "b043a59d",
   "metadata": {},
   "source": [
    "- Agregue una serie de variables binarias por cada continente de la variable region.\n",
    "- **Tip**: Utilice `np.where` para ello.\n",
    "- De manera similar a la sesión anterior, enfóquese en las siguientes variables:\n",
    "  * Apellidos desde la A hasta la N: Enfocarse en las variables `chldmort`, `adfert` y `life`.\n",
    "  * Apellidos desde la N hasta la Z: Enfocarse en las variables `femlab`, `literacy` y `school`."
   ]
  },
  {
   "cell_type": "code",
   "execution_count": 3,
   "id": "afb538eb",
   "metadata": {},
   "outputs": [],
   "source": [
    "import pandas as pd\n",
    "import numpy as np\n",
    "import matplotlib.pyplot as plt\n",
    "import seaborn as sns\n",
    "import scipy.stats as stats"
   ]
  },
  {
   "cell_type": "code",
   "execution_count": 6,
   "id": "30a49805",
   "metadata": {},
   "outputs": [
    {
     "data": {
      "text/plain": [
       "(194, 13)"
      ]
     },
     "execution_count": 6,
     "metadata": {},
     "output_type": "execute_result"
    }
   ],
   "source": [
    "df_initial = pd.read_csv('nations.csv', encoding='iso-8859-1', index_col=0)\n",
    "df_initial.shape"
   ]
  },
  {
   "cell_type": "code",
   "execution_count": 9,
   "id": "e74a3282",
   "metadata": {},
   "outputs": [
    {
     "data": {
      "text/html": [
       "<div>\n",
       "<style scoped>\n",
       "    .dataframe tbody tr th:only-of-type {\n",
       "        vertical-align: middle;\n",
       "    }\n",
       "\n",
       "    .dataframe tbody tr th {\n",
       "        vertical-align: top;\n",
       "    }\n",
       "\n",
       "    .dataframe thead th {\n",
       "        text-align: right;\n",
       "    }\n",
       "</style>\n",
       "<table border=\"1\" class=\"dataframe\">\n",
       "  <thead>\n",
       "    <tr style=\"text-align: right;\">\n",
       "      <th></th>\n",
       "      <th>country</th>\n",
       "      <th>region</th>\n",
       "      <th>gdp</th>\n",
       "      <th>school</th>\n",
       "      <th>adfert</th>\n",
       "      <th>chldmort</th>\n",
       "      <th>life</th>\n",
       "      <th>pop</th>\n",
       "      <th>urban</th>\n",
       "      <th>femlab</th>\n",
       "      <th>literacy</th>\n",
       "      <th>co2</th>\n",
       "      <th>gini</th>\n",
       "    </tr>\n",
       "  </thead>\n",
       "  <tbody>\n",
       "    <tr>\n",
       "      <th>1</th>\n",
       "      <td>Algeria</td>\n",
       "      <td>Africa</td>\n",
       "      <td>7300.399902</td>\n",
       "      <td>6.716667</td>\n",
       "      <td>7.300000</td>\n",
       "      <td>34.75</td>\n",
       "      <td>72.316666</td>\n",
       "      <td>34172236</td>\n",
       "      <td>64.933334</td>\n",
       "      <td>0.4522</td>\n",
       "      <td>72.599998</td>\n",
       "      <td>15.0</td>\n",
       "      <td>NaN</td>\n",
       "    </tr>\n",
       "    <tr>\n",
       "      <th>2</th>\n",
       "      <td>Benin</td>\n",
       "      <td>Africa</td>\n",
       "      <td>1338.800049</td>\n",
       "      <td>3.100000</td>\n",
       "      <td>111.699997</td>\n",
       "      <td>122.75</td>\n",
       "      <td>54.733334</td>\n",
       "      <td>8237634</td>\n",
       "      <td>41.000000</td>\n",
       "      <td>0.8482</td>\n",
       "      <td>41.700001</td>\n",
       "      <td>1.2</td>\n",
       "      <td>NaN</td>\n",
       "    </tr>\n",
       "    <tr>\n",
       "      <th>3</th>\n",
       "      <td>Botswana</td>\n",
       "      <td>Africa</td>\n",
       "      <td>12307.400391</td>\n",
       "      <td>8.600000</td>\n",
       "      <td>52.099998</td>\n",
       "      <td>60.25</td>\n",
       "      <td>52.250000</td>\n",
       "      <td>1941233</td>\n",
       "      <td>59.250000</td>\n",
       "      <td>0.8870</td>\n",
       "      <td>84.099998</td>\n",
       "      <td>9.2</td>\n",
       "      <td>NaN</td>\n",
       "    </tr>\n",
       "    <tr>\n",
       "      <th>4</th>\n",
       "      <td>Burkina Faso</td>\n",
       "      <td>Africa</td>\n",
       "      <td>1063.400024</td>\n",
       "      <td>1.300000</td>\n",
       "      <td>124.800003</td>\n",
       "      <td>170.50</td>\n",
       "      <td>53.783333</td>\n",
       "      <td>15308383</td>\n",
       "      <td>23.583334</td>\n",
       "      <td>0.8584</td>\n",
       "      <td>23.600000</td>\n",
       "      <td>0.2</td>\n",
       "      <td>NaN</td>\n",
       "    </tr>\n",
       "    <tr>\n",
       "      <th>5</th>\n",
       "      <td>Burundi</td>\n",
       "      <td>Africa</td>\n",
       "      <td>349.200012</td>\n",
       "      <td>2.483333</td>\n",
       "      <td>18.600000</td>\n",
       "      <td>168.50</td>\n",
       "      <td>48.866665</td>\n",
       "      <td>7821783</td>\n",
       "      <td>10.250000</td>\n",
       "      <td>1.0344</td>\n",
       "      <td>66.599998</td>\n",
       "      <td>0.1</td>\n",
       "      <td>33.299999</td>\n",
       "    </tr>\n",
       "  </tbody>\n",
       "</table>\n",
       "</div>"
      ],
      "text/plain": [
       "        country  region           gdp    school      adfert  chldmort  \\\n",
       "1       Algeria  Africa   7300.399902  6.716667    7.300000     34.75   \n",
       "2         Benin  Africa   1338.800049  3.100000  111.699997    122.75   \n",
       "3      Botswana  Africa  12307.400391  8.600000   52.099998     60.25   \n",
       "4  Burkina Faso  Africa   1063.400024  1.300000  124.800003    170.50   \n",
       "5       Burundi  Africa    349.200012  2.483333   18.600000    168.50   \n",
       "\n",
       "        life       pop      urban  femlab   literacy   co2       gini  \n",
       "1  72.316666  34172236  64.933334  0.4522  72.599998  15.0        NaN  \n",
       "2  54.733334   8237634  41.000000  0.8482  41.700001   1.2        NaN  \n",
       "3  52.250000   1941233  59.250000  0.8870  84.099998   9.2        NaN  \n",
       "4  53.783333  15308383  23.583334  0.8584  23.600000   0.2        NaN  \n",
       "5  48.866665   7821783  10.250000  1.0344  66.599998   0.1  33.299999  "
      ]
     },
     "execution_count": 9,
     "metadata": {},
     "output_type": "execute_result"
    }
   ],
   "source": [
    "df_initial.head()"
   ]
  },
  {
   "cell_type": "markdown",
   "id": "b24301a3",
   "metadata": {},
   "source": [
    "Seleccion de columnas"
   ]
  },
  {
   "cell_type": "code",
   "execution_count": 12,
   "id": "5a18dd8b",
   "metadata": {},
   "outputs": [],
   "source": [
    "columnas_NZ = ['femlab', 'literacy', 'school']\n",
    "base_cols = ['country', 'region']\n",
    "df = df_initial.loc[:, base_cols + columnas_NZ]"
   ]
  },
  {
   "cell_type": "code",
   "execution_count": 13,
   "id": "684ffbce",
   "metadata": {},
   "outputs": [
    {
     "data": {
      "text/html": [
       "<div>\n",
       "<style scoped>\n",
       "    .dataframe tbody tr th:only-of-type {\n",
       "        vertical-align: middle;\n",
       "    }\n",
       "\n",
       "    .dataframe tbody tr th {\n",
       "        vertical-align: top;\n",
       "    }\n",
       "\n",
       "    .dataframe thead th {\n",
       "        text-align: right;\n",
       "    }\n",
       "</style>\n",
       "<table border=\"1\" class=\"dataframe\">\n",
       "  <thead>\n",
       "    <tr style=\"text-align: right;\">\n",
       "      <th></th>\n",
       "      <th>country</th>\n",
       "      <th>region</th>\n",
       "      <th>femlab</th>\n",
       "      <th>literacy</th>\n",
       "      <th>school</th>\n",
       "    </tr>\n",
       "  </thead>\n",
       "  <tbody>\n",
       "    <tr>\n",
       "      <th>1</th>\n",
       "      <td>Algeria</td>\n",
       "      <td>Africa</td>\n",
       "      <td>0.4522</td>\n",
       "      <td>72.599998</td>\n",
       "      <td>6.716667</td>\n",
       "    </tr>\n",
       "    <tr>\n",
       "      <th>2</th>\n",
       "      <td>Benin</td>\n",
       "      <td>Africa</td>\n",
       "      <td>0.8482</td>\n",
       "      <td>41.700001</td>\n",
       "      <td>3.100000</td>\n",
       "    </tr>\n",
       "    <tr>\n",
       "      <th>3</th>\n",
       "      <td>Botswana</td>\n",
       "      <td>Africa</td>\n",
       "      <td>0.8870</td>\n",
       "      <td>84.099998</td>\n",
       "      <td>8.600000</td>\n",
       "    </tr>\n",
       "    <tr>\n",
       "      <th>4</th>\n",
       "      <td>Burkina Faso</td>\n",
       "      <td>Africa</td>\n",
       "      <td>0.8584</td>\n",
       "      <td>23.600000</td>\n",
       "      <td>1.300000</td>\n",
       "    </tr>\n",
       "    <tr>\n",
       "      <th>5</th>\n",
       "      <td>Burundi</td>\n",
       "      <td>Africa</td>\n",
       "      <td>1.0344</td>\n",
       "      <td>66.599998</td>\n",
       "      <td>2.483333</td>\n",
       "    </tr>\n",
       "  </tbody>\n",
       "</table>\n",
       "</div>"
      ],
      "text/plain": [
       "        country  region  femlab   literacy    school\n",
       "1       Algeria  Africa  0.4522  72.599998  6.716667\n",
       "2         Benin  Africa  0.8482  41.700001  3.100000\n",
       "3      Botswana  Africa  0.8870  84.099998  8.600000\n",
       "4  Burkina Faso  Africa  0.8584  23.600000  1.300000\n",
       "5       Burundi  Africa  1.0344  66.599998  2.483333"
      ]
     },
     "execution_count": 13,
     "metadata": {},
     "output_type": "execute_result"
    }
   ],
   "source": [
    "df.head()"
   ]
  },
  {
   "cell_type": "markdown",
   "id": "c6554bd9",
   "metadata": {},
   "source": [
    "Se agregan las 4 columnas con valor binario según corresponda el continente"
   ]
  },
  {
   "cell_type": "code",
   "execution_count": 14,
   "id": "bd66d239",
   "metadata": {},
   "outputs": [],
   "source": [
    "df['Africa'] = np.where(df['region'] == 'Africa', 1, 0)\n",
    "df['Americas'] = np.where(df['region'] == 'Americas', 1, 0)\n",
    "df['Asia'] = np.where(df['region'] == 'Asia', 1, 0)\n",
    "df['Europe'] = np.where(df['region'] == 'Europe', 1, 0)\n",
    "df['Oceania'] = np.where(df['region'] == 'Oceania', 1, 0)"
   ]
  },
  {
   "cell_type": "code",
   "execution_count": 15,
   "id": "8aee8593",
   "metadata": {},
   "outputs": [
    {
     "data": {
      "text/html": [
       "<div>\n",
       "<style scoped>\n",
       "    .dataframe tbody tr th:only-of-type {\n",
       "        vertical-align: middle;\n",
       "    }\n",
       "\n",
       "    .dataframe tbody tr th {\n",
       "        vertical-align: top;\n",
       "    }\n",
       "\n",
       "    .dataframe thead th {\n",
       "        text-align: right;\n",
       "    }\n",
       "</style>\n",
       "<table border=\"1\" class=\"dataframe\">\n",
       "  <thead>\n",
       "    <tr style=\"text-align: right;\">\n",
       "      <th></th>\n",
       "      <th>country</th>\n",
       "      <th>region</th>\n",
       "      <th>femlab</th>\n",
       "      <th>literacy</th>\n",
       "      <th>school</th>\n",
       "      <th>Africa</th>\n",
       "      <th>Americas</th>\n",
       "      <th>Asia</th>\n",
       "      <th>Europe</th>\n",
       "      <th>Oceania</th>\n",
       "    </tr>\n",
       "  </thead>\n",
       "  <tbody>\n",
       "    <tr>\n",
       "      <th>1</th>\n",
       "      <td>Algeria</td>\n",
       "      <td>Africa</td>\n",
       "      <td>0.4522</td>\n",
       "      <td>72.599998</td>\n",
       "      <td>6.716667</td>\n",
       "      <td>1</td>\n",
       "      <td>0</td>\n",
       "      <td>0</td>\n",
       "      <td>0</td>\n",
       "      <td>0</td>\n",
       "    </tr>\n",
       "    <tr>\n",
       "      <th>2</th>\n",
       "      <td>Benin</td>\n",
       "      <td>Africa</td>\n",
       "      <td>0.8482</td>\n",
       "      <td>41.700001</td>\n",
       "      <td>3.100000</td>\n",
       "      <td>1</td>\n",
       "      <td>0</td>\n",
       "      <td>0</td>\n",
       "      <td>0</td>\n",
       "      <td>0</td>\n",
       "    </tr>\n",
       "    <tr>\n",
       "      <th>3</th>\n",
       "      <td>Botswana</td>\n",
       "      <td>Africa</td>\n",
       "      <td>0.8870</td>\n",
       "      <td>84.099998</td>\n",
       "      <td>8.600000</td>\n",
       "      <td>1</td>\n",
       "      <td>0</td>\n",
       "      <td>0</td>\n",
       "      <td>0</td>\n",
       "      <td>0</td>\n",
       "    </tr>\n",
       "    <tr>\n",
       "      <th>4</th>\n",
       "      <td>Burkina Faso</td>\n",
       "      <td>Africa</td>\n",
       "      <td>0.8584</td>\n",
       "      <td>23.600000</td>\n",
       "      <td>1.300000</td>\n",
       "      <td>1</td>\n",
       "      <td>0</td>\n",
       "      <td>0</td>\n",
       "      <td>0</td>\n",
       "      <td>0</td>\n",
       "    </tr>\n",
       "    <tr>\n",
       "      <th>5</th>\n",
       "      <td>Burundi</td>\n",
       "      <td>Africa</td>\n",
       "      <td>1.0344</td>\n",
       "      <td>66.599998</td>\n",
       "      <td>2.483333</td>\n",
       "      <td>1</td>\n",
       "      <td>0</td>\n",
       "      <td>0</td>\n",
       "      <td>0</td>\n",
       "      <td>0</td>\n",
       "    </tr>\n",
       "  </tbody>\n",
       "</table>\n",
       "</div>"
      ],
      "text/plain": [
       "        country  region  femlab   literacy    school  Africa  Americas  Asia  \\\n",
       "1       Algeria  Africa  0.4522  72.599998  6.716667       1         0     0   \n",
       "2         Benin  Africa  0.8482  41.700001  3.100000       1         0     0   \n",
       "3      Botswana  Africa  0.8870  84.099998  8.600000       1         0     0   \n",
       "4  Burkina Faso  Africa  0.8584  23.600000  1.300000       1         0     0   \n",
       "5       Burundi  Africa  1.0344  66.599998  2.483333       1         0     0   \n",
       "\n",
       "   Europe  Oceania  \n",
       "1       0        0  \n",
       "2       0        0  \n",
       "3       0        0  \n",
       "4       0        0  \n",
       "5       0        0  "
      ]
     },
     "execution_count": 15,
     "metadata": {},
     "output_type": "execute_result"
    }
   ],
   "source": [
    "df.head()"
   ]
  },
  {
   "cell_type": "markdown",
   "id": "e3833f92",
   "metadata": {},
   "source": [
    "También podemos hacerlo de la sigueinte manera:"
   ]
  },
  {
   "cell_type": "code",
   "execution_count": null,
   "id": "98260ff6",
   "metadata": {},
   "outputs": [],
   "source": [
    "for i in df['region'].unique():\n",
    "    df[i] = np.where(df['region'] == i, 1,0)"
   ]
  },
  {
   "cell_type": "markdown",
   "id": "29ed96e4",
   "metadata": {},
   "source": [
    "#### **`3 - Implemente una función de prueba de hipótesis a mano`**"
   ]
  },
  {
   "cell_type": "markdown",
   "id": "4c944e3b",
   "metadata": {},
   "source": [
    "- La función debe ingresar los siguientes argumentos:\n",
    "\n",
    "    - `df`: La tabla de datos.\n",
    "    - `variable`: La variable a analizar.\n",
    "    - `binarize`: El indicador binario a utilizar.\n",
    "\n",
    "- Tips:\n",
    "\n",
    "    - Separe la variable en dos, utilizando el indicador binario. Recuerde eliminar los perdidos con `dropna()`.\n",
    "    - Implemente `ttest_ind` de `scipy.stats` y guarde el valor `t` y `pval`.\n",
    "    - Reporte las medias para cada grupo (0 y 1).\n",
    "    - Reporte la diferencia de entre las medias.\n",
    "    - Reporte los valores t y p"
   ]
  },
  {
   "cell_type": "markdown",
   "id": "fad84e05",
   "metadata": {},
   "source": [
    "**`Primera forma`**"
   ]
  },
  {
   "cell_type": "code",
   "execution_count": 30,
   "id": "c230fd31",
   "metadata": {},
   "outputs": [
    {
     "data": {
      "text/plain": [
       "1    6.716667\n",
       "2    3.100000\n",
       "3    8.600000\n",
       "4    1.300000\n",
       "5    2.483333\n",
       "Name: school, dtype: float64"
      ]
     },
     "execution_count": 30,
     "metadata": {},
     "output_type": "execute_result"
    }
   ],
   "source": [
    "values_one = df.query('Africa == 1')['school'].dropna()\n",
    "values_one.head()"
   ]
  },
  {
   "cell_type": "code",
   "execution_count": 16,
   "id": "051a386a",
   "metadata": {},
   "outputs": [],
   "source": [
    "# Funcion hipotesis: recibe un dataframe, la variable a analizar y la columna binarizada\n",
    "def hipotesis(df, variable, binarize): \n",
    "    tmp = df \n",
    "    # separamos datos por indicador\n",
    "    tmp['binarize'] = np.where(tmp['region'] == binarize, 1, 0)\n",
    "    # separamos datos en variable indicada de acuerdo a 0 y 1\n",
    "    values_one = tmp.query('binarize == 1')[variable].dropna()\n",
    "    values_null = tmp.query('binarize == 0')[variable].dropna()\n",
    "    # obtenemos estadisticas\n",
    "    stats_ = stats.ttest_ind(values_one, values_null)\n",
    "    print(f'Datos de {binarize} y variable {variable}')\n",
    "    print()\n",
    "    print(f'La media para {binarize} es {round(values_one.mean(), 3)}, y para el resto del mundo {round(values_null.mean(), 3)}')\n",
    "    print(f'La diferencia entre medias es: {round(values_one.mean() - values_null.mean(), 3)}')\n",
    "    print(f'Valor t: {round(stats_[0], 3)}')\n",
    "    print(f'Valor p: {round(stats_[1], 3)}')\n",
    "    print()"
   ]
  },
  {
   "cell_type": "code",
   "execution_count": 22,
   "id": "ae55978a",
   "metadata": {},
   "outputs": [
    {
     "name": "stdout",
     "output_type": "stream",
     "text": [
      "Datos de Americas y variable school\n",
      "\n",
      "La media para Americas es 8.073, y para el resto del mundo 7.319\n",
      "La diferencia entre medias es: 0.754\n",
      "Valor t: 1.363\n",
      "Valor p: 0.175\n",
      "\n"
     ]
    }
   ],
   "source": [
    "hipotesis(df,'school','Americas')"
   ]
  },
  {
   "cell_type": "markdown",
   "id": "c514d303",
   "metadata": {},
   "source": [
    "**`Segunda forma`**"
   ]
  },
  {
   "cell_type": "code",
   "execution_count": 32,
   "id": "d45f8ec6",
   "metadata": {},
   "outputs": [
    {
     "name": "stdout",
     "output_type": "stream",
     "text": [
      "La media para el grupo 0 es 7.318845326604408\n",
      "La media para el grupo 1 es 8.072857080187116\n",
      "La diferencia entre las medias es de : 0.7540117535827084\n",
      "*****************\n",
      "El valor t del test es -1.362827174571195\n",
      "El valor pvalue del test es 0.17458464986808925\n"
     ]
    }
   ],
   "source": [
    "def funcion3(df, variable, binarize):\n",
    "    #Con Indicador Binario se refiere a la columna binaria a utilizar para comprar con el resto de las regiones,\n",
    "    #Es decir, se refiere a la región a comparar con el resto de regiones.\n",
    "    \n",
    "    #Separado en 2 grupos para tener 2 set de datos segmentados según la variable binarize elegida\n",
    "    grupo0 = df[df[binarize] == 0][variable].dropna()\n",
    "    grupo1 = df[df[binarize] == 1][variable].dropna()\n",
    "    \n",
    "    #Hago t_test y guardo los valores\n",
    "    t , pval = stats.ttest_ind(grupo0,grupo1) #por defecto compara medias y hace ttest con 2 colas\n",
    "    \n",
    "    #reporto las medias y la diferencia entre ellas\n",
    "    print(f\"La media para el grupo 0 es {np.mean(grupo0)}\")\n",
    "    print(f\"La media para el grupo 1 es {np.mean(grupo1)}\")\n",
    "    print(f\"La diferencia entre las medias es de : {abs(np.mean(grupo0)-np.mean(grupo1))}\")\n",
    "    print(\"*****************\")\n",
    "    \n",
    "    #reporte valores t y p\n",
    "    print(f\"El valor t del test es {t}\")\n",
    "    print(f\"El valor pvalue del test es {pval}\")\n",
    "\n",
    "funcion3(df,'school','Americas')"
   ]
  },
  {
   "cell_type": "markdown",
   "id": "e8d7bb3f",
   "metadata": {},
   "source": [
    "#### **`4 - Implemente una función que grafique los histogramas para ambas muestras`**"
   ]
  },
  {
   "cell_type": "markdown",
   "id": "176e7e6b",
   "metadata": {},
   "source": [
    "Genere una función que devuelva un gráfico donde visualice los dos histogramas cuando la variable es 1 y 0, respectivamente\n",
    "    \n",
    "- Tips: Refactorize la función incluyendo el método `hist` de `matplotlib.pyplot`. Incluya los argumentos `alpha` y `label`.\n",
    "-  Para las tres variables de interés acorde a su grupo, analice las diferencias de medias por cada continente, y posteriormente grafique. Concluya con los principales resultados al respecto."
   ]
  },
  {
   "cell_type": "code",
   "execution_count": 55,
   "id": "e95fef23",
   "metadata": {},
   "outputs": [],
   "source": [
    "def hist_plot(df, variable, binarize):\n",
    "    tmp = df\n",
    "    # separamos datos por indicador\n",
    "    tmp['binarize'] = np.where(tmp['region'] == binarize, 1, 0)\n",
    "    # separamos datos en variable indicada de acuerdo a 0 y 1\n",
    "    values_one = tmp.query('binarize == 1')[variable].dropna()\n",
    "    values_null = tmp.query('binarize == 0')[variable].dropna()\n",
    "    # graficamos\n",
    "    label = [binarize, 'Resto del mundo']\n",
    "    plt.hist(values_one, alpha=.5, color='red', label=label[0])\n",
    "    plt.axvline(np.mean(values_one), color = 'red', label = f\"media {label[0]} ({round(np.mean(values_one),2)})\")\n",
    "    plt.hist(values_null, alpha=.5, color='grey', label=label[1])   \n",
    "    plt.axvline(np.mean(values_null), color = 'black', label = f\"media {label[1]} ({round(np.mean(values_null),2)})\")     \n",
    "    plt.title(f'Ocurrencias variable {variable} en región {binarize}')\n",
    "    plt.legend()"
   ]
  },
  {
   "cell_type": "markdown",
   "id": "7a41adac",
   "metadata": {},
   "source": [
    "`COMENTARIO`: EL promedio de años escolaridad para el caso de America es de 8 años, mientras que para el resto de los continentes es de 7, es decir está sobre la media."
   ]
  },
  {
   "cell_type": "code",
   "execution_count": 56,
   "id": "1e977a59",
   "metadata": {},
   "outputs": [
    {
     "data": {
      "image/png": "[encoded data removed]",
      "text/plain": [
       "<Figure size 432x288 with 1 Axes>"
      ]
     },
     "metadata": {
      "needs_background": "light"
     },
     "output_type": "display_data"
    }
   ],
   "source": [
    "hist_plot(df, 'school', 'Americas')"
   ]
  },
  {
   "cell_type": "code",
   "execution_count": 58,
   "id": "bfa8877f",
   "metadata": {},
   "outputs": [
    {
     "data": {
      "image/png": "[encoded data removed]",
      "text/plain": [
       "<Figure size 432x288 with 1 Axes>"
      ]
     },
     "metadata": {
      "needs_background": "light"
     },
     "output_type": "display_data"
    }
   ],
   "source": [
    "hist_plot(df, 'school', 'Asia')"
   ]
  },
  {
   "cell_type": "code",
   "execution_count": 59,
   "id": "47874f6b",
   "metadata": {},
   "outputs": [
    {
     "data": {
      "image/png": "[encoded data removed]",
      "text/plain": [
       "<Figure size 432x288 with 1 Axes>"
      ]
     },
     "metadata": {
      "needs_background": "light"
     },
     "output_type": "display_data"
    }
   ],
   "source": [
    "hist_plot(df, 'school', 'Europe')"
   ]
  },
  {
   "cell_type": "code",
   "execution_count": 60,
   "id": "52119107",
   "metadata": {},
   "outputs": [
    {
     "data": {
      "image/png": "[encoded data removed]",
      "text/plain": [
       "<Figure size 432x288 with 1 Axes>"
      ]
     },
     "metadata": {
      "needs_background": "light"
     },
     "output_type": "display_data"
    }
   ],
   "source": [
    "hist_plot(df, 'school', 'Africa')"
   ]
  },
  {
   "cell_type": "code",
   "execution_count": 61,
   "id": "7aee1824",
   "metadata": {},
   "outputs": [
    {
     "data": {
      "image/png": "[encoded data removed]",
      "text/plain": [
       "<Figure size 432x288 with 1 Axes>"
      ]
     },
     "metadata": {
      "needs_background": "light"
     },
     "output_type": "display_data"
    }
   ],
   "source": [
    "hist_plot(df, 'school', 'Oceania')"
   ]
  },
  {
   "cell_type": "code",
   "execution_count": null,
   "id": "b15a6213",
   "metadata": {},
   "outputs": [],
   "source": [
    "for i in df.region.unique():\n",
    "    for j in ['femlab', 'literacy', 'school']:\n",
    "        hist_plot(df,j,i)"
   ]
  }
 ],
 "metadata": {
  "kernelspec": {
   "display_name": "Python 3",
   "language": "python",
   "name": "python3"
  },
  "language_info": {
   "codemirror_mode": {
    "name": "ipython",
    "version": 3
   },
   "file_extension": ".py",
   "mimetype": "text/x-python",
   "name": "python",
   "nbconvert_exporter": "python",
   "pygments_lexer": "ipython3",
   "version": "3.9.5"
  }
 },
 "nbformat": 4,
 "nbformat_minor": 5
}
