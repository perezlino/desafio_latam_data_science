{
 "cells": [
  {
   "cell_type": "markdown",
   "metadata": {},
   "source": [
    "### **3 - Matplotlib.pyplot.hist( )**"
   ]
  },
  {
   "cell_type": "markdown",
   "metadata": {},
   "source": [
    "#### **`Matplotlib.pyplot.hist() en Python`**"
   ]
  },
  {
   "cell_type": "markdown",
   "metadata": {},
   "source": [
    "Matplotlib es una librería en Python y es una extensión numérico-matemática de la librería NumPy. Pyplot es una interfaz basada en estado (state_based) para un módulo Matplotlib que proporciona una interfaz similar a MATLAB."
   ]
  },
  {
   "cell_type": "markdown",
   "metadata": {},
   "source": [
    "#### **`Histograma Matplotlib`**"
   ]
  },
  {
   "cell_type": "markdown",
   "metadata": {},
   "source": [
    "\n",
    "Un histograma se utiliza para representar los datos proporcionados en forma de algunos grupos. Es un método preciso para la representación gráfica de la distribución numérica de datos. Es un tipo de gráfico de barras en el que el eje X representa los rangos de bin mientras que el eje Y proporciona información sobre la frecuencia. La biblioteca Matplotlib de Python nos proporciona una manera fácil de crear histogramas usando Pyplot."
   ]
  },
  {
   "cell_type": "markdown",
   "metadata": {},
   "source": [
    "#### **`Sintaxis de Matplotlib pyplot.hist()`**"
   ]
  },
  {
   "cell_type": "markdown",
   "metadata": {},
   "source": [
    "En Python, la función hist() en el pyplot de la biblioteca Matplotlib se usa para trazar un histograma."
   ]
  },
  {
   "cell_type": "markdown",
   "metadata": {},
   "source": [
    "> **matplotlib.pyplot.hist**(**x**, **bins**=None, **range**=None, **density**=False, **weights**=None, **cumulative**=False, **bottom**=None, **histtype**=’bar’, **align**=’mid’, **orientation**=’vertical’, **rwidth**=None, **log**=False, **color**=None, **label**=None, **stacked**=False, \\*, **data**=None, \\*\\*kwargs) "
   ]
  },
  {
   "cell_type": "markdown",
   "metadata": {},
   "source": [
    "**`Parámetros`**: Este método acepta los siguientes parámetros que se describen a continuación:\n",
    "\n",
    "- **`x`** : Este parámetro es la secuencia de datos.\n",
    "- **`bins`**: Este parámetro es un parámetro opcional y contiene el entero, la secuencia o la cadena.\n",
    "- **`range`**: Este parámetro es un parámetro opcional y está en el rango inferior y superior de los contenedores (bins).\n",
    "- **`density`**: Este parámetro es un parámetro opcional y contiene los valores booleanos.\n",
    "- **`weights`**: Este parámetro es un parámetro opcional y es una matriz de pesos, de la misma forma que x.\n",
    "- **`bottom`**: Este parámetro es la ubicación de la línea base inferior de cada bin.\n",
    "- **`histtype`** : Este parámetro es un parámetro opcional y se utiliza para dibujar el tipo de histograma. {'bar', 'barstacked', 'step', 'stepfilled'}\n",
    "- **`align`**: Este parámetro es un parámetro opcional y controla cómo se traza el histograma. {'left', 'mid', 'right'}\n",
    "- **`rwidth`** : Este parámetro es un parámetro opcional y es un ancho relativo de las barras como una fracción del ancho del bin\n",
    "- **`log`**: Este parámetro es un parámetro opcional y se utiliza para establecer el eje del histograma en una escala logarítmica\n",
    "- **`color`**: Este parámetro es un parámetro opcional y es una especificación de color o una secuencia de especificaciones de color, una por conjunto de datos.\n",
    "- **`label`**: Este parámetro es un parámetro opcional y es una cadena o secuencia de cadenas para hacer coincidir varios conjuntos de datos.\n",
    "- **`normed`**: Este parámetro es un parámetro opcional y contiene los valores booleanos. En su lugar, utiliza el argumento de palabra clave density.\n",
    "\n",
    "**`Returns`**: Esto devuelve lo siguiente\n",
    "\n",
    "- **`n`**: Esto devuelve los valores de los bins del histograma.\n",
    "- **`bins`**: Esto devuelve los bordes de los contenedores.\n",
    "- **`patches`**: Esto devuelve la lista de parches individuales utilizados para crear el histograma."
   ]
  },
  {
   "cell_type": "markdown",
   "metadata": {},
   "source": [
    "#### **Ejemplo 1**"
   ]
  },
  {
   "cell_type": "markdown",
   "metadata": {},
   "source": [
    "En este ejemplo, crearemos un histograma simple utilizando la función **`hist()`** con los parámetros por defecto. El término 'parámetros por defecto' significa que sólo pasaremos los datos como parámetros a la función **`hist()`** en Matplotlib, todos los demás parámetros obtendrán un valor por defecto."
   ]
  },
  {
   "cell_type": "code",
   "execution_count": 3,
   "metadata": {},
   "outputs": [
    {
     "data": {
      "image/png": "[encoded data removed]",
      "text/plain": [
       "<Figure size 432x288 with 1 Axes>"
      ]
     },
     "metadata": {
      "needs_background": "light"
     },
     "output_type": "display_data"
    }
   ],
   "source": [
    "# import module\n",
    "import matplotlib.pyplot as plt\n",
    "\n",
    "# create data\n",
    "data = [32, 96, 45, 67, 76, 28, 79, 62, 43, 81, 70,\n",
    "\t\t61, 95, 44, 60, 69, 71, 23, 69, 54, 76, 67,\n",
    "\t\t82, 97, 26, 34, 18, 16, 59, 88, 29, 30, 66,\n",
    "\t\t23, 65, 72, 20, 78, 49, 73, 62, 87, 37, 68,\n",
    "\t\t81, 80, 77, 92, 81, 52, 43, 68, 71, 86]\n",
    "\n",
    "# create histogram\n",
    "plt.hist(data)\n",
    "\n",
    "# display histogram\n",
    "plt.show()\n"
   ]
  },
  {
   "cell_type": "markdown",
   "metadata": {},
   "source": [
    "#### **Ejemplo 2**"
   ]
  },
  {
   "cell_type": "markdown",
   "metadata": {},
   "source": [
    "En este ejemplo, crearemos un histograma utilizando la función **`hist()`** de Matplotlib y le pasaremos los parámetros necesarios como **bins**, **color**, **density**, etc. También utilizamos la función **`pyplot.plot()`** para trazar una línea punteada en el gráfico."
   ]
  },
  {
   "cell_type": "code",
   "execution_count": 4,
   "metadata": {},
   "outputs": [
    {
     "data": {
      "image/png": "[encoded data removed]",
      "text/plain": [
       "<Figure size 432x288 with 1 Axes>"
      ]
     },
     "metadata": {
      "needs_background": "light"
     },
     "output_type": "display_data"
    }
   ],
   "source": [
    "# Implementation of matplotlib function\n",
    "import matplotlib\n",
    "import numpy as np\n",
    "import matplotlib.pyplot as plt\n",
    "\n",
    "np.random.seed(10**7)\n",
    "mu = 121\n",
    "sigma = 21\n",
    "x = mu + sigma * np.random.randn(1000)\n",
    "\n",
    "num_bins = 100\n",
    "\n",
    "n, bins, patches = plt.hist(x, num_bins, \n",
    "\t\t\t\t\t\t\tdensity = 1, \n",
    "\t\t\t\t\t\t\tcolor ='green',\n",
    "\t\t\t\t\t\t\talpha = 0.7)\n",
    "\n",
    "y = ((1 / (np.sqrt(2 * np.pi) * sigma)) *\n",
    "\tnp.exp(-0.5 * (1 / sigma * (bins - mu))**2))\n",
    "\n",
    "plt.plot(bins, y, '--', color ='black')\n",
    "\n",
    "plt.xlabel('X-Axis')\n",
    "plt.ylabel('Y-Axis')\n",
    "\n",
    "plt.title('matplotlib.pyplot.hist() function Example\\n\\n',\n",
    "\t\tfontweight = \"bold\")\n",
    "\n",
    "plt.show()"
   ]
  },
  {
   "cell_type": "markdown",
   "metadata": {},
   "source": [
    "#### **Ejemplo 3**"
   ]
  },
  {
   "cell_type": "markdown",
   "metadata": {},
   "source": [
    "En este ejemplo, crearemos un histograma con diferentes atributos utilizando la función **`matplotlib.pyplot.hist()`**. Definimos un conjunto específico de colores para las barras de las barras del histograma"
   ]
  },
  {
   "cell_type": "code",
   "execution_count": 1,
   "metadata": {},
   "outputs": [
    {
     "data": {
      "image/png": "[encoded data removed]",
      "text/plain": [
       "<Figure size 432x288 with 1 Axes>"
      ]
     },
     "metadata": {
      "needs_background": "light"
     },
     "output_type": "display_data"
    }
   ],
   "source": [
    "# Implementation of matplotlib function\n",
    "import matplotlib\n",
    "import numpy as np\n",
    "import matplotlib.pyplot as plt\n",
    "\n",
    "np.random.seed(10**7)\n",
    "n_bins = 20\n",
    "x = np.random.randn(10000, 3)\n",
    "\n",
    "colors = ['green', 'blue', 'lime']\n",
    "\n",
    "plt.hist(x, n_bins, density = True, \n",
    "\t\thisttype ='bar',\n",
    "\t\tcolor = colors,\n",
    "\t\tlabel = colors)\n",
    "\n",
    "plt.legend(prop ={'size': 10})\n",
    "\n",
    "plt.title('matplotlib.pyplot.hist() function Example\\n\\n',\n",
    "\t\tfontweight = \"bold\")\n",
    "\n",
    "plt.show()\n"
   ]
  }
 ],
 "metadata": {
  "kernelspec": {
   "display_name": "base",
   "language": "python",
   "name": "python3"
  },
  "language_info": {
   "codemirror_mode": {
    "name": "ipython",
    "version": 3
   },
   "file_extension": ".py",
   "mimetype": "text/x-python",
   "name": "python",
   "nbconvert_exporter": "python",
   "pygments_lexer": "ipython3",
   "version": "3.9.5"
  }
 },
 "nbformat": 4,
 "nbformat_minor": 2
}
