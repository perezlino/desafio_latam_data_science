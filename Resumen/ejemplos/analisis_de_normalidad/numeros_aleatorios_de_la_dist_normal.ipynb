{
 "cells": [
  {
   "cell_type": "markdown",
   "metadata": {},
   "source": [
    "### **Numeros aleatorios de la distribucion normal: `numpy.random.normal()`**"
   ]
  },
  {
   "cell_type": "markdown",
   "metadata": {},
   "source": [
    "En Numpy contamos con el módulo llamado módulo aleatorio que nos permite trabajar con números aleatorios. El módulo aleatorio proporciona diferentes métodos para la distribución de datos. En este artículo, tenemos que crear una array de forma específica y llenarla con números o valores aleatorios de modo que estos valores sean parte de una distribución normal o una distribución gaussiana. Esta distribución también se llama Curva de Campana debido a su forma característica.\n",
    "\n",
    "Para generar cinco números aleatorios a partir de la distribución normal, utilizaremos el método numpy.random.normal() del módulo aleatorio.  \n",
    "\n",
    "**`Sintaxis`**: \n",
    "\n",
    "> **numpy.random.normal**(**loc** = 0.0, **scale** = 1.0, **size** = None) \n",
    "\n",
    "**`Parámetros`**:\n",
    "\n",
    "- **`loc`**: Media de distribución\n",
    "- **`scale`**: Derivación estándar \n",
    "- **`size`**: Forma resultante. Si el argumento de tamaño está vacío, se devuelve un valor único predeterminado."
   ]
  },
  {
   "cell_type": "markdown",
   "metadata": {},
   "source": [
    "#### **`Ejemplos`**"
   ]
  },
  {
   "cell_type": "markdown",
   "metadata": {},
   "source": [
    "##### **Ejemplo 1**"
   ]
  },
  {
   "cell_type": "code",
   "execution_count": 1,
   "metadata": {},
   "outputs": [
    {
     "name": "stdout",
     "output_type": "stream",
     "text": [
      "[-0.44195895  0.1335754  -3.22159123  0.45727788 -1.56497621]\n"
     ]
    }
   ],
   "source": [
    "# importing module\n",
    "import numpy as np\n",
    "  \n",
    "# numpy.random.normal() method\n",
    "r = np.random.normal(size=5)\n",
    "  \n",
    "# printing numbers\n",
    "print(r)"
   ]
  },
  {
   "cell_type": "markdown",
   "metadata": {},
   "source": [
    "##### **Ejemplo 2**"
   ]
  },
  {
   "cell_type": "code",
   "execution_count": 5,
   "metadata": {},
   "outputs": [
    {
     "name": "stdout",
     "output_type": "stream",
     "text": [
      "[ 0.01026303 -0.24910288 -0.41494889  1.46780528 -0.06351137]\n"
     ]
    }
   ],
   "source": [
    "# importing module\n",
    "import numpy as np\n",
    "  \n",
    "# numpy.random.normal() method\n",
    "media = 0.0\n",
    "desv = 1.0\n",
    "tamano = 5\n",
    "random_array = np.random.normal(media, desv, tamano)\n",
    "  \n",
    "# printing numbers\n",
    "print(random_array)"
   ]
  }
 ],
 "metadata": {
  "kernelspec": {
   "display_name": "base",
   "language": "python",
   "name": "python3"
  },
  "language_info": {
   "codemirror_mode": {
    "name": "ipython",
    "version": 3
   },
   "file_extension": ".py",
   "mimetype": "text/x-python",
   "name": "python",
   "nbconvert_exporter": "python",
   "pygments_lexer": "ipython3",
   "version": "3.9.5"
  }
 },
 "nbformat": 4,
 "nbformat_minor": 2
}
