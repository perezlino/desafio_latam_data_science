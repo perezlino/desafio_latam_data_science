{
 "cells": [
  {
   "cell_type": "markdown",
   "metadata": {},
   "source": [
    "### **3 - Analisis de normalidad con python**"
   ]
  },
  {
   "cell_type": "markdown",
   "metadata": {},
   "source": [
    "#### **`Ejemplos`**"
   ]
  },
  {
   "cell_type": "markdown",
   "metadata": {},
   "source": [
    "##### **Ejemplo 1 - Distribucion real/normal y Funcion de densidad real/normalizada**"
   ]
  },
  {
   "cell_type": "code",
   "execution_count": 1,
   "metadata": {},
   "outputs": [],
   "source": [
    "import pandas as pd\n",
    "import numpy as np\n",
    "from scipy import stats\n",
    "import matplotlib.pyplot as plt"
   ]
  },
  {
   "cell_type": "code",
   "execution_count": 2,
   "metadata": {},
   "outputs": [
    {
     "name": "stdout",
     "output_type": "stream",
     "text": [
      "<class 'pandas.core.frame.DataFrame'>\n",
      "RangeIndex: 544 entries, 0 to 543\n",
      "Data columns (total 4 columns):\n",
      " #   Column  Non-Null Count  Dtype  \n",
      "---  ------  --------------  -----  \n",
      " 0   height  544 non-null    float64\n",
      " 1   weight  544 non-null    float64\n",
      " 2   age     544 non-null    float64\n",
      " 3   male    544 non-null    int64  \n",
      "dtypes: float64(3), int64(1)\n",
      "memory usage: 17.1 KB\n",
      "None\n"
     ]
    },
    {
     "data": {
      "text/html": [
       "<div>\n",
       "<style scoped>\n",
       "    .dataframe tbody tr th:only-of-type {\n",
       "        vertical-align: middle;\n",
       "    }\n",
       "\n",
       "    .dataframe tbody tr th {\n",
       "        vertical-align: top;\n",
       "    }\n",
       "\n",
       "    .dataframe thead th {\n",
       "        text-align: right;\n",
       "    }\n",
       "</style>\n",
       "<table border=\"1\" class=\"dataframe\">\n",
       "  <thead>\n",
       "    <tr style=\"text-align: right;\">\n",
       "      <th></th>\n",
       "      <th>height</th>\n",
       "      <th>weight</th>\n",
       "      <th>age</th>\n",
       "      <th>male</th>\n",
       "    </tr>\n",
       "  </thead>\n",
       "  <tbody>\n",
       "    <tr>\n",
       "      <th>0</th>\n",
       "      <td>151.765</td>\n",
       "      <td>47.825606</td>\n",
       "      <td>63.0</td>\n",
       "      <td>1</td>\n",
       "    </tr>\n",
       "    <tr>\n",
       "      <th>1</th>\n",
       "      <td>139.700</td>\n",
       "      <td>36.485807</td>\n",
       "      <td>63.0</td>\n",
       "      <td>0</td>\n",
       "    </tr>\n",
       "    <tr>\n",
       "      <th>2</th>\n",
       "      <td>136.525</td>\n",
       "      <td>31.864838</td>\n",
       "      <td>65.0</td>\n",
       "      <td>0</td>\n",
       "    </tr>\n",
       "    <tr>\n",
       "      <th>3</th>\n",
       "      <td>156.845</td>\n",
       "      <td>53.041914</td>\n",
       "      <td>41.0</td>\n",
       "      <td>1</td>\n",
       "    </tr>\n",
       "  </tbody>\n",
       "</table>\n",
       "</div>"
      ],
      "text/plain": [
       "    height     weight   age  male\n",
       "0  151.765  47.825606  63.0     1\n",
       "1  139.700  36.485807  63.0     0\n",
       "2  136.525  31.864838  65.0     0\n",
       "3  156.845  53.041914  41.0     1"
      ]
     },
     "execution_count": 2,
     "metadata": {},
     "output_type": "execute_result"
    }
   ],
   "source": [
    "url = ('https://raw.githubusercontent.com/JoaquinAmatRodrigo/' +\n",
    "       'Estadistica-machine-learning-python/master/data/Howell1.csv')\n",
    "datos = pd.read_csv(url)\n",
    "print(datos.info())\n",
    "datos.head(4)"
   ]
  },
  {
   "cell_type": "markdown",
   "metadata": {},
   "source": [
    "De todos los datos disponibles se seleccionan únicamente mujeres mayores de 15 años."
   ]
  },
  {
   "cell_type": "code",
   "execution_count": 3,
   "metadata": {},
   "outputs": [
    {
     "data": {
      "text/plain": [
       "1      36.485807\n",
       "2      31.864838\n",
       "4      41.276872\n",
       "6      38.243476\n",
       "8      34.869885\n",
       "         ...    \n",
       "529    39.405805\n",
       "533    40.823280\n",
       "534    47.031821\n",
       "537    34.246196\n",
       "541    54.062497\n",
       "Name: weight, Length: 198, dtype: float64"
      ]
     },
     "execution_count": 3,
     "metadata": {},
     "output_type": "execute_result"
    }
   ],
   "source": [
    "datos = datos[(datos.age > 15) & (datos.male == 0)]\n",
    "peso = datos['weight']\n",
    "peso"
   ]
  },
  {
   "cell_type": "code",
   "execution_count": 4,
   "metadata": {},
   "outputs": [
    {
     "name": "stdout",
     "output_type": "stream",
     "text": [
      "41.38615752272728\n",
      "5.737813252284781\n"
     ]
    }
   ],
   "source": [
    "# Valores de la media (mu) y desviación típica (sigma) de los datos\n",
    "mu, sigma = stats.norm.fit(peso)\n",
    "\n",
    "print(mu)\n",
    "print(sigma)"
   ]
  },
  {
   "cell_type": "code",
   "execution_count": 5,
   "metadata": {},
   "outputs": [],
   "source": [
    "# Valores teóricos de la normal en el rango observado\n",
    "x_hat = np.linspace(min(peso), max(peso), num=100)\n",
    "y_hat = stats.norm.pdf(x_hat, mu, sigma)"
   ]
  },
  {
   "cell_type": "markdown",
   "metadata": {},
   "source": [
    "**FORMA 1**"
   ]
  },
  {
   "cell_type": "markdown",
   "metadata": {},
   "source": [
    "Histograma con datos reales y funcion de densidad normalizada"
   ]
  },
  {
   "cell_type": "code",
   "execution_count": 8,
   "metadata": {},
   "outputs": [
    {
     "data": {
      "image/png": "[encoded data removed]",
      "text/plain": [
       "<Figure size 432x288 with 1 Axes>"
      ]
     },
     "metadata": {
      "needs_background": "light"
     },
     "output_type": "display_data"
    }
   ],
   "source": [
    "# Gráfico\n",
    "plt.plot(x_hat, y_hat, linewidth=2, label='normal')\n",
    "plt.hist(peso, density=True, bins=30, color=\"#3182bd\", alpha=0.5)\n",
    "\n",
    "plt.axvline(mu, color='dodgerblue', linestyle='--', lw=3) \n",
    "plt.title(\"Distribución simulada del IDH\") \n",
    "plt.subplots_adjust(hspace=0.6)"
   ]
  },
  {
   "cell_type": "markdown",
   "metadata": {},
   "source": [
    "**FORMA 2**"
   ]
  },
  {
   "cell_type": "markdown",
   "metadata": {},
   "source": [
    "- Histograma con datos reales y funcion de densidad real\n",
    "- Histograma con datos normalizados y funcion de densidad normalizada"
   ]
  },
  {
   "cell_type": "code",
   "execution_count": 7,
   "metadata": {},
   "outputs": [
    {
     "data": {
      "image/png": "[encoded data removed]",
      "text/plain": [
       "<Figure size 432x288 with 2 Axes>"
      ]
     },
     "metadata": {
      "needs_background": "light"
     },
     "output_type": "display_data"
    }
   ],
   "source": [
    "###################################################################\n",
    "# Datos reales\n",
    "\n",
    "# Generamos el primer espacio para el primer histograma\n",
    "plt.subplot(2,1,1)\n",
    "\n",
    "plt.hist(peso, bins= 30, color='grey', alpha=.4, density=True) \n",
    "\n",
    "gauss_kde = stats.gaussian_kde(peso) # Kernel gaussiano \n",
    "z = np.reshape(gauss_kde(x_hat), x_hat.shape) \n",
    "\n",
    "plt.plot(x_hat, z, color='tomato', lw=3)\n",
    "\n",
    "# agregamos la línea vertical para identificar la media \n",
    "plt.axvline(peso.mean(), color='dodgerblue', linestyle='--', lw=3) \n",
    "plt.title(\"Histograma del IDH\")\n",
    "plt.subplots_adjust(hspace=0.6, top=2, right=1.5)\n",
    "\n",
    "###################################################################\n",
    "# Datos normalizados\n",
    "\n",
    "# El segundo gráfico \n",
    "plt.subplot(2, 1, 2)\n",
    "\n",
    "# Simulamos cómo debería comportarse un histograma normal\n",
    "datos_normal = np.random.normal(mu, sigma, 1000)\n",
    "\n",
    "plt.hist(datos_normal, bins=30, color='grey', alpha=.4, density=True)\n",
    "\n",
    "# Fijamos los límites del eje x \n",
    "plt.xlim(min(peso), max(peso))\n",
    "\n",
    "# Generamos una lista entre:\n",
    "x_axis = np.linspace(min(peso), max(peso), 1000)\n",
    "y_axis = stats.norm.pdf(x_axis, mu, sigma)\n",
    "\n",
    "plt.plot(x_hat, y_hat, color='tomato', lw=3)\n",
    "plt.axvline(mu, color='dodgerblue', linestyle='--', lw=3) \n",
    "plt.title(\"Distribución simulada del IDH\") \n",
    "plt.subplots_adjust(hspace=0.3)"
   ]
  },
  {
   "cell_type": "markdown",
   "metadata": {},
   "source": [
    "##### **Ejemplo 2 - Distribucion real y Funcion de densidad normalizada**"
   ]
  },
  {
   "cell_type": "code",
   "execution_count": null,
   "metadata": {},
   "outputs": [],
   "source": [
    "import pandas as pd\n",
    "import numpy as np\n",
    "from scipy import stats\n",
    "import matplotlib.pyplot as plt"
   ]
  },
  {
   "cell_type": "markdown",
   "metadata": {},
   "source": [
    "Supongamos que tenemos 1000 datos que siguen una distribución normal de media 10 y de desviación estándar 2. Estos datos saldrían de haberlos medido en algún proceso, pero para simplificar voy a generarlos con python."
   ]
  },
  {
   "cell_type": "code",
   "execution_count": null,
   "metadata": {},
   "outputs": [],
   "source": [
    "data = np.random.normal(loc=10, scale=2, size=1000)"
   ]
  },
  {
   "cell_type": "markdown",
   "metadata": {},
   "source": [
    "Al ejecutarlo me sale que la muestra tiene media 9.957369201658272 y desviación 1.9783697744791475. Pero si lo ejecuto otra vez podrá salir otra cosa. Si la muestra tuviera infinitos elementos, la media sería 10 y la desviación 2."
   ]
  },
  {
   "cell_type": "code",
   "execution_count": null,
   "metadata": {},
   "outputs": [
    {
     "name": "stdout",
     "output_type": "stream",
     "text": [
      "9.957369201658272 1.9783697744791475\n"
     ]
    }
   ],
   "source": [
    "print(np.mean(data), np.std(data))"
   ]
  },
  {
   "cell_type": "code",
   "execution_count": null,
   "metadata": {},
   "outputs": [
    {
     "name": "stdout",
     "output_type": "stream",
     "text": [
      "9.957369201658272\n",
      "1.9783697744791475\n"
     ]
    }
   ],
   "source": [
    "mu, sigma = stats.norm.fit(data)\n",
    "\n",
    "print(mu)\n",
    "print(sigma)"
   ]
  },
  {
   "cell_type": "markdown",
   "metadata": {},
   "source": [
    "Puedo pintar el histograma de esta muestra:"
   ]
  },
  {
   "cell_type": "code",
   "execution_count": null,
   "metadata": {},
   "outputs": [
    {
     "data": {
      "text/plain": [
       "(array([  8.,  24.,  70., 169., 194., 231., 169.,  98.,  32.,   5.]),\n",
       " array([ 3.81815659,  5.02095882,  6.22376105,  7.42656328,  8.6293655 ,\n",
       "         9.83216773, 11.03496996, 12.23777218, 13.44057441, 14.64337664,\n",
       "        15.84617886]),\n",
       " <BarContainer object of 10 artists>)"
      ]
     },
     "metadata": {},
     "output_type": "display_data"
    },
    {
     "data": {
      "image/png": "[encoded data removed]",
      "text/plain": [
       "<Figure size 432x288 with 1 Axes>"
      ]
     },
     "metadata": {},
     "output_type": "display_data"
    }
   ],
   "source": [
    "plt.hist(data)"
   ]
  },
  {
   "cell_type": "markdown",
   "metadata": {},
   "source": [
    "Ahora puedo usar **`scipy.stat.norm`** para crear una distribución normal continua con los parámetros que extraje de la muestra (observa que no son los \"verdaderos\" parámetros, pues esos nos son desconocidos en un caso real):"
   ]
  },
  {
   "cell_type": "markdown",
   "metadata": {},
   "source": [
    "Para que sean comparables, el histograma debe estar normalizado (la suma de todas las barras debe dar 1 y no 1000 como en el caso anterior), lo cual se logra pasando el parámetro normed=True a la función hist."
   ]
  },
  {
   "cell_type": "markdown",
   "metadata": {},
   "source": [
    "Por otro lado, para pintar el pdf, ya que esa curva es infinita, debemos elegir un valor mínimo y uno máximo en el eje x. Podemos elegir por ejemplo representar entre el percentil 0.001 y el 0.999 (y tomar 100 puntos para hacer esa gráfica)"
   ]
  },
  {
   "cell_type": "code",
   "execution_count": null,
   "metadata": {},
   "outputs": [
    {
     "data": {
      "text/plain": [
       "3.8437470110168794"
      ]
     },
     "metadata": {},
     "output_type": "display_data"
    }
   ],
   "source": [
    "min = stats.norm.ppf(0.001, mu, sigma)\n",
    "min"
   ]
  },
  {
   "cell_type": "code",
   "execution_count": null,
   "metadata": {},
   "outputs": [
    {
     "data": {
      "text/plain": [
       "16.070991392299664"
      ]
     },
     "metadata": {},
     "output_type": "display_data"
    }
   ],
   "source": [
    "max = stats.norm.ppf(0.999, mu, sigma)\n",
    "max"
   ]
  },
  {
   "cell_type": "code",
   "execution_count": null,
   "metadata": {},
   "outputs": [],
   "source": [
    "x_axis = np.linspace(min, max, num=100)\n",
    "y_axis = stats.norm.pdf(x_axis, mu, sigma)"
   ]
  },
  {
   "cell_type": "code",
   "execution_count": null,
   "metadata": {},
   "outputs": [
    {
     "data": {
      "text/plain": [
       "<matplotlib.legend.Legend at 0x2d37473c430>"
      ]
     },
     "metadata": {},
     "output_type": "display_data"
    },
    {
     "data": {
      "image/png": "[encoded data removed]",
      "text/plain": [
       "<Figure size 432x288 with 1 Axes>"
      ]
     },
     "metadata": {},
     "output_type": "display_data"
    }
   ],
   "source": [
    "plt.hist(data, density=True, linewidth=2, label='normal')\n",
    "plt.plot(x_axis, y_axis, \"r-\", label=\"PDF teórico\")\n",
    "plt.legend()"
   ]
  }
 ],
 "metadata": {
  "kernelspec": {
   "display_name": "base",
   "language": "python",
   "name": "python3"
  },
  "language_info": {
   "codemirror_mode": {
    "name": "ipython",
    "version": 3
   },
   "file_extension": ".py",
   "mimetype": "text/x-python",
   "name": "python",
   "nbconvert_exporter": "python",
   "pygments_lexer": "ipython3",
   "version": "3.9.5"
  }
 },
 "nbformat": 4,
 "nbformat_minor": 2
}
