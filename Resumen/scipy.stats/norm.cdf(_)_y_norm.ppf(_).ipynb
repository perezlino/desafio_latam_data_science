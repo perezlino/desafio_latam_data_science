{
 "cells": [
  {
   "cell_type": "markdown",
   "metadata": {},
   "source": [
    "### **norm.cdf() y norm.ppf()**"
   ]
  },
  {
   "cell_type": "markdown",
   "metadata": {},
   "source": [
    "#### **`Diferencia entre .cdf() y .ppf()`**"
   ]
  },
  {
   "cell_type": "markdown",
   "metadata": {},
   "source": [
    "La función **`.cdf()`** calcula la probabilidad para un valor dado de la distribución normal, mientras que la función **`.ppf()`** calcula el valor de la distribución normal para el que una probabilidad dada es el valor requerido. Son inversas entre sí en este sentido particular."
   ]
  },
  {
   "cell_type": "markdown",
   "metadata": {},
   "source": [
    "<center><img src=\"https://i.stack.imgur.com/aZSLH.png\"></center>"
   ]
  },
  {
   "cell_type": "code",
   "execution_count": null,
   "metadata": {},
   "outputs": [
    {
     "name": "stdout",
     "output_type": "stream",
     "text": [
      "1.6448536269514722\n",
      "0.95\n"
     ]
    }
   ],
   "source": [
    "from scipy.stats import norm\n",
    "print(norm.ppf(0.95))\n",
    "print(norm.cdf(1.6448536269514722))"
   ]
  },
  {
   "cell_type": "markdown",
   "metadata": {},
   "source": [
    "#### **`Ejemplos`**"
   ]
  },
  {
   "cell_type": "markdown",
   "metadata": {},
   "source": [
    "##### **Ejemplo 1**"
   ]
  },
  {
   "cell_type": "code",
   "execution_count": null,
   "metadata": {},
   "outputs": [
    {
     "name": "stdout",
     "output_type": "stream",
     "text": [
      "La probabilidad de que x esté entre 2 y 4 es: 0.6826894921370859\n"
     ]
    }
   ],
   "source": [
    "# Importar la biblioteca SciPy\n",
    "import scipy.stats as stats\n",
    "\n",
    "# Definir la media y la desviación estándar\n",
    "media = 3\n",
    "desviacion = 1\n",
    "\n",
    "# Calcular la probabilidad de que x esté entre 2 y 4\n",
    "probabilidad = stats.norm.cdf(4, loc=media, scale=desviacion) - stats.norm.cdf(2, loc=media, scale=desviacion)\n",
    "\n",
    "print(\"La probabilidad de que x esté entre 2 y 4 es:\", probabilidad)"
   ]
  },
  {
   "cell_type": "markdown",
   "metadata": {},
   "source": [
    "##### **Ejemplo 2**"
   ]
  },
  {
   "cell_type": "markdown",
   "metadata": {},
   "source": [
    "Suponga que tiene un conjunto de datos aleatorios x que siguen una distribución normal de media **`10`** y desviación típica **`2`**. Se pide encontrar la probabilidad de que:\n",
    "\n",
    "- **`a)`** La variable aleatoria x sea menor o igual a 8.\n",
    "- **`b)`**  Sea menor o igual a 10.\n",
    "- **`c)`** Que la variable x esté por debajo de 12.\n",
    "- **`d)`** La probabilidad que un valor x esté entre 8 y 12."
   ]
  },
  {
   "cell_type": "code",
   "execution_count": 13,
   "metadata": {},
   "outputs": [
    {
     "name": "stdout",
     "output_type": "stream",
     "text": [
      "La probabilidad de que la variable x sea menor o igual a 8: 0.159\n",
      "La probabilidad de que la variable x sea menor o igual a 10: 0.5\n",
      "La probabilidad de que la variable x sea menor o igual a 8: 0.841\n",
      "La probabilidad de que la variable x sea menor o igual a 8: 0.683\n"
     ]
    }
   ],
   "source": [
    "import numpy as np\n",
    "# Importar la biblioteca SciPy\n",
    "import scipy.stats as stats\n",
    "\n",
    "# Definir la media y la desviación estándar\n",
    "media = 10\n",
    "desviacion = 2\n",
    "\n",
    "# La probabilidad de que la variable x sea menor o igual a 8\n",
    "a = stats.norm.cdf(8, loc=media, scale=desviacion)\n",
    "\n",
    "# La probabilidad de que la variable x sea menor o igual a 10\n",
    "b = stats.norm.cdf(10, loc=media, scale=desviacion)\n",
    "\n",
    "# La probabilidad de que la variable x sea menor o igual a 10\n",
    "c = stats.norm.cdf(12, loc=media, scale=desviacion)\n",
    "\n",
    "# Calcular la probabilidad de que x esté entre 12 y 8\n",
    "d = stats.norm.cdf(12, loc=media, scale=desviacion) - stats.norm.cdf(8, loc=media, scale=desviacion)\n",
    "\n",
    "print(\"La probabilidad de que la variable x sea menor o igual a 8:\", np.round(a,3))\n",
    "print(\"La probabilidad de que la variable x sea menor o igual a 10:\", np.round(b,3))\n",
    "print(\"La probabilidad de que la variable x sea menor o igual a 8:\", np.round(c,3))\n",
    "print(\"La probabilidad de que la variable x sea menor o igual a 8:\", np.round(d,3))"
   ]
  },
  {
   "cell_type": "markdown",
   "metadata": {},
   "source": [
    "##### **Ejemplo 3**"
   ]
  },
  {
   "cell_type": "code",
   "execution_count": null,
   "metadata": {},
   "outputs": [],
   "source": [
    "import pandas as pd\n",
    "import numpy as np\n",
    "from scipy import stats\n",
    "import matplotlib.pyplot as plt"
   ]
  },
  {
   "cell_type": "markdown",
   "metadata": {},
   "source": [
    "Supongamos que tenemos 1000 datos que siguen una distribución normal de media 10 y de desviación estándar 2. Estos datos saldrían de haberlos medido en algún proceso, pero para simplificar voy a generarlos con python."
   ]
  },
  {
   "cell_type": "code",
   "execution_count": null,
   "metadata": {},
   "outputs": [],
   "source": [
    "data = np.random.normal(loc=10, scale=2, size=1000)"
   ]
  },
  {
   "cell_type": "markdown",
   "metadata": {},
   "source": [
    "Al ejecutarlo me sale que la muestra tiene media 9.957369201658272 y desviación 1.9783697744791475. Pero si lo ejecuto otra vez podrá salir otra cosa. Si la muestra tuviera infinitos elementos, la media sería 10 y la desviación 2."
   ]
  },
  {
   "cell_type": "code",
   "execution_count": null,
   "metadata": {},
   "outputs": [
    {
     "name": "stdout",
     "output_type": "stream",
     "text": [
      "9.957369201658272 1.9783697744791475\n"
     ]
    }
   ],
   "source": [
    "print(np.mean(data), np.std(data))"
   ]
  },
  {
   "cell_type": "code",
   "execution_count": null,
   "metadata": {},
   "outputs": [
    {
     "name": "stdout",
     "output_type": "stream",
     "text": [
      "9.957369201658272\n",
      "1.9783697744791475\n"
     ]
    }
   ],
   "source": [
    "mu, sigma = stats.norm.fit(data)\n",
    "\n",
    "print(mu)\n",
    "print(sigma)"
   ]
  },
  {
   "cell_type": "markdown",
   "metadata": {},
   "source": [
    "Puedo pintar el histograma de esta muestra:"
   ]
  },
  {
   "cell_type": "code",
   "execution_count": null,
   "metadata": {},
   "outputs": [
    {
     "data": {
      "text/plain": [
       "(array([  8.,  24.,  70., 169., 194., 231., 169.,  98.,  32.,   5.]),\n",
       " array([ 3.81815659,  5.02095882,  6.22376105,  7.42656328,  8.6293655 ,\n",
       "         9.83216773, 11.03496996, 12.23777218, 13.44057441, 14.64337664,\n",
       "        15.84617886]),\n",
       " <BarContainer object of 10 artists>)"
      ]
     },
     "metadata": {},
     "output_type": "display_data"
    },
    {
     "data": {
      "image/png": "[encoded data removed]",
      "text/plain": [
       "<Figure size 432x288 with 1 Axes>"
      ]
     },
     "metadata": {},
     "output_type": "display_data"
    }
   ],
   "source": [
    "plt.hist(data)"
   ]
  },
  {
   "cell_type": "markdown",
   "metadata": {},
   "source": [
    "Ahora puedo usar **`scipy.stat.norm`** para crear una distribución normal continua con los parámetros que extraje de la muestra (observa que no son los \"verdaderos\" parámetros, pues esos nos son desconocidos en un caso real):"
   ]
  },
  {
   "cell_type": "markdown",
   "metadata": {},
   "source": [
    "Para que sean comparables, el histograma debe estar normalizado (la suma de todas las barras debe dar 1 y no 1000 como en el caso anterior), lo cual se logra pasando el parámetro normed=True a la función hist."
   ]
  },
  {
   "cell_type": "markdown",
   "metadata": {},
   "source": [
    "Por otro lado, para pintar el pdf, ya que esa curva es infinita, debemos elegir un valor mínimo y uno máximo en el eje x. Podemos elegir por ejemplo representar entre el percentil 0.001 y el 0.999 (y tomar 100 puntos para hacer esa gráfica)"
   ]
  },
  {
   "cell_type": "code",
   "execution_count": null,
   "metadata": {},
   "outputs": [
    {
     "data": {
      "text/plain": [
       "3.8437470110168794"
      ]
     },
     "metadata": {},
     "output_type": "display_data"
    }
   ],
   "source": [
    "min = stats.norm.ppf(0.001, mu, sigma)\n",
    "min"
   ]
  },
  {
   "cell_type": "code",
   "execution_count": null,
   "metadata": {},
   "outputs": [
    {
     "data": {
      "text/plain": [
       "16.070991392299664"
      ]
     },
     "metadata": {},
     "output_type": "display_data"
    }
   ],
   "source": [
    "max = stats.norm.ppf(0.999, mu, sigma)\n",
    "max"
   ]
  },
  {
   "cell_type": "code",
   "execution_count": null,
   "metadata": {},
   "outputs": [],
   "source": [
    "x_axis = np.linspace(min, max, num=100)\n",
    "y_axis = stats.norm.pdf(x_axis, mu, sigma)"
   ]
  },
  {
   "cell_type": "code",
   "execution_count": null,
   "metadata": {},
   "outputs": [
    {
     "data": {
      "text/plain": [
       "<matplotlib.legend.Legend at 0x2d37473c430>"
      ]
     },
     "metadata": {},
     "output_type": "display_data"
    },
    {
     "data": {
      "image/png": "[encoded data removed]",
      "text/plain": [
       "<Figure size 432x288 with 1 Axes>"
      ]
     },
     "metadata": {},
     "output_type": "display_data"
    }
   ],
   "source": [
    "plt.hist(data, density=True, linewidth=2, label='normal')\n",
    "plt.plot(x_axis, y_axis, \"r-\", label=\"PDF teórico\")\n",
    "plt.legend()"
   ]
  }
 ],
 "metadata": {
  "kernelspec": {
   "display_name": "base",
   "language": "python",
   "name": "python3"
  },
  "language_info": {
   "codemirror_mode": {
    "name": "ipython",
    "version": 3
   },
   "file_extension": ".py",
   "mimetype": "text/x-python",
   "name": "python",
   "nbconvert_exporter": "python",
   "pygments_lexer": "ipython3",
   "version": "3.9.5"
  }
 },
 "nbformat": 4,
 "nbformat_minor": 2
}
