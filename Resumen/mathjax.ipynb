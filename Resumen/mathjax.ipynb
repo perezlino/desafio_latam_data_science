{
 "cells": [
  {
   "cell_type": "markdown",
   "metadata": {},
   "source": [
    "### **`MathJax`: Tutorial basico de LaTeX**"
   ]
  },
  {
   "cell_type": "markdown",
   "metadata": {},
   "source": [
    "https://math.meta.stackexchange.com/questions/5020/mathjax-basic-tutorial-and-quick-reference"
   ]
  },
  {
   "cell_type": "markdown",
   "metadata": {},
   "source": [
    "#### **1 - Letras griegas**"
   ]
  },
  {
   "cell_type": "markdown",
   "metadata": {},
   "source": [
    "$$ \\alpha \\Alpha $$\n",
    "$$ \\beta \\Beta $$\n",
    "$$ \\gamma \\Gamma $$\n",
    "$$ \\omega \\Omega $$\n",
    "$$ \\delta \\Delta $$\n",
    "$$ \\mu \\Mu $$\n",
    "$$ \\lambda \\Lambda $$\n",
    "$$ \\theta \\Theta $$\n",
    "$$ \\pi \\Pi $$\n",
    "$$ \\epsilon \\Epsilon $$\n",
    "$$ \\varepsilon $$\n",
    "$$ \\phi $$\n",
    "$$ \\varphi $$"
   ]
  },
  {
   "cell_type": "markdown",
   "metadata": {},
   "source": [
    "#### **2 - Indice superior e inferior**"
   ]
  }
 ],
 "metadata": {
  "language_info": {
   "name": "python"
  }
 },
 "nbformat": 4,
 "nbformat_minor": 2
}
