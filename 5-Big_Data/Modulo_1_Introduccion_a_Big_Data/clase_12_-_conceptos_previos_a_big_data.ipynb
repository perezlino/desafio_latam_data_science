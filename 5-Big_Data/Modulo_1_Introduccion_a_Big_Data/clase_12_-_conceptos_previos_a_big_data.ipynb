{
 "cells": [
  {
   "cell_type": "markdown",
   "metadata": {},
   "source": [
    "### **Clase 12 - Conceptos previos a Big Data**"
   ]
  },
  {
   "cell_type": "markdown",
   "metadata": {},
   "source": [
    "### **`Principios de programación funcional`**"
   ]
  },
  {
   "cell_type": "code",
   "execution_count": 2,
   "metadata": {},
   "outputs": [
    {
     "name": "stdout",
     "output_type": "stream",
     "text": [
      "Dimensiones del json:  2\n"
     ]
    }
   ],
   "source": [
    "import requests\n",
    "\n",
    "# generamos un request de la api del banco mundial \n",
    "\n",
    "datos_banco_mundial = requests.get(\"http://api.worldbank.org/v2/country?format=json\").json()\n",
    "\n",
    "print(\"Dimensiones del json: \", len(datos_banco_mundial))"
   ]
  },
  {
   "cell_type": "code",
   "execution_count": 3,
   "metadata": {},
   "outputs": [
    {
     "data": {
      "text/plain": [
       "[{'page': 1, 'pages': 6, 'per_page': '50', 'total': 297},\n",
       " [{'id': 'ABW',\n",
       "   'iso2Code': 'AW',\n",
       "   'name': 'Aruba',\n",
       "   'region': {'id': 'LCN',\n",
       "    'iso2code': 'ZJ',\n",
       "    'value': 'Latin America & Caribbean '},\n",
       "   'adminregion': {'id': '', 'iso2code': '', 'value': ''},\n",
       "   'incomeLevel': {'id': 'HIC', 'iso2code': 'XD', 'value': 'High income'},\n",
       "   'lendingType': {'id': 'LNX', 'iso2code': 'XX', 'value': 'Not classified'},\n",
       "   'capitalCity': 'Oranjestad',\n",
       "   'longitude': '-70.0167',\n",
       "   'latitude': '12.5167'},\n",
       "  {'id': 'AFE',\n",
       "   'iso2Code': 'ZH',\n",
       "   'name': 'Africa Eastern and Southern',\n",
       "   'region': {'id': 'NA', 'iso2code': 'NA', 'value': 'Aggregates'},\n",
       "   'adminregion': {'id': '', 'iso2code': '', 'value': ''},\n",
       "   'incomeLevel': {'id': 'NA', 'iso2code': 'NA', 'value': 'Aggregates'},\n",
       "   'lendingType': {'id': '', 'iso2code': '', 'value': 'Aggregates'},\n",
       "   'capitalCity': '',\n",
       "   'longitude': '',\n",
       "   'latitude': ''},\n",
       "  {'id': 'AFG',\n",
       "   'iso2Code': 'AF',\n",
       "   'name': 'Afghanistan',\n",
       "   'region': {'id': 'SAS', 'iso2code': '8S', 'value': 'South Asia'},\n",
       "   'adminregion': {'id': 'SAS', 'iso2code': '8S', 'value': 'South Asia'},\n",
       "   'incomeLevel': {'id': 'LIC', 'iso2code': 'XM', 'value': 'Low income'},\n",
       "   'lendingType': {'id': 'IDX', 'iso2code': 'XI', 'value': 'IDA'},\n",
       "   'capitalCity': 'Kabul',\n",
       "   'longitude': '69.1761',\n",
       "   'latitude': '34.5228'},\n",
       "  {'id': 'AFR',\n",
       "   'iso2Code': 'A9',\n",
       "   'name': 'Africa',\n",
       "   'region': {'id': 'NA', 'iso2code': 'NA', 'value': 'Aggregates'},\n",
       "   'adminregion': {'id': '', 'iso2code': '', 'value': ''},\n",
       "   'incomeLevel': {'id': 'NA', 'iso2code': 'NA', 'value': 'Aggregates'},\n",
       "   'lendingType': {'id': '', 'iso2code': '', 'value': 'Aggregates'},\n",
       "   'capitalCity': '',\n",
       "   'longitude': '',\n",
       "   'latitude': ''},\n",
       "  {'id': 'AFW',\n",
       "   'iso2Code': 'ZI',\n",
       "   'name': 'Africa Western and Central',\n",
       "   'region': {'id': 'NA', 'iso2code': 'NA', 'value': 'Aggregates'},\n",
       "   'adminregion': {'id': '', 'iso2code': '', 'value': ''},\n",
       "   'incomeLevel': {'id': 'NA', 'iso2code': 'NA', 'value': 'Aggregates'},\n",
       "   'lendingType': {'id': '', 'iso2code': '', 'value': 'Aggregates'},\n",
       "   'capitalCity': '',\n",
       "   'longitude': '',\n",
       "   'latitude': ''},\n",
       "  {'id': 'AGO',\n",
       "   'iso2Code': 'AO',\n",
       "   'name': 'Angola',\n",
       "   'region': {'id': 'SSF', 'iso2code': 'ZG', 'value': 'Sub-Saharan Africa '},\n",
       "   'adminregion': {'id': 'SSA',\n",
       "    'iso2code': 'ZF',\n",
       "    'value': 'Sub-Saharan Africa (excluding high income)'},\n",
       "   'incomeLevel': {'id': 'LMC',\n",
       "    'iso2code': 'XN',\n",
       "    'value': 'Lower middle income'},\n",
       "   'lendingType': {'id': 'IBD', 'iso2code': 'XF', 'value': 'IBRD'},\n",
       "   'capitalCity': 'Luanda',\n",
       "   'longitude': '13.242',\n",
       "   'latitude': '-8.81155'},\n",
       "  {'id': 'ALB',\n",
       "   'iso2Code': 'AL',\n",
       "   'name': 'Albania',\n",
       "   'region': {'id': 'ECS', 'iso2code': 'Z7', 'value': 'Europe & Central Asia'},\n",
       "   'adminregion': {'id': 'ECA',\n",
       "    'iso2code': '7E',\n",
       "    'value': 'Europe & Central Asia (excluding high income)'},\n",
       "   'incomeLevel': {'id': 'UMC',\n",
       "    'iso2code': 'XT',\n",
       "    'value': 'Upper middle income'},\n",
       "   'lendingType': {'id': 'IBD', 'iso2code': 'XF', 'value': 'IBRD'},\n",
       "   'capitalCity': 'Tirane',\n",
       "   'longitude': '19.8172',\n",
       "   'latitude': '41.3317'},\n",
       "  {'id': 'AND',\n",
       "   'iso2Code': 'AD',\n",
       "   'name': 'Andorra',\n",
       "   'region': {'id': 'ECS', 'iso2code': 'Z7', 'value': 'Europe & Central Asia'},\n",
       "   'adminregion': {'id': '', 'iso2code': '', 'value': ''},\n",
       "   'incomeLevel': {'id': 'HIC', 'iso2code': 'XD', 'value': 'High income'},\n",
       "   'lendingType': {'id': 'LNX', 'iso2code': 'XX', 'value': 'Not classified'},\n",
       "   'capitalCity': 'Andorra la Vella',\n",
       "   'longitude': '1.5218',\n",
       "   'latitude': '42.5075'},\n",
       "  {'id': 'ARB',\n",
       "   'iso2Code': '1A',\n",
       "   'name': 'Arab World',\n",
       "   'region': {'id': 'NA', 'iso2code': 'NA', 'value': 'Aggregates'},\n",
       "   'adminregion': {'id': '', 'iso2code': '', 'value': ''},\n",
       "   'incomeLevel': {'id': 'NA', 'iso2code': 'NA', 'value': 'Aggregates'},\n",
       "   'lendingType': {'id': '', 'iso2code': '', 'value': 'Aggregates'},\n",
       "   'capitalCity': '',\n",
       "   'longitude': '',\n",
       "   'latitude': ''},\n",
       "  {'id': 'ARE',\n",
       "   'iso2Code': 'AE',\n",
       "   'name': 'United Arab Emirates',\n",
       "   'region': {'id': 'MEA',\n",
       "    'iso2code': 'ZQ',\n",
       "    'value': 'Middle East & North Africa'},\n",
       "   'adminregion': {'id': '', 'iso2code': '', 'value': ''},\n",
       "   'incomeLevel': {'id': 'HIC', 'iso2code': 'XD', 'value': 'High income'},\n",
       "   'lendingType': {'id': 'LNX', 'iso2code': 'XX', 'value': 'Not classified'},\n",
       "   'capitalCity': 'Abu Dhabi',\n",
       "   'longitude': '54.3705',\n",
       "   'latitude': '24.4764'},\n",
       "  {'id': 'ARG',\n",
       "   'iso2Code': 'AR',\n",
       "   'name': 'Argentina',\n",
       "   'region': {'id': 'LCN',\n",
       "    'iso2code': 'ZJ',\n",
       "    'value': 'Latin America & Caribbean '},\n",
       "   'adminregion': {'id': 'LAC',\n",
       "    'iso2code': 'XJ',\n",
       "    'value': 'Latin America & Caribbean (excluding high income)'},\n",
       "   'incomeLevel': {'id': 'UMC',\n",
       "    'iso2code': 'XT',\n",
       "    'value': 'Upper middle income'},\n",
       "   'lendingType': {'id': 'IBD', 'iso2code': 'XF', 'value': 'IBRD'},\n",
       "   'capitalCity': 'Buenos Aires',\n",
       "   'longitude': '-58.4173',\n",
       "   'latitude': '-34.6118'},\n",
       "  {'id': 'ARM',\n",
       "   'iso2Code': 'AM',\n",
       "   'name': 'Armenia',\n",
       "   'region': {'id': 'ECS', 'iso2code': 'Z7', 'value': 'Europe & Central Asia'},\n",
       "   'adminregion': {'id': 'ECA',\n",
       "    'iso2code': '7E',\n",
       "    'value': 'Europe & Central Asia (excluding high income)'},\n",
       "   'incomeLevel': {'id': 'UMC',\n",
       "    'iso2code': 'XT',\n",
       "    'value': 'Upper middle income'},\n",
       "   'lendingType': {'id': 'IBD', 'iso2code': 'XF', 'value': 'IBRD'},\n",
       "   'capitalCity': 'Yerevan',\n",
       "   'longitude': '44.509',\n",
       "   'latitude': '40.1596'},\n",
       "  {'id': 'ASM',\n",
       "   'iso2Code': 'AS',\n",
       "   'name': 'American Samoa',\n",
       "   'region': {'id': 'EAS', 'iso2code': 'Z4', 'value': 'East Asia & Pacific'},\n",
       "   'adminregion': {'id': '', 'iso2code': '', 'value': ''},\n",
       "   'incomeLevel': {'id': 'HIC', 'iso2code': 'XD', 'value': 'High income'},\n",
       "   'lendingType': {'id': 'LNX', 'iso2code': 'XX', 'value': 'Not classified'},\n",
       "   'capitalCity': 'Pago Pago',\n",
       "   'longitude': '-170.691',\n",
       "   'latitude': '-14.2846'},\n",
       "  {'id': 'ATG',\n",
       "   'iso2Code': 'AG',\n",
       "   'name': 'Antigua and Barbuda',\n",
       "   'region': {'id': 'LCN',\n",
       "    'iso2code': 'ZJ',\n",
       "    'value': 'Latin America & Caribbean '},\n",
       "   'adminregion': {'id': '', 'iso2code': '', 'value': ''},\n",
       "   'incomeLevel': {'id': 'HIC', 'iso2code': 'XD', 'value': 'High income'},\n",
       "   'lendingType': {'id': 'IBD', 'iso2code': 'XF', 'value': 'IBRD'},\n",
       "   'capitalCity': \"Saint John's\",\n",
       "   'longitude': '-61.8456',\n",
       "   'latitude': '17.1175'},\n",
       "  {'id': 'AUS',\n",
       "   'iso2Code': 'AU',\n",
       "   'name': 'Australia',\n",
       "   'region': {'id': 'EAS', 'iso2code': 'Z4', 'value': 'East Asia & Pacific'},\n",
       "   'adminregion': {'id': '', 'iso2code': '', 'value': ''},\n",
       "   'incomeLevel': {'id': 'HIC', 'iso2code': 'XD', 'value': 'High income'},\n",
       "   'lendingType': {'id': 'LNX', 'iso2code': 'XX', 'value': 'Not classified'},\n",
       "   'capitalCity': 'Canberra',\n",
       "   'longitude': '149.129',\n",
       "   'latitude': '-35.282'},\n",
       "  {'id': 'AUT',\n",
       "   'iso2Code': 'AT',\n",
       "   'name': 'Austria',\n",
       "   'region': {'id': 'ECS', 'iso2code': 'Z7', 'value': 'Europe & Central Asia'},\n",
       "   'adminregion': {'id': '', 'iso2code': '', 'value': ''},\n",
       "   'incomeLevel': {'id': 'HIC', 'iso2code': 'XD', 'value': 'High income'},\n",
       "   'lendingType': {'id': 'LNX', 'iso2code': 'XX', 'value': 'Not classified'},\n",
       "   'capitalCity': 'Vienna',\n",
       "   'longitude': '16.3798',\n",
       "   'latitude': '48.2201'},\n",
       "  {'id': 'AZE',\n",
       "   'iso2Code': 'AZ',\n",
       "   'name': 'Azerbaijan',\n",
       "   'region': {'id': 'ECS', 'iso2code': 'Z7', 'value': 'Europe & Central Asia'},\n",
       "   'adminregion': {'id': 'ECA',\n",
       "    'iso2code': '7E',\n",
       "    'value': 'Europe & Central Asia (excluding high income)'},\n",
       "   'incomeLevel': {'id': 'UMC',\n",
       "    'iso2code': 'XT',\n",
       "    'value': 'Upper middle income'},\n",
       "   'lendingType': {'id': 'IBD', 'iso2code': 'XF', 'value': 'IBRD'},\n",
       "   'capitalCity': 'Baku',\n",
       "   'longitude': '49.8932',\n",
       "   'latitude': '40.3834'},\n",
       "  {'id': 'BDI',\n",
       "   'iso2Code': 'BI',\n",
       "   'name': 'Burundi',\n",
       "   'region': {'id': 'SSF', 'iso2code': 'ZG', 'value': 'Sub-Saharan Africa '},\n",
       "   'adminregion': {'id': 'SSA',\n",
       "    'iso2code': 'ZF',\n",
       "    'value': 'Sub-Saharan Africa (excluding high income)'},\n",
       "   'incomeLevel': {'id': 'LIC', 'iso2code': 'XM', 'value': 'Low income'},\n",
       "   'lendingType': {'id': 'IDX', 'iso2code': 'XI', 'value': 'IDA'},\n",
       "   'capitalCity': 'Bujumbura',\n",
       "   'longitude': '29.3639',\n",
       "   'latitude': '-3.3784'},\n",
       "  {'id': 'BEA',\n",
       "   'iso2Code': 'B4',\n",
       "   'name': 'East Asia & Pacific (IBRD-only countries)',\n",
       "   'region': {'id': 'NA', 'iso2code': 'NA', 'value': 'Aggregates'},\n",
       "   'adminregion': {'id': '', 'iso2code': '', 'value': ''},\n",
       "   'incomeLevel': {'id': 'NA', 'iso2code': 'NA', 'value': 'Aggregates'},\n",
       "   'lendingType': {'id': '', 'iso2code': '', 'value': 'Aggregates'},\n",
       "   'capitalCity': '',\n",
       "   'longitude': '',\n",
       "   'latitude': ''},\n",
       "  {'id': 'BEC',\n",
       "   'iso2Code': 'B7',\n",
       "   'name': 'Europe & Central Asia (IBRD-only countries)',\n",
       "   'region': {'id': 'NA', 'iso2code': 'NA', 'value': 'Aggregates'},\n",
       "   'adminregion': {'id': '', 'iso2code': '', 'value': ''},\n",
       "   'incomeLevel': {'id': 'NA', 'iso2code': 'NA', 'value': 'Aggregates'},\n",
       "   'lendingType': {'id': '', 'iso2code': '', 'value': 'Aggregates'},\n",
       "   'capitalCity': '',\n",
       "   'longitude': '',\n",
       "   'latitude': ''},\n",
       "  {'id': 'BEL',\n",
       "   'iso2Code': 'BE',\n",
       "   'name': 'Belgium',\n",
       "   'region': {'id': 'ECS', 'iso2code': 'Z7', 'value': 'Europe & Central Asia'},\n",
       "   'adminregion': {'id': '', 'iso2code': '', 'value': ''},\n",
       "   'incomeLevel': {'id': 'HIC', 'iso2code': 'XD', 'value': 'High income'},\n",
       "   'lendingType': {'id': 'LNX', 'iso2code': 'XX', 'value': 'Not classified'},\n",
       "   'capitalCity': 'Brussels',\n",
       "   'longitude': '4.36761',\n",
       "   'latitude': '50.8371'},\n",
       "  {'id': 'BEN',\n",
       "   'iso2Code': 'BJ',\n",
       "   'name': 'Benin',\n",
       "   'region': {'id': 'SSF', 'iso2code': 'ZG', 'value': 'Sub-Saharan Africa '},\n",
       "   'adminregion': {'id': 'SSA',\n",
       "    'iso2code': 'ZF',\n",
       "    'value': 'Sub-Saharan Africa (excluding high income)'},\n",
       "   'incomeLevel': {'id': 'LMC',\n",
       "    'iso2code': 'XN',\n",
       "    'value': 'Lower middle income'},\n",
       "   'lendingType': {'id': 'IDX', 'iso2code': 'XI', 'value': 'IDA'},\n",
       "   'capitalCity': 'Porto-Novo',\n",
       "   'longitude': '2.6323',\n",
       "   'latitude': '6.4779'},\n",
       "  {'id': 'BFA',\n",
       "   'iso2Code': 'BF',\n",
       "   'name': 'Burkina Faso',\n",
       "   'region': {'id': 'SSF', 'iso2code': 'ZG', 'value': 'Sub-Saharan Africa '},\n",
       "   'adminregion': {'id': 'SSA',\n",
       "    'iso2code': 'ZF',\n",
       "    'value': 'Sub-Saharan Africa (excluding high income)'},\n",
       "   'incomeLevel': {'id': 'LIC', 'iso2code': 'XM', 'value': 'Low income'},\n",
       "   'lendingType': {'id': 'IDX', 'iso2code': 'XI', 'value': 'IDA'},\n",
       "   'capitalCity': 'Ouagadougou',\n",
       "   'longitude': '-1.53395',\n",
       "   'latitude': '12.3605'},\n",
       "  {'id': 'BGD',\n",
       "   'iso2Code': 'BD',\n",
       "   'name': 'Bangladesh',\n",
       "   'region': {'id': 'SAS', 'iso2code': '8S', 'value': 'South Asia'},\n",
       "   'adminregion': {'id': 'SAS', 'iso2code': '8S', 'value': 'South Asia'},\n",
       "   'incomeLevel': {'id': 'LMC',\n",
       "    'iso2code': 'XN',\n",
       "    'value': 'Lower middle income'},\n",
       "   'lendingType': {'id': 'IDX', 'iso2code': 'XI', 'value': 'IDA'},\n",
       "   'capitalCity': 'Dhaka',\n",
       "   'longitude': '90.4113',\n",
       "   'latitude': '23.7055'},\n",
       "  {'id': 'BGR',\n",
       "   'iso2Code': 'BG',\n",
       "   'name': 'Bulgaria',\n",
       "   'region': {'id': 'ECS', 'iso2code': 'Z7', 'value': 'Europe & Central Asia'},\n",
       "   'adminregion': {'id': 'ECA',\n",
       "    'iso2code': '7E',\n",
       "    'value': 'Europe & Central Asia (excluding high income)'},\n",
       "   'incomeLevel': {'id': 'UMC',\n",
       "    'iso2code': 'XT',\n",
       "    'value': 'Upper middle income'},\n",
       "   'lendingType': {'id': 'IBD', 'iso2code': 'XF', 'value': 'IBRD'},\n",
       "   'capitalCity': 'Sofia',\n",
       "   'longitude': '23.3238',\n",
       "   'latitude': '42.7105'},\n",
       "  {'id': 'BHI',\n",
       "   'iso2Code': 'B1',\n",
       "   'name': 'IBRD countries classified as high income',\n",
       "   'region': {'id': 'NA', 'iso2code': 'NA', 'value': 'Aggregates'},\n",
       "   'adminregion': {'id': '', 'iso2code': '', 'value': ''},\n",
       "   'incomeLevel': {'id': 'NA', 'iso2code': 'NA', 'value': 'Aggregates'},\n",
       "   'lendingType': {'id': '', 'iso2code': '', 'value': 'Aggregates'},\n",
       "   'capitalCity': '',\n",
       "   'longitude': '',\n",
       "   'latitude': ''},\n",
       "  {'id': 'BHR',\n",
       "   'iso2Code': 'BH',\n",
       "   'name': 'Bahrain',\n",
       "   'region': {'id': 'MEA',\n",
       "    'iso2code': 'ZQ',\n",
       "    'value': 'Middle East & North Africa'},\n",
       "   'adminregion': {'id': '', 'iso2code': '', 'value': ''},\n",
       "   'incomeLevel': {'id': 'HIC', 'iso2code': 'XD', 'value': 'High income'},\n",
       "   'lendingType': {'id': 'LNX', 'iso2code': 'XX', 'value': 'Not classified'},\n",
       "   'capitalCity': 'Manama',\n",
       "   'longitude': '50.5354',\n",
       "   'latitude': '26.1921'},\n",
       "  {'id': 'BHS',\n",
       "   'iso2Code': 'BS',\n",
       "   'name': 'Bahamas, The',\n",
       "   'region': {'id': 'LCN',\n",
       "    'iso2code': 'ZJ',\n",
       "    'value': 'Latin America & Caribbean '},\n",
       "   'adminregion': {'id': '', 'iso2code': '', 'value': ''},\n",
       "   'incomeLevel': {'id': 'HIC', 'iso2code': 'XD', 'value': 'High income'},\n",
       "   'lendingType': {'id': 'LNX', 'iso2code': 'XX', 'value': 'Not classified'},\n",
       "   'capitalCity': 'Nassau',\n",
       "   'longitude': '-77.339',\n",
       "   'latitude': '25.0661'},\n",
       "  {'id': 'BIH',\n",
       "   'iso2Code': 'BA',\n",
       "   'name': 'Bosnia and Herzegovina',\n",
       "   'region': {'id': 'ECS', 'iso2code': 'Z7', 'value': 'Europe & Central Asia'},\n",
       "   'adminregion': {'id': 'ECA',\n",
       "    'iso2code': '7E',\n",
       "    'value': 'Europe & Central Asia (excluding high income)'},\n",
       "   'incomeLevel': {'id': 'UMC',\n",
       "    'iso2code': 'XT',\n",
       "    'value': 'Upper middle income'},\n",
       "   'lendingType': {'id': 'IBD', 'iso2code': 'XF', 'value': 'IBRD'},\n",
       "   'capitalCity': 'Sarajevo',\n",
       "   'longitude': '18.4214',\n",
       "   'latitude': '43.8607'},\n",
       "  {'id': 'BLA',\n",
       "   'iso2Code': 'B2',\n",
       "   'name': 'Latin America & the Caribbean (IBRD-only countries)',\n",
       "   'region': {'id': 'NA', 'iso2code': 'NA', 'value': 'Aggregates'},\n",
       "   'adminregion': {'id': '', 'iso2code': '', 'value': ''},\n",
       "   'incomeLevel': {'id': 'NA', 'iso2code': 'NA', 'value': 'Aggregates'},\n",
       "   'lendingType': {'id': '', 'iso2code': '', 'value': 'Aggregates'},\n",
       "   'capitalCity': '',\n",
       "   'longitude': '',\n",
       "   'latitude': ''},\n",
       "  {'id': 'BLR',\n",
       "   'iso2Code': 'BY',\n",
       "   'name': 'Belarus',\n",
       "   'region': {'id': 'ECS', 'iso2code': 'Z7', 'value': 'Europe & Central Asia'},\n",
       "   'adminregion': {'id': 'ECA',\n",
       "    'iso2code': '7E',\n",
       "    'value': 'Europe & Central Asia (excluding high income)'},\n",
       "   'incomeLevel': {'id': 'UMC',\n",
       "    'iso2code': 'XT',\n",
       "    'value': 'Upper middle income'},\n",
       "   'lendingType': {'id': 'IBD', 'iso2code': 'XF', 'value': 'IBRD'},\n",
       "   'capitalCity': 'Minsk',\n",
       "   'longitude': '27.5766',\n",
       "   'latitude': '53.9678'},\n",
       "  {'id': 'BLZ',\n",
       "   'iso2Code': 'BZ',\n",
       "   'name': 'Belize',\n",
       "   'region': {'id': 'LCN',\n",
       "    'iso2code': 'ZJ',\n",
       "    'value': 'Latin America & Caribbean '},\n",
       "   'adminregion': {'id': 'LAC',\n",
       "    'iso2code': 'XJ',\n",
       "    'value': 'Latin America & Caribbean (excluding high income)'},\n",
       "   'incomeLevel': {'id': 'UMC',\n",
       "    'iso2code': 'XT',\n",
       "    'value': 'Upper middle income'},\n",
       "   'lendingType': {'id': 'IBD', 'iso2code': 'XF', 'value': 'IBRD'},\n",
       "   'capitalCity': 'Belmopan',\n",
       "   'longitude': '-88.7713',\n",
       "   'latitude': '17.2534'},\n",
       "  {'id': 'BMN',\n",
       "   'iso2Code': 'B3',\n",
       "   'name': 'Middle East & North Africa (IBRD-only countries)',\n",
       "   'region': {'id': 'NA', 'iso2code': 'NA', 'value': 'Aggregates'},\n",
       "   'adminregion': {'id': '', 'iso2code': '', 'value': ''},\n",
       "   'incomeLevel': {'id': 'NA', 'iso2code': 'NA', 'value': 'Aggregates'},\n",
       "   'lendingType': {'id': '', 'iso2code': '', 'value': 'Aggregates'},\n",
       "   'capitalCity': '',\n",
       "   'longitude': '',\n",
       "   'latitude': ''},\n",
       "  {'id': 'BMU',\n",
       "   'iso2Code': 'BM',\n",
       "   'name': 'Bermuda',\n",
       "   'region': {'id': 'NAC', 'iso2code': 'XU', 'value': 'North America'},\n",
       "   'adminregion': {'id': '', 'iso2code': '', 'value': ''},\n",
       "   'incomeLevel': {'id': 'HIC', 'iso2code': 'XD', 'value': 'High income'},\n",
       "   'lendingType': {'id': 'LNX', 'iso2code': 'XX', 'value': 'Not classified'},\n",
       "   'capitalCity': 'Hamilton',\n",
       "   'longitude': '-64.706',\n",
       "   'latitude': '32.3293'},\n",
       "  {'id': 'BOL',\n",
       "   'iso2Code': 'BO',\n",
       "   'name': 'Bolivia',\n",
       "   'region': {'id': 'LCN',\n",
       "    'iso2code': 'ZJ',\n",
       "    'value': 'Latin America & Caribbean '},\n",
       "   'adminregion': {'id': 'LAC',\n",
       "    'iso2code': 'XJ',\n",
       "    'value': 'Latin America & Caribbean (excluding high income)'},\n",
       "   'incomeLevel': {'id': 'LMC',\n",
       "    'iso2code': 'XN',\n",
       "    'value': 'Lower middle income'},\n",
       "   'lendingType': {'id': 'IBD', 'iso2code': 'XF', 'value': 'IBRD'},\n",
       "   'capitalCity': 'La Paz',\n",
       "   'longitude': '-66.1936',\n",
       "   'latitude': '-13.9908'},\n",
       "  {'id': 'BRA',\n",
       "   'iso2Code': 'BR',\n",
       "   'name': 'Brazil',\n",
       "   'region': {'id': 'LCN',\n",
       "    'iso2code': 'ZJ',\n",
       "    'value': 'Latin America & Caribbean '},\n",
       "   'adminregion': {'id': 'LAC',\n",
       "    'iso2code': 'XJ',\n",
       "    'value': 'Latin America & Caribbean (excluding high income)'},\n",
       "   'incomeLevel': {'id': 'UMC',\n",
       "    'iso2code': 'XT',\n",
       "    'value': 'Upper middle income'},\n",
       "   'lendingType': {'id': 'IBD', 'iso2code': 'XF', 'value': 'IBRD'},\n",
       "   'capitalCity': 'Brasilia',\n",
       "   'longitude': '-47.9292',\n",
       "   'latitude': '-15.7801'},\n",
       "  {'id': 'BRB',\n",
       "   'iso2Code': 'BB',\n",
       "   'name': 'Barbados',\n",
       "   'region': {'id': 'LCN',\n",
       "    'iso2code': 'ZJ',\n",
       "    'value': 'Latin America & Caribbean '},\n",
       "   'adminregion': {'id': '', 'iso2code': '', 'value': ''},\n",
       "   'incomeLevel': {'id': 'HIC', 'iso2code': 'XD', 'value': 'High income'},\n",
       "   'lendingType': {'id': 'LNX', 'iso2code': 'XX', 'value': 'Not classified'},\n",
       "   'capitalCity': 'Bridgetown',\n",
       "   'longitude': '-59.6105',\n",
       "   'latitude': '13.0935'},\n",
       "  {'id': 'BRN',\n",
       "   'iso2Code': 'BN',\n",
       "   'name': 'Brunei Darussalam',\n",
       "   'region': {'id': 'EAS', 'iso2code': 'Z4', 'value': 'East Asia & Pacific'},\n",
       "   'adminregion': {'id': '', 'iso2code': '', 'value': ''},\n",
       "   'incomeLevel': {'id': 'HIC', 'iso2code': 'XD', 'value': 'High income'},\n",
       "   'lendingType': {'id': 'LNX', 'iso2code': 'XX', 'value': 'Not classified'},\n",
       "   'capitalCity': 'Bandar Seri Begawan',\n",
       "   'longitude': '114.946',\n",
       "   'latitude': '4.94199'},\n",
       "  {'id': 'BSS',\n",
       "   'iso2Code': 'B6',\n",
       "   'name': 'Sub-Saharan Africa (IBRD-only countries)',\n",
       "   'region': {'id': 'NA', 'iso2code': 'NA', 'value': 'Aggregates'},\n",
       "   'adminregion': {'id': '', 'iso2code': '', 'value': ''},\n",
       "   'incomeLevel': {'id': 'NA', 'iso2code': 'NA', 'value': 'Aggregates'},\n",
       "   'lendingType': {'id': '', 'iso2code': '', 'value': 'Aggregates'},\n",
       "   'capitalCity': '',\n",
       "   'longitude': '',\n",
       "   'latitude': ''},\n",
       "  {'id': 'BTN',\n",
       "   'iso2Code': 'BT',\n",
       "   'name': 'Bhutan',\n",
       "   'region': {'id': 'SAS', 'iso2code': '8S', 'value': 'South Asia'},\n",
       "   'adminregion': {'id': 'SAS', 'iso2code': '8S', 'value': 'South Asia'},\n",
       "   'incomeLevel': {'id': 'LMC',\n",
       "    'iso2code': 'XN',\n",
       "    'value': 'Lower middle income'},\n",
       "   'lendingType': {'id': 'IDX', 'iso2code': 'XI', 'value': 'IDA'},\n",
       "   'capitalCity': 'Thimphu',\n",
       "   'longitude': '89.6177',\n",
       "   'latitude': '27.5768'},\n",
       "  {'id': 'BWA',\n",
       "   'iso2Code': 'BW',\n",
       "   'name': 'Botswana',\n",
       "   'region': {'id': 'SSF', 'iso2code': 'ZG', 'value': 'Sub-Saharan Africa '},\n",
       "   'adminregion': {'id': 'SSA',\n",
       "    'iso2code': 'ZF',\n",
       "    'value': 'Sub-Saharan Africa (excluding high income)'},\n",
       "   'incomeLevel': {'id': 'UMC',\n",
       "    'iso2code': 'XT',\n",
       "    'value': 'Upper middle income'},\n",
       "   'lendingType': {'id': 'IBD', 'iso2code': 'XF', 'value': 'IBRD'},\n",
       "   'capitalCity': 'Gaborone',\n",
       "   'longitude': '25.9201',\n",
       "   'latitude': '-24.6544'},\n",
       "  {'id': 'CAA',\n",
       "   'iso2Code': 'C9',\n",
       "   'name': 'Sub-Saharan Africa (IFC classification)',\n",
       "   'region': {'id': 'NA', 'iso2code': 'NA', 'value': 'Aggregates'},\n",
       "   'adminregion': {'id': '', 'iso2code': '', 'value': ''},\n",
       "   'incomeLevel': {'id': 'NA', 'iso2code': 'NA', 'value': 'Aggregates'},\n",
       "   'lendingType': {'id': '', 'iso2code': '', 'value': 'Aggregates'},\n",
       "   'capitalCity': '',\n",
       "   'longitude': '',\n",
       "   'latitude': ''},\n",
       "  {'id': 'CAF',\n",
       "   'iso2Code': 'CF',\n",
       "   'name': 'Central African Republic',\n",
       "   'region': {'id': 'SSF', 'iso2code': 'ZG', 'value': 'Sub-Saharan Africa '},\n",
       "   'adminregion': {'id': 'SSA',\n",
       "    'iso2code': 'ZF',\n",
       "    'value': 'Sub-Saharan Africa (excluding high income)'},\n",
       "   'incomeLevel': {'id': 'LIC', 'iso2code': 'XM', 'value': 'Low income'},\n",
       "   'lendingType': {'id': 'IDX', 'iso2code': 'XI', 'value': 'IDA'},\n",
       "   'capitalCity': 'Bangui',\n",
       "   'longitude': '21.6407',\n",
       "   'latitude': '5.63056'},\n",
       "  {'id': 'CAN',\n",
       "   'iso2Code': 'CA',\n",
       "   'name': 'Canada',\n",
       "   'region': {'id': 'NAC', 'iso2code': 'XU', 'value': 'North America'},\n",
       "   'adminregion': {'id': '', 'iso2code': '', 'value': ''},\n",
       "   'incomeLevel': {'id': 'HIC', 'iso2code': 'XD', 'value': 'High income'},\n",
       "   'lendingType': {'id': 'LNX', 'iso2code': 'XX', 'value': 'Not classified'},\n",
       "   'capitalCity': 'Ottawa',\n",
       "   'longitude': '-75.6919',\n",
       "   'latitude': '45.4215'},\n",
       "  {'id': 'CEA',\n",
       "   'iso2Code': 'C4',\n",
       "   'name': 'East Asia and the Pacific (IFC classification)',\n",
       "   'region': {'id': 'NA', 'iso2code': 'NA', 'value': 'Aggregates'},\n",
       "   'adminregion': {'id': '', 'iso2code': '', 'value': ''},\n",
       "   'incomeLevel': {'id': 'NA', 'iso2code': 'NA', 'value': 'Aggregates'},\n",
       "   'lendingType': {'id': '', 'iso2code': '', 'value': 'Aggregates'},\n",
       "   'capitalCity': '',\n",
       "   'longitude': '',\n",
       "   'latitude': ''},\n",
       "  {'id': 'CEB',\n",
       "   'iso2Code': 'B8',\n",
       "   'name': 'Central Europe and the Baltics',\n",
       "   'region': {'id': 'NA', 'iso2code': 'NA', 'value': 'Aggregates'},\n",
       "   'adminregion': {'id': '', 'iso2code': '', 'value': ''},\n",
       "   'incomeLevel': {'id': 'NA', 'iso2code': 'NA', 'value': 'Aggregates'},\n",
       "   'lendingType': {'id': '', 'iso2code': '', 'value': 'Aggregates'},\n",
       "   'capitalCity': '',\n",
       "   'longitude': '',\n",
       "   'latitude': ''},\n",
       "  {'id': 'CEU',\n",
       "   'iso2Code': 'C5',\n",
       "   'name': 'Europe and Central Asia (IFC classification)',\n",
       "   'region': {'id': 'NA', 'iso2code': 'NA', 'value': 'Aggregates'},\n",
       "   'adminregion': {'id': '', 'iso2code': '', 'value': ''},\n",
       "   'incomeLevel': {'id': 'NA', 'iso2code': 'NA', 'value': 'Aggregates'},\n",
       "   'lendingType': {'id': '', 'iso2code': '', 'value': 'Aggregates'},\n",
       "   'capitalCity': '',\n",
       "   'longitude': '',\n",
       "   'latitude': ''},\n",
       "  {'id': 'CHE',\n",
       "   'iso2Code': 'CH',\n",
       "   'name': 'Switzerland',\n",
       "   'region': {'id': 'ECS', 'iso2code': 'Z7', 'value': 'Europe & Central Asia'},\n",
       "   'adminregion': {'id': '', 'iso2code': '', 'value': ''},\n",
       "   'incomeLevel': {'id': 'HIC', 'iso2code': 'XD', 'value': 'High income'},\n",
       "   'lendingType': {'id': 'LNX', 'iso2code': 'XX', 'value': 'Not classified'},\n",
       "   'capitalCity': 'Bern',\n",
       "   'longitude': '7.44821',\n",
       "   'latitude': '46.948'},\n",
       "  {'id': 'CHI',\n",
       "   'iso2Code': 'JG',\n",
       "   'name': 'Channel Islands',\n",
       "   'region': {'id': 'ECS', 'iso2code': 'Z7', 'value': 'Europe & Central Asia'},\n",
       "   'adminregion': {'id': '', 'iso2code': '', 'value': ''},\n",
       "   'incomeLevel': {'id': 'HIC', 'iso2code': 'XD', 'value': 'High income'},\n",
       "   'lendingType': {'id': 'LNX', 'iso2code': 'XX', 'value': 'Not classified'},\n",
       "   'capitalCity': '',\n",
       "   'longitude': '',\n",
       "   'latitude': ''},\n",
       "  {'id': 'CHL',\n",
       "   'iso2Code': 'CL',\n",
       "   'name': 'Chile',\n",
       "   'region': {'id': 'LCN',\n",
       "    'iso2code': 'ZJ',\n",
       "    'value': 'Latin America & Caribbean '},\n",
       "   'adminregion': {'id': '', 'iso2code': '', 'value': ''},\n",
       "   'incomeLevel': {'id': 'HIC', 'iso2code': 'XD', 'value': 'High income'},\n",
       "   'lendingType': {'id': 'IBD', 'iso2code': 'XF', 'value': 'IBRD'},\n",
       "   'capitalCity': 'Santiago',\n",
       "   'longitude': '-70.6475',\n",
       "   'latitude': '-33.475'}]]"
      ]
     },
     "execution_count": 3,
     "metadata": {},
     "output_type": "execute_result"
    }
   ],
   "source": [
    "datos_banco_mundial"
   ]
  },
  {
   "cell_type": "code",
   "execution_count": 4,
   "metadata": {},
   "outputs": [
    {
     "name": "stdout",
     "output_type": "stream",
     "text": [
      "Tipo de objeto en la segunda dimensión:  <class 'list'>\n",
      "Largo de la segunda dimensión:  50\n"
     ]
    }
   ],
   "source": [
    "print(\"Tipo de objeto en la segunda dimensión: \", type(datos_banco_mundial[1]))\n",
    "print(\"Largo de la segunda dimensión: \", len(datos_banco_mundial[1]))"
   ]
  },
  {
   "cell_type": "markdown",
   "metadata": {},
   "source": [
    "Ahora accedemos al primer elemento. Sabemos que este corresponderá al registro de Aruba. Si revisamos su estructura, observaremos que este es un diccionario compuesto por algunas claves asociadas con valores únicos, pero otras llaves tendrán como valores a otros diccionarios."
   ]
  },
  {
   "cell_type": "code",
   "execution_count": 6,
   "metadata": {},
   "outputs": [
    {
     "data": {
      "text/plain": [
       "{'id': 'ABW',\n",
       " 'iso2Code': 'AW',\n",
       " 'name': 'Aruba',\n",
       " 'region': {'id': 'LCN',\n",
       "  'iso2code': 'ZJ',\n",
       "  'value': 'Latin America & Caribbean '},\n",
       " 'adminregion': {'id': '', 'iso2code': '', 'value': ''},\n",
       " 'incomeLevel': {'id': 'HIC', 'iso2code': 'XD', 'value': 'High income'},\n",
       " 'lendingType': {'id': 'LNX', 'iso2code': 'XX', 'value': 'Not classified'},\n",
       " 'capitalCity': 'Oranjestad',\n",
       " 'longitude': '-70.0167',\n",
       " 'latitude': '12.5167'}"
      ]
     },
     "execution_count": 6,
     "metadata": {},
     "output_type": "execute_result"
    }
   ],
   "source": [
    "aruba = datos_banco_mundial[1][0]\n",
    "\n",
    "aruba"
   ]
  },
  {
   "cell_type": "markdown",
   "metadata": {},
   "source": [
    "Para ingresar a los valores asociados a las llaves, simplemente utilizando la notación `diccionario[llave]` lo lograremos. Si deseamos ingresar al valor asociado a una llave de un diccionario el cual está asociado a otra llave, podemos expandir el ejercicio a `diccionario[llave][llave]`."
   ]
  },
  {
   "cell_type": "code",
   "execution_count": 7,
   "metadata": {},
   "outputs": [
    {
     "name": "stdout",
     "output_type": "stream",
     "text": [
      "Nombre:  Aruba\n",
      "Capital:  Oranjestad\n"
     ]
    }
   ],
   "source": [
    "print(\"Nombre: \", aruba['name']) \n",
    "print(\"Capital: \", aruba['capitalCity'])"
   ]
  },
  {
   "cell_type": "code",
   "execution_count": 8,
   "metadata": {},
   "outputs": [
    {
     "name": "stdout",
     "output_type": "stream",
     "text": [
      "Clasificación PIB:  High income\n",
      "Región Geográfica:  Latin America & Caribbean \n"
     ]
    }
   ],
   "source": [
    "print(\"Clasificación PIB: \", aruba['incomeLevel']['value']) \n",
    "print(\"Región Geográfica: \", aruba['region']['value'])"
   ]
  },
  {
   "cell_type": "markdown",
   "metadata": {},
   "source": [
    "### **`Nuestro primer \"MapReduce\"`**"
   ]
  },
  {
   "cell_type": "markdown",
   "metadata": {},
   "source": [
    "Más adelante en el curso aprenderemos cómo implementar código de manera paralelizada con Hadoop y Spark. Pero por el momento, quedémonos con la implementación de un map y reduce primitivo `para contar la cantidad de registros asociados a cada región`. Podemos dividir la tarea en una serie de pasos:"
   ]
  },
  {
   "cell_type": "markdown",
   "metadata": {},
   "source": [
    "#### **1 - Generar una función a mapear**"
   ]
  },
  {
   "cell_type": "markdown",
   "metadata": {},
   "source": [
    "Nuestra primera tarea es identificar cómo acceder a la región asociada a cada registro. Esto lo podemos lograr con la siguiente expresión:"
   ]
  },
  {
   "cell_type": "code",
   "execution_count": 9,
   "metadata": {},
   "outputs": [
    {
     "data": {
      "text/plain": [
       "'Latin America & Caribbean '"
      ]
     },
     "execution_count": 9,
     "metadata": {},
     "output_type": "execute_result"
    }
   ],
   "source": [
    "aruba['region']['value']"
   ]
  },
  {
   "cell_type": "markdown",
   "metadata": {},
   "source": [
    "Ya identificando cómo acceder a un valor específico almacenado en nuestro json, podemos envolver esta expresión en una función y posteriormente pasarla mediante el método map."
   ]
  },
  {
   "cell_type": "code",
   "execution_count": 10,
   "metadata": {},
   "outputs": [],
   "source": [
    "def mapping_function(json_entry): \n",
    "    return json_entry['region']['value']"
   ]
  },
  {
   "cell_type": "code",
   "execution_count": 15,
   "metadata": {},
   "outputs": [
    {
     "data": {
      "text/plain": [
       "['Latin America & Caribbean ',\n",
       " 'Aggregates',\n",
       " 'South Asia',\n",
       " 'Aggregates',\n",
       " 'Aggregates',\n",
       " 'Sub-Saharan Africa ',\n",
       " 'Europe & Central Asia',\n",
       " 'Europe & Central Asia',\n",
       " 'Aggregates',\n",
       " 'Middle East & North Africa',\n",
       " 'Latin America & Caribbean ',\n",
       " 'Europe & Central Asia',\n",
       " 'East Asia & Pacific',\n",
       " 'Latin America & Caribbean ',\n",
       " 'East Asia & Pacific',\n",
       " 'Europe & Central Asia',\n",
       " 'Europe & Central Asia',\n",
       " 'Sub-Saharan Africa ',\n",
       " 'Aggregates',\n",
       " 'Aggregates',\n",
       " 'Europe & Central Asia',\n",
       " 'Sub-Saharan Africa ',\n",
       " 'Sub-Saharan Africa ',\n",
       " 'South Asia',\n",
       " 'Europe & Central Asia',\n",
       " 'Aggregates',\n",
       " 'Middle East & North Africa',\n",
       " 'Latin America & Caribbean ',\n",
       " 'Europe & Central Asia',\n",
       " 'Aggregates',\n",
       " 'Europe & Central Asia',\n",
       " 'Latin America & Caribbean ',\n",
       " 'Aggregates',\n",
       " 'North America',\n",
       " 'Latin America & Caribbean ',\n",
       " 'Latin America & Caribbean ',\n",
       " 'Latin America & Caribbean ',\n",
       " 'East Asia & Pacific',\n",
       " 'Aggregates',\n",
       " 'South Asia',\n",
       " 'Sub-Saharan Africa ',\n",
       " 'Aggregates',\n",
       " 'Sub-Saharan Africa ',\n",
       " 'North America',\n",
       " 'Aggregates',\n",
       " 'Aggregates',\n",
       " 'Aggregates',\n",
       " 'Europe & Central Asia',\n",
       " 'Europe & Central Asia',\n",
       " 'Latin America & Caribbean ']"
      ]
     },
     "execution_count": 15,
     "metadata": {},
     "output_type": "execute_result"
    }
   ],
   "source": [
    "[mapping_function(i) for i in datos_banco_mundial[1]]"
   ]
  },
  {
   "cell_type": "markdown",
   "metadata": {},
   "source": [
    "Uno de los puntos a considerar es el hecho que esta función opera a nivel de una lista de jsons, la expresión a implementar debe estar contextualizada en función al elemento que aplicaremos el map."
   ]
  },
  {
   "cell_type": "code",
   "execution_count": 16,
   "metadata": {},
   "outputs": [],
   "source": [
    "# no está de más recordar que debemos envolver nuestro map en un list \n",
    "region_ocurrence = list(map(mapping_function, datos_banco_mundial[1]))"
   ]
  },
  {
   "cell_type": "code",
   "execution_count": 17,
   "metadata": {},
   "outputs": [
    {
     "data": {
      "text/plain": [
       "['Latin America & Caribbean ',\n",
       " 'Aggregates',\n",
       " 'South Asia',\n",
       " 'Aggregates',\n",
       " 'Aggregates']"
      ]
     },
     "execution_count": 17,
     "metadata": {},
     "output_type": "execute_result"
    }
   ],
   "source": [
    "# extraigamos las primeras 5 observaciones \n",
    "region_ocurrence[:5]"
   ]
  },
  {
   "cell_type": "markdown",
   "metadata": {},
   "source": [
    "#### **2 - Contar la cantidad de ocurrencias**"
   ]
  },
  {
   "cell_type": "markdown",
   "metadata": {},
   "source": [
    "Para contar la cantidad de ocurrencias de cada región debemos identificar las categorías únicas. Para ello podemos utilizar el método set que nos devolverá una colección no ordenada de elementos únicos."
   ]
  },
  {
   "cell_type": "code",
   "execution_count": 18,
   "metadata": {},
   "outputs": [
    {
     "name": "stdout",
     "output_type": "stream",
     "text": [
      "{'Sub-Saharan Africa ', 'North America', 'Middle East & North Africa', 'East Asia & Pacific', 'Europe & Central Asia', 'Aggregates', 'South Asia', 'Latin America & Caribbean '}\n"
     ]
    }
   ],
   "source": [
    "unique_elements = set(region_ocurrence) \n",
    "print(unique_elements)"
   ]
  },
  {
   "cell_type": "markdown",
   "metadata": {},
   "source": [
    "En base a este objeto creado con `set`, estamos habilitados para contar la cantidad de ocurrencias de una palabra en la lista con `region_ocurrence.count('palabra')`. Si aplicamos esta expresión en una compresión de lista con `unique_elements` como un iterable:"
   ]
  },
  {
   "cell_type": "code",
   "execution_count": 19,
   "metadata": {},
   "outputs": [
    {
     "data": {
      "text/plain": [
       "[6, 2, 2, 3, 11, 14, 3, 9]"
      ]
     },
     "execution_count": 19,
     "metadata": {},
     "output_type": "execute_result"
    }
   ],
   "source": [
    "[region_ocurrence.count(i) for i in unique_elements]"
   ]
  },
  {
   "cell_type": "markdown",
   "metadata": {},
   "source": [
    "Por último, podemos agregar el nombre de la región dentro de un diccionario:"
   ]
  },
  {
   "cell_type": "code",
   "execution_count": 20,
   "metadata": {},
   "outputs": [
    {
     "data": {
      "text/plain": [
       "[{'Sub-Saharan Africa ': 6},\n",
       " {'North America': 2},\n",
       " {'Middle East & North Africa': 2},\n",
       " {'East Asia & Pacific': 3},\n",
       " {'Europe & Central Asia': 11},\n",
       " {'Aggregates': 14},\n",
       " {'South Asia': 3},\n",
       " {'Latin America & Caribbean ': 9}]"
      ]
     },
     "execution_count": 20,
     "metadata": {},
     "output_type": "execute_result"
    }
   ],
   "source": [
    "[{i: region_ocurrence.count(i)} for i in unique_elements]"
   ]
  },
  {
   "cell_type": "markdown",
   "metadata": {},
   "source": [
    "De manera alternativa, podemos implementar la clase `Counter` en la librería `collections` para llegar a un resultado similar."
   ]
  },
  {
   "cell_type": "code",
   "execution_count": 21,
   "metadata": {},
   "outputs": [
    {
     "data": {
      "text/plain": [
       "Counter({'Latin America & Caribbean ': 9,\n",
       "         'Aggregates': 14,\n",
       "         'South Asia': 3,\n",
       "         'Sub-Saharan Africa ': 6,\n",
       "         'Europe & Central Asia': 11,\n",
       "         'Middle East & North Africa': 2,\n",
       "         'East Asia & Pacific': 3,\n",
       "         'North America': 2})"
      ]
     },
     "execution_count": 21,
     "metadata": {},
     "output_type": "execute_result"
    }
   ],
   "source": [
    "from collections import Counter \n",
    "\n",
    "Counter(region_ocurrence)"
   ]
  },
  {
   "cell_type": "markdown",
   "metadata": {},
   "source": [
    "### **`Transformando el json a un dataframe de pandas`**"
   ]
  },
  {
   "cell_type": "markdown",
   "metadata": {},
   "source": [
    "Expandamos los ejercicios con funciones vectorizadas, ahora para convertir el .json a un dataframe de pandas. En este DataFrame vamos a preservar el nombre del país, su capital, la región geográfica, la longitud y latitud de la ciudad, la clasificación de ingreso y si ha solicitado fondos al banco.\n",
    "\n",
    "El primer paso es desarrollar nuestra función a mapear. Un aspecto a considerar es que esta debe estar orientada a devolver una lista con todos los resultados"
   ]
  },
  {
   "cell_type": "code",
   "execution_count": 22,
   "metadata": {},
   "outputs": [],
   "source": [
    "def json_to_row(json_entry): \n",
    "    country = json_entry['name']\n",
    "    capital = json_entry['capitalCity'] \n",
    "    region = json_entry['region']['value'] \n",
    "    longitude = json_entry['longitude'] \n",
    "    latitude = json_entry['latitude']\n",
    "    income = json_entry['incomeLevel']['value'] \n",
    "    lending = json_entry['lendingType']['value']\n",
    "\n",
    "    return [country, capital, region, longitude, latitude, income, lending]"
   ]
  },
  {
   "cell_type": "markdown",
   "metadata": {},
   "source": [
    "Tomemos por ejemplo el objeto `aruba` que contiene un `json` con los datos."
   ]
  },
  {
   "cell_type": "code",
   "execution_count": 23,
   "metadata": {},
   "outputs": [
    {
     "data": {
      "text/plain": [
       "['Aruba',\n",
       " 'Oranjestad',\n",
       " 'Latin America & Caribbean ',\n",
       " '-70.0167',\n",
       " '12.5167',\n",
       " 'High income',\n",
       " 'Not classified']"
      ]
     },
     "execution_count": 23,
     "metadata": {},
     "output_type": "execute_result"
    }
   ],
   "source": [
    "json_to_row(aruba)"
   ]
  },
  {
   "cell_type": "markdown",
   "metadata": {},
   "source": [
    "Con nuestra función testeada en un registro específico, ahora podemos mapearla en la lista de los datos. El resultado será:"
   ]
  },
  {
   "cell_type": "code",
   "execution_count": 24,
   "metadata": {},
   "outputs": [],
   "source": [
    "import pandas as pd \n",
    "\n",
    "datos_banco_mundial_df = pd.DataFrame(list(map(json_to_row, datos_banco_mundial[1])))"
   ]
  },
  {
   "cell_type": "code",
   "execution_count": 25,
   "metadata": {},
   "outputs": [
    {
     "data": {
      "text/html": [
       "<div>\n",
       "<style scoped>\n",
       "    .dataframe tbody tr th:only-of-type {\n",
       "        vertical-align: middle;\n",
       "    }\n",
       "\n",
       "    .dataframe tbody tr th {\n",
       "        vertical-align: top;\n",
       "    }\n",
       "\n",
       "    .dataframe thead th {\n",
       "        text-align: right;\n",
       "    }\n",
       "</style>\n",
       "<table border=\"1\" class=\"dataframe\">\n",
       "  <thead>\n",
       "    <tr style=\"text-align: right;\">\n",
       "      <th></th>\n",
       "      <th>0</th>\n",
       "      <th>1</th>\n",
       "      <th>2</th>\n",
       "      <th>3</th>\n",
       "      <th>4</th>\n",
       "      <th>5</th>\n",
       "      <th>6</th>\n",
       "    </tr>\n",
       "  </thead>\n",
       "  <tbody>\n",
       "    <tr>\n",
       "      <th>2</th>\n",
       "      <td>Afghanistan</td>\n",
       "      <td>Kabul</td>\n",
       "      <td>South Asia</td>\n",
       "      <td>69.1761</td>\n",
       "      <td>34.5228</td>\n",
       "      <td>Low income</td>\n",
       "      <td>IDA</td>\n",
       "    </tr>\n",
       "    <tr>\n",
       "      <th>7</th>\n",
       "      <td>Andorra</td>\n",
       "      <td>Andorra la Vella</td>\n",
       "      <td>Europe &amp; Central Asia</td>\n",
       "      <td>1.5218</td>\n",
       "      <td>42.5075</td>\n",
       "      <td>High income</td>\n",
       "      <td>Not classified</td>\n",
       "    </tr>\n",
       "    <tr>\n",
       "      <th>17</th>\n",
       "      <td>Burundi</td>\n",
       "      <td>Bujumbura</td>\n",
       "      <td>Sub-Saharan Africa</td>\n",
       "      <td>29.3639</td>\n",
       "      <td>-3.3784</td>\n",
       "      <td>Low income</td>\n",
       "      <td>IDA</td>\n",
       "    </tr>\n",
       "    <tr>\n",
       "      <th>37</th>\n",
       "      <td>Brunei Darussalam</td>\n",
       "      <td>Bandar Seri Begawan</td>\n",
       "      <td>East Asia &amp; Pacific</td>\n",
       "      <td>114.946</td>\n",
       "      <td>4.94199</td>\n",
       "      <td>High income</td>\n",
       "      <td>Not classified</td>\n",
       "    </tr>\n",
       "    <tr>\n",
       "      <th>42</th>\n",
       "      <td>Central African Republic</td>\n",
       "      <td>Bangui</td>\n",
       "      <td>Sub-Saharan Africa</td>\n",
       "      <td>21.6407</td>\n",
       "      <td>5.63056</td>\n",
       "      <td>Low income</td>\n",
       "      <td>IDA</td>\n",
       "    </tr>\n",
       "  </tbody>\n",
       "</table>\n",
       "</div>"
      ],
      "text/plain": [
       "                           0                    1                      2  \\\n",
       "2                Afghanistan                Kabul             South Asia   \n",
       "7                    Andorra     Andorra la Vella  Europe & Central Asia   \n",
       "17                   Burundi            Bujumbura    Sub-Saharan Africa    \n",
       "37         Brunei Darussalam  Bandar Seri Begawan    East Asia & Pacific   \n",
       "42  Central African Republic               Bangui    Sub-Saharan Africa    \n",
       "\n",
       "          3        4            5               6  \n",
       "2   69.1761  34.5228   Low income             IDA  \n",
       "7    1.5218  42.5075  High income  Not classified  \n",
       "17  29.3639  -3.3784   Low income             IDA  \n",
       "37  114.946  4.94199  High income  Not classified  \n",
       "42  21.6407  5.63056   Low income             IDA  "
      ]
     },
     "execution_count": 25,
     "metadata": {},
     "output_type": "execute_result"
    }
   ],
   "source": [
    "datos_banco_mundial_df.sample(5)"
   ]
  }
 ],
 "metadata": {
  "kernelspec": {
   "display_name": "base",
   "language": "python",
   "name": "python3"
  },
  "language_info": {
   "codemirror_mode": {
    "name": "ipython",
    "version": 3
   },
   "file_extension": ".py",
   "mimetype": "text/x-python",
   "name": "python",
   "nbconvert_exporter": "python",
   "pygments_lexer": "ipython3",
   "version": "3.9.5"
  }
 },
 "nbformat": 4,
 "nbformat_minor": 2
}
