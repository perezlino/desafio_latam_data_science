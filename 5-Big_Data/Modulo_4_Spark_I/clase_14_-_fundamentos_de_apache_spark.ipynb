{
 "cells": [
  {
   "cell_type": "markdown",
   "metadata": {},
   "source": [
    "### **Clase 14 - Fundamentos de Apache Spark**"
   ]
  },
  {
   "cell_type": "markdown",
   "metadata": {},
   "source": [
    "### **`Nuestra primera incursión en Spark`**"
   ]
  },
  {
   "cell_type": "markdown",
   "metadata": {},
   "source": [
    "Toda aplicación necesita declarar objeto de configuración y un objeto de contexto. Para generarlos desde `pyspark`, debemos importar `from pyspark import SparkConf, SparkContext`. Con la primera clase importada, `SparkConf` vamos a configurar los elementos de conexión. Para este caso estaremos trabajando con un `master` que tendrá 4 workers en local, definido por `setMaster(\"local[4]\")`. Posteriormente trabajaremos con Spark en el contexto de clusters, para lo cual deberemos cambiar la línea setMaster a `setMaster(\"yarn\")`. Para identificar las tareas, es bueno asignar de manera explícita el nombre de la aplicación, en este caso, `setAppName('spark-101-adl')`."
   ]
  },
  {
   "cell_type": "code",
   "execution_count": 4,
   "metadata": {},
   "outputs": [
    {
     "data": {
      "text/plain": [
       "<pyspark.conf.SparkConf at 0x1879a146ca0>"
      ]
     },
     "execution_count": 4,
     "metadata": {},
     "output_type": "execute_result"
    }
   ],
   "source": [
    "from pyspark import SparkConf, SparkContext\n",
    "\n",
    "spark_conf = SparkConf().setMaster('local[1]').setAppName('spark-101-adl')\n",
    "\n",
    "spark_conf"
   ]
  },
  {
   "cell_type": "markdown",
   "metadata": {},
   "source": [
    "Este objeto que contiene la configuración específica lo vamos a integrar con la clase `SparkContext`, la cual nos generará un objeto que establece la comunicación con Spark. La convención indica que el nombre del objeto `SparkContext` va a ser `sc`. Si imprimimos su contenido, veremos que reporta los parámetros configurados en nuestro objeto `spark_conf`."
   ]
  }
 ],
 "metadata": {
  "kernelspec": {
   "display_name": "base",
   "language": "python",
   "name": "python3"
  },
  "language_info": {
   "codemirror_mode": {
    "name": "ipython",
    "version": 3
   },
   "file_extension": ".py",
   "mimetype": "text/x-python",
   "name": "python",
   "nbconvert_exporter": "python",
   "pygments_lexer": "ipython3",
   "version": "3.9.5"
  }
 },
 "nbformat": 4,
 "nbformat_minor": 2
}
