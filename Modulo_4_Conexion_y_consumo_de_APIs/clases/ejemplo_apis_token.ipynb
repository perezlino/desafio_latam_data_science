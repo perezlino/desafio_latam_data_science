{
 "cells": [
  {
   "cell_type": "markdown",
   "metadata": {},
   "source": [
    "### **API Token**"
   ]
  },
  {
   "cell_type": "markdown",
   "metadata": {},
   "source": [
    "#### **`Ejemplo 1`**"
   ]
  },
  {
   "cell_type": "code",
   "execution_count": 3,
   "metadata": {},
   "outputs": [
    {
     "name": "stdout",
     "output_type": "stream",
     "text": [
      "code 200\n",
      "\n"
     ]
    }
   ],
   "source": [
    "import requests\n",
    "import json\n",
    "\n",
    "app_id = \"3410023e\"\n",
    "app_key = \"6f82faaee87b2b823916b58f72f648b6\"\n",
    "language = \"en-gb\"\n",
    "word_id = \"hello\"\n",
    "\n",
    "url = \"https://od-api.oxforddictionaries.com:443/api/v2/entries/\" + language + \"/\" + word_id.lower()\n",
    "\n",
    "# Agregamos el token en \"headers\"\n",
    "response = requests.get(url, headers={\"app_id\": app_id, \"app_key\": app_key})\n",
    "\n",
    "print(\"code {}\\n\".format(response.status_code))"
   ]
  },
  {
   "cell_type": "code",
   "execution_count": 5,
   "metadata": {},
   "outputs": [
    {
     "data": {
      "text/plain": [
       "{'id': 'hello',\n",
       " 'metadata': {'operation': 'retrieve',\n",
       "  'provider': 'Oxford University Press',\n",
       "  'schema': 'RetrieveEntry'},\n",
       " 'results': [{'id': 'hello',\n",
       "   'language': 'en-gb',\n",
       "   'lexicalEntries': [{'entries': [{'etymologies': ['early 19th century: variant of earlier hollo; related to holla'],\n",
       "       'pronunciations': [{'audioFile': 'https://audio.oxforddictionaries.com/en/mp3/hello__gb_1.mp3',\n",
       "         'dialects': ['British English'],\n",
       "         'phoneticNotation': 'IPA',\n",
       "         'phoneticSpelling': 'həˈləʊ'},\n",
       "        {'audioFile': 'https://audio.oxforddictionaries.com/en/mp3/hello__gb_2.mp3',\n",
       "         'dialects': ['British English'],\n",
       "         'phoneticNotation': 'IPA',\n",
       "         'phoneticSpelling': 'hɛˈləʊ'}],\n",
       "       'senses': [{'definitions': ['used as a greeting or to begin a phone conversation'],\n",
       "         'examples': [{'text': 'hello there, Katie!'}],\n",
       "         'id': 'm_en_gbus0460730.012',\n",
       "         'shortDefinitions': ['used as greeting'],\n",
       "         'subsenses': [{'definitions': ['used to express surprise'],\n",
       "           'examples': [{'text': \"hello, what's all this then?\"}],\n",
       "           'id': 'm_en_gbus0460730.017',\n",
       "           'regions': [{'id': 'british', 'text': 'British'}],\n",
       "           'shortDefinitions': ['used to express surprise']},\n",
       "          {'definitions': [\"used as a cry to attract someone's attention\"],\n",
       "           'examples': [{'text': '‘Hello below!’ he cried'}],\n",
       "           'id': 'm_en_gbus0460730.018',\n",
       "           'shortDefinitions': ['used attract attention']},\n",
       "          {'definitions': ['used informally to express sarcasm or anger'],\n",
       "           'examples': [{'text': 'Hello! Did you even get what the play was about?'}],\n",
       "           'id': 'm_en_gbus0460730.019',\n",
       "           'shortDefinitions': ['used informally to express sarcasm or anger']}]}],\n",
       "       'variantForms': [{'text': 'hallo'}, {'text': 'hullo'}]}],\n",
       "     'language': 'en-gb',\n",
       "     'lexicalCategory': {'id': 'interjection', 'text': 'Interjection'},\n",
       "     'text': 'hello'},\n",
       "    {'entries': [{'inflections': [{'grammaticalFeatures': [{'id': 'plural',\n",
       "           'text': 'Plural',\n",
       "           'type': 'Number'}],\n",
       "         'inflectedForm': 'hellos'}],\n",
       "       'pronunciations': [{'audioFile': 'https://audio.oxforddictionaries.com/en/mp3/hello__gb_1.mp3',\n",
       "         'dialects': ['British English'],\n",
       "         'phoneticNotation': 'IPA',\n",
       "         'phoneticSpelling': 'həˈləʊ'},\n",
       "        {'audioFile': 'https://audio.oxforddictionaries.com/en/mp3/hello__gb_2.mp3',\n",
       "         'dialects': ['British English'],\n",
       "         'phoneticNotation': 'IPA',\n",
       "         'phoneticSpelling': 'hɛˈləʊ'}],\n",
       "       'senses': [{'definitions': ['an utterance of ‘hello’; a greeting'],\n",
       "         'examples': [{'text': 'she was getting polite nods and hellos from people'}],\n",
       "         'id': 'm_en_gbus0460730.025',\n",
       "         'semanticClasses': [{'id': 'greeting', 'text': 'Greeting'}],\n",
       "         'shortDefinitions': ['utterance of ‘hello’'],\n",
       "         'synonyms': [{'language': 'en', 'text': 'greeting'},\n",
       "          {'language': 'en', 'text': 'welcome'},\n",
       "          {'language': 'en', 'text': 'salutation'},\n",
       "          {'language': 'en', 'text': 'saluting'},\n",
       "          {'language': 'en', 'text': 'hailing'},\n",
       "          {'language': 'en', 'text': 'address'},\n",
       "          {'language': 'en', 'text': 'hello'},\n",
       "          {'language': 'en', 'text': 'hallo'}],\n",
       "         'thesaurusLinks': [{'entry_id': 'acknowledgement',\n",
       "           'sense_id': 't_en_gb0000184.002'}]}],\n",
       "       'variantForms': [{'text': 'hallo'}, {'text': 'hullo'}]}],\n",
       "     'language': 'en-gb',\n",
       "     'lexicalCategory': {'id': 'noun', 'text': 'Noun'},\n",
       "     'text': 'hello'},\n",
       "    {'entries': [{'grammaticalFeatures': [{'id': 'intransitive',\n",
       "         'text': 'Intransitive',\n",
       "         'type': 'Subcategorization'}],\n",
       "       'inflections': [{'grammaticalFeatures': [{'id': 'intransitive',\n",
       "           'text': 'Intransitive',\n",
       "           'type': 'Subcategorization'}],\n",
       "         'inflectedForm': 'helloes'},\n",
       "        {'grammaticalFeatures': [{'id': 'intransitive',\n",
       "           'text': 'Intransitive',\n",
       "           'type': 'Subcategorization'}],\n",
       "         'inflectedForm': 'helloing'},\n",
       "        {'grammaticalFeatures': [{'id': 'intransitive',\n",
       "           'text': 'Intransitive',\n",
       "           'type': 'Subcategorization'}],\n",
       "         'inflectedForm': 'helloed'}],\n",
       "       'pronunciations': [{'audioFile': 'https://audio.oxforddictionaries.com/en/mp3/hello__gb_1.mp3',\n",
       "         'dialects': ['British English'],\n",
       "         'phoneticNotation': 'IPA',\n",
       "         'phoneticSpelling': 'həˈləʊ'},\n",
       "        {'audioFile': 'https://audio.oxforddictionaries.com/en/mp3/hello__gb_2.mp3',\n",
       "         'dialects': ['British English'],\n",
       "         'phoneticNotation': 'IPA',\n",
       "         'phoneticSpelling': 'hɛˈləʊ'}],\n",
       "       'senses': [{'definitions': ['say or shout ‘hello’'],\n",
       "         'examples': [{'text': 'I pressed the phone button and helloed'}],\n",
       "         'id': 'm_en_gbus0460730.034',\n",
       "         'shortDefinitions': ['say or shout ‘hello’']}],\n",
       "       'variantForms': [{'text': 'hallo'}, {'text': 'hullo'}]}],\n",
       "     'language': 'en-gb',\n",
       "     'lexicalCategory': {'id': 'verb', 'text': 'Verb'},\n",
       "     'text': 'hello'}],\n",
       "   'type': 'headword',\n",
       "   'word': 'hello'}],\n",
       " 'word': 'hello'}"
      ]
     },
     "execution_count": 5,
     "metadata": {},
     "output_type": "execute_result"
    }
   ],
   "source": [
    "r = json.loads(response.text)\n",
    "\n",
    "r"
   ]
  },
  {
   "cell_type": "code",
   "execution_count": 6,
   "metadata": {},
   "outputs": [
    {
     "data": {
      "text/plain": [
       "dict_keys(['id', 'metadata', 'results', 'word'])"
      ]
     },
     "execution_count": 6,
     "metadata": {},
     "output_type": "execute_result"
    }
   ],
   "source": [
    "r.keys()"
   ]
  },
  {
   "cell_type": "code",
   "execution_count": 8,
   "metadata": {},
   "outputs": [
    {
     "data": {
      "text/plain": [
       "list"
      ]
     },
     "execution_count": 8,
     "metadata": {},
     "output_type": "execute_result"
    }
   ],
   "source": [
    "type(r['results'])"
   ]
  },
  {
   "cell_type": "code",
   "execution_count": 7,
   "metadata": {},
   "outputs": [
    {
     "data": {
      "text/plain": [
       "[{'id': 'hello',\n",
       "  'language': 'en-gb',\n",
       "  'lexicalEntries': [{'entries': [{'etymologies': ['early 19th century: variant of earlier hollo; related to holla'],\n",
       "      'pronunciations': [{'audioFile': 'https://audio.oxforddictionaries.com/en/mp3/hello__gb_1.mp3',\n",
       "        'dialects': ['British English'],\n",
       "        'phoneticNotation': 'IPA',\n",
       "        'phoneticSpelling': 'həˈləʊ'},\n",
       "       {'audioFile': 'https://audio.oxforddictionaries.com/en/mp3/hello__gb_2.mp3',\n",
       "        'dialects': ['British English'],\n",
       "        'phoneticNotation': 'IPA',\n",
       "        'phoneticSpelling': 'hɛˈləʊ'}],\n",
       "      'senses': [{'definitions': ['used as a greeting or to begin a phone conversation'],\n",
       "        'examples': [{'text': 'hello there, Katie!'}],\n",
       "        'id': 'm_en_gbus0460730.012',\n",
       "        'shortDefinitions': ['used as greeting'],\n",
       "        'subsenses': [{'definitions': ['used to express surprise'],\n",
       "          'examples': [{'text': \"hello, what's all this then?\"}],\n",
       "          'id': 'm_en_gbus0460730.017',\n",
       "          'regions': [{'id': 'british', 'text': 'British'}],\n",
       "          'shortDefinitions': ['used to express surprise']},\n",
       "         {'definitions': [\"used as a cry to attract someone's attention\"],\n",
       "          'examples': [{'text': '‘Hello below!’ he cried'}],\n",
       "          'id': 'm_en_gbus0460730.018',\n",
       "          'shortDefinitions': ['used attract attention']},\n",
       "         {'definitions': ['used informally to express sarcasm or anger'],\n",
       "          'examples': [{'text': 'Hello! Did you even get what the play was about?'}],\n",
       "          'id': 'm_en_gbus0460730.019',\n",
       "          'shortDefinitions': ['used informally to express sarcasm or anger']}]}],\n",
       "      'variantForms': [{'text': 'hallo'}, {'text': 'hullo'}]}],\n",
       "    'language': 'en-gb',\n",
       "    'lexicalCategory': {'id': 'interjection', 'text': 'Interjection'},\n",
       "    'text': 'hello'},\n",
       "   {'entries': [{'inflections': [{'grammaticalFeatures': [{'id': 'plural',\n",
       "          'text': 'Plural',\n",
       "          'type': 'Number'}],\n",
       "        'inflectedForm': 'hellos'}],\n",
       "      'pronunciations': [{'audioFile': 'https://audio.oxforddictionaries.com/en/mp3/hello__gb_1.mp3',\n",
       "        'dialects': ['British English'],\n",
       "        'phoneticNotation': 'IPA',\n",
       "        'phoneticSpelling': 'həˈləʊ'},\n",
       "       {'audioFile': 'https://audio.oxforddictionaries.com/en/mp3/hello__gb_2.mp3',\n",
       "        'dialects': ['British English'],\n",
       "        'phoneticNotation': 'IPA',\n",
       "        'phoneticSpelling': 'hɛˈləʊ'}],\n",
       "      'senses': [{'definitions': ['an utterance of ‘hello’; a greeting'],\n",
       "        'examples': [{'text': 'she was getting polite nods and hellos from people'}],\n",
       "        'id': 'm_en_gbus0460730.025',\n",
       "        'semanticClasses': [{'id': 'greeting', 'text': 'Greeting'}],\n",
       "        'shortDefinitions': ['utterance of ‘hello’'],\n",
       "        'synonyms': [{'language': 'en', 'text': 'greeting'},\n",
       "         {'language': 'en', 'text': 'welcome'},\n",
       "         {'language': 'en', 'text': 'salutation'},\n",
       "         {'language': 'en', 'text': 'saluting'},\n",
       "         {'language': 'en', 'text': 'hailing'},\n",
       "         {'language': 'en', 'text': 'address'},\n",
       "         {'language': 'en', 'text': 'hello'},\n",
       "         {'language': 'en', 'text': 'hallo'}],\n",
       "        'thesaurusLinks': [{'entry_id': 'acknowledgement',\n",
       "          'sense_id': 't_en_gb0000184.002'}]}],\n",
       "      'variantForms': [{'text': 'hallo'}, {'text': 'hullo'}]}],\n",
       "    'language': 'en-gb',\n",
       "    'lexicalCategory': {'id': 'noun', 'text': 'Noun'},\n",
       "    'text': 'hello'},\n",
       "   {'entries': [{'grammaticalFeatures': [{'id': 'intransitive',\n",
       "        'text': 'Intransitive',\n",
       "        'type': 'Subcategorization'}],\n",
       "      'inflections': [{'grammaticalFeatures': [{'id': 'intransitive',\n",
       "          'text': 'Intransitive',\n",
       "          'type': 'Subcategorization'}],\n",
       "        'inflectedForm': 'helloes'},\n",
       "       {'grammaticalFeatures': [{'id': 'intransitive',\n",
       "          'text': 'Intransitive',\n",
       "          'type': 'Subcategorization'}],\n",
       "        'inflectedForm': 'helloing'},\n",
       "       {'grammaticalFeatures': [{'id': 'intransitive',\n",
       "          'text': 'Intransitive',\n",
       "          'type': 'Subcategorization'}],\n",
       "        'inflectedForm': 'helloed'}],\n",
       "      'pronunciations': [{'audioFile': 'https://audio.oxforddictionaries.com/en/mp3/hello__gb_1.mp3',\n",
       "        'dialects': ['British English'],\n",
       "        'phoneticNotation': 'IPA',\n",
       "        'phoneticSpelling': 'həˈləʊ'},\n",
       "       {'audioFile': 'https://audio.oxforddictionaries.com/en/mp3/hello__gb_2.mp3',\n",
       "        'dialects': ['British English'],\n",
       "        'phoneticNotation': 'IPA',\n",
       "        'phoneticSpelling': 'hɛˈləʊ'}],\n",
       "      'senses': [{'definitions': ['say or shout ‘hello’'],\n",
       "        'examples': [{'text': 'I pressed the phone button and helloed'}],\n",
       "        'id': 'm_en_gbus0460730.034',\n",
       "        'shortDefinitions': ['say or shout ‘hello’']}],\n",
       "      'variantForms': [{'text': 'hallo'}, {'text': 'hullo'}]}],\n",
       "    'language': 'en-gb',\n",
       "    'lexicalCategory': {'id': 'verb', 'text': 'Verb'},\n",
       "    'text': 'hello'}],\n",
       "  'type': 'headword',\n",
       "  'word': 'hello'}]"
      ]
     },
     "execution_count": 7,
     "metadata": {},
     "output_type": "execute_result"
    }
   ],
   "source": [
    "r['results']"
   ]
  },
  {
   "cell_type": "code",
   "execution_count": 9,
   "metadata": {},
   "outputs": [
    {
     "data": {
      "text/plain": [
       "{'id': 'hello',\n",
       " 'language': 'en-gb',\n",
       " 'lexicalEntries': [{'entries': [{'etymologies': ['early 19th century: variant of earlier hollo; related to holla'],\n",
       "     'pronunciations': [{'audioFile': 'https://audio.oxforddictionaries.com/en/mp3/hello__gb_1.mp3',\n",
       "       'dialects': ['British English'],\n",
       "       'phoneticNotation': 'IPA',\n",
       "       'phoneticSpelling': 'həˈləʊ'},\n",
       "      {'audioFile': 'https://audio.oxforddictionaries.com/en/mp3/hello__gb_2.mp3',\n",
       "       'dialects': ['British English'],\n",
       "       'phoneticNotation': 'IPA',\n",
       "       'phoneticSpelling': 'hɛˈləʊ'}],\n",
       "     'senses': [{'definitions': ['used as a greeting or to begin a phone conversation'],\n",
       "       'examples': [{'text': 'hello there, Katie!'}],\n",
       "       'id': 'm_en_gbus0460730.012',\n",
       "       'shortDefinitions': ['used as greeting'],\n",
       "       'subsenses': [{'definitions': ['used to express surprise'],\n",
       "         'examples': [{'text': \"hello, what's all this then?\"}],\n",
       "         'id': 'm_en_gbus0460730.017',\n",
       "         'regions': [{'id': 'british', 'text': 'British'}],\n",
       "         'shortDefinitions': ['used to express surprise']},\n",
       "        {'definitions': [\"used as a cry to attract someone's attention\"],\n",
       "         'examples': [{'text': '‘Hello below!’ he cried'}],\n",
       "         'id': 'm_en_gbus0460730.018',\n",
       "         'shortDefinitions': ['used attract attention']},\n",
       "        {'definitions': ['used informally to express sarcasm or anger'],\n",
       "         'examples': [{'text': 'Hello! Did you even get what the play was about?'}],\n",
       "         'id': 'm_en_gbus0460730.019',\n",
       "         'shortDefinitions': ['used informally to express sarcasm or anger']}]}],\n",
       "     'variantForms': [{'text': 'hallo'}, {'text': 'hullo'}]}],\n",
       "   'language': 'en-gb',\n",
       "   'lexicalCategory': {'id': 'interjection', 'text': 'Interjection'},\n",
       "   'text': 'hello'},\n",
       "  {'entries': [{'inflections': [{'grammaticalFeatures': [{'id': 'plural',\n",
       "         'text': 'Plural',\n",
       "         'type': 'Number'}],\n",
       "       'inflectedForm': 'hellos'}],\n",
       "     'pronunciations': [{'audioFile': 'https://audio.oxforddictionaries.com/en/mp3/hello__gb_1.mp3',\n",
       "       'dialects': ['British English'],\n",
       "       'phoneticNotation': 'IPA',\n",
       "       'phoneticSpelling': 'həˈləʊ'},\n",
       "      {'audioFile': 'https://audio.oxforddictionaries.com/en/mp3/hello__gb_2.mp3',\n",
       "       'dialects': ['British English'],\n",
       "       'phoneticNotation': 'IPA',\n",
       "       'phoneticSpelling': 'hɛˈləʊ'}],\n",
       "     'senses': [{'definitions': ['an utterance of ‘hello’; a greeting'],\n",
       "       'examples': [{'text': 'she was getting polite nods and hellos from people'}],\n",
       "       'id': 'm_en_gbus0460730.025',\n",
       "       'semanticClasses': [{'id': 'greeting', 'text': 'Greeting'}],\n",
       "       'shortDefinitions': ['utterance of ‘hello’'],\n",
       "       'synonyms': [{'language': 'en', 'text': 'greeting'},\n",
       "        {'language': 'en', 'text': 'welcome'},\n",
       "        {'language': 'en', 'text': 'salutation'},\n",
       "        {'language': 'en', 'text': 'saluting'},\n",
       "        {'language': 'en', 'text': 'hailing'},\n",
       "        {'language': 'en', 'text': 'address'},\n",
       "        {'language': 'en', 'text': 'hello'},\n",
       "        {'language': 'en', 'text': 'hallo'}],\n",
       "       'thesaurusLinks': [{'entry_id': 'acknowledgement',\n",
       "         'sense_id': 't_en_gb0000184.002'}]}],\n",
       "     'variantForms': [{'text': 'hallo'}, {'text': 'hullo'}]}],\n",
       "   'language': 'en-gb',\n",
       "   'lexicalCategory': {'id': 'noun', 'text': 'Noun'},\n",
       "   'text': 'hello'},\n",
       "  {'entries': [{'grammaticalFeatures': [{'id': 'intransitive',\n",
       "       'text': 'Intransitive',\n",
       "       'type': 'Subcategorization'}],\n",
       "     'inflections': [{'grammaticalFeatures': [{'id': 'intransitive',\n",
       "         'text': 'Intransitive',\n",
       "         'type': 'Subcategorization'}],\n",
       "       'inflectedForm': 'helloes'},\n",
       "      {'grammaticalFeatures': [{'id': 'intransitive',\n",
       "         'text': 'Intransitive',\n",
       "         'type': 'Subcategorization'}],\n",
       "       'inflectedForm': 'helloing'},\n",
       "      {'grammaticalFeatures': [{'id': 'intransitive',\n",
       "         'text': 'Intransitive',\n",
       "         'type': 'Subcategorization'}],\n",
       "       'inflectedForm': 'helloed'}],\n",
       "     'pronunciations': [{'audioFile': 'https://audio.oxforddictionaries.com/en/mp3/hello__gb_1.mp3',\n",
       "       'dialects': ['British English'],\n",
       "       'phoneticNotation': 'IPA',\n",
       "       'phoneticSpelling': 'həˈləʊ'},\n",
       "      {'audioFile': 'https://audio.oxforddictionaries.com/en/mp3/hello__gb_2.mp3',\n",
       "       'dialects': ['British English'],\n",
       "       'phoneticNotation': 'IPA',\n",
       "       'phoneticSpelling': 'hɛˈləʊ'}],\n",
       "     'senses': [{'definitions': ['say or shout ‘hello’'],\n",
       "       'examples': [{'text': 'I pressed the phone button and helloed'}],\n",
       "       'id': 'm_en_gbus0460730.034',\n",
       "       'shortDefinitions': ['say or shout ‘hello’']}],\n",
       "     'variantForms': [{'text': 'hallo'}, {'text': 'hullo'}]}],\n",
       "   'language': 'en-gb',\n",
       "   'lexicalCategory': {'id': 'verb', 'text': 'Verb'},\n",
       "   'text': 'hello'}],\n",
       " 'type': 'headword',\n",
       " 'word': 'hello'}"
      ]
     },
     "execution_count": 9,
     "metadata": {},
     "output_type": "execute_result"
    }
   ],
   "source": [
    "r['results'][0]"
   ]
  },
  {
   "cell_type": "code",
   "execution_count": 10,
   "metadata": {},
   "outputs": [
    {
     "data": {
      "text/plain": [
       "dict_keys(['id', 'language', 'lexicalEntries', 'type', 'word'])"
      ]
     },
     "execution_count": 10,
     "metadata": {},
     "output_type": "execute_result"
    }
   ],
   "source": [
    "r['results'][0].keys()"
   ]
  },
  {
   "cell_type": "code",
   "execution_count": 11,
   "metadata": {},
   "outputs": [
    {
     "data": {
      "text/plain": [
       "'hello'"
      ]
     },
     "execution_count": 11,
     "metadata": {},
     "output_type": "execute_result"
    }
   ],
   "source": [
    "r['results'][0]['id']"
   ]
  },
  {
   "cell_type": "code",
   "execution_count": 12,
   "metadata": {},
   "outputs": [
    {
     "data": {
      "text/plain": [
       "'en-gb'"
      ]
     },
     "execution_count": 12,
     "metadata": {},
     "output_type": "execute_result"
    }
   ],
   "source": [
    "r['results'][0]['language']"
   ]
  },
  {
   "cell_type": "code",
   "execution_count": null,
   "metadata": {},
   "outputs": [
    {
     "data": {
      "text/plain": [
       "'headword'"
      ]
     },
     "metadata": {},
     "output_type": "display_data"
    }
   ],
   "source": [
    "r['results'][0]['type']"
   ]
  },
  {
   "cell_type": "code",
   "execution_count": null,
   "metadata": {},
   "outputs": [
    {
     "data": {
      "text/plain": [
       "'hello'"
      ]
     },
     "metadata": {},
     "output_type": "display_data"
    }
   ],
   "source": [
    "r['results'][0]['word']"
   ]
  },
  {
   "cell_type": "code",
   "execution_count": 15,
   "metadata": {},
   "outputs": [
    {
     "data": {
      "text/plain": [
       "[{'entries': [{'etymologies': ['early 19th century: variant of earlier hollo; related to holla'],\n",
       "    'pronunciations': [{'audioFile': 'https://audio.oxforddictionaries.com/en/mp3/hello__gb_1.mp3',\n",
       "      'dialects': ['British English'],\n",
       "      'phoneticNotation': 'IPA',\n",
       "      'phoneticSpelling': 'həˈləʊ'},\n",
       "     {'audioFile': 'https://audio.oxforddictionaries.com/en/mp3/hello__gb_2.mp3',\n",
       "      'dialects': ['British English'],\n",
       "      'phoneticNotation': 'IPA',\n",
       "      'phoneticSpelling': 'hɛˈləʊ'}],\n",
       "    'senses': [{'definitions': ['used as a greeting or to begin a phone conversation'],\n",
       "      'examples': [{'text': 'hello there, Katie!'}],\n",
       "      'id': 'm_en_gbus0460730.012',\n",
       "      'shortDefinitions': ['used as greeting'],\n",
       "      'subsenses': [{'definitions': ['used to express surprise'],\n",
       "        'examples': [{'text': \"hello, what's all this then?\"}],\n",
       "        'id': 'm_en_gbus0460730.017',\n",
       "        'regions': [{'id': 'british', 'text': 'British'}],\n",
       "        'shortDefinitions': ['used to express surprise']},\n",
       "       {'definitions': [\"used as a cry to attract someone's attention\"],\n",
       "        'examples': [{'text': '‘Hello below!’ he cried'}],\n",
       "        'id': 'm_en_gbus0460730.018',\n",
       "        'shortDefinitions': ['used attract attention']},\n",
       "       {'definitions': ['used informally to express sarcasm or anger'],\n",
       "        'examples': [{'text': 'Hello! Did you even get what the play was about?'}],\n",
       "        'id': 'm_en_gbus0460730.019',\n",
       "        'shortDefinitions': ['used informally to express sarcasm or anger']}]}],\n",
       "    'variantForms': [{'text': 'hallo'}, {'text': 'hullo'}]}],\n",
       "  'language': 'en-gb',\n",
       "  'lexicalCategory': {'id': 'interjection', 'text': 'Interjection'},\n",
       "  'text': 'hello'},\n",
       " {'entries': [{'inflections': [{'grammaticalFeatures': [{'id': 'plural',\n",
       "        'text': 'Plural',\n",
       "        'type': 'Number'}],\n",
       "      'inflectedForm': 'hellos'}],\n",
       "    'pronunciations': [{'audioFile': 'https://audio.oxforddictionaries.com/en/mp3/hello__gb_1.mp3',\n",
       "      'dialects': ['British English'],\n",
       "      'phoneticNotation': 'IPA',\n",
       "      'phoneticSpelling': 'həˈləʊ'},\n",
       "     {'audioFile': 'https://audio.oxforddictionaries.com/en/mp3/hello__gb_2.mp3',\n",
       "      'dialects': ['British English'],\n",
       "      'phoneticNotation': 'IPA',\n",
       "      'phoneticSpelling': 'hɛˈləʊ'}],\n",
       "    'senses': [{'definitions': ['an utterance of ‘hello’; a greeting'],\n",
       "      'examples': [{'text': 'she was getting polite nods and hellos from people'}],\n",
       "      'id': 'm_en_gbus0460730.025',\n",
       "      'semanticClasses': [{'id': 'greeting', 'text': 'Greeting'}],\n",
       "      'shortDefinitions': ['utterance of ‘hello’'],\n",
       "      'synonyms': [{'language': 'en', 'text': 'greeting'},\n",
       "       {'language': 'en', 'text': 'welcome'},\n",
       "       {'language': 'en', 'text': 'salutation'},\n",
       "       {'language': 'en', 'text': 'saluting'},\n",
       "       {'language': 'en', 'text': 'hailing'},\n",
       "       {'language': 'en', 'text': 'address'},\n",
       "       {'language': 'en', 'text': 'hello'},\n",
       "       {'language': 'en', 'text': 'hallo'}],\n",
       "      'thesaurusLinks': [{'entry_id': 'acknowledgement',\n",
       "        'sense_id': 't_en_gb0000184.002'}]}],\n",
       "    'variantForms': [{'text': 'hallo'}, {'text': 'hullo'}]}],\n",
       "  'language': 'en-gb',\n",
       "  'lexicalCategory': {'id': 'noun', 'text': 'Noun'},\n",
       "  'text': 'hello'},\n",
       " {'entries': [{'grammaticalFeatures': [{'id': 'intransitive',\n",
       "      'text': 'Intransitive',\n",
       "      'type': 'Subcategorization'}],\n",
       "    'inflections': [{'grammaticalFeatures': [{'id': 'intransitive',\n",
       "        'text': 'Intransitive',\n",
       "        'type': 'Subcategorization'}],\n",
       "      'inflectedForm': 'helloes'},\n",
       "     {'grammaticalFeatures': [{'id': 'intransitive',\n",
       "        'text': 'Intransitive',\n",
       "        'type': 'Subcategorization'}],\n",
       "      'inflectedForm': 'helloing'},\n",
       "     {'grammaticalFeatures': [{'id': 'intransitive',\n",
       "        'text': 'Intransitive',\n",
       "        'type': 'Subcategorization'}],\n",
       "      'inflectedForm': 'helloed'}],\n",
       "    'pronunciations': [{'audioFile': 'https://audio.oxforddictionaries.com/en/mp3/hello__gb_1.mp3',\n",
       "      'dialects': ['British English'],\n",
       "      'phoneticNotation': 'IPA',\n",
       "      'phoneticSpelling': 'həˈləʊ'},\n",
       "     {'audioFile': 'https://audio.oxforddictionaries.com/en/mp3/hello__gb_2.mp3',\n",
       "      'dialects': ['British English'],\n",
       "      'phoneticNotation': 'IPA',\n",
       "      'phoneticSpelling': 'hɛˈləʊ'}],\n",
       "    'senses': [{'definitions': ['say or shout ‘hello’'],\n",
       "      'examples': [{'text': 'I pressed the phone button and helloed'}],\n",
       "      'id': 'm_en_gbus0460730.034',\n",
       "      'shortDefinitions': ['say or shout ‘hello’']}],\n",
       "    'variantForms': [{'text': 'hallo'}, {'text': 'hullo'}]}],\n",
       "  'language': 'en-gb',\n",
       "  'lexicalCategory': {'id': 'verb', 'text': 'Verb'},\n",
       "  'text': 'hello'}]"
      ]
     },
     "execution_count": 15,
     "metadata": {},
     "output_type": "execute_result"
    }
   ],
   "source": [
    "r['results'][0]['lexicalEntries']"
   ]
  },
  {
   "cell_type": "code",
   "execution_count": 16,
   "metadata": {},
   "outputs": [
    {
     "data": {
      "text/plain": [
       "{'entries': [{'etymologies': ['early 19th century: variant of earlier hollo; related to holla'],\n",
       "   'pronunciations': [{'audioFile': 'https://audio.oxforddictionaries.com/en/mp3/hello__gb_1.mp3',\n",
       "     'dialects': ['British English'],\n",
       "     'phoneticNotation': 'IPA',\n",
       "     'phoneticSpelling': 'həˈləʊ'},\n",
       "    {'audioFile': 'https://audio.oxforddictionaries.com/en/mp3/hello__gb_2.mp3',\n",
       "     'dialects': ['British English'],\n",
       "     'phoneticNotation': 'IPA',\n",
       "     'phoneticSpelling': 'hɛˈləʊ'}],\n",
       "   'senses': [{'definitions': ['used as a greeting or to begin a phone conversation'],\n",
       "     'examples': [{'text': 'hello there, Katie!'}],\n",
       "     'id': 'm_en_gbus0460730.012',\n",
       "     'shortDefinitions': ['used as greeting'],\n",
       "     'subsenses': [{'definitions': ['used to express surprise'],\n",
       "       'examples': [{'text': \"hello, what's all this then?\"}],\n",
       "       'id': 'm_en_gbus0460730.017',\n",
       "       'regions': [{'id': 'british', 'text': 'British'}],\n",
       "       'shortDefinitions': ['used to express surprise']},\n",
       "      {'definitions': [\"used as a cry to attract someone's attention\"],\n",
       "       'examples': [{'text': '‘Hello below!’ he cried'}],\n",
       "       'id': 'm_en_gbus0460730.018',\n",
       "       'shortDefinitions': ['used attract attention']},\n",
       "      {'definitions': ['used informally to express sarcasm or anger'],\n",
       "       'examples': [{'text': 'Hello! Did you even get what the play was about?'}],\n",
       "       'id': 'm_en_gbus0460730.019',\n",
       "       'shortDefinitions': ['used informally to express sarcasm or anger']}]}],\n",
       "   'variantForms': [{'text': 'hallo'}, {'text': 'hullo'}]}],\n",
       " 'language': 'en-gb',\n",
       " 'lexicalCategory': {'id': 'interjection', 'text': 'Interjection'},\n",
       " 'text': 'hello'}"
      ]
     },
     "execution_count": 16,
     "metadata": {},
     "output_type": "execute_result"
    }
   ],
   "source": [
    "r['results'][0]['lexicalEntries'][0]"
   ]
  },
  {
   "cell_type": "code",
   "execution_count": 18,
   "metadata": {},
   "outputs": [
    {
     "data": {
      "text/plain": [
       "dict_keys(['entries', 'language', 'lexicalCategory', 'text'])"
      ]
     },
     "execution_count": 18,
     "metadata": {},
     "output_type": "execute_result"
    }
   ],
   "source": [
    "r['results'][0]['lexicalEntries'][0].keys()"
   ]
  },
  {
   "cell_type": "code",
   "execution_count": 17,
   "metadata": {},
   "outputs": [
    {
     "data": {
      "text/plain": [
       "[{'etymologies': ['early 19th century: variant of earlier hollo; related to holla'],\n",
       "  'pronunciations': [{'audioFile': 'https://audio.oxforddictionaries.com/en/mp3/hello__gb_1.mp3',\n",
       "    'dialects': ['British English'],\n",
       "    'phoneticNotation': 'IPA',\n",
       "    'phoneticSpelling': 'həˈləʊ'},\n",
       "   {'audioFile': 'https://audio.oxforddictionaries.com/en/mp3/hello__gb_2.mp3',\n",
       "    'dialects': ['British English'],\n",
       "    'phoneticNotation': 'IPA',\n",
       "    'phoneticSpelling': 'hɛˈləʊ'}],\n",
       "  'senses': [{'definitions': ['used as a greeting or to begin a phone conversation'],\n",
       "    'examples': [{'text': 'hello there, Katie!'}],\n",
       "    'id': 'm_en_gbus0460730.012',\n",
       "    'shortDefinitions': ['used as greeting'],\n",
       "    'subsenses': [{'definitions': ['used to express surprise'],\n",
       "      'examples': [{'text': \"hello, what's all this then?\"}],\n",
       "      'id': 'm_en_gbus0460730.017',\n",
       "      'regions': [{'id': 'british', 'text': 'British'}],\n",
       "      'shortDefinitions': ['used to express surprise']},\n",
       "     {'definitions': [\"used as a cry to attract someone's attention\"],\n",
       "      'examples': [{'text': '‘Hello below!’ he cried'}],\n",
       "      'id': 'm_en_gbus0460730.018',\n",
       "      'shortDefinitions': ['used attract attention']},\n",
       "     {'definitions': ['used informally to express sarcasm or anger'],\n",
       "      'examples': [{'text': 'Hello! Did you even get what the play was about?'}],\n",
       "      'id': 'm_en_gbus0460730.019',\n",
       "      'shortDefinitions': ['used informally to express sarcasm or anger']}]}],\n",
       "  'variantForms': [{'text': 'hallo'}, {'text': 'hullo'}]}]"
      ]
     },
     "execution_count": 17,
     "metadata": {},
     "output_type": "execute_result"
    }
   ],
   "source": [
    "r['results'][0]['lexicalEntries'][0]['entries']"
   ]
  },
  {
   "cell_type": "code",
   "execution_count": 20,
   "metadata": {},
   "outputs": [
    {
     "data": {
      "text/plain": [
       "dict_keys(['etymologies', 'pronunciations', 'senses', 'variantForms'])"
      ]
     },
     "execution_count": 20,
     "metadata": {},
     "output_type": "execute_result"
    }
   ],
   "source": [
    "r['results'][0]['lexicalEntries'][0]['entries'][0].keys()"
   ]
  },
  {
   "cell_type": "code",
   "execution_count": 21,
   "metadata": {},
   "outputs": [
    {
     "data": {
      "text/plain": [
       "[{'definitions': ['used as a greeting or to begin a phone conversation'],\n",
       "  'examples': [{'text': 'hello there, Katie!'}],\n",
       "  'id': 'm_en_gbus0460730.012',\n",
       "  'shortDefinitions': ['used as greeting'],\n",
       "  'subsenses': [{'definitions': ['used to express surprise'],\n",
       "    'examples': [{'text': \"hello, what's all this then?\"}],\n",
       "    'id': 'm_en_gbus0460730.017',\n",
       "    'regions': [{'id': 'british', 'text': 'British'}],\n",
       "    'shortDefinitions': ['used to express surprise']},\n",
       "   {'definitions': [\"used as a cry to attract someone's attention\"],\n",
       "    'examples': [{'text': '‘Hello below!’ he cried'}],\n",
       "    'id': 'm_en_gbus0460730.018',\n",
       "    'shortDefinitions': ['used attract attention']},\n",
       "   {'definitions': ['used informally to express sarcasm or anger'],\n",
       "    'examples': [{'text': 'Hello! Did you even get what the play was about?'}],\n",
       "    'id': 'm_en_gbus0460730.019',\n",
       "    'shortDefinitions': ['used informally to express sarcasm or anger']}]}]"
      ]
     },
     "execution_count": 21,
     "metadata": {},
     "output_type": "execute_result"
    }
   ],
   "source": [
    "r['results'][0]['lexicalEntries'][0]['entries'][0]['senses']"
   ]
  },
  {
   "cell_type": "code",
   "execution_count": 22,
   "metadata": {},
   "outputs": [
    {
     "data": {
      "text/plain": [
       "dict_keys(['definitions', 'examples', 'id', 'shortDefinitions', 'subsenses'])"
      ]
     },
     "execution_count": 22,
     "metadata": {},
     "output_type": "execute_result"
    }
   ],
   "source": [
    "r['results'][0]['lexicalEntries'][0]['entries'][0]['senses'][0].keys()"
   ]
  },
  {
   "cell_type": "code",
   "execution_count": 23,
   "metadata": {},
   "outputs": [
    {
     "data": {
      "text/plain": [
       "['used as a greeting or to begin a phone conversation']"
      ]
     },
     "execution_count": 23,
     "metadata": {},
     "output_type": "execute_result"
    }
   ],
   "source": [
    "r['results'][0]['lexicalEntries'][0]['entries'][0]['senses'][0]['definitions']"
   ]
  },
  {
   "cell_type": "code",
   "execution_count": 24,
   "metadata": {},
   "outputs": [
    {
     "data": {
      "text/plain": [
       "'used as a greeting or to begin a phone conversation'"
      ]
     },
     "execution_count": 24,
     "metadata": {},
     "output_type": "execute_result"
    }
   ],
   "source": [
    "r['results'][0]['lexicalEntries'][0]['entries'][0]['senses'][0]['definitions'][0]"
   ]
  },
  {
   "cell_type": "markdown",
   "metadata": {},
   "source": [
    "#### **`Ejemplo 2`**"
   ]
  },
  {
   "cell_type": "markdown",
   "metadata": {},
   "source": [
    "Este código está correcto, probar en algun minuto, dado que al momento de probarlo arrojaba error"
   ]
  },
  {
   "cell_type": "code",
   "execution_count": null,
   "metadata": {},
   "outputs": [],
   "source": [
    "import requests\n",
    "import json\n",
    "\n",
    "app_id = \"3410023e\"\n",
    "app_key = \"6f82faaee87b2b823916b58f72f648b6\"\n",
    "language = \"en-gb\"\n",
    "words = ['car', 'name', 'walk', 'use']\n",
    "\n",
    "for word_id in words:\n",
    "    url = \"https://od-api.oxforddictionaries.com:443/api/v2/entries/\" + language + \"/\" + word_id.lower()\n",
    "    response = requests.get(url, headers={'app_id': app_id, 'app_key': app_key})\n",
    "    print(word_id)\n",
    "    print(\"code {}\\n\".format(response.status_code))\n",
    "    r = json.loads(response.text)\n",
    "    definicion = r['results'][0]['lexicalEntries'][0]['entries'][0]['senses'][0]['definitions'][0]\n",
    "    print(f'Definicion: {definicion}')"
   ]
  },
  {
   "cell_type": "markdown",
   "metadata": {},
   "source": [
    "- Podriamos manejar el codigo si presenta error utilizanfo IF-ELSE\n",
    "- Al momento nos devuelve que las palabras en la lista no tienen significado, de seguro es por problema del token\n",
    "- El codigo está correcto"
   ]
  },
  {
   "cell_type": "code",
   "execution_count": 16,
   "metadata": {},
   "outputs": [
    {
     "name": "stdout",
     "output_type": "stream",
     "text": [
      "--------------------------------------Palabra = car---------------------------------------\n",
      "code 429\n",
      "Not found\n",
      "--------------------------------------Palabra = name--------------------------------------\n",
      "code 429\n",
      "Not found\n",
      "--------------------------------------Palabra = walk--------------------------------------\n",
      "code 429\n",
      "Not found\n",
      "--------------------------------------Palabra = use---------------------------------------\n",
      "code 429\n",
      "Not found\n"
     ]
    }
   ],
   "source": [
    "import requests\n",
    "import json\n",
    "\n",
    "app_id = \"3410023e\"\n",
    "app_key = \"6f82faaee87b2b823916b58f72f648b6\"\n",
    "language = \"en-gb\"\n",
    "words = ['car', 'name', 'walk', 'use']\n",
    "\n",
    "for word_id in words:\n",
    "    url = \"https://od-api.oxforddictionaries.com:443/api/v2/entries/\" + language + \"/\" + word_id.lower()\n",
    "    response = requests.get(url, headers={'app_id': app_id, 'app_key': app_key})\n",
    "    print(f'Palabra = {word_id}'.center(90,'-'))\n",
    "    print(\"code {}\".format(response.status_code))\n",
    "    if response.status_code != 200:\n",
    "        print('Not found')\n",
    "    else:\n",
    "        r = json.loads(response.text)\n",
    "        definicion = r['results'][0]['lexicalEntries'][0]['entries'][0]['senses'][0]['definitions'][0]\n",
    "        print(f'Definicion: {definicion}')"
   ]
  }
 ],
 "metadata": {
  "kernelspec": {
   "display_name": "base",
   "language": "python",
   "name": "python3"
  },
  "language_info": {
   "codemirror_mode": {
    "name": "ipython",
    "version": 3
   },
   "file_extension": ".py",
   "mimetype": "text/x-python",
   "name": "python",
   "nbconvert_exporter": "python",
   "pygments_lexer": "ipython3",
   "version": "3.9.5"
  }
 },
 "nbformat": 4,
 "nbformat_minor": 2
}
